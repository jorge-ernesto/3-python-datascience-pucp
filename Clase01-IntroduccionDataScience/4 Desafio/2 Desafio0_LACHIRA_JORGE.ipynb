{
  "cells": [
    {
      "cell_type": "markdown",
      "metadata": {
        "id": "DyrXknmySOUI"
      },
      "source": [
        "# Curso de Capacitación en Python para Data Science - Desafío 0 - Sesión 1\n",
        "\n",
        "<img src='https://www.danielsaromo.xyz/assets/img/logo-pucp.png' width=200px>\n",
        "\n",
        "\n",
        "B.Sc. Stev Huamán"
      ]
    },
    {
      "cell_type": "markdown",
      "metadata": {
        "id": "HWV9A-zMtpFg"
      },
      "source": [
        "<font color='#33FFEE'> Introducción a Google Colaboratory.</font>"
      ]
    },
    {
      "cell_type": "markdown",
      "metadata": {
        "id": "2L_k5LntSV-8"
      },
      "source": [
        "<font color='black'> Este desafío NO es calificado. </font>"
      ]
    },
    {
      "cell_type": "markdown",
      "metadata": {
        "id": "xPNxdZeyJnQ6"
      },
      "source": [
        "Completar con su código los campos requeridos y subir su notebook solucionado a la plataforma PAIDEIA. El formato del nombre del notebook es: `Desafio0_APELLIDOPATERNO_NOMBRE.ipynb`.\n",
        "\n",
        "Es responsabilidad del alumno verificar que el archivo que subió es el correcto. Respetar los lineamientos de la entrega de archivo, ya que influirá en su calificación. La fecha límite de entrega del presente desafío se encuentra en PAIDEIA. No se aceptarán entregas luego de haberse publicado el solucionario de la tarea."
      ]
    },
    {
      "cell_type": "markdown",
      "metadata": {
        "id": "hAY9us06hCXW"
      },
      "source": [
        "## Google Colab\n"
      ]
    },
    {
      "cell_type": "markdown",
      "metadata": {
        "id": "s7dXGGJW-FyW"
      },
      "source": [
        "### R: CPU"
      ]
    },
    {
      "cell_type": "markdown",
      "metadata": {
        "id": "-iKWslD0-NKn"
      },
      "source": [
        "Enlace: https://colab.research.google.com/#create=true&language=r\n",
        "\n",
        "Enlace alternativo: https://colab.to/r"
      ]
    },
    {
      "cell_type": "markdown",
      "metadata": {
        "id": "ljYjL5_KxtR5"
      },
      "source": [
        "### Python: CPU Vs GPU Vs TPU"
      ]
    },
    {
      "cell_type": "markdown",
      "metadata": {
        "id": "GWI4yMb3xyzs"
      },
      "source": [
        "[Documentación oficial](https://cloud.google.com/tpu/docs/tpus?hl=es-419)"
      ]
    },
    {
      "cell_type": "markdown",
      "metadata": {
        "id": "yueRAi6dUVXs"
      },
      "source": [
        "### Controles básicos"
      ]
    },
    {
      "cell_type": "markdown",
      "metadata": {
        "id": "25ZgTVToc9bY"
      },
      "source": [
        "Un notebook es ejecutable celda por celda."
      ]
    },
    {
      "cell_type": "code",
      "execution_count": 1,
      "metadata": {
        "colab": {
          "base_uri": "https://localhost:8080/"
        },
        "id": "oW0itOzJfymJ",
        "outputId": "82142d18-16fc-4171-f884-69448bc4715c"
      },
      "outputs": [
        {
          "data": {
            "text/plain": [
              "2"
            ]
          },
          "execution_count": 1,
          "metadata": {},
          "output_type": "execute_result"
        }
      ],
      "source": [
        "1+1"
      ]
    },
    {
      "cell_type": "code",
      "execution_count": 2,
      "metadata": {
        "id": "F-aAQTsW2rpB"
      },
      "outputs": [],
      "source": [
        "import sklearn"
      ]
    },
    {
      "cell_type": "code",
      "execution_count": 3,
      "metadata": {
        "colab": {
          "base_uri": "https://localhost:8080/"
        },
        "id": "izkv4T9QSB_T",
        "outputId": "f789697f-777a-4d54-84aa-a1e6abd90370"
      },
      "outputs": [
        {
          "data": {
            "text/plain": [
              "array([0, 1, 2, 3, 4, 5, 6, 7, 8, 9])"
            ]
          },
          "execution_count": 3,
          "metadata": {},
          "output_type": "execute_result"
        }
      ],
      "source": [
        "import numpy as np\n",
        "np.arange(10)"
      ]
    },
    {
      "cell_type": "code",
      "execution_count": 4,
      "metadata": {
        "colab": {
          "base_uri": "https://localhost:8080/",
          "height": 34
        },
        "id": "UVAVw2JQkXhu",
        "outputId": "53829888-8bb1-4e0b-aafa-493f8f044a8a"
      },
      "outputs": [
        {
          "data": {
            "application/javascript": "IPython.notebook.set_autosave_interval(60000)"
          },
          "metadata": {},
          "output_type": "display_data"
        },
        {
          "name": "stdout",
          "output_type": "stream",
          "text": [
            "Autosaving every 60 seconds\n"
          ]
        }
      ],
      "source": [
        "# La función %autosave es específica de Jupyter Notebooks, no es compatible con Visual Studio Code. \n",
        "# En Visual Studio Code, se puede configurar el guardado automático a través de la configuración interna del editor.\n",
        "%autosave 60"
      ]
    },
    {
      "cell_type": "code",
      "execution_count": 5,
      "metadata": {
        "id": "kwTs1HY9kU7o"
      },
      "outputs": [],
      "source": [
        "%matplotlib inline"
      ]
    },
    {
      "cell_type": "code",
      "execution_count": 6,
      "metadata": {
        "colab": {
          "base_uri": "https://localhost:8080/",
          "height": 472
        },
        "id": "mP03fIpGaYX3",
        "outputId": "fa578858-f130-419a-ef19-3acb35e2b348"
      },
      "outputs": [
        {
          "data": {
            "image/png": "[encoded data removed]",
            "text/plain": [
              "<Figure size 640x480 with 1 Axes>"
            ]
          },
          "metadata": {},
          "output_type": "display_data"
        }
      ],
      "source": [
        "import matplotlib.pyplot as plt\n",
        "import numpy as np\n",
        "import math\n",
        "\n",
        "def sigmoid(x):\n",
        "  return 1 / (1 + np.exp(-x))\n",
        "\n",
        "x = np.linspace(-10, 10, 100)\n",
        "\n",
        "plt.plot(x, sigmoid(x), label='sigmoid', linestyle=\"dashed\")  # dashed, linea discontinua\n",
        "plt.plot(x, np.tanh(x), label='tanh', alpha=0.75)             # alpha, linea opacidad 75%\n",
        "plt.plot(x, np.arctan(x), label='atan', linestyle=\":\")        # :, linea punteada\n",
        "\n",
        "plt.xlabel(\"x\")\n",
        "plt.ylabel(r\"$\\sigma (x)$\")\n",
        "\n",
        "plt.grid(True)\n",
        "plt.title('Some activation functions')\n",
        "plt.legend()\n",
        "plt.show()"
      ]
    },
    {
      "cell_type": "code",
      "execution_count": 7,
      "metadata": {},
      "outputs": [
        {
          "name": "stdout",
          "output_type": "stream",
          "text": [
            "x = \n",
            "[-10.          -9.7979798   -9.5959596   -9.39393939  -9.19191919\n",
            "  -8.98989899  -8.78787879  -8.58585859  -8.38383838  -8.18181818\n",
            "  -7.97979798  -7.77777778  -7.57575758  -7.37373737  -7.17171717\n",
            "  -6.96969697  -6.76767677  -6.56565657  -6.36363636  -6.16161616\n",
            "  -5.95959596  -5.75757576  -5.55555556  -5.35353535  -5.15151515\n",
            "  -4.94949495  -4.74747475  -4.54545455  -4.34343434  -4.14141414\n",
            "  -3.93939394  -3.73737374  -3.53535354  -3.33333333  -3.13131313\n",
            "  -2.92929293  -2.72727273  -2.52525253  -2.32323232  -2.12121212\n",
            "  -1.91919192  -1.71717172  -1.51515152  -1.31313131  -1.11111111\n",
            "  -0.90909091  -0.70707071  -0.50505051  -0.3030303   -0.1010101\n",
            "   0.1010101    0.3030303    0.50505051   0.70707071   0.90909091\n",
            "   1.11111111   1.31313131   1.51515152   1.71717172   1.91919192\n",
            "   2.12121212   2.32323232   2.52525253   2.72727273   2.92929293\n",
            "   3.13131313   3.33333333   3.53535354   3.73737374   3.93939394\n",
            "   4.14141414   4.34343434   4.54545455   4.74747475   4.94949495\n",
            "   5.15151515   5.35353535   5.55555556   5.75757576   5.95959596\n",
            "   6.16161616   6.36363636   6.56565657   6.76767677   6.96969697\n",
            "   7.17171717   7.37373737   7.57575758   7.77777778   7.97979798\n",
            "   8.18181818   8.38383838   8.58585859   8.78787879   8.98989899\n",
            "   9.19191919   9.39393939   9.5959596    9.7979798   10.        ]\n",
            "\n",
            "sigmoid(x) = \n",
            "[4.53978687e-05 5.55606489e-05 6.79983174e-05 8.32200197e-05\n",
            " 1.01848815e-04 1.24647146e-04 1.52547986e-04 1.86692945e-04\n",
            " 2.28478855e-04 2.79614739e-04 3.42191434e-04 4.18766684e-04\n",
            " 5.12469082e-04 6.27124987e-04 7.67413430e-04 9.39055039e-04\n",
            " 1.14904229e-03 1.40591988e-03 1.72012560e-03 2.10440443e-03\n",
            " 2.57431039e-03 3.14881358e-03 3.85103236e-03 4.70911357e-03\n",
            " 5.75728612e-03 7.03711536e-03 8.59898661e-03 1.05038445e-02\n",
            " 1.28252101e-02 1.56514861e-02 1.90885420e-02 2.32625358e-02\n",
            " 2.83228820e-02 3.44451957e-02 4.18339400e-02 5.07243606e-02\n",
            " 6.13831074e-02 7.41067363e-02 8.92170603e-02 1.07052146e-01\n",
            " 1.27951705e-01 1.52235823e-01 1.80176593e-01 2.11963334e-01\n",
            " 2.47663801e-01 2.87185901e-01 3.30246430e-01 3.76354517e-01\n",
            " 4.24816868e-01 4.74768924e-01 5.25231076e-01 5.75183132e-01\n",
            " 6.23645483e-01 6.69753570e-01 7.12814099e-01 7.52336199e-01\n",
            " 7.88036666e-01 8.19823407e-01 8.47764177e-01 8.72048295e-01\n",
            " 8.92947854e-01 9.10782940e-01 9.25893264e-01 9.38616893e-01\n",
            " 9.49275639e-01 9.58166060e-01 9.65554804e-01 9.71677118e-01\n",
            " 9.76737464e-01 9.80911458e-01 9.84348514e-01 9.87174790e-01\n",
            " 9.89496155e-01 9.91401013e-01 9.92962885e-01 9.94242714e-01\n",
            " 9.95290886e-01 9.96148968e-01 9.96851186e-01 9.97425690e-01\n",
            " 9.97895596e-01 9.98279874e-01 9.98594080e-01 9.98850958e-01\n",
            " 9.99060945e-01 9.99232587e-01 9.99372875e-01 9.99487531e-01\n",
            " 9.99581233e-01 9.99657809e-01 9.99720385e-01 9.99771521e-01\n",
            " 9.99813307e-01 9.99847452e-01 9.99875353e-01 9.99898151e-01\n",
            " 9.99916780e-01 9.99932002e-01 9.99944439e-01 9.99954602e-01]\n",
            "\n",
            "np.tanh(x) = \n",
            "[-1.         -0.99999999 -0.99999999 -0.99999999 -0.99999998 -0.99999997\n",
            " -0.99999995 -0.99999993 -0.9999999  -0.99999984 -0.99999977 -0.99999965\n",
            " -0.99999947 -0.99999921 -0.99999882 -0.99999823 -0.99999735 -0.99999604\n",
            " -0.99999406 -0.99999111 -0.99998668 -0.99998004 -0.99997011 -0.99995523\n",
            " -0.99993294 -0.99989955 -0.99984955 -0.99977465 -0.99966248 -0.99949449\n",
            " -0.9992429  -0.99886619 -0.99830218 -0.99745797 -0.99619479 -0.9943057\n",
            " -0.99148279 -0.98726936 -0.98099146 -0.97166188 -0.95785067 -0.93752157\n",
            " -0.90784899 -0.86506558 -0.8044548  -0.72069563 -0.60883666 -0.46607983\n",
            " -0.2940833  -0.10066796  0.10066796  0.2940833   0.46607983  0.60883666\n",
            "  0.72069563  0.8044548   0.86506558  0.90784899  0.93752157  0.95785067\n",
            "  0.97166188  0.98099146  0.98726936  0.99148279  0.9943057   0.99619479\n",
            "  0.99745797  0.99830218  0.99886619  0.9992429   0.99949449  0.99966248\n",
            "  0.99977465  0.99984955  0.99989955  0.99993294  0.99995523  0.99997011\n",
            "  0.99998004  0.99998668  0.99999111  0.99999406  0.99999604  0.99999735\n",
            "  0.99999823  0.99999882  0.99999921  0.99999947  0.99999965  0.99999977\n",
            "  0.99999984  0.9999999   0.99999993  0.99999995  0.99999997  0.99999998\n",
            "  0.99999999  0.99999999  0.99999999  1.        ]\n",
            "\n",
            "np.arctan(x) = \n",
            "[-1.47112767 -1.46908665 -1.4669606  -1.4647441  -1.4624313  -1.46001579\n",
            " -1.45749061 -1.45484815 -1.45208009 -1.4491773  -1.44612976 -1.44292641\n",
            " -1.43955507 -1.43600224 -1.43225298 -1.42829063 -1.42409664 -1.41965024\n",
            " -1.41492813 -1.40990407 -1.40454845 -1.39882764 -1.39270339 -1.38613198\n",
            " -1.37906322 -1.37143922 -1.36319287 -1.35424602 -1.34450708 -1.33386809\n",
            " -1.32220104 -1.30935303 -1.29514017 -1.27933953 -1.26167873 -1.24182196\n",
            " -1.21935153 -1.19374297 -1.16433139 -1.13026599 -1.09044881 -1.04345367\n",
            " -0.98742332 -0.91995141 -0.83798123 -0.73781506 -0.61545566 -0.46767985\n",
            " -0.29423457 -0.10066865  0.10066865  0.29423457  0.46767985  0.61545566\n",
            "  0.73781506  0.83798123  0.91995141  0.98742332  1.04345367  1.09044881\n",
            "  1.13026599  1.16433139  1.19374297  1.21935153  1.24182196  1.26167873\n",
            "  1.27933953  1.29514017  1.30935303  1.32220104  1.33386809  1.34450708\n",
            "  1.35424602  1.36319287  1.37143922  1.37906322  1.38613198  1.39270339\n",
            "  1.39882764  1.40454845  1.40990407  1.41492813  1.41965024  1.42409664\n",
            "  1.42829063  1.43225298  1.43600224  1.43955507  1.44292641  1.44612976\n",
            "  1.4491773   1.45208009  1.45484815  1.45749061  1.46001579  1.4624313\n",
            "  1.4647441   1.4669606   1.46908665  1.47112767]\n",
            "\n"
          ]
        }
      ],
      "source": [
        "# Debug\n",
        "print(f\"x = \\n{x}\\n\")\n",
        "print(f\"sigmoid(x) = \\n{sigmoid(x)}\\n\")\n",
        "print(f\"np.tanh(x) = \\n{np.tanh(x)}\\n\")\n",
        "print(f\"np.arctan(x) = \\n{np.arctan(x)}\\n\")"
      ]
    },
    {
      "cell_type": "code",
      "execution_count": 8,
      "metadata": {
        "colab": {
          "base_uri": "https://localhost:8080/",
          "height": 472
        },
        "id": "EOlR4RRQAVrz",
        "outputId": "dbeb204c-264e-4508-e061-99429934b48b"
      },
      "outputs": [
        {
          "data": {
            "image/png": "[encoded data removed]",
            "text/plain": [
              "<Figure size 640x480 with 1 Axes>"
            ]
          },
          "metadata": {},
          "output_type": "display_data"
        }
      ],
      "source": [
        "import matplotlib.pyplot as plt\n",
        "import numpy as np\n",
        "import math\n",
        "\n",
        "def sigmoid(x):\n",
        "  return 1 / (1 + np.exp(-x))\n",
        "\n",
        "x = np.linspace(-20, 20, 100)\n",
        "\n",
        "plt.plot(x, sigmoid(x)*2-1, label='sigmoid', linestyle=\"dashed\") # dashed, linea discontinua\n",
        "plt.plot(x, np.tanh(x), label='tanh', alpha=0.75)                # alpha, linea opacidad 75%\n",
        "plt.plot(x, np.arctan(x)/np.pi*2, label='atan', linestyle=\":\")   # :, linea punteada\n",
        "\n",
        "plt.xlabel(\"x\")\n",
        "plt.ylabel(r\"$\\sigma (x)$\")\n",
        "\n",
        "plt.grid(True)\n",
        "plt.title('Some activation functions')\n",
        "plt.legend()\n",
        "plt.show()"
      ]
    },
    {
      "cell_type": "code",
      "execution_count": 9,
      "metadata": {},
      "outputs": [
        {
          "name": "stdout",
          "output_type": "stream",
          "text": [
            "x = \n",
            "[-20.         -19.5959596  -19.19191919 -18.78787879 -18.38383838\n",
            " -17.97979798 -17.57575758 -17.17171717 -16.76767677 -16.36363636\n",
            " -15.95959596 -15.55555556 -15.15151515 -14.74747475 -14.34343434\n",
            " -13.93939394 -13.53535354 -13.13131313 -12.72727273 -12.32323232\n",
            " -11.91919192 -11.51515152 -11.11111111 -10.70707071 -10.3030303\n",
            "  -9.8989899   -9.49494949  -9.09090909  -8.68686869  -8.28282828\n",
            "  -7.87878788  -7.47474747  -7.07070707  -6.66666667  -6.26262626\n",
            "  -5.85858586  -5.45454545  -5.05050505  -4.64646465  -4.24242424\n",
            "  -3.83838384  -3.43434343  -3.03030303  -2.62626263  -2.22222222\n",
            "  -1.81818182  -1.41414141  -1.01010101  -0.60606061  -0.2020202\n",
            "   0.2020202    0.60606061   1.01010101   1.41414141   1.81818182\n",
            "   2.22222222   2.62626263   3.03030303   3.43434343   3.83838384\n",
            "   4.24242424   4.64646465   5.05050505   5.45454545   5.85858586\n",
            "   6.26262626   6.66666667   7.07070707   7.47474747   7.87878788\n",
            "   8.28282828   8.68686869   9.09090909   9.49494949   9.8989899\n",
            "  10.3030303   10.70707071  11.11111111  11.51515152  11.91919192\n",
            "  12.32323232  12.72727273  13.13131313  13.53535354  13.93939394\n",
            "  14.34343434  14.74747475  15.15151515  15.55555556  15.95959596\n",
            "  16.36363636  16.76767677  17.17171717  17.57575758  17.97979798\n",
            "  18.38383838  18.78787879  19.19191919  19.5959596   20.        ]\n",
            "\n",
            "sigmoid(x) = \n",
            "[2.06115362e-09 3.08732876e-09 4.62440004e-09 6.92672447e-09\n",
            " 1.03752944e-08 1.55407847e-08 2.32779890e-08 3.48672722e-08\n",
            " 5.22264472e-08 7.82281373e-08 1.17175143e-07 1.75512472e-07\n",
            " 2.62893872e-07 3.93779338e-07 5.89827961e-07 8.83482085e-07\n",
            " 1.32333584e-06 1.98217642e-06 2.96902870e-06 4.44719601e-06\n",
            " 6.66128213e-06 9.97766470e-06 1.49451152e-05 2.23855904e-05\n",
            " 3.35302067e-05 5.02228667e-05 7.52251664e-05 1.12672884e-04\n",
            " 1.68759242e-04 2.52757236e-04 3.78548446e-04 5.66907423e-04\n",
            " 8.48910885e-04 1.27101626e-03 1.90260614e-03 2.84714919e-03\n",
            " 4.25860705e-03 6.36532037e-03 9.50426753e-03 1.41690589e-02\n",
            " 2.10746635e-02 3.12392175e-02 4.60755062e-02 6.74672091e-02\n",
            " 9.77725999e-02 1.39652183e-01 1.95581668e-01 2.66960083e-01\n",
            " 3.52958350e-01 4.49666020e-01 5.50333980e-01 6.47041650e-01\n",
            " 7.33039917e-01 8.04418332e-01 8.60347817e-01 9.02227400e-01\n",
            " 9.32532791e-01 9.53924494e-01 9.68760783e-01 9.78925337e-01\n",
            " 9.85830941e-01 9.90495732e-01 9.93634680e-01 9.95741393e-01\n",
            " 9.97152851e-01 9.98097394e-01 9.98728984e-01 9.99151089e-01\n",
            " 9.99433093e-01 9.99621452e-01 9.99747243e-01 9.99831241e-01\n",
            " 9.99887327e-01 9.99924775e-01 9.99949777e-01 9.99966470e-01\n",
            " 9.99977614e-01 9.99985055e-01 9.99990022e-01 9.99993339e-01\n",
            " 9.99995553e-01 9.99997031e-01 9.99998018e-01 9.99998677e-01\n",
            " 9.99999117e-01 9.99999410e-01 9.99999606e-01 9.99999737e-01\n",
            " 9.99999824e-01 9.99999883e-01 9.99999922e-01 9.99999948e-01\n",
            " 9.99999965e-01 9.99999977e-01 9.99999984e-01 9.99999990e-01\n",
            " 9.99999993e-01 9.99999995e-01 9.99999997e-01 9.99999998e-01]\n",
            "\n",
            "np.tanh(x) = \n",
            "[-1.         -1.         -1.         -1.         -1.         -1.\n",
            " -1.         -1.         -1.         -1.         -1.         -1.\n",
            " -1.         -1.         -1.         -1.         -1.         -1.\n",
            " -1.         -1.         -1.         -1.         -1.         -1.\n",
            " -1.         -0.99999999 -0.99999999 -0.99999997 -0.99999994 -0.99999987\n",
            " -0.99999971 -0.99999936 -0.99999856 -0.99999676 -0.99999273 -0.99998369\n",
            " -0.99996342 -0.99991793 -0.99981587 -0.99958694 -0.99907349 -0.99792248\n",
            " -0.99534489 -0.98958594 -0.97678537 -0.94865683 -0.88837035 -0.76580379\n",
            " -0.54134812 -0.19931604  0.19931604  0.54134812  0.76580379  0.88837035\n",
            "  0.94865683  0.97678537  0.98958594  0.99534489  0.99792248  0.99907349\n",
            "  0.99958694  0.99981587  0.99991793  0.99996342  0.99998369  0.99999273\n",
            "  0.99999676  0.99999856  0.99999936  0.99999971  0.99999987  0.99999994\n",
            "  0.99999997  0.99999999  0.99999999  1.          1.          1.\n",
            "  1.          1.          1.          1.          1.          1.\n",
            "  1.          1.          1.          1.          1.          1.\n",
            "  1.          1.          1.          1.          1.          1.\n",
            "  1.          1.          1.          1.        ]\n",
            "\n",
            "np.arctan(x) = \n",
            "[-1.52083793 -1.51980963 -1.51873814 -1.5176207  -1.51645428 -1.51523559\n",
            " -1.51396105 -1.51262673 -1.51122833 -1.50976112 -1.50821991 -1.50659895\n",
            " -1.50489191 -1.50309175 -1.50119065 -1.49917989 -1.49704971 -1.49478919\n",
            " -1.49238599 -1.4898262  -1.48709405 -1.48417155 -1.48103815 -1.47767025\n",
            " -1.47404057 -1.47011747 -1.46586401 -1.4612368  -1.45618454 -1.45064614\n",
            " -1.44454829 -1.43780224 -1.43029955 -1.42190638 -1.41245561 -1.40173596\n",
            " -1.38947655 -1.37532458 -1.35881239 -1.33930757 -1.31593534 -1.28745404\n",
            " -1.25204877 -1.20697732 -1.1479424  -1.06795312 -0.95529257 -0.79042325\n",
            " -0.54486392 -0.1993373   0.1993373   0.54486392  0.79042325  0.95529257\n",
            "  1.06795312  1.1479424   1.20697732  1.25204877  1.28745404  1.31593534\n",
            "  1.33930757  1.35881239  1.37532458  1.38947655  1.40173596  1.41245561\n",
            "  1.42190638  1.43029955  1.43780224  1.44454829  1.45064614  1.45618454\n",
            "  1.4612368   1.46586401  1.47011747  1.47404057  1.47767025  1.48103815\n",
            "  1.48417155  1.48709405  1.4898262   1.49238599  1.49478919  1.49704971\n",
            "  1.49917989  1.50119065  1.50309175  1.50489191  1.50659895  1.50821991\n",
            "  1.50976112  1.51122833  1.51262673  1.51396105  1.51523559  1.51645428\n",
            "  1.5176207   1.51873814  1.51980963  1.52083793]\n",
            "\n"
          ]
        }
      ],
      "source": [
        "# Debug\n",
        "print(f\"x = \\n{x}\\n\")\n",
        "print(f\"sigmoid(x) = \\n{sigmoid(x)}\\n\")\n",
        "print(f\"np.tanh(x) = \\n{np.tanh(x)}\\n\")\n",
        "print(f\"np.arctan(x) = \\n{np.arctan(x)}\\n\")"
      ]
    },
    {
      "cell_type": "markdown",
      "metadata": {
        "id": "JA6Xs-4XBKIp"
      },
      "source": [
        "## Desafío de la semana (No calificado): Estructuras de datos en Python\n",
        "\n",
        "Enlace: https://docs.python.org/3/tutorial/datastructures.html"
      ]
    },
    {
      "cell_type": "markdown",
      "metadata": {
        "id": "gBsbvZj6JJ8i"
      },
      "source": [
        "### Lista"
      ]
    },
    {
      "cell_type": "code",
      "execution_count": 10,
      "metadata": {
        "id": "ffJDMtsHDW1d"
      },
      "outputs": [
        {
          "data": {
            "text/plain": [
              "[1, 2, 4]"
            ]
          },
          "execution_count": 10,
          "metadata": {},
          "output_type": "execute_result"
        }
      ],
      "source": [
        "# Inicializacion\n",
        "\n",
        "# Lista vacia\n",
        "lista_1 = list()\n",
        "lista_2 = []\n",
        "\n",
        "# Lista con elementos\n",
        "lista_3 = [1, 2, 4]\n",
        "lista_3"
      ]
    },
    {
      "cell_type": "code",
      "execution_count": 11,
      "metadata": {
        "colab": {
          "base_uri": "https://localhost:8080/"
        },
        "id": "SajKybpODdNq",
        "outputId": "f6bef004-87f9-4a9e-90f4-79be85a7ca57"
      },
      "outputs": [
        {
          "data": {
            "text/plain": [
              "['a', 2, -2]"
            ]
          },
          "execution_count": 11,
          "metadata": {},
          "output_type": "execute_result"
        }
      ],
      "source": [
        "# Insertar elementos\n",
        "\n",
        "lista_1.append(\"a\")\n",
        "lista_1.append(2)\n",
        "lista_1.append(-2)\n",
        "lista_1"
      ]
    },
    {
      "cell_type": "code",
      "execution_count": 12,
      "metadata": {
        "colab": {
          "base_uri": "https://localhost:8080/"
        },
        "id": "nDQSCqSdECdP",
        "outputId": "c11c7304-a323-4148-8135-2f846f98e1a4"
      },
      "outputs": [
        {
          "data": {
            "text/plain": [
              "['a', 2]"
            ]
          },
          "execution_count": 12,
          "metadata": {},
          "output_type": "execute_result"
        }
      ],
      "source": [
        "# Remover elementos\n",
        "\n",
        "lista_1.pop()\n",
        "lista_1"
      ]
    },
    {
      "cell_type": "code",
      "execution_count": 13,
      "metadata": {
        "colab": {
          "base_uri": "https://localhost:8080/"
        },
        "id": "FuTrHvzQEJ5R",
        "outputId": "28d2705c-8a9c-44d1-9ba3-56d18b06a4e3"
      },
      "outputs": [
        {
          "data": {
            "text/plain": [
              "[2]"
            ]
          },
          "execution_count": 13,
          "metadata": {},
          "output_type": "execute_result"
        }
      ],
      "source": [
        "lista_1.remove('a')\n",
        "lista_1"
      ]
    },
    {
      "cell_type": "code",
      "execution_count": 14,
      "metadata": {},
      "outputs": [
        {
          "data": {
            "text/plain": [
              "[2]"
            ]
          },
          "execution_count": 14,
          "metadata": {},
          "output_type": "execute_result"
        }
      ],
      "source": [
        "lista_1"
      ]
    },
    {
      "cell_type": "markdown",
      "metadata": {
        "id": "VVTB7LnhNzTx"
      },
      "source": [
        "<b> 1) Concatenar los elementos de la lista_3 y la lista_1 de tal forma que sea una sola lista con todos los elementos<b>"
      ]
    },
    {
      "cell_type": "code",
      "execution_count": 15,
      "metadata": {
        "id": "ZBxRCV_kNxC_"
      },
      "outputs": [
        {
          "name": "stdout",
          "output_type": "stream",
          "text": [
            "[1, 2, 4, 2]\n"
          ]
        }
      ],
      "source": [
        "# Resolver\n",
        "lista_total = lista_3 + lista_1\n",
        "\n",
        "print(lista_total)"
      ]
    },
    {
      "cell_type": "markdown",
      "metadata": {
        "id": "oskxMEZxOZzU"
      },
      "source": [
        "<b> 2) Como obtener la longitud de la lista lista_total? <b>"
      ]
    },
    {
      "cell_type": "code",
      "execution_count": 16,
      "metadata": {
        "id": "HSuNRV6_odI6"
      },
      "outputs": [
        {
          "name": "stdout",
          "output_type": "stream",
          "text": [
            "4\n"
          ]
        }
      ],
      "source": [
        "# Resolver\n",
        "longitud_lista = len(lista_total)\n",
        "\n",
        "print(longitud_lista)"
      ]
    },
    {
      "cell_type": "markdown",
      "metadata": {
        "id": "QBvvXBVvGBvl"
      },
      "source": [
        "### Diccionario"
      ]
    },
    {
      "cell_type": "code",
      "execution_count": 17,
      "metadata": {
        "id": "U7pSkflkNrWH"
      },
      "outputs": [
        {
          "data": {
            "text/plain": [
              "{'llave1': 1, 'llave2': 2}"
            ]
          },
          "execution_count": 17,
          "metadata": {},
          "output_type": "execute_result"
        }
      ],
      "source": [
        "# Inicializar\n",
        "\n",
        "dict_1 = {}\n",
        "dict_2 = dict()\n",
        "\n",
        "# Diccionario con elementos\n",
        "dict_3 = {\"llave1\": 1, \"llave2\": 2}\n",
        "dict_3"
      ]
    },
    {
      "cell_type": "code",
      "execution_count": 18,
      "metadata": {
        "id": "e-dSyh8gHT4z"
      },
      "outputs": [
        {
          "data": {
            "text/plain": [
              "{'llave3': 3}"
            ]
          },
          "execution_count": 18,
          "metadata": {},
          "output_type": "execute_result"
        }
      ],
      "source": [
        "# Agregar elemento a diccionario\n",
        "dict_1[\"llave3\"] = 3\n",
        "dict_1"
      ]
    },
    {
      "cell_type": "code",
      "execution_count": 19,
      "metadata": {
        "colab": {
          "base_uri": "https://localhost:8080/"
        },
        "id": "vRZA9PTHCoxJ",
        "outputId": "2923a998-5ad2-43fb-fbb0-3ee101ace87c"
      },
      "outputs": [
        {
          "data": {
            "text/plain": [
              "1"
            ]
          },
          "execution_count": 19,
          "metadata": {},
          "output_type": "execute_result"
        }
      ],
      "source": [
        "# Acceder al valor a partir de las llaves\n",
        "dict_3[\"llave1\"]"
      ]
    },
    {
      "cell_type": "markdown",
      "metadata": {
        "id": "D8tj1xs2HnHc"
      },
      "source": [
        "<b> 3) Concatenar los elementos de dict_3 y dict_1 de tal forma que sea un solo diccionario con todos los elementos<b>"
      ]
    },
    {
      "cell_type": "code",
      "execution_count": 20,
      "metadata": {
        "id": "GU5IzTx5ColM"
      },
      "outputs": [
        {
          "name": "stdout",
          "output_type": "stream",
          "text": [
            "{'llave1': 1, 'llave2': 2, 'llave3': 3}\n"
          ]
        }
      ],
      "source": [
        "# Resolver\n",
        "\n",
        "dict_total = dict_3\n",
        "dict_total.update(dict_1)\n",
        "\n",
        "print(dict_3)"
      ]
    },
    {
      "cell_type": "markdown",
      "metadata": {
        "id": "3WMosCntIVbr"
      },
      "source": [
        "<b> 4) Elevar al cuadrado cada valor del diccionario dict_total<b>"
      ]
    },
    {
      "cell_type": "code",
      "execution_count": 21,
      "metadata": {
        "id": "IDzOs2eaCoVq"
      },
      "outputs": [
        {
          "name": "stdout",
          "output_type": "stream",
          "text": [
            "{'llave1': 1, 'llave2': 4, 'llave3': 9}\n"
          ]
        }
      ],
      "source": [
        "# Resolver\n",
        "\n",
        "dict_cuadrado = { key: value**2 for key, value in dict_total.items() }\n",
        "\n",
        "print(dict_cuadrado)"
      ]
    },
    {
      "cell_type": "markdown",
      "metadata": {
        "id": "TqBP4mOyItdK"
      },
      "source": [
        "### Sets"
      ]
    },
    {
      "cell_type": "code",
      "execution_count": 22,
      "metadata": {
        "id": "Nb3L4skz4L5d"
      },
      "outputs": [],
      "source": [
        "# set_2 = {}"
      ]
    },
    {
      "cell_type": "code",
      "execution_count": 23,
      "metadata": {
        "id": "5dUTwmt_Cny0"
      },
      "outputs": [
        {
          "name": "stdout",
          "output_type": "stream",
          "text": [
            "{2, 3, 'hola', '1'}\n"
          ]
        }
      ],
      "source": [
        "# Inicializar\n",
        "\n",
        "set_2 = set()\n",
        "set_1 = {\"1\", \"hola\", 2, 3}\n",
        "print(set_1)"
      ]
    },
    {
      "cell_type": "code",
      "execution_count": 24,
      "metadata": {
        "colab": {
          "base_uri": "https://localhost:8080/"
        },
        "id": "Yv8f5XUQJJbc",
        "outputId": "7c4037f6-9d7d-4757-afb2-39b56496701e"
      },
      "outputs": [
        {
          "name": "stdout",
          "output_type": "stream",
          "text": [
            "{2, '2', 4, 'hola'}\n"
          ]
        }
      ],
      "source": [
        "# Agregar valores\n",
        "\n",
        "set_2.update({\"2\", 4, \"hola\", 2})\n",
        "print(set_2)"
      ]
    },
    {
      "cell_type": "code",
      "execution_count": 25,
      "metadata": {},
      "outputs": [
        {
          "name": "stdout",
          "output_type": "stream",
          "text": [
            "{1, 2, 3, 4}\n"
          ]
        }
      ],
      "source": [
        "# Agregar valores\n",
        "\n",
        "lista_3 = [1, 2, 4, 4, 3]\n",
        "set_3 = set(lista_3)\n",
        "print(set_3)"
      ]
    },
    {
      "cell_type": "code",
      "execution_count": 26,
      "metadata": {
        "colab": {
          "base_uri": "https://localhost:8080/"
        },
        "id": "Pa8RjB5vJZ65",
        "outputId": "cf1cc749-d674-4939-94e5-87cb0c907e76"
      },
      "outputs": [
        {
          "name": "stdout",
          "output_type": "stream",
          "text": [
            "{1, 2, 3, 4, '2', 'hola', '1'}\n"
          ]
        }
      ],
      "source": [
        "# Unir sets\n",
        "\n",
        "set_total = set_1 | set_2 | set_3\n",
        "print(set_total)"
      ]
    },
    {
      "cell_type": "markdown",
      "metadata": {
        "id": "yTm2Z4V_J-Yl"
      },
      "source": [
        "<b> 5) Unir los sets set_1, set_2 y set_3 pero sin usar el operador '|' del paso anterior<b>"
      ]
    },
    {
      "cell_type": "code",
      "execution_count": 27,
      "metadata": {
        "id": "Y7pmwft_JcAK"
      },
      "outputs": [
        {
          "name": "stdout",
          "output_type": "stream",
          "text": [
            "{1, 2, 3, 4, '2', 'hola', '1'}\n"
          ]
        }
      ],
      "source": [
        "# Resolver\n",
        "\n",
        "set_total = set_1.union(set_2).union(set_3)\n",
        "\n",
        "print(set_total)"
      ]
    },
    {
      "cell_type": "markdown",
      "metadata": {
        "id": "bLZTH7otLdd8"
      },
      "source": [
        "<b> 6) Cual es la diferencia entre los tipos de datos set y frozenset. Investigar<b>"
      ]
    },
    {
      "cell_type": "code",
      "execution_count": 28,
      "metadata": {
        "id": "UVx9i7sBJZoq"
      },
      "outputs": [
        {
          "data": {
            "text/plain": [
              "'\\nLa diferencia principal entre los tipos de datos set y frozenset en Python es que un set es mutable, lo que significa que se pueden agregar, eliminar o modificar elementos después de su creación, mientras que un frozenset es inmutable, lo que significa que una vez creado, no se pueden modificar sus elementos.\\n\\nEn resumen:\\n    set: Es un conjunto mutable que permite cambios en su contenido.\\n    frozenset: Es un conjunto inmutable que no permite cambios en su contenido una vez creado.\\n'"
            ]
          },
          "execution_count": 28,
          "metadata": {},
          "output_type": "execute_result"
        }
      ],
      "source": [
        "# Comentar\n",
        "\n",
        "\"\"\"\n",
        "La diferencia principal entre los tipos de datos set y frozenset en Python es que un set es mutable, lo que significa que se pueden agregar, eliminar o modificar elementos después de su creación, mientras que un frozenset es inmutable, lo que significa que una vez creado, no se pueden modificar sus elementos.\n",
        "\n",
        "En resumen:\n",
        "    set: Es un conjunto mutable que permite cambios en su contenido.\n",
        "    frozenset: Es un conjunto inmutable que no permite cambios en su contenido una vez creado.\n",
        "\"\"\""
      ]
    },
    {
      "cell_type": "code",
      "execution_count": null,
      "metadata": {},
      "outputs": [],
      "source": []
    }
  ],
  "metadata": {
    "colab": {
      "provenance": []
    },
    "gpuClass": "standard",
    "kernelspec": {
      "display_name": "Python 3",
      "name": "python3"
    },
    "language_info": {
      "codemirror_mode": {
        "name": "ipython",
        "version": 3
      },
      "file_extension": ".py",
      "mimetype": "text/x-python",
      "name": "python",
      "nbconvert_exporter": "python",
      "pygments_lexer": "ipython3",
      "version": "3.11.7"
    }
  },
  "nbformat": 4,
  "nbformat_minor": 0
}
