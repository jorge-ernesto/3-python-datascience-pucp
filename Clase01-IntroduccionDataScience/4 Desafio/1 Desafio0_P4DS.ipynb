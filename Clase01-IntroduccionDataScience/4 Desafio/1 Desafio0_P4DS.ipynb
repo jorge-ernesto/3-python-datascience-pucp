{
  "nbformat": 4,
  "nbformat_minor": 0,
  "metadata": {
    "colab": {
      "provenance": []
    },
    "kernelspec": {
      "name": "python3",
      "display_name": "Python 3"
    },
    "gpuClass": "standard"
  },
  "cells": [
    {
      "cell_type": "markdown",
      "metadata": {
        "id": "DyrXknmySOUI"
      },
      "source": [
        "# Curso de Capacitación en Python para Data Science - Desafío 0 - Sesión 1\n",
        "\n",
        "<img src='https://www.danielsaromo.xyz/assets/img/logo-pucp.png' width=200px>\n",
        "\n",
        "\n",
        "B.Sc. Stev Huamán"
      ]
    },
    {
      "cell_type": "markdown",
      "metadata": {
        "id": "HWV9A-zMtpFg"
      },
      "source": [
        "<font color='#33FFEE'> Introducción a Google Colaboratory.</font>"
      ]
    },
    {
      "cell_type": "markdown",
      "metadata": {
        "id": "2L_k5LntSV-8"
      },
      "source": [
        "<font color='black'> Este desafío NO es calificado. </font>"
      ]
    },
    {
      "cell_type": "markdown",
      "source": [
        "Completar con su código los campos requeridos y subir su notebook solucionado a la plataforma PAIDEIA. El formato del nombre del notebook es: `Desafio0_APELLIDOPATERNO_NOMBRE.ipynb`.\n",
        "\n",
        "Es responsabilidad del alumno verificar que el archivo que subió es el correcto. Respetar los lineamientos de la entrega de archivo, ya que influirá en su calificación. La fecha límite de entrega del presente desafío se encuentra en PAIDEIA. No se aceptarán entregas luego de haberse publicado el solucionario de la tarea."
      ],
      "metadata": {
        "id": "xPNxdZeyJnQ6"
      }
    },
    {
      "cell_type": "markdown",
      "metadata": {
        "id": "hAY9us06hCXW"
      },
      "source": [
        "## Google Colab\n"
      ]
    },
    {
      "cell_type": "markdown",
      "metadata": {
        "id": "s7dXGGJW-FyW"
      },
      "source": [
        "### R: CPU"
      ]
    },
    {
      "cell_type": "markdown",
      "metadata": {
        "id": "-iKWslD0-NKn"
      },
      "source": [
        "Enlace: https://colab.research.google.com/#create=true&language=r\n",
        "\n",
        "Enlace alternativo: https://colab.to/r"
      ]
    },
    {
      "cell_type": "markdown",
      "metadata": {
        "id": "ljYjL5_KxtR5"
      },
      "source": [
        "### Python: CPU Vs GPU Vs TPU"
      ]
    },
    {
      "cell_type": "markdown",
      "metadata": {
        "id": "GWI4yMb3xyzs"
      },
      "source": [
        "[Documentación oficial](https://cloud.google.com/tpu/docs/tpus?hl=es-419)"
      ]
    },
    {
      "cell_type": "markdown",
      "metadata": {
        "id": "yueRAi6dUVXs"
      },
      "source": [
        "### Controles básicos"
      ]
    },
    {
      "cell_type": "markdown",
      "metadata": {
        "id": "25ZgTVToc9bY"
      },
      "source": [
        "Un notebook es ejecutable celda por celda."
      ]
    },
    {
      "cell_type": "code",
      "metadata": {
        "id": "oW0itOzJfymJ",
        "colab": {
          "base_uri": "https://localhost:8080/"
        },
        "outputId": "82142d18-16fc-4171-f884-69448bc4715c"
      },
      "source": [
        "1+1"
      ],
      "execution_count": null,
      "outputs": [
        {
          "output_type": "execute_result",
          "data": {
            "text/plain": [
              "2"
            ]
          },
          "metadata": {},
          "execution_count": 1
        }
      ]
    },
    {
      "cell_type": "code",
      "source": [
        "import sklearn"
      ],
      "metadata": {
        "id": "F-aAQTsW2rpB"
      },
      "execution_count": null,
      "outputs": []
    },
    {
      "cell_type": "code",
      "metadata": {
        "id": "izkv4T9QSB_T",
        "colab": {
          "base_uri": "https://localhost:8080/"
        },
        "outputId": "f789697f-777a-4d54-84aa-a1e6abd90370"
      },
      "source": [
        "import numpy as np\n",
        "np.arange(4)"
      ],
      "execution_count": null,
      "outputs": [
        {
          "output_type": "execute_result",
          "data": {
            "text/plain": [
              "array([0, 1, 2, 3])"
            ]
          },
          "metadata": {},
          "execution_count": 2
        }
      ]
    },
    {
      "cell_type": "code",
      "metadata": {
        "id": "UVAVw2JQkXhu",
        "colab": {
          "base_uri": "https://localhost:8080/",
          "height": 34
        },
        "outputId": "53829888-8bb1-4e0b-aafa-493f8f044a8a"
      },
      "source": [
        "%autosave 60"
      ],
      "execution_count": null,
      "outputs": [
        {
          "output_type": "display_data",
          "data": {
            "application/javascript": [
              "IPython.notebook.set_autosave_interval(60000)"
            ]
          },
          "metadata": {}
        },
        {
          "output_type": "stream",
          "name": "stdout",
          "text": [
            "Autosaving every 60 seconds\n"
          ]
        }
      ]
    },
    {
      "cell_type": "code",
      "metadata": {
        "id": "kwTs1HY9kU7o"
      },
      "source": [
        "%matplotlib inline"
      ],
      "execution_count": null,
      "outputs": []
    },
    {
      "cell_type": "code",
      "metadata": {
        "id": "mP03fIpGaYX3",
        "colab": {
          "base_uri": "https://localhost:8080/",
          "height": 472
        },
        "outputId": "fa578858-f130-419a-ef19-3acb35e2b348"
      },
      "source": [
        "import matplotlib.pyplot as plt\n",
        "import numpy as np\n",
        "import math\n",
        "\n",
        "def sigmoid(x):\n",
        "  return 1 / (1 + np.exp(-x))\n",
        "\n",
        "x = np.linspace(-10, 10, 100)\n",
        "\n",
        "plt.plot(x, sigmoid(x), label='sigmoid', linestyle=\"dashed\")\n",
        "plt.plot(x, np.tanh(x), label='tanh', alpha=0.75)\n",
        "plt.plot(x, np.arctan(x), label='atan', linestyle=\":\")\n",
        "plt.xlabel(\"z\")\n",
        "plt.ylabel(r\"$\\sigma (z)$\")\n",
        "plt.grid(True)\n",
        "plt.title('Some activation functions')\n",
        "plt.legend()\n",
        "plt.show()"
      ],
      "execution_count": null,
      "outputs": [
        {
          "output_type": "display_data",
          "data": {
            "text/plain": [
              "<Figure size 640x480 with 1 Axes>"
            ],
            "image/png": "[encoded data removed]"
          },
          "metadata": {}
        }
      ]
    },
    {
      "cell_type": "code",
      "metadata": {
        "colab": {
          "base_uri": "https://localhost:8080/",
          "height": 472
        },
        "id": "EOlR4RRQAVrz",
        "outputId": "dbeb204c-264e-4508-e061-99429934b48b"
      },
      "source": [
        "import matplotlib.pyplot as plt\n",
        "import numpy as np\n",
        "import math\n",
        "\n",
        "def sigmoid(x):\n",
        "  return 1 / (1 + np.exp(-x))\n",
        "\n",
        "x = np.linspace(-20, 20, 100)\n",
        "\n",
        "plt.plot(x, sigmoid(x)*2-1, label='sigmoid', linestyle=\"dashed\")\n",
        "plt.plot(x, np.tanh(x), label='tanh', alpha=0.75)\n",
        "plt.plot(x, np.arctan(x)/np.pi*2, label='atan', linestyle=\":\")\n",
        "plt.xlabel(\"z\")\n",
        "plt.ylabel(r\"$\\sigma (z)$\")\n",
        "plt.grid(True)\n",
        "plt.title('Some activation functions')\n",
        "plt.legend()\n",
        "plt.show()"
      ],
      "execution_count": null,
      "outputs": [
        {
          "output_type": "display_data",
          "data": {
            "text/plain": [
              "<Figure size 640x480 with 1 Axes>"
            ],
            "image/png": "[encoded data removed]"
          },
          "metadata": {}
        }
      ]
    },
    {
      "cell_type": "markdown",
      "source": [
        "## Desafío de la semana (No calificado): Estructuras de datos en Python\n",
        "\n",
        "Enlace: https://docs.python.org/3/tutorial/datastructures.html"
      ],
      "metadata": {
        "id": "JA6Xs-4XBKIp"
      }
    },
    {
      "cell_type": "markdown",
      "source": [
        "### Lista"
      ],
      "metadata": {
        "id": "gBsbvZj6JJ8i"
      }
    },
    {
      "cell_type": "code",
      "source": [
        "# Inicializacion\n",
        "\n",
        "# Lista vacia\n",
        "lista_1 = list()\n",
        "lista_2 = []\n",
        "\n",
        "# Lista con elementos\n",
        "lista_3 = [1, 2, 4]"
      ],
      "metadata": {
        "id": "ffJDMtsHDW1d"
      },
      "execution_count": null,
      "outputs": []
    },
    {
      "cell_type": "code",
      "source": [
        "# Insertar elementos\n",
        "\n",
        "lista_1.append(\"a\")\n",
        "lista_1.append(2)\n",
        "lista_1.append(-2)\n",
        "lista_1"
      ],
      "metadata": {
        "colab": {
          "base_uri": "https://localhost:8080/"
        },
        "id": "SajKybpODdNq",
        "outputId": "f6bef004-87f9-4a9e-90f4-79be85a7ca57"
      },
      "execution_count": null,
      "outputs": [
        {
          "output_type": "execute_result",
          "data": {
            "text/plain": [
              "['a', 2, -2]"
            ]
          },
          "metadata": {},
          "execution_count": 22
        }
      ]
    },
    {
      "cell_type": "code",
      "source": [
        "# Remover elementos\n",
        "\n",
        "lista_1.pop()\n",
        "lista_1"
      ],
      "metadata": {
        "colab": {
          "base_uri": "https://localhost:8080/"
        },
        "id": "nDQSCqSdECdP",
        "outputId": "c11c7304-a323-4148-8135-2f846f98e1a4"
      },
      "execution_count": null,
      "outputs": [
        {
          "output_type": "execute_result",
          "data": {
            "text/plain": [
              "['a', 2]"
            ]
          },
          "metadata": {},
          "execution_count": 23
        }
      ]
    },
    {
      "cell_type": "code",
      "source": [
        "lista_1.remove('a')\n",
        "lista_1"
      ],
      "metadata": {
        "colab": {
          "base_uri": "https://localhost:8080/"
        },
        "id": "FuTrHvzQEJ5R",
        "outputId": "28d2705c-8a9c-44d1-9ba3-56d18b06a4e3"
      },
      "execution_count": null,
      "outputs": [
        {
          "output_type": "execute_result",
          "data": {
            "text/plain": [
              "[2]"
            ]
          },
          "metadata": {},
          "execution_count": 24
        }
      ]
    },
    {
      "cell_type": "markdown",
      "source": [
        "<b> 1) Concatenar los elementos de la lista_3 y la lista_1 de tal forma que sea una sola lista con todos los elementos<b>"
      ],
      "metadata": {
        "id": "VVTB7LnhNzTx"
      }
    },
    {
      "cell_type": "code",
      "source": [
        "# Resolver\n",
        "lista_total = ...\n",
        "\n",
        "print(lista_total)"
      ],
      "metadata": {
        "id": "ZBxRCV_kNxC_"
      },
      "execution_count": null,
      "outputs": []
    },
    {
      "cell_type": "markdown",
      "source": [
        "<b> 2) Como obtener la longitud de la lista lista_total? <b>"
      ],
      "metadata": {
        "id": "oskxMEZxOZzU"
      }
    },
    {
      "cell_type": "code",
      "source": [
        "# Resolver\n",
        "longitud_lista = ...\n",
        "\n",
        "print(longitud_lista)"
      ],
      "metadata": {
        "id": "HSuNRV6_odI6"
      },
      "execution_count": null,
      "outputs": []
    },
    {
      "cell_type": "markdown",
      "source": [
        "### Diccionario"
      ],
      "metadata": {
        "id": "QBvvXBVvGBvl"
      }
    },
    {
      "cell_type": "code",
      "source": [
        "# Inicializar\n",
        "\n",
        "dict_1 = {}\n",
        "dict_2 = dict()\n",
        "\n",
        "# Diccionario con elementos\n",
        "dict_3 = {\"llave1\": 1, \"llave2\": 2}"
      ],
      "metadata": {
        "id": "U7pSkflkNrWH"
      },
      "execution_count": null,
      "outputs": []
    },
    {
      "cell_type": "code",
      "source": [
        "# Agregar elemento a diccionario\n",
        "dict_1[\"llave3\"] = 3"
      ],
      "metadata": {
        "id": "e-dSyh8gHT4z"
      },
      "execution_count": null,
      "outputs": []
    },
    {
      "cell_type": "code",
      "source": [
        "# Acceder al valor a partir de las llaves\n",
        "print(dict_3[\"llave1\"])"
      ],
      "metadata": {
        "colab": {
          "base_uri": "https://localhost:8080/"
        },
        "id": "vRZA9PTHCoxJ",
        "outputId": "2923a998-5ad2-43fb-fbb0-3ee101ace87c"
      },
      "execution_count": null,
      "outputs": [
        {
          "output_type": "stream",
          "name": "stdout",
          "text": [
            "1\n"
          ]
        }
      ]
    },
    {
      "cell_type": "markdown",
      "source": [
        "<b> 3) Concatenar los elementos de dict_3 y dict_1 de tal forma que sea un solo diccionario con todos los elementos<b>"
      ],
      "metadata": {
        "id": "D8tj1xs2HnHc"
      }
    },
    {
      "cell_type": "code",
      "source": [
        "# Resolver\n",
        "\n",
        "dict_total = ..."
      ],
      "metadata": {
        "id": "GU5IzTx5ColM"
      },
      "execution_count": null,
      "outputs": []
    },
    {
      "cell_type": "markdown",
      "source": [
        "<b> 4) Elevar al cuadrado cada valor del diccionario dict_total<b>"
      ],
      "metadata": {
        "id": "3WMosCntIVbr"
      }
    },
    {
      "cell_type": "code",
      "source": [
        "# Resolver\n",
        "\n",
        "dict_cuadrado = ..."
      ],
      "metadata": {
        "id": "IDzOs2eaCoVq"
      },
      "execution_count": null,
      "outputs": []
    },
    {
      "cell_type": "markdown",
      "source": [
        "### Sets"
      ],
      "metadata": {
        "id": "TqBP4mOyItdK"
      }
    },
    {
      "cell_type": "code",
      "source": [
        "# set_2 = {}"
      ],
      "metadata": {
        "id": "Nb3L4skz4L5d"
      },
      "execution_count": null,
      "outputs": []
    },
    {
      "cell_type": "code",
      "source": [
        "# Inicializar\n",
        "\n",
        "set_2 = set()\n",
        "set_1 = {\"1\", \"hola\", 2, 3}"
      ],
      "metadata": {
        "id": "5dUTwmt_Cny0"
      },
      "execution_count": null,
      "outputs": []
    },
    {
      "cell_type": "code",
      "source": [
        "# Agregar valores\n",
        "\n",
        "set_2.update({\"2\", 4, \"hola\", 2})\n",
        "print(set_2)\n",
        "\n",
        "lista_3 = [1, 2, 4, 4, 3]\n",
        "set_3 = set(lista_3)\n",
        "print(set_3)"
      ],
      "metadata": {
        "colab": {
          "base_uri": "https://localhost:8080/"
        },
        "id": "Yv8f5XUQJJbc",
        "outputId": "7c4037f6-9d7d-4757-afb2-39b56496701e"
      },
      "execution_count": null,
      "outputs": [
        {
          "output_type": "stream",
          "name": "stdout",
          "text": [
            "{2, 4, '2', 'hola'}\n",
            "{1, 2, 3, 4}\n"
          ]
        }
      ]
    },
    {
      "cell_type": "code",
      "source": [
        "# Unir sets\n",
        "\n",
        "set_total = set_1 | set_2 | set_3\n",
        "print(set_total)"
      ],
      "metadata": {
        "colab": {
          "base_uri": "https://localhost:8080/"
        },
        "id": "Pa8RjB5vJZ65",
        "outputId": "cf1cc749-d674-4939-94e5-87cb0c907e76"
      },
      "execution_count": null,
      "outputs": [
        {
          "output_type": "stream",
          "name": "stdout",
          "text": [
            "{1, 2, 3, '1', 4, '2', 'hola'}\n"
          ]
        }
      ]
    },
    {
      "cell_type": "markdown",
      "source": [
        "<b> 5) Unir los sets set_1, set_2 y set_3 pero sin usar el operador '|' del paso anterior<b>"
      ],
      "metadata": {
        "id": "yTm2Z4V_J-Yl"
      }
    },
    {
      "cell_type": "code",
      "source": [
        "# Resolver\n",
        "\n",
        "set_total = ..."
      ],
      "metadata": {
        "id": "Y7pmwft_JcAK"
      },
      "execution_count": null,
      "outputs": []
    },
    {
      "cell_type": "markdown",
      "source": [
        "<b> 6) Cual es la diferencia entre los tipos de datos set y frozenset. Investigar<b>"
      ],
      "metadata": {
        "id": "bLZTH7otLdd8"
      }
    },
    {
      "cell_type": "code",
      "source": [
        "# Comentar\n"
      ],
      "metadata": {
        "id": "UVx9i7sBJZoq"
      },
      "execution_count": null,
      "outputs": []
    }
  ]
}