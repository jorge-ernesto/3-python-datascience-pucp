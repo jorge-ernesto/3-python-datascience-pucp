{
  "cells": [
    {
      "cell_type": "markdown",
      "metadata": {
        "id": "hzrs3GMUk9tK"
      },
      "source": [
        "# CURSO DE CAPACITACIÓN : Python aplicado a ciencia de datos\n",
        "\n",
        "Dr. Edwin Villanueva (ervillanueva@pucp.edu.pe),"
      ]
    },
    {
      "cell_type": "markdown",
      "metadata": {
        "id": "DLAWfu-M3dP2"
      },
      "source": [
        "# TUTORIAL DE INTRODUCCION A PYTHON\n"
      ]
    },
    {
      "cell_type": "markdown",
      "metadata": {
        "id": "cXFN-GBkk9tK"
      },
      "source": [
        "\n",
        "<b>Contenido</b>:\n",
        "- [Tipos Básicos de Variables](#variables)\n",
        "- [Operadores](#operadores)\n",
        "- [Colecciones](#colecciones)\n",
        "- [Control de flujo](#flujo)\n",
        "- [Funciones](#funciones)\n"
      ]
    },
    {
      "cell_type": "markdown",
      "metadata": {
        "id": "AzaekaRok9tL"
      },
      "source": [
        "<a name='variables'></a>\n",
        "## <font color=blue>TIPOS BASICOS DE VARIABLES</font>\n",
        "\n",
        "Las variables son \"etiquetas\" que permiten hacer referencia a los datos. Los nombres de variables válidos en Python debe ajustarse a las tres reglas siguientes:\n",
        "\n",
        "* La variable puede ser una secuencia seguida de letras y dígitos.\n",
        "* La secuencia debe empezar con una letra (no inicia núnca con un número).\n",
        "* Además de a.. z, y A.. Z, el guión bajo (_) es una letra.\n"
      ]
    },
    {
      "cell_type": "markdown",
      "metadata": {
        "id": "dKvyPkocrc3z"
      },
      "source": [
        "### Variables numericas"
      ]
    },
    {
      "cell_type": "markdown",
      "metadata": {
        "id": "mbJPPf8sk9tM"
      },
      "source": [
        "**Enteros**: Son aquellos números positivos o negativos que no tienen decimales.\n",
        "Se representa mediante el tipo ***int*** (abrev. de entero)."
      ]
    },
    {
      "cell_type": "code",
      "execution_count": 1,
      "metadata": {
        "colab": {
          "base_uri": "https://localhost:8080/"
        },
        "id": "ZHRfsV5bk9tN",
        "outputId": "1b4800ca-e9fa-4218-a83c-9eff600b14f1"
      },
      "outputs": [
        {
          "name": "stdout",
          "output_type": "stream",
          "text": [
            "10\n"
          ]
        },
        {
          "data": {
            "text/plain": [
              "int"
            ]
          },
          "execution_count": 1,
          "metadata": {},
          "output_type": "execute_result"
        }
      ],
      "source": [
        "entero = 10\n",
        "print(entero)\n",
        "type(entero)"
      ]
    },
    {
      "cell_type": "markdown",
      "metadata": {
        "id": "hse-A2r1itVP"
      },
      "source": [
        "**Reales**: Los números reales son los que tienen decimales. En Python se expresan mediante el tipo ***float***."
      ]
    },
    {
      "cell_type": "code",
      "execution_count": 2,
      "metadata": {
        "colab": {
          "base_uri": "https://localhost:8080/"
        },
        "id": "C8Y4jEVjiwvh",
        "outputId": "bb23f9d5-ff80-4ab0-fab7-cb3f1d0d3d25"
      },
      "outputs": [
        {
          "name": "stdout",
          "output_type": "stream",
          "text": [
            "0.3403\n"
          ]
        },
        {
          "data": {
            "text/plain": [
              "float"
            ]
          },
          "execution_count": 2,
          "metadata": {},
          "output_type": "execute_result"
        }
      ],
      "source": [
        "real = 0.3403\n",
        "print(real)\n",
        "type(real)"
      ]
    },
    {
      "cell_type": "markdown",
      "metadata": {
        "id": "7cI9AD55k9tO"
      },
      "source": [
        "**Números Complejos**: son una extensión de los números reales pero contienen la parte imaginaria. En Python se expresan mediante el tipo ***complex***."
      ]
    },
    {
      "cell_type": "code",
      "execution_count": 3,
      "metadata": {
        "colab": {
          "base_uri": "https://localhost:8080/"
        },
        "id": "a3hdALIPk9tO",
        "outputId": "9ee6f438-c4c5-40de-c0cd-f1bb7a9123da"
      },
      "outputs": [
        {
          "name": "stdout",
          "output_type": "stream",
          "text": [
            "(2+3j)\n"
          ]
        },
        {
          "data": {
            "text/plain": [
              "complex"
            ]
          },
          "execution_count": 3,
          "metadata": {},
          "output_type": "execute_result"
        }
      ],
      "source": [
        "z = 2 + 3j\n",
        "print(z)\n",
        "type(z)"
      ]
    },
    {
      "cell_type": "markdown",
      "metadata": {
        "id": "BPA2JJbAk9tP"
      },
      "source": [
        "### Booleanos\n",
        "Son representaciones a nivel binario. Una variable de tipo booleano sólo puede tener dos valores: True (cierto) y False (falso). Estos\n",
        "valores son muy importantes para las expresiones condicionales y los bucles.\n",
        "Valores booleanos se representan mediante el tipo ***bool***.\n"
      ]
    },
    {
      "cell_type": "code",
      "execution_count": 4,
      "metadata": {
        "colab": {
          "base_uri": "https://localhost:8080/"
        },
        "id": "gEB0gQp-k9tP",
        "outputId": "9f9dfa5e-5cb2-4610-b2fd-829911b44af8"
      },
      "outputs": [
        {
          "name": "stdout",
          "output_type": "stream",
          "text": [
            "True\n"
          ]
        },
        {
          "data": {
            "text/plain": [
              "bool"
            ]
          },
          "execution_count": 4,
          "metadata": {},
          "output_type": "execute_result"
        }
      ],
      "source": [
        "b = True\n",
        "print(b)\n",
        "type(b)"
      ]
    },
    {
      "cell_type": "markdown",
      "metadata": {
        "id": "5nOJXciLk9tL"
      },
      "source": [
        "### Cadenas\n",
        "Las cadenas no son más que texto encerrado entre comillas simples\n",
        "(‘cadena’) o dobles (“cadena”). Dentro de las comillas se pueden\n",
        "añadir caracteres especiales escapaciándolos con: \\, \\n (carácter de\n",
        "nueva línea), o \\t ( caracter de tabulación).\n"
      ]
    },
    {
      "cell_type": "code",
      "execution_count": 5,
      "metadata": {
        "colab": {
          "base_uri": "https://localhost:8080/"
        },
        "id": "WhCP2eyxk9tM",
        "outputId": "1f876dbb-22d8-42e7-a268-8bc6d3576fa6"
      },
      "outputs": [
        {
          "name": "stdout",
          "output_type": "stream",
          "text": [
            "hola mundx\n"
          ]
        }
      ],
      "source": [
        "# crea una cadena y la imprime\n",
        "cadena = \"hola mundx\"\n",
        "print(cadena)"
      ]
    },
    {
      "cell_type": "code",
      "execution_count": 6,
      "metadata": {
        "colab": {
          "base_uri": "https://localhost:8080/"
        },
        "id": "8Dnf0JbfwYoQ",
        "outputId": "551a96ec-b022-49bb-8bbd-50545d6c6978"
      },
      "outputs": [
        {
          "data": {
            "text/plain": [
              "str"
            ]
          },
          "execution_count": 6,
          "metadata": {},
          "output_type": "execute_result"
        }
      ],
      "source": [
        "# tipo de la variable cadena\n",
        "type(cadena)"
      ]
    },
    {
      "cell_type": "code",
      "execution_count": 7,
      "metadata": {
        "colab": {
          "base_uri": "https://localhost:8080/"
        },
        "id": "bmOvEtzCwYjr",
        "outputId": "789f1e6a-fa0b-47bf-b1d6-5c1f13771538"
      },
      "outputs": [
        {
          "name": "stdout",
          "output_type": "stream",
          "text": [
            "10\n"
          ]
        }
      ],
      "source": [
        "# imprime longitud de la cadena\n",
        "print(len(cadena))"
      ]
    },
    {
      "cell_type": "code",
      "execution_count": 8,
      "metadata": {
        "colab": {
          "base_uri": "https://localhost:8080/",
          "height": 35
        },
        "id": "l950OB87dqCp",
        "outputId": "5651324f-48aa-437c-8827-27f3b5d08709"
      },
      "outputs": [
        {
          "data": {
            "text/plain": [
              "'h'"
            ]
          },
          "execution_count": 8,
          "metadata": {},
          "output_type": "execute_result"
        }
      ],
      "source": [
        "cadena[0]"
      ]
    },
    {
      "cell_type": "code",
      "execution_count": 9,
      "metadata": {
        "colab": {
          "base_uri": "https://localhost:8080/"
        },
        "id": "ALCqn95Kw8q5",
        "outputId": "e574d3d8-57b5-4390-9bc1-730a76bc3d16"
      },
      "outputs": [
        {
          "name": "stdout",
          "output_type": "stream",
          "text": [
            "h\n"
          ]
        }
      ],
      "source": [
        "# imprime primer caracter de la cadena\n",
        "print( cadena[0] )"
      ]
    },
    {
      "cell_type": "code",
      "execution_count": 10,
      "metadata": {
        "colab": {
          "base_uri": "https://localhost:8080/"
        },
        "id": "SqAPlTeDx0sM",
        "outputId": "edbd23f5-90b9-446a-8a1a-ea8624ab485b"
      },
      "outputs": [
        {
          "name": "stdout",
          "output_type": "stream",
          "text": [
            "Hola\n",
            "            mundo\n"
          ]
        }
      ],
      "source": [
        "# crea una cadena de multiples lineasla imprime\n",
        "cadena = \"\"\"Hola\n",
        "            mundo\"\"\"\n",
        "print(cadena)"
      ]
    },
    {
      "cell_type": "markdown",
      "metadata": {
        "id": "ZazQNboHk9tQ"
      },
      "source": [
        "### None\n",
        "None representa ningun valor"
      ]
    },
    {
      "cell_type": "code",
      "execution_count": 11,
      "metadata": {
        "colab": {
          "base_uri": "https://localhost:8080/"
        },
        "id": "RPwUa2v2k9tQ",
        "outputId": "bbad67b1-aa70-4dbe-d289-553ff00e3944"
      },
      "outputs": [
        {
          "name": "stdout",
          "output_type": "stream",
          "text": [
            "None\n"
          ]
        }
      ],
      "source": [
        "# No value\n",
        "a = None\n",
        "print(a)"
      ]
    },
    {
      "cell_type": "code",
      "execution_count": 12,
      "metadata": {
        "colab": {
          "base_uri": "https://localhost:8080/"
        },
        "id": "2chsDZUfk9tQ",
        "outputId": "5bfcc384-3077-46a5-8a46-ba31aae53dea"
      },
      "outputs": [
        {
          "data": {
            "text/plain": [
              "NoneType"
            ]
          },
          "execution_count": 12,
          "metadata": {},
          "output_type": "execute_result"
        }
      ],
      "source": [
        "type(a)"
      ]
    },
    {
      "cell_type": "markdown",
      "metadata": {
        "id": "ckM-ecoIk9tR"
      },
      "source": [
        "<a name='operadores'></a>\n",
        "## <font color=blue> OPERADORES</font>"
      ]
    },
    {
      "cell_type": "markdown",
      "metadata": {
        "id": "sHZwxCZ0zM9e"
      },
      "source": [
        "### Operadores aritméticos\n"
      ]
    },
    {
      "cell_type": "markdown",
      "metadata": {
        "id": "K37maHPAtTSA"
      },
      "source": [
        "![Tabla1.png](data:image/png;base64,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)"
      ]
    },
    {
      "cell_type": "code",
      "execution_count": 13,
      "metadata": {
        "colab": {
          "base_uri": "https://localhost:8080/"
        },
        "id": "DQfpFDqqk9tR",
        "outputId": "2c0700e1-8af4-44ca-d059-2d7e9a57786d"
      },
      "outputs": [
        {
          "data": {
            "text/plain": [
              "64"
            ]
          },
          "execution_count": 13,
          "metadata": {},
          "output_type": "execute_result"
        }
      ],
      "source": [
        "8**2  # 8 al cuadrado"
      ]
    },
    {
      "cell_type": "code",
      "execution_count": 14,
      "metadata": {
        "colab": {
          "base_uri": "https://localhost:8080/"
        },
        "id": "ZZXXy6Dbkf1s",
        "outputId": "7d0cdd46-ab17-454c-89a5-8189c0e51640"
      },
      "outputs": [
        {
          "data": {
            "text/plain": [
              "3.6666666666666665"
            ]
          },
          "execution_count": 14,
          "metadata": {},
          "output_type": "execute_result"
        }
      ],
      "source": [
        "11/3   # division"
      ]
    },
    {
      "cell_type": "code",
      "execution_count": 15,
      "metadata": {
        "colab": {
          "base_uri": "https://localhost:8080/"
        },
        "id": "Kn9fllYjk9tR",
        "outputId": "4b2b678e-3d8f-45a4-e869-833e621a5a6f"
      },
      "outputs": [
        {
          "data": {
            "text/plain": [
              "3"
            ]
          },
          "execution_count": 15,
          "metadata": {},
          "output_type": "execute_result"
        }
      ],
      "source": [
        "11//3   # division entera"
      ]
    },
    {
      "cell_type": "code",
      "execution_count": 16,
      "metadata": {
        "colab": {
          "base_uri": "https://localhost:8080/"
        },
        "id": "i0SoZAItk9tR",
        "outputId": "1d6e1679-3cac-4ccc-b246-5d9145df10e9"
      },
      "outputs": [
        {
          "data": {
            "text/plain": [
              "2"
            ]
          },
          "execution_count": 16,
          "metadata": {},
          "output_type": "execute_result"
        }
      ],
      "source": [
        "11%3   # residuo (modulo) de la division"
      ]
    },
    {
      "cell_type": "markdown",
      "metadata": {
        "id": "vEc2Bsu0zTsD"
      },
      "source": [
        "### Operadores booleanos"
      ]
    },
    {
      "cell_type": "markdown",
      "metadata": {
        "id": "RmzgOojlyVgG"
      },
      "source": [
        "![Tabla2.png](data:image/png;base64,iVBORw0KGgoAAAANSUhEUgAAAbQAAADkCAYAAADwzdEFAAAAAXNSR0IArs4c6QAAAARnQU1BAACxjwv8YQUAAAAJcEhZcwAAEnQAABJ0Ad5mH3gAADAPSURBVHhe7Z3bb1vXved/nvcE8MtJ0aSW1ZCOq7jTWIYbVCo0URNxIqYG7D5IHgg5VJ2aRPxg0QWEqQXDVQNDnkI4NeUHG5IaH+sEwkQCZmIgNWlIbpQRKhWpYDs9kd1ElCvbxyma82Ig/QM0v3XZ5OLm5mWTlEhufj/BjvZl7dta63ddi947ov/nv28SAAAAUGdc+MkNvab4L/ovAAAAUNfAoAEAAPAEMGgAAAA8AQwaAAAAT9AgBu1VOvaTG3ThJ7+kVr0HVJnnfikHdH/R8m29A9QOkBfvsFVtWZt9pDSD9vSrFHz5t1IhWcsvun5JweegnNzxbQp2pevQrMvWp6tVl5XsqLmuxe/9nR/w3z/S3L2/ql0Ng3ObqzqCIfEmOeT85Z+ynOsioCK4N2hP/5R+8dogdT37nN6heOapH1DX9y/RsczdoAREXb75mnfr8pstQ9T11GOav/kruq33AdBoPPNsL73JRu2benu7+GaLCka8mB1xadDY03i5l54Rq/+Yofduvk6n/q9YTtB7X8oC9N3vw7t0j1DuZl0+lnurU5e/pyvyOSphbJyv9bd7P+N9P6P413pHQ2K2uVVHlax7UHsYbX5zhr4Su55qp5cQpVUMdz+sltGZMGh/pPeyhE6kSwbpu7LRhLISYfYl6iI2fH/ZRYHv/0Abwj/S/Ce/UspMpi7/B3vrOhQxj8kwXZ0//3W7igi/HKVTn/yeWtnDCOx9Tl1PkHEew9c99jI/y1Ni4zF99vkS0d5efjbrub9NrS8PUYCvaV3jKzbQc5/8K902ntt+38qj7yWjFVPBW/uJPvvT63RF2Le8dSW8rl/SP+9N1/F7fOy2eT1+Xyuq/orf598+2aCXHN+TdDum66pgOzpe//f0t1SfKKbexZZxry/5Xsb7ZLRvXWO1rb3NBfb6YvK2uy7/JdfXP9pTMvEVb//bXx7R66YM/Olnqh8V1Z5u2w3kx6HNnXRpSTLu0Gcy2u8P9FJq/T36hnwOWSiFpWPy6tWCOlWw/f1ERJom7iK0p3fpynxEf5c7TDbo7/8Qf5+jb5gex1McVltCIxCpydf0eIFIXVqNJ0gdM+DzLUWpeJVeMitdIM5Lhe5CuVoVL3iOvisr3kJ1rjeNShc8I57TvHfWfbeTv9LfdQf4JzmWVqCunvslDYqOzh3wsy95oW/RN2QhgRYm412eeXaQXrc2i33PnO1Y4Popiqx3gdhnCa4go329wnNcf8Z4imP6p0gZEakrQyZEKmuQz8uQAXu0n7M97bhoN1AAo82lMWOF//l7aSNUsoxXgnx6lftAXp0qqI1+sg2zHIV3eEKH2aPcEIIf0Esv/1BVCFvwUZlmsdKWfMymDD/7XJ8vo6QNuvGnUX2OCt3lNZ/apRr46f9G/1VWPHsO9vBe4HjceC7j3pn3rSLPFV9Xn/7lV3Rl3vD8n3tTe2TW+6ZTmhbFvWeudix8fYmLehd89blu41RqRrdvI+Gi3a22sVL/0oMX9WzJh1CAGamtHO1pu67bdgPFI/r4/7ImRZUj40XzV4rPv06jnyv5/ErLvYrc8+jVQjpVUCP9xJ1B+/pRbuWSeqHHqejC4u9f60b7+vf0qRa4f3r6W2qFLfig9FKFdVe7MuHrPTZnwvH60z+kf7ZmDbGnk+EpWFHkl39Ih7n83P+pV52Pp58rjf2+28m3U8rnP7nuvlmorh7/ShkR9qjeFB6gmCWpD6VIve9f6fYnVvpJUPx7OrVjipzX1xRd74LH9O+PRcqSMdvOUxjjKbykFJtBwXZP8Uf6VLfh3/+hldWX7PmLev76/+nMSTZ529PCVbuB/Og214r+mb2DqYlfFZHxsuC+kEuvFtKpghrpJ64NmnoJrtSXX02ngGTu15osskSfWi+k+YY1Bf3pn1JANhIrrC//Q+5KeyTpJUsZmujQm74eVeVTHqjGMrrP/jA1JfabXNn/pFbTGMfF87/kqCiqgcpDW1HPp1wXf/u6cF0JIyK9OuF9cacP2FNY3FnV+/L1W35b0gxKp3ZMKctir1+z9V57FNPu5eDYnjbZTYF2qxys6G/oKOm731Gp9PJl3IjAnfRdIfLp1WJ1qqDK/cRlyjHdEPTsoPYkhDUXuV+xkz2QT/5VedYpRP7+Usrqp4zevT/okNbySKylOM9DjNNkeRIC9kj/XSpZ7clwmUHrvoLH79G87bh4fivcv1EBReEeczxF5aEFn/1JD7Y+zl9XYrBY/Hbt2MtvcgeyWZLUudb78vX3lmDNCrZjgevXZL1Xk8wxtAs/+S0FLUVgUaDdyyNHe9oNGtptS/jbvf+t21bPcixZxtNzF+zjc4V4Zq9qf9P5dNSrhXSqoEb6iesxNDHlevRPbL11asNCzKx6L2vWlkDMiPljOt8qZ+cIo/d7uiJCb9t1CsIVlzFGIwdJ9brkrxT/RFxXb8r7j+rKFqjj8xnjPI/lzLzRebsxrgb8LHr8I+2F56+rvz1+JA3Kd5/lhR0LOcswlcKyztWbjDjuvoMVake9n3G+fq3Xey1SoowURa72tIN22xqsdBwbou+8KrdLk/FC+i4baUyN8jIqz6tXi7lHbfSTLfwemp795jg9GdQPaMft41WHKdiVBu0JvIOIBE22YZYjAKAg8t+2tFI0Tj+LAQAUAgYNgJriMX32F6TyACiFLUw5AgAAAFsHUo4AAAA8yY73P/2XzbamH+tNUC7LD39HqE8AvA3kvPqINuj93s/1lgIRGgAAAE8AgwYAAMATwKABAADwBDBoAAAAPAEMGgDbycYUHdn5Au1yWI5cfqgL5cF+/qlFfQDUJg/pSsBoL/sSmKIHuiQoH3cGTQhT4CxdmS9C8AAA2TSH6IMnX9Ajc7k9RAdoPx16vUkXysUinW69TyfN864eL84QgirRRMfm0m091c+7+ifTbT8Xot2qIKgA7iO0lRka7gmwZwHDBkAlWLg4Qrf6T9CxZt6QEdhRurKhjmXSQeefvEOdeksYx5OsIG+tQQ4BELgzaMK7vD3HXsZ+OmAYtoUNCFRpsMe98wU6Pa/+qjQE12dGmsJJudnTGOIcxcIp3ralMR5cPmrsy32ueh6+37yV1sqlWEHFYAN28SpRX7BDbcsI7tdEEdU+p+fVbuBlnOROyWlG+8+ftclrPlluTNxHaM1N1HnhfRa6OVqc7ZWGLdQaQNqjDKZ7blJApiAmqY+4PncGKDlopSju0HDENFCiE6ePqzJ8jh5L6Qz2chSdoI9ShughffTBHTpw5BXarc8dfjGd8pDnZggC36/HSmu9r6IGsGU8uJGgWweHKNKld0isNNUc+UfzGDa7MQR1jFu5y5blxZE1CjX4mFxZk0I21vUKKIu+WSuN1EEBnWM/rxWcMlD3KR0oKWVnHRc079lPdHdDdeSut2j44B368IZ2MDY+pg9X9PjM/Ls0vNJLUxfSCrDzgjKic4bCTD8P2FoWaXzoDvUN5hpHsQzbJFGPfdIIK7SISFWm+wqob1zJnZbr4ZNpWd799gnqy3BmGw/3Bm1jka6cOspeY4BCQzPsXbKCvD1HH7xdaEAbVAzbTLcOVoppmuhHR/bTrQ8+lgZORQDd9CNEWjXHg8uXaJp6KZDTIFmp6ONEs19kyNjCKfbOaYgWDecENBoc1bWm9YDoJ9O8L9nAgYY7gyYUaetxGr7KCpQN2fDsHD2aY6+iGcZs25BtMEJ7WcGlUw0coRkoT22ExudVujF3BACqh4rODoy85eCVZxoy0cZmFCbGSUNX2ZHEDLkGhyO022k9YC2NHLG7j9AMQ3asC4as+ijFmIlKXU73sBe/YkQAXa+pMTrjt0sLp9iryxrDAVvO/E32ph2m6svo+xL5taKyK6eUMTNnOwIP0kTNL7IMxy1ZZSenZ0avM82v0KGDHKFdxO8QTdwZNDEDC4asunAbXOCIbLrHSjOw8hvp1QfTyLE3Qf9rhuIT074nqe/qcX0uK8e7Q7QIT3+beUhXRlk5WVP1TeQsxxyTAvQkEJITh6z2Fwtmo3oROb6dktWbFJC/V7QQ46tzNHw3LctqaeyZjvh8TIWpmc9KyNRkgg7dxkxFACoNPh9TffD5mAYCk0EAAI0GDJonMX97BgAAjQEMmidRv1/CTykAAI0EDBoAAABPICeF6HUAAACgbrBPCpEGzb4TlM7Mn3+TVckAAG8BOa8+Tm2AlCMAAABPAIMGAADAE8CgAQAA8AQwaKCmSUR20I5IQm8BAEBuYNCAS9ZprB1GpmTWx6h9B9efw9I+VoHvftivj3aqMlpezDYxl/YxLgEqhTuDJoSlPUJjCTQBACXhG6ClzU3aNJdkjNr4v543fLpQqSQo4r9HZ8zrTgQrYyhBifhoYCnd1vEw7wrH022/NMAlQKVwH6EtT1A06GfPwsGwJSLOXggvcBS9ghbQ8W69DcolMRql5fAZGhCaTUZY7VSaDeqm8c1x/r+GjecZVqDL95J6BwDexp1BE95lMsleBvuThmFLrMMDLA32qKWxV3+V8ef6zEhTOCk3expDnKOQY062NMb6WLuxL/e56nn4fgkrbeWsWDPGtRxTaNZ56l4Zzox0esx75nueBoDr79wEO+2HtRmSEdwUUUjVR3bdmXWVXuAw1jNOcgfZKQX3EZrPR93jSyx0SUpy/CwMW9DvV2mN7vF0KG1b4NDnZiJ4jQ7LeopTmLg+d/jp3hlVb/HwMkVDpoESnTh9XJXhc3TP7z4sXPJZup46YZ2uzy5TW88bHFupc6P70ikPeW6GIPD9glbaaklFDTkRKa4oUSyprqdTZ7FkofMs8r9LI7B+fZaW22I0mCEfVpoqSS3nDIPlVr7sxhLUMG7kTpAty8nYKgUbfEyurEkhyTW9AsoiHLfSRN0k7JHIsVsKShmoe5ROGillZyowf0sb0eqa6sjdgxRrW6ZZy6KtX6fZZT0+kxil6HKY4sbJ3ePKiF4zbEj6eQqwvkar5tiP7w3q4XsXn+Eq8C6eJ0Gj0WUKn8k1jmIZtjix1+FyLIwVXkikMtN9CdQ2RcudQMt1zPCEfANnKJzhzDYe7g3aeoLGIu3sNfopGJ1g75IVZDJJS8KlQEpke7Cl+fysFNP46I2eNg7SrkujoCKAHip7voETvj20jz1Lu/Fs8avNosj7Lt5mfewcuxJhyh1AWanoIFF8k5b2jKbqyb7Y5SsRYe+dYpSENfMwHNX5zX4Q5P7kxqH0Hu4MmlA+/iBFJ1jpsCGLxZO0ucRehW8rtCVwRLZBlPaxgkunGjiqMVCeWpRGEyrdmDsCqAzLUb8SKPlcxaYbmSLexbuo6KwtNujglWcaMlEv0i4VmXIUY5zBCXY0MYPO44j0fv6+0Gi4j9AMQzbQbRMXjKFVAaUYM1Gpy4kge+nLRgTQfViN0RnufCLCXl3WGE6RJK7Jc5M529lHe/bxc6TymayogxN63Qmnd/Eoou6cpurLiPUctWhF5VZuUsbMnO0I6pACsqPT+9FRpL5M3Bk0MQPLyZCB7YPbYIqjmImglWZg5RcTA2+ZyLE3QfiwodjEtO44hSeC+lxWfqtskEr15NmBSfbMkl9fy1rM9Jcco0vd7xodlhNHNEW+i/dYpzE5W0NP1TeRsxxdRLkmbAzFZVkNUtBoj1yzVUFtk1d2WGIHlpIUW03Lsloae6YjPh9TYWrmsxIynTdLPUXPOHSP+DmAP7ovMxoQ46gyU4YIAXgXfD6m+uDzMQ3Elk4GMWlrIXMOyPraql4DAIDtBQbNk5i/Pds6fANTFKNoRsoxK2IDAIBtAgbNk6jfL8mfUmwp1u+kzAXGDABQHeQYml4HAAAA6gb7GJo0aG1NP9aboFyWH/6OUJ8AeBvIefURbYBJIQAAADwJDBoAAABPAIMGAADAE8CgAQBADbNw6gXadWpRb4F8wKABsJ1sTNGRnaygHJYjlx/qQnmwnw9FVxdIo2S2G9puSyjboD2Yn6LTgaN0ZUPvAADkpjlEHzz5gh6Zy+0hOkD76dDrTbpQLhbpdOt9Ommed/V4cYYQVJ/+ycx2v9ChD4BKUbJBU4bsBeroGaHpFb0TAOCahYsjdKv/BB1r1jvsyKhMOI0ddP7JO9SpdwvjeLKf6NYaDBoAAtcG7cEGe4mGITvQP0RTt9/PLYwgD1yXO1+g0/Pqr0pFnKUFekhXuI7VtlP0ax63zrFQxzKvab9GvvPFeVyeHRaV2kL0vaWwsbp4lagv6OCtz59V7RMhuvAEMuZd8smjDatPWEtgih7IAy6u4WHcGTSuzI7W42zI9lPfyCQtctj8wYUQdULQymK65yYFZBpikvpohkI7A5QcVGmJqf47NByxOq1AdNwADb+YTl8sjqxRKNWxFdM9l8h/2+ka2edP9Yt7mgLA5Xus1BYU6Vby4EaCbh0cokiX3iGwlNbo81LGHs2FaLc+lEE+YwjqBCWPlryn5NFpfE1E6j1rNKzlWi6ybxSnExoBTAqpAfpmrTRSBwX6+U//JJ3XCq4z2Eu0cp9SQdLGx/QhOxTDJ9NKbPfbJ6hvJUEfGZFU32zaEGVcY/5dGl7ppSkjf995QRnSuXm9g0k/E9g6Fml86A71DaYN1oPLRwsbMgkrsYhIVab7Cqhxrh43IiiRRRE7m+jY3BcZbdi8Zz/R3Y1sY9TcTHvZ2fzwhi3FXKROaATcGbSud2jxNiu/g3doeug4dew8SkfYk3iAlNQ2wxFUa1owdu3kqJn3JfERx7riweVL3G69FDCU2e6336dHg/dZtrhd83jYC6fYI6chWsTEgvrBNikkZcRsM1c72MlxRoyhTtLeoYAuaw4HQCcIXEdou5u5UtmjWJwdkobtFnsdHa0YZ9le2Bsz0w52AQF1gIrODoy8lR0Js+Mo2zSHYRNTwENXOcrOG8GBukAYs9YR2jubluPFEY7QciKMmi47u4eNGOteabSgEwQlpxx3d4UMw6Z3gq2n+RU6xI7E8MUSf8PS9ZoapzNy9Aun2Juzj+OArWX+JnvQBabqW4ZtnOiU9sZTxsyc7Qg8hHJ0isL3PB2Qf8vUCR6i7DE0ZdgwcWD7EDn3ORq+m5mPL35Wk0pb9Bn5/NDdIVqEt7+NPKQrozNE+abqm8jfrrGMkZoEQnLikNn2yJDULdy2Fzgim+6x2vIS+Ud69UEb9hmOMrITurdcneAd8PmYCoPPSgDgfSDn1QefjwEAAOBZYNAAAAB4Ahg0AAAAnkCOoel1AAAAoG6wj6FJg2bfCUpn5s+/yapkAIC3gJxXH6c2QMoRAACAJ4BBAwAA4Alg0AAAAHgCGDRQ8yQiO2hHJKG3AGgs0P+LBwYNlMA6jbVDyEpifYzad3DdOSztYxX4p9Ht10cb1QTSKJntgrbZEso2aOuJMYq0t1MlZBEAz+MboKXNTdo0l2SM2vi/njd8ulCpJCjiv0dnzOtOBCtjKEH5hOOZ7T7erQ+ASlGyQVOGbAf5g1GaWNY7E5FsL0QvcEa8hI8GliCQlSIxGqXl8BkayGXPZNRVjNPYTeOb4/x/DRvPM2Gi5XtJvQMAb+PaoK2vsxdoGLK2cIziyaXcwgjywHUpjb36q4x/hPfqlJ7cdlJk5nHrHAt1LPOa9mvkO1+cx+XZYVGpK2dFmpXXd0yliXOt59HlBNLxMe8pyPdMHobr7dwEO++HHZwDy0EMEU1tsowl4TB6Exd93x40tI/x2YIGlR8b7gwaV6bfH2RD1kbhWJySHDYvjQ9Qt2XMusczQ2pjgTOfm4ngNTos6ylOYZqg4A4/3Tuj6i0eXqZoyOq0AtFx/RTdl05fJGOrFEx1bMVE8By1JJ2ukX1+PCzuaQoAlw9aqatinBU2gv4oUSyprqlTaLGiHR31TNY7p56pAbT0+vVZWm6L0aApH5bSOtciZWxzaYBjYsatfOUzlqBGcNH3hdMYXGW5Mtpe9o3idEIjgEkhNUA4bqWJuulwWO5IKahusWP5HqWSRuvXaZYdipihAX0DZyi8PEvXjd4bjqeNScY1EqMUXQ5T3NCA3ePKkF4zZCj9TEWwvkar5hiQ7w3qaVum4jNdKoVpKmV/SxvR6prHBTJBo9FlCp/RBotZH2vPNmQlwUouJFKZ6b4EqsxE0IigrKjaRd/37aF97GzOmoIuKFInNALuDBp7iMkkKz9WVhPRIPl3tFM7t8q6VWn2cNhYkBKpJBxB+c365aiZ91VtqMQuaFrAWvxqsyhsKUs/K3qvsz52jtstTGYA5RtYos0z91i2uB7sHrYL+UpE2GOnGCVhzWoH26SQVNMU3ffFGGmc9kX9uqw5HFBjOqFKuI7QfD6uVPYokvGYNGzL7HX4/c7jLGCrEOm8tGBkCUiVWLYEzR+lfUaEWBAh0PKc9LskY+ylehoVnbXFBrMjYSu1aDdsRaYcxfhmcIKj8LIiPLAtuO77wqjpsvF9bMRY90qjVZs6YbspOeXo6x4wDJveiTG0rUen86KjJYa83YfVOJ3h0ici7M3Zx3HckLgmz5dpsqz29tGefUQTqXxmgiLBCb2eC6XsPY2oMzNN64QlT1NEoRyTc+ykjJk52xHUES76vr+Fe5D4W6ZO8BBlj6Epw+bCGwdlInLuSYqtZubji5/VpNIWYSOfH1xlY1SONy9S0T2zKpowFstmyjG61P2u0WE5acTAN0BT7JVOBK1zz1FLTAwmepV1GpOzNfJM1TeRv10rQsbY2xeXZfeBgkY75JqpCmoAN33fnnJOZULK1QneAZ+PqTCN+FkJMZHBH92XGRUI4QsSIgXgSfD5mOqDz8eAraOthcw5IOtrq3oNAAC2Bxg0UDa+gSmKUTQj5ZgVsQEAwBYDgwYqgP6nsIxJIZswZgCAbUaOoel1AAAAoG6wj6FJg9bW9GO9Ccpl+eHvCPUJgLeBnFcf0QaYFAIAAMCTwKABAADwBDBoAAAAPAEMWq0zf5Z27TxLC3ozg3zHAACeYOHUC7Tr1KLeAvmAQasqD+lKoNTOyueOzlDf7DvUqfeURjnPAFyzMUVHdnJ9OyxHLj/UhcrAfn20a00gjZLZLmibLQEGrV6Zf5eGX5yk8116u0jg7VWZ5hB98OQLemQut4foAO2nQ6836UKlskinW+/TSfO6V49XxlCC8umfzGz3Cx36AKgU7gyaTHHZvAy9nJ4v4jiw0UTH5krs2F3vVEggyngGUBEWLo7Qrf4TdKxZ7yiZDjr/xIjY2Xie7Ce6tQaDBhoDRGhVJitiykgZHaUrWf9Kuk4RpsqYY2jq2Ol59tTNa2ykj4Wu8ip77fKYvm921Ga7R75jGMMrD27vi9wmfUHtUORzCkfhMHoTFzJl7x+BKXogD0AuBe4MmogKzJDZWGTqq9BxUADulBHhrVupiROUHJrRxwSi0wZkqtGq18WRNQqlOrViuucS+W+r41P9d2g4Io6rSGyKPfZU6sMxKsu+xxQd1wrT4Vj/DIVg1ErmwY0E3To4RBFLPvLJ0KBL+bIbS1CDKJlKDqbbUsqU07CAcHZ71mhYy7Zc5kK0u0i90AggQqslNj6mD1f20/BJSwF10PnZXr3OZB0n2v32CepbSdBHMgpT9M2+n0pfdQb5/JX7ZBzOj8M9Oi9ohSnG7VZ6acowhJ0XJqmPZmgOEUIJLNL40B3qGxRKqdKwktPOEZzJGsHKjOhFOYnK0TTbqHnPfqK7G9nGqLmZ9tId+vCGLYVcpF5oBDCGVkus36dbtEf02zxwxNVq1u1xmuZ9yUp9wLGoZwCV4MHlS9x2vRQwDU6FUo4Lp9hjpyFaxNho7WCbFJIyYraZqR3s5Dgjxkgnae9QQJe1hhMEW6wX6gREaLWE73k6QGu0kderYk/MTDnYhaNcinoGUD4qOjsw8lbmzy4qkHIUY6KhqxxJy3QUqGmEMWsdob2z6bZcHOEILSfCqOmys3vYiFnj7FusF+oEjKHVEvaUgsyZG2Noza/QoYPsiV10yK+7wSmdYeFwD6EgZQTQ9ZpML5r5/YVT7AmaY0CgOOZvsgddian6maSMmTnbEdQRytEpCul8ir8V0gseABFaTcHe1+0hIiulIH5TJH+jZCHy7XM0fDczF+9mRlPnSb7eygh1iPOcBp7lPSapz8j3h8gah1Epj4xjd4doEZGASx7KH8VTRabqG+hJICScDt0+ajFTU6CmaA7RBY7IpnustrpE/hFj3NzEno6WkZ0YLy9fL3gFfD6mwuCzEgB4H8h59cHnYwAAAHgWGDQAAACeAAYNAACAJ4BBAwAA4AnkpBC9DgAAANQN9kkh0qDZd4LSmfnzb7IqGQDgLSDn1cepDZByBAAA4Alg0AAAAHgCGDRQMonIDtoRSegtUDnWaawddQuAW2DQPAUUYc2zPkbtO7iNHJb2sTL+aXT7ddEHagQtk2bbmEv7GJcAlcK1QVsfa5cNUZbwAdCo+AZoaXOTNs0lGaM2/q/nDZ8upGhr8eu1QiQo4r9HZ8zrTQQhozWBjwaW0m0dD/OucDzd9ksDXAJUivIjtEQk2+vQC5zE7UYLz3i33gb1QGI0SsvhMzRQsmbrpvHNcf6/ho3mGVacy/eSegcAjYFrg+YbWJKexVLp0gdSqHREJMEedsoRaKdsx9qetoiwT+5M1riWY4pL3MO6ty4nkM6J/drF3xuUALfPuQl22g+bToiP9uzTqwI4jR5HyD/LZMKS1WLlE7Jpx32EpoUrVdHd4+nw2bYgUCiOieA5akmqOouHlykaMvPqotP6KbovnaaIhycoWFTnFamoKFEsqc7Vqa1YcqnIaEDd+96ZdJvKe0OLVoz167O03BajwXyy4lbGHI0kqG1Y7oNW2rgY+czWC8nYKgUbfEwOk0JqgHA83YG7D8tcEaWSRYlRii6HKW5oru7xOIVpgq4Vsivra7Rqjs343qCetmUqPhOlUpim0vS3tBGtrjW00FSOBI1Glyl8ppLjKKzoQiKFGYdDWWeE40bauBDr12l2mZ1TwxPyDZyh8PIsXW9g4cQYmpfx7aF97PnNWj1cC0HRcw0EtpSlnxUwqAzrY+fYLQlTwUDKhYwlIuy1U4ySsGYNAEd1frM/BLk/uXFYvUfJBm11DT56vbAc9asO74/SPiMaLIgwZvKcdIorGeMIDVQAFZ21xQYdvfLucWOcusiUoxg/DU5wNI+Zcw2CGD7I3ycaDdcGbX1tVa9pMIa2tXQflulFc9wqEWFPrNC4iyBxTZZLOraJmngwkcpbJigSnNDruVBKGFQA0TYOU/UVerDfRYojZczM2Y6gjikgn3r4IDpafB9pBDCGVvOIKdlxCk8EU6mF4CobqWK8cHY2kj2z5E+lJNRi6Uk5Fpe67jU6LCeNGPgGaIojsomgde45aomJH9KA8mCDJWdtlDNV30BPAmH1R0GjnZ1nzIJ6Ib98ivHtJMVW03pBLQ0+01H8a/tuSMbaxOdmNts41gXZuK3PrUS1VXgzrrcl8XD2PgCAK2pJzhsVpzZAhOZ12lrInAOSlTIGAACP4Nqg4YfV9YNvYIpiFM1IOfqj+zDOAgDwJIjQPE3mvyOnFhgzAIA3gUEDAADgCXaIgTW9DgAAANQNvd/7uV5TSIPW1vRjvQnKZfnh7wj1CYC3gZxXH9EGdoOGlCMAAABPAIMGAADAE8CgAQAA8AQ1YNAW6fTOF2jXzrO0oPcAAOqI+bNbJr8Lp1g3nFrUW40J6qB4EKEBsG08pCsB4bzlWAJT9ECX9BJSIdvftcEUNOpge4BBA2DbaKJjc1/QoydqmernXf2Tqe1HcyHarQp6D/M9xXKhQx9oIFAHWw4MGgAAAE/g2qAtXD5KR8ywOXCWrmzog1ZKJTDF5c6my5llNhbpdCrtcpROX06d3HDINIQtzfSA69erqSdQCDGefJSuzE9p2eF1KR5Krk7Py0KKrHErezoz35hWvrLWvayxbbFYz6HZsJ5PHyvrEzUunlu+s1E2JSdu3r0WQR1UCpcGbZHmhu7QLb0lWZmh4YhNAa+MUGhoJl0uVYYrPXKcplf0frpD00MjNK23Go3OYC/XTYI+MhyCjz64QweOvOLd1BMowB0a7rlPJ2Va6n061qx350UoswANv5hOaS2OrFHI0TFSZZOD6dTXVP8MhWzjOdM9l8h/2zrOz5SScSHDI3QrlT47QUmW9dIo7lkkwoj2rNGwfia5yBStm3evRVAHlcSlQWuiyOwkLVqVeXuI+sTulftkj7MOjOhyXOaA2CHKbHxMH0pj1ktTVqNYxxuRrrdo+OAd+vDGQ7Ut62c/HXq9SW2DhqRv9h3q1OtFofvN8Mn0mMzut09QX4azZKHG8c536U2mec9+orsbGcqvbzZtTJXjpWU8614ddH6Wjxfi6nEjerCizeKeRdLcTHvZ2KdkxcLVu1cZ1MGW49qg0fpNOmWFtq25oiuhlDtUlCEbQbN+X0Vt/a9Rp+V5mscbjib60ZH9dOuDj2XnfXAjQbcOdtOPivLKATDhKKo1rSx37TzOsnmHkk7pwIyU4QvUMXRHHygCKcN7hNi6wzYhIqXAi34WNpxPJmnvUECXNdOgLt69mqAOthx3Bm3+LFf2DJEV2loRWrH4nlfR2NWbtKAb4sHGBn2uVhsS5UmN0Pi8Sjf2DXp4phvYQthDN1NRdqVpIZQnO6J7Z9NlFkc4IigWKcNrxGJbPq6fRSh0XXZ2Dytwa/yuyHevRVAHFcX1pBDBLSt0zhmh5aD5FTp0UKzMUEh7Ex18jYwxuYajgwL9YswiQMMrvRRosA4IiqGJml/kPhK3xlUW6XSPMW4l5Yo99Iul/K5pkcbdRGj2tJdQyOazlIWLZ7GcY185716LoA7KwZ1B63qLpvoN7+FgL/WJ39IUTRMdG5+kPmnUBPupb2SShlPbjYkcoxCIVKxaAyCDzgssN6kxmJsUyBh7FuMwczR8N3OMxnGmW3OILnAEMN1jlblE/pEixsBScITA9yYr7dV6n06WOg7u5lnss/tkVCPG+Vy8ey2COqgo+HxMhSnpsxIy7ZCgQ7eLndUGAKgm+HxM9cHnY2oUTAYBAIDygUGrOvjtGQAAVAIYtKqjfofywdv47RkAAJSDHEPT6wAAAEDdYB9DkwbNvhOUzsyff5NVyQAAbwE5rz5ObYCUIwAAAE8AgwYAAMATwKABAADwBDBoAIBtJRHZQTsiCb0FQOWAQQNg21insXZW5jtyLO1jXKJ+kIbJ/g4wVDa81ea1DgwaANuGjwaWNmlzUy3xMO8Kx1Pbm0sDXKLOMJ9fLOPd+gBQeLDNaxgYNAAAAJ6gBIO2TolIO7UbYXM7h82JVNysQ2zeN8blZBmkIfJgT0lECLXVqCQosqOdxhJjWr54XcqV6iMZYpSI2PqKm35UqGyu53CDi+eR72KUTaXhGkU2nOq70m3eGLg0aKIC/RScWKZlvUewvByloN9WmbwvyuVAPlR9RvelUxDx8AQF0TEbmGWKBu/RGdkflmigqHxUdj9KxlYp6Dg+U2yfK+U5LNQ97p1R10/dw8mxXWclHlylWDJdVqXh3LyTF3Bb341WP8XhzqCtX6dZaaPCFLc6YDLOW4IJumbrr+FYUpVBXt2ZxChFl7kujfrpHhf1mV2XoHEIx8fJlcRIuWyj2GD6LN/AGQovz9J1u3Zz0eeKeo6JoBEhWBGFGjcyxd7f0ka0upatbH17aB8r81n7g7p5J4/gqt0bsH6KwZ1BS95TkVn4MHVbHoSvmw4ri2ajjVrewHAnANsDe/h+M/0UZBO1TPeS+vBWYZsUkjJiIvIyDJ0/mitb003jm3HaF/XrsmZ6s0rvVDegfuyUNilk4lp6zGw9Qdcm9DoAoEqwt26m7ewGZjsRxswfpX3x9HMkYxyh5UQYNV02vo+VNBs1qZRr6J1qEtSPHXcGrXuQVL+coKDlGfiFV8C0xciIfkExdB+WqR5zbCER4fpEXYIMfLRnn/AjrX6SoEjQ8CJ9b1BPG3vro0XkqavS5xI0mjNCs+FvYTUt/rp4J09SwTZvIFxGaD4amIpTLGx6W23UFo5TEr+nKAGVbgkb4xDB1RjqEmQhx7lS/eQaHU7GlOKXiDGrJMVWM8eznGe9bUOf8w3QFHu+E0HrOc5RS8xxXEJY09RzyEVGdmJShJt38iaVa/PGAZ+PqTD4rAQA3gdyXn3w+RgAAACeBQYNAACAJ4BBAwAA4AnkGJpeBwAAAOoG+xiaNGhtTT/Wm6Bclh/+jlCfAHgbyHn1EW2ASSEAAAA8CQwaAAAATwCDBgAAwBPAoIHS2JiiIzuP0pUNvQ0AqCsWTr1Au04t6i1vAINWZWSn2vkCHbn8UO9R1EZne0hXAs7PsXBxhGjk13SsWe8AVUS3E/cjxyUwRQ90SeAtLP2RsXjMSLmhKgbtweWjsuLtSryRuTX0Li3o9ZqHo7OLV3vp5NtNegeoLk10bO4LevRELVP9vKt/MrX9aC5Eu1VB4EXMthbLhQ59oPFAhFYL9A/R8MEZulhzBl4rSruANIfogyfvUKfeBACAWsClQdOpjcAULVw+S0esEDdw1jaW8pBD4aPp4yIaE+dsqPM7hu7IUreGAvLY6Xm52cA007HB3gJRmj2tdDazrBzTMo+LxRzjyne+7ZiRsshMfRZ4Bn389PwinU6VwThbNoXqUTN/1iiTubiXGdEm3BbzVj8R7WK1ly4ikPfM0zdyPSsoQDXaXOCi/ez3TqWq66cPlBahrYxQaGiGbulNWpmh4Yj58gEKXb2TPs7cEue0/k/6UG8DG11vySgt5Jj/VnU6/GI6tbA4skahVIdjZdUqxrTm1PHbQ3SA9tPw7ff1GJc6PzmoUxK8TPVb98q+9hQddxAeh3LiGg6de7rnEvlvW2XuGH0D5G8LG13vpMrYl/NduowruC167tNJeQ2rb+SjUL8DxVGtNndxX+EQ96yxzjDuKVPV9dUHSk45HhiZpEXxglJ5Miv3STriGx/ThytipZemrMq5PUl9YhcL1F6u3MWR/XLrgFbApQmn12iSURpdvZQd0cg6ZQN1Mp362/32CepbSdBHouzGBn3OBuzQ63pMq/kVOnTwDiVTn7JXqUOznpv3cBvc3aAHDtfuvODQJvPv0vAKt6mRfuy8INp1huZsxq9vNq0sO4P8TlbfAEyettDbW0nfrItUcaF+B4pki9v86nEjejIjORf3bW6mvayfP7xhG/aosz5QokETyrNDDTTLijBYv68is/7XqNPyAJs7KCAGqkF+ZJTGXvRFpyiN97eaYf9xmuZ90mjZO6PuhH7zi422lKSV9lXttUdcAmwXudrCTsXTT6WQp9+B4tnKNrdNCslwRou9L3XQ+SeTtFcPA2UOFdRPH9i6SSFXb9KCVSEbizR3Va+DPKSjtIt39a4UIoWY7rROndcak9zVOkJ7jShJdmq5L32eFSWT73mOsNdEkAe2g3xtYafiKcdSKNzvQAGq1eZu7isRRk2Xnd3DRoyN2n+I/fXTBypv0GSUIVZmKGRZ9VZh0ZmDQxRxUMDb523WATpKuyXTthqdQnSO3Jj5mzTNdStTwEV1tkUatzw1h2uLiSBZbdL1mkwvmvn3hVPcrrY2BW4x2mLbaaLmF4mm41abLtLpnhm9zhTqd6BEqtXmLu4rHV3mW/XVB7YgQuMoY3yShvtNT2A/HeCweFH/HkbmYKXRE9hSYw2PqD89LplC5MLnaPhuZq48NduIvbrFIwnqyDhmGKXmEF1gz2y6xzp2ifwjHAlKxLUnqc/Iw4do0sEgqpRERrm7bETxGyd35G2L7UeOg6ba9CYFrDFxSYF+B4qjWm3u5r72VGcqy1NffQCfj6kw1fishPihesfQHpoyfxsmOmgPZe4DAFQEfD6m+uDzMV7m4PNkzut4sL6m1wAAoDGAQfMAu9/+NQ3TSEbKMStiAwAAjwOD5glEnjtzBtIjGDMAQIMBgwYAAMATwKABAADwBDBoAAAAPAEMGgAAAE8AgwYAAMATwKABAADwBDBoANQZmR9dBQBYwKABAADwBDBoAGwr4gvA4h+OXqTTqX/Zxfz2lECVyf6HYNX+kPgUk/UPChcVqeW6HgDeAgYNgCow3XOJ/PobU1P9d2g4Yn3SPvuT9/Kz+dIIqX8RZkp8LNf6qKPxBXFn1PWK+gw/AHUODBoAVaDP+ABrZ7CXaOU+ySBt/l0aXumlKcNQyU+80AzNlfTdQGUEzc8BVfTz/wDUEDBoAHidoj/DD0B9A4MGgJdx/Rl+AOoXGDQAaomu12R60RzjWjh1nKYPDlHE/Ip4ySnDan3+H4CtBwYNgJqig84/maQ+axYjL6G7Q7Q4F6LdukTnySE6sKK/f1docke1Pv8PQBXY8f6n/7KJT4lXDnyaHQDvAzmvPqINer/3c72lQIQGAADAE8CgAQAA8AQwaAAAADwBDBoAAABPICeF6HUAAACgbrBPCtmxyeh1AAAAoG5ByhEAAIAngEEDAADgCWDQAAAAeAIYNAAAAB6A6P8DKzY7pDUDDKwAAAAASUVORK5CYII=)"
      ]
    },
    {
      "cell_type": "code",
      "execution_count": 17,
      "metadata": {
        "colab": {
          "base_uri": "https://localhost:8080/"
        },
        "id": "7YQrMx7zyVKe",
        "outputId": "9b2afcd1-ba50-45b9-f9cc-b6678a8485c0"
      },
      "outputs": [
        {
          "data": {
            "text/plain": [
              "True"
            ]
          },
          "execution_count": 17,
          "metadata": {},
          "output_type": "execute_result"
        }
      ],
      "source": [
        "7 > 2"
      ]
    },
    {
      "cell_type": "code",
      "execution_count": 18,
      "metadata": {
        "colab": {
          "base_uri": "https://localhost:8080/"
        },
        "id": "5f_rdgut1EIR",
        "outputId": "54e6eef1-0d2f-44e3-a6c2-7d029424009c"
      },
      "outputs": [
        {
          "data": {
            "text/plain": [
              "False"
            ]
          },
          "execution_count": 18,
          "metadata": {},
          "output_type": "execute_result"
        }
      ],
      "source": [
        "\"Hola\" == \"hola\""
      ]
    },
    {
      "cell_type": "code",
      "execution_count": 19,
      "metadata": {
        "id": "FhY556Z71Dte"
      },
      "outputs": [],
      "source": [
        "a = 3.0\n",
        "b = 3.1\n",
        "c =  b != a    # asigna a c el resultado de la comparacion booleana   a != b"
      ]
    },
    {
      "cell_type": "code",
      "execution_count": 20,
      "metadata": {
        "colab": {
          "base_uri": "https://localhost:8080/"
        },
        "id": "yVXz5fGB1DjW",
        "outputId": "3f736a14-8989-46aa-bf5c-f5dd91fd436c"
      },
      "outputs": [
        {
          "name": "stdout",
          "output_type": "stream",
          "text": [
            "True\n"
          ]
        }
      ],
      "source": [
        "print(c)"
      ]
    },
    {
      "cell_type": "markdown",
      "metadata": {
        "id": "PZ9AqFGJKnPr"
      },
      "source": [
        "<a name='colecciones'></a>\n",
        "## <font color= blue>COLECCIONES </font>"
      ]
    },
    {
      "cell_type": "markdown",
      "metadata": {
        "id": "yFfG4S7UMEps"
      },
      "source": [
        "<a name='colecciones'></a>\n",
        "###Listas\n",
        " Listas son colecciones ordenadas de items.\n",
        "\n",
        "* Para accesar a los elementos se coloca el nombre de la lista seguido del indice del item en colchetes ([ ]). El primer item es el indice 0.\n",
        "\n",
        "* La longitud de la lista de puede obtener con la funcion <b>len()</b>.\n",
        "\n",
        "* Las listas son mutables (se puede cambiar los items).\n",
        "\n",
        "* Las cadenas de caracteres son listas de caracteres inmutables"
      ]
    },
    {
      "cell_type": "code",
      "execution_count": 21,
      "metadata": {
        "colab": {
          "base_uri": "https://localhost:8080/"
        },
        "id": "JqujTYV3NlT0",
        "outputId": "5915a35e-02ef-4430-fc0b-87b6ecfddbb3"
      },
      "outputs": [
        {
          "name": "stdout",
          "output_type": "stream",
          "text": [
            "[1, 2, 3, 'hola']\n"
          ]
        }
      ],
      "source": [
        "# crea una lista llamada 'milista' con 4 items. El cuarto item es una cadena\n",
        "milista = [1, 2, 3, \"hola\"]\n",
        "print(milista)"
      ]
    },
    {
      "cell_type": "code",
      "execution_count": 22,
      "metadata": {
        "colab": {
          "base_uri": "https://localhost:8080/"
        },
        "id": "MNjYaDiMdfjU",
        "outputId": "9b09934a-e214-464b-bc09-05c08a58a92e"
      },
      "outputs": [
        {
          "name": "stdout",
          "output_type": "stream",
          "text": [
            "1\n"
          ]
        }
      ],
      "source": [
        "# muestra el primer item de la lista milista\n",
        "print( milista[0] )"
      ]
    },
    {
      "cell_type": "code",
      "execution_count": 23,
      "metadata": {
        "colab": {
          "base_uri": "https://localhost:8080/"
        },
        "id": "bCY0fn19dfZJ",
        "outputId": "466212a8-101b-4fe7-d1e9-bd932ff98c96"
      },
      "outputs": [
        {
          "name": "stdout",
          "output_type": "stream",
          "text": [
            "4\n"
          ]
        }
      ],
      "source": [
        "# muestra la longitud (numero de items) de la lista milista\n",
        "print( len(milista) )"
      ]
    },
    {
      "cell_type": "code",
      "execution_count": 24,
      "metadata": {
        "colab": {
          "base_uri": "https://localhost:8080/"
        },
        "id": "JOoLQ0mQdfQJ",
        "outputId": "04d37552-477c-4bf1-8c4b-4fda75cd63e0"
      },
      "outputs": [
        {
          "name": "stdout",
          "output_type": "stream",
          "text": [
            "1\n",
            "2\n",
            "3\n",
            "hola\n"
          ]
        }
      ],
      "source": [
        "# imprime elemento por elemento de la lista\n",
        "for item in milista: # imprime elemento por elemento de la lista\n",
        "    print (item)"
      ]
    },
    {
      "cell_type": "code",
      "execution_count": 25,
      "metadata": {
        "colab": {
          "base_uri": "https://localhost:8080/"
        },
        "id": "cr-cgb8xe9Dk",
        "outputId": "118819ed-6dc8-4dcf-df9d-d34b00733091"
      },
      "outputs": [
        {
          "name": "stdout",
          "output_type": "stream",
          "text": [
            "[3, 2, 3, 'hola']\n"
          ]
        }
      ],
      "source": [
        "# cambia el primer elemento de la lista\n",
        "milista[0] = 3\n",
        "print(milista)"
      ]
    },
    {
      "cell_type": "code",
      "execution_count": 26,
      "metadata": {
        "colab": {
          "base_uri": "https://localhost:8080/"
        },
        "id": "CAJD1XgFc6zs",
        "outputId": "122c1d1c-5f5f-43cf-fd8d-24cc82b714b4"
      },
      "outputs": [
        {
          "name": "stdout",
          "output_type": "stream",
          "text": [
            "[3, 2, 3, 'hola', 33]\n"
          ]
        }
      ],
      "source": [
        "# añade un item al final de la lista\n",
        "milista.append(33)\n",
        "print(milista)    # imprime la lista"
      ]
    },
    {
      "cell_type": "code",
      "execution_count": 27,
      "metadata": {
        "colab": {
          "base_uri": "https://localhost:8080/"
        },
        "id": "Dteu0Uo_aQDy",
        "outputId": "ff2dc231-4094-4db7-8b7e-f2be53d55792"
      },
      "outputs": [
        {
          "name": "stdout",
          "output_type": "stream",
          "text": [
            "[3, 2, 3, 'hola', 33, 7, 8, 9]\n"
          ]
        }
      ],
      "source": [
        "# crea una nueva lista (otralista) y la anexa como item a la lista milista\n",
        "otralista = [ 7, 8, 9]\n",
        "milista.extend(otralista)\n",
        "print(milista)"
      ]
    },
    {
      "cell_type": "code",
      "execution_count": 28,
      "metadata": {
        "colab": {
          "base_uri": "https://localhost:8080/"
        },
        "id": "Psi1ApuZhbqM",
        "outputId": "848d4737-708a-46c3-c73f-c0e54ada8f75"
      },
      "outputs": [
        {
          "name": "stdout",
          "output_type": "stream",
          "text": [
            "[3, 2, 3, 'hola', 33, 7, 8, 9, 50, 60, 70]\n"
          ]
        }
      ],
      "source": [
        "# extiende la lista milista  con los elementos de una segunda lista (otralista)\n",
        "otralista = [ 50, 60, 70]\n",
        "milista.extend(otralista)\n",
        "print(milista)"
      ]
    },
    {
      "cell_type": "code",
      "execution_count": 29,
      "metadata": {
        "colab": {
          "base_uri": "https://localhost:8080/"
        },
        "id": "2Hx306VXaUHR",
        "outputId": "948214b4-6d95-4bb2-b259-77ae89be9366"
      },
      "outputs": [
        {
          "data": {
            "text/plain": [
              "[3, 3, 'hola', 33, 7, 8, 9, 50, 60, 70]"
            ]
          },
          "execution_count": 29,
          "metadata": {},
          "output_type": "execute_result"
        }
      ],
      "source": [
        "# borra el segundo elemento de milista\n",
        "del milista[1]\n",
        "milista"
      ]
    },
    {
      "cell_type": "code",
      "execution_count": 30,
      "metadata": {
        "colab": {
          "base_uri": "https://localhost:8080/"
        },
        "id": "T9-jUZzwacCC",
        "outputId": "b2dbb2c2-4b4c-421b-a06a-b8926bd4c799"
      },
      "outputs": [
        {
          "name": "stdout",
          "output_type": "stream",
          "text": [
            "87\n"
          ]
        }
      ],
      "source": [
        "# lista de listas (matriz de 2 dimensiones)\n",
        "a = [[77, 68, 86, 73], [96, 87, 89, 81], [70, 90, 86, 81]]\n",
        "print(a[1][1])"
      ]
    },
    {
      "cell_type": "markdown",
      "metadata": {
        "id": "gFxXcDTAMXeS"
      },
      "source": [
        "### Tuplas\n",
        " Son colecciones de items inmutables (de solo lectura). Se especifica  los items separados por coma (parentesis es opcional).  "
      ]
    },
    {
      "cell_type": "code",
      "execution_count": 31,
      "metadata": {
        "colab": {
          "base_uri": "https://localhost:8080/"
        },
        "id": "6WP5qeNiNo2D",
        "outputId": "1ce105c8-aa11-4d4e-ca86-1447ef0d5644"
      },
      "outputs": [
        {
          "name": "stdout",
          "output_type": "stream",
          "text": [
            "(1, 2, 3)\n"
          ]
        }
      ],
      "source": [
        "a = (1, 2, 3)\n",
        "print (a)"
      ]
    },
    {
      "cell_type": "code",
      "execution_count": 32,
      "metadata": {
        "colab": {
          "base_uri": "https://localhost:8080/"
        },
        "id": "XGYy2S5UbU5a",
        "outputId": "d7b3b66a-4700-4afd-ab1e-e5db6e373509"
      },
      "outputs": [
        {
          "data": {
            "text/plain": [
              "tuple"
            ]
          },
          "execution_count": 32,
          "metadata": {},
          "output_type": "execute_result"
        }
      ],
      "source": [
        "type(a)"
      ]
    },
    {
      "cell_type": "code",
      "execution_count": 33,
      "metadata": {
        "id": "4xzT29sEbU1a"
      },
      "outputs": [],
      "source": [
        "a = (1,)  # una tupla singleton con un entero"
      ]
    },
    {
      "cell_type": "code",
      "execution_count": 34,
      "metadata": {
        "colab": {
          "base_uri": "https://localhost:8080/"
        },
        "id": "IMW0KK2wbUst",
        "outputId": "033d191b-7625-4e10-9e8d-e92c6b525e1c"
      },
      "outputs": [
        {
          "data": {
            "text/plain": [
              "tuple"
            ]
          },
          "execution_count": 34,
          "metadata": {},
          "output_type": "execute_result"
        }
      ],
      "source": [
        "type(a)"
      ]
    },
    {
      "cell_type": "code",
      "execution_count": 35,
      "metadata": {
        "id": "GjsBx7UrbUoS"
      },
      "outputs": [],
      "source": [
        "b = ('hola',)  # una tupla singleton con un string"
      ]
    },
    {
      "cell_type": "markdown",
      "metadata": {
        "id": "JM1ZX7MEb_gK"
      },
      "source": [
        "El acceso a un item de la tupla se hace similar al caso de listas"
      ]
    },
    {
      "cell_type": "code",
      "execution_count": 36,
      "metadata": {
        "colab": {
          "base_uri": "https://localhost:8080/"
        },
        "id": "T1499ODub-Wa",
        "outputId": "bdbc6c52-2c34-4bef-fd22-5ca073db41f4"
      },
      "outputs": [
        {
          "data": {
            "text/plain": [
              "2"
            ]
          },
          "execution_count": 36,
          "metadata": {},
          "output_type": "execute_result"
        }
      ],
      "source": [
        "a = (1, 2, 3)\n",
        "a[1]   # retorna el segundo elemento de la tupla"
      ]
    },
    {
      "cell_type": "code",
      "execution_count": 37,
      "metadata": {
        "colab": {
          "base_uri": "https://localhost:8080/",
          "height": 156
        },
        "id": "t5aUTgsE4DPS",
        "outputId": "a6db5e11-a572-4439-dfe9-89c1f27509ba"
      },
      "outputs": [],
      "source": [
        "# No se puede cambiar los items de una tupla (son inmutables)\n",
        "# a[1] = 10"
      ]
    },
    {
      "cell_type": "code",
      "execution_count": 38,
      "metadata": {
        "colab": {
          "base_uri": "https://localhost:8080/"
        },
        "id": "cyRWmugPcMjH",
        "outputId": "a353f97f-519f-4653-99dc-55b629257a74"
      },
      "outputs": [
        {
          "data": {
            "text/plain": [
              "(2, [5, 8], 'hola')"
            ]
          },
          "execution_count": 38,
          "metadata": {},
          "output_type": "execute_result"
        }
      ],
      "source": [
        "# Sin embargo, elementos de la tupla que son listas si podrian ser actualizados\n",
        "x = ( 2, [5,6], \"hola\" )\n",
        "\n",
        "x[1][1] = 8   # el segundo item de la tupla x es una lista, podemos cambiar sus elementos\n",
        "x"
      ]
    },
    {
      "cell_type": "markdown",
      "metadata": {
        "id": "OoCsJeSWcmb2"
      },
      "source": [
        "Los elementos de la tupla se pueden <b>desempacar</b> en variables"
      ]
    },
    {
      "cell_type": "code",
      "execution_count": 39,
      "metadata": {
        "colab": {
          "base_uri": "https://localhost:8080/"
        },
        "id": "Tke8uHMKcMbK",
        "outputId": "d221c790-ac67-4d27-84c2-92dbdc8f40e1"
      },
      "outputs": [
        {
          "name": "stdout",
          "output_type": "stream",
          "text": [
            "Maria\n",
            "[15, 12, 16]\n"
          ]
        }
      ],
      "source": [
        "tupla_estudiante = ('Maria', [15, 12, 16])\n",
        "nombre, notas = tupla_estudiante\n",
        "print(nombre)\n",
        "print(notas)"
      ]
    },
    {
      "cell_type": "markdown",
      "metadata": {
        "id": "2oApI9HrMYG8"
      },
      "source": [
        "### Diccionarios\n",
        " Son estructuras que almacenan entradas (pares <b>clave:valor</b>). Las claves (<b>keys</b>) deben ser valores inmutables (como strings y tuplas) y no duplicados. Los valores (<b>values</b>) pueden ser cualquer tipo de Python"
      ]
    },
    {
      "cell_type": "code",
      "execution_count": 40,
      "metadata": {
        "colab": {
          "base_uri": "https://localhost:8080/"
        },
        "id": "FVmP7E47NqIb",
        "outputId": "54c20f26-b2a6-43b5-a8db-4e8f7c076f25"
      },
      "outputs": [
        {
          "name": "stdout",
          "output_type": "stream",
          "text": [
            "{'Maria': 25, 'Jose': 28, 'Pedro': 35}\n"
          ]
        }
      ],
      "source": [
        "# Crea un diccionario con 3 entradas (pares clave:valor). Las claves son nombres y los valores edades\n",
        "dic_edades = {'Maria': 25, 'Jose': 28, 'Pedro': 35}\n",
        "print(dic_edades)"
      ]
    },
    {
      "cell_type": "code",
      "execution_count": 41,
      "metadata": {
        "colab": {
          "base_uri": "https://localhost:8080/"
        },
        "id": "iwRzO-F27S4W",
        "outputId": "eb93ddbf-3fe9-4347-9b13-9472d5378333"
      },
      "outputs": [
        {
          "data": {
            "text/plain": [
              "28"
            ]
          },
          "execution_count": 41,
          "metadata": {},
          "output_type": "execute_result"
        }
      ],
      "source": [
        "# Recupera el valor (edad) de la entrada cuyo key es 'Jose'\n",
        "dic_edades['Jose']"
      ]
    },
    {
      "cell_type": "code",
      "execution_count": 42,
      "metadata": {
        "colab": {
          "base_uri": "https://localhost:8080/"
        },
        "id": "qJdY1vr6602e",
        "outputId": "a65d7c92-4160-493c-8128-b368e54129fc"
      },
      "outputs": [
        {
          "name": "stdout",
          "output_type": "stream",
          "text": [
            "{'Maria': 25, 'Jose': 30, 'Pedro': 35}\n"
          ]
        }
      ],
      "source": [
        "# altera el valor del key 'Jose'\n",
        "dic_edades['Jose'] = 30\n",
        "print(dic_edades)"
      ]
    },
    {
      "cell_type": "code",
      "execution_count": 43,
      "metadata": {
        "colab": {
          "base_uri": "https://localhost:8080/"
        },
        "id": "GCj9fMEI60xz",
        "outputId": "58def47d-d883-467a-e19c-c0027202911d"
      },
      "outputs": [
        {
          "data": {
            "text/plain": [
              "dict_keys(['Maria', 'Jose', 'Pedro'])"
            ]
          },
          "execution_count": 43,
          "metadata": {},
          "output_type": "execute_result"
        }
      ],
      "source": [
        "# recupera todas las claves del diccionario dic_edades\n",
        "dic_edades.keys()"
      ]
    },
    {
      "cell_type": "code",
      "execution_count": 44,
      "metadata": {
        "colab": {
          "base_uri": "https://localhost:8080/"
        },
        "id": "pGM4sQlo60tu",
        "outputId": "ac68f263-8a1b-4f00-ee31-e9c7a53d7d56"
      },
      "outputs": [
        {
          "data": {
            "text/plain": [
              "dict_values([25, 30, 35])"
            ]
          },
          "execution_count": 44,
          "metadata": {},
          "output_type": "execute_result"
        }
      ],
      "source": [
        "# recupera todos los valores del diccionario\n",
        "dic_edades.values()"
      ]
    },
    {
      "cell_type": "code",
      "execution_count": 45,
      "metadata": {
        "colab": {
          "base_uri": "https://localhost:8080/"
        },
        "id": "19nklp_99hHp",
        "outputId": "c03e83bd-bf27-41f3-fd4e-ec333e07e77d"
      },
      "outputs": [
        {
          "data": {
            "text/plain": [
              "dict_items([('Maria', 25), ('Jose', 30), ('Pedro', 35)])"
            ]
          },
          "execution_count": 45,
          "metadata": {},
          "output_type": "execute_result"
        }
      ],
      "source": [
        "# recupera todos los items (pares key:value)\n",
        "dic_edades.items()"
      ]
    },
    {
      "cell_type": "markdown",
      "metadata": {
        "id": "pJ3pDpIfk9tS"
      },
      "source": [
        "<a name='flujo'></a>\n",
        "## <font color=blue>CONTROL DE FLUJO</font>"
      ]
    },
    {
      "cell_type": "markdown",
      "metadata": {
        "id": "luvSUDzMqg4R"
      },
      "source": [
        "### Sentencias condicionales\n",
        "\n",
        "Condicionales <b>if ... else</b> ejecuta las lineas de codigo que estan identadas debajo del if si la condicion es True, caso contrario ejecutta las acciones que estan identadas debajo del del else  \n",
        "\n",
        "Condicionales <b>if ...elif...else</b> ejecuta las acciones debajo del if o elif que cumpla la condicion, caso contrario ejecutta las acciones del else  "
      ]
    },
    {
      "cell_type": "code",
      "execution_count": 46,
      "metadata": {
        "colab": {
          "base_uri": "https://localhost:8080/"
        },
        "id": "mxMrqNKUk9tT",
        "outputId": "0ddee2fa-6fe4-444e-82a4-6e4e1c999929"
      },
      "outputs": [
        {
          "name": "stdout",
          "output_type": "stream",
          "text": [
            "Eres joven aun\n"
          ]
        }
      ],
      "source": [
        "# Pide un valor numerico al usuario y lo compara en los condicionales\n",
        "valor = int(input('¿Cual es tu edad?: '))\n",
        "\n",
        "if 0 <= valor <= 20:\n",
        "  print('Eres muy joven')\n",
        "elif 20 < valor <= 40:\n",
        "  print('Eres joven aun')\n",
        "elif 40 < valor <= 60:\n",
        "  print('Tu experiencia es valiosa')\n",
        "else:\n",
        "  print('Tienes mucho que enseñarnos')"
      ]
    },
    {
      "cell_type": "code",
      "execution_count": 47,
      "metadata": {
        "colab": {
          "base_uri": "https://localhost:8080/"
        },
        "id": "jLLnEs1EA51x",
        "outputId": "a5106278-ce3a-4b83-bc05-3f4d77871327"
      },
      "outputs": [
        {
          "name": "stdout",
          "output_type": "stream",
          "text": [
            "respeto tu opinion\n"
          ]
        }
      ],
      "source": [
        "# Pide un string al usuario y lo compara en los condicionales\n",
        "valor = str(input('¿Quien es el mejor jugador de la seleccion? '))\n",
        "if valor == \"Paolo Guerrero\":\n",
        "    print(f'Estoy de acuerdo')\n",
        "else:\n",
        "    print('respeto tu opinion')"
      ]
    },
    {
      "cell_type": "markdown",
      "metadata": {
        "id": "auQBdrrfk9tT"
      },
      "source": [
        "### Bucle <b>While</b>\n",
        "repite la accion o grupo de acciones mientras se mantenga la condicion"
      ]
    },
    {
      "cell_type": "code",
      "execution_count": 48,
      "metadata": {
        "colab": {
          "base_uri": "https://localhost:8080/"
        },
        "id": "n0ErChzMk9tT",
        "outputId": "983b1c55-22f7-47b7-90ac-d6006a628ca4"
      },
      "outputs": [
        {
          "name": "stdout",
          "output_type": "stream",
          "text": [
            "1\n",
            "2\n",
            "3\n",
            "4\n",
            "5\n",
            "6\n",
            "7\n",
            "8\n",
            "9\n",
            "10\n",
            "fin\n"
          ]
        }
      ],
      "source": [
        "# ejecuta las lineas debajo del while mientras i sea menor a 10\n",
        "i = 0\n",
        "\n",
        "while i < 10:\n",
        "  i = i + 1   # esta sentencia se puede abreviar como i += 1\n",
        "  print(i)\n",
        "\n",
        "print('fin')\n",
        "\n"
      ]
    },
    {
      "cell_type": "markdown",
      "metadata": {
        "id": "QLgaFbcek9tT"
      },
      "source": [
        "### Bucle <b>For</b>\n",
        "repite una accion o conjunto de acciones para cada item en la secuencia de items. Estas secuencias pueden ser listas o  iterables construidos con la funcion <b>range()</b>"
      ]
    },
    {
      "cell_type": "code",
      "execution_count": 49,
      "metadata": {
        "colab": {
          "base_uri": "https://localhost:8080/"
        },
        "id": "RR0jyp_ik9tU",
        "outputId": "2f11d4ca-c777-4124-fea3-b2501b9ed1fe"
      },
      "outputs": [
        {
          "name": "stdout",
          "output_type": "stream",
          "text": [
            "hola\n",
            "¿como estas?\n",
            "adios\n"
          ]
        }
      ],
      "source": [
        "# recorre una lista con for e imprime sus items\n",
        "milista = [\"hola\", \"¿como estas?\", \"adios\"]\n",
        "for item in milista:\n",
        "    print(item)"
      ]
    },
    {
      "cell_type": "code",
      "execution_count": 50,
      "metadata": {
        "colab": {
          "base_uri": "https://localhost:8080/"
        },
        "id": "VL3IA6K_mN3X",
        "outputId": "eeee5064-d0cc-465a-947f-370ac28cb6e2"
      },
      "outputs": [
        {
          "data": {
            "text/plain": [
              "{'Maria': 25, 'Jose': 30, 'Pedro': 35}"
            ]
          },
          "execution_count": 50,
          "metadata": {},
          "output_type": "execute_result"
        }
      ],
      "source": [
        "\n",
        "dic_edades"
      ]
    },
    {
      "cell_type": "code",
      "execution_count": 51,
      "metadata": {
        "colab": {
          "base_uri": "https://localhost:8080/"
        },
        "id": "r9uc8sKlmRQ5",
        "outputId": "53f2dc86-ebb6-468c-ed34-da1ff81f30ab"
      },
      "outputs": [
        {
          "data": {
            "text/plain": [
              "dict_items([('Maria', 25), ('Jose', 30), ('Pedro', 35)])"
            ]
          },
          "execution_count": 51,
          "metadata": {},
          "output_type": "execute_result"
        }
      ],
      "source": [
        "dic_edades.items()"
      ]
    },
    {
      "cell_type": "code",
      "execution_count": 52,
      "metadata": {
        "colab": {
          "base_uri": "https://localhost:8080/"
        },
        "id": "tsjLyRMC60qb",
        "outputId": "1413db99-95fe-43e3-dfcd-5fd04d0b2eb0"
      },
      "outputs": [
        {
          "name": "stdout",
          "output_type": "stream",
          "text": [
            "Edad de Maria: 25\n",
            "Edad de Maria: 25\n",
            "Edad de Jose: 30\n",
            "Edad de Jose: 30\n",
            "Edad de Pedro: 35\n",
            "Edad de Pedro: 35\n"
          ]
        }
      ],
      "source": [
        "# recorre un diccionario con for e imprime sus items\n",
        "for nombre, edad in dic_edades.items():\n",
        "    print(\"Edad de {}: {}\".format(nombre, edad))\n",
        "    print(f\"Edad de {nombre}: {edad}\")"
      ]
    },
    {
      "cell_type": "code",
      "execution_count": 53,
      "metadata": {
        "colab": {
          "base_uri": "https://localhost:8080/"
        },
        "id": "f9tsTwjYmuR4",
        "outputId": "7f4efdef-78cf-45c3-989d-d29f04017e4f"
      },
      "outputs": [
        {
          "data": {
            "text/plain": [
              "range(1, 11)"
            ]
          },
          "execution_count": 53,
          "metadata": {},
          "output_type": "execute_result"
        }
      ],
      "source": [
        "range(1,11)"
      ]
    },
    {
      "cell_type": "code",
      "execution_count": 54,
      "metadata": {
        "colab": {
          "base_uri": "https://localhost:8080/"
        },
        "id": "77ZoQF3TAFd_",
        "outputId": "0a5e4b70-c765-4a92-f0d6-421b701d598f"
      },
      "outputs": [
        {
          "name": "stdout",
          "output_type": "stream",
          "text": [
            "valor de i= 0\n",
            "valor de i= 1\n",
            "valor de i= 2\n",
            "valor de i= 3\n",
            "valor de i= 4\n",
            "valor de i= 5\n",
            "valor de i= 6\n",
            "valor de i= 7\n",
            "valor de i= 8\n",
            "valor de i= 9\n"
          ]
        }
      ],
      "source": [
        "# recorre bucle for usando el iterador range()\n",
        "for i in range(10):\n",
        "    print(\"valor de i=\", str(i))"
      ]
    },
    {
      "cell_type": "markdown",
      "metadata": {
        "id": "TGsVa8zzk9tU"
      },
      "source": [
        "Note que range(i)  genera una secuencia iterable de enteros entre 0 y i-1  (no incluye i). Se puede modificar el valor de inicio y los pasos, pasando como parametros a <b>range(inicio, maximo, pasos)</b>"
      ]
    },
    {
      "cell_type": "code",
      "execution_count": 55,
      "metadata": {
        "colab": {
          "base_uri": "https://localhost:8080/"
        },
        "id": "B9TxjfNZk9tU",
        "outputId": "2d4fa86d-caca-46c7-a931-74e9af4c9827"
      },
      "outputs": [
        {
          "name": "stdout",
          "output_type": "stream",
          "text": [
            "valor de i= 5\n",
            "valor de i= 7\n",
            "valor de i= 9\n",
            "valor de i= 11\n",
            "valor de i= 13\n",
            "valor de i= 15\n",
            "valor de i= 17\n",
            "valor de i= 19\n",
            "valor de i= 21\n",
            "valor de i= 23\n"
          ]
        }
      ],
      "source": [
        "# bucle for donde el iterador genera una secuencia iniciando en 5 hasta 25 y en pasos de 2\n",
        "for i in range(5, 25, 2):\n",
        "    print(\"valor de i=\", str(i))"
      ]
    },
    {
      "cell_type": "markdown",
      "metadata": {
        "id": "9BGvXp3Mk9tU"
      },
      "source": [
        "La sentencia <b>break</b> termina la ejecucion del bucle for o while mas interno:\n"
      ]
    },
    {
      "cell_type": "code",
      "execution_count": 56,
      "metadata": {
        "colab": {
          "base_uri": "https://localhost:8080/"
        },
        "id": "Q9moqu3Wk9tU",
        "outputId": "c5d2681e-6ebb-4119-eaa9-55d113b88376"
      },
      "outputs": [
        {
          "name": "stdout",
          "output_type": "stream",
          "text": [
            "i= 0 , j= 0\n",
            "i= 0 , j= 1\n",
            "i= 0 , j= 2\n",
            "i= 1 , j= 0\n",
            "i= 1 , j= 1\n",
            "i= 2 , j= 0\n",
            "i= 4 , j= 0\n",
            "i= 4 , j= 1\n",
            "i= 4 , j= 2\n",
            "i= 4 , j= 3\n",
            "i= 4 , j= 4\n"
          ]
        }
      ],
      "source": [
        "# Dos for anidados iterando de 0 a 4. Cuando la suma de los iteradores es 3 rompe el loop interno\n",
        "for i in range(5):\n",
        "    for j in range(5):\n",
        "        if (i + j) == 3:\n",
        "            break    # rompe el for interno cuando i+j es igual a 3\n",
        "        print (\"i=\", str(i), \", j=\", str(j))\n"
      ]
    },
    {
      "cell_type": "markdown",
      "metadata": {
        "id": "PDWjRL-PFymx"
      },
      "source": [
        "La sentencia <b>continue</b> termina la ejecucion de la iteracion actual en el bucle for o while mas interno y continua con la siguiente iteracion:"
      ]
    },
    {
      "cell_type": "code",
      "execution_count": 57,
      "metadata": {
        "colab": {
          "base_uri": "https://localhost:8080/"
        },
        "id": "K0jMAcTNE7pL",
        "outputId": "555298b8-6b4f-48c8-e7ab-2b3939b602ae"
      },
      "outputs": [
        {
          "name": "stdout",
          "output_type": "stream",
          "text": [
            "0\n",
            "1\n",
            "2\n",
            "3\n",
            "5\n",
            "6\n",
            "7\n"
          ]
        }
      ],
      "source": [
        "# itera de 0 a 7. Cuando el iterador es 4 se salta a la siguiente iteracion sin imprimir\n",
        "for i in range(8):\n",
        "    if i == 4:\n",
        "        continue\n",
        "    print(i)"
      ]
    },
    {
      "cell_type": "markdown",
      "metadata": {
        "id": "cOFfVkmqk9tb"
      },
      "source": [
        "<a name='funciones'></a>\n",
        "## <font color=blue>FUNCIONES</font>"
      ]
    },
    {
      "cell_type": "markdown",
      "metadata": {
        "id": "Mnbt4CydGZUI"
      },
      "source": [
        "Una <b>función</b> es un fragmento de código con un nombre asociado que realiza una tarea especifica y devuelve un valor. El programador puede especificar <b>argumentos</b> (valores que se le pasan a la funcion) para realizar la tarea. Si el programador no especifica un valor de retorno la función devuelve el valor None (nada)"
      ]
    },
    {
      "cell_type": "code",
      "execution_count": 58,
      "metadata": {
        "id": "UC1UGi94p9MA"
      },
      "outputs": [],
      "source": [
        "dict: b = {}"
      ]
    },
    {
      "cell_type": "code",
      "execution_count": 59,
      "metadata": {
        "id": "Oa0OdYMJp2xA"
      },
      "outputs": [],
      "source": [
        "a = \"35\""
      ]
    },
    {
      "cell_type": "code",
      "execution_count": 60,
      "metadata": {
        "colab": {
          "base_uri": "https://localhost:8080/"
        },
        "id": "455VQpdQp3tZ",
        "outputId": "0b58972d-8c0b-456f-cfbb-2189b649382b"
      },
      "outputs": [
        {
          "data": {
            "text/plain": [
              "str"
            ]
          },
          "execution_count": 60,
          "metadata": {},
          "output_type": "execute_result"
        }
      ],
      "source": [
        "type(a)"
      ]
    },
    {
      "cell_type": "code",
      "execution_count": 61,
      "metadata": {
        "id": "yc5L5uOqqUv1"
      },
      "outputs": [],
      "source": [
        "d = \"35\""
      ]
    },
    {
      "cell_type": "code",
      "execution_count": 62,
      "metadata": {
        "id": "zX9maJpQqlnH"
      },
      "outputs": [],
      "source": [
        "def moon_weight(earth_weight: float) -> str:\n",
        "    return f'On the moon, you would weigh {earth_weight} kilograms.'"
      ]
    },
    {
      "cell_type": "code",
      "execution_count": 63,
      "metadata": {
        "colab": {
          "base_uri": "https://localhost:8080/",
          "height": 35
        },
        "id": "wj5lKrvPqpaa",
        "outputId": "baa886c0-9fca-4722-e7af-418a1b57170b"
      },
      "outputs": [
        {
          "data": {
            "text/plain": [
              "'On the moon, you would weigh 45 kilograms.'"
            ]
          },
          "execution_count": 63,
          "metadata": {},
          "output_type": "execute_result"
        }
      ],
      "source": [
        "moon_weight(\"45\")"
      ]
    },
    {
      "cell_type": "code",
      "execution_count": 64,
      "metadata": {
        "colab": {
          "base_uri": "https://localhost:8080/",
          "height": 35
        },
        "id": "XWRJOCWXqnYW",
        "outputId": "f7072838-741b-4994-deb9-21254faf00f1"
      },
      "outputs": [
        {
          "data": {
            "text/plain": [
              "'On the moon, you would weigh 45 kilograms.'"
            ]
          },
          "execution_count": 64,
          "metadata": {},
          "output_type": "execute_result"
        }
      ],
      "source": [
        "moon_weight(45)"
      ]
    },
    {
      "cell_type": "code",
      "execution_count": 65,
      "metadata": {
        "id": "2TYR7AeUpc9B"
      },
      "outputs": [],
      "source": [
        "int: d = \"25\""
      ]
    },
    {
      "cell_type": "code",
      "execution_count": 66,
      "metadata": {
        "colab": {
          "base_uri": "https://localhost:8080/"
        },
        "id": "H2deNYaOpfjU",
        "outputId": "1bc68d80-7ad9-468f-b44f-467886550e8b"
      },
      "outputs": [
        {
          "data": {
            "text/plain": [
              "str"
            ]
          },
          "execution_count": 66,
          "metadata": {},
          "output_type": "execute_result"
        }
      ],
      "source": [
        "type(d)"
      ]
    },
    {
      "cell_type": "code",
      "execution_count": 67,
      "metadata": {
        "id": "qfSDNz1LphcQ"
      },
      "outputs": [],
      "source": [
        "a = str(35)"
      ]
    },
    {
      "cell_type": "code",
      "execution_count": 68,
      "metadata": {
        "colab": {
          "base_uri": "https://localhost:8080/"
        },
        "id": "V7Ni3l_xptGL",
        "outputId": "262f4911-cfe7-4a08-f122-5bb6fb60df2f"
      },
      "outputs": [
        {
          "data": {
            "text/plain": [
              "str"
            ]
          },
          "execution_count": 68,
          "metadata": {},
          "output_type": "execute_result"
        }
      ],
      "source": [
        "type(a)"
      ]
    },
    {
      "cell_type": "code",
      "execution_count": 69,
      "metadata": {
        "id": "nX26uR-Fk9tb"
      },
      "outputs": [],
      "source": [
        "# Define  funcion que suma sus argumentos x, y\n",
        "def suma(x, y):\n",
        "    print(x + y)\n",
        "    return x + y"
      ]
    },
    {
      "cell_type": "code",
      "execution_count": 70,
      "metadata": {
        "colab": {
          "base_uri": "https://localhost:8080/"
        },
        "id": "cYn88nR_HWl5",
        "outputId": "1f8bcb38-94d1-411f-8a5d-f07f3aa25dfe"
      },
      "outputs": [
        {
          "name": "stdout",
          "output_type": "stream",
          "text": [
            "4\n",
            "4\n"
          ]
        }
      ],
      "source": [
        "# Prueba la funccion suma que se acaba de definir\n",
        "resultado = suma(1, 3)\n",
        "print(resultado)"
      ]
    },
    {
      "cell_type": "markdown",
      "metadata": {
        "id": "eh8XNNyuk9tb"
      },
      "source": [
        "Se puede tambien pasar los nombres de los argumentos en cualquier orden"
      ]
    },
    {
      "cell_type": "code",
      "execution_count": 71,
      "metadata": {
        "id": "4sgueISKk9tc"
      },
      "outputs": [],
      "source": [
        "# define una funcion que calcula el area de un rectangulo dados su largo y alto\n",
        "def area_rectangulo(largo, alto):\n",
        "     return largo * alto"
      ]
    },
    {
      "cell_type": "code",
      "execution_count": 72,
      "metadata": {
        "colab": {
          "base_uri": "https://localhost:8080/"
        },
        "id": "h3C6qfzMHw1V",
        "outputId": "a7fd4ded-89f9-49be-bfa1-096cb3c2297b"
      },
      "outputs": [
        {
          "data": {
            "text/plain": [
              "50"
            ]
          },
          "execution_count": 72,
          "metadata": {},
          "output_type": "execute_result"
        }
      ],
      "source": [
        "area_rectangulo(alto=5, largo=10)"
      ]
    },
    {
      "cell_type": "markdown",
      "metadata": {
        "id": "twNdO_JUk9tf"
      },
      "source": [
        "Se puede tambien tener una lista de argumentos de tamaño arbitrario"
      ]
    },
    {
      "cell_type": "code",
      "execution_count": 73,
      "metadata": {
        "id": "-mdRgAdRk9tf"
      },
      "outputs": [],
      "source": [
        "def promedio(*args):\n",
        "    return sum(args) / len(args)"
      ]
    },
    {
      "cell_type": "code",
      "execution_count": 74,
      "metadata": {
        "colab": {
          "base_uri": "https://localhost:8080/"
        },
        "id": "Ui3gRGhyIvy-",
        "outputId": "5e142cd6-8acd-48c1-eaee-081af174fec4"
      },
      "outputs": [
        {
          "data": {
            "text/plain": [
              "15.0"
            ]
          },
          "execution_count": 74,
          "metadata": {},
          "output_type": "execute_result"
        }
      ],
      "source": [
        "promedio(5, 10, 15, 20, 25)"
      ]
    },
    {
      "cell_type": "code",
      "execution_count": 75,
      "metadata": {
        "colab": {
          "base_uri": "https://localhost:8080/"
        },
        "id": "vBlyKCH2o6v2",
        "outputId": "1178a766-68be-416b-ccb7-2fe2fc1fb6f0"
      },
      "outputs": [
        {
          "data": {
            "text/plain": [
              "10.0"
            ]
          },
          "execution_count": 75,
          "metadata": {},
          "output_type": "execute_result"
        }
      ],
      "source": [
        "promedio(5, 10, 15)"
      ]
    },
    {
      "cell_type": "code",
      "execution_count": null,
      "metadata": {
        "id": "lngnTgVhpFx3"
      },
      "outputs": [],
      "source": []
    }
  ],
  "metadata": {
    "colab": {
      "provenance": []
    },
    "kernelspec": {
      "display_name": "Python 3",
      "language": "python",
      "name": "python3"
    },
    "language_info": {
      "codemirror_mode": {
        "name": "ipython",
        "version": 3
      },
      "file_extension": ".py",
      "mimetype": "text/x-python",
      "name": "python",
      "nbconvert_exporter": "python",
      "pygments_lexer": "ipython3",
      "version": "3.11.7"
    }
  },
  "nbformat": 4,
  "nbformat_minor": 0
}
