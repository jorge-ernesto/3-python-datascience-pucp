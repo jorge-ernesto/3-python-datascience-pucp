{
  "cells": [
    {
      "cell_type": "markdown",
      "metadata": {
        "id": "cdyWVYjo-2Xp"
      },
      "source": [
        "# **Curso** : Python para Data Science\n",
        "\n",
        "**Sesión 03.2**\n",
        "Análisis de Asociaciones\n",
        "\n",
        "**Profesor**:\n",
        "* Ing. Cristhian Castro Chávez\n",
        "* castro.ca@pucp.pe"
      ]
    },
    {
      "cell_type": "markdown",
      "metadata": {
        "id": "_c8j0B2bMfu1"
      },
      "source": [
        "\n",
        "## Data Mining for Grocery Stores\n",
        "https://www.kaggle.com/roshansharma/market-basket-optimization?select=Market_Basket_Optimisation.csv\n"
      ]
    },
    {
      "cell_type": "markdown",
      "metadata": {
        "id": "pgvrbSm2Mfu3"
      },
      "source": [
        "En este notebook , haremos uso del algoritmo Apriori para realizar análisis de las reglas de asociación de los comportamientos de compra de los clientes. Podemos predecir (con alta probabilidad) lo que el cliente va a comprar a continuación al observar los productos que está comprando.\n",
        "\n",
        "Tomado y adaptado de:\n",
        "https://www.kaggle.com/evrenermis/association-rule-based-learning-explained"
      ]
    },
    {
      "cell_type": "markdown",
      "metadata": {
        "id": "Aa2WCQxTLX2h"
      },
      "source": [
        "También revisar:\n",
        "https://goldinlocks.github.io/Market-Basket-Analysis-in-Python/"
      ]
    },
    {
      "cell_type": "code",
      "execution_count": 1,
      "metadata": {
        "id": "eXmhwfvxMfu3"
      },
      "outputs": [],
      "source": [
        "#Cargamos las librerías necesarias\n",
        "import pandas as pd\n",
        "import numpy as np\n",
        "\n",
        "import plotly.express as px\n",
        "import plotly.graph_objects as go\n",
        "\n",
        "from mlxtend.preprocessing import TransactionEncoder\n",
        "from mlxtend.frequent_patterns import apriori, association_rules\n",
        "\n",
        "import matplotlib.pyplot as plt\n",
        "plt.style.use('default')\n",
        "import warnings\n",
        "warnings.filterwarnings(\"ignore\")"
      ]
    },
    {
      "cell_type": "code",
      "execution_count": 2,
      "metadata": {
        "colab": {
          "base_uri": "https://localhost:8080/"
        },
        "id": "C9B6lHTzMfu4",
        "outputId": "447df253-2bbe-482b-f4e5-59a3a4c004bc"
      },
      "outputs": [
        {
          "data": {
            "text/plain": [
              "(7501, 20)"
            ]
          },
          "execution_count": 2,
          "metadata": {},
          "output_type": "execute_result"
        }
      ],
      "source": [
        "data = pd.read_csv('https://raw.githubusercontent.com/CristhianCastro25/Data_analytics/main/Sesion_8/Market_Basket_Optimisation.csv', header=None)\n",
        "data.shape"
      ]
    },
    {
      "cell_type": "code",
      "execution_count": 3,
      "metadata": {},
      "outputs": [
        {
          "data": {
            "text/plain": [
              "pandas.core.frame.DataFrame"
            ]
          },
          "execution_count": 3,
          "metadata": {},
          "output_type": "execute_result"
        }
      ],
      "source": [
        "type(data)"
      ]
    },
    {
      "cell_type": "code",
      "execution_count": 4,
      "metadata": {
        "colab": {
          "base_uri": "https://localhost:8080/",
          "height": 450
        },
        "id": "IRDjF3VTMfu4",
        "outputId": "9dd1c03e-bb26-4dec-ff88-5aef2e6370d9"
      },
      "outputs": [
        {
          "data": {
            "text/html": [
              "<div>\n",
              "<style scoped>\n",
              "    .dataframe tbody tr th:only-of-type {\n",
              "        vertical-align: middle;\n",
              "    }\n",
              "\n",
              "    .dataframe tbody tr th {\n",
              "        vertical-align: top;\n",
              "    }\n",
              "\n",
              "    .dataframe thead th {\n",
              "        text-align: right;\n",
              "    }\n",
              "</style>\n",
              "<table border=\"1\" class=\"dataframe\">\n",
              "  <thead>\n",
              "    <tr style=\"text-align: right;\">\n",
              "      <th></th>\n",
              "      <th>0</th>\n",
              "      <th>1</th>\n",
              "      <th>2</th>\n",
              "      <th>3</th>\n",
              "      <th>4</th>\n",
              "      <th>5</th>\n",
              "      <th>6</th>\n",
              "      <th>7</th>\n",
              "      <th>8</th>\n",
              "      <th>9</th>\n",
              "      <th>10</th>\n",
              "      <th>11</th>\n",
              "      <th>12</th>\n",
              "      <th>13</th>\n",
              "      <th>14</th>\n",
              "      <th>15</th>\n",
              "      <th>16</th>\n",
              "      <th>17</th>\n",
              "      <th>18</th>\n",
              "      <th>19</th>\n",
              "    </tr>\n",
              "  </thead>\n",
              "  <tbody>\n",
              "    <tr>\n",
              "      <th>0</th>\n",
              "      <td>shrimp</td>\n",
              "      <td>almonds</td>\n",
              "      <td>avocado</td>\n",
              "      <td>vegetables mix</td>\n",
              "      <td>green grapes</td>\n",
              "      <td>whole weat flour</td>\n",
              "      <td>yams</td>\n",
              "      <td>cottage cheese</td>\n",
              "      <td>energy drink</td>\n",
              "      <td>tomato juice</td>\n",
              "      <td>low fat yogurt</td>\n",
              "      <td>green tea</td>\n",
              "      <td>honey</td>\n",
              "      <td>salad</td>\n",
              "      <td>mineral water</td>\n",
              "      <td>salmon</td>\n",
              "      <td>antioxydant juice</td>\n",
              "      <td>frozen smoothie</td>\n",
              "      <td>spinach</td>\n",
              "      <td>olive oil</td>\n",
              "    </tr>\n",
              "    <tr>\n",
              "      <th>1</th>\n",
              "      <td>burgers</td>\n",
              "      <td>meatballs</td>\n",
              "      <td>eggs</td>\n",
              "      <td>NaN</td>\n",
              "      <td>NaN</td>\n",
              "      <td>NaN</td>\n",
              "      <td>NaN</td>\n",
              "      <td>NaN</td>\n",
              "      <td>NaN</td>\n",
              "      <td>NaN</td>\n",
              "      <td>NaN</td>\n",
              "      <td>NaN</td>\n",
              "      <td>NaN</td>\n",
              "      <td>NaN</td>\n",
              "      <td>NaN</td>\n",
              "      <td>NaN</td>\n",
              "      <td>NaN</td>\n",
              "      <td>NaN</td>\n",
              "      <td>NaN</td>\n",
              "      <td>NaN</td>\n",
              "    </tr>\n",
              "    <tr>\n",
              "      <th>2</th>\n",
              "      <td>chutney</td>\n",
              "      <td>NaN</td>\n",
              "      <td>NaN</td>\n",
              "      <td>NaN</td>\n",
              "      <td>NaN</td>\n",
              "      <td>NaN</td>\n",
              "      <td>NaN</td>\n",
              "      <td>NaN</td>\n",
              "      <td>NaN</td>\n",
              "      <td>NaN</td>\n",
              "      <td>NaN</td>\n",
              "      <td>NaN</td>\n",
              "      <td>NaN</td>\n",
              "      <td>NaN</td>\n",
              "      <td>NaN</td>\n",
              "      <td>NaN</td>\n",
              "      <td>NaN</td>\n",
              "      <td>NaN</td>\n",
              "      <td>NaN</td>\n",
              "      <td>NaN</td>\n",
              "    </tr>\n",
              "    <tr>\n",
              "      <th>3</th>\n",
              "      <td>turkey</td>\n",
              "      <td>avocado</td>\n",
              "      <td>NaN</td>\n",
              "      <td>NaN</td>\n",
              "      <td>NaN</td>\n",
              "      <td>NaN</td>\n",
              "      <td>NaN</td>\n",
              "      <td>NaN</td>\n",
              "      <td>NaN</td>\n",
              "      <td>NaN</td>\n",
              "      <td>NaN</td>\n",
              "      <td>NaN</td>\n",
              "      <td>NaN</td>\n",
              "      <td>NaN</td>\n",
              "      <td>NaN</td>\n",
              "      <td>NaN</td>\n",
              "      <td>NaN</td>\n",
              "      <td>NaN</td>\n",
              "      <td>NaN</td>\n",
              "      <td>NaN</td>\n",
              "    </tr>\n",
              "    <tr>\n",
              "      <th>4</th>\n",
              "      <td>mineral water</td>\n",
              "      <td>milk</td>\n",
              "      <td>energy bar</td>\n",
              "      <td>whole wheat rice</td>\n",
              "      <td>green tea</td>\n",
              "      <td>NaN</td>\n",
              "      <td>NaN</td>\n",
              "      <td>NaN</td>\n",
              "      <td>NaN</td>\n",
              "      <td>NaN</td>\n",
              "      <td>NaN</td>\n",
              "      <td>NaN</td>\n",
              "      <td>NaN</td>\n",
              "      <td>NaN</td>\n",
              "      <td>NaN</td>\n",
              "      <td>NaN</td>\n",
              "      <td>NaN</td>\n",
              "      <td>NaN</td>\n",
              "      <td>NaN</td>\n",
              "      <td>NaN</td>\n",
              "    </tr>\n",
              "    <tr>\n",
              "      <th>5</th>\n",
              "      <td>low fat yogurt</td>\n",
              "      <td>NaN</td>\n",
              "      <td>NaN</td>\n",
              "      <td>NaN</td>\n",
              "      <td>NaN</td>\n",
              "      <td>NaN</td>\n",
              "      <td>NaN</td>\n",
              "      <td>NaN</td>\n",
              "      <td>NaN</td>\n",
              "      <td>NaN</td>\n",
              "      <td>NaN</td>\n",
              "      <td>NaN</td>\n",
              "      <td>NaN</td>\n",
              "      <td>NaN</td>\n",
              "      <td>NaN</td>\n",
              "      <td>NaN</td>\n",
              "      <td>NaN</td>\n",
              "      <td>NaN</td>\n",
              "      <td>NaN</td>\n",
              "      <td>NaN</td>\n",
              "    </tr>\n",
              "    <tr>\n",
              "      <th>6</th>\n",
              "      <td>whole wheat pasta</td>\n",
              "      <td>french fries</td>\n",
              "      <td>NaN</td>\n",
              "      <td>NaN</td>\n",
              "      <td>NaN</td>\n",
              "      <td>NaN</td>\n",
              "      <td>NaN</td>\n",
              "      <td>NaN</td>\n",
              "      <td>NaN</td>\n",
              "      <td>NaN</td>\n",
              "      <td>NaN</td>\n",
              "      <td>NaN</td>\n",
              "      <td>NaN</td>\n",
              "      <td>NaN</td>\n",
              "      <td>NaN</td>\n",
              "      <td>NaN</td>\n",
              "      <td>NaN</td>\n",
              "      <td>NaN</td>\n",
              "      <td>NaN</td>\n",
              "      <td>NaN</td>\n",
              "    </tr>\n",
              "    <tr>\n",
              "      <th>7</th>\n",
              "      <td>soup</td>\n",
              "      <td>light cream</td>\n",
              "      <td>shallot</td>\n",
              "      <td>NaN</td>\n",
              "      <td>NaN</td>\n",
              "      <td>NaN</td>\n",
              "      <td>NaN</td>\n",
              "      <td>NaN</td>\n",
              "      <td>NaN</td>\n",
              "      <td>NaN</td>\n",
              "      <td>NaN</td>\n",
              "      <td>NaN</td>\n",
              "      <td>NaN</td>\n",
              "      <td>NaN</td>\n",
              "      <td>NaN</td>\n",
              "      <td>NaN</td>\n",
              "      <td>NaN</td>\n",
              "      <td>NaN</td>\n",
              "      <td>NaN</td>\n",
              "      <td>NaN</td>\n",
              "    </tr>\n",
              "    <tr>\n",
              "      <th>8</th>\n",
              "      <td>frozen vegetables</td>\n",
              "      <td>spaghetti</td>\n",
              "      <td>green tea</td>\n",
              "      <td>NaN</td>\n",
              "      <td>NaN</td>\n",
              "      <td>NaN</td>\n",
              "      <td>NaN</td>\n",
              "      <td>NaN</td>\n",
              "      <td>NaN</td>\n",
              "      <td>NaN</td>\n",
              "      <td>NaN</td>\n",
              "      <td>NaN</td>\n",
              "      <td>NaN</td>\n",
              "      <td>NaN</td>\n",
              "      <td>NaN</td>\n",
              "      <td>NaN</td>\n",
              "      <td>NaN</td>\n",
              "      <td>NaN</td>\n",
              "      <td>NaN</td>\n",
              "      <td>NaN</td>\n",
              "    </tr>\n",
              "    <tr>\n",
              "      <th>9</th>\n",
              "      <td>french fries</td>\n",
              "      <td>NaN</td>\n",
              "      <td>NaN</td>\n",
              "      <td>NaN</td>\n",
              "      <td>NaN</td>\n",
              "      <td>NaN</td>\n",
              "      <td>NaN</td>\n",
              "      <td>NaN</td>\n",
              "      <td>NaN</td>\n",
              "      <td>NaN</td>\n",
              "      <td>NaN</td>\n",
              "      <td>NaN</td>\n",
              "      <td>NaN</td>\n",
              "      <td>NaN</td>\n",
              "      <td>NaN</td>\n",
              "      <td>NaN</td>\n",
              "      <td>NaN</td>\n",
              "      <td>NaN</td>\n",
              "      <td>NaN</td>\n",
              "      <td>NaN</td>\n",
              "    </tr>\n",
              "  </tbody>\n",
              "</table>\n",
              "</div>"
            ],
            "text/plain": [
              "                  0             1           2                 3   \\\n",
              "0             shrimp       almonds     avocado    vegetables mix   \n",
              "1            burgers     meatballs        eggs               NaN   \n",
              "2            chutney           NaN         NaN               NaN   \n",
              "3             turkey       avocado         NaN               NaN   \n",
              "4      mineral water          milk  energy bar  whole wheat rice   \n",
              "5     low fat yogurt           NaN         NaN               NaN   \n",
              "6  whole wheat pasta  french fries         NaN               NaN   \n",
              "7               soup   light cream     shallot               NaN   \n",
              "8  frozen vegetables     spaghetti   green tea               NaN   \n",
              "9       french fries           NaN         NaN               NaN   \n",
              "\n",
              "             4                 5     6               7             8   \\\n",
              "0  green grapes  whole weat flour  yams  cottage cheese  energy drink   \n",
              "1           NaN               NaN   NaN             NaN           NaN   \n",
              "2           NaN               NaN   NaN             NaN           NaN   \n",
              "3           NaN               NaN   NaN             NaN           NaN   \n",
              "4     green tea               NaN   NaN             NaN           NaN   \n",
              "5           NaN               NaN   NaN             NaN           NaN   \n",
              "6           NaN               NaN   NaN             NaN           NaN   \n",
              "7           NaN               NaN   NaN             NaN           NaN   \n",
              "8           NaN               NaN   NaN             NaN           NaN   \n",
              "9           NaN               NaN   NaN             NaN           NaN   \n",
              "\n",
              "             9               10         11     12     13             14  \\\n",
              "0  tomato juice  low fat yogurt  green tea  honey  salad  mineral water   \n",
              "1           NaN             NaN        NaN    NaN    NaN            NaN   \n",
              "2           NaN             NaN        NaN    NaN    NaN            NaN   \n",
              "3           NaN             NaN        NaN    NaN    NaN            NaN   \n",
              "4           NaN             NaN        NaN    NaN    NaN            NaN   \n",
              "5           NaN             NaN        NaN    NaN    NaN            NaN   \n",
              "6           NaN             NaN        NaN    NaN    NaN            NaN   \n",
              "7           NaN             NaN        NaN    NaN    NaN            NaN   \n",
              "8           NaN             NaN        NaN    NaN    NaN            NaN   \n",
              "9           NaN             NaN        NaN    NaN    NaN            NaN   \n",
              "\n",
              "       15                 16               17       18         19  \n",
              "0  salmon  antioxydant juice  frozen smoothie  spinach  olive oil  \n",
              "1     NaN                NaN              NaN      NaN        NaN  \n",
              "2     NaN                NaN              NaN      NaN        NaN  \n",
              "3     NaN                NaN              NaN      NaN        NaN  \n",
              "4     NaN                NaN              NaN      NaN        NaN  \n",
              "5     NaN                NaN              NaN      NaN        NaN  \n",
              "6     NaN                NaN              NaN      NaN        NaN  \n",
              "7     NaN                NaN              NaN      NaN        NaN  \n",
              "8     NaN                NaN              NaN      NaN        NaN  \n",
              "9     NaN                NaN              NaN      NaN        NaN  "
            ]
          },
          "execution_count": 4,
          "metadata": {},
          "output_type": "execute_result"
        }
      ],
      "source": [
        "#Examinamos las primeras 10 instancias del dataset\n",
        "data.head(10)"
      ]
    },
    {
      "cell_type": "code",
      "execution_count": 5,
      "metadata": {
        "colab": {
          "base_uri": "https://localhost:8080/"
        },
        "id": "2yxw3bwcMfu4",
        "outputId": "9b51eaac-0708-4f07-98ed-7841bfc71a12"
      },
      "outputs": [
        {
          "data": {
            "text/plain": [
              "0      turkey\n",
              "1     avocado\n",
              "2         NaN\n",
              "3         NaN\n",
              "4         NaN\n",
              "5         NaN\n",
              "6         NaN\n",
              "7         NaN\n",
              "8         NaN\n",
              "9         NaN\n",
              "10        NaN\n",
              "11        NaN\n",
              "12        NaN\n",
              "13        NaN\n",
              "14        NaN\n",
              "15        NaN\n",
              "16        NaN\n",
              "17        NaN\n",
              "18        NaN\n",
              "19        NaN\n",
              "Name: 3, dtype: object"
            ]
          },
          "execution_count": 5,
          "metadata": {},
          "output_type": "execute_result"
        }
      ],
      "source": [
        "# En esta ocasión cada fila correspode a una transacción (una compra)\n",
        "data.loc[3]"
      ]
    },
    {
      "cell_type": "code",
      "execution_count": 6,
      "metadata": {
        "colab": {
          "base_uri": "https://localhost:8080/"
        },
        "id": "sLI0o_0eE742",
        "outputId": "d4156078-67e5-4d54-e3c2-0d0884e44a87"
      },
      "outputs": [
        {
          "data": {
            "text/plain": [
              "0            soup\n",
              "1     light cream\n",
              "2         shallot\n",
              "3             NaN\n",
              "4             NaN\n",
              "5             NaN\n",
              "6             NaN\n",
              "7             NaN\n",
              "8             NaN\n",
              "9             NaN\n",
              "10            NaN\n",
              "11            NaN\n",
              "12            NaN\n",
              "13            NaN\n",
              "14            NaN\n",
              "15            NaN\n",
              "16            NaN\n",
              "17            NaN\n",
              "18            NaN\n",
              "19            NaN\n",
              "Name: 7, dtype: object"
            ]
          },
          "execution_count": 6,
          "metadata": {},
          "output_type": "execute_result"
        }
      ],
      "source": [
        "# En esta ocasión cada fila correspode a una transacción (una compra)\n",
        "data.loc[7]"
      ]
    },
    {
      "cell_type": "markdown",
      "metadata": {
        "id": "ZWeWMiIlMfu5"
      },
      "source": [
        "# Visualización de los datos"
      ]
    },
    {
      "cell_type": "code",
      "execution_count": 7,
      "metadata": {},
      "outputs": [
        {
          "data": {
            "text/plain": [
              "(7501, 20)"
            ]
          },
          "execution_count": 7,
          "metadata": {},
          "output_type": "execute_result"
        }
      ],
      "source": [
        "data.shape"
      ]
    },
    {
      "cell_type": "code",
      "execution_count": 8,
      "metadata": {},
      "outputs": [
        {
          "data": {
            "text/plain": [
              "7501"
            ]
          },
          "execution_count": 8,
          "metadata": {},
          "output_type": "execute_result"
        }
      ],
      "source": [
        "# Filas\n",
        "data.shape[0]"
      ]
    },
    {
      "cell_type": "code",
      "execution_count": 9,
      "metadata": {},
      "outputs": [
        {
          "data": {
            "text/plain": [
              "20"
            ]
          },
          "execution_count": 9,
          "metadata": {},
          "output_type": "execute_result"
        }
      ],
      "source": [
        "# Columnas\n",
        "data.shape[1]"
      ]
    },
    {
      "cell_type": "code",
      "execution_count": 10,
      "metadata": {
        "id": "8I_ahSzSMfu5"
      },
      "outputs": [],
      "source": [
        "# 1. Almacenamos los items de cada transacción dentro de un array Numpy\n",
        "total_items = []\n",
        "for i in range(0, data.shape[0]):\n",
        "    for j in range(0, data.shape[1]):\n",
        "        total_items.append(data.values[i,j])\n",
        "\n",
        "total_items = np.array(total_items) # Convertir en un arreglo de Numpy"
      ]
    },
    {
      "cell_type": "code",
      "execution_count": 11,
      "metadata": {
        "colab": {
          "base_uri": "https://localhost:8080/"
        },
        "id": "B5sXswAFMfu5",
        "outputId": "f1da9186-d822-4728-91c1-b4156cb538b5"
      },
      "outputs": [
        {
          "data": {
            "text/plain": [
              "(150020,)"
            ]
          },
          "execution_count": 11,
          "metadata": {},
          "output_type": "execute_result"
        }
      ],
      "source": [
        "total_items.shape"
      ]
    },
    {
      "cell_type": "code",
      "execution_count": 12,
      "metadata": {
        "colab": {
          "base_uri": "https://localhost:8080/"
        },
        "id": "iR301zI7Mfu6",
        "outputId": "973ffc31-29de-4f8d-9b9c-df59b53b6fa1"
      },
      "outputs": [
        {
          "data": {
            "text/plain": [
              "array(['shrimp', 'almonds', 'avocado', ..., 'nan', 'nan', 'nan'],\n",
              "      dtype='<U32')"
            ]
          },
          "execution_count": 12,
          "metadata": {},
          "output_type": "execute_result"
        }
      ],
      "source": [
        "total_items"
      ]
    },
    {
      "cell_type": "code",
      "execution_count": 13,
      "metadata": {
        "id": "JzhsnS9-Mfu6"
      },
      "outputs": [],
      "source": [
        "# 2. Transformamos en un dataframe de Pandas\n",
        "df = pd.DataFrame(total_items, columns=[\"items\"])\n",
        "df[\"incident_count\"] = 1 # Colocamos 1 a cada ítem para luego hacer más fácil la cuenta (suma)"
      ]
    },
    {
      "cell_type": "code",
      "execution_count": 14,
      "metadata": {
        "colab": {
          "base_uri": "https://localhost:8080/",
          "height": 424
        },
        "id": "iQG9ETYsMfu6",
        "outputId": "d1eea068-867a-4e38-fb6a-d12840b57d61"
      },
      "outputs": [
        {
          "data": {
            "text/html": [
              "<div>\n",
              "<style scoped>\n",
              "    .dataframe tbody tr th:only-of-type {\n",
              "        vertical-align: middle;\n",
              "    }\n",
              "\n",
              "    .dataframe tbody tr th {\n",
              "        vertical-align: top;\n",
              "    }\n",
              "\n",
              "    .dataframe thead th {\n",
              "        text-align: right;\n",
              "    }\n",
              "</style>\n",
              "<table border=\"1\" class=\"dataframe\">\n",
              "  <thead>\n",
              "    <tr style=\"text-align: right;\">\n",
              "      <th></th>\n",
              "      <th>items</th>\n",
              "      <th>incident_count</th>\n",
              "    </tr>\n",
              "  </thead>\n",
              "  <tbody>\n",
              "    <tr>\n",
              "      <th>0</th>\n",
              "      <td>shrimp</td>\n",
              "      <td>1</td>\n",
              "    </tr>\n",
              "    <tr>\n",
              "      <th>1</th>\n",
              "      <td>almonds</td>\n",
              "      <td>1</td>\n",
              "    </tr>\n",
              "    <tr>\n",
              "      <th>2</th>\n",
              "      <td>avocado</td>\n",
              "      <td>1</td>\n",
              "    </tr>\n",
              "    <tr>\n",
              "      <th>3</th>\n",
              "      <td>vegetables mix</td>\n",
              "      <td>1</td>\n",
              "    </tr>\n",
              "    <tr>\n",
              "      <th>4</th>\n",
              "      <td>green grapes</td>\n",
              "      <td>1</td>\n",
              "    </tr>\n",
              "    <tr>\n",
              "      <th>...</th>\n",
              "      <td>...</td>\n",
              "      <td>...</td>\n",
              "    </tr>\n",
              "    <tr>\n",
              "      <th>150015</th>\n",
              "      <td>nan</td>\n",
              "      <td>1</td>\n",
              "    </tr>\n",
              "    <tr>\n",
              "      <th>150016</th>\n",
              "      <td>nan</td>\n",
              "      <td>1</td>\n",
              "    </tr>\n",
              "    <tr>\n",
              "      <th>150017</th>\n",
              "      <td>nan</td>\n",
              "      <td>1</td>\n",
              "    </tr>\n",
              "    <tr>\n",
              "      <th>150018</th>\n",
              "      <td>nan</td>\n",
              "      <td>1</td>\n",
              "    </tr>\n",
              "    <tr>\n",
              "      <th>150019</th>\n",
              "      <td>nan</td>\n",
              "      <td>1</td>\n",
              "    </tr>\n",
              "  </tbody>\n",
              "</table>\n",
              "<p>150020 rows × 2 columns</p>\n",
              "</div>"
            ],
            "text/plain": [
              "                 items  incident_count\n",
              "0               shrimp               1\n",
              "1              almonds               1\n",
              "2              avocado               1\n",
              "3       vegetables mix               1\n",
              "4         green grapes               1\n",
              "...                ...             ...\n",
              "150015             nan               1\n",
              "150016             nan               1\n",
              "150017             nan               1\n",
              "150018             nan               1\n",
              "150019             nan               1\n",
              "\n",
              "[150020 rows x 2 columns]"
            ]
          },
          "execution_count": 14,
          "metadata": {},
          "output_type": "execute_result"
        }
      ],
      "source": [
        "df"
      ]
    },
    {
      "cell_type": "code",
      "execution_count": 15,
      "metadata": {},
      "outputs": [
        {
          "data": {
            "text/plain": [
              "121"
            ]
          },
          "execution_count": 15,
          "metadata": {},
          "output_type": "execute_result"
        }
      ],
      "source": [
        "# Verificamos la cantidad de elemenos distintos. Es decir la cantida de elementos únicos distintos en la tienda\n",
        "df['items'].nunique()"
      ]
    },
    {
      "cell_type": "code",
      "execution_count": 16,
      "metadata": {},
      "outputs": [],
      "source": [
        "# 3. Eliminamos los NaN\n",
        "# indexNames = df[df['items'] == \"nan\"].index\n",
        "# df.drop(indexNames, inplace=True)"
      ]
    },
    {
      "cell_type": "code",
      "execution_count": 17,
      "metadata": {
        "id": "zL5N61nxMfu6"
      },
      "outputs": [
        {
          "data": {
            "text/plain": [
              "Index([    23,     24,     25,     26,     27,     28,     29,     30,     31,\n",
              "           32,\n",
              "       ...\n",
              "       150010, 150011, 150012, 150013, 150014, 150015, 150016, 150017, 150018,\n",
              "       150019],\n",
              "      dtype='int64', length=120657)"
            ]
          },
          "execution_count": 17,
          "metadata": {},
          "output_type": "execute_result"
        }
      ],
      "source": [
        "# 3. Eliminamos los NaN\n",
        "nan_indices = df[df['items'] == \"nan\"].index\n",
        "nan_indices\n"
      ]
    },
    {
      "cell_type": "code",
      "execution_count": 18,
      "metadata": {},
      "outputs": [
        {
          "data": {
            "text/plain": [
              "items             nan\n",
              "incident_count      1\n",
              "Name: 23, dtype: object"
            ]
          },
          "execution_count": 18,
          "metadata": {},
          "output_type": "execute_result"
        }
      ],
      "source": [
        "df.loc[23]"
      ]
    },
    {
      "cell_type": "code",
      "execution_count": 19,
      "metadata": {},
      "outputs": [],
      "source": [
        "df.drop(nan_indices, inplace=True)"
      ]
    },
    {
      "cell_type": "code",
      "execution_count": 20,
      "metadata": {
        "colab": {
          "base_uri": "https://localhost:8080/"
        },
        "id": "Xdr9NqdaMfu7",
        "outputId": "89826c70-533c-40cc-c59d-0f0453847192"
      },
      "outputs": [
        {
          "data": {
            "text/plain": [
              "120"
            ]
          },
          "execution_count": 20,
          "metadata": {},
          "output_type": "execute_result"
        }
      ],
      "source": [
        "# Verificamos la cantidad de elemenos distintos. Es decir la cantida de elementos únicos distintos en la tienda\n",
        "df['items'].nunique()"
      ]
    },
    {
      "cell_type": "code",
      "execution_count": 21,
      "metadata": {
        "colab": {
          "base_uri": "https://localhost:8080/",
          "height": 424
        },
        "id": "sMlBTAVxQlIL",
        "outputId": "54c9227b-bf4d-4932-8e15-c7a8cf60d204"
      },
      "outputs": [
        {
          "data": {
            "text/html": [
              "<div>\n",
              "<style scoped>\n",
              "    .dataframe tbody tr th:only-of-type {\n",
              "        vertical-align: middle;\n",
              "    }\n",
              "\n",
              "    .dataframe tbody tr th {\n",
              "        vertical-align: top;\n",
              "    }\n",
              "\n",
              "    .dataframe thead th {\n",
              "        text-align: right;\n",
              "    }\n",
              "</style>\n",
              "<table border=\"1\" class=\"dataframe\">\n",
              "  <thead>\n",
              "    <tr style=\"text-align: right;\">\n",
              "      <th></th>\n",
              "      <th>items</th>\n",
              "      <th>incident_count</th>\n",
              "    </tr>\n",
              "  </thead>\n",
              "  <tbody>\n",
              "    <tr>\n",
              "      <th>0</th>\n",
              "      <td>shrimp</td>\n",
              "      <td>1</td>\n",
              "    </tr>\n",
              "    <tr>\n",
              "      <th>1</th>\n",
              "      <td>almonds</td>\n",
              "      <td>1</td>\n",
              "    </tr>\n",
              "    <tr>\n",
              "      <th>2</th>\n",
              "      <td>avocado</td>\n",
              "      <td>1</td>\n",
              "    </tr>\n",
              "    <tr>\n",
              "      <th>3</th>\n",
              "      <td>vegetables mix</td>\n",
              "      <td>1</td>\n",
              "    </tr>\n",
              "    <tr>\n",
              "      <th>4</th>\n",
              "      <td>green grapes</td>\n",
              "      <td>1</td>\n",
              "    </tr>\n",
              "    <tr>\n",
              "      <th>...</th>\n",
              "      <td>...</td>\n",
              "      <td>...</td>\n",
              "    </tr>\n",
              "    <tr>\n",
              "      <th>149981</th>\n",
              "      <td>green tea</td>\n",
              "      <td>1</td>\n",
              "    </tr>\n",
              "    <tr>\n",
              "      <th>150000</th>\n",
              "      <td>eggs</td>\n",
              "      <td>1</td>\n",
              "    </tr>\n",
              "    <tr>\n",
              "      <th>150001</th>\n",
              "      <td>frozen smoothie</td>\n",
              "      <td>1</td>\n",
              "    </tr>\n",
              "    <tr>\n",
              "      <th>150002</th>\n",
              "      <td>yogurt cake</td>\n",
              "      <td>1</td>\n",
              "    </tr>\n",
              "    <tr>\n",
              "      <th>150003</th>\n",
              "      <td>low fat yogurt</td>\n",
              "      <td>1</td>\n",
              "    </tr>\n",
              "  </tbody>\n",
              "</table>\n",
              "<p>29363 rows × 2 columns</p>\n",
              "</div>"
            ],
            "text/plain": [
              "                  items  incident_count\n",
              "0                shrimp               1\n",
              "1               almonds               1\n",
              "2               avocado               1\n",
              "3        vegetables mix               1\n",
              "4          green grapes               1\n",
              "...                 ...             ...\n",
              "149981        green tea               1\n",
              "150000             eggs               1\n",
              "150001  frozen smoothie               1\n",
              "150002      yogurt cake               1\n",
              "150003   low fat yogurt               1\n",
              "\n",
              "[29363 rows x 2 columns]"
            ]
          },
          "execution_count": 21,
          "metadata": {},
          "output_type": "execute_result"
        }
      ],
      "source": [
        "df"
      ]
    },
    {
      "cell_type": "code",
      "execution_count": 22,
      "metadata": {
        "id": "Pne3h4VvMfu7"
      },
      "outputs": [],
      "source": [
        "# 4. Realizamos un groupby para contar las veces que un item aparece en tota. Y realizar finalmente una visualización\n",
        "# .sum(), por defecto sumará todas las columnas numéricas que no sean la columna \"items\"\n",
        "df_table = df.groupby(\"items\").sum().sort_values(\"incident_count\", ascending=False).reset_index()"
      ]
    },
    {
      "cell_type": "code",
      "execution_count": 23,
      "metadata": {
        "colab": {
          "base_uri": "https://localhost:8080/",
          "height": 677
        },
        "id": "EQesgn8MMfu7",
        "outputId": "47d8c3e4-bd52-4205-83d3-f237e9a12b03"
      },
      "outputs": [
        {
          "data": {
            "text/html": [
              "<style type=\"text/css\">\n",
              "#T_c9496_row0_col1 {\n",
              "  background-color: #08306b;\n",
              "  color: #f1f1f1;\n",
              "}\n",
              "#T_c9496_row1_col1 {\n",
              "  background-color: #3787c0;\n",
              "  color: #f1f1f1;\n",
              "}\n",
              "#T_c9496_row2_col1 {\n",
              "  background-color: #3f8fc5;\n",
              "  color: #f1f1f1;\n",
              "}\n",
              "#T_c9496_row3_col1 {\n",
              "  background-color: #4594c7;\n",
              "  color: #f1f1f1;\n",
              "}\n",
              "#T_c9496_row4_col1 {\n",
              "  background-color: #529dcc;\n",
              "  color: #f1f1f1;\n",
              "}\n",
              "#T_c9496_row5_col1 {\n",
              "  background-color: #95c5df;\n",
              "  color: #000000;\n",
              "}\n",
              "#T_c9496_row6_col1 {\n",
              "  background-color: #9cc9e1;\n",
              "  color: #000000;\n",
              "}\n",
              "#T_c9496_row7_col1 {\n",
              "  background-color: #cfe1f2;\n",
              "  color: #000000;\n",
              "}\n",
              "#T_c9496_row8_col1, #T_c9496_row9_col1 {\n",
              "  background-color: #d3e3f3;\n",
              "  color: #000000;\n",
              "}\n",
              "#T_c9496_row10_col1 {\n",
              "  background-color: #dce9f6;\n",
              "  color: #000000;\n",
              "}\n",
              "#T_c9496_row11_col1, #T_c9496_row12_col1 {\n",
              "  background-color: #e3eef8;\n",
              "  color: #000000;\n",
              "}\n",
              "#T_c9496_row13_col1 {\n",
              "  background-color: #e4eff9;\n",
              "  color: #000000;\n",
              "}\n",
              "#T_c9496_row14_col1 {\n",
              "  background-color: #e7f1fa;\n",
              "  color: #000000;\n",
              "}\n",
              "#T_c9496_row15_col1 {\n",
              "  background-color: #edf4fc;\n",
              "  color: #000000;\n",
              "}\n",
              "#T_c9496_row16_col1 {\n",
              "  background-color: #f1f7fd;\n",
              "  color: #000000;\n",
              "}\n",
              "#T_c9496_row17_col1 {\n",
              "  background-color: #f4f9fe;\n",
              "  color: #000000;\n",
              "}\n",
              "#T_c9496_row18_col1 {\n",
              "  background-color: #f6faff;\n",
              "  color: #000000;\n",
              "}\n",
              "#T_c9496_row19_col1 {\n",
              "  background-color: #f7fbff;\n",
              "  color: #000000;\n",
              "}\n",
              "</style>\n",
              "<table id=\"T_c9496\">\n",
              "  <thead>\n",
              "    <tr>\n",
              "      <th class=\"blank level0\" >&nbsp;</th>\n",
              "      <th id=\"T_c9496_level0_col0\" class=\"col_heading level0 col0\" >items</th>\n",
              "      <th id=\"T_c9496_level0_col1\" class=\"col_heading level0 col1\" >incident_count</th>\n",
              "    </tr>\n",
              "  </thead>\n",
              "  <tbody>\n",
              "    <tr>\n",
              "      <th id=\"T_c9496_level0_row0\" class=\"row_heading level0 row0\" >0</th>\n",
              "      <td id=\"T_c9496_row0_col0\" class=\"data row0 col0\" >mineral water</td>\n",
              "      <td id=\"T_c9496_row0_col1\" class=\"data row0 col1\" >1788</td>\n",
              "    </tr>\n",
              "    <tr>\n",
              "      <th id=\"T_c9496_level0_row1\" class=\"row_heading level0 row1\" >1</th>\n",
              "      <td id=\"T_c9496_row1_col0\" class=\"data row1 col0\" >eggs</td>\n",
              "      <td id=\"T_c9496_row1_col1\" class=\"data row1 col1\" >1348</td>\n",
              "    </tr>\n",
              "    <tr>\n",
              "      <th id=\"T_c9496_level0_row2\" class=\"row_heading level0 row2\" >2</th>\n",
              "      <td id=\"T_c9496_row2_col0\" class=\"data row2 col0\" >spaghetti</td>\n",
              "      <td id=\"T_c9496_row2_col1\" class=\"data row2 col1\" >1306</td>\n",
              "    </tr>\n",
              "    <tr>\n",
              "      <th id=\"T_c9496_level0_row3\" class=\"row_heading level0 row3\" >3</th>\n",
              "      <td id=\"T_c9496_row3_col0\" class=\"data row3 col0\" >french fries</td>\n",
              "      <td id=\"T_c9496_row3_col1\" class=\"data row3 col1\" >1282</td>\n",
              "    </tr>\n",
              "    <tr>\n",
              "      <th id=\"T_c9496_level0_row4\" class=\"row_heading level0 row4\" >4</th>\n",
              "      <td id=\"T_c9496_row4_col0\" class=\"data row4 col0\" >chocolate</td>\n",
              "      <td id=\"T_c9496_row4_col1\" class=\"data row4 col1\" >1230</td>\n",
              "    </tr>\n",
              "    <tr>\n",
              "      <th id=\"T_c9496_level0_row5\" class=\"row_heading level0 row5\" >5</th>\n",
              "      <td id=\"T_c9496_row5_col0\" class=\"data row5 col0\" >green tea</td>\n",
              "      <td id=\"T_c9496_row5_col1\" class=\"data row5 col1\" >991</td>\n",
              "    </tr>\n",
              "    <tr>\n",
              "      <th id=\"T_c9496_level0_row6\" class=\"row_heading level0 row6\" >6</th>\n",
              "      <td id=\"T_c9496_row6_col0\" class=\"data row6 col0\" >milk</td>\n",
              "      <td id=\"T_c9496_row6_col1\" class=\"data row6 col1\" >972</td>\n",
              "    </tr>\n",
              "    <tr>\n",
              "      <th id=\"T_c9496_level0_row7\" class=\"row_heading level0 row7\" >7</th>\n",
              "      <td id=\"T_c9496_row7_col0\" class=\"data row7 col0\" >ground beef</td>\n",
              "      <td id=\"T_c9496_row7_col1\" class=\"data row7 col1\" >737</td>\n",
              "    </tr>\n",
              "    <tr>\n",
              "      <th id=\"T_c9496_level0_row8\" class=\"row_heading level0 row8\" >8</th>\n",
              "      <td id=\"T_c9496_row8_col0\" class=\"data row8 col0\" >frozen vegetables</td>\n",
              "      <td id=\"T_c9496_row8_col1\" class=\"data row8 col1\" >715</td>\n",
              "    </tr>\n",
              "    <tr>\n",
              "      <th id=\"T_c9496_level0_row9\" class=\"row_heading level0 row9\" >9</th>\n",
              "      <td id=\"T_c9496_row9_col0\" class=\"data row9 col0\" >pancakes</td>\n",
              "      <td id=\"T_c9496_row9_col1\" class=\"data row9 col1\" >713</td>\n",
              "    </tr>\n",
              "    <tr>\n",
              "      <th id=\"T_c9496_level0_row10\" class=\"row_heading level0 row10\" >10</th>\n",
              "      <td id=\"T_c9496_row10_col0\" class=\"data row10 col0\" >burgers</td>\n",
              "      <td id=\"T_c9496_row10_col1\" class=\"data row10 col1\" >654</td>\n",
              "    </tr>\n",
              "    <tr>\n",
              "      <th id=\"T_c9496_level0_row11\" class=\"row_heading level0 row11\" >11</th>\n",
              "      <td id=\"T_c9496_row11_col0\" class=\"data row11 col0\" >cake</td>\n",
              "      <td id=\"T_c9496_row11_col1\" class=\"data row11 col1\" >608</td>\n",
              "    </tr>\n",
              "    <tr>\n",
              "      <th id=\"T_c9496_level0_row12\" class=\"row_heading level0 row12\" >12</th>\n",
              "      <td id=\"T_c9496_row12_col0\" class=\"data row12 col0\" >cookies</td>\n",
              "      <td id=\"T_c9496_row12_col1\" class=\"data row12 col1\" >603</td>\n",
              "    </tr>\n",
              "    <tr>\n",
              "      <th id=\"T_c9496_level0_row13\" class=\"row_heading level0 row13\" >13</th>\n",
              "      <td id=\"T_c9496_row13_col0\" class=\"data row13 col0\" >escalope</td>\n",
              "      <td id=\"T_c9496_row13_col1\" class=\"data row13 col1\" >595</td>\n",
              "    </tr>\n",
              "    <tr>\n",
              "      <th id=\"T_c9496_level0_row14\" class=\"row_heading level0 row14\" >14</th>\n",
              "      <td id=\"T_c9496_row14_col0\" class=\"data row14 col0\" >low fat yogurt</td>\n",
              "      <td id=\"T_c9496_row14_col1\" class=\"data row14 col1\" >574</td>\n",
              "    </tr>\n",
              "    <tr>\n",
              "      <th id=\"T_c9496_level0_row15\" class=\"row_heading level0 row15\" >15</th>\n",
              "      <td id=\"T_c9496_row15_col0\" class=\"data row15 col0\" >shrimp</td>\n",
              "      <td id=\"T_c9496_row15_col1\" class=\"data row15 col1\" >536</td>\n",
              "    </tr>\n",
              "    <tr>\n",
              "      <th id=\"T_c9496_level0_row16\" class=\"row_heading level0 row16\" >16</th>\n",
              "      <td id=\"T_c9496_row16_col0\" class=\"data row16 col0\" >tomatoes</td>\n",
              "      <td id=\"T_c9496_row16_col1\" class=\"data row16 col1\" >513</td>\n",
              "    </tr>\n",
              "    <tr>\n",
              "      <th id=\"T_c9496_level0_row17\" class=\"row_heading level0 row17\" >17</th>\n",
              "      <td id=\"T_c9496_row17_col0\" class=\"data row17 col0\" >olive oil</td>\n",
              "      <td id=\"T_c9496_row17_col1\" class=\"data row17 col1\" >494</td>\n",
              "    </tr>\n",
              "    <tr>\n",
              "      <th id=\"T_c9496_level0_row18\" class=\"row_heading level0 row18\" >18</th>\n",
              "      <td id=\"T_c9496_row18_col0\" class=\"data row18 col0\" >frozen smoothie</td>\n",
              "      <td id=\"T_c9496_row18_col1\" class=\"data row18 col1\" >475</td>\n",
              "    </tr>\n",
              "    <tr>\n",
              "      <th id=\"T_c9496_level0_row19\" class=\"row_heading level0 row19\" >19</th>\n",
              "      <td id=\"T_c9496_row19_col0\" class=\"data row19 col0\" >turkey</td>\n",
              "      <td id=\"T_c9496_row19_col1\" class=\"data row19 col1\" >469</td>\n",
              "    </tr>\n",
              "  </tbody>\n",
              "</table>\n"
            ],
            "text/plain": [
              "<pandas.io.formats.style.Styler at 0x2148aac7ad0>"
            ]
          },
          "execution_count": 23,
          "metadata": {},
          "output_type": "execute_result"
        }
      ],
      "source": [
        "# 5. Visualizamos los 20 productos que se compran más frecuentemente\n",
        "df_table.head(20).style.background_gradient(cmap='Blues')"
      ]
    },
    {
      "cell_type": "code",
      "execution_count": 24,
      "metadata": {
        "colab": {
          "base_uri": "https://localhost:8080/",
          "height": 1000
        },
        "id": "IfYLVOJCQ9F_",
        "outputId": "9bf39213-bda1-41a8-dbfa-91a021295a03"
      },
      "outputs": [
        {
          "data": {
            "text/html": [
              "<style type=\"text/css\">\n",
              "#T_50d9e_row0_col1 {\n",
              "  background-color: #08306b;\n",
              "  color: #f1f1f1;\n",
              "}\n",
              "#T_50d9e_row1_col1 {\n",
              "  background-color: #2474b7;\n",
              "  color: #f1f1f1;\n",
              "}\n",
              "#T_50d9e_row2_col1 {\n",
              "  background-color: #2b7bba;\n",
              "  color: #f1f1f1;\n",
              "}\n",
              "#T_50d9e_row3_col1 {\n",
              "  background-color: #2f7fbc;\n",
              "  color: #f1f1f1;\n",
              "}\n",
              "#T_50d9e_row4_col1 {\n",
              "  background-color: #3787c0;\n",
              "  color: #f1f1f1;\n",
              "}\n",
              "#T_50d9e_row5_col1 {\n",
              "  background-color: #64a9d3;\n",
              "  color: #f1f1f1;\n",
              "}\n",
              "#T_50d9e_row6_col1 {\n",
              "  background-color: #68acd5;\n",
              "  color: #f1f1f1;\n",
              "}\n",
              "#T_50d9e_row7_col1 {\n",
              "  background-color: #a0cbe2;\n",
              "  color: #000000;\n",
              "}\n",
              "#T_50d9e_row8_col1, #T_50d9e_row9_col1 {\n",
              "  background-color: #a4cce3;\n",
              "  color: #000000;\n",
              "}\n",
              "#T_50d9e_row10_col1 {\n",
              "  background-color: #afd1e7;\n",
              "  color: #000000;\n",
              "}\n",
              "#T_50d9e_row11_col1 {\n",
              "  background-color: #b8d5ea;\n",
              "  color: #000000;\n",
              "}\n",
              "#T_50d9e_row12_col1 {\n",
              "  background-color: #b9d6ea;\n",
              "  color: #000000;\n",
              "}\n",
              "#T_50d9e_row13_col1 {\n",
              "  background-color: #bad6eb;\n",
              "  color: #000000;\n",
              "}\n",
              "#T_50d9e_row14_col1 {\n",
              "  background-color: #bfd8ed;\n",
              "  color: #000000;\n",
              "}\n",
              "#T_50d9e_row15_col1 {\n",
              "  background-color: #c6dbef;\n",
              "  color: #000000;\n",
              "}\n",
              "#T_50d9e_row16_col1 {\n",
              "  background-color: #c9ddf0;\n",
              "  color: #000000;\n",
              "}\n",
              "#T_50d9e_row17_col1 {\n",
              "  background-color: #cbdef1;\n",
              "  color: #000000;\n",
              "}\n",
              "#T_50d9e_row18_col1 {\n",
              "  background-color: #cde0f1;\n",
              "  color: #000000;\n",
              "}\n",
              "#T_50d9e_row19_col1 {\n",
              "  background-color: #cee0f2;\n",
              "  color: #000000;\n",
              "}\n",
              "#T_50d9e_row20_col1 {\n",
              "  background-color: #d0e2f2;\n",
              "  color: #000000;\n",
              "}\n",
              "#T_50d9e_row21_col1 {\n",
              "  background-color: #d1e2f3;\n",
              "  color: #000000;\n",
              "}\n",
              "#T_50d9e_row22_col1 {\n",
              "  background-color: #d6e6f4;\n",
              "  color: #000000;\n",
              "}\n",
              "#T_50d9e_row23_col1, #T_50d9e_row24_col1 {\n",
              "  background-color: #d8e7f5;\n",
              "  color: #000000;\n",
              "}\n",
              "#T_50d9e_row25_col1 {\n",
              "  background-color: #d9e8f5;\n",
              "  color: #000000;\n",
              "}\n",
              "#T_50d9e_row26_col1 {\n",
              "  background-color: #dbe9f6;\n",
              "  color: #000000;\n",
              "}\n",
              "#T_50d9e_row27_col1 {\n",
              "  background-color: #dce9f6;\n",
              "  color: #000000;\n",
              "}\n",
              "#T_50d9e_row28_col1 {\n",
              "  background-color: #dfebf7;\n",
              "  color: #000000;\n",
              "}\n",
              "#T_50d9e_row29_col1 {\n",
              "  background-color: #dfecf7;\n",
              "  color: #000000;\n",
              "}\n",
              "#T_50d9e_row30_col1, #T_50d9e_row31_col1 {\n",
              "  background-color: #e7f1fa;\n",
              "  color: #000000;\n",
              "}\n",
              "#T_50d9e_row32_col1 {\n",
              "  background-color: #e8f1fa;\n",
              "  color: #000000;\n",
              "}\n",
              "#T_50d9e_row33_col1 {\n",
              "  background-color: #e9f2fa;\n",
              "  color: #000000;\n",
              "}\n",
              "#T_50d9e_row34_col1, #T_50d9e_row35_col1 {\n",
              "  background-color: #eaf3fb;\n",
              "  color: #000000;\n",
              "}\n",
              "#T_50d9e_row36_col1 {\n",
              "  background-color: #ebf3fb;\n",
              "  color: #000000;\n",
              "}\n",
              "#T_50d9e_row37_col1 {\n",
              "  background-color: #ecf4fb;\n",
              "  color: #000000;\n",
              "}\n",
              "#T_50d9e_row38_col1, #T_50d9e_row39_col1, #T_50d9e_row40_col1, #T_50d9e_row41_col1 {\n",
              "  background-color: #edf4fc;\n",
              "  color: #000000;\n",
              "}\n",
              "#T_50d9e_row42_col1, #T_50d9e_row43_col1, #T_50d9e_row44_col1, #T_50d9e_row45_col1 {\n",
              "  background-color: #eef5fc;\n",
              "  color: #000000;\n",
              "}\n",
              "#T_50d9e_row46_col1 {\n",
              "  background-color: #f0f6fd;\n",
              "  color: #000000;\n",
              "}\n",
              "#T_50d9e_row47_col1 {\n",
              "  background-color: #f1f7fd;\n",
              "  color: #000000;\n",
              "}\n",
              "#T_50d9e_row48_col1, #T_50d9e_row49_col1 {\n",
              "  background-color: #f2f7fd;\n",
              "  color: #000000;\n",
              "}\n",
              "#T_50d9e_row50_col1 {\n",
              "  background-color: #f2f8fd;\n",
              "  color: #000000;\n",
              "}\n",
              "#T_50d9e_row51_col1, #T_50d9e_row52_col1 {\n",
              "  background-color: #f3f8fe;\n",
              "  color: #000000;\n",
              "}\n",
              "#T_50d9e_row53_col1 {\n",
              "  background-color: #f4f9fe;\n",
              "  color: #000000;\n",
              "}\n",
              "#T_50d9e_row54_col1, #T_50d9e_row55_col1, #T_50d9e_row56_col1 {\n",
              "  background-color: #f5f9fe;\n",
              "  color: #000000;\n",
              "}\n",
              "#T_50d9e_row57_col1 {\n",
              "  background-color: #f6faff;\n",
              "  color: #000000;\n",
              "}\n",
              "#T_50d9e_row58_col1, #T_50d9e_row59_col1 {\n",
              "  background-color: #f7fbff;\n",
              "  color: #000000;\n",
              "}\n",
              "</style>\n",
              "<table id=\"T_50d9e\">\n",
              "  <thead>\n",
              "    <tr>\n",
              "      <th class=\"blank level0\" >&nbsp;</th>\n",
              "      <th id=\"T_50d9e_level0_col0\" class=\"col_heading level0 col0\" >items</th>\n",
              "      <th id=\"T_50d9e_level0_col1\" class=\"col_heading level0 col1\" >incident_count</th>\n",
              "    </tr>\n",
              "  </thead>\n",
              "  <tbody>\n",
              "    <tr>\n",
              "      <th id=\"T_50d9e_level0_row0\" class=\"row_heading level0 row0\" >0</th>\n",
              "      <td id=\"T_50d9e_row0_col0\" class=\"data row0 col0\" >mineral water</td>\n",
              "      <td id=\"T_50d9e_row0_col1\" class=\"data row0 col1\" >1788</td>\n",
              "    </tr>\n",
              "    <tr>\n",
              "      <th id=\"T_50d9e_level0_row1\" class=\"row_heading level0 row1\" >1</th>\n",
              "      <td id=\"T_50d9e_row1_col0\" class=\"data row1 col0\" >eggs</td>\n",
              "      <td id=\"T_50d9e_row1_col1\" class=\"data row1 col1\" >1348</td>\n",
              "    </tr>\n",
              "    <tr>\n",
              "      <th id=\"T_50d9e_level0_row2\" class=\"row_heading level0 row2\" >2</th>\n",
              "      <td id=\"T_50d9e_row2_col0\" class=\"data row2 col0\" >spaghetti</td>\n",
              "      <td id=\"T_50d9e_row2_col1\" class=\"data row2 col1\" >1306</td>\n",
              "    </tr>\n",
              "    <tr>\n",
              "      <th id=\"T_50d9e_level0_row3\" class=\"row_heading level0 row3\" >3</th>\n",
              "      <td id=\"T_50d9e_row3_col0\" class=\"data row3 col0\" >french fries</td>\n",
              "      <td id=\"T_50d9e_row3_col1\" class=\"data row3 col1\" >1282</td>\n",
              "    </tr>\n",
              "    <tr>\n",
              "      <th id=\"T_50d9e_level0_row4\" class=\"row_heading level0 row4\" >4</th>\n",
              "      <td id=\"T_50d9e_row4_col0\" class=\"data row4 col0\" >chocolate</td>\n",
              "      <td id=\"T_50d9e_row4_col1\" class=\"data row4 col1\" >1230</td>\n",
              "    </tr>\n",
              "    <tr>\n",
              "      <th id=\"T_50d9e_level0_row5\" class=\"row_heading level0 row5\" >5</th>\n",
              "      <td id=\"T_50d9e_row5_col0\" class=\"data row5 col0\" >green tea</td>\n",
              "      <td id=\"T_50d9e_row5_col1\" class=\"data row5 col1\" >991</td>\n",
              "    </tr>\n",
              "    <tr>\n",
              "      <th id=\"T_50d9e_level0_row6\" class=\"row_heading level0 row6\" >6</th>\n",
              "      <td id=\"T_50d9e_row6_col0\" class=\"data row6 col0\" >milk</td>\n",
              "      <td id=\"T_50d9e_row6_col1\" class=\"data row6 col1\" >972</td>\n",
              "    </tr>\n",
              "    <tr>\n",
              "      <th id=\"T_50d9e_level0_row7\" class=\"row_heading level0 row7\" >7</th>\n",
              "      <td id=\"T_50d9e_row7_col0\" class=\"data row7 col0\" >ground beef</td>\n",
              "      <td id=\"T_50d9e_row7_col1\" class=\"data row7 col1\" >737</td>\n",
              "    </tr>\n",
              "    <tr>\n",
              "      <th id=\"T_50d9e_level0_row8\" class=\"row_heading level0 row8\" >8</th>\n",
              "      <td id=\"T_50d9e_row8_col0\" class=\"data row8 col0\" >frozen vegetables</td>\n",
              "      <td id=\"T_50d9e_row8_col1\" class=\"data row8 col1\" >715</td>\n",
              "    </tr>\n",
              "    <tr>\n",
              "      <th id=\"T_50d9e_level0_row9\" class=\"row_heading level0 row9\" >9</th>\n",
              "      <td id=\"T_50d9e_row9_col0\" class=\"data row9 col0\" >pancakes</td>\n",
              "      <td id=\"T_50d9e_row9_col1\" class=\"data row9 col1\" >713</td>\n",
              "    </tr>\n",
              "    <tr>\n",
              "      <th id=\"T_50d9e_level0_row10\" class=\"row_heading level0 row10\" >10</th>\n",
              "      <td id=\"T_50d9e_row10_col0\" class=\"data row10 col0\" >burgers</td>\n",
              "      <td id=\"T_50d9e_row10_col1\" class=\"data row10 col1\" >654</td>\n",
              "    </tr>\n",
              "    <tr>\n",
              "      <th id=\"T_50d9e_level0_row11\" class=\"row_heading level0 row11\" >11</th>\n",
              "      <td id=\"T_50d9e_row11_col0\" class=\"data row11 col0\" >cake</td>\n",
              "      <td id=\"T_50d9e_row11_col1\" class=\"data row11 col1\" >608</td>\n",
              "    </tr>\n",
              "    <tr>\n",
              "      <th id=\"T_50d9e_level0_row12\" class=\"row_heading level0 row12\" >12</th>\n",
              "      <td id=\"T_50d9e_row12_col0\" class=\"data row12 col0\" >cookies</td>\n",
              "      <td id=\"T_50d9e_row12_col1\" class=\"data row12 col1\" >603</td>\n",
              "    </tr>\n",
              "    <tr>\n",
              "      <th id=\"T_50d9e_level0_row13\" class=\"row_heading level0 row13\" >13</th>\n",
              "      <td id=\"T_50d9e_row13_col0\" class=\"data row13 col0\" >escalope</td>\n",
              "      <td id=\"T_50d9e_row13_col1\" class=\"data row13 col1\" >595</td>\n",
              "    </tr>\n",
              "    <tr>\n",
              "      <th id=\"T_50d9e_level0_row14\" class=\"row_heading level0 row14\" >14</th>\n",
              "      <td id=\"T_50d9e_row14_col0\" class=\"data row14 col0\" >low fat yogurt</td>\n",
              "      <td id=\"T_50d9e_row14_col1\" class=\"data row14 col1\" >574</td>\n",
              "    </tr>\n",
              "    <tr>\n",
              "      <th id=\"T_50d9e_level0_row15\" class=\"row_heading level0 row15\" >15</th>\n",
              "      <td id=\"T_50d9e_row15_col0\" class=\"data row15 col0\" >shrimp</td>\n",
              "      <td id=\"T_50d9e_row15_col1\" class=\"data row15 col1\" >536</td>\n",
              "    </tr>\n",
              "    <tr>\n",
              "      <th id=\"T_50d9e_level0_row16\" class=\"row_heading level0 row16\" >16</th>\n",
              "      <td id=\"T_50d9e_row16_col0\" class=\"data row16 col0\" >tomatoes</td>\n",
              "      <td id=\"T_50d9e_row16_col1\" class=\"data row16 col1\" >513</td>\n",
              "    </tr>\n",
              "    <tr>\n",
              "      <th id=\"T_50d9e_level0_row17\" class=\"row_heading level0 row17\" >17</th>\n",
              "      <td id=\"T_50d9e_row17_col0\" class=\"data row17 col0\" >olive oil</td>\n",
              "      <td id=\"T_50d9e_row17_col1\" class=\"data row17 col1\" >494</td>\n",
              "    </tr>\n",
              "    <tr>\n",
              "      <th id=\"T_50d9e_level0_row18\" class=\"row_heading level0 row18\" >18</th>\n",
              "      <td id=\"T_50d9e_row18_col0\" class=\"data row18 col0\" >frozen smoothie</td>\n",
              "      <td id=\"T_50d9e_row18_col1\" class=\"data row18 col1\" >475</td>\n",
              "    </tr>\n",
              "    <tr>\n",
              "      <th id=\"T_50d9e_level0_row19\" class=\"row_heading level0 row19\" >19</th>\n",
              "      <td id=\"T_50d9e_row19_col0\" class=\"data row19 col0\" >turkey</td>\n",
              "      <td id=\"T_50d9e_row19_col1\" class=\"data row19 col1\" >469</td>\n",
              "    </tr>\n",
              "    <tr>\n",
              "      <th id=\"T_50d9e_level0_row20\" class=\"row_heading level0 row20\" >20</th>\n",
              "      <td id=\"T_50d9e_row20_col0\" class=\"data row20 col0\" >chicken</td>\n",
              "      <td id=\"T_50d9e_row20_col1\" class=\"data row20 col1\" >450</td>\n",
              "    </tr>\n",
              "    <tr>\n",
              "      <th id=\"T_50d9e_level0_row21\" class=\"row_heading level0 row21\" >21</th>\n",
              "      <td id=\"T_50d9e_row21_col0\" class=\"data row21 col0\" >whole wheat rice</td>\n",
              "      <td id=\"T_50d9e_row21_col1\" class=\"data row21 col1\" >439</td>\n",
              "    </tr>\n",
              "    <tr>\n",
              "      <th id=\"T_50d9e_level0_row22\" class=\"row_heading level0 row22\" >22</th>\n",
              "      <td id=\"T_50d9e_row22_col0\" class=\"data row22 col0\" >grated cheese</td>\n",
              "      <td id=\"T_50d9e_row22_col1\" class=\"data row22 col1\" >393</td>\n",
              "    </tr>\n",
              "    <tr>\n",
              "      <th id=\"T_50d9e_level0_row23\" class=\"row_heading level0 row23\" >23</th>\n",
              "      <td id=\"T_50d9e_row23_col0\" class=\"data row23 col0\" >cooking oil</td>\n",
              "      <td id=\"T_50d9e_row23_col1\" class=\"data row23 col1\" >383</td>\n",
              "    </tr>\n",
              "    <tr>\n",
              "      <th id=\"T_50d9e_level0_row24\" class=\"row_heading level0 row24\" >24</th>\n",
              "      <td id=\"T_50d9e_row24_col0\" class=\"data row24 col0\" >soup</td>\n",
              "      <td id=\"T_50d9e_row24_col1\" class=\"data row24 col1\" >379</td>\n",
              "    </tr>\n",
              "    <tr>\n",
              "      <th id=\"T_50d9e_level0_row25\" class=\"row_heading level0 row25\" >25</th>\n",
              "      <td id=\"T_50d9e_row25_col0\" class=\"data row25 col0\" >herb & pepper</td>\n",
              "      <td id=\"T_50d9e_row25_col1\" class=\"data row25 col1\" >371</td>\n",
              "    </tr>\n",
              "    <tr>\n",
              "      <th id=\"T_50d9e_level0_row26\" class=\"row_heading level0 row26\" >26</th>\n",
              "      <td id=\"T_50d9e_row26_col0\" class=\"data row26 col0\" >honey</td>\n",
              "      <td id=\"T_50d9e_row26_col1\" class=\"data row26 col1\" >356</td>\n",
              "    </tr>\n",
              "    <tr>\n",
              "      <th id=\"T_50d9e_level0_row27\" class=\"row_heading level0 row27\" >27</th>\n",
              "      <td id=\"T_50d9e_row27_col0\" class=\"data row27 col0\" >champagne</td>\n",
              "      <td id=\"T_50d9e_row27_col1\" class=\"data row27 col1\" >351</td>\n",
              "    </tr>\n",
              "    <tr>\n",
              "      <th id=\"T_50d9e_level0_row28\" class=\"row_heading level0 row28\" >28</th>\n",
              "      <td id=\"T_50d9e_row28_col0\" class=\"data row28 col0\" >fresh bread</td>\n",
              "      <td id=\"T_50d9e_row28_col1\" class=\"data row28 col1\" >323</td>\n",
              "    </tr>\n",
              "    <tr>\n",
              "      <th id=\"T_50d9e_level0_row29\" class=\"row_heading level0 row29\" >29</th>\n",
              "      <td id=\"T_50d9e_row29_col0\" class=\"data row29 col0\" >salmon</td>\n",
              "      <td id=\"T_50d9e_row29_col1\" class=\"data row29 col1\" >319</td>\n",
              "    </tr>\n",
              "    <tr>\n",
              "      <th id=\"T_50d9e_level0_row30\" class=\"row_heading level0 row30\" >30</th>\n",
              "      <td id=\"T_50d9e_row30_col0\" class=\"data row30 col0\" >brownies</td>\n",
              "      <td id=\"T_50d9e_row30_col1\" class=\"data row30 col1\" >253</td>\n",
              "    </tr>\n",
              "    <tr>\n",
              "      <th id=\"T_50d9e_level0_row31\" class=\"row_heading level0 row31\" >31</th>\n",
              "      <td id=\"T_50d9e_row31_col0\" class=\"data row31 col0\" >avocado</td>\n",
              "      <td id=\"T_50d9e_row31_col1\" class=\"data row31 col1\" >250</td>\n",
              "    </tr>\n",
              "    <tr>\n",
              "      <th id=\"T_50d9e_level0_row32\" class=\"row_heading level0 row32\" >32</th>\n",
              "      <td id=\"T_50d9e_row32_col0\" class=\"data row32 col0\" >hot dogs</td>\n",
              "      <td id=\"T_50d9e_row32_col1\" class=\"data row32 col1\" >243</td>\n",
              "    </tr>\n",
              "    <tr>\n",
              "      <th id=\"T_50d9e_level0_row33\" class=\"row_heading level0 row33\" >33</th>\n",
              "      <td id=\"T_50d9e_row33_col0\" class=\"data row33 col0\" >cottage cheese</td>\n",
              "      <td id=\"T_50d9e_row33_col1\" class=\"data row33 col1\" >239</td>\n",
              "    </tr>\n",
              "    <tr>\n",
              "      <th id=\"T_50d9e_level0_row34\" class=\"row_heading level0 row34\" >34</th>\n",
              "      <td id=\"T_50d9e_row34_col0\" class=\"data row34 col0\" >tomato juice</td>\n",
              "      <td id=\"T_50d9e_row34_col1\" class=\"data row34 col1\" >228</td>\n",
              "    </tr>\n",
              "    <tr>\n",
              "      <th id=\"T_50d9e_level0_row35\" class=\"row_heading level0 row35\" >35</th>\n",
              "      <td id=\"T_50d9e_row35_col0\" class=\"data row35 col0\" >butter</td>\n",
              "      <td id=\"T_50d9e_row35_col1\" class=\"data row35 col1\" >226</td>\n",
              "    </tr>\n",
              "    <tr>\n",
              "      <th id=\"T_50d9e_level0_row36\" class=\"row_heading level0 row36\" >36</th>\n",
              "      <td id=\"T_50d9e_row36_col0\" class=\"data row36 col0\" >whole wheat pasta</td>\n",
              "      <td id=\"T_50d9e_row36_col1\" class=\"data row36 col1\" >221</td>\n",
              "    </tr>\n",
              "    <tr>\n",
              "      <th id=\"T_50d9e_level0_row37\" class=\"row_heading level0 row37\" >37</th>\n",
              "      <td id=\"T_50d9e_row37_col0\" class=\"data row37 col0\" >red wine</td>\n",
              "      <td id=\"T_50d9e_row37_col1\" class=\"data row37 col1\" >211</td>\n",
              "    </tr>\n",
              "    <tr>\n",
              "      <th id=\"T_50d9e_level0_row38\" class=\"row_heading level0 row38\" >38</th>\n",
              "      <td id=\"T_50d9e_row38_col0\" class=\"data row38 col0\" >yogurt cake</td>\n",
              "      <td id=\"T_50d9e_row38_col1\" class=\"data row38 col1\" >205</td>\n",
              "    </tr>\n",
              "    <tr>\n",
              "      <th id=\"T_50d9e_level0_row39\" class=\"row_heading level0 row39\" >39</th>\n",
              "      <td id=\"T_50d9e_row39_col0\" class=\"data row39 col0\" >light mayo</td>\n",
              "      <td id=\"T_50d9e_row39_col1\" class=\"data row39 col1\" >204</td>\n",
              "    </tr>\n",
              "    <tr>\n",
              "      <th id=\"T_50d9e_level0_row40\" class=\"row_heading level0 row40\" >40</th>\n",
              "      <td id=\"T_50d9e_row40_col0\" class=\"data row40 col0\" >ham</td>\n",
              "      <td id=\"T_50d9e_row40_col1\" class=\"data row40 col1\" >203</td>\n",
              "    </tr>\n",
              "    <tr>\n",
              "      <th id=\"T_50d9e_level0_row41\" class=\"row_heading level0 row41\" >41</th>\n",
              "      <td id=\"T_50d9e_row41_col0\" class=\"data row41 col0\" >energy bar</td>\n",
              "      <td id=\"T_50d9e_row41_col1\" class=\"data row41 col1\" >203</td>\n",
              "    </tr>\n",
              "    <tr>\n",
              "      <th id=\"T_50d9e_level0_row42\" class=\"row_heading level0 row42\" >42</th>\n",
              "      <td id=\"T_50d9e_row42_col0\" class=\"data row42 col0\" >energy drink</td>\n",
              "      <td id=\"T_50d9e_row42_col1\" class=\"data row42 col1\" >200</td>\n",
              "    </tr>\n",
              "    <tr>\n",
              "      <th id=\"T_50d9e_level0_row43\" class=\"row_heading level0 row43\" >43</th>\n",
              "      <td id=\"T_50d9e_row43_col0\" class=\"data row43 col0\" >pepper</td>\n",
              "      <td id=\"T_50d9e_row43_col1\" class=\"data row43 col1\" >199</td>\n",
              "    </tr>\n",
              "    <tr>\n",
              "      <th id=\"T_50d9e_level0_row44\" class=\"row_heading level0 row44\" >44</th>\n",
              "      <td id=\"T_50d9e_row44_col0\" class=\"data row44 col0\" >vegetables mix</td>\n",
              "      <td id=\"T_50d9e_row44_col1\" class=\"data row44 col1\" >193</td>\n",
              "    </tr>\n",
              "    <tr>\n",
              "      <th id=\"T_50d9e_level0_row45\" class=\"row_heading level0 row45\" >45</th>\n",
              "      <td id=\"T_50d9e_row45_col0\" class=\"data row45 col0\" >cereals</td>\n",
              "      <td id=\"T_50d9e_row45_col1\" class=\"data row45 col1\" >193</td>\n",
              "    </tr>\n",
              "    <tr>\n",
              "      <th id=\"T_50d9e_level0_row46\" class=\"row_heading level0 row46\" >46</th>\n",
              "      <td id=\"T_50d9e_row46_col0\" class=\"data row46 col0\" >muffins</td>\n",
              "      <td id=\"T_50d9e_row46_col1\" class=\"data row46 col1\" >181</td>\n",
              "    </tr>\n",
              "    <tr>\n",
              "      <th id=\"T_50d9e_level0_row47\" class=\"row_heading level0 row47\" >47</th>\n",
              "      <td id=\"T_50d9e_row47_col0\" class=\"data row47 col0\" >oil</td>\n",
              "      <td id=\"T_50d9e_row47_col1\" class=\"data row47 col1\" >173</td>\n",
              "    </tr>\n",
              "    <tr>\n",
              "      <th id=\"T_50d9e_level0_row48\" class=\"row_heading level0 row48\" >48</th>\n",
              "      <td id=\"T_50d9e_row48_col0\" class=\"data row48 col0\" >french wine</td>\n",
              "      <td id=\"T_50d9e_row48_col1\" class=\"data row48 col1\" >169</td>\n",
              "    </tr>\n",
              "    <tr>\n",
              "      <th id=\"T_50d9e_level0_row49\" class=\"row_heading level0 row49\" >49</th>\n",
              "      <td id=\"T_50d9e_row49_col0\" class=\"data row49 col0\" >fresh tuna</td>\n",
              "      <td id=\"T_50d9e_row49_col1\" class=\"data row49 col1\" >167</td>\n",
              "    </tr>\n",
              "    <tr>\n",
              "      <th id=\"T_50d9e_level0_row50\" class=\"row_heading level0 row50\" >50</th>\n",
              "      <td id=\"T_50d9e_row50_col0\" class=\"data row50 col0\" >strawberries</td>\n",
              "      <td id=\"T_50d9e_row50_col1\" class=\"data row50 col1\" >160</td>\n",
              "    </tr>\n",
              "    <tr>\n",
              "      <th id=\"T_50d9e_level0_row51\" class=\"row_heading level0 row51\" >51</th>\n",
              "      <td id=\"T_50d9e_row51_col0\" class=\"data row51 col0\" >meatballs</td>\n",
              "      <td id=\"T_50d9e_row51_col1\" class=\"data row51 col1\" >157</td>\n",
              "    </tr>\n",
              "    <tr>\n",
              "      <th id=\"T_50d9e_level0_row52\" class=\"row_heading level0 row52\" >52</th>\n",
              "      <td id=\"T_50d9e_row52_col0\" class=\"data row52 col0\" >almonds</td>\n",
              "      <td id=\"T_50d9e_row52_col1\" class=\"data row52 col1\" >153</td>\n",
              "    </tr>\n",
              "    <tr>\n",
              "      <th id=\"T_50d9e_level0_row53\" class=\"row_heading level0 row53\" >53</th>\n",
              "      <td id=\"T_50d9e_row53_col0\" class=\"data row53 col0\" >parmesan cheese</td>\n",
              "      <td id=\"T_50d9e_row53_col1\" class=\"data row53 col1\" >149</td>\n",
              "    </tr>\n",
              "    <tr>\n",
              "      <th id=\"T_50d9e_level0_row54\" class=\"row_heading level0 row54\" >54</th>\n",
              "      <td id=\"T_50d9e_row54_col0\" class=\"data row54 col0\" >mushroom cream sauce</td>\n",
              "      <td id=\"T_50d9e_row54_col1\" class=\"data row54 col1\" >143</td>\n",
              "    </tr>\n",
              "    <tr>\n",
              "      <th id=\"T_50d9e_level0_row55\" class=\"row_heading level0 row55\" >55</th>\n",
              "      <td id=\"T_50d9e_row55_col0\" class=\"data row55 col0\" >rice</td>\n",
              "      <td id=\"T_50d9e_row55_col1\" class=\"data row55 col1\" >141</td>\n",
              "    </tr>\n",
              "    <tr>\n",
              "      <th id=\"T_50d9e_level0_row56\" class=\"row_heading level0 row56\" >56</th>\n",
              "      <td id=\"T_50d9e_row56_col0\" class=\"data row56 col0\" >protein bar</td>\n",
              "      <td id=\"T_50d9e_row56_col1\" class=\"data row56 col1\" >139</td>\n",
              "    </tr>\n",
              "    <tr>\n",
              "      <th id=\"T_50d9e_level0_row57\" class=\"row_heading level0 row57\" >57</th>\n",
              "      <td id=\"T_50d9e_row57_col0\" class=\"data row57 col0\" >mint</td>\n",
              "      <td id=\"T_50d9e_row57_col1\" class=\"data row57 col1\" >131</td>\n",
              "    </tr>\n",
              "    <tr>\n",
              "      <th id=\"T_50d9e_level0_row58\" class=\"row_heading level0 row58\" >58</th>\n",
              "      <td id=\"T_50d9e_row58_col0\" class=\"data row58 col0\" >white wine</td>\n",
              "      <td id=\"T_50d9e_row58_col1\" class=\"data row58 col1\" >124</td>\n",
              "    </tr>\n",
              "    <tr>\n",
              "      <th id=\"T_50d9e_level0_row59\" class=\"row_heading level0 row59\" >59</th>\n",
              "      <td id=\"T_50d9e_row59_col0\" class=\"data row59 col0\" >pasta</td>\n",
              "      <td id=\"T_50d9e_row59_col1\" class=\"data row59 col1\" >118</td>\n",
              "    </tr>\n",
              "  </tbody>\n",
              "</table>\n"
            ],
            "text/plain": [
              "<pandas.io.formats.style.Styler at 0x2148c95ca50>"
            ]
          },
          "execution_count": 24,
          "metadata": {},
          "output_type": "execute_result"
        }
      ],
      "source": [
        "df_table.head(60).style.background_gradient(cmap='Blues')"
      ]
    },
    {
      "cell_type": "code",
      "execution_count": 25,
      "metadata": {
        "colab": {
          "base_uri": "https://localhost:8080/",
          "height": 542
        },
        "id": "3Udj2U_SMfu7",
        "outputId": "0fe3bd8d-42fb-4dce-e631-bf8b8d0e55f4"
      },
      "outputs": [
        {
          "data": {
            "text/html": [
              "<div>\n",
              "<style scoped>\n",
              "    .dataframe tbody tr th:only-of-type {\n",
              "        vertical-align: middle;\n",
              "    }\n",
              "\n",
              "    .dataframe tbody tr th {\n",
              "        vertical-align: top;\n",
              "    }\n",
              "\n",
              "    .dataframe thead th {\n",
              "        text-align: right;\n",
              "    }\n",
              "</style>\n",
              "<table border=\"1\" class=\"dataframe\">\n",
              "  <thead>\n",
              "    <tr style=\"text-align: right;\">\n",
              "      <th></th>\n",
              "      <th>items</th>\n",
              "      <th>incident_count</th>\n",
              "      <th>all</th>\n",
              "    </tr>\n",
              "  </thead>\n",
              "  <tbody>\n",
              "    <tr>\n",
              "      <th>0</th>\n",
              "      <td>mineral water</td>\n",
              "      <td>1788</td>\n",
              "      <td>all</td>\n",
              "    </tr>\n",
              "    <tr>\n",
              "      <th>1</th>\n",
              "      <td>eggs</td>\n",
              "      <td>1348</td>\n",
              "      <td>all</td>\n",
              "    </tr>\n",
              "    <tr>\n",
              "      <th>2</th>\n",
              "      <td>spaghetti</td>\n",
              "      <td>1306</td>\n",
              "      <td>all</td>\n",
              "    </tr>\n",
              "    <tr>\n",
              "      <th>3</th>\n",
              "      <td>french fries</td>\n",
              "      <td>1282</td>\n",
              "      <td>all</td>\n",
              "    </tr>\n",
              "    <tr>\n",
              "      <th>4</th>\n",
              "      <td>chocolate</td>\n",
              "      <td>1230</td>\n",
              "      <td>all</td>\n",
              "    </tr>\n",
              "  </tbody>\n",
              "</table>\n",
              "</div>"
            ],
            "text/plain": [
              "           items  incident_count  all\n",
              "0  mineral water            1788  all\n",
              "1           eggs            1348  all\n",
              "2      spaghetti            1306  all\n",
              "3   french fries            1282  all\n",
              "4      chocolate            1230  all"
            ]
          },
          "execution_count": 25,
          "metadata": {},
          "output_type": "execute_result"
        }
      ],
      "source": [
        "df_table[\"all\"] = \"all\" # Para tener el mismo origen de los datos en table heatmap\n",
        "df_table.head()"
      ]
    },
    {
      "cell_type": "code",
      "execution_count": 26,
      "metadata": {},
      "outputs": [],
      "source": [
        "# Otra forma de visualizar (table heatmap)\n",
        "# fig = px.treemap(df_table.head(60), path=['all', \"items\"],\n",
        "#                  values='incident_count',\n",
        "#                  color=df_table[\"incident_count\"].head(60),\n",
        "#                  hover_data=['items'],\n",
        "#                  color_continuous_scale='Blues',\n",
        "#                   )\n",
        "# fig.show()"
      ]
    },
    {
      "cell_type": "code",
      "execution_count": 27,
      "metadata": {},
      "outputs": [
        {
          "data": {
            "application/vnd.plotly.v1+json": {
              "config": {
                "plotlyServerURL": "https://plot.ly"
              },
              "data": [
                {
                  "branchvalues": "total",
                  "customdata": [
                    [
                      "almonds",
                      153
                    ],
                    [
                      "avocado",
                      250
                    ],
                    [
                      "brownies",
                      253
                    ],
                    [
                      "burgers",
                      654
                    ],
                    [
                      "butter",
                      226
                    ],
                    [
                      "cake",
                      608
                    ],
                    [
                      "cereals",
                      193
                    ],
                    [
                      "champagne",
                      351
                    ],
                    [
                      "chicken",
                      450
                    ],
                    [
                      "chocolate",
                      1230
                    ],
                    [
                      "cookies",
                      603
                    ],
                    [
                      "cooking oil",
                      383
                    ],
                    [
                      "cottage cheese",
                      239
                    ],
                    [
                      "eggs",
                      1348
                    ],
                    [
                      "energy bar",
                      203
                    ],
                    [
                      "energy drink",
                      200
                    ],
                    [
                      "escalope",
                      595
                    ],
                    [
                      "french fries",
                      1282
                    ],
                    [
                      "french wine",
                      169
                    ],
                    [
                      "fresh bread",
                      323
                    ],
                    [
                      "fresh tuna",
                      167
                    ],
                    [
                      "frozen smoothie",
                      475
                    ],
                    [
                      "frozen vegetables",
                      715
                    ],
                    [
                      "grated cheese",
                      393
                    ],
                    [
                      "green tea",
                      991
                    ],
                    [
                      "ground beef",
                      737
                    ],
                    [
                      "ham",
                      203
                    ],
                    [
                      "herb & pepper",
                      371
                    ],
                    [
                      "honey",
                      356
                    ],
                    [
                      "hot dogs",
                      243
                    ],
                    [
                      "light mayo",
                      204
                    ],
                    [
                      "low fat yogurt",
                      574
                    ],
                    [
                      "meatballs",
                      157
                    ],
                    [
                      "milk",
                      972
                    ],
                    [
                      "mineral water",
                      1788
                    ],
                    [
                      "mint",
                      131
                    ],
                    [
                      "muffins",
                      181
                    ],
                    [
                      "mushroom cream sauce",
                      143
                    ],
                    [
                      "oil",
                      173
                    ],
                    [
                      "olive oil",
                      494
                    ],
                    [
                      "pancakes",
                      713
                    ],
                    [
                      "parmesan cheese",
                      149
                    ],
                    [
                      "pasta",
                      118
                    ],
                    [
                      "pepper",
                      199
                    ],
                    [
                      "protein bar",
                      139
                    ],
                    [
                      "red wine",
                      211
                    ],
                    [
                      "rice",
                      141
                    ],
                    [
                      "salmon",
                      319
                    ],
                    [
                      "shrimp",
                      536
                    ],
                    [
                      "soup",
                      379
                    ],
                    [
                      "spaghetti",
                      1306
                    ],
                    [
                      "strawberries",
                      160
                    ],
                    [
                      "tomato juice",
                      228
                    ],
                    [
                      "tomatoes",
                      513
                    ],
                    [
                      "turkey",
                      469
                    ],
                    [
                      "vegetables mix",
                      193
                    ],
                    [
                      "white wine",
                      124
                    ],
                    [
                      "whole wheat pasta",
                      221
                    ],
                    [
                      "whole wheat rice",
                      439
                    ],
                    [
                      "yogurt cake",
                      205
                    ],
                    [
                      "(?)",
                      731.0006938287785
                    ]
                  ],
                  "domain": {
                    "x": [
                      0,
                      1
                    ],
                    "y": [
                      0,
                      1
                    ]
                  },
                  "hovertemplate": "labels=%{label}<br>incident_count_sum=%{value}<br>parent=%{parent}<br>id=%{id}<br>items=%{customdata[0]}<br>incident_count=%{color}<extra></extra>",
                  "ids": [
                    "all/almonds",
                    "all/avocado",
                    "all/brownies",
                    "all/burgers",
                    "all/butter",
                    "all/cake",
                    "all/cereals",
                    "all/champagne",
                    "all/chicken",
                    "all/chocolate",
                    "all/cookies",
                    "all/cooking oil",
                    "all/cottage cheese",
                    "all/eggs",
                    "all/energy bar",
                    "all/energy drink",
                    "all/escalope",
                    "all/french fries",
                    "all/french wine",
                    "all/fresh bread",
                    "all/fresh tuna",
                    "all/frozen smoothie",
                    "all/frozen vegetables",
                    "all/grated cheese",
                    "all/green tea",
                    "all/ground beef",
                    "all/ham",
                    "all/herb & pepper",
                    "all/honey",
                    "all/hot dogs",
                    "all/light mayo",
                    "all/low fat yogurt",
                    "all/meatballs",
                    "all/milk",
                    "all/mineral water",
                    "all/mint",
                    "all/muffins",
                    "all/mushroom cream sauce",
                    "all/oil",
                    "all/olive oil",
                    "all/pancakes",
                    "all/parmesan cheese",
                    "all/pasta",
                    "all/pepper",
                    "all/protein bar",
                    "all/red wine",
                    "all/rice",
                    "all/salmon",
                    "all/shrimp",
                    "all/soup",
                    "all/spaghetti",
                    "all/strawberries",
                    "all/tomato juice",
                    "all/tomatoes",
                    "all/turkey",
                    "all/vegetables mix",
                    "all/white wine",
                    "all/whole wheat pasta",
                    "all/whole wheat rice",
                    "all/yogurt cake",
                    "all"
                  ],
                  "labels": [
                    "almonds",
                    "avocado",
                    "brownies",
                    "burgers",
                    "butter",
                    "cake",
                    "cereals",
                    "champagne",
                    "chicken",
                    "chocolate",
                    "cookies",
                    "cooking oil",
                    "cottage cheese",
                    "eggs",
                    "energy bar",
                    "energy drink",
                    "escalope",
                    "french fries",
                    "french wine",
                    "fresh bread",
                    "fresh tuna",
                    "frozen smoothie",
                    "frozen vegetables",
                    "grated cheese",
                    "green tea",
                    "ground beef",
                    "ham",
                    "herb & pepper",
                    "honey",
                    "hot dogs",
                    "light mayo",
                    "low fat yogurt",
                    "meatballs",
                    "milk",
                    "mineral water",
                    "mint",
                    "muffins",
                    "mushroom cream sauce",
                    "oil",
                    "olive oil",
                    "pancakes",
                    "parmesan cheese",
                    "pasta",
                    "pepper",
                    "protein bar",
                    "red wine",
                    "rice",
                    "salmon",
                    "shrimp",
                    "soup",
                    "spaghetti",
                    "strawberries",
                    "tomato juice",
                    "tomatoes",
                    "turkey",
                    "vegetables mix",
                    "white wine",
                    "whole wheat pasta",
                    "whole wheat rice",
                    "yogurt cake",
                    "all"
                  ],
                  "marker": {
                    "coloraxis": "coloraxis",
                    "colors": [
                      153,
                      250,
                      253,
                      654,
                      226,
                      608,
                      193,
                      351,
                      450,
                      1230,
                      603,
                      383,
                      239,
                      1348,
                      203,
                      200,
                      595,
                      1282,
                      169,
                      323,
                      167,
                      475,
                      715,
                      393,
                      991,
                      737,
                      203,
                      371,
                      356,
                      243,
                      204,
                      574,
                      157,
                      972,
                      1788,
                      131,
                      181,
                      143,
                      173,
                      494,
                      713,
                      149,
                      118,
                      199,
                      139,
                      211,
                      141,
                      319,
                      536,
                      379,
                      1306,
                      160,
                      228,
                      513,
                      469,
                      193,
                      124,
                      221,
                      439,
                      205,
                      731.0006938287785
                    ]
                  },
                  "name": "",
                  "parents": [
                    "all",
                    "all",
                    "all",
                    "all",
                    "all",
                    "all",
                    "all",
                    "all",
                    "all",
                    "all",
                    "all",
                    "all",
                    "all",
                    "all",
                    "all",
                    "all",
                    "all",
                    "all",
                    "all",
                    "all",
                    "all",
                    "all",
                    "all",
                    "all",
                    "all",
                    "all",
                    "all",
                    "all",
                    "all",
                    "all",
                    "all",
                    "all",
                    "all",
                    "all",
                    "all",
                    "all",
                    "all",
                    "all",
                    "all",
                    "all",
                    "all",
                    "all",
                    "all",
                    "all",
                    "all",
                    "all",
                    "all",
                    "all",
                    "all",
                    "all",
                    "all",
                    "all",
                    "all",
                    "all",
                    "all",
                    "all",
                    "all",
                    "all",
                    "all",
                    "all",
                    ""
                  ],
                  "type": "treemap",
                  "values": [
                    153,
                    250,
                    253,
                    654,
                    226,
                    608,
                    193,
                    351,
                    450,
                    1230,
                    603,
                    383,
                    239,
                    1348,
                    203,
                    200,
                    595,
                    1282,
                    169,
                    323,
                    167,
                    475,
                    715,
                    393,
                    991,
                    737,
                    203,
                    371,
                    356,
                    243,
                    204,
                    574,
                    157,
                    972,
                    1788,
                    131,
                    181,
                    143,
                    173,
                    494,
                    713,
                    149,
                    118,
                    199,
                    139,
                    211,
                    141,
                    319,
                    536,
                    379,
                    1306,
                    160,
                    228,
                    513,
                    469,
                    193,
                    124,
                    221,
                    439,
                    205,
                    25943
                  ]
                }
              ],
              "layout": {
                "coloraxis": {
                  "colorbar": {
                    "title": {
                      "text": "incident_count"
                    }
                  },
                  "colorscale": [
                    [
                      0,
                      "rgb(247,251,255)"
                    ],
                    [
                      0.125,
                      "rgb(222,235,247)"
                    ],
                    [
                      0.25,
                      "rgb(198,219,239)"
                    ],
                    [
                      0.375,
                      "rgb(158,202,225)"
                    ],
                    [
                      0.5,
                      "rgb(107,174,214)"
                    ],
                    [
                      0.625,
                      "rgb(66,146,198)"
                    ],
                    [
                      0.75,
                      "rgb(33,113,181)"
                    ],
                    [
                      0.875,
                      "rgb(8,81,156)"
                    ],
                    [
                      1,
                      "rgb(8,48,107)"
                    ]
                  ]
                },
                "legend": {
                  "tracegroupgap": 0
                },
                "margin": {
                  "t": 60
                },
                "template": {
                  "data": {
                    "bar": [
                      {
                        "error_x": {
                          "color": "#2a3f5f"
                        },
                        "error_y": {
                          "color": "#2a3f5f"
                        },
                        "marker": {
                          "line": {
                            "color": "#E5ECF6",
                            "width": 0.5
                          },
                          "pattern": {
                            "fillmode": "overlay",
                            "size": 10,
                            "solidity": 0.2
                          }
                        },
                        "type": "bar"
                      }
                    ],
                    "barpolar": [
                      {
                        "marker": {
                          "line": {
                            "color": "#E5ECF6",
                            "width": 0.5
                          },
                          "pattern": {
                            "fillmode": "overlay",
                            "size": 10,
                            "solidity": 0.2
                          }
                        },
                        "type": "barpolar"
                      }
                    ],
                    "carpet": [
                      {
                        "aaxis": {
                          "endlinecolor": "#2a3f5f",
                          "gridcolor": "white",
                          "linecolor": "white",
                          "minorgridcolor": "white",
                          "startlinecolor": "#2a3f5f"
                        },
                        "baxis": {
                          "endlinecolor": "#2a3f5f",
                          "gridcolor": "white",
                          "linecolor": "white",
                          "minorgridcolor": "white",
                          "startlinecolor": "#2a3f5f"
                        },
                        "type": "carpet"
                      }
                    ],
                    "choropleth": [
                      {
                        "colorbar": {
                          "outlinewidth": 0,
                          "ticks": ""
                        },
                        "type": "choropleth"
                      }
                    ],
                    "contour": [
                      {
                        "colorbar": {
                          "outlinewidth": 0,
                          "ticks": ""
                        },
                        "colorscale": [
                          [
                            0,
                            "#0d0887"
                          ],
                          [
                            0.1111111111111111,
                            "#46039f"
                          ],
                          [
                            0.2222222222222222,
                            "#7201a8"
                          ],
                          [
                            0.3333333333333333,
                            "#9c179e"
                          ],
                          [
                            0.4444444444444444,
                            "#bd3786"
                          ],
                          [
                            0.5555555555555556,
                            "#d8576b"
                          ],
                          [
                            0.6666666666666666,
                            "#ed7953"
                          ],
                          [
                            0.7777777777777778,
                            "#fb9f3a"
                          ],
                          [
                            0.8888888888888888,
                            "#fdca26"
                          ],
                          [
                            1,
                            "#f0f921"
                          ]
                        ],
                        "type": "contour"
                      }
                    ],
                    "contourcarpet": [
                      {
                        "colorbar": {
                          "outlinewidth": 0,
                          "ticks": ""
                        },
                        "type": "contourcarpet"
                      }
                    ],
                    "heatmap": [
                      {
                        "colorbar": {
                          "outlinewidth": 0,
                          "ticks": ""
                        },
                        "colorscale": [
                          [
                            0,
                            "#0d0887"
                          ],
                          [
                            0.1111111111111111,
                            "#46039f"
                          ],
                          [
                            0.2222222222222222,
                            "#7201a8"
                          ],
                          [
                            0.3333333333333333,
                            "#9c179e"
                          ],
                          [
                            0.4444444444444444,
                            "#bd3786"
                          ],
                          [
                            0.5555555555555556,
                            "#d8576b"
                          ],
                          [
                            0.6666666666666666,
                            "#ed7953"
                          ],
                          [
                            0.7777777777777778,
                            "#fb9f3a"
                          ],
                          [
                            0.8888888888888888,
                            "#fdca26"
                          ],
                          [
                            1,
                            "#f0f921"
                          ]
                        ],
                        "type": "heatmap"
                      }
                    ],
                    "heatmapgl": [
                      {
                        "colorbar": {
                          "outlinewidth": 0,
                          "ticks": ""
                        },
                        "colorscale": [
                          [
                            0,
                            "#0d0887"
                          ],
                          [
                            0.1111111111111111,
                            "#46039f"
                          ],
                          [
                            0.2222222222222222,
                            "#7201a8"
                          ],
                          [
                            0.3333333333333333,
                            "#9c179e"
                          ],
                          [
                            0.4444444444444444,
                            "#bd3786"
                          ],
                          [
                            0.5555555555555556,
                            "#d8576b"
                          ],
                          [
                            0.6666666666666666,
                            "#ed7953"
                          ],
                          [
                            0.7777777777777778,
                            "#fb9f3a"
                          ],
                          [
                            0.8888888888888888,
                            "#fdca26"
                          ],
                          [
                            1,
                            "#f0f921"
                          ]
                        ],
                        "type": "heatmapgl"
                      }
                    ],
                    "histogram": [
                      {
                        "marker": {
                          "pattern": {
                            "fillmode": "overlay",
                            "size": 10,
                            "solidity": 0.2
                          }
                        },
                        "type": "histogram"
                      }
                    ],
                    "histogram2d": [
                      {
                        "colorbar": {
                          "outlinewidth": 0,
                          "ticks": ""
                        },
                        "colorscale": [
                          [
                            0,
                            "#0d0887"
                          ],
                          [
                            0.1111111111111111,
                            "#46039f"
                          ],
                          [
                            0.2222222222222222,
                            "#7201a8"
                          ],
                          [
                            0.3333333333333333,
                            "#9c179e"
                          ],
                          [
                            0.4444444444444444,
                            "#bd3786"
                          ],
                          [
                            0.5555555555555556,
                            "#d8576b"
                          ],
                          [
                            0.6666666666666666,
                            "#ed7953"
                          ],
                          [
                            0.7777777777777778,
                            "#fb9f3a"
                          ],
                          [
                            0.8888888888888888,
                            "#fdca26"
                          ],
                          [
                            1,
                            "#f0f921"
                          ]
                        ],
                        "type": "histogram2d"
                      }
                    ],
                    "histogram2dcontour": [
                      {
                        "colorbar": {
                          "outlinewidth": 0,
                          "ticks": ""
                        },
                        "colorscale": [
                          [
                            0,
                            "#0d0887"
                          ],
                          [
                            0.1111111111111111,
                            "#46039f"
                          ],
                          [
                            0.2222222222222222,
                            "#7201a8"
                          ],
                          [
                            0.3333333333333333,
                            "#9c179e"
                          ],
                          [
                            0.4444444444444444,
                            "#bd3786"
                          ],
                          [
                            0.5555555555555556,
                            "#d8576b"
                          ],
                          [
                            0.6666666666666666,
                            "#ed7953"
                          ],
                          [
                            0.7777777777777778,
                            "#fb9f3a"
                          ],
                          [
                            0.8888888888888888,
                            "#fdca26"
                          ],
                          [
                            1,
                            "#f0f921"
                          ]
                        ],
                        "type": "histogram2dcontour"
                      }
                    ],
                    "mesh3d": [
                      {
                        "colorbar": {
                          "outlinewidth": 0,
                          "ticks": ""
                        },
                        "type": "mesh3d"
                      }
                    ],
                    "parcoords": [
                      {
                        "line": {
                          "colorbar": {
                            "outlinewidth": 0,
                            "ticks": ""
                          }
                        },
                        "type": "parcoords"
                      }
                    ],
                    "pie": [
                      {
                        "automargin": true,
                        "type": "pie"
                      }
                    ],
                    "scatter": [
                      {
                        "fillpattern": {
                          "fillmode": "overlay",
                          "size": 10,
                          "solidity": 0.2
                        },
                        "type": "scatter"
                      }
                    ],
                    "scatter3d": [
                      {
                        "line": {
                          "colorbar": {
                            "outlinewidth": 0,
                            "ticks": ""
                          }
                        },
                        "marker": {
                          "colorbar": {
                            "outlinewidth": 0,
                            "ticks": ""
                          }
                        },
                        "type": "scatter3d"
                      }
                    ],
                    "scattercarpet": [
                      {
                        "marker": {
                          "colorbar": {
                            "outlinewidth": 0,
                            "ticks": ""
                          }
                        },
                        "type": "scattercarpet"
                      }
                    ],
                    "scattergeo": [
                      {
                        "marker": {
                          "colorbar": {
                            "outlinewidth": 0,
                            "ticks": ""
                          }
                        },
                        "type": "scattergeo"
                      }
                    ],
                    "scattergl": [
                      {
                        "marker": {
                          "colorbar": {
                            "outlinewidth": 0,
                            "ticks": ""
                          }
                        },
                        "type": "scattergl"
                      }
                    ],
                    "scattermapbox": [
                      {
                        "marker": {
                          "colorbar": {
                            "outlinewidth": 0,
                            "ticks": ""
                          }
                        },
                        "type": "scattermapbox"
                      }
                    ],
                    "scatterpolar": [
                      {
                        "marker": {
                          "colorbar": {
                            "outlinewidth": 0,
                            "ticks": ""
                          }
                        },
                        "type": "scatterpolar"
                      }
                    ],
                    "scatterpolargl": [
                      {
                        "marker": {
                          "colorbar": {
                            "outlinewidth": 0,
                            "ticks": ""
                          }
                        },
                        "type": "scatterpolargl"
                      }
                    ],
                    "scatterternary": [
                      {
                        "marker": {
                          "colorbar": {
                            "outlinewidth": 0,
                            "ticks": ""
                          }
                        },
                        "type": "scatterternary"
                      }
                    ],
                    "surface": [
                      {
                        "colorbar": {
                          "outlinewidth": 0,
                          "ticks": ""
                        },
                        "colorscale": [
                          [
                            0,
                            "#0d0887"
                          ],
                          [
                            0.1111111111111111,
                            "#46039f"
                          ],
                          [
                            0.2222222222222222,
                            "#7201a8"
                          ],
                          [
                            0.3333333333333333,
                            "#9c179e"
                          ],
                          [
                            0.4444444444444444,
                            "#bd3786"
                          ],
                          [
                            0.5555555555555556,
                            "#d8576b"
                          ],
                          [
                            0.6666666666666666,
                            "#ed7953"
                          ],
                          [
                            0.7777777777777778,
                            "#fb9f3a"
                          ],
                          [
                            0.8888888888888888,
                            "#fdca26"
                          ],
                          [
                            1,
                            "#f0f921"
                          ]
                        ],
                        "type": "surface"
                      }
                    ],
                    "table": [
                      {
                        "cells": {
                          "fill": {
                            "color": "#EBF0F8"
                          },
                          "line": {
                            "color": "white"
                          }
                        },
                        "header": {
                          "fill": {
                            "color": "#C8D4E3"
                          },
                          "line": {
                            "color": "white"
                          }
                        },
                        "type": "table"
                      }
                    ]
                  },
                  "layout": {
                    "annotationdefaults": {
                      "arrowcolor": "#2a3f5f",
                      "arrowhead": 0,
                      "arrowwidth": 1
                    },
                    "autotypenumbers": "strict",
                    "coloraxis": {
                      "colorbar": {
                        "outlinewidth": 0,
                        "ticks": ""
                      }
                    },
                    "colorscale": {
                      "diverging": [
                        [
                          0,
                          "#8e0152"
                        ],
                        [
                          0.1,
                          "#c51b7d"
                        ],
                        [
                          0.2,
                          "#de77ae"
                        ],
                        [
                          0.3,
                          "#f1b6da"
                        ],
                        [
                          0.4,
                          "#fde0ef"
                        ],
                        [
                          0.5,
                          "#f7f7f7"
                        ],
                        [
                          0.6,
                          "#e6f5d0"
                        ],
                        [
                          0.7,
                          "#b8e186"
                        ],
                        [
                          0.8,
                          "#7fbc41"
                        ],
                        [
                          0.9,
                          "#4d9221"
                        ],
                        [
                          1,
                          "#276419"
                        ]
                      ],
                      "sequential": [
                        [
                          0,
                          "#0d0887"
                        ],
                        [
                          0.1111111111111111,
                          "#46039f"
                        ],
                        [
                          0.2222222222222222,
                          "#7201a8"
                        ],
                        [
                          0.3333333333333333,
                          "#9c179e"
                        ],
                        [
                          0.4444444444444444,
                          "#bd3786"
                        ],
                        [
                          0.5555555555555556,
                          "#d8576b"
                        ],
                        [
                          0.6666666666666666,
                          "#ed7953"
                        ],
                        [
                          0.7777777777777778,
                          "#fb9f3a"
                        ],
                        [
                          0.8888888888888888,
                          "#fdca26"
                        ],
                        [
                          1,
                          "#f0f921"
                        ]
                      ],
                      "sequentialminus": [
                        [
                          0,
                          "#0d0887"
                        ],
                        [
                          0.1111111111111111,
                          "#46039f"
                        ],
                        [
                          0.2222222222222222,
                          "#7201a8"
                        ],
                        [
                          0.3333333333333333,
                          "#9c179e"
                        ],
                        [
                          0.4444444444444444,
                          "#bd3786"
                        ],
                        [
                          0.5555555555555556,
                          "#d8576b"
                        ],
                        [
                          0.6666666666666666,
                          "#ed7953"
                        ],
                        [
                          0.7777777777777778,
                          "#fb9f3a"
                        ],
                        [
                          0.8888888888888888,
                          "#fdca26"
                        ],
                        [
                          1,
                          "#f0f921"
                        ]
                      ]
                    },
                    "colorway": [
                      "#636efa",
                      "#EF553B",
                      "#00cc96",
                      "#ab63fa",
                      "#FFA15A",
                      "#19d3f3",
                      "#FF6692",
                      "#B6E880",
                      "#FF97FF",
                      "#FECB52"
                    ],
                    "font": {
                      "color": "#2a3f5f"
                    },
                    "geo": {
                      "bgcolor": "white",
                      "lakecolor": "white",
                      "landcolor": "#E5ECF6",
                      "showlakes": true,
                      "showland": true,
                      "subunitcolor": "white"
                    },
                    "hoverlabel": {
                      "align": "left"
                    },
                    "hovermode": "closest",
                    "mapbox": {
                      "style": "light"
                    },
                    "paper_bgcolor": "white",
                    "plot_bgcolor": "#E5ECF6",
                    "polar": {
                      "angularaxis": {
                        "gridcolor": "white",
                        "linecolor": "white",
                        "ticks": ""
                      },
                      "bgcolor": "#E5ECF6",
                      "radialaxis": {
                        "gridcolor": "white",
                        "linecolor": "white",
                        "ticks": ""
                      }
                    },
                    "scene": {
                      "xaxis": {
                        "backgroundcolor": "#E5ECF6",
                        "gridcolor": "white",
                        "gridwidth": 2,
                        "linecolor": "white",
                        "showbackground": true,
                        "ticks": "",
                        "zerolinecolor": "white"
                      },
                      "yaxis": {
                        "backgroundcolor": "#E5ECF6",
                        "gridcolor": "white",
                        "gridwidth": 2,
                        "linecolor": "white",
                        "showbackground": true,
                        "ticks": "",
                        "zerolinecolor": "white"
                      },
                      "zaxis": {
                        "backgroundcolor": "#E5ECF6",
                        "gridcolor": "white",
                        "gridwidth": 2,
                        "linecolor": "white",
                        "showbackground": true,
                        "ticks": "",
                        "zerolinecolor": "white"
                      }
                    },
                    "shapedefaults": {
                      "line": {
                        "color": "#2a3f5f"
                      }
                    },
                    "ternary": {
                      "aaxis": {
                        "gridcolor": "white",
                        "linecolor": "white",
                        "ticks": ""
                      },
                      "baxis": {
                        "gridcolor": "white",
                        "linecolor": "white",
                        "ticks": ""
                      },
                      "bgcolor": "#E5ECF6",
                      "caxis": {
                        "gridcolor": "white",
                        "linecolor": "white",
                        "ticks": ""
                      }
                    },
                    "title": {
                      "x": 0.05
                    },
                    "xaxis": {
                      "automargin": true,
                      "gridcolor": "white",
                      "linecolor": "white",
                      "ticks": "",
                      "title": {
                        "standoff": 15
                      },
                      "zerolinecolor": "white",
                      "zerolinewidth": 2
                    },
                    "yaxis": {
                      "automargin": true,
                      "gridcolor": "white",
                      "linecolor": "white",
                      "ticks": "",
                      "title": {
                        "standoff": 15
                      },
                      "zerolinecolor": "white",
                      "zerolinewidth": 2
                    }
                  }
                }
              }
            }
          },
          "metadata": {},
          "output_type": "display_data"
        }
      ],
      "source": [
        "# Otra forma de visualizar (table heatmap usando plotly)\n",
        "fig = px.treemap(df_table.head(60),  \n",
        "                 path                   = ['all', \"items\"],\n",
        "                 values                 = 'incident_count',\n",
        "                 color                  = 'incident_count',\n",
        "                 hover_data             = ['items'],\n",
        "                 color_continuous_scale = 'blues',  # Se puede usar \"Blues\", \"blues\" o \"viridis\"\n",
        "                )\n",
        "fig.show()"
      ]
    },
    {
      "cell_type": "code",
      "execution_count": 28,
      "metadata": {},
      "outputs": [],
      "source": [
        "fig.write_html('3 DataCreada/mapa.html')"
      ]
    },
    {
      "cell_type": "code",
      "execution_count": 29,
      "metadata": {},
      "outputs": [],
      "source": [
        "# import sys\n",
        "# sys.exit(\"Detener script\")"
      ]
    },
    {
      "cell_type": "markdown",
      "metadata": {
        "id": "_LVlN0knMfu7"
      },
      "source": [
        "# Pre-Procesamiento de Datos"
      ]
    },
    {
      "cell_type": "markdown",
      "metadata": {
        "id": "cQVgtLxwMfu8"
      },
      "source": [
        "Para poder implementar un algoritmo a priori y obtener conjuntos de elementos más frecuentes, tenemos que transformar nuestro conjunto de datos en una matriz 1 - 0 donde las filas son transacciones y las columnas son los productos. En esa matriz, se debe codificar \"1\" si el producto se compró en esa transacción y \"0\" se debe codificar si el producto no se compró en esa transacción. Este preprocesamiento es necesario para utilizar el algoritmo."
      ]
    },
    {
      "cell_type": "code",
      "execution_count": 30,
      "metadata": {
        "colab": {
          "base_uri": "https://localhost:8080/"
        },
        "id": "cq5BKThLMfu8",
        "outputId": "1c294fc5-70aa-4747-c022-c841ea06b95e"
      },
      "outputs": [
        {
          "data": {
            "text/plain": [
              "(7501, 20)"
            ]
          },
          "execution_count": 30,
          "metadata": {},
          "output_type": "execute_result"
        }
      ],
      "source": [
        "data.shape"
      ]
    },
    {
      "cell_type": "code",
      "execution_count": 31,
      "metadata": {
        "colab": {
          "base_uri": "https://localhost:8080/",
          "height": 241
        },
        "id": "Fk_rvCGVMfu8",
        "outputId": "0d638fa0-f324-470d-baac-814031a7f8c1"
      },
      "outputs": [
        {
          "data": {
            "text/html": [
              "<div>\n",
              "<style scoped>\n",
              "    .dataframe tbody tr th:only-of-type {\n",
              "        vertical-align: middle;\n",
              "    }\n",
              "\n",
              "    .dataframe tbody tr th {\n",
              "        vertical-align: top;\n",
              "    }\n",
              "\n",
              "    .dataframe thead th {\n",
              "        text-align: right;\n",
              "    }\n",
              "</style>\n",
              "<table border=\"1\" class=\"dataframe\">\n",
              "  <thead>\n",
              "    <tr style=\"text-align: right;\">\n",
              "      <th></th>\n",
              "      <th>0</th>\n",
              "      <th>1</th>\n",
              "      <th>2</th>\n",
              "      <th>3</th>\n",
              "      <th>4</th>\n",
              "      <th>5</th>\n",
              "      <th>6</th>\n",
              "      <th>7</th>\n",
              "      <th>8</th>\n",
              "      <th>9</th>\n",
              "      <th>10</th>\n",
              "      <th>11</th>\n",
              "      <th>12</th>\n",
              "      <th>13</th>\n",
              "      <th>14</th>\n",
              "      <th>15</th>\n",
              "      <th>16</th>\n",
              "      <th>17</th>\n",
              "      <th>18</th>\n",
              "      <th>19</th>\n",
              "    </tr>\n",
              "  </thead>\n",
              "  <tbody>\n",
              "    <tr>\n",
              "      <th>0</th>\n",
              "      <td>shrimp</td>\n",
              "      <td>almonds</td>\n",
              "      <td>avocado</td>\n",
              "      <td>vegetables mix</td>\n",
              "      <td>green grapes</td>\n",
              "      <td>whole weat flour</td>\n",
              "      <td>yams</td>\n",
              "      <td>cottage cheese</td>\n",
              "      <td>energy drink</td>\n",
              "      <td>tomato juice</td>\n",
              "      <td>low fat yogurt</td>\n",
              "      <td>green tea</td>\n",
              "      <td>honey</td>\n",
              "      <td>salad</td>\n",
              "      <td>mineral water</td>\n",
              "      <td>salmon</td>\n",
              "      <td>antioxydant juice</td>\n",
              "      <td>frozen smoothie</td>\n",
              "      <td>spinach</td>\n",
              "      <td>olive oil</td>\n",
              "    </tr>\n",
              "    <tr>\n",
              "      <th>1</th>\n",
              "      <td>burgers</td>\n",
              "      <td>meatballs</td>\n",
              "      <td>eggs</td>\n",
              "      <td>NaN</td>\n",
              "      <td>NaN</td>\n",
              "      <td>NaN</td>\n",
              "      <td>NaN</td>\n",
              "      <td>NaN</td>\n",
              "      <td>NaN</td>\n",
              "      <td>NaN</td>\n",
              "      <td>NaN</td>\n",
              "      <td>NaN</td>\n",
              "      <td>NaN</td>\n",
              "      <td>NaN</td>\n",
              "      <td>NaN</td>\n",
              "      <td>NaN</td>\n",
              "      <td>NaN</td>\n",
              "      <td>NaN</td>\n",
              "      <td>NaN</td>\n",
              "      <td>NaN</td>\n",
              "    </tr>\n",
              "    <tr>\n",
              "      <th>2</th>\n",
              "      <td>chutney</td>\n",
              "      <td>NaN</td>\n",
              "      <td>NaN</td>\n",
              "      <td>NaN</td>\n",
              "      <td>NaN</td>\n",
              "      <td>NaN</td>\n",
              "      <td>NaN</td>\n",
              "      <td>NaN</td>\n",
              "      <td>NaN</td>\n",
              "      <td>NaN</td>\n",
              "      <td>NaN</td>\n",
              "      <td>NaN</td>\n",
              "      <td>NaN</td>\n",
              "      <td>NaN</td>\n",
              "      <td>NaN</td>\n",
              "      <td>NaN</td>\n",
              "      <td>NaN</td>\n",
              "      <td>NaN</td>\n",
              "      <td>NaN</td>\n",
              "      <td>NaN</td>\n",
              "    </tr>\n",
              "    <tr>\n",
              "      <th>3</th>\n",
              "      <td>turkey</td>\n",
              "      <td>avocado</td>\n",
              "      <td>NaN</td>\n",
              "      <td>NaN</td>\n",
              "      <td>NaN</td>\n",
              "      <td>NaN</td>\n",
              "      <td>NaN</td>\n",
              "      <td>NaN</td>\n",
              "      <td>NaN</td>\n",
              "      <td>NaN</td>\n",
              "      <td>NaN</td>\n",
              "      <td>NaN</td>\n",
              "      <td>NaN</td>\n",
              "      <td>NaN</td>\n",
              "      <td>NaN</td>\n",
              "      <td>NaN</td>\n",
              "      <td>NaN</td>\n",
              "      <td>NaN</td>\n",
              "      <td>NaN</td>\n",
              "      <td>NaN</td>\n",
              "    </tr>\n",
              "    <tr>\n",
              "      <th>4</th>\n",
              "      <td>mineral water</td>\n",
              "      <td>milk</td>\n",
              "      <td>energy bar</td>\n",
              "      <td>whole wheat rice</td>\n",
              "      <td>green tea</td>\n",
              "      <td>NaN</td>\n",
              "      <td>NaN</td>\n",
              "      <td>NaN</td>\n",
              "      <td>NaN</td>\n",
              "      <td>NaN</td>\n",
              "      <td>NaN</td>\n",
              "      <td>NaN</td>\n",
              "      <td>NaN</td>\n",
              "      <td>NaN</td>\n",
              "      <td>NaN</td>\n",
              "      <td>NaN</td>\n",
              "      <td>NaN</td>\n",
              "      <td>NaN</td>\n",
              "      <td>NaN</td>\n",
              "      <td>NaN</td>\n",
              "    </tr>\n",
              "  </tbody>\n",
              "</table>\n",
              "</div>"
            ],
            "text/plain": [
              "              0          1           2                 3             4   \\\n",
              "0         shrimp    almonds     avocado    vegetables mix  green grapes   \n",
              "1        burgers  meatballs        eggs               NaN           NaN   \n",
              "2        chutney        NaN         NaN               NaN           NaN   \n",
              "3         turkey    avocado         NaN               NaN           NaN   \n",
              "4  mineral water       milk  energy bar  whole wheat rice     green tea   \n",
              "\n",
              "                 5     6               7             8             9   \\\n",
              "0  whole weat flour  yams  cottage cheese  energy drink  tomato juice   \n",
              "1               NaN   NaN             NaN           NaN           NaN   \n",
              "2               NaN   NaN             NaN           NaN           NaN   \n",
              "3               NaN   NaN             NaN           NaN           NaN   \n",
              "4               NaN   NaN             NaN           NaN           NaN   \n",
              "\n",
              "               10         11     12     13             14      15  \\\n",
              "0  low fat yogurt  green tea  honey  salad  mineral water  salmon   \n",
              "1             NaN        NaN    NaN    NaN            NaN     NaN   \n",
              "2             NaN        NaN    NaN    NaN            NaN     NaN   \n",
              "3             NaN        NaN    NaN    NaN            NaN     NaN   \n",
              "4             NaN        NaN    NaN    NaN            NaN     NaN   \n",
              "\n",
              "                  16               17       18         19  \n",
              "0  antioxydant juice  frozen smoothie  spinach  olive oil  \n",
              "1                NaN              NaN      NaN        NaN  \n",
              "2                NaN              NaN      NaN        NaN  \n",
              "3                NaN              NaN      NaN        NaN  \n",
              "4                NaN              NaN      NaN        NaN  "
            ]
          },
          "execution_count": 31,
          "metadata": {},
          "output_type": "execute_result"
        }
      ],
      "source": [
        "data.head()"
      ]
    },
    {
      "cell_type": "code",
      "execution_count": 32,
      "metadata": {},
      "outputs": [
        {
          "data": {
            "text/plain": [
              "['shrimp',\n",
              " 'almonds',\n",
              " 'avocado',\n",
              " 'vegetables mix',\n",
              " 'green grapes',\n",
              " 'whole weat flour',\n",
              " 'yams',\n",
              " 'cottage cheese',\n",
              " 'energy drink',\n",
              " 'tomato juice',\n",
              " 'low fat yogurt',\n",
              " 'green tea',\n",
              " 'honey',\n",
              " 'salad',\n",
              " 'mineral water',\n",
              " 'salmon',\n",
              " 'antioxydant juice',\n",
              " 'frozen smoothie',\n",
              " 'spinach',\n",
              " 'olive oil']"
            ]
          },
          "execution_count": 32,
          "metadata": {},
          "output_type": "execute_result"
        }
      ],
      "source": [
        "# Los for de una sola linea o \"list comprehensions\" solo se ejecuta cuando estan dentro de una lista\n",
        "[ str(data.values[0,j]) for j in range(data.shape[1]) ]"
      ]
    },
    {
      "cell_type": "code",
      "execution_count": 33,
      "metadata": {
        "colab": {
          "base_uri": "https://localhost:8080/"
        },
        "id": "gDCNdif8Mfu8",
        "outputId": "bd81f45a-d87b-48f8-c7b3-4f52bd383d74"
      },
      "outputs": [],
      "source": [
        "# Transformar cada transacción en una lista separada y almacenarla dentro de un array numpy\n",
        "transaction = []\n",
        "for i in range(data.shape[0]):\n",
        "    transaction.append( [str(data.values[i,j]) for j in range(data.shape[1])] )\n",
        "\n",
        "transaction = np.array(transaction)"
      ]
    },
    {
      "cell_type": "code",
      "execution_count": 34,
      "metadata": {
        "colab": {
          "base_uri": "https://localhost:8080/"
        },
        "id": "z_Oerf0IMfu8",
        "outputId": "158c6e71-c1bd-4cc1-e805-f65a7599fc6c"
      },
      "outputs": [
        {
          "data": {
            "text/plain": [
              "(7501, 20)"
            ]
          },
          "execution_count": 34,
          "metadata": {},
          "output_type": "execute_result"
        }
      ],
      "source": [
        "transaction.shape"
      ]
    },
    {
      "cell_type": "code",
      "execution_count": 35,
      "metadata": {
        "colab": {
          "base_uri": "https://localhost:8080/"
        },
        "id": "f0Wbs3MuMfu8",
        "outputId": "ee673a54-5a9e-4cd0-c133-45c6ab27a512"
      },
      "outputs": [
        {
          "data": {
            "text/plain": [
              "array([['shrimp', 'almonds', 'avocado', ..., 'frozen smoothie',\n",
              "        'spinach', 'olive oil'],\n",
              "       ['burgers', 'meatballs', 'eggs', ..., 'nan', 'nan', 'nan'],\n",
              "       ['chutney', 'nan', 'nan', ..., 'nan', 'nan', 'nan'],\n",
              "       ...,\n",
              "       ['chicken', 'nan', 'nan', ..., 'nan', 'nan', 'nan'],\n",
              "       ['escalope', 'green tea', 'nan', ..., 'nan', 'nan', 'nan'],\n",
              "       ['eggs', 'frozen smoothie', 'yogurt cake', ..., 'nan', 'nan',\n",
              "        'nan']], dtype='<U20')"
            ]
          },
          "execution_count": 35,
          "metadata": {},
          "output_type": "execute_result"
        }
      ],
      "source": [
        "transaction"
      ]
    },
    {
      "cell_type": "code",
      "execution_count": 36,
      "metadata": {
        "colab": {
          "base_uri": "https://localhost:8080/"
        },
        "id": "xfFm9qv_E745",
        "outputId": "cc33006a-474b-4065-d025-f5f1f89889df"
      },
      "outputs": [
        {
          "data": {
            "text/plain": [
              "array(['shrimp', 'almonds', 'avocado', 'vegetables mix', 'green grapes',\n",
              "       'whole weat flour', 'yams', 'cottage cheese', 'energy drink',\n",
              "       'tomato juice', 'low fat yogurt', 'green tea', 'honey', 'salad',\n",
              "       'mineral water', 'salmon', 'antioxydant juice', 'frozen smoothie',\n",
              "       'spinach', 'olive oil'], dtype='<U20')"
            ]
          },
          "execution_count": 36,
          "metadata": {},
          "output_type": "execute_result"
        }
      ],
      "source": [
        "# Primera transacción\n",
        "transaction[0]"
      ]
    },
    {
      "cell_type": "code",
      "execution_count": 37,
      "metadata": {
        "colab": {
          "base_uri": "https://localhost:8080/"
        },
        "id": "Qz2gyyXvE745",
        "outputId": "a91a1467-2c1a-483a-e7b0-52880589d843"
      },
      "outputs": [
        {
          "data": {
            "text/plain": [
              "array(['burgers', 'meatballs', 'eggs', 'nan', 'nan', 'nan', 'nan', 'nan',\n",
              "       'nan', 'nan', 'nan', 'nan', 'nan', 'nan', 'nan', 'nan', 'nan',\n",
              "       'nan', 'nan', 'nan'], dtype='<U20')"
            ]
          },
          "execution_count": 37,
          "metadata": {},
          "output_type": "execute_result"
        }
      ],
      "source": [
        "# Segunda transacción\n",
        "transaction[1]"
      ]
    },
    {
      "cell_type": "code",
      "execution_count": 38,
      "metadata": {},
      "outputs": [],
      "source": [
        "# import sys\n",
        "# sys.exit(\"Detener script\")"
      ]
    },
    {
      "cell_type": "code",
      "execution_count": 39,
      "metadata": {
        "colab": {
          "base_uri": "https://localhost:8080/",
          "height": 478
        },
        "id": "NPlK4iRHMfu8",
        "outputId": "2bc925eb-ebc3-4302-e2e7-63de0cb6ac1e"
      },
      "outputs": [
        {
          "data": {
            "text/html": [
              "<div>\n",
              "<style scoped>\n",
              "    .dataframe tbody tr th:only-of-type {\n",
              "        vertical-align: middle;\n",
              "    }\n",
              "\n",
              "    .dataframe tbody tr th {\n",
              "        vertical-align: top;\n",
              "    }\n",
              "\n",
              "    .dataframe thead th {\n",
              "        text-align: right;\n",
              "    }\n",
              "</style>\n",
              "<table border=\"1\" class=\"dataframe\">\n",
              "  <thead>\n",
              "    <tr style=\"text-align: right;\">\n",
              "      <th></th>\n",
              "      <th>asparagus</th>\n",
              "      <th>almonds</th>\n",
              "      <th>antioxydant juice</th>\n",
              "      <th>asparagus</th>\n",
              "      <th>avocado</th>\n",
              "      <th>babies food</th>\n",
              "      <th>bacon</th>\n",
              "      <th>barbecue sauce</th>\n",
              "      <th>black tea</th>\n",
              "      <th>blueberries</th>\n",
              "      <th>...</th>\n",
              "      <th>turkey</th>\n",
              "      <th>vegetables mix</th>\n",
              "      <th>water spray</th>\n",
              "      <th>white wine</th>\n",
              "      <th>whole weat flour</th>\n",
              "      <th>whole wheat pasta</th>\n",
              "      <th>whole wheat rice</th>\n",
              "      <th>yams</th>\n",
              "      <th>yogurt cake</th>\n",
              "      <th>zucchini</th>\n",
              "    </tr>\n",
              "  </thead>\n",
              "  <tbody>\n",
              "    <tr>\n",
              "      <th>0</th>\n",
              "      <td>False</td>\n",
              "      <td>True</td>\n",
              "      <td>True</td>\n",
              "      <td>False</td>\n",
              "      <td>True</td>\n",
              "      <td>False</td>\n",
              "      <td>False</td>\n",
              "      <td>False</td>\n",
              "      <td>False</td>\n",
              "      <td>False</td>\n",
              "      <td>...</td>\n",
              "      <td>False</td>\n",
              "      <td>True</td>\n",
              "      <td>False</td>\n",
              "      <td>False</td>\n",
              "      <td>True</td>\n",
              "      <td>False</td>\n",
              "      <td>False</td>\n",
              "      <td>True</td>\n",
              "      <td>False</td>\n",
              "      <td>False</td>\n",
              "    </tr>\n",
              "    <tr>\n",
              "      <th>1</th>\n",
              "      <td>False</td>\n",
              "      <td>False</td>\n",
              "      <td>False</td>\n",
              "      <td>False</td>\n",
              "      <td>False</td>\n",
              "      <td>False</td>\n",
              "      <td>False</td>\n",
              "      <td>False</td>\n",
              "      <td>False</td>\n",
              "      <td>False</td>\n",
              "      <td>...</td>\n",
              "      <td>False</td>\n",
              "      <td>False</td>\n",
              "      <td>False</td>\n",
              "      <td>False</td>\n",
              "      <td>False</td>\n",
              "      <td>False</td>\n",
              "      <td>False</td>\n",
              "      <td>False</td>\n",
              "      <td>False</td>\n",
              "      <td>False</td>\n",
              "    </tr>\n",
              "    <tr>\n",
              "      <th>2</th>\n",
              "      <td>False</td>\n",
              "      <td>False</td>\n",
              "      <td>False</td>\n",
              "      <td>False</td>\n",
              "      <td>False</td>\n",
              "      <td>False</td>\n",
              "      <td>False</td>\n",
              "      <td>False</td>\n",
              "      <td>False</td>\n",
              "      <td>False</td>\n",
              "      <td>...</td>\n",
              "      <td>False</td>\n",
              "      <td>False</td>\n",
              "      <td>False</td>\n",
              "      <td>False</td>\n",
              "      <td>False</td>\n",
              "      <td>False</td>\n",
              "      <td>False</td>\n",
              "      <td>False</td>\n",
              "      <td>False</td>\n",
              "      <td>False</td>\n",
              "    </tr>\n",
              "    <tr>\n",
              "      <th>3</th>\n",
              "      <td>False</td>\n",
              "      <td>False</td>\n",
              "      <td>False</td>\n",
              "      <td>False</td>\n",
              "      <td>True</td>\n",
              "      <td>False</td>\n",
              "      <td>False</td>\n",
              "      <td>False</td>\n",
              "      <td>False</td>\n",
              "      <td>False</td>\n",
              "      <td>...</td>\n",
              "      <td>True</td>\n",
              "      <td>False</td>\n",
              "      <td>False</td>\n",
              "      <td>False</td>\n",
              "      <td>False</td>\n",
              "      <td>False</td>\n",
              "      <td>False</td>\n",
              "      <td>False</td>\n",
              "      <td>False</td>\n",
              "      <td>False</td>\n",
              "    </tr>\n",
              "    <tr>\n",
              "      <th>4</th>\n",
              "      <td>False</td>\n",
              "      <td>False</td>\n",
              "      <td>False</td>\n",
              "      <td>False</td>\n",
              "      <td>False</td>\n",
              "      <td>False</td>\n",
              "      <td>False</td>\n",
              "      <td>False</td>\n",
              "      <td>False</td>\n",
              "      <td>False</td>\n",
              "      <td>...</td>\n",
              "      <td>False</td>\n",
              "      <td>False</td>\n",
              "      <td>False</td>\n",
              "      <td>False</td>\n",
              "      <td>False</td>\n",
              "      <td>False</td>\n",
              "      <td>True</td>\n",
              "      <td>False</td>\n",
              "      <td>False</td>\n",
              "      <td>False</td>\n",
              "    </tr>\n",
              "    <tr>\n",
              "      <th>...</th>\n",
              "      <td>...</td>\n",
              "      <td>...</td>\n",
              "      <td>...</td>\n",
              "      <td>...</td>\n",
              "      <td>...</td>\n",
              "      <td>...</td>\n",
              "      <td>...</td>\n",
              "      <td>...</td>\n",
              "      <td>...</td>\n",
              "      <td>...</td>\n",
              "      <td>...</td>\n",
              "      <td>...</td>\n",
              "      <td>...</td>\n",
              "      <td>...</td>\n",
              "      <td>...</td>\n",
              "      <td>...</td>\n",
              "      <td>...</td>\n",
              "      <td>...</td>\n",
              "      <td>...</td>\n",
              "      <td>...</td>\n",
              "      <td>...</td>\n",
              "    </tr>\n",
              "    <tr>\n",
              "      <th>7496</th>\n",
              "      <td>False</td>\n",
              "      <td>False</td>\n",
              "      <td>False</td>\n",
              "      <td>False</td>\n",
              "      <td>False</td>\n",
              "      <td>False</td>\n",
              "      <td>False</td>\n",
              "      <td>False</td>\n",
              "      <td>False</td>\n",
              "      <td>False</td>\n",
              "      <td>...</td>\n",
              "      <td>False</td>\n",
              "      <td>False</td>\n",
              "      <td>False</td>\n",
              "      <td>False</td>\n",
              "      <td>False</td>\n",
              "      <td>False</td>\n",
              "      <td>False</td>\n",
              "      <td>False</td>\n",
              "      <td>False</td>\n",
              "      <td>False</td>\n",
              "    </tr>\n",
              "    <tr>\n",
              "      <th>7497</th>\n",
              "      <td>False</td>\n",
              "      <td>False</td>\n",
              "      <td>False</td>\n",
              "      <td>False</td>\n",
              "      <td>False</td>\n",
              "      <td>False</td>\n",
              "      <td>False</td>\n",
              "      <td>False</td>\n",
              "      <td>False</td>\n",
              "      <td>False</td>\n",
              "      <td>...</td>\n",
              "      <td>False</td>\n",
              "      <td>False</td>\n",
              "      <td>False</td>\n",
              "      <td>False</td>\n",
              "      <td>False</td>\n",
              "      <td>False</td>\n",
              "      <td>False</td>\n",
              "      <td>False</td>\n",
              "      <td>False</td>\n",
              "      <td>False</td>\n",
              "    </tr>\n",
              "    <tr>\n",
              "      <th>7498</th>\n",
              "      <td>False</td>\n",
              "      <td>False</td>\n",
              "      <td>False</td>\n",
              "      <td>False</td>\n",
              "      <td>False</td>\n",
              "      <td>False</td>\n",
              "      <td>False</td>\n",
              "      <td>False</td>\n",
              "      <td>False</td>\n",
              "      <td>False</td>\n",
              "      <td>...</td>\n",
              "      <td>False</td>\n",
              "      <td>False</td>\n",
              "      <td>False</td>\n",
              "      <td>False</td>\n",
              "      <td>False</td>\n",
              "      <td>False</td>\n",
              "      <td>False</td>\n",
              "      <td>False</td>\n",
              "      <td>False</td>\n",
              "      <td>False</td>\n",
              "    </tr>\n",
              "    <tr>\n",
              "      <th>7499</th>\n",
              "      <td>False</td>\n",
              "      <td>False</td>\n",
              "      <td>False</td>\n",
              "      <td>False</td>\n",
              "      <td>False</td>\n",
              "      <td>False</td>\n",
              "      <td>False</td>\n",
              "      <td>False</td>\n",
              "      <td>False</td>\n",
              "      <td>False</td>\n",
              "      <td>...</td>\n",
              "      <td>False</td>\n",
              "      <td>False</td>\n",
              "      <td>False</td>\n",
              "      <td>False</td>\n",
              "      <td>False</td>\n",
              "      <td>False</td>\n",
              "      <td>False</td>\n",
              "      <td>False</td>\n",
              "      <td>False</td>\n",
              "      <td>False</td>\n",
              "    </tr>\n",
              "    <tr>\n",
              "      <th>7500</th>\n",
              "      <td>False</td>\n",
              "      <td>False</td>\n",
              "      <td>False</td>\n",
              "      <td>False</td>\n",
              "      <td>False</td>\n",
              "      <td>False</td>\n",
              "      <td>False</td>\n",
              "      <td>False</td>\n",
              "      <td>False</td>\n",
              "      <td>False</td>\n",
              "      <td>...</td>\n",
              "      <td>False</td>\n",
              "      <td>False</td>\n",
              "      <td>False</td>\n",
              "      <td>False</td>\n",
              "      <td>False</td>\n",
              "      <td>False</td>\n",
              "      <td>False</td>\n",
              "      <td>False</td>\n",
              "      <td>True</td>\n",
              "      <td>False</td>\n",
              "    </tr>\n",
              "  </tbody>\n",
              "</table>\n",
              "<p>7501 rows × 121 columns</p>\n",
              "</div>"
            ],
            "text/plain": [
              "       asparagus  almonds  antioxydant juice  asparagus  avocado  babies food  \\\n",
              "0          False     True               True      False     True        False   \n",
              "1          False    False              False      False    False        False   \n",
              "2          False    False              False      False    False        False   \n",
              "3          False    False              False      False     True        False   \n",
              "4          False    False              False      False    False        False   \n",
              "...          ...      ...                ...        ...      ...          ...   \n",
              "7496       False    False              False      False    False        False   \n",
              "7497       False    False              False      False    False        False   \n",
              "7498       False    False              False      False    False        False   \n",
              "7499       False    False              False      False    False        False   \n",
              "7500       False    False              False      False    False        False   \n",
              "\n",
              "      bacon  barbecue sauce  black tea  blueberries  ...  turkey  \\\n",
              "0     False           False      False        False  ...   False   \n",
              "1     False           False      False        False  ...   False   \n",
              "2     False           False      False        False  ...   False   \n",
              "3     False           False      False        False  ...    True   \n",
              "4     False           False      False        False  ...   False   \n",
              "...     ...             ...        ...          ...  ...     ...   \n",
              "7496  False           False      False        False  ...   False   \n",
              "7497  False           False      False        False  ...   False   \n",
              "7498  False           False      False        False  ...   False   \n",
              "7499  False           False      False        False  ...   False   \n",
              "7500  False           False      False        False  ...   False   \n",
              "\n",
              "      vegetables mix  water spray  white wine  whole weat flour  \\\n",
              "0               True        False       False              True   \n",
              "1              False        False       False             False   \n",
              "2              False        False       False             False   \n",
              "3              False        False       False             False   \n",
              "4              False        False       False             False   \n",
              "...              ...          ...         ...               ...   \n",
              "7496           False        False       False             False   \n",
              "7497           False        False       False             False   \n",
              "7498           False        False       False             False   \n",
              "7499           False        False       False             False   \n",
              "7500           False        False       False             False   \n",
              "\n",
              "      whole wheat pasta  whole wheat rice   yams  yogurt cake  zucchini  \n",
              "0                 False             False   True        False     False  \n",
              "1                 False             False  False        False     False  \n",
              "2                 False             False  False        False     False  \n",
              "3                 False             False  False        False     False  \n",
              "4                 False              True  False        False     False  \n",
              "...                 ...               ...    ...          ...       ...  \n",
              "7496              False             False  False        False     False  \n",
              "7497              False             False  False        False     False  \n",
              "7498              False             False  False        False     False  \n",
              "7499              False             False  False        False     False  \n",
              "7500              False             False  False         True     False  \n",
              "\n",
              "[7501 rows x 121 columns]"
            ]
          },
          "execution_count": 39,
          "metadata": {},
          "output_type": "execute_result"
        }
      ],
      "source": [
        "# Transformamos a un wide dataset con 120 columnas, cada columna representa un elemento del inventario, y contiene True si el elemento esta presente en la transación\n",
        "\"\"\"\n",
        "La porción de código proporcionada realiza la transformación de un conjunto de transacciones en un formato adecuado para el análisis de asociaciones. Aquí está lo que hace paso a paso:\n",
        "1. te = TransactionEncoder(): Se crea un objeto TransactionEncoder que se utilizará para convertir las transacciones en un formato adecuado para el análisis de asociaciones.\n",
        "2. te_ary = te.fit(transaction).transform(transaction): Se ajusta el TransactionEncoder a las transacciones existentes y se transforman esas transacciones en un formato binario donde cada columna representa un elemento del inventario y contiene un valor de True si el elemento está presente en la transacción o False si no lo está.\n",
        "3. dataset = pd.DataFrame(te_ary, columns=te.columns_): Se crea un DataFrame de Pandas a partir de la matriz transformada, donde las columnas representan los elementos del inventario y las filas representan cada transacción, con valores binarios que indican la presencia o ausencia de cada elemento en la transacción.\n",
        "En resumen, esta porción de código convierte las transacciones originales en un formato tabular que es más adecuado para el análisis de asociaciones, lo que facilita la identificación de patrones de compra y relaciones entre los elementos del inventario.\n",
        "\"\"\"\n",
        "\n",
        "te = TransactionEncoder()\n",
        "te_ary = te.fit(transaction).transform(transaction)\n",
        "dataset = pd.DataFrame(te_ary, columns=te.columns_)\n",
        "dataset"
      ]
    },
    {
      "cell_type": "code",
      "execution_count": 40,
      "metadata": {
        "colab": {
          "base_uri": "https://localhost:8080/"
        },
        "id": "7vJpRQCiMfu8",
        "outputId": "e415d5ab-2ce7-413a-f8ed-324e5309cffe"
      },
      "outputs": [
        {
          "data": {
            "text/plain": [
              "(7501, 121)"
            ]
          },
          "execution_count": 40,
          "metadata": {},
          "output_type": "execute_result"
        }
      ],
      "source": [
        "dataset.shape"
      ]
    },
    {
      "cell_type": "code",
      "execution_count": 41,
      "metadata": {
        "colab": {
          "base_uri": "https://localhost:8080/"
        },
        "id": "1Zpld29JE745",
        "outputId": "dc0d00bc-c913-4689-d56d-6ccad219d6b1"
      },
      "outputs": [
        {
          "data": {
            "text/plain": [
              " asparagus           False\n",
              "almonds               True\n",
              "antioxydant juice     True\n",
              "asparagus            False\n",
              "avocado               True\n",
              "                     ...  \n",
              "whole wheat pasta    False\n",
              "whole wheat rice     False\n",
              "yams                  True\n",
              "yogurt cake          False\n",
              "zucchini             False\n",
              "Name: 0, Length: 121, dtype: bool"
            ]
          },
          "execution_count": 41,
          "metadata": {},
          "output_type": "execute_result"
        }
      ],
      "source": [
        "# Primera compra\n",
        "dataset.iloc[0]"
      ]
    },
    {
      "cell_type": "code",
      "execution_count": 42,
      "metadata": {
        "colab": {
          "base_uri": "https://localhost:8080/",
          "height": 424
        },
        "id": "dSOeQuEFMfu9",
        "outputId": "baee707e-3629-4e2e-a9aa-90798d29bf4f"
      },
      "outputs": [
        {
          "data": {
            "text/html": [
              "<div>\n",
              "<style scoped>\n",
              "    .dataframe tbody tr th:only-of-type {\n",
              "        vertical-align: middle;\n",
              "    }\n",
              "\n",
              "    .dataframe tbody tr th {\n",
              "        vertical-align: top;\n",
              "    }\n",
              "\n",
              "    .dataframe thead th {\n",
              "        text-align: right;\n",
              "    }\n",
              "</style>\n",
              "<table border=\"1\" class=\"dataframe\">\n",
              "  <thead>\n",
              "    <tr style=\"text-align: right;\">\n",
              "      <th></th>\n",
              "      <th>items</th>\n",
              "      <th>incident_count</th>\n",
              "      <th>all</th>\n",
              "    </tr>\n",
              "  </thead>\n",
              "  <tbody>\n",
              "    <tr>\n",
              "      <th>0</th>\n",
              "      <td>mineral water</td>\n",
              "      <td>1788</td>\n",
              "      <td>all</td>\n",
              "    </tr>\n",
              "    <tr>\n",
              "      <th>1</th>\n",
              "      <td>eggs</td>\n",
              "      <td>1348</td>\n",
              "      <td>all</td>\n",
              "    </tr>\n",
              "    <tr>\n",
              "      <th>2</th>\n",
              "      <td>spaghetti</td>\n",
              "      <td>1306</td>\n",
              "      <td>all</td>\n",
              "    </tr>\n",
              "    <tr>\n",
              "      <th>3</th>\n",
              "      <td>french fries</td>\n",
              "      <td>1282</td>\n",
              "      <td>all</td>\n",
              "    </tr>\n",
              "    <tr>\n",
              "      <th>4</th>\n",
              "      <td>chocolate</td>\n",
              "      <td>1230</td>\n",
              "      <td>all</td>\n",
              "    </tr>\n",
              "    <tr>\n",
              "      <th>...</th>\n",
              "      <td>...</td>\n",
              "      <td>...</td>\n",
              "      <td>...</td>\n",
              "    </tr>\n",
              "    <tr>\n",
              "      <th>75</th>\n",
              "      <td>candy bars</td>\n",
              "      <td>73</td>\n",
              "      <td>all</td>\n",
              "    </tr>\n",
              "    <tr>\n",
              "      <th>76</th>\n",
              "      <td>zucchini</td>\n",
              "      <td>71</td>\n",
              "      <td>all</td>\n",
              "    </tr>\n",
              "    <tr>\n",
              "      <th>77</th>\n",
              "      <td>whole weat flour</td>\n",
              "      <td>70</td>\n",
              "      <td>all</td>\n",
              "    </tr>\n",
              "    <tr>\n",
              "      <th>78</th>\n",
              "      <td>salt</td>\n",
              "      <td>69</td>\n",
              "      <td>all</td>\n",
              "    </tr>\n",
              "    <tr>\n",
              "      <th>79</th>\n",
              "      <td>blueberries</td>\n",
              "      <td>69</td>\n",
              "      <td>all</td>\n",
              "    </tr>\n",
              "  </tbody>\n",
              "</table>\n",
              "<p>80 rows × 3 columns</p>\n",
              "</div>"
            ],
            "text/plain": [
              "               items  incident_count  all\n",
              "0      mineral water            1788  all\n",
              "1               eggs            1348  all\n",
              "2          spaghetti            1306  all\n",
              "3       french fries            1282  all\n",
              "4          chocolate            1230  all\n",
              "..               ...             ...  ...\n",
              "75        candy bars              73  all\n",
              "76          zucchini              71  all\n",
              "77  whole weat flour              70  all\n",
              "78              salt              69  all\n",
              "79       blueberries              69  all\n",
              "\n",
              "[80 rows x 3 columns]"
            ]
          },
          "execution_count": 42,
          "metadata": {},
          "output_type": "execute_result"
        }
      ],
      "source": [
        "# Esta tabla tiene almacenado los 80 productos más vendidos del total de los 120 disponibles\n",
        "df_table.head(80)"
      ]
    },
    {
      "cell_type": "code",
      "execution_count": 43,
      "metadata": {
        "id": "ULYprbXdMfu9"
      },
      "outputs": [],
      "source": [
        "# Nos quedamos con una lista de los 80 productos más vendidos\n",
        "first80 = df_table[\"items\"].head(80).values"
      ]
    },
    {
      "cell_type": "code",
      "execution_count": 44,
      "metadata": {
        "colab": {
          "base_uri": "https://localhost:8080/"
        },
        "id": "TVmcjvUZMfu9",
        "outputId": "cd2229ef-1c37-46dc-ee21-bbb8d36f2838"
      },
      "outputs": [
        {
          "data": {
            "text/plain": [
              "array(['mineral water', 'eggs', 'spaghetti', 'french fries', 'chocolate',\n",
              "       'green tea', 'milk', 'ground beef', 'frozen vegetables',\n",
              "       'pancakes', 'burgers', 'cake', 'cookies', 'escalope',\n",
              "       'low fat yogurt', 'shrimp', 'tomatoes', 'olive oil',\n",
              "       'frozen smoothie', 'turkey', 'chicken', 'whole wheat rice',\n",
              "       'grated cheese', 'cooking oil', 'soup', 'herb & pepper', 'honey',\n",
              "       'champagne', 'fresh bread', 'salmon', 'brownies', 'avocado',\n",
              "       'hot dogs', 'cottage cheese', 'tomato juice', 'butter',\n",
              "       'whole wheat pasta', 'red wine', 'yogurt cake', 'light mayo',\n",
              "       'ham', 'energy bar', 'energy drink', 'pepper', 'vegetables mix',\n",
              "       'cereals', 'muffins', 'oil', 'french wine', 'fresh tuna',\n",
              "       'strawberries', 'meatballs', 'almonds', 'parmesan cheese',\n",
              "       'mushroom cream sauce', 'rice', 'protein bar', 'mint',\n",
              "       'white wine', 'pasta', 'light cream', 'carrots', 'black tea',\n",
              "       'tomato sauce', 'fromage blanc', 'gums', 'eggplant', 'melons',\n",
              "       'extra dark chocolate', 'body spray', 'yams', 'magazines',\n",
              "       'barbecue sauce', 'cider', 'nonfat milk', 'candy bars', 'zucchini',\n",
              "       'whole weat flour', 'salt', 'blueberries'], dtype=object)"
            ]
          },
          "execution_count": 44,
          "metadata": {},
          "output_type": "execute_result"
        }
      ],
      "source": [
        "first80"
      ]
    },
    {
      "cell_type": "code",
      "execution_count": 45,
      "metadata": {},
      "outputs": [],
      "source": [
        "# import sys\n",
        "# sys.exit(\"Detener script\")"
      ]
    },
    {
      "cell_type": "markdown",
      "metadata": {
        "id": "jDRvNzTzMfu9"
      },
      "source": [
        "Tenemos 121 columnas en total. Comenzaremos analizando solo con los 80 elementos principales"
      ]
    },
    {
      "cell_type": "code",
      "execution_count": 46,
      "metadata": {
        "colab": {
          "base_uri": "https://localhost:8080/",
          "height": 478
        },
        "id": "iwcUMgBwR_jE",
        "outputId": "da66d9c0-bcda-4a2d-b0a9-3413934affff"
      },
      "outputs": [
        {
          "data": {
            "text/html": [
              "<div>\n",
              "<style scoped>\n",
              "    .dataframe tbody tr th:only-of-type {\n",
              "        vertical-align: middle;\n",
              "    }\n",
              "\n",
              "    .dataframe tbody tr th {\n",
              "        vertical-align: top;\n",
              "    }\n",
              "\n",
              "    .dataframe thead th {\n",
              "        text-align: right;\n",
              "    }\n",
              "</style>\n",
              "<table border=\"1\" class=\"dataframe\">\n",
              "  <thead>\n",
              "    <tr style=\"text-align: right;\">\n",
              "      <th></th>\n",
              "      <th>asparagus</th>\n",
              "      <th>almonds</th>\n",
              "      <th>antioxydant juice</th>\n",
              "      <th>asparagus</th>\n",
              "      <th>avocado</th>\n",
              "      <th>babies food</th>\n",
              "      <th>bacon</th>\n",
              "      <th>barbecue sauce</th>\n",
              "      <th>black tea</th>\n",
              "      <th>blueberries</th>\n",
              "      <th>...</th>\n",
              "      <th>turkey</th>\n",
              "      <th>vegetables mix</th>\n",
              "      <th>water spray</th>\n",
              "      <th>white wine</th>\n",
              "      <th>whole weat flour</th>\n",
              "      <th>whole wheat pasta</th>\n",
              "      <th>whole wheat rice</th>\n",
              "      <th>yams</th>\n",
              "      <th>yogurt cake</th>\n",
              "      <th>zucchini</th>\n",
              "    </tr>\n",
              "  </thead>\n",
              "  <tbody>\n",
              "    <tr>\n",
              "      <th>0</th>\n",
              "      <td>False</td>\n",
              "      <td>True</td>\n",
              "      <td>True</td>\n",
              "      <td>False</td>\n",
              "      <td>True</td>\n",
              "      <td>False</td>\n",
              "      <td>False</td>\n",
              "      <td>False</td>\n",
              "      <td>False</td>\n",
              "      <td>False</td>\n",
              "      <td>...</td>\n",
              "      <td>False</td>\n",
              "      <td>True</td>\n",
              "      <td>False</td>\n",
              "      <td>False</td>\n",
              "      <td>True</td>\n",
              "      <td>False</td>\n",
              "      <td>False</td>\n",
              "      <td>True</td>\n",
              "      <td>False</td>\n",
              "      <td>False</td>\n",
              "    </tr>\n",
              "    <tr>\n",
              "      <th>1</th>\n",
              "      <td>False</td>\n",
              "      <td>False</td>\n",
              "      <td>False</td>\n",
              "      <td>False</td>\n",
              "      <td>False</td>\n",
              "      <td>False</td>\n",
              "      <td>False</td>\n",
              "      <td>False</td>\n",
              "      <td>False</td>\n",
              "      <td>False</td>\n",
              "      <td>...</td>\n",
              "      <td>False</td>\n",
              "      <td>False</td>\n",
              "      <td>False</td>\n",
              "      <td>False</td>\n",
              "      <td>False</td>\n",
              "      <td>False</td>\n",
              "      <td>False</td>\n",
              "      <td>False</td>\n",
              "      <td>False</td>\n",
              "      <td>False</td>\n",
              "    </tr>\n",
              "    <tr>\n",
              "      <th>2</th>\n",
              "      <td>False</td>\n",
              "      <td>False</td>\n",
              "      <td>False</td>\n",
              "      <td>False</td>\n",
              "      <td>False</td>\n",
              "      <td>False</td>\n",
              "      <td>False</td>\n",
              "      <td>False</td>\n",
              "      <td>False</td>\n",
              "      <td>False</td>\n",
              "      <td>...</td>\n",
              "      <td>False</td>\n",
              "      <td>False</td>\n",
              "      <td>False</td>\n",
              "      <td>False</td>\n",
              "      <td>False</td>\n",
              "      <td>False</td>\n",
              "      <td>False</td>\n",
              "      <td>False</td>\n",
              "      <td>False</td>\n",
              "      <td>False</td>\n",
              "    </tr>\n",
              "    <tr>\n",
              "      <th>3</th>\n",
              "      <td>False</td>\n",
              "      <td>False</td>\n",
              "      <td>False</td>\n",
              "      <td>False</td>\n",
              "      <td>True</td>\n",
              "      <td>False</td>\n",
              "      <td>False</td>\n",
              "      <td>False</td>\n",
              "      <td>False</td>\n",
              "      <td>False</td>\n",
              "      <td>...</td>\n",
              "      <td>True</td>\n",
              "      <td>False</td>\n",
              "      <td>False</td>\n",
              "      <td>False</td>\n",
              "      <td>False</td>\n",
              "      <td>False</td>\n",
              "      <td>False</td>\n",
              "      <td>False</td>\n",
              "      <td>False</td>\n",
              "      <td>False</td>\n",
              "    </tr>\n",
              "    <tr>\n",
              "      <th>4</th>\n",
              "      <td>False</td>\n",
              "      <td>False</td>\n",
              "      <td>False</td>\n",
              "      <td>False</td>\n",
              "      <td>False</td>\n",
              "      <td>False</td>\n",
              "      <td>False</td>\n",
              "      <td>False</td>\n",
              "      <td>False</td>\n",
              "      <td>False</td>\n",
              "      <td>...</td>\n",
              "      <td>False</td>\n",
              "      <td>False</td>\n",
              "      <td>False</td>\n",
              "      <td>False</td>\n",
              "      <td>False</td>\n",
              "      <td>False</td>\n",
              "      <td>True</td>\n",
              "      <td>False</td>\n",
              "      <td>False</td>\n",
              "      <td>False</td>\n",
              "    </tr>\n",
              "    <tr>\n",
              "      <th>...</th>\n",
              "      <td>...</td>\n",
              "      <td>...</td>\n",
              "      <td>...</td>\n",
              "      <td>...</td>\n",
              "      <td>...</td>\n",
              "      <td>...</td>\n",
              "      <td>...</td>\n",
              "      <td>...</td>\n",
              "      <td>...</td>\n",
              "      <td>...</td>\n",
              "      <td>...</td>\n",
              "      <td>...</td>\n",
              "      <td>...</td>\n",
              "      <td>...</td>\n",
              "      <td>...</td>\n",
              "      <td>...</td>\n",
              "      <td>...</td>\n",
              "      <td>...</td>\n",
              "      <td>...</td>\n",
              "      <td>...</td>\n",
              "      <td>...</td>\n",
              "    </tr>\n",
              "    <tr>\n",
              "      <th>7496</th>\n",
              "      <td>False</td>\n",
              "      <td>False</td>\n",
              "      <td>False</td>\n",
              "      <td>False</td>\n",
              "      <td>False</td>\n",
              "      <td>False</td>\n",
              "      <td>False</td>\n",
              "      <td>False</td>\n",
              "      <td>False</td>\n",
              "      <td>False</td>\n",
              "      <td>...</td>\n",
              "      <td>False</td>\n",
              "      <td>False</td>\n",
              "      <td>False</td>\n",
              "      <td>False</td>\n",
              "      <td>False</td>\n",
              "      <td>False</td>\n",
              "      <td>False</td>\n",
              "      <td>False</td>\n",
              "      <td>False</td>\n",
              "      <td>False</td>\n",
              "    </tr>\n",
              "    <tr>\n",
              "      <th>7497</th>\n",
              "      <td>False</td>\n",
              "      <td>False</td>\n",
              "      <td>False</td>\n",
              "      <td>False</td>\n",
              "      <td>False</td>\n",
              "      <td>False</td>\n",
              "      <td>False</td>\n",
              "      <td>False</td>\n",
              "      <td>False</td>\n",
              "      <td>False</td>\n",
              "      <td>...</td>\n",
              "      <td>False</td>\n",
              "      <td>False</td>\n",
              "      <td>False</td>\n",
              "      <td>False</td>\n",
              "      <td>False</td>\n",
              "      <td>False</td>\n",
              "      <td>False</td>\n",
              "      <td>False</td>\n",
              "      <td>False</td>\n",
              "      <td>False</td>\n",
              "    </tr>\n",
              "    <tr>\n",
              "      <th>7498</th>\n",
              "      <td>False</td>\n",
              "      <td>False</td>\n",
              "      <td>False</td>\n",
              "      <td>False</td>\n",
              "      <td>False</td>\n",
              "      <td>False</td>\n",
              "      <td>False</td>\n",
              "      <td>False</td>\n",
              "      <td>False</td>\n",
              "      <td>False</td>\n",
              "      <td>...</td>\n",
              "      <td>False</td>\n",
              "      <td>False</td>\n",
              "      <td>False</td>\n",
              "      <td>False</td>\n",
              "      <td>False</td>\n",
              "      <td>False</td>\n",
              "      <td>False</td>\n",
              "      <td>False</td>\n",
              "      <td>False</td>\n",
              "      <td>False</td>\n",
              "    </tr>\n",
              "    <tr>\n",
              "      <th>7499</th>\n",
              "      <td>False</td>\n",
              "      <td>False</td>\n",
              "      <td>False</td>\n",
              "      <td>False</td>\n",
              "      <td>False</td>\n",
              "      <td>False</td>\n",
              "      <td>False</td>\n",
              "      <td>False</td>\n",
              "      <td>False</td>\n",
              "      <td>False</td>\n",
              "      <td>...</td>\n",
              "      <td>False</td>\n",
              "      <td>False</td>\n",
              "      <td>False</td>\n",
              "      <td>False</td>\n",
              "      <td>False</td>\n",
              "      <td>False</td>\n",
              "      <td>False</td>\n",
              "      <td>False</td>\n",
              "      <td>False</td>\n",
              "      <td>False</td>\n",
              "    </tr>\n",
              "    <tr>\n",
              "      <th>7500</th>\n",
              "      <td>False</td>\n",
              "      <td>False</td>\n",
              "      <td>False</td>\n",
              "      <td>False</td>\n",
              "      <td>False</td>\n",
              "      <td>False</td>\n",
              "      <td>False</td>\n",
              "      <td>False</td>\n",
              "      <td>False</td>\n",
              "      <td>False</td>\n",
              "      <td>...</td>\n",
              "      <td>False</td>\n",
              "      <td>False</td>\n",
              "      <td>False</td>\n",
              "      <td>False</td>\n",
              "      <td>False</td>\n",
              "      <td>False</td>\n",
              "      <td>False</td>\n",
              "      <td>False</td>\n",
              "      <td>True</td>\n",
              "      <td>False</td>\n",
              "    </tr>\n",
              "  </tbody>\n",
              "</table>\n",
              "<p>7501 rows × 121 columns</p>\n",
              "</div>"
            ],
            "text/plain": [
              "       asparagus  almonds  antioxydant juice  asparagus  avocado  babies food  \\\n",
              "0          False     True               True      False     True        False   \n",
              "1          False    False              False      False    False        False   \n",
              "2          False    False              False      False    False        False   \n",
              "3          False    False              False      False     True        False   \n",
              "4          False    False              False      False    False        False   \n",
              "...          ...      ...                ...        ...      ...          ...   \n",
              "7496       False    False              False      False    False        False   \n",
              "7497       False    False              False      False    False        False   \n",
              "7498       False    False              False      False    False        False   \n",
              "7499       False    False              False      False    False        False   \n",
              "7500       False    False              False      False    False        False   \n",
              "\n",
              "      bacon  barbecue sauce  black tea  blueberries  ...  turkey  \\\n",
              "0     False           False      False        False  ...   False   \n",
              "1     False           False      False        False  ...   False   \n",
              "2     False           False      False        False  ...   False   \n",
              "3     False           False      False        False  ...    True   \n",
              "4     False           False      False        False  ...   False   \n",
              "...     ...             ...        ...          ...  ...     ...   \n",
              "7496  False           False      False        False  ...   False   \n",
              "7497  False           False      False        False  ...   False   \n",
              "7498  False           False      False        False  ...   False   \n",
              "7499  False           False      False        False  ...   False   \n",
              "7500  False           False      False        False  ...   False   \n",
              "\n",
              "      vegetables mix  water spray  white wine  whole weat flour  \\\n",
              "0               True        False       False              True   \n",
              "1              False        False       False             False   \n",
              "2              False        False       False             False   \n",
              "3              False        False       False             False   \n",
              "4              False        False       False             False   \n",
              "...              ...          ...         ...               ...   \n",
              "7496           False        False       False             False   \n",
              "7497           False        False       False             False   \n",
              "7498           False        False       False             False   \n",
              "7499           False        False       False             False   \n",
              "7500           False        False       False             False   \n",
              "\n",
              "      whole wheat pasta  whole wheat rice   yams  yogurt cake  zucchini  \n",
              "0                 False             False   True        False     False  \n",
              "1                 False             False  False        False     False  \n",
              "2                 False             False  False        False     False  \n",
              "3                 False             False  False        False     False  \n",
              "4                 False              True  False        False     False  \n",
              "...                 ...               ...    ...          ...       ...  \n",
              "7496              False             False  False        False     False  \n",
              "7497              False             False  False        False     False  \n",
              "7498              False             False  False        False     False  \n",
              "7499              False             False  False        False     False  \n",
              "7500              False             False  False         True     False  \n",
              "\n",
              "[7501 rows x 121 columns]"
            ]
          },
          "execution_count": 46,
          "metadata": {},
          "output_type": "execute_result"
        }
      ],
      "source": [
        "dataset"
      ]
    },
    {
      "cell_type": "code",
      "execution_count": 47,
      "metadata": {
        "colab": {
          "base_uri": "https://localhost:8080/",
          "height": 478
        },
        "id": "UI5tZRxRMfu9",
        "outputId": "0e39c253-7be7-463a-ef82-555675f68d21"
      },
      "outputs": [
        {
          "data": {
            "text/html": [
              "<div>\n",
              "<style scoped>\n",
              "    .dataframe tbody tr th:only-of-type {\n",
              "        vertical-align: middle;\n",
              "    }\n",
              "\n",
              "    .dataframe tbody tr th {\n",
              "        vertical-align: top;\n",
              "    }\n",
              "\n",
              "    .dataframe thead th {\n",
              "        text-align: right;\n",
              "    }\n",
              "</style>\n",
              "<table border=\"1\" class=\"dataframe\">\n",
              "  <thead>\n",
              "    <tr style=\"text-align: right;\">\n",
              "      <th></th>\n",
              "      <th>mineral water</th>\n",
              "      <th>eggs</th>\n",
              "      <th>spaghetti</th>\n",
              "      <th>french fries</th>\n",
              "      <th>chocolate</th>\n",
              "      <th>green tea</th>\n",
              "      <th>milk</th>\n",
              "      <th>ground beef</th>\n",
              "      <th>frozen vegetables</th>\n",
              "      <th>pancakes</th>\n",
              "      <th>...</th>\n",
              "      <th>yams</th>\n",
              "      <th>magazines</th>\n",
              "      <th>barbecue sauce</th>\n",
              "      <th>cider</th>\n",
              "      <th>nonfat milk</th>\n",
              "      <th>candy bars</th>\n",
              "      <th>zucchini</th>\n",
              "      <th>whole weat flour</th>\n",
              "      <th>salt</th>\n",
              "      <th>blueberries</th>\n",
              "    </tr>\n",
              "  </thead>\n",
              "  <tbody>\n",
              "    <tr>\n",
              "      <th>0</th>\n",
              "      <td>True</td>\n",
              "      <td>False</td>\n",
              "      <td>False</td>\n",
              "      <td>False</td>\n",
              "      <td>False</td>\n",
              "      <td>True</td>\n",
              "      <td>False</td>\n",
              "      <td>False</td>\n",
              "      <td>False</td>\n",
              "      <td>False</td>\n",
              "      <td>...</td>\n",
              "      <td>True</td>\n",
              "      <td>False</td>\n",
              "      <td>False</td>\n",
              "      <td>False</td>\n",
              "      <td>False</td>\n",
              "      <td>False</td>\n",
              "      <td>False</td>\n",
              "      <td>True</td>\n",
              "      <td>False</td>\n",
              "      <td>False</td>\n",
              "    </tr>\n",
              "    <tr>\n",
              "      <th>1</th>\n",
              "      <td>False</td>\n",
              "      <td>True</td>\n",
              "      <td>False</td>\n",
              "      <td>False</td>\n",
              "      <td>False</td>\n",
              "      <td>False</td>\n",
              "      <td>False</td>\n",
              "      <td>False</td>\n",
              "      <td>False</td>\n",
              "      <td>False</td>\n",
              "      <td>...</td>\n",
              "      <td>False</td>\n",
              "      <td>False</td>\n",
              "      <td>False</td>\n",
              "      <td>False</td>\n",
              "      <td>False</td>\n",
              "      <td>False</td>\n",
              "      <td>False</td>\n",
              "      <td>False</td>\n",
              "      <td>False</td>\n",
              "      <td>False</td>\n",
              "    </tr>\n",
              "    <tr>\n",
              "      <th>2</th>\n",
              "      <td>False</td>\n",
              "      <td>False</td>\n",
              "      <td>False</td>\n",
              "      <td>False</td>\n",
              "      <td>False</td>\n",
              "      <td>False</td>\n",
              "      <td>False</td>\n",
              "      <td>False</td>\n",
              "      <td>False</td>\n",
              "      <td>False</td>\n",
              "      <td>...</td>\n",
              "      <td>False</td>\n",
              "      <td>False</td>\n",
              "      <td>False</td>\n",
              "      <td>False</td>\n",
              "      <td>False</td>\n",
              "      <td>False</td>\n",
              "      <td>False</td>\n",
              "      <td>False</td>\n",
              "      <td>False</td>\n",
              "      <td>False</td>\n",
              "    </tr>\n",
              "    <tr>\n",
              "      <th>3</th>\n",
              "      <td>False</td>\n",
              "      <td>False</td>\n",
              "      <td>False</td>\n",
              "      <td>False</td>\n",
              "      <td>False</td>\n",
              "      <td>False</td>\n",
              "      <td>False</td>\n",
              "      <td>False</td>\n",
              "      <td>False</td>\n",
              "      <td>False</td>\n",
              "      <td>...</td>\n",
              "      <td>False</td>\n",
              "      <td>False</td>\n",
              "      <td>False</td>\n",
              "      <td>False</td>\n",
              "      <td>False</td>\n",
              "      <td>False</td>\n",
              "      <td>False</td>\n",
              "      <td>False</td>\n",
              "      <td>False</td>\n",
              "      <td>False</td>\n",
              "    </tr>\n",
              "    <tr>\n",
              "      <th>4</th>\n",
              "      <td>True</td>\n",
              "      <td>False</td>\n",
              "      <td>False</td>\n",
              "      <td>False</td>\n",
              "      <td>False</td>\n",
              "      <td>True</td>\n",
              "      <td>True</td>\n",
              "      <td>False</td>\n",
              "      <td>False</td>\n",
              "      <td>False</td>\n",
              "      <td>...</td>\n",
              "      <td>False</td>\n",
              "      <td>False</td>\n",
              "      <td>False</td>\n",
              "      <td>False</td>\n",
              "      <td>False</td>\n",
              "      <td>False</td>\n",
              "      <td>False</td>\n",
              "      <td>False</td>\n",
              "      <td>False</td>\n",
              "      <td>False</td>\n",
              "    </tr>\n",
              "    <tr>\n",
              "      <th>...</th>\n",
              "      <td>...</td>\n",
              "      <td>...</td>\n",
              "      <td>...</td>\n",
              "      <td>...</td>\n",
              "      <td>...</td>\n",
              "      <td>...</td>\n",
              "      <td>...</td>\n",
              "      <td>...</td>\n",
              "      <td>...</td>\n",
              "      <td>...</td>\n",
              "      <td>...</td>\n",
              "      <td>...</td>\n",
              "      <td>...</td>\n",
              "      <td>...</td>\n",
              "      <td>...</td>\n",
              "      <td>...</td>\n",
              "      <td>...</td>\n",
              "      <td>...</td>\n",
              "      <td>...</td>\n",
              "      <td>...</td>\n",
              "      <td>...</td>\n",
              "    </tr>\n",
              "    <tr>\n",
              "      <th>7496</th>\n",
              "      <td>False</td>\n",
              "      <td>False</td>\n",
              "      <td>False</td>\n",
              "      <td>False</td>\n",
              "      <td>False</td>\n",
              "      <td>False</td>\n",
              "      <td>False</td>\n",
              "      <td>False</td>\n",
              "      <td>False</td>\n",
              "      <td>False</td>\n",
              "      <td>...</td>\n",
              "      <td>False</td>\n",
              "      <td>False</td>\n",
              "      <td>False</td>\n",
              "      <td>False</td>\n",
              "      <td>False</td>\n",
              "      <td>False</td>\n",
              "      <td>False</td>\n",
              "      <td>False</td>\n",
              "      <td>False</td>\n",
              "      <td>False</td>\n",
              "    </tr>\n",
              "    <tr>\n",
              "      <th>7497</th>\n",
              "      <td>False</td>\n",
              "      <td>True</td>\n",
              "      <td>False</td>\n",
              "      <td>True</td>\n",
              "      <td>False</td>\n",
              "      <td>True</td>\n",
              "      <td>False</td>\n",
              "      <td>False</td>\n",
              "      <td>True</td>\n",
              "      <td>False</td>\n",
              "      <td>...</td>\n",
              "      <td>False</td>\n",
              "      <td>True</td>\n",
              "      <td>False</td>\n",
              "      <td>False</td>\n",
              "      <td>False</td>\n",
              "      <td>False</td>\n",
              "      <td>False</td>\n",
              "      <td>False</td>\n",
              "      <td>False</td>\n",
              "      <td>False</td>\n",
              "    </tr>\n",
              "    <tr>\n",
              "      <th>7498</th>\n",
              "      <td>False</td>\n",
              "      <td>False</td>\n",
              "      <td>False</td>\n",
              "      <td>False</td>\n",
              "      <td>False</td>\n",
              "      <td>False</td>\n",
              "      <td>False</td>\n",
              "      <td>False</td>\n",
              "      <td>False</td>\n",
              "      <td>False</td>\n",
              "      <td>...</td>\n",
              "      <td>False</td>\n",
              "      <td>False</td>\n",
              "      <td>False</td>\n",
              "      <td>False</td>\n",
              "      <td>False</td>\n",
              "      <td>False</td>\n",
              "      <td>False</td>\n",
              "      <td>False</td>\n",
              "      <td>False</td>\n",
              "      <td>False</td>\n",
              "    </tr>\n",
              "    <tr>\n",
              "      <th>7499</th>\n",
              "      <td>False</td>\n",
              "      <td>False</td>\n",
              "      <td>False</td>\n",
              "      <td>False</td>\n",
              "      <td>False</td>\n",
              "      <td>True</td>\n",
              "      <td>False</td>\n",
              "      <td>False</td>\n",
              "      <td>False</td>\n",
              "      <td>False</td>\n",
              "      <td>...</td>\n",
              "      <td>False</td>\n",
              "      <td>False</td>\n",
              "      <td>False</td>\n",
              "      <td>False</td>\n",
              "      <td>False</td>\n",
              "      <td>False</td>\n",
              "      <td>False</td>\n",
              "      <td>False</td>\n",
              "      <td>False</td>\n",
              "      <td>False</td>\n",
              "    </tr>\n",
              "    <tr>\n",
              "      <th>7500</th>\n",
              "      <td>False</td>\n",
              "      <td>True</td>\n",
              "      <td>False</td>\n",
              "      <td>False</td>\n",
              "      <td>False</td>\n",
              "      <td>False</td>\n",
              "      <td>False</td>\n",
              "      <td>False</td>\n",
              "      <td>False</td>\n",
              "      <td>False</td>\n",
              "      <td>...</td>\n",
              "      <td>False</td>\n",
              "      <td>False</td>\n",
              "      <td>False</td>\n",
              "      <td>False</td>\n",
              "      <td>False</td>\n",
              "      <td>False</td>\n",
              "      <td>False</td>\n",
              "      <td>False</td>\n",
              "      <td>False</td>\n",
              "      <td>False</td>\n",
              "    </tr>\n",
              "  </tbody>\n",
              "</table>\n",
              "<p>7501 rows × 80 columns</p>\n",
              "</div>"
            ],
            "text/plain": [
              "      mineral water   eggs  spaghetti  french fries  chocolate  green tea  \\\n",
              "0              True  False      False         False      False       True   \n",
              "1             False   True      False         False      False      False   \n",
              "2             False  False      False         False      False      False   \n",
              "3             False  False      False         False      False      False   \n",
              "4              True  False      False         False      False       True   \n",
              "...             ...    ...        ...           ...        ...        ...   \n",
              "7496          False  False      False         False      False      False   \n",
              "7497          False   True      False          True      False       True   \n",
              "7498          False  False      False         False      False      False   \n",
              "7499          False  False      False         False      False       True   \n",
              "7500          False   True      False         False      False      False   \n",
              "\n",
              "       milk  ground beef  frozen vegetables  pancakes  ...   yams  magazines  \\\n",
              "0     False        False              False     False  ...   True      False   \n",
              "1     False        False              False     False  ...  False      False   \n",
              "2     False        False              False     False  ...  False      False   \n",
              "3     False        False              False     False  ...  False      False   \n",
              "4      True        False              False     False  ...  False      False   \n",
              "...     ...          ...                ...       ...  ...    ...        ...   \n",
              "7496  False        False              False     False  ...  False      False   \n",
              "7497  False        False               True     False  ...  False       True   \n",
              "7498  False        False              False     False  ...  False      False   \n",
              "7499  False        False              False     False  ...  False      False   \n",
              "7500  False        False              False     False  ...  False      False   \n",
              "\n",
              "      barbecue sauce  cider  nonfat milk  candy bars  zucchini  \\\n",
              "0              False  False        False       False     False   \n",
              "1              False  False        False       False     False   \n",
              "2              False  False        False       False     False   \n",
              "3              False  False        False       False     False   \n",
              "4              False  False        False       False     False   \n",
              "...              ...    ...          ...         ...       ...   \n",
              "7496           False  False        False       False     False   \n",
              "7497           False  False        False       False     False   \n",
              "7498           False  False        False       False     False   \n",
              "7499           False  False        False       False     False   \n",
              "7500           False  False        False       False     False   \n",
              "\n",
              "      whole weat flour   salt  blueberries  \n",
              "0                 True  False        False  \n",
              "1                False  False        False  \n",
              "2                False  False        False  \n",
              "3                False  False        False  \n",
              "4                False  False        False  \n",
              "...                ...    ...          ...  \n",
              "7496             False  False        False  \n",
              "7497             False  False        False  \n",
              "7498             False  False        False  \n",
              "7499             False  False        False  \n",
              "7500             False  False        False  \n",
              "\n",
              "[7501 rows x 80 columns]"
            ]
          },
          "execution_count": 47,
          "metadata": {},
          "output_type": "execute_result"
        }
      ],
      "source": [
        "dataset = dataset.loc[:,first80] # Extraemos solo las columnas que corresponden a los 80 top productos más vendidos*\n",
        "dataset"
      ]
    },
    {
      "cell_type": "code",
      "execution_count": 48,
      "metadata": {
        "colab": {
          "base_uri": "https://localhost:8080/"
        },
        "id": "WEnFFzMtMfu9",
        "outputId": "189c6a16-9530-421e-dbb7-f50bb79c5fa2"
      },
      "outputs": [
        {
          "data": {
            "text/plain": [
              "Index(['mineral water', 'eggs', 'spaghetti', 'french fries', 'chocolate',\n",
              "       'green tea', 'milk', 'ground beef', 'frozen vegetables', 'pancakes',\n",
              "       'burgers', 'cake', 'cookies', 'escalope', 'low fat yogurt', 'shrimp',\n",
              "       'tomatoes', 'olive oil', 'frozen smoothie', 'turkey', 'chicken',\n",
              "       'whole wheat rice', 'grated cheese', 'cooking oil', 'soup',\n",
              "       'herb & pepper', 'honey', 'champagne', 'fresh bread', 'salmon',\n",
              "       'brownies', 'avocado', 'hot dogs', 'cottage cheese', 'tomato juice',\n",
              "       'butter', 'whole wheat pasta', 'red wine', 'yogurt cake', 'light mayo',\n",
              "       'ham', 'energy bar', 'energy drink', 'pepper', 'vegetables mix',\n",
              "       'cereals', 'muffins', 'oil', 'french wine', 'fresh tuna',\n",
              "       'strawberries', 'meatballs', 'almonds', 'parmesan cheese',\n",
              "       'mushroom cream sauce', 'rice', 'protein bar', 'mint', 'white wine',\n",
              "       'pasta', 'light cream', 'carrots', 'black tea', 'tomato sauce',\n",
              "       'fromage blanc', 'gums', 'eggplant', 'melons', 'extra dark chocolate',\n",
              "       'body spray', 'yams', 'magazines', 'barbecue sauce', 'cider',\n",
              "       'nonfat milk', 'candy bars', 'zucchini', 'whole weat flour', 'salt',\n",
              "       'blueberries'],\n",
              "      dtype='object')"
            ]
          },
          "execution_count": 48,
          "metadata": {},
          "output_type": "execute_result"
        }
      ],
      "source": [
        "# Nuestro dataset ahora solo contiene las columnas de los 80 productos más vendidos\n",
        "dataset.columns"
      ]
    },
    {
      "cell_type": "code",
      "execution_count": 49,
      "metadata": {
        "colab": {
          "base_uri": "https://localhost:8080/",
          "height": 447
        },
        "id": "UBfqhWtsMfu9",
        "outputId": "aa26c149-e588-49b4-cb18-bc5b2d8cfecb"
      },
      "outputs": [
        {
          "data": {
            "text/html": [
              "<div>\n",
              "<style scoped>\n",
              "    .dataframe tbody tr th:only-of-type {\n",
              "        vertical-align: middle;\n",
              "    }\n",
              "\n",
              "    .dataframe tbody tr th {\n",
              "        vertical-align: top;\n",
              "    }\n",
              "\n",
              "    .dataframe thead th {\n",
              "        text-align: right;\n",
              "    }\n",
              "</style>\n",
              "<table border=\"1\" class=\"dataframe\">\n",
              "  <thead>\n",
              "    <tr style=\"text-align: right;\">\n",
              "      <th></th>\n",
              "      <th>mineral water</th>\n",
              "      <th>eggs</th>\n",
              "      <th>spaghetti</th>\n",
              "      <th>french fries</th>\n",
              "      <th>chocolate</th>\n",
              "      <th>green tea</th>\n",
              "      <th>milk</th>\n",
              "      <th>ground beef</th>\n",
              "      <th>frozen vegetables</th>\n",
              "      <th>pancakes</th>\n",
              "      <th>...</th>\n",
              "      <th>yams</th>\n",
              "      <th>magazines</th>\n",
              "      <th>barbecue sauce</th>\n",
              "      <th>cider</th>\n",
              "      <th>nonfat milk</th>\n",
              "      <th>candy bars</th>\n",
              "      <th>zucchini</th>\n",
              "      <th>whole weat flour</th>\n",
              "      <th>salt</th>\n",
              "      <th>blueberries</th>\n",
              "    </tr>\n",
              "  </thead>\n",
              "  <tbody>\n",
              "    <tr>\n",
              "      <th>0</th>\n",
              "      <td>1</td>\n",
              "      <td>0</td>\n",
              "      <td>0</td>\n",
              "      <td>0</td>\n",
              "      <td>0</td>\n",
              "      <td>1</td>\n",
              "      <td>0</td>\n",
              "      <td>0</td>\n",
              "      <td>0</td>\n",
              "      <td>0</td>\n",
              "      <td>...</td>\n",
              "      <td>1</td>\n",
              "      <td>0</td>\n",
              "      <td>0</td>\n",
              "      <td>0</td>\n",
              "      <td>0</td>\n",
              "      <td>0</td>\n",
              "      <td>0</td>\n",
              "      <td>1</td>\n",
              "      <td>0</td>\n",
              "      <td>0</td>\n",
              "    </tr>\n",
              "    <tr>\n",
              "      <th>1</th>\n",
              "      <td>0</td>\n",
              "      <td>1</td>\n",
              "      <td>0</td>\n",
              "      <td>0</td>\n",
              "      <td>0</td>\n",
              "      <td>0</td>\n",
              "      <td>0</td>\n",
              "      <td>0</td>\n",
              "      <td>0</td>\n",
              "      <td>0</td>\n",
              "      <td>...</td>\n",
              "      <td>0</td>\n",
              "      <td>0</td>\n",
              "      <td>0</td>\n",
              "      <td>0</td>\n",
              "      <td>0</td>\n",
              "      <td>0</td>\n",
              "      <td>0</td>\n",
              "      <td>0</td>\n",
              "      <td>0</td>\n",
              "      <td>0</td>\n",
              "    </tr>\n",
              "    <tr>\n",
              "      <th>2</th>\n",
              "      <td>0</td>\n",
              "      <td>0</td>\n",
              "      <td>0</td>\n",
              "      <td>0</td>\n",
              "      <td>0</td>\n",
              "      <td>0</td>\n",
              "      <td>0</td>\n",
              "      <td>0</td>\n",
              "      <td>0</td>\n",
              "      <td>0</td>\n",
              "      <td>...</td>\n",
              "      <td>0</td>\n",
              "      <td>0</td>\n",
              "      <td>0</td>\n",
              "      <td>0</td>\n",
              "      <td>0</td>\n",
              "      <td>0</td>\n",
              "      <td>0</td>\n",
              "      <td>0</td>\n",
              "      <td>0</td>\n",
              "      <td>0</td>\n",
              "    </tr>\n",
              "    <tr>\n",
              "      <th>3</th>\n",
              "      <td>0</td>\n",
              "      <td>0</td>\n",
              "      <td>0</td>\n",
              "      <td>0</td>\n",
              "      <td>0</td>\n",
              "      <td>0</td>\n",
              "      <td>0</td>\n",
              "      <td>0</td>\n",
              "      <td>0</td>\n",
              "      <td>0</td>\n",
              "      <td>...</td>\n",
              "      <td>0</td>\n",
              "      <td>0</td>\n",
              "      <td>0</td>\n",
              "      <td>0</td>\n",
              "      <td>0</td>\n",
              "      <td>0</td>\n",
              "      <td>0</td>\n",
              "      <td>0</td>\n",
              "      <td>0</td>\n",
              "      <td>0</td>\n",
              "    </tr>\n",
              "    <tr>\n",
              "      <th>4</th>\n",
              "      <td>1</td>\n",
              "      <td>0</td>\n",
              "      <td>0</td>\n",
              "      <td>0</td>\n",
              "      <td>0</td>\n",
              "      <td>1</td>\n",
              "      <td>1</td>\n",
              "      <td>0</td>\n",
              "      <td>0</td>\n",
              "      <td>0</td>\n",
              "      <td>...</td>\n",
              "      <td>0</td>\n",
              "      <td>0</td>\n",
              "      <td>0</td>\n",
              "      <td>0</td>\n",
              "      <td>0</td>\n",
              "      <td>0</td>\n",
              "      <td>0</td>\n",
              "      <td>0</td>\n",
              "      <td>0</td>\n",
              "      <td>0</td>\n",
              "    </tr>\n",
              "    <tr>\n",
              "      <th>5</th>\n",
              "      <td>0</td>\n",
              "      <td>0</td>\n",
              "      <td>0</td>\n",
              "      <td>0</td>\n",
              "      <td>0</td>\n",
              "      <td>0</td>\n",
              "      <td>0</td>\n",
              "      <td>0</td>\n",
              "      <td>0</td>\n",
              "      <td>0</td>\n",
              "      <td>...</td>\n",
              "      <td>0</td>\n",
              "      <td>0</td>\n",
              "      <td>0</td>\n",
              "      <td>0</td>\n",
              "      <td>0</td>\n",
              "      <td>0</td>\n",
              "      <td>0</td>\n",
              "      <td>0</td>\n",
              "      <td>0</td>\n",
              "      <td>0</td>\n",
              "    </tr>\n",
              "    <tr>\n",
              "      <th>6</th>\n",
              "      <td>0</td>\n",
              "      <td>0</td>\n",
              "      <td>0</td>\n",
              "      <td>1</td>\n",
              "      <td>0</td>\n",
              "      <td>0</td>\n",
              "      <td>0</td>\n",
              "      <td>0</td>\n",
              "      <td>0</td>\n",
              "      <td>0</td>\n",
              "      <td>...</td>\n",
              "      <td>0</td>\n",
              "      <td>0</td>\n",
              "      <td>0</td>\n",
              "      <td>0</td>\n",
              "      <td>0</td>\n",
              "      <td>0</td>\n",
              "      <td>0</td>\n",
              "      <td>0</td>\n",
              "      <td>0</td>\n",
              "      <td>0</td>\n",
              "    </tr>\n",
              "    <tr>\n",
              "      <th>7</th>\n",
              "      <td>0</td>\n",
              "      <td>0</td>\n",
              "      <td>0</td>\n",
              "      <td>0</td>\n",
              "      <td>0</td>\n",
              "      <td>0</td>\n",
              "      <td>0</td>\n",
              "      <td>0</td>\n",
              "      <td>0</td>\n",
              "      <td>0</td>\n",
              "      <td>...</td>\n",
              "      <td>0</td>\n",
              "      <td>0</td>\n",
              "      <td>0</td>\n",
              "      <td>0</td>\n",
              "      <td>0</td>\n",
              "      <td>0</td>\n",
              "      <td>0</td>\n",
              "      <td>0</td>\n",
              "      <td>0</td>\n",
              "      <td>0</td>\n",
              "    </tr>\n",
              "    <tr>\n",
              "      <th>8</th>\n",
              "      <td>0</td>\n",
              "      <td>0</td>\n",
              "      <td>1</td>\n",
              "      <td>0</td>\n",
              "      <td>0</td>\n",
              "      <td>1</td>\n",
              "      <td>0</td>\n",
              "      <td>0</td>\n",
              "      <td>1</td>\n",
              "      <td>0</td>\n",
              "      <td>...</td>\n",
              "      <td>0</td>\n",
              "      <td>0</td>\n",
              "      <td>0</td>\n",
              "      <td>0</td>\n",
              "      <td>0</td>\n",
              "      <td>0</td>\n",
              "      <td>0</td>\n",
              "      <td>0</td>\n",
              "      <td>0</td>\n",
              "      <td>0</td>\n",
              "    </tr>\n",
              "    <tr>\n",
              "      <th>9</th>\n",
              "      <td>0</td>\n",
              "      <td>0</td>\n",
              "      <td>0</td>\n",
              "      <td>1</td>\n",
              "      <td>0</td>\n",
              "      <td>0</td>\n",
              "      <td>0</td>\n",
              "      <td>0</td>\n",
              "      <td>0</td>\n",
              "      <td>0</td>\n",
              "      <td>...</td>\n",
              "      <td>0</td>\n",
              "      <td>0</td>\n",
              "      <td>0</td>\n",
              "      <td>0</td>\n",
              "      <td>0</td>\n",
              "      <td>0</td>\n",
              "      <td>0</td>\n",
              "      <td>0</td>\n",
              "      <td>0</td>\n",
              "      <td>0</td>\n",
              "    </tr>\n",
              "  </tbody>\n",
              "</table>\n",
              "<p>10 rows × 80 columns</p>\n",
              "</div>"
            ],
            "text/plain": [
              "   mineral water  eggs  spaghetti  french fries  chocolate  green tea  milk  \\\n",
              "0              1     0          0             0          0          1     0   \n",
              "1              0     1          0             0          0          0     0   \n",
              "2              0     0          0             0          0          0     0   \n",
              "3              0     0          0             0          0          0     0   \n",
              "4              1     0          0             0          0          1     1   \n",
              "5              0     0          0             0          0          0     0   \n",
              "6              0     0          0             1          0          0     0   \n",
              "7              0     0          0             0          0          0     0   \n",
              "8              0     0          1             0          0          1     0   \n",
              "9              0     0          0             1          0          0     0   \n",
              "\n",
              "   ground beef  frozen vegetables  pancakes  ...  yams  magazines  \\\n",
              "0            0                  0         0  ...     1          0   \n",
              "1            0                  0         0  ...     0          0   \n",
              "2            0                  0         0  ...     0          0   \n",
              "3            0                  0         0  ...     0          0   \n",
              "4            0                  0         0  ...     0          0   \n",
              "5            0                  0         0  ...     0          0   \n",
              "6            0                  0         0  ...     0          0   \n",
              "7            0                  0         0  ...     0          0   \n",
              "8            0                  1         0  ...     0          0   \n",
              "9            0                  0         0  ...     0          0   \n",
              "\n",
              "   barbecue sauce  cider  nonfat milk  candy bars  zucchini  whole weat flour  \\\n",
              "0               0      0            0           0         0                 1   \n",
              "1               0      0            0           0         0                 0   \n",
              "2               0      0            0           0         0                 0   \n",
              "3               0      0            0           0         0                 0   \n",
              "4               0      0            0           0         0                 0   \n",
              "5               0      0            0           0         0                 0   \n",
              "6               0      0            0           0         0                 0   \n",
              "7               0      0            0           0         0                 0   \n",
              "8               0      0            0           0         0                 0   \n",
              "9               0      0            0           0         0                 0   \n",
              "\n",
              "   salt  blueberries  \n",
              "0     0            0  \n",
              "1     0            0  \n",
              "2     0            0  \n",
              "3     0            0  \n",
              "4     0            0  \n",
              "5     0            0  \n",
              "6     0            0  \n",
              "7     0            0  \n",
              "8     0            0  \n",
              "9     0            0  \n",
              "\n",
              "[10 rows x 80 columns]"
            ]
          },
          "execution_count": 49,
          "metadata": {},
          "output_type": "execute_result"
        }
      ],
      "source": [
        "# Convertimos el dataset en una matriz de 1 y 0\n",
        "def encode_units(x):\n",
        "    if x == False:\n",
        "        return 0\n",
        "    if x == True:\n",
        "        return 1\n",
        "\n",
        "dataset = dataset.applymap(encode_units)\n",
        "dataset.head(10)"
      ]
    },
    {
      "cell_type": "code",
      "execution_count": 50,
      "metadata": {
        "colab": {
          "base_uri": "https://localhost:8080/"
        },
        "id": "CyaW9BphMfu9",
        "outputId": "984cecb8-b23f-497f-e5e3-9e0430aa7ee9"
      },
      "outputs": [
        {
          "data": {
            "text/plain": [
              "(7501, 80)"
            ]
          },
          "execution_count": 50,
          "metadata": {},
          "output_type": "execute_result"
        }
      ],
      "source": [
        "dataset.shape"
      ]
    },
    {
      "cell_type": "code",
      "execution_count": 51,
      "metadata": {},
      "outputs": [],
      "source": [
        "# import sys\n",
        "# sys.exit(\"Detener script\")"
      ]
    },
    {
      "cell_type": "markdown",
      "metadata": {
        "id": "-k76K9h6Mfu9"
      },
      "source": [
        "# Algoritmo A-Priori"
      ]
    },
    {
      "cell_type": "markdown",
      "metadata": {
        "id": "JuOcD_X9E749"
      },
      "source": [
        "Ahora si estamos listos para ejecutar el Algoritmo apriori"
      ]
    },
    {
      "cell_type": "code",
      "execution_count": 52,
      "metadata": {
        "colab": {
          "base_uri": "https://localhost:8080/",
          "height": 424
        },
        "id": "-pl9aUVZMfu9",
        "outputId": "d4cc1b61-d90d-4b2e-c018-5718c3f3657a"
      },
      "outputs": [
        {
          "data": {
            "text/html": [
              "<div>\n",
              "<style scoped>\n",
              "    .dataframe tbody tr th:only-of-type {\n",
              "        vertical-align: middle;\n",
              "    }\n",
              "\n",
              "    .dataframe tbody tr th {\n",
              "        vertical-align: top;\n",
              "    }\n",
              "\n",
              "    .dataframe thead th {\n",
              "        text-align: right;\n",
              "    }\n",
              "</style>\n",
              "<table border=\"1\" class=\"dataframe\">\n",
              "  <thead>\n",
              "    <tr style=\"text-align: right;\">\n",
              "      <th></th>\n",
              "      <th>support</th>\n",
              "      <th>itemsets</th>\n",
              "    </tr>\n",
              "  </thead>\n",
              "  <tbody>\n",
              "    <tr>\n",
              "      <th>0</th>\n",
              "      <td>0.238368</td>\n",
              "      <td>(mineral water)</td>\n",
              "    </tr>\n",
              "    <tr>\n",
              "      <th>1</th>\n",
              "      <td>0.179709</td>\n",
              "      <td>(eggs)</td>\n",
              "    </tr>\n",
              "    <tr>\n",
              "      <th>2</th>\n",
              "      <td>0.174110</td>\n",
              "      <td>(spaghetti)</td>\n",
              "    </tr>\n",
              "    <tr>\n",
              "      <th>3</th>\n",
              "      <td>0.170911</td>\n",
              "      <td>(french fries)</td>\n",
              "    </tr>\n",
              "    <tr>\n",
              "      <th>4</th>\n",
              "      <td>0.163845</td>\n",
              "      <td>(chocolate)</td>\n",
              "    </tr>\n",
              "    <tr>\n",
              "      <th>...</th>\n",
              "      <td>...</td>\n",
              "      <td>...</td>\n",
              "    </tr>\n",
              "    <tr>\n",
              "      <th>252</th>\n",
              "      <td>0.010932</td>\n",
              "      <td>(chocolate, ground beef, mineral water)</td>\n",
              "    </tr>\n",
              "    <tr>\n",
              "      <th>253</th>\n",
              "      <td>0.011065</td>\n",
              "      <td>(milk, ground beef, mineral water)</td>\n",
              "    </tr>\n",
              "    <tr>\n",
              "      <th>254</th>\n",
              "      <td>0.011065</td>\n",
              "      <td>(milk, frozen vegetables, mineral water)</td>\n",
              "    </tr>\n",
              "    <tr>\n",
              "      <th>255</th>\n",
              "      <td>0.010532</td>\n",
              "      <td>(chocolate, eggs, spaghetti)</td>\n",
              "    </tr>\n",
              "    <tr>\n",
              "      <th>256</th>\n",
              "      <td>0.010932</td>\n",
              "      <td>(chocolate, milk, spaghetti)</td>\n",
              "    </tr>\n",
              "  </tbody>\n",
              "</table>\n",
              "<p>257 rows × 2 columns</p>\n",
              "</div>"
            ],
            "text/plain": [
              "      support                                  itemsets\n",
              "0    0.238368                           (mineral water)\n",
              "1    0.179709                                    (eggs)\n",
              "2    0.174110                               (spaghetti)\n",
              "3    0.170911                            (french fries)\n",
              "4    0.163845                               (chocolate)\n",
              "..        ...                                       ...\n",
              "252  0.010932   (chocolate, ground beef, mineral water)\n",
              "253  0.011065        (milk, ground beef, mineral water)\n",
              "254  0.011065  (milk, frozen vegetables, mineral water)\n",
              "255  0.010532              (chocolate, eggs, spaghetti)\n",
              "256  0.010932              (chocolate, milk, spaghetti)\n",
              "\n",
              "[257 rows x 2 columns]"
            ]
          },
          "execution_count": 52,
          "metadata": {},
          "output_type": "execute_result"
        }
      ],
      "source": [
        "# Extramos los itemset más frecuentes y que cumplen la condición dada (support > 0.01), 0.01 significa 1%\n",
        "frequent_itemsets = apriori(dataset, min_support=0.01, use_colnames=True)\n",
        "frequent_itemsets"
      ]
    },
    {
      "cell_type": "code",
      "execution_count": 53,
      "metadata": {},
      "outputs": [
        {
          "data": {
            "text/html": [
              "<div>\n",
              "<style scoped>\n",
              "    .dataframe tbody tr th:only-of-type {\n",
              "        vertical-align: middle;\n",
              "    }\n",
              "\n",
              "    .dataframe tbody tr th {\n",
              "        vertical-align: top;\n",
              "    }\n",
              "\n",
              "    .dataframe thead th {\n",
              "        text-align: right;\n",
              "    }\n",
              "</style>\n",
              "<table border=\"1\" class=\"dataframe\">\n",
              "  <thead>\n",
              "    <tr style=\"text-align: right;\">\n",
              "      <th></th>\n",
              "      <th>support</th>\n",
              "      <th>itemsets</th>\n",
              "      <th>length</th>\n",
              "    </tr>\n",
              "  </thead>\n",
              "  <tbody>\n",
              "    <tr>\n",
              "      <th>0</th>\n",
              "      <td>0.238368</td>\n",
              "      <td>(mineral water)</td>\n",
              "      <td>1</td>\n",
              "    </tr>\n",
              "    <tr>\n",
              "      <th>1</th>\n",
              "      <td>0.179709</td>\n",
              "      <td>(eggs)</td>\n",
              "      <td>1</td>\n",
              "    </tr>\n",
              "    <tr>\n",
              "      <th>2</th>\n",
              "      <td>0.174110</td>\n",
              "      <td>(spaghetti)</td>\n",
              "      <td>1</td>\n",
              "    </tr>\n",
              "    <tr>\n",
              "      <th>3</th>\n",
              "      <td>0.170911</td>\n",
              "      <td>(french fries)</td>\n",
              "      <td>1</td>\n",
              "    </tr>\n",
              "    <tr>\n",
              "      <th>4</th>\n",
              "      <td>0.163845</td>\n",
              "      <td>(chocolate)</td>\n",
              "      <td>1</td>\n",
              "    </tr>\n",
              "    <tr>\n",
              "      <th>...</th>\n",
              "      <td>...</td>\n",
              "      <td>...</td>\n",
              "      <td>...</td>\n",
              "    </tr>\n",
              "    <tr>\n",
              "      <th>252</th>\n",
              "      <td>0.010932</td>\n",
              "      <td>(chocolate, ground beef, mineral water)</td>\n",
              "      <td>3</td>\n",
              "    </tr>\n",
              "    <tr>\n",
              "      <th>253</th>\n",
              "      <td>0.011065</td>\n",
              "      <td>(milk, ground beef, mineral water)</td>\n",
              "      <td>3</td>\n",
              "    </tr>\n",
              "    <tr>\n",
              "      <th>254</th>\n",
              "      <td>0.011065</td>\n",
              "      <td>(milk, frozen vegetables, mineral water)</td>\n",
              "      <td>3</td>\n",
              "    </tr>\n",
              "    <tr>\n",
              "      <th>255</th>\n",
              "      <td>0.010532</td>\n",
              "      <td>(chocolate, eggs, spaghetti)</td>\n",
              "      <td>3</td>\n",
              "    </tr>\n",
              "    <tr>\n",
              "      <th>256</th>\n",
              "      <td>0.010932</td>\n",
              "      <td>(chocolate, milk, spaghetti)</td>\n",
              "      <td>3</td>\n",
              "    </tr>\n",
              "  </tbody>\n",
              "</table>\n",
              "<p>257 rows × 3 columns</p>\n",
              "</div>"
            ],
            "text/plain": [
              "      support                                  itemsets  length\n",
              "0    0.238368                           (mineral water)       1\n",
              "1    0.179709                                    (eggs)       1\n",
              "2    0.174110                               (spaghetti)       1\n",
              "3    0.170911                            (french fries)       1\n",
              "4    0.163845                               (chocolate)       1\n",
              "..        ...                                       ...     ...\n",
              "252  0.010932   (chocolate, ground beef, mineral water)       3\n",
              "253  0.011065        (milk, ground beef, mineral water)       3\n",
              "254  0.011065  (milk, frozen vegetables, mineral water)       3\n",
              "255  0.010532              (chocolate, eggs, spaghetti)       3\n",
              "256  0.010932              (chocolate, milk, spaghetti)       3\n",
              "\n",
              "[257 rows x 3 columns]"
            ]
          },
          "execution_count": 53,
          "metadata": {},
          "output_type": "execute_result"
        }
      ],
      "source": [
        "# Añadimos el tamaño del itemset (elementos dentro de la compra)\n",
        "frequent_itemsets['length'] = frequent_itemsets['itemsets'].apply(lambda x: len(x))\n",
        "frequent_itemsets"
      ]
    },
    {
      "cell_type": "code",
      "execution_count": 54,
      "metadata": {
        "colab": {
          "base_uri": "https://localhost:8080/"
        },
        "id": "GtoKWbJfNeZW",
        "outputId": "ce8e82c8-2c33-4586-a719-5e31f5436649"
      },
      "outputs": [
        {
          "data": {
            "text/plain": [
              "length\n",
              "1     75\n",
              "2    165\n",
              "3     17\n",
              "Name: count, dtype: int64"
            ]
          },
          "execution_count": 54,
          "metadata": {},
          "output_type": "execute_result"
        }
      ],
      "source": [
        "# Cuántos elementos contiene cada compra?\n",
        "frequent_itemsets['length'].value_counts().sort_index()"
      ]
    },
    {
      "cell_type": "code",
      "execution_count": 55,
      "metadata": {
        "colab": {
          "base_uri": "https://localhost:8080/",
          "height": 677
        },
        "id": "D9rPloEZMfu9",
        "outputId": "99a4196d-05d4-4c5e-b666-c3c0dedb679f"
      },
      "outputs": [
        {
          "data": {
            "text/html": [
              "<div>\n",
              "<style scoped>\n",
              "    .dataframe tbody tr th:only-of-type {\n",
              "        vertical-align: middle;\n",
              "    }\n",
              "\n",
              "    .dataframe tbody tr th {\n",
              "        vertical-align: top;\n",
              "    }\n",
              "\n",
              "    .dataframe thead th {\n",
              "        text-align: right;\n",
              "    }\n",
              "</style>\n",
              "<table border=\"1\" class=\"dataframe\">\n",
              "  <thead>\n",
              "    <tr style=\"text-align: right;\">\n",
              "      <th></th>\n",
              "      <th>support</th>\n",
              "      <th>itemsets</th>\n",
              "      <th>length</th>\n",
              "    </tr>\n",
              "  </thead>\n",
              "  <tbody>\n",
              "    <tr>\n",
              "      <th>76</th>\n",
              "      <td>0.059725</td>\n",
              "      <td>(mineral water, spaghetti)</td>\n",
              "      <td>2</td>\n",
              "    </tr>\n",
              "    <tr>\n",
              "      <th>78</th>\n",
              "      <td>0.052660</td>\n",
              "      <td>(chocolate, mineral water)</td>\n",
              "      <td>2</td>\n",
              "    </tr>\n",
              "    <tr>\n",
              "      <th>75</th>\n",
              "      <td>0.050927</td>\n",
              "      <td>(eggs, mineral water)</td>\n",
              "      <td>2</td>\n",
              "    </tr>\n",
              "    <tr>\n",
              "      <th>80</th>\n",
              "      <td>0.047994</td>\n",
              "      <td>(milk, mineral water)</td>\n",
              "      <td>2</td>\n",
              "    </tr>\n",
              "    <tr>\n",
              "      <th>81</th>\n",
              "      <td>0.040928</td>\n",
              "      <td>(ground beef, mineral water)</td>\n",
              "      <td>2</td>\n",
              "    </tr>\n",
              "    <tr>\n",
              "      <th>131</th>\n",
              "      <td>0.039195</td>\n",
              "      <td>(ground beef, spaghetti)</td>\n",
              "      <td>2</td>\n",
              "    </tr>\n",
              "    <tr>\n",
              "      <th>128</th>\n",
              "      <td>0.039195</td>\n",
              "      <td>(chocolate, spaghetti)</td>\n",
              "      <td>2</td>\n",
              "    </tr>\n",
              "    <tr>\n",
              "      <th>105</th>\n",
              "      <td>0.036528</td>\n",
              "      <td>(eggs, spaghetti)</td>\n",
              "      <td>2</td>\n",
              "    </tr>\n",
              "    <tr>\n",
              "      <th>106</th>\n",
              "      <td>0.036395</td>\n",
              "      <td>(french fries, eggs)</td>\n",
              "      <td>2</td>\n",
              "    </tr>\n",
              "    <tr>\n",
              "      <th>82</th>\n",
              "      <td>0.035729</td>\n",
              "      <td>(frozen vegetables, mineral water)</td>\n",
              "      <td>2</td>\n",
              "    </tr>\n",
              "    <tr>\n",
              "      <th>130</th>\n",
              "      <td>0.035462</td>\n",
              "      <td>(milk, spaghetti)</td>\n",
              "      <td>2</td>\n",
              "    </tr>\n",
              "    <tr>\n",
              "      <th>152</th>\n",
              "      <td>0.034395</td>\n",
              "      <td>(chocolate, french fries)</td>\n",
              "      <td>2</td>\n",
              "    </tr>\n",
              "    <tr>\n",
              "      <th>77</th>\n",
              "      <td>0.033729</td>\n",
              "      <td>(french fries, mineral water)</td>\n",
              "      <td>2</td>\n",
              "    </tr>\n",
              "    <tr>\n",
              "      <th>83</th>\n",
              "      <td>0.033729</td>\n",
              "      <td>(mineral water, pancakes)</td>\n",
              "      <td>2</td>\n",
              "    </tr>\n",
              "    <tr>\n",
              "      <th>107</th>\n",
              "      <td>0.033196</td>\n",
              "      <td>(chocolate, eggs)</td>\n",
              "      <td>2</td>\n",
              "    </tr>\n",
              "    <tr>\n",
              "      <th>170</th>\n",
              "      <td>0.032129</td>\n",
              "      <td>(chocolate, milk)</td>\n",
              "      <td>2</td>\n",
              "    </tr>\n",
              "    <tr>\n",
              "      <th>79</th>\n",
              "      <td>0.031063</td>\n",
              "      <td>(mineral water, green tea)</td>\n",
              "      <td>2</td>\n",
              "    </tr>\n",
              "    <tr>\n",
              "      <th>109</th>\n",
              "      <td>0.030796</td>\n",
              "      <td>(milk, eggs)</td>\n",
              "      <td>2</td>\n",
              "    </tr>\n",
              "    <tr>\n",
              "      <th>113</th>\n",
              "      <td>0.028796</td>\n",
              "      <td>(burgers, eggs)</td>\n",
              "      <td>2</td>\n",
              "    </tr>\n",
              "    <tr>\n",
              "      <th>153</th>\n",
              "      <td>0.028530</td>\n",
              "      <td>(french fries, green tea)</td>\n",
              "      <td>2</td>\n",
              "    </tr>\n",
              "  </tbody>\n",
              "</table>\n",
              "</div>"
            ],
            "text/plain": [
              "      support                            itemsets  length\n",
              "76   0.059725          (mineral water, spaghetti)       2\n",
              "78   0.052660          (chocolate, mineral water)       2\n",
              "75   0.050927               (eggs, mineral water)       2\n",
              "80   0.047994               (milk, mineral water)       2\n",
              "81   0.040928        (ground beef, mineral water)       2\n",
              "131  0.039195            (ground beef, spaghetti)       2\n",
              "128  0.039195              (chocolate, spaghetti)       2\n",
              "105  0.036528                   (eggs, spaghetti)       2\n",
              "106  0.036395                (french fries, eggs)       2\n",
              "82   0.035729  (frozen vegetables, mineral water)       2\n",
              "130  0.035462                   (milk, spaghetti)       2\n",
              "152  0.034395           (chocolate, french fries)       2\n",
              "77   0.033729       (french fries, mineral water)       2\n",
              "83   0.033729           (mineral water, pancakes)       2\n",
              "107  0.033196                   (chocolate, eggs)       2\n",
              "170  0.032129                   (chocolate, milk)       2\n",
              "79   0.031063          (mineral water, green tea)       2\n",
              "109  0.030796                        (milk, eggs)       2\n",
              "113  0.028796                     (burgers, eggs)       2\n",
              "153  0.028530           (french fries, green tea)       2"
            ]
          },
          "execution_count": 55,
          "metadata": {},
          "output_type": "execute_result"
        }
      ],
      "source": [
        "# Verificamos los itemset de tamaño 2. Los ordenamos por support, de mayor a menor\n",
        "frequent_itemsets[frequent_itemsets['length']==2].sort_values('support', ascending=False).head(20)"
      ]
    },
    {
      "cell_type": "code",
      "execution_count": 56,
      "metadata": {
        "colab": {
          "base_uri": "https://localhost:8080/",
          "height": 582
        },
        "id": "m0VtcpqJE74-",
        "outputId": "f36a42dd-3362-480f-a912-0c97be77e9af"
      },
      "outputs": [
        {
          "data": {
            "text/html": [
              "<div>\n",
              "<style scoped>\n",
              "    .dataframe tbody tr th:only-of-type {\n",
              "        vertical-align: middle;\n",
              "    }\n",
              "\n",
              "    .dataframe tbody tr th {\n",
              "        vertical-align: top;\n",
              "    }\n",
              "\n",
              "    .dataframe thead th {\n",
              "        text-align: right;\n",
              "    }\n",
              "</style>\n",
              "<table border=\"1\" class=\"dataframe\">\n",
              "  <thead>\n",
              "    <tr style=\"text-align: right;\">\n",
              "      <th></th>\n",
              "      <th>support</th>\n",
              "      <th>itemsets</th>\n",
              "      <th>length</th>\n",
              "    </tr>\n",
              "  </thead>\n",
              "  <tbody>\n",
              "    <tr>\n",
              "      <th>247</th>\n",
              "      <td>0.017064</td>\n",
              "      <td>(ground beef, mineral water, spaghetti)</td>\n",
              "      <td>3</td>\n",
              "    </tr>\n",
              "    <tr>\n",
              "      <th>245</th>\n",
              "      <td>0.015865</td>\n",
              "      <td>(chocolate, mineral water, spaghetti)</td>\n",
              "      <td>3</td>\n",
              "    </tr>\n",
              "    <tr>\n",
              "      <th>246</th>\n",
              "      <td>0.015731</td>\n",
              "      <td>(milk, mineral water, spaghetti)</td>\n",
              "      <td>3</td>\n",
              "    </tr>\n",
              "    <tr>\n",
              "      <th>240</th>\n",
              "      <td>0.014265</td>\n",
              "      <td>(eggs, mineral water, spaghetti)</td>\n",
              "      <td>3</td>\n",
              "    </tr>\n",
              "    <tr>\n",
              "      <th>251</th>\n",
              "      <td>0.013998</td>\n",
              "      <td>(chocolate, milk, mineral water)</td>\n",
              "      <td>3</td>\n",
              "    </tr>\n",
              "    <tr>\n",
              "      <th>241</th>\n",
              "      <td>0.013465</td>\n",
              "      <td>(chocolate, eggs, mineral water)</td>\n",
              "      <td>3</td>\n",
              "    </tr>\n",
              "    <tr>\n",
              "      <th>242</th>\n",
              "      <td>0.013065</td>\n",
              "      <td>(milk, eggs, mineral water)</td>\n",
              "      <td>3</td>\n",
              "    </tr>\n",
              "    <tr>\n",
              "      <th>248</th>\n",
              "      <td>0.011998</td>\n",
              "      <td>(frozen vegetables, mineral water, spaghetti)</td>\n",
              "      <td>3</td>\n",
              "    </tr>\n",
              "    <tr>\n",
              "      <th>249</th>\n",
              "      <td>0.011465</td>\n",
              "      <td>(spaghetti, mineral water, pancakes)</td>\n",
              "      <td>3</td>\n",
              "    </tr>\n",
              "    <tr>\n",
              "      <th>253</th>\n",
              "      <td>0.011065</td>\n",
              "      <td>(milk, ground beef, mineral water)</td>\n",
              "      <td>3</td>\n",
              "    </tr>\n",
              "    <tr>\n",
              "      <th>254</th>\n",
              "      <td>0.011065</td>\n",
              "      <td>(milk, frozen vegetables, mineral water)</td>\n",
              "      <td>3</td>\n",
              "    </tr>\n",
              "    <tr>\n",
              "      <th>252</th>\n",
              "      <td>0.010932</td>\n",
              "      <td>(chocolate, ground beef, mineral water)</td>\n",
              "      <td>3</td>\n",
              "    </tr>\n",
              "    <tr>\n",
              "      <th>256</th>\n",
              "      <td>0.010932</td>\n",
              "      <td>(chocolate, milk, spaghetti)</td>\n",
              "      <td>3</td>\n",
              "    </tr>\n",
              "    <tr>\n",
              "      <th>255</th>\n",
              "      <td>0.010532</td>\n",
              "      <td>(chocolate, eggs, spaghetti)</td>\n",
              "      <td>3</td>\n",
              "    </tr>\n",
              "    <tr>\n",
              "      <th>250</th>\n",
              "      <td>0.010265</td>\n",
              "      <td>(olive oil, mineral water, spaghetti)</td>\n",
              "      <td>3</td>\n",
              "    </tr>\n",
              "    <tr>\n",
              "      <th>244</th>\n",
              "      <td>0.010132</td>\n",
              "      <td>(french fries, mineral water, spaghetti)</td>\n",
              "      <td>3</td>\n",
              "    </tr>\n",
              "    <tr>\n",
              "      <th>243</th>\n",
              "      <td>0.010132</td>\n",
              "      <td>(ground beef, eggs, mineral water)</td>\n",
              "      <td>3</td>\n",
              "    </tr>\n",
              "  </tbody>\n",
              "</table>\n",
              "</div>"
            ],
            "text/plain": [
              "      support                                       itemsets  length\n",
              "247  0.017064        (ground beef, mineral water, spaghetti)       3\n",
              "245  0.015865          (chocolate, mineral water, spaghetti)       3\n",
              "246  0.015731               (milk, mineral water, spaghetti)       3\n",
              "240  0.014265               (eggs, mineral water, spaghetti)       3\n",
              "251  0.013998               (chocolate, milk, mineral water)       3\n",
              "241  0.013465               (chocolate, eggs, mineral water)       3\n",
              "242  0.013065                    (milk, eggs, mineral water)       3\n",
              "248  0.011998  (frozen vegetables, mineral water, spaghetti)       3\n",
              "249  0.011465           (spaghetti, mineral water, pancakes)       3\n",
              "253  0.011065             (milk, ground beef, mineral water)       3\n",
              "254  0.011065       (milk, frozen vegetables, mineral water)       3\n",
              "252  0.010932        (chocolate, ground beef, mineral water)       3\n",
              "256  0.010932                   (chocolate, milk, spaghetti)       3\n",
              "255  0.010532                   (chocolate, eggs, spaghetti)       3\n",
              "250  0.010265          (olive oil, mineral water, spaghetti)       3\n",
              "244  0.010132       (french fries, mineral water, spaghetti)       3\n",
              "243  0.010132             (ground beef, eggs, mineral water)       3"
            ]
          },
          "execution_count": 56,
          "metadata": {},
          "output_type": "execute_result"
        }
      ],
      "source": [
        "# Verificamos los itemset de tamaño 3. Los ordenamos por support, de mayor a menor\n",
        "frequent_itemsets[frequent_itemsets['length']==3].sort_values('support', ascending=False)"
      ]
    },
    {
      "cell_type": "code",
      "execution_count": 57,
      "metadata": {
        "colab": {
          "base_uri": "https://localhost:8080/",
          "height": 448
        },
        "id": "ZpgESqu0Mfu9",
        "outputId": "660d65c4-48ea-4e62-dd14-1ba37f930d2c"
      },
      "outputs": [
        {
          "data": {
            "text/plain": [
              "<Axes: >"
            ]
          },
          "execution_count": 57,
          "metadata": {},
          "output_type": "execute_result"
        },
        {
          "data": {
            "image/png": "[encoded data removed]",
            "text/plain": [
              "<Figure size 640x480 with 1 Axes>"
            ]
          },
          "metadata": {},
          "output_type": "display_data"
        }
      ],
      "source": [
        "# Visualizamos la distribución de \"support\" en un histograma\n",
        "frequent_itemsets['support'].hist(bins=20)"
      ]
    },
    {
      "cell_type": "code",
      "execution_count": 58,
      "metadata": {
        "colab": {
          "base_uri": "https://localhost:8080/",
          "height": 614
        },
        "id": "WRrrjn8eMfu9",
        "outputId": "0d2d7899-fcae-4e5c-c54f-6502000721f5"
      },
      "outputs": [
        {
          "data": {
            "text/html": [
              "<div>\n",
              "<style scoped>\n",
              "    .dataframe tbody tr th:only-of-type {\n",
              "        vertical-align: middle;\n",
              "    }\n",
              "\n",
              "    .dataframe tbody tr th {\n",
              "        vertical-align: top;\n",
              "    }\n",
              "\n",
              "    .dataframe thead th {\n",
              "        text-align: right;\n",
              "    }\n",
              "</style>\n",
              "<table border=\"1\" class=\"dataframe\">\n",
              "  <thead>\n",
              "    <tr style=\"text-align: right;\">\n",
              "      <th></th>\n",
              "      <th>support</th>\n",
              "      <th>itemsets</th>\n",
              "      <th>length</th>\n",
              "    </tr>\n",
              "  </thead>\n",
              "  <tbody>\n",
              "    <tr>\n",
              "      <th>75</th>\n",
              "      <td>0.050927</td>\n",
              "      <td>(eggs, mineral water)</td>\n",
              "      <td>2</td>\n",
              "    </tr>\n",
              "    <tr>\n",
              "      <th>76</th>\n",
              "      <td>0.059725</td>\n",
              "      <td>(mineral water, spaghetti)</td>\n",
              "      <td>2</td>\n",
              "    </tr>\n",
              "    <tr>\n",
              "      <th>77</th>\n",
              "      <td>0.033729</td>\n",
              "      <td>(french fries, mineral water)</td>\n",
              "      <td>2</td>\n",
              "    </tr>\n",
              "    <tr>\n",
              "      <th>78</th>\n",
              "      <td>0.052660</td>\n",
              "      <td>(chocolate, mineral water)</td>\n",
              "      <td>2</td>\n",
              "    </tr>\n",
              "    <tr>\n",
              "      <th>79</th>\n",
              "      <td>0.031063</td>\n",
              "      <td>(mineral water, green tea)</td>\n",
              "      <td>2</td>\n",
              "    </tr>\n",
              "    <tr>\n",
              "      <th>80</th>\n",
              "      <td>0.047994</td>\n",
              "      <td>(milk, mineral water)</td>\n",
              "      <td>2</td>\n",
              "    </tr>\n",
              "    <tr>\n",
              "      <th>81</th>\n",
              "      <td>0.040928</td>\n",
              "      <td>(ground beef, mineral water)</td>\n",
              "      <td>2</td>\n",
              "    </tr>\n",
              "    <tr>\n",
              "      <th>82</th>\n",
              "      <td>0.035729</td>\n",
              "      <td>(frozen vegetables, mineral water)</td>\n",
              "      <td>2</td>\n",
              "    </tr>\n",
              "    <tr>\n",
              "      <th>83</th>\n",
              "      <td>0.033729</td>\n",
              "      <td>(mineral water, pancakes)</td>\n",
              "      <td>2</td>\n",
              "    </tr>\n",
              "    <tr>\n",
              "      <th>105</th>\n",
              "      <td>0.036528</td>\n",
              "      <td>(eggs, spaghetti)</td>\n",
              "      <td>2</td>\n",
              "    </tr>\n",
              "    <tr>\n",
              "      <th>106</th>\n",
              "      <td>0.036395</td>\n",
              "      <td>(french fries, eggs)</td>\n",
              "      <td>2</td>\n",
              "    </tr>\n",
              "    <tr>\n",
              "      <th>107</th>\n",
              "      <td>0.033196</td>\n",
              "      <td>(chocolate, eggs)</td>\n",
              "      <td>2</td>\n",
              "    </tr>\n",
              "    <tr>\n",
              "      <th>109</th>\n",
              "      <td>0.030796</td>\n",
              "      <td>(milk, eggs)</td>\n",
              "      <td>2</td>\n",
              "    </tr>\n",
              "    <tr>\n",
              "      <th>128</th>\n",
              "      <td>0.039195</td>\n",
              "      <td>(chocolate, spaghetti)</td>\n",
              "      <td>2</td>\n",
              "    </tr>\n",
              "    <tr>\n",
              "      <th>130</th>\n",
              "      <td>0.035462</td>\n",
              "      <td>(milk, spaghetti)</td>\n",
              "      <td>2</td>\n",
              "    </tr>\n",
              "    <tr>\n",
              "      <th>131</th>\n",
              "      <td>0.039195</td>\n",
              "      <td>(ground beef, spaghetti)</td>\n",
              "      <td>2</td>\n",
              "    </tr>\n",
              "    <tr>\n",
              "      <th>152</th>\n",
              "      <td>0.034395</td>\n",
              "      <td>(chocolate, french fries)</td>\n",
              "      <td>2</td>\n",
              "    </tr>\n",
              "    <tr>\n",
              "      <th>170</th>\n",
              "      <td>0.032129</td>\n",
              "      <td>(chocolate, milk)</td>\n",
              "      <td>2</td>\n",
              "    </tr>\n",
              "  </tbody>\n",
              "</table>\n",
              "</div>"
            ],
            "text/plain": [
              "      support                            itemsets  length\n",
              "75   0.050927               (eggs, mineral water)       2\n",
              "76   0.059725          (mineral water, spaghetti)       2\n",
              "77   0.033729       (french fries, mineral water)       2\n",
              "78   0.052660          (chocolate, mineral water)       2\n",
              "79   0.031063          (mineral water, green tea)       2\n",
              "80   0.047994               (milk, mineral water)       2\n",
              "81   0.040928        (ground beef, mineral water)       2\n",
              "82   0.035729  (frozen vegetables, mineral water)       2\n",
              "83   0.033729           (mineral water, pancakes)       2\n",
              "105  0.036528                   (eggs, spaghetti)       2\n",
              "106  0.036395                (french fries, eggs)       2\n",
              "107  0.033196                   (chocolate, eggs)       2\n",
              "109  0.030796                        (milk, eggs)       2\n",
              "128  0.039195              (chocolate, spaghetti)       2\n",
              "130  0.035462                   (milk, spaghetti)       2\n",
              "131  0.039195            (ground beef, spaghetti)       2\n",
              "152  0.034395           (chocolate, french fries)       2\n",
              "170  0.032129                   (chocolate, milk)       2"
            ]
          },
          "execution_count": 58,
          "metadata": {},
          "output_type": "execute_result"
        }
      ],
      "source": [
        "# Prodemos explorar rápidamente algunos itemset que cumplen con las siguientes condiciones\n",
        "# Obtenemos los itemset de tamaño 2. Con un soporte mayor o igual a 3%\n",
        "frequent_itemsets[ (frequent_itemsets['length'] == 2) &\n",
        "                   (frequent_itemsets['support'] >= 0.03)]"
      ]
    },
    {
      "cell_type": "code",
      "execution_count": 59,
      "metadata": {},
      "outputs": [],
      "source": [
        "# import sys\n",
        "# sys.exit(\"Detener script\")"
      ]
    },
    {
      "cell_type": "markdown",
      "metadata": {
        "id": "JUPOWnucE74-"
      },
      "source": [
        "Para empezar nuestra métrica del filtrado será el 'Lift'"
      ]
    },
    {
      "cell_type": "code",
      "execution_count": 60,
      "metadata": {
        "colab": {
          "base_uri": "https://localhost:8080/",
          "height": 833
        },
        "id": "6Hp2_2OuMfu-",
        "outputId": "74cdc28d-2e44-4071-ccff-38e60ac98d2a"
      },
      "outputs": [
        {
          "data": {
            "text/html": [
              "<div>\n",
              "<style scoped>\n",
              "    .dataframe tbody tr th:only-of-type {\n",
              "        vertical-align: middle;\n",
              "    }\n",
              "\n",
              "    .dataframe tbody tr th {\n",
              "        vertical-align: top;\n",
              "    }\n",
              "\n",
              "    .dataframe thead th {\n",
              "        text-align: right;\n",
              "    }\n",
              "</style>\n",
              "<table border=\"1\" class=\"dataframe\">\n",
              "  <thead>\n",
              "    <tr style=\"text-align: right;\">\n",
              "      <th></th>\n",
              "      <th>antecedents</th>\n",
              "      <th>consequents</th>\n",
              "      <th>antecedent support</th>\n",
              "      <th>consequent support</th>\n",
              "      <th>support</th>\n",
              "      <th>confidence</th>\n",
              "      <th>lift</th>\n",
              "      <th>leverage</th>\n",
              "      <th>conviction</th>\n",
              "      <th>zhangs_metric</th>\n",
              "    </tr>\n",
              "  </thead>\n",
              "  <tbody>\n",
              "    <tr>\n",
              "      <th>0</th>\n",
              "      <td>(mineral water)</td>\n",
              "      <td>(spaghetti)</td>\n",
              "      <td>0.238368</td>\n",
              "      <td>0.174110</td>\n",
              "      <td>0.059725</td>\n",
              "      <td>0.250559</td>\n",
              "      <td>1.439085</td>\n",
              "      <td>0.018223</td>\n",
              "      <td>1.102008</td>\n",
              "      <td>0.400606</td>\n",
              "    </tr>\n",
              "    <tr>\n",
              "      <th>1</th>\n",
              "      <td>(spaghetti)</td>\n",
              "      <td>(mineral water)</td>\n",
              "      <td>0.174110</td>\n",
              "      <td>0.238368</td>\n",
              "      <td>0.059725</td>\n",
              "      <td>0.343032</td>\n",
              "      <td>1.439085</td>\n",
              "      <td>0.018223</td>\n",
              "      <td>1.159314</td>\n",
              "      <td>0.369437</td>\n",
              "    </tr>\n",
              "    <tr>\n",
              "      <th>2</th>\n",
              "      <td>(chocolate)</td>\n",
              "      <td>(mineral water)</td>\n",
              "      <td>0.163845</td>\n",
              "      <td>0.238368</td>\n",
              "      <td>0.052660</td>\n",
              "      <td>0.321400</td>\n",
              "      <td>1.348332</td>\n",
              "      <td>0.013604</td>\n",
              "      <td>1.122357</td>\n",
              "      <td>0.308965</td>\n",
              "    </tr>\n",
              "    <tr>\n",
              "      <th>3</th>\n",
              "      <td>(mineral water)</td>\n",
              "      <td>(chocolate)</td>\n",
              "      <td>0.238368</td>\n",
              "      <td>0.163845</td>\n",
              "      <td>0.052660</td>\n",
              "      <td>0.220917</td>\n",
              "      <td>1.348332</td>\n",
              "      <td>0.013604</td>\n",
              "      <td>1.073256</td>\n",
              "      <td>0.339197</td>\n",
              "    </tr>\n",
              "    <tr>\n",
              "      <th>4</th>\n",
              "      <td>(milk)</td>\n",
              "      <td>(mineral water)</td>\n",
              "      <td>0.129583</td>\n",
              "      <td>0.238368</td>\n",
              "      <td>0.047994</td>\n",
              "      <td>0.370370</td>\n",
              "      <td>1.553774</td>\n",
              "      <td>0.017105</td>\n",
              "      <td>1.209650</td>\n",
              "      <td>0.409465</td>\n",
              "    </tr>\n",
              "    <tr>\n",
              "      <th>...</th>\n",
              "      <td>...</td>\n",
              "      <td>...</td>\n",
              "      <td>...</td>\n",
              "      <td>...</td>\n",
              "      <td>...</td>\n",
              "      <td>...</td>\n",
              "      <td>...</td>\n",
              "      <td>...</td>\n",
              "      <td>...</td>\n",
              "      <td>...</td>\n",
              "    </tr>\n",
              "    <tr>\n",
              "      <th>343</th>\n",
              "      <td>(chocolate, spaghetti)</td>\n",
              "      <td>(milk)</td>\n",
              "      <td>0.039195</td>\n",
              "      <td>0.129583</td>\n",
              "      <td>0.010932</td>\n",
              "      <td>0.278912</td>\n",
              "      <td>2.152382</td>\n",
              "      <td>0.005853</td>\n",
              "      <td>1.207088</td>\n",
              "      <td>0.557239</td>\n",
              "    </tr>\n",
              "    <tr>\n",
              "      <th>344</th>\n",
              "      <td>(milk, spaghetti)</td>\n",
              "      <td>(chocolate)</td>\n",
              "      <td>0.035462</td>\n",
              "      <td>0.163845</td>\n",
              "      <td>0.010932</td>\n",
              "      <td>0.308271</td>\n",
              "      <td>1.881480</td>\n",
              "      <td>0.005122</td>\n",
              "      <td>1.208790</td>\n",
              "      <td>0.485728</td>\n",
              "    </tr>\n",
              "    <tr>\n",
              "      <th>345</th>\n",
              "      <td>(chocolate)</td>\n",
              "      <td>(milk, spaghetti)</td>\n",
              "      <td>0.163845</td>\n",
              "      <td>0.035462</td>\n",
              "      <td>0.010932</td>\n",
              "      <td>0.066721</td>\n",
              "      <td>1.881480</td>\n",
              "      <td>0.005122</td>\n",
              "      <td>1.033494</td>\n",
              "      <td>0.560307</td>\n",
              "    </tr>\n",
              "    <tr>\n",
              "      <th>346</th>\n",
              "      <td>(milk)</td>\n",
              "      <td>(chocolate, spaghetti)</td>\n",
              "      <td>0.129583</td>\n",
              "      <td>0.039195</td>\n",
              "      <td>0.010932</td>\n",
              "      <td>0.084362</td>\n",
              "      <td>2.152382</td>\n",
              "      <td>0.005853</td>\n",
              "      <td>1.049329</td>\n",
              "      <td>0.615106</td>\n",
              "    </tr>\n",
              "    <tr>\n",
              "      <th>347</th>\n",
              "      <td>(spaghetti)</td>\n",
              "      <td>(chocolate, milk)</td>\n",
              "      <td>0.174110</td>\n",
              "      <td>0.032129</td>\n",
              "      <td>0.010932</td>\n",
              "      <td>0.062787</td>\n",
              "      <td>1.954217</td>\n",
              "      <td>0.005338</td>\n",
              "      <td>1.032712</td>\n",
              "      <td>0.591224</td>\n",
              "    </tr>\n",
              "  </tbody>\n",
              "</table>\n",
              "<p>348 rows × 10 columns</p>\n",
              "</div>"
            ],
            "text/plain": [
              "                antecedents             consequents  antecedent support  \\\n",
              "0           (mineral water)             (spaghetti)            0.238368   \n",
              "1               (spaghetti)         (mineral water)            0.174110   \n",
              "2               (chocolate)         (mineral water)            0.163845   \n",
              "3           (mineral water)             (chocolate)            0.238368   \n",
              "4                    (milk)         (mineral water)            0.129583   \n",
              "..                      ...                     ...                 ...   \n",
              "343  (chocolate, spaghetti)                  (milk)            0.039195   \n",
              "344       (milk, spaghetti)             (chocolate)            0.035462   \n",
              "345             (chocolate)       (milk, spaghetti)            0.163845   \n",
              "346                  (milk)  (chocolate, spaghetti)            0.129583   \n",
              "347             (spaghetti)       (chocolate, milk)            0.174110   \n",
              "\n",
              "     consequent support   support  confidence      lift  leverage  conviction  \\\n",
              "0              0.174110  0.059725    0.250559  1.439085  0.018223    1.102008   \n",
              "1              0.238368  0.059725    0.343032  1.439085  0.018223    1.159314   \n",
              "2              0.238368  0.052660    0.321400  1.348332  0.013604    1.122357   \n",
              "3              0.163845  0.052660    0.220917  1.348332  0.013604    1.073256   \n",
              "4              0.238368  0.047994    0.370370  1.553774  0.017105    1.209650   \n",
              "..                  ...       ...         ...       ...       ...         ...   \n",
              "343            0.129583  0.010932    0.278912  2.152382  0.005853    1.207088   \n",
              "344            0.163845  0.010932    0.308271  1.881480  0.005122    1.208790   \n",
              "345            0.035462  0.010932    0.066721  1.881480  0.005122    1.033494   \n",
              "346            0.039195  0.010932    0.084362  2.152382  0.005853    1.049329   \n",
              "347            0.032129  0.010932    0.062787  1.954217  0.005338    1.032712   \n",
              "\n",
              "     zhangs_metric  \n",
              "0         0.400606  \n",
              "1         0.369437  \n",
              "2         0.308965  \n",
              "3         0.339197  \n",
              "4         0.409465  \n",
              "..             ...  \n",
              "343       0.557239  \n",
              "344       0.485728  \n",
              "345       0.560307  \n",
              "346       0.615106  \n",
              "347       0.591224  \n",
              "\n",
              "[348 rows x 10 columns]"
            ]
          },
          "execution_count": 60,
          "metadata": {},
          "output_type": "execute_result"
        }
      ],
      "source": [
        "# Ahora procedemos a crear nuestras reglas. Para eso definimos un umbral mínimo de lift (puede ser 1.2)\n",
        "# Creamos reglas que tengan un lift por encima de 1.2, es decir, las reglas que se van a crear son reglas que generan un incremento en las ventas de al menos un 20%\n",
        "rules = association_rules(frequent_itemsets, metric=\"lift\", min_threshold=1.2)\n",
        "rules"
      ]
    },
    {
      "cell_type": "code",
      "execution_count": 61,
      "metadata": {},
      "outputs": [],
      "source": [
        "rules[\"antecedents_length\"] = rules[\"antecedents\"].apply(lambda x: len(x))\n",
        "rules[\"consequents_length\"] = rules[\"consequents\"].apply(lambda x: len(x))"
      ]
    },
    {
      "cell_type": "code",
      "execution_count": 62,
      "metadata": {},
      "outputs": [
        {
          "data": {
            "text/html": [
              "<div>\n",
              "<style scoped>\n",
              "    .dataframe tbody tr th:only-of-type {\n",
              "        vertical-align: middle;\n",
              "    }\n",
              "\n",
              "    .dataframe tbody tr th {\n",
              "        vertical-align: top;\n",
              "    }\n",
              "\n",
              "    .dataframe thead th {\n",
              "        text-align: right;\n",
              "    }\n",
              "</style>\n",
              "<table border=\"1\" class=\"dataframe\">\n",
              "  <thead>\n",
              "    <tr style=\"text-align: right;\">\n",
              "      <th></th>\n",
              "      <th>antecedents</th>\n",
              "      <th>consequents</th>\n",
              "      <th>antecedent support</th>\n",
              "      <th>consequent support</th>\n",
              "      <th>support</th>\n",
              "      <th>confidence</th>\n",
              "      <th>lift</th>\n",
              "      <th>leverage</th>\n",
              "      <th>conviction</th>\n",
              "      <th>zhangs_metric</th>\n",
              "      <th>antecedents_length</th>\n",
              "      <th>consequents_length</th>\n",
              "    </tr>\n",
              "  </thead>\n",
              "  <tbody>\n",
              "    <tr>\n",
              "      <th>218</th>\n",
              "      <td>(herb &amp; pepper)</td>\n",
              "      <td>(ground beef)</td>\n",
              "      <td>0.049460</td>\n",
              "      <td>0.098254</td>\n",
              "      <td>0.015998</td>\n",
              "      <td>0.323450</td>\n",
              "      <td>3.291994</td>\n",
              "      <td>0.011138</td>\n",
              "      <td>1.332860</td>\n",
              "      <td>0.732460</td>\n",
              "      <td>1</td>\n",
              "      <td>1</td>\n",
              "    </tr>\n",
              "    <tr>\n",
              "      <th>219</th>\n",
              "      <td>(ground beef)</td>\n",
              "      <td>(herb &amp; pepper)</td>\n",
              "      <td>0.098254</td>\n",
              "      <td>0.049460</td>\n",
              "      <td>0.015998</td>\n",
              "      <td>0.162822</td>\n",
              "      <td>3.291994</td>\n",
              "      <td>0.011138</td>\n",
              "      <td>1.135410</td>\n",
              "      <td>0.772094</td>\n",
              "      <td>1</td>\n",
              "      <td>1</td>\n",
              "    </tr>\n",
              "    <tr>\n",
              "      <th>290</th>\n",
              "      <td>(mineral water, spaghetti)</td>\n",
              "      <td>(ground beef)</td>\n",
              "      <td>0.059725</td>\n",
              "      <td>0.098254</td>\n",
              "      <td>0.017064</td>\n",
              "      <td>0.285714</td>\n",
              "      <td>2.907928</td>\n",
              "      <td>0.011196</td>\n",
              "      <td>1.262445</td>\n",
              "      <td>0.697788</td>\n",
              "      <td>2</td>\n",
              "      <td>1</td>\n",
              "    </tr>\n",
              "    <tr>\n",
              "      <th>291</th>\n",
              "      <td>(ground beef)</td>\n",
              "      <td>(mineral water, spaghetti)</td>\n",
              "      <td>0.098254</td>\n",
              "      <td>0.059725</td>\n",
              "      <td>0.017064</td>\n",
              "      <td>0.173677</td>\n",
              "      <td>2.907928</td>\n",
              "      <td>0.011196</td>\n",
              "      <td>1.137902</td>\n",
              "      <td>0.727602</td>\n",
              "      <td>1</td>\n",
              "      <td>2</td>\n",
              "    </tr>\n",
              "    <tr>\n",
              "      <th>308</th>\n",
              "      <td>(mineral water, spaghetti)</td>\n",
              "      <td>(olive oil)</td>\n",
              "      <td>0.059725</td>\n",
              "      <td>0.065858</td>\n",
              "      <td>0.010265</td>\n",
              "      <td>0.171875</td>\n",
              "      <td>2.609786</td>\n",
              "      <td>0.006332</td>\n",
              "      <td>1.128021</td>\n",
              "      <td>0.656007</td>\n",
              "      <td>2</td>\n",
              "      <td>1</td>\n",
              "    </tr>\n",
              "    <tr>\n",
              "      <th>309</th>\n",
              "      <td>(olive oil)</td>\n",
              "      <td>(mineral water, spaghetti)</td>\n",
              "      <td>0.065858</td>\n",
              "      <td>0.059725</td>\n",
              "      <td>0.010265</td>\n",
              "      <td>0.155870</td>\n",
              "      <td>2.609786</td>\n",
              "      <td>0.006332</td>\n",
              "      <td>1.113898</td>\n",
              "      <td>0.660314</td>\n",
              "      <td>1</td>\n",
              "      <td>2</td>\n",
              "    </tr>\n",
              "    <tr>\n",
              "      <th>231</th>\n",
              "      <td>(tomatoes)</td>\n",
              "      <td>(frozen vegetables)</td>\n",
              "      <td>0.068391</td>\n",
              "      <td>0.095321</td>\n",
              "      <td>0.016131</td>\n",
              "      <td>0.235867</td>\n",
              "      <td>2.474464</td>\n",
              "      <td>0.009612</td>\n",
              "      <td>1.183930</td>\n",
              "      <td>0.639616</td>\n",
              "      <td>1</td>\n",
              "      <td>1</td>\n",
              "    </tr>\n",
              "    <tr>\n",
              "      <th>230</th>\n",
              "      <td>(frozen vegetables)</td>\n",
              "      <td>(tomatoes)</td>\n",
              "      <td>0.095321</td>\n",
              "      <td>0.068391</td>\n",
              "      <td>0.016131</td>\n",
              "      <td>0.169231</td>\n",
              "      <td>2.474464</td>\n",
              "      <td>0.009612</td>\n",
              "      <td>1.121381</td>\n",
              "      <td>0.658656</td>\n",
              "      <td>1</td>\n",
              "      <td>1</td>\n",
              "    </tr>\n",
              "    <tr>\n",
              "      <th>229</th>\n",
              "      <td>(shrimp)</td>\n",
              "      <td>(frozen vegetables)</td>\n",
              "      <td>0.071457</td>\n",
              "      <td>0.095321</td>\n",
              "      <td>0.016664</td>\n",
              "      <td>0.233209</td>\n",
              "      <td>2.446574</td>\n",
              "      <td>0.009853</td>\n",
              "      <td>1.179825</td>\n",
              "      <td>0.636767</td>\n",
              "      <td>1</td>\n",
              "      <td>1</td>\n",
              "    </tr>\n",
              "    <tr>\n",
              "      <th>228</th>\n",
              "      <td>(frozen vegetables)</td>\n",
              "      <td>(shrimp)</td>\n",
              "      <td>0.095321</td>\n",
              "      <td>0.071457</td>\n",
              "      <td>0.016664</td>\n",
              "      <td>0.174825</td>\n",
              "      <td>2.446574</td>\n",
              "      <td>0.009853</td>\n",
              "      <td>1.125268</td>\n",
              "      <td>0.653563</td>\n",
              "      <td>1</td>\n",
              "      <td>1</td>\n",
              "    </tr>\n",
              "    <tr>\n",
              "      <th>331</th>\n",
              "      <td>(milk, mineral water)</td>\n",
              "      <td>(frozen vegetables)</td>\n",
              "      <td>0.047994</td>\n",
              "      <td>0.095321</td>\n",
              "      <td>0.011065</td>\n",
              "      <td>0.230556</td>\n",
              "      <td>2.418737</td>\n",
              "      <td>0.006490</td>\n",
              "      <td>1.175757</td>\n",
              "      <td>0.616132</td>\n",
              "      <td>2</td>\n",
              "      <td>1</td>\n",
              "    </tr>\n",
              "    <tr>\n",
              "      <th>334</th>\n",
              "      <td>(frozen vegetables)</td>\n",
              "      <td>(milk, mineral water)</td>\n",
              "      <td>0.095321</td>\n",
              "      <td>0.047994</td>\n",
              "      <td>0.011065</td>\n",
              "      <td>0.116084</td>\n",
              "      <td>2.418737</td>\n",
              "      <td>0.006490</td>\n",
              "      <td>1.077033</td>\n",
              "      <td>0.648364</td>\n",
              "      <td>1</td>\n",
              "      <td>2</td>\n",
              "    </tr>\n",
              "    <tr>\n",
              "      <th>293</th>\n",
              "      <td>(spaghetti)</td>\n",
              "      <td>(ground beef, mineral water)</td>\n",
              "      <td>0.174110</td>\n",
              "      <td>0.040928</td>\n",
              "      <td>0.017064</td>\n",
              "      <td>0.098009</td>\n",
              "      <td>2.394681</td>\n",
              "      <td>0.009938</td>\n",
              "      <td>1.063284</td>\n",
              "      <td>0.705188</td>\n",
              "      <td>1</td>\n",
              "      <td>2</td>\n",
              "    </tr>\n",
              "    <tr>\n",
              "      <th>288</th>\n",
              "      <td>(ground beef, mineral water)</td>\n",
              "      <td>(spaghetti)</td>\n",
              "      <td>0.040928</td>\n",
              "      <td>0.174110</td>\n",
              "      <td>0.017064</td>\n",
              "      <td>0.416938</td>\n",
              "      <td>2.394681</td>\n",
              "      <td>0.009938</td>\n",
              "      <td>1.416470</td>\n",
              "      <td>0.607262</td>\n",
              "      <td>2</td>\n",
              "      <td>1</td>\n",
              "    </tr>\n",
              "    <tr>\n",
              "      <th>332</th>\n",
              "      <td>(frozen vegetables, mineral water)</td>\n",
              "      <td>(milk)</td>\n",
              "      <td>0.035729</td>\n",
              "      <td>0.129583</td>\n",
              "      <td>0.011065</td>\n",
              "      <td>0.309701</td>\n",
              "      <td>2.389991</td>\n",
              "      <td>0.006435</td>\n",
              "      <td>1.260929</td>\n",
              "      <td>0.603138</td>\n",
              "      <td>2</td>\n",
              "      <td>1</td>\n",
              "    </tr>\n",
              "    <tr>\n",
              "      <th>333</th>\n",
              "      <td>(milk)</td>\n",
              "      <td>(frozen vegetables, mineral water)</td>\n",
              "      <td>0.129583</td>\n",
              "      <td>0.035729</td>\n",
              "      <td>0.011065</td>\n",
              "      <td>0.085391</td>\n",
              "      <td>2.389991</td>\n",
              "      <td>0.006435</td>\n",
              "      <td>1.054299</td>\n",
              "      <td>0.668172</td>\n",
              "      <td>1</td>\n",
              "      <td>2</td>\n",
              "    </tr>\n",
              "    <tr>\n",
              "      <th>328</th>\n",
              "      <td>(ground beef)</td>\n",
              "      <td>(milk, mineral water)</td>\n",
              "      <td>0.098254</td>\n",
              "      <td>0.047994</td>\n",
              "      <td>0.011065</td>\n",
              "      <td>0.112619</td>\n",
              "      <td>2.346536</td>\n",
              "      <td>0.006350</td>\n",
              "      <td>1.072827</td>\n",
              "      <td>0.636365</td>\n",
              "      <td>1</td>\n",
              "      <td>2</td>\n",
              "    </tr>\n",
              "    <tr>\n",
              "      <th>325</th>\n",
              "      <td>(milk, mineral water)</td>\n",
              "      <td>(ground beef)</td>\n",
              "      <td>0.047994</td>\n",
              "      <td>0.098254</td>\n",
              "      <td>0.011065</td>\n",
              "      <td>0.230556</td>\n",
              "      <td>2.346536</td>\n",
              "      <td>0.006350</td>\n",
              "      <td>1.171945</td>\n",
              "      <td>0.602769</td>\n",
              "      <td>2</td>\n",
              "      <td>1</td>\n",
              "    </tr>\n",
              "    <tr>\n",
              "      <th>203</th>\n",
              "      <td>(soup)</td>\n",
              "      <td>(milk)</td>\n",
              "      <td>0.050527</td>\n",
              "      <td>0.129583</td>\n",
              "      <td>0.015198</td>\n",
              "      <td>0.300792</td>\n",
              "      <td>2.321232</td>\n",
              "      <td>0.008651</td>\n",
              "      <td>1.244861</td>\n",
              "      <td>0.599484</td>\n",
              "      <td>1</td>\n",
              "      <td>1</td>\n",
              "    </tr>\n",
              "    <tr>\n",
              "      <th>202</th>\n",
              "      <td>(milk)</td>\n",
              "      <td>(soup)</td>\n",
              "      <td>0.129583</td>\n",
              "      <td>0.050527</td>\n",
              "      <td>0.015198</td>\n",
              "      <td>0.117284</td>\n",
              "      <td>2.321232</td>\n",
              "      <td>0.008651</td>\n",
              "      <td>1.075627</td>\n",
              "      <td>0.653933</td>\n",
              "      <td>1</td>\n",
              "      <td>1</td>\n",
              "    </tr>\n",
              "  </tbody>\n",
              "</table>\n",
              "</div>"
            ],
            "text/plain": [
              "                            antecedents                         consequents  \\\n",
              "218                     (herb & pepper)                       (ground beef)   \n",
              "219                       (ground beef)                     (herb & pepper)   \n",
              "290          (mineral water, spaghetti)                       (ground beef)   \n",
              "291                       (ground beef)          (mineral water, spaghetti)   \n",
              "308          (mineral water, spaghetti)                         (olive oil)   \n",
              "309                         (olive oil)          (mineral water, spaghetti)   \n",
              "231                          (tomatoes)                 (frozen vegetables)   \n",
              "230                 (frozen vegetables)                          (tomatoes)   \n",
              "229                            (shrimp)                 (frozen vegetables)   \n",
              "228                 (frozen vegetables)                            (shrimp)   \n",
              "331               (milk, mineral water)                 (frozen vegetables)   \n",
              "334                 (frozen vegetables)               (milk, mineral water)   \n",
              "293                         (spaghetti)        (ground beef, mineral water)   \n",
              "288        (ground beef, mineral water)                         (spaghetti)   \n",
              "332  (frozen vegetables, mineral water)                              (milk)   \n",
              "333                              (milk)  (frozen vegetables, mineral water)   \n",
              "328                       (ground beef)               (milk, mineral water)   \n",
              "325               (milk, mineral water)                       (ground beef)   \n",
              "203                              (soup)                              (milk)   \n",
              "202                              (milk)                              (soup)   \n",
              "\n",
              "     antecedent support  consequent support   support  confidence      lift  \\\n",
              "218            0.049460            0.098254  0.015998    0.323450  3.291994   \n",
              "219            0.098254            0.049460  0.015998    0.162822  3.291994   \n",
              "290            0.059725            0.098254  0.017064    0.285714  2.907928   \n",
              "291            0.098254            0.059725  0.017064    0.173677  2.907928   \n",
              "308            0.059725            0.065858  0.010265    0.171875  2.609786   \n",
              "309            0.065858            0.059725  0.010265    0.155870  2.609786   \n",
              "231            0.068391            0.095321  0.016131    0.235867  2.474464   \n",
              "230            0.095321            0.068391  0.016131    0.169231  2.474464   \n",
              "229            0.071457            0.095321  0.016664    0.233209  2.446574   \n",
              "228            0.095321            0.071457  0.016664    0.174825  2.446574   \n",
              "331            0.047994            0.095321  0.011065    0.230556  2.418737   \n",
              "334            0.095321            0.047994  0.011065    0.116084  2.418737   \n",
              "293            0.174110            0.040928  0.017064    0.098009  2.394681   \n",
              "288            0.040928            0.174110  0.017064    0.416938  2.394681   \n",
              "332            0.035729            0.129583  0.011065    0.309701  2.389991   \n",
              "333            0.129583            0.035729  0.011065    0.085391  2.389991   \n",
              "328            0.098254            0.047994  0.011065    0.112619  2.346536   \n",
              "325            0.047994            0.098254  0.011065    0.230556  2.346536   \n",
              "203            0.050527            0.129583  0.015198    0.300792  2.321232   \n",
              "202            0.129583            0.050527  0.015198    0.117284  2.321232   \n",
              "\n",
              "     leverage  conviction  zhangs_metric  antecedents_length  \\\n",
              "218  0.011138    1.332860       0.732460                   1   \n",
              "219  0.011138    1.135410       0.772094                   1   \n",
              "290  0.011196    1.262445       0.697788                   2   \n",
              "291  0.011196    1.137902       0.727602                   1   \n",
              "308  0.006332    1.128021       0.656007                   2   \n",
              "309  0.006332    1.113898       0.660314                   1   \n",
              "231  0.009612    1.183930       0.639616                   1   \n",
              "230  0.009612    1.121381       0.658656                   1   \n",
              "229  0.009853    1.179825       0.636767                   1   \n",
              "228  0.009853    1.125268       0.653563                   1   \n",
              "331  0.006490    1.175757       0.616132                   2   \n",
              "334  0.006490    1.077033       0.648364                   1   \n",
              "293  0.009938    1.063284       0.705188                   1   \n",
              "288  0.009938    1.416470       0.607262                   2   \n",
              "332  0.006435    1.260929       0.603138                   2   \n",
              "333  0.006435    1.054299       0.668172                   1   \n",
              "328  0.006350    1.072827       0.636365                   1   \n",
              "325  0.006350    1.171945       0.602769                   2   \n",
              "203  0.008651    1.244861       0.599484                   1   \n",
              "202  0.008651    1.075627       0.653933                   1   \n",
              "\n",
              "     consequents_length  \n",
              "218                   1  \n",
              "219                   1  \n",
              "290                   1  \n",
              "291                   2  \n",
              "308                   1  \n",
              "309                   2  \n",
              "231                   1  \n",
              "230                   1  \n",
              "229                   1  \n",
              "228                   1  \n",
              "331                   1  \n",
              "334                   2  \n",
              "293                   2  \n",
              "288                   1  \n",
              "332                   1  \n",
              "333                   2  \n",
              "328                   2  \n",
              "325                   1  \n",
              "203                   1  \n",
              "202                   1  "
            ]
          },
          "execution_count": 62,
          "metadata": {},
          "output_type": "execute_result"
        }
      ],
      "source": [
        "# Ordenamos nuestras reglas basado en Lift\n",
        "rules.sort_values(\"lift\",ascending=False).head(20)"
      ]
    },
    {
      "cell_type": "code",
      "execution_count": 63,
      "metadata": {
        "colab": {
          "base_uri": "https://localhost:8080/"
        },
        "id": "xKCikHLSMfu-",
        "outputId": "36150f71-5f29-45c2-cb27-bbb367f77ccd"
      },
      "outputs": [
        {
          "data": {
            "text/plain": [
              "(348, 12)"
            ]
          },
          "execution_count": 63,
          "metadata": {},
          "output_type": "execute_result"
        }
      ],
      "source": [
        "rules.shape"
      ]
    },
    {
      "cell_type": "markdown",
      "metadata": {
        "id": "M6bOK-LsE74-"
      },
      "source": [
        "De acuerdo con la tabla anterior, podemos decir fácilmente que la dependencia entre (hierba y pimienta) y (carne molida) es alta, ya que el puntaje de elevación (lift) es aproximadamente 2.5x del umbral y el puntaje de confianza (confidence) es (32%)\n",
        "\n",
        "El umbral mencionado en el contexto, es el umbral de 1.2 para el puntaje de elevación (lift) para crear las reglas de asociacion, en el análisis de asociaciones, 1.2 x 2.5 = 3"
      ]
    },
    {
      "cell_type": "code",
      "execution_count": 64,
      "metadata": {
        "colab": {
          "base_uri": "https://localhost:8080/",
          "height": 554
        },
        "id": "vaX9e4GyMfu-",
        "outputId": "b50d2564-72c3-43da-cc5a-dfef1dbf4d29"
      },
      "outputs": [
        {
          "data": {
            "text/html": [
              "<div>\n",
              "<style scoped>\n",
              "    .dataframe tbody tr th:only-of-type {\n",
              "        vertical-align: middle;\n",
              "    }\n",
              "\n",
              "    .dataframe tbody tr th {\n",
              "        vertical-align: top;\n",
              "    }\n",
              "\n",
              "    .dataframe thead th {\n",
              "        text-align: right;\n",
              "    }\n",
              "</style>\n",
              "<table border=\"1\" class=\"dataframe\">\n",
              "  <thead>\n",
              "    <tr style=\"text-align: right;\">\n",
              "      <th></th>\n",
              "      <th>antecedents</th>\n",
              "      <th>consequents</th>\n",
              "      <th>antecedent support</th>\n",
              "      <th>consequent support</th>\n",
              "      <th>support</th>\n",
              "      <th>confidence</th>\n",
              "      <th>lift</th>\n",
              "      <th>leverage</th>\n",
              "      <th>conviction</th>\n",
              "      <th>zhangs_metric</th>\n",
              "      <th>antecedents_length</th>\n",
              "      <th>consequents_length</th>\n",
              "    </tr>\n",
              "  </thead>\n",
              "  <tbody>\n",
              "    <tr>\n",
              "      <th>266</th>\n",
              "      <td>(ground beef, eggs)</td>\n",
              "      <td>(mineral water)</td>\n",
              "      <td>0.019997</td>\n",
              "      <td>0.238368</td>\n",
              "      <td>0.010132</td>\n",
              "      <td>0.506667</td>\n",
              "      <td>2.125563</td>\n",
              "      <td>0.005365</td>\n",
              "      <td>1.543848</td>\n",
              "      <td>0.540342</td>\n",
              "      <td>2</td>\n",
              "      <td>1</td>\n",
              "    </tr>\n",
              "    <tr>\n",
              "      <th>324</th>\n",
              "      <td>(milk, ground beef)</td>\n",
              "      <td>(mineral water)</td>\n",
              "      <td>0.021997</td>\n",
              "      <td>0.238368</td>\n",
              "      <td>0.011065</td>\n",
              "      <td>0.503030</td>\n",
              "      <td>2.110308</td>\n",
              "      <td>0.005822</td>\n",
              "      <td>1.532552</td>\n",
              "      <td>0.537969</td>\n",
              "      <td>2</td>\n",
              "      <td>1</td>\n",
              "    </tr>\n",
              "    <tr>\n",
              "      <th>318</th>\n",
              "      <td>(chocolate, ground beef)</td>\n",
              "      <td>(mineral water)</td>\n",
              "      <td>0.023064</td>\n",
              "      <td>0.238368</td>\n",
              "      <td>0.010932</td>\n",
              "      <td>0.473988</td>\n",
              "      <td>1.988472</td>\n",
              "      <td>0.005434</td>\n",
              "      <td>1.447937</td>\n",
              "      <td>0.508837</td>\n",
              "      <td>2</td>\n",
              "      <td>1</td>\n",
              "    </tr>\n",
              "    <tr>\n",
              "      <th>330</th>\n",
              "      <td>(milk, frozen vegetables)</td>\n",
              "      <td>(mineral water)</td>\n",
              "      <td>0.023597</td>\n",
              "      <td>0.238368</td>\n",
              "      <td>0.011065</td>\n",
              "      <td>0.468927</td>\n",
              "      <td>1.967236</td>\n",
              "      <td>0.005440</td>\n",
              "      <td>1.434136</td>\n",
              "      <td>0.503555</td>\n",
              "      <td>2</td>\n",
              "      <td>1</td>\n",
              "    </tr>\n",
              "    <tr>\n",
              "      <th>34</th>\n",
              "      <td>(soup)</td>\n",
              "      <td>(mineral water)</td>\n",
              "      <td>0.050527</td>\n",
              "      <td>0.238368</td>\n",
              "      <td>0.023064</td>\n",
              "      <td>0.456464</td>\n",
              "      <td>1.914955</td>\n",
              "      <td>0.011020</td>\n",
              "      <td>1.401255</td>\n",
              "      <td>0.503221</td>\n",
              "      <td>1</td>\n",
              "      <td>1</td>\n",
              "    </tr>\n",
              "    <tr>\n",
              "      <th>301</th>\n",
              "      <td>(pancakes, spaghetti)</td>\n",
              "      <td>(mineral water)</td>\n",
              "      <td>0.025197</td>\n",
              "      <td>0.238368</td>\n",
              "      <td>0.011465</td>\n",
              "      <td>0.455026</td>\n",
              "      <td>1.908923</td>\n",
              "      <td>0.005459</td>\n",
              "      <td>1.397557</td>\n",
              "      <td>0.488452</td>\n",
              "      <td>2</td>\n",
              "      <td>1</td>\n",
              "    </tr>\n",
              "    <tr>\n",
              "      <th>307</th>\n",
              "      <td>(olive oil, spaghetti)</td>\n",
              "      <td>(mineral water)</td>\n",
              "      <td>0.022930</td>\n",
              "      <td>0.238368</td>\n",
              "      <td>0.010265</td>\n",
              "      <td>0.447674</td>\n",
              "      <td>1.878079</td>\n",
              "      <td>0.004799</td>\n",
              "      <td>1.378954</td>\n",
              "      <td>0.478514</td>\n",
              "      <td>2</td>\n",
              "      <td>1</td>\n",
              "    </tr>\n",
              "    <tr>\n",
              "      <th>283</th>\n",
              "      <td>(milk, spaghetti)</td>\n",
              "      <td>(mineral water)</td>\n",
              "      <td>0.035462</td>\n",
              "      <td>0.238368</td>\n",
              "      <td>0.015731</td>\n",
              "      <td>0.443609</td>\n",
              "      <td>1.861024</td>\n",
              "      <td>0.007278</td>\n",
              "      <td>1.368879</td>\n",
              "      <td>0.479672</td>\n",
              "      <td>2</td>\n",
              "      <td>1</td>\n",
              "    </tr>\n",
              "    <tr>\n",
              "      <th>312</th>\n",
              "      <td>(chocolate, milk)</td>\n",
              "      <td>(mineral water)</td>\n",
              "      <td>0.032129</td>\n",
              "      <td>0.238368</td>\n",
              "      <td>0.013998</td>\n",
              "      <td>0.435685</td>\n",
              "      <td>1.827780</td>\n",
              "      <td>0.006340</td>\n",
              "      <td>1.349656</td>\n",
              "      <td>0.467922</td>\n",
              "      <td>2</td>\n",
              "      <td>1</td>\n",
              "    </tr>\n",
              "    <tr>\n",
              "      <th>289</th>\n",
              "      <td>(ground beef, spaghetti)</td>\n",
              "      <td>(mineral water)</td>\n",
              "      <td>0.039195</td>\n",
              "      <td>0.238368</td>\n",
              "      <td>0.017064</td>\n",
              "      <td>0.435374</td>\n",
              "      <td>1.826477</td>\n",
              "      <td>0.007722</td>\n",
              "      <td>1.348914</td>\n",
              "      <td>0.470957</td>\n",
              "      <td>2</td>\n",
              "      <td>1</td>\n",
              "    </tr>\n",
              "  </tbody>\n",
              "</table>\n",
              "</div>"
            ],
            "text/plain": [
              "                   antecedents      consequents  antecedent support  \\\n",
              "266        (ground beef, eggs)  (mineral water)            0.019997   \n",
              "324        (milk, ground beef)  (mineral water)            0.021997   \n",
              "318   (chocolate, ground beef)  (mineral water)            0.023064   \n",
              "330  (milk, frozen vegetables)  (mineral water)            0.023597   \n",
              "34                      (soup)  (mineral water)            0.050527   \n",
              "301      (pancakes, spaghetti)  (mineral water)            0.025197   \n",
              "307     (olive oil, spaghetti)  (mineral water)            0.022930   \n",
              "283          (milk, spaghetti)  (mineral water)            0.035462   \n",
              "312          (chocolate, milk)  (mineral water)            0.032129   \n",
              "289   (ground beef, spaghetti)  (mineral water)            0.039195   \n",
              "\n",
              "     consequent support   support  confidence      lift  leverage  conviction  \\\n",
              "266            0.238368  0.010132    0.506667  2.125563  0.005365    1.543848   \n",
              "324            0.238368  0.011065    0.503030  2.110308  0.005822    1.532552   \n",
              "318            0.238368  0.010932    0.473988  1.988472  0.005434    1.447937   \n",
              "330            0.238368  0.011065    0.468927  1.967236  0.005440    1.434136   \n",
              "34             0.238368  0.023064    0.456464  1.914955  0.011020    1.401255   \n",
              "301            0.238368  0.011465    0.455026  1.908923  0.005459    1.397557   \n",
              "307            0.238368  0.010265    0.447674  1.878079  0.004799    1.378954   \n",
              "283            0.238368  0.015731    0.443609  1.861024  0.007278    1.368879   \n",
              "312            0.238368  0.013998    0.435685  1.827780  0.006340    1.349656   \n",
              "289            0.238368  0.017064    0.435374  1.826477  0.007722    1.348914   \n",
              "\n",
              "     zhangs_metric  antecedents_length  consequents_length  \n",
              "266       0.540342                   2                   1  \n",
              "324       0.537969                   2                   1  \n",
              "318       0.508837                   2                   1  \n",
              "330       0.503555                   2                   1  \n",
              "34        0.503221                   1                   1  \n",
              "301       0.488452                   2                   1  \n",
              "307       0.478514                   2                   1  \n",
              "283       0.479672                   2                   1  \n",
              "312       0.467922                   2                   1  \n",
              "289       0.470957                   2                   1  "
            ]
          },
          "execution_count": 64,
          "metadata": {},
          "output_type": "execute_result"
        }
      ],
      "source": [
        "# Ordenamos nuestras reglas basado en Confidence\n",
        "rules.sort_values(\"confidence\",ascending=False).head(10)"
      ]
    },
    {
      "cell_type": "code",
      "execution_count": 65,
      "metadata": {},
      "outputs": [],
      "source": [
        "# import sys\n",
        "# sys.exit(\"Detener script\")|"
      ]
    },
    {
      "cell_type": "markdown",
      "metadata": {
        "id": "U3-wwgmwMfu-"
      },
      "source": [
        "Según la tabla anterior, se espera que los clientes que compraron (huevos, carne molida) compren (agua mineral) con una probabilidad del 50% (confianza). Los puntajes de Lift y Confianza también respaldan esa hipótesis\n",
        "¡Sería mejor mantenerlos cerca para aumentar las ventas!\n",
        "\n",
        "Dado que el producto más demandado en el conjunto de datos es el agua mineral, los resultados de la asociación están dominados principalmente por este. Por esa razón, para obtener más información, es mejor crear una tabla de confianza que excluya el agua mineral."
      ]
    },
    {
      "cell_type": "code",
      "execution_count": 66,
      "metadata": {
        "colab": {
          "base_uri": "https://localhost:8080/",
          "height": 1000
        },
        "id": "Xbe9uXiFMfu-",
        "outputId": "a36fd221-9a81-4cc1-8ebe-b54a9c78b16d"
      },
      "outputs": [
        {
          "data": {
            "text/html": [
              "<div>\n",
              "<style scoped>\n",
              "    .dataframe tbody tr th:only-of-type {\n",
              "        vertical-align: middle;\n",
              "    }\n",
              "\n",
              "    .dataframe tbody tr th {\n",
              "        vertical-align: top;\n",
              "    }\n",
              "\n",
              "    .dataframe thead th {\n",
              "        text-align: right;\n",
              "    }\n",
              "</style>\n",
              "<table border=\"1\" class=\"dataframe\">\n",
              "  <thead>\n",
              "    <tr style=\"text-align: right;\">\n",
              "      <th></th>\n",
              "      <th>antecedents</th>\n",
              "      <th>consequents</th>\n",
              "      <th>antecedent support</th>\n",
              "      <th>consequent support</th>\n",
              "      <th>support</th>\n",
              "      <th>confidence</th>\n",
              "      <th>lift</th>\n",
              "      <th>leverage</th>\n",
              "      <th>conviction</th>\n",
              "      <th>zhangs_metric</th>\n",
              "      <th>antecedents_length</th>\n",
              "      <th>consequents_length</th>\n",
              "    </tr>\n",
              "  </thead>\n",
              "  <tbody>\n",
              "    <tr>\n",
              "      <th>74</th>\n",
              "      <td>(ground beef)</td>\n",
              "      <td>(spaghetti)</td>\n",
              "      <td>0.098254</td>\n",
              "      <td>0.174110</td>\n",
              "      <td>0.039195</td>\n",
              "      <td>0.398915</td>\n",
              "      <td>2.291162</td>\n",
              "      <td>0.022088</td>\n",
              "      <td>1.373997</td>\n",
              "      <td>0.624943</td>\n",
              "      <td>1</td>\n",
              "      <td>1</td>\n",
              "    </tr>\n",
              "    <tr>\n",
              "      <th>110</th>\n",
              "      <td>(red wine)</td>\n",
              "      <td>(spaghetti)</td>\n",
              "      <td>0.028130</td>\n",
              "      <td>0.174110</td>\n",
              "      <td>0.010265</td>\n",
              "      <td>0.364929</td>\n",
              "      <td>2.095966</td>\n",
              "      <td>0.005368</td>\n",
              "      <td>1.300468</td>\n",
              "      <td>0.538028</td>\n",
              "      <td>1</td>\n",
              "      <td>1</td>\n",
              "    </tr>\n",
              "    <tr>\n",
              "      <th>88</th>\n",
              "      <td>(olive oil)</td>\n",
              "      <td>(spaghetti)</td>\n",
              "      <td>0.065858</td>\n",
              "      <td>0.174110</td>\n",
              "      <td>0.022930</td>\n",
              "      <td>0.348178</td>\n",
              "      <td>1.999758</td>\n",
              "      <td>0.011464</td>\n",
              "      <td>1.267048</td>\n",
              "      <td>0.535186</td>\n",
              "      <td>1</td>\n",
              "      <td>1</td>\n",
              "    </tr>\n",
              "    <tr>\n",
              "      <th>342</th>\n",
              "      <td>(chocolate, milk)</td>\n",
              "      <td>(spaghetti)</td>\n",
              "      <td>0.032129</td>\n",
              "      <td>0.174110</td>\n",
              "      <td>0.010932</td>\n",
              "      <td>0.340249</td>\n",
              "      <td>1.954217</td>\n",
              "      <td>0.005338</td>\n",
              "      <td>1.251821</td>\n",
              "      <td>0.504495</td>\n",
              "      <td>2</td>\n",
              "      <td>1</td>\n",
              "    </tr>\n",
              "    <tr>\n",
              "      <th>56</th>\n",
              "      <td>(burgers)</td>\n",
              "      <td>(eggs)</td>\n",
              "      <td>0.087188</td>\n",
              "      <td>0.179709</td>\n",
              "      <td>0.028796</td>\n",
              "      <td>0.330275</td>\n",
              "      <td>1.837830</td>\n",
              "      <td>0.013128</td>\n",
              "      <td>1.224818</td>\n",
              "      <td>0.499424</td>\n",
              "      <td>1</td>\n",
              "      <td>1</td>\n",
              "    </tr>\n",
              "    <tr>\n",
              "      <th>104</th>\n",
              "      <td>(herb &amp; pepper)</td>\n",
              "      <td>(spaghetti)</td>\n",
              "      <td>0.049460</td>\n",
              "      <td>0.174110</td>\n",
              "      <td>0.016264</td>\n",
              "      <td>0.328841</td>\n",
              "      <td>1.888695</td>\n",
              "      <td>0.007653</td>\n",
              "      <td>1.230543</td>\n",
              "      <td>0.495018</td>\n",
              "      <td>1</td>\n",
              "      <td>1</td>\n",
              "    </tr>\n",
              "    <tr>\n",
              "      <th>218</th>\n",
              "      <td>(herb &amp; pepper)</td>\n",
              "      <td>(ground beef)</td>\n",
              "      <td>0.049460</td>\n",
              "      <td>0.098254</td>\n",
              "      <td>0.015998</td>\n",
              "      <td>0.323450</td>\n",
              "      <td>3.291994</td>\n",
              "      <td>0.011138</td>\n",
              "      <td>1.332860</td>\n",
              "      <td>0.732460</td>\n",
              "      <td>1</td>\n",
              "      <td>1</td>\n",
              "    </tr>\n",
              "    <tr>\n",
              "      <th>336</th>\n",
              "      <td>(chocolate, eggs)</td>\n",
              "      <td>(spaghetti)</td>\n",
              "      <td>0.033196</td>\n",
              "      <td>0.174110</td>\n",
              "      <td>0.010532</td>\n",
              "      <td>0.317269</td>\n",
              "      <td>1.822232</td>\n",
              "      <td>0.004752</td>\n",
              "      <td>1.209686</td>\n",
              "      <td>0.466715</td>\n",
              "      <td>2</td>\n",
              "      <td>1</td>\n",
              "    </tr>\n",
              "    <tr>\n",
              "      <th>108</th>\n",
              "      <td>(salmon)</td>\n",
              "      <td>(spaghetti)</td>\n",
              "      <td>0.042528</td>\n",
              "      <td>0.174110</td>\n",
              "      <td>0.013465</td>\n",
              "      <td>0.316614</td>\n",
              "      <td>1.818472</td>\n",
              "      <td>0.006060</td>\n",
              "      <td>1.208527</td>\n",
              "      <td>0.470079</td>\n",
              "      <td>1</td>\n",
              "      <td>1</td>\n",
              "    </tr>\n",
              "    <tr>\n",
              "      <th>98</th>\n",
              "      <td>(grated cheese)</td>\n",
              "      <td>(spaghetti)</td>\n",
              "      <td>0.052393</td>\n",
              "      <td>0.174110</td>\n",
              "      <td>0.016531</td>\n",
              "      <td>0.315522</td>\n",
              "      <td>1.812196</td>\n",
              "      <td>0.007409</td>\n",
              "      <td>1.206597</td>\n",
              "      <td>0.472963</td>\n",
              "      <td>1</td>\n",
              "      <td>1</td>\n",
              "    </tr>\n",
              "    <tr>\n",
              "      <th>63</th>\n",
              "      <td>(turkey)</td>\n",
              "      <td>(eggs)</td>\n",
              "      <td>0.062525</td>\n",
              "      <td>0.179709</td>\n",
              "      <td>0.019464</td>\n",
              "      <td>0.311301</td>\n",
              "      <td>1.732245</td>\n",
              "      <td>0.008228</td>\n",
              "      <td>1.191072</td>\n",
              "      <td>0.450907</td>\n",
              "      <td>1</td>\n",
              "      <td>1</td>\n",
              "    </tr>\n",
              "    <tr>\n",
              "      <th>100</th>\n",
              "      <td>(cooking oil)</td>\n",
              "      <td>(spaghetti)</td>\n",
              "      <td>0.051060</td>\n",
              "      <td>0.174110</td>\n",
              "      <td>0.015865</td>\n",
              "      <td>0.310705</td>\n",
              "      <td>1.784531</td>\n",
              "      <td>0.006975</td>\n",
              "      <td>1.198166</td>\n",
              "      <td>0.463284</td>\n",
              "      <td>1</td>\n",
              "      <td>1</td>\n",
              "    </tr>\n",
              "    <tr>\n",
              "      <th>344</th>\n",
              "      <td>(milk, spaghetti)</td>\n",
              "      <td>(chocolate)</td>\n",
              "      <td>0.035462</td>\n",
              "      <td>0.163845</td>\n",
              "      <td>0.010932</td>\n",
              "      <td>0.308271</td>\n",
              "      <td>1.881480</td>\n",
              "      <td>0.005122</td>\n",
              "      <td>1.208790</td>\n",
              "      <td>0.485728</td>\n",
              "      <td>2</td>\n",
              "      <td>1</td>\n",
              "    </tr>\n",
              "    <tr>\n",
              "      <th>86</th>\n",
              "      <td>(tomatoes)</td>\n",
              "      <td>(spaghetti)</td>\n",
              "      <td>0.068391</td>\n",
              "      <td>0.174110</td>\n",
              "      <td>0.020931</td>\n",
              "      <td>0.306043</td>\n",
              "      <td>1.757755</td>\n",
              "      <td>0.009023</td>\n",
              "      <td>1.190117</td>\n",
              "      <td>0.462740</td>\n",
              "      <td>1</td>\n",
              "      <td>1</td>\n",
              "    </tr>\n",
              "    <tr>\n",
              "      <th>203</th>\n",
              "      <td>(soup)</td>\n",
              "      <td>(milk)</td>\n",
              "      <td>0.050527</td>\n",
              "      <td>0.129583</td>\n",
              "      <td>0.015198</td>\n",
              "      <td>0.300792</td>\n",
              "      <td>2.321232</td>\n",
              "      <td>0.008651</td>\n",
              "      <td>1.244861</td>\n",
              "      <td>0.599484</td>\n",
              "      <td>1</td>\n",
              "      <td>1</td>\n",
              "    </tr>\n",
              "    <tr>\n",
              "      <th>84</th>\n",
              "      <td>(shrimp)</td>\n",
              "      <td>(spaghetti)</td>\n",
              "      <td>0.071457</td>\n",
              "      <td>0.174110</td>\n",
              "      <td>0.021197</td>\n",
              "      <td>0.296642</td>\n",
              "      <td>1.703760</td>\n",
              "      <td>0.008756</td>\n",
              "      <td>1.174209</td>\n",
              "      <td>0.444850</td>\n",
              "      <td>1</td>\n",
              "      <td>1</td>\n",
              "    </tr>\n",
              "    <tr>\n",
              "      <th>76</th>\n",
              "      <td>(frozen vegetables)</td>\n",
              "      <td>(spaghetti)</td>\n",
              "      <td>0.095321</td>\n",
              "      <td>0.174110</td>\n",
              "      <td>0.027863</td>\n",
              "      <td>0.292308</td>\n",
              "      <td>1.678867</td>\n",
              "      <td>0.011267</td>\n",
              "      <td>1.167018</td>\n",
              "      <td>0.446965</td>\n",
              "      <td>1</td>\n",
              "      <td>1</td>\n",
              "    </tr>\n",
              "    <tr>\n",
              "      <th>338</th>\n",
              "      <td>(eggs, spaghetti)</td>\n",
              "      <td>(chocolate)</td>\n",
              "      <td>0.036528</td>\n",
              "      <td>0.163845</td>\n",
              "      <td>0.010532</td>\n",
              "      <td>0.288321</td>\n",
              "      <td>1.759721</td>\n",
              "      <td>0.004547</td>\n",
              "      <td>1.174905</td>\n",
              "      <td>0.448096</td>\n",
              "      <td>2</td>\n",
              "      <td>1</td>\n",
              "    </tr>\n",
              "    <tr>\n",
              "      <th>94</th>\n",
              "      <td>(chicken)</td>\n",
              "      <td>(spaghetti)</td>\n",
              "      <td>0.059992</td>\n",
              "      <td>0.174110</td>\n",
              "      <td>0.017198</td>\n",
              "      <td>0.286667</td>\n",
              "      <td>1.646468</td>\n",
              "      <td>0.006752</td>\n",
              "      <td>1.157790</td>\n",
              "      <td>0.417698</td>\n",
              "      <td>1</td>\n",
              "      <td>1</td>\n",
              "    </tr>\n",
              "    <tr>\n",
              "      <th>102</th>\n",
              "      <td>(soup)</td>\n",
              "      <td>(spaghetti)</td>\n",
              "      <td>0.050527</td>\n",
              "      <td>0.174110</td>\n",
              "      <td>0.014265</td>\n",
              "      <td>0.282322</td>\n",
              "      <td>1.621513</td>\n",
              "      <td>0.005468</td>\n",
              "      <td>1.150780</td>\n",
              "      <td>0.403689</td>\n",
              "      <td>1</td>\n",
              "      <td>1</td>\n",
              "    </tr>\n",
              "    <tr>\n",
              "      <th>343</th>\n",
              "      <td>(chocolate, spaghetti)</td>\n",
              "      <td>(milk)</td>\n",
              "      <td>0.039195</td>\n",
              "      <td>0.129583</td>\n",
              "      <td>0.010932</td>\n",
              "      <td>0.278912</td>\n",
              "      <td>2.152382</td>\n",
              "      <td>0.005853</td>\n",
              "      <td>1.207088</td>\n",
              "      <td>0.557239</td>\n",
              "      <td>2</td>\n",
              "      <td>1</td>\n",
              "    </tr>\n",
              "    <tr>\n",
              "      <th>72</th>\n",
              "      <td>(milk)</td>\n",
              "      <td>(spaghetti)</td>\n",
              "      <td>0.129583</td>\n",
              "      <td>0.174110</td>\n",
              "      <td>0.035462</td>\n",
              "      <td>0.273663</td>\n",
              "      <td>1.571779</td>\n",
              "      <td>0.012900</td>\n",
              "      <td>1.137061</td>\n",
              "      <td>0.417935</td>\n",
              "      <td>1</td>\n",
              "      <td>1</td>\n",
              "    </tr>\n",
              "    <tr>\n",
              "      <th>337</th>\n",
              "      <td>(chocolate, spaghetti)</td>\n",
              "      <td>(eggs)</td>\n",
              "      <td>0.039195</td>\n",
              "      <td>0.179709</td>\n",
              "      <td>0.010532</td>\n",
              "      <td>0.268707</td>\n",
              "      <td>1.495234</td>\n",
              "      <td>0.003488</td>\n",
              "      <td>1.121700</td>\n",
              "      <td>0.344719</td>\n",
              "      <td>2</td>\n",
              "      <td>1</td>\n",
              "    </tr>\n",
              "    <tr>\n",
              "      <th>151</th>\n",
              "      <td>(cooking oil)</td>\n",
              "      <td>(chocolate)</td>\n",
              "      <td>0.051060</td>\n",
              "      <td>0.163845</td>\n",
              "      <td>0.013598</td>\n",
              "      <td>0.266319</td>\n",
              "      <td>1.625432</td>\n",
              "      <td>0.005232</td>\n",
              "      <td>1.139671</td>\n",
              "      <td>0.405483</td>\n",
              "      <td>1</td>\n",
              "      <td>1</td>\n",
              "    </tr>\n",
              "    <tr>\n",
              "      <th>79</th>\n",
              "      <td>(pancakes)</td>\n",
              "      <td>(spaghetti)</td>\n",
              "      <td>0.095054</td>\n",
              "      <td>0.174110</td>\n",
              "      <td>0.025197</td>\n",
              "      <td>0.265077</td>\n",
              "      <td>1.522468</td>\n",
              "      <td>0.008647</td>\n",
              "      <td>1.123778</td>\n",
              "      <td>0.379218</td>\n",
              "      <td>1</td>\n",
              "      <td>1</td>\n",
              "    </tr>\n",
              "    <tr>\n",
              "      <th>92</th>\n",
              "      <td>(turkey)</td>\n",
              "      <td>(spaghetti)</td>\n",
              "      <td>0.062525</td>\n",
              "      <td>0.174110</td>\n",
              "      <td>0.016531</td>\n",
              "      <td>0.264392</td>\n",
              "      <td>1.518535</td>\n",
              "      <td>0.005645</td>\n",
              "      <td>1.122731</td>\n",
              "      <td>0.364245</td>\n",
              "      <td>1</td>\n",
              "      <td>1</td>\n",
              "    </tr>\n",
              "    <tr>\n",
              "      <th>191</th>\n",
              "      <td>(olive oil)</td>\n",
              "      <td>(milk)</td>\n",
              "      <td>0.065858</td>\n",
              "      <td>0.129583</td>\n",
              "      <td>0.017064</td>\n",
              "      <td>0.259109</td>\n",
              "      <td>1.999567</td>\n",
              "      <td>0.008530</td>\n",
              "      <td>1.174826</td>\n",
              "      <td>0.535135</td>\n",
              "      <td>1</td>\n",
              "      <td>1</td>\n",
              "    </tr>\n",
              "    <tr>\n",
              "      <th>68</th>\n",
              "      <td>(herb &amp; pepper)</td>\n",
              "      <td>(eggs)</td>\n",
              "      <td>0.049460</td>\n",
              "      <td>0.179709</td>\n",
              "      <td>0.012532</td>\n",
              "      <td>0.253369</td>\n",
              "      <td>1.409883</td>\n",
              "      <td>0.003643</td>\n",
              "      <td>1.098656</td>\n",
              "      <td>0.305849</td>\n",
              "      <td>1</td>\n",
              "      <td>1</td>\n",
              "    </tr>\n",
              "    <tr>\n",
              "      <th>119</th>\n",
              "      <td>(burgers)</td>\n",
              "      <td>(french fries)</td>\n",
              "      <td>0.087188</td>\n",
              "      <td>0.170911</td>\n",
              "      <td>0.021997</td>\n",
              "      <td>0.252294</td>\n",
              "      <td>1.476173</td>\n",
              "      <td>0.007096</td>\n",
              "      <td>1.108844</td>\n",
              "      <td>0.353384</td>\n",
              "      <td>1</td>\n",
              "      <td>1</td>\n",
              "    </tr>\n",
              "    <tr>\n",
              "      <th>137</th>\n",
              "      <td>(shrimp)</td>\n",
              "      <td>(chocolate)</td>\n",
              "      <td>0.071457</td>\n",
              "      <td>0.163845</td>\n",
              "      <td>0.017998</td>\n",
              "      <td>0.251866</td>\n",
              "      <td>1.537221</td>\n",
              "      <td>0.006290</td>\n",
              "      <td>1.117654</td>\n",
              "      <td>0.376370</td>\n",
              "      <td>1</td>\n",
              "      <td>1</td>\n",
              "    </tr>\n",
              "    <tr>\n",
              "      <th>157</th>\n",
              "      <td>(salmon)</td>\n",
              "      <td>(chocolate)</td>\n",
              "      <td>0.042528</td>\n",
              "      <td>0.163845</td>\n",
              "      <td>0.010665</td>\n",
              "      <td>0.250784</td>\n",
              "      <td>1.530617</td>\n",
              "      <td>0.003697</td>\n",
              "      <td>1.116040</td>\n",
              "      <td>0.362067</td>\n",
              "      <td>1</td>\n",
              "      <td>1</td>\n",
              "    </tr>\n",
              "    <tr>\n",
              "      <th>106</th>\n",
              "      <td>(honey)</td>\n",
              "      <td>(spaghetti)</td>\n",
              "      <td>0.047460</td>\n",
              "      <td>0.174110</td>\n",
              "      <td>0.011865</td>\n",
              "      <td>0.250000</td>\n",
              "      <td>1.435873</td>\n",
              "      <td>0.003602</td>\n",
              "      <td>1.101187</td>\n",
              "      <td>0.318684</td>\n",
              "      <td>1</td>\n",
              "      <td>1</td>\n",
              "    </tr>\n",
              "    <tr>\n",
              "      <th>141</th>\n",
              "      <td>(olive oil)</td>\n",
              "      <td>(chocolate)</td>\n",
              "      <td>0.065858</td>\n",
              "      <td>0.163845</td>\n",
              "      <td>0.016398</td>\n",
              "      <td>0.248988</td>\n",
              "      <td>1.519657</td>\n",
              "      <td>0.005607</td>\n",
              "      <td>1.113371</td>\n",
              "      <td>0.366065</td>\n",
              "      <td>1</td>\n",
              "      <td>1</td>\n",
              "    </tr>\n",
              "    <tr>\n",
              "      <th>127</th>\n",
              "      <td>(milk)</td>\n",
              "      <td>(chocolate)</td>\n",
              "      <td>0.129583</td>\n",
              "      <td>0.163845</td>\n",
              "      <td>0.032129</td>\n",
              "      <td>0.247942</td>\n",
              "      <td>1.513276</td>\n",
              "      <td>0.010898</td>\n",
              "      <td>1.111823</td>\n",
              "      <td>0.389677</td>\n",
              "      <td>1</td>\n",
              "      <td>1</td>\n",
              "    </tr>\n",
              "    <tr>\n",
              "      <th>155</th>\n",
              "      <td>(champagne)</td>\n",
              "      <td>(chocolate)</td>\n",
              "      <td>0.046794</td>\n",
              "      <td>0.163845</td>\n",
              "      <td>0.011598</td>\n",
              "      <td>0.247863</td>\n",
              "      <td>1.512793</td>\n",
              "      <td>0.003932</td>\n",
              "      <td>1.111706</td>\n",
              "      <td>0.355611</td>\n",
              "      <td>1</td>\n",
              "      <td>1</td>\n",
              "    </tr>\n",
              "    <tr>\n",
              "      <th>177</th>\n",
              "      <td>(frozen vegetables)</td>\n",
              "      <td>(milk)</td>\n",
              "      <td>0.095321</td>\n",
              "      <td>0.129583</td>\n",
              "      <td>0.023597</td>\n",
              "      <td>0.247552</td>\n",
              "      <td>1.910382</td>\n",
              "      <td>0.011245</td>\n",
              "      <td>1.156781</td>\n",
              "      <td>0.526755</td>\n",
              "      <td>1</td>\n",
              "      <td>1</td>\n",
              "    </tr>\n",
              "    <tr>\n",
              "      <th>197</th>\n",
              "      <td>(chicken)</td>\n",
              "      <td>(milk)</td>\n",
              "      <td>0.059992</td>\n",
              "      <td>0.129583</td>\n",
              "      <td>0.014798</td>\n",
              "      <td>0.246667</td>\n",
              "      <td>1.903546</td>\n",
              "      <td>0.007024</td>\n",
              "      <td>1.155421</td>\n",
              "      <td>0.504958</td>\n",
              "      <td>1</td>\n",
              "      <td>1</td>\n",
              "    </tr>\n",
              "    <tr>\n",
              "      <th>90</th>\n",
              "      <td>(frozen smoothie)</td>\n",
              "      <td>(spaghetti)</td>\n",
              "      <td>0.063325</td>\n",
              "      <td>0.174110</td>\n",
              "      <td>0.015598</td>\n",
              "      <td>0.246316</td>\n",
              "      <td>1.414713</td>\n",
              "      <td>0.004572</td>\n",
              "      <td>1.095804</td>\n",
              "      <td>0.312961</td>\n",
              "      <td>1</td>\n",
              "      <td>1</td>\n",
              "    </tr>\n",
              "    <tr>\n",
              "      <th>187</th>\n",
              "      <td>(shrimp)</td>\n",
              "      <td>(milk)</td>\n",
              "      <td>0.071457</td>\n",
              "      <td>0.129583</td>\n",
              "      <td>0.017598</td>\n",
              "      <td>0.246269</td>\n",
              "      <td>1.900474</td>\n",
              "      <td>0.008338</td>\n",
              "      <td>1.154811</td>\n",
              "      <td>0.510279</td>\n",
              "      <td>1</td>\n",
              "      <td>1</td>\n",
              "    </tr>\n",
              "    <tr>\n",
              "      <th>80</th>\n",
              "      <td>(burgers)</td>\n",
              "      <td>(spaghetti)</td>\n",
              "      <td>0.087188</td>\n",
              "      <td>0.174110</td>\n",
              "      <td>0.021464</td>\n",
              "      <td>0.246177</td>\n",
              "      <td>1.413918</td>\n",
              "      <td>0.006283</td>\n",
              "      <td>1.095602</td>\n",
              "      <td>0.320707</td>\n",
              "      <td>1</td>\n",
              "      <td>1</td>\n",
              "    </tr>\n",
              "  </tbody>\n",
              "</table>\n",
              "</div>"
            ],
            "text/plain": [
              "                antecedents     consequents  antecedent support  \\\n",
              "74            (ground beef)     (spaghetti)            0.098254   \n",
              "110              (red wine)     (spaghetti)            0.028130   \n",
              "88              (olive oil)     (spaghetti)            0.065858   \n",
              "342       (chocolate, milk)     (spaghetti)            0.032129   \n",
              "56                (burgers)          (eggs)            0.087188   \n",
              "104         (herb & pepper)     (spaghetti)            0.049460   \n",
              "218         (herb & pepper)   (ground beef)            0.049460   \n",
              "336       (chocolate, eggs)     (spaghetti)            0.033196   \n",
              "108                (salmon)     (spaghetti)            0.042528   \n",
              "98          (grated cheese)     (spaghetti)            0.052393   \n",
              "63                 (turkey)          (eggs)            0.062525   \n",
              "100           (cooking oil)     (spaghetti)            0.051060   \n",
              "344       (milk, spaghetti)     (chocolate)            0.035462   \n",
              "86               (tomatoes)     (spaghetti)            0.068391   \n",
              "203                  (soup)          (milk)            0.050527   \n",
              "84                 (shrimp)     (spaghetti)            0.071457   \n",
              "76      (frozen vegetables)     (spaghetti)            0.095321   \n",
              "338       (eggs, spaghetti)     (chocolate)            0.036528   \n",
              "94                (chicken)     (spaghetti)            0.059992   \n",
              "102                  (soup)     (spaghetti)            0.050527   \n",
              "343  (chocolate, spaghetti)          (milk)            0.039195   \n",
              "72                   (milk)     (spaghetti)            0.129583   \n",
              "337  (chocolate, spaghetti)          (eggs)            0.039195   \n",
              "151           (cooking oil)     (chocolate)            0.051060   \n",
              "79               (pancakes)     (spaghetti)            0.095054   \n",
              "92                 (turkey)     (spaghetti)            0.062525   \n",
              "191             (olive oil)          (milk)            0.065858   \n",
              "68          (herb & pepper)          (eggs)            0.049460   \n",
              "119               (burgers)  (french fries)            0.087188   \n",
              "137                (shrimp)     (chocolate)            0.071457   \n",
              "157                (salmon)     (chocolate)            0.042528   \n",
              "106                 (honey)     (spaghetti)            0.047460   \n",
              "141             (olive oil)     (chocolate)            0.065858   \n",
              "127                  (milk)     (chocolate)            0.129583   \n",
              "155             (champagne)     (chocolate)            0.046794   \n",
              "177     (frozen vegetables)          (milk)            0.095321   \n",
              "197               (chicken)          (milk)            0.059992   \n",
              "90        (frozen smoothie)     (spaghetti)            0.063325   \n",
              "187                (shrimp)          (milk)            0.071457   \n",
              "80                (burgers)     (spaghetti)            0.087188   \n",
              "\n",
              "     consequent support   support  confidence      lift  leverage  conviction  \\\n",
              "74             0.174110  0.039195    0.398915  2.291162  0.022088    1.373997   \n",
              "110            0.174110  0.010265    0.364929  2.095966  0.005368    1.300468   \n",
              "88             0.174110  0.022930    0.348178  1.999758  0.011464    1.267048   \n",
              "342            0.174110  0.010932    0.340249  1.954217  0.005338    1.251821   \n",
              "56             0.179709  0.028796    0.330275  1.837830  0.013128    1.224818   \n",
              "104            0.174110  0.016264    0.328841  1.888695  0.007653    1.230543   \n",
              "218            0.098254  0.015998    0.323450  3.291994  0.011138    1.332860   \n",
              "336            0.174110  0.010532    0.317269  1.822232  0.004752    1.209686   \n",
              "108            0.174110  0.013465    0.316614  1.818472  0.006060    1.208527   \n",
              "98             0.174110  0.016531    0.315522  1.812196  0.007409    1.206597   \n",
              "63             0.179709  0.019464    0.311301  1.732245  0.008228    1.191072   \n",
              "100            0.174110  0.015865    0.310705  1.784531  0.006975    1.198166   \n",
              "344            0.163845  0.010932    0.308271  1.881480  0.005122    1.208790   \n",
              "86             0.174110  0.020931    0.306043  1.757755  0.009023    1.190117   \n",
              "203            0.129583  0.015198    0.300792  2.321232  0.008651    1.244861   \n",
              "84             0.174110  0.021197    0.296642  1.703760  0.008756    1.174209   \n",
              "76             0.174110  0.027863    0.292308  1.678867  0.011267    1.167018   \n",
              "338            0.163845  0.010532    0.288321  1.759721  0.004547    1.174905   \n",
              "94             0.174110  0.017198    0.286667  1.646468  0.006752    1.157790   \n",
              "102            0.174110  0.014265    0.282322  1.621513  0.005468    1.150780   \n",
              "343            0.129583  0.010932    0.278912  2.152382  0.005853    1.207088   \n",
              "72             0.174110  0.035462    0.273663  1.571779  0.012900    1.137061   \n",
              "337            0.179709  0.010532    0.268707  1.495234  0.003488    1.121700   \n",
              "151            0.163845  0.013598    0.266319  1.625432  0.005232    1.139671   \n",
              "79             0.174110  0.025197    0.265077  1.522468  0.008647    1.123778   \n",
              "92             0.174110  0.016531    0.264392  1.518535  0.005645    1.122731   \n",
              "191            0.129583  0.017064    0.259109  1.999567  0.008530    1.174826   \n",
              "68             0.179709  0.012532    0.253369  1.409883  0.003643    1.098656   \n",
              "119            0.170911  0.021997    0.252294  1.476173  0.007096    1.108844   \n",
              "137            0.163845  0.017998    0.251866  1.537221  0.006290    1.117654   \n",
              "157            0.163845  0.010665    0.250784  1.530617  0.003697    1.116040   \n",
              "106            0.174110  0.011865    0.250000  1.435873  0.003602    1.101187   \n",
              "141            0.163845  0.016398    0.248988  1.519657  0.005607    1.113371   \n",
              "127            0.163845  0.032129    0.247942  1.513276  0.010898    1.111823   \n",
              "155            0.163845  0.011598    0.247863  1.512793  0.003932    1.111706   \n",
              "177            0.129583  0.023597    0.247552  1.910382  0.011245    1.156781   \n",
              "197            0.129583  0.014798    0.246667  1.903546  0.007024    1.155421   \n",
              "90             0.174110  0.015598    0.246316  1.414713  0.004572    1.095804   \n",
              "187            0.129583  0.017598    0.246269  1.900474  0.008338    1.154811   \n",
              "80             0.174110  0.021464    0.246177  1.413918  0.006283    1.095602   \n",
              "\n",
              "     zhangs_metric  antecedents_length  consequents_length  \n",
              "74        0.624943                   1                   1  \n",
              "110       0.538028                   1                   1  \n",
              "88        0.535186                   1                   1  \n",
              "342       0.504495                   2                   1  \n",
              "56        0.499424                   1                   1  \n",
              "104       0.495018                   1                   1  \n",
              "218       0.732460                   1                   1  \n",
              "336       0.466715                   2                   1  \n",
              "108       0.470079                   1                   1  \n",
              "98        0.472963                   1                   1  \n",
              "63        0.450907                   1                   1  \n",
              "100       0.463284                   1                   1  \n",
              "344       0.485728                   2                   1  \n",
              "86        0.462740                   1                   1  \n",
              "203       0.599484                   1                   1  \n",
              "84        0.444850                   1                   1  \n",
              "76        0.446965                   1                   1  \n",
              "338       0.448096                   2                   1  \n",
              "94        0.417698                   1                   1  \n",
              "102       0.403689                   1                   1  \n",
              "343       0.557239                   2                   1  \n",
              "72        0.417935                   1                   1  \n",
              "337       0.344719                   2                   1  \n",
              "151       0.405483                   1                   1  \n",
              "79        0.379218                   1                   1  \n",
              "92        0.364245                   1                   1  \n",
              "191       0.535135                   1                   1  \n",
              "68        0.305849                   1                   1  \n",
              "119       0.353384                   1                   1  \n",
              "137       0.376370                   1                   1  \n",
              "157       0.362067                   1                   1  \n",
              "106       0.318684                   1                   1  \n",
              "141       0.366065                   1                   1  \n",
              "127       0.389677                   1                   1  \n",
              "155       0.355611                   1                   1  \n",
              "177       0.526755                   1                   1  \n",
              "197       0.504958                   1                   1  \n",
              "90        0.312961                   1                   1  \n",
              "187       0.510279                   1                   1  \n",
              "80        0.320707                   1                   1  "
            ]
          },
          "execution_count": 66,
          "metadata": {},
          "output_type": "execute_result"
        }
      ],
      "source": [
        "# regex=False, Este parámetro en el método str.contains indica que la búsqueda de patrones en las cadenas no se realizará como una expresión regular, es decir, se buscará una coincidencia exacta de la cadena especificada. En este caso, se está buscando la cadena exacta \"mineral water\" en las columnas \"consequents\" y \"antecedents\".\n",
        "# ~,  Este operador se utiliza como operador de negación bit a bit. En el contexto de Pandas, se usa para invertir una serie booleana. Es decir, convierte True en False y viceversa. Aquí se utiliza para excluir las filas donde \"mineral water\" está presente en las columnas \"consequents\" o \"antecedents\".\n",
        "# Las expresiones regulares buscar match a nivel de formatos (correos, emails, telefonos, etc)\n",
        "rules[~rules[\"consequents\"].str.contains(\"mineral water\", regex=False) &\n",
        "      ~rules[\"antecedents\"].str.contains(\"mineral water\", regex=False)].sort_values(\"confidence\", ascending=False).head(40)"
      ]
    },
    {
      "cell_type": "markdown",
      "metadata": {
        "id": "t2DSZTvnMfu-"
      },
      "source": [
        "Según la tabla anterior (sin el agua mineral), podemos decir que existe una relación significativa entre la carne molida y los espaguetis, el vino tinto y los espaguetis. Los puntajes de Lift y Confianza también lo respaldan.\n",
        "\n",
        "La carne molida está en la parte superior de la tabla tanto en la tabla que contiene Agua Mineral como la que no contiene. Por esa razón, para captar nuevas asociaciones relacionadas con la carne molida e impulsar las ventas, busquemos asociaciones donde la carne molida sea antecedente."
      ]
    },
    {
      "cell_type": "code",
      "execution_count": 67,
      "metadata": {
        "colab": {
          "base_uri": "https://localhost:8080/",
          "height": 398
        },
        "id": "K0gMHoKkMfu-",
        "outputId": "9d4a9dee-6670-4d9b-d7ba-503f8330a81b"
      },
      "outputs": [
        {
          "data": {
            "text/html": [
              "<div>\n",
              "<style scoped>\n",
              "    .dataframe tbody tr th:only-of-type {\n",
              "        vertical-align: middle;\n",
              "    }\n",
              "\n",
              "    .dataframe tbody tr th {\n",
              "        vertical-align: top;\n",
              "    }\n",
              "\n",
              "    .dataframe thead th {\n",
              "        text-align: right;\n",
              "    }\n",
              "</style>\n",
              "<table border=\"1\" class=\"dataframe\">\n",
              "  <thead>\n",
              "    <tr style=\"text-align: right;\">\n",
              "      <th></th>\n",
              "      <th>antecedents</th>\n",
              "      <th>consequents</th>\n",
              "      <th>antecedent support</th>\n",
              "      <th>consequent support</th>\n",
              "      <th>support</th>\n",
              "      <th>confidence</th>\n",
              "      <th>lift</th>\n",
              "      <th>leverage</th>\n",
              "      <th>conviction</th>\n",
              "      <th>zhangs_metric</th>\n",
              "      <th>antecedents_length</th>\n",
              "      <th>consequents_length</th>\n",
              "    </tr>\n",
              "  </thead>\n",
              "  <tbody>\n",
              "    <tr>\n",
              "      <th>6</th>\n",
              "      <td>(ground beef)</td>\n",
              "      <td>(mineral water)</td>\n",
              "      <td>0.098254</td>\n",
              "      <td>0.238368</td>\n",
              "      <td>0.040928</td>\n",
              "      <td>0.416554</td>\n",
              "      <td>1.747522</td>\n",
              "      <td>0.017507</td>\n",
              "      <td>1.305401</td>\n",
              "      <td>0.474369</td>\n",
              "      <td>1</td>\n",
              "      <td>1</td>\n",
              "    </tr>\n",
              "    <tr>\n",
              "      <th>74</th>\n",
              "      <td>(ground beef)</td>\n",
              "      <td>(spaghetti)</td>\n",
              "      <td>0.098254</td>\n",
              "      <td>0.174110</td>\n",
              "      <td>0.039195</td>\n",
              "      <td>0.398915</td>\n",
              "      <td>2.291162</td>\n",
              "      <td>0.022088</td>\n",
              "      <td>1.373997</td>\n",
              "      <td>0.624943</td>\n",
              "      <td>1</td>\n",
              "      <td>1</td>\n",
              "    </tr>\n",
              "    <tr>\n",
              "      <th>129</th>\n",
              "      <td>(ground beef)</td>\n",
              "      <td>(chocolate)</td>\n",
              "      <td>0.098254</td>\n",
              "      <td>0.163845</td>\n",
              "      <td>0.023064</td>\n",
              "      <td>0.234735</td>\n",
              "      <td>1.432669</td>\n",
              "      <td>0.006965</td>\n",
              "      <td>1.092635</td>\n",
              "      <td>0.334908</td>\n",
              "      <td>1</td>\n",
              "      <td>1</td>\n",
              "    </tr>\n",
              "    <tr>\n",
              "      <th>175</th>\n",
              "      <td>(ground beef)</td>\n",
              "      <td>(milk)</td>\n",
              "      <td>0.098254</td>\n",
              "      <td>0.129583</td>\n",
              "      <td>0.021997</td>\n",
              "      <td>0.223881</td>\n",
              "      <td>1.727704</td>\n",
              "      <td>0.009265</td>\n",
              "      <td>1.121499</td>\n",
              "      <td>0.467090</td>\n",
              "      <td>1</td>\n",
              "      <td>1</td>\n",
              "    </tr>\n",
              "    <tr>\n",
              "      <th>291</th>\n",
              "      <td>(ground beef)</td>\n",
              "      <td>(mineral water, spaghetti)</td>\n",
              "      <td>0.098254</td>\n",
              "      <td>0.059725</td>\n",
              "      <td>0.017064</td>\n",
              "      <td>0.173677</td>\n",
              "      <td>2.907928</td>\n",
              "      <td>0.011196</td>\n",
              "      <td>1.137902</td>\n",
              "      <td>0.727602</td>\n",
              "      <td>1</td>\n",
              "      <td>2</td>\n",
              "    </tr>\n",
              "    <tr>\n",
              "      <th>204</th>\n",
              "      <td>(ground beef)</td>\n",
              "      <td>(frozen vegetables)</td>\n",
              "      <td>0.098254</td>\n",
              "      <td>0.095321</td>\n",
              "      <td>0.016931</td>\n",
              "      <td>0.172320</td>\n",
              "      <td>1.807796</td>\n",
              "      <td>0.007565</td>\n",
              "      <td>1.093031</td>\n",
              "      <td>0.495528</td>\n",
              "      <td>1</td>\n",
              "      <td>1</td>\n",
              "    </tr>\n",
              "    <tr>\n",
              "      <th>219</th>\n",
              "      <td>(ground beef)</td>\n",
              "      <td>(herb &amp; pepper)</td>\n",
              "      <td>0.098254</td>\n",
              "      <td>0.049460</td>\n",
              "      <td>0.015998</td>\n",
              "      <td>0.162822</td>\n",
              "      <td>3.291994</td>\n",
              "      <td>0.011138</td>\n",
              "      <td>1.135410</td>\n",
              "      <td>0.772094</td>\n",
              "      <td>1</td>\n",
              "      <td>1</td>\n",
              "    </tr>\n",
              "    <tr>\n",
              "      <th>206</th>\n",
              "      <td>(ground beef)</td>\n",
              "      <td>(pancakes)</td>\n",
              "      <td>0.098254</td>\n",
              "      <td>0.095054</td>\n",
              "      <td>0.014531</td>\n",
              "      <td>0.147897</td>\n",
              "      <td>1.555925</td>\n",
              "      <td>0.005192</td>\n",
              "      <td>1.062015</td>\n",
              "      <td>0.396226</td>\n",
              "      <td>1</td>\n",
              "      <td>1</td>\n",
              "    </tr>\n",
              "    <tr>\n",
              "      <th>214</th>\n",
              "      <td>(ground beef)</td>\n",
              "      <td>(olive oil)</td>\n",
              "      <td>0.098254</td>\n",
              "      <td>0.065858</td>\n",
              "      <td>0.014131</td>\n",
              "      <td>0.143826</td>\n",
              "      <td>2.183889</td>\n",
              "      <td>0.007661</td>\n",
              "      <td>1.091066</td>\n",
              "      <td>0.601168</td>\n",
              "      <td>1</td>\n",
              "      <td>1</td>\n",
              "    </tr>\n",
              "    <tr>\n",
              "      <th>208</th>\n",
              "      <td>(ground beef)</td>\n",
              "      <td>(burgers)</td>\n",
              "      <td>0.098254</td>\n",
              "      <td>0.087188</td>\n",
              "      <td>0.011998</td>\n",
              "      <td>0.122117</td>\n",
              "      <td>1.400607</td>\n",
              "      <td>0.003432</td>\n",
              "      <td>1.039787</td>\n",
              "      <td>0.317189</td>\n",
              "      <td>1</td>\n",
              "      <td>1</td>\n",
              "    </tr>\n",
              "  </tbody>\n",
              "</table>\n",
              "</div>"
            ],
            "text/plain": [
              "       antecedents                 consequents  antecedent support  \\\n",
              "6    (ground beef)             (mineral water)            0.098254   \n",
              "74   (ground beef)                 (spaghetti)            0.098254   \n",
              "129  (ground beef)                 (chocolate)            0.098254   \n",
              "175  (ground beef)                      (milk)            0.098254   \n",
              "291  (ground beef)  (mineral water, spaghetti)            0.098254   \n",
              "204  (ground beef)         (frozen vegetables)            0.098254   \n",
              "219  (ground beef)             (herb & pepper)            0.098254   \n",
              "206  (ground beef)                  (pancakes)            0.098254   \n",
              "214  (ground beef)                 (olive oil)            0.098254   \n",
              "208  (ground beef)                   (burgers)            0.098254   \n",
              "\n",
              "     consequent support   support  confidence      lift  leverage  conviction  \\\n",
              "6              0.238368  0.040928    0.416554  1.747522  0.017507    1.305401   \n",
              "74             0.174110  0.039195    0.398915  2.291162  0.022088    1.373997   \n",
              "129            0.163845  0.023064    0.234735  1.432669  0.006965    1.092635   \n",
              "175            0.129583  0.021997    0.223881  1.727704  0.009265    1.121499   \n",
              "291            0.059725  0.017064    0.173677  2.907928  0.011196    1.137902   \n",
              "204            0.095321  0.016931    0.172320  1.807796  0.007565    1.093031   \n",
              "219            0.049460  0.015998    0.162822  3.291994  0.011138    1.135410   \n",
              "206            0.095054  0.014531    0.147897  1.555925  0.005192    1.062015   \n",
              "214            0.065858  0.014131    0.143826  2.183889  0.007661    1.091066   \n",
              "208            0.087188  0.011998    0.122117  1.400607  0.003432    1.039787   \n",
              "\n",
              "     zhangs_metric  antecedents_length  consequents_length  \n",
              "6         0.474369                   1                   1  \n",
              "74        0.624943                   1                   1  \n",
              "129       0.334908                   1                   1  \n",
              "175       0.467090                   1                   1  \n",
              "291       0.727602                   1                   2  \n",
              "204       0.495528                   1                   1  \n",
              "219       0.772094                   1                   1  \n",
              "206       0.396226                   1                   1  \n",
              "214       0.601168                   1                   1  \n",
              "208       0.317189                   1                   1  "
            ]
          },
          "execution_count": 67,
          "metadata": {},
          "output_type": "execute_result"
        }
      ],
      "source": [
        "rules[rules[\"antecedents\"].str.contains(\"ground beef\", regex=False) & rules[\"antecedents_length\"] == 1].sort_values(\"confidence\", ascending=False).head(10)"
      ]
    },
    {
      "cell_type": "code",
      "execution_count": 68,
      "metadata": {},
      "outputs": [],
      "source": [
        "# import sys\n",
        "# sys.exit(\"Detener script\")"
      ]
    },
    {
      "cell_type": "markdown",
      "metadata": {
        "id": "CH0lPxjuMfu-"
      },
      "source": [
        "Como se vio el análisis anterior, la flexibilidad del algoritmo y la biblioteca mlxtend es alta, por lo que podemos investigar fácilmente diferentes aspectos y obtener nuevas asociaciones a partir de los datos. Por esa razón, las investigaciones podrían detallarse más tomando otros productos (resto de los Top80) en el cálculo o cambiando el umbral de criterios.\n",
        "\n",
        "Sin embargo, dado que el aprendizaje de las reglas de asociación tiene un esquema iterativo, las habilidades y actividades de comprensión e interpretación de datos son realmente importantes. En ese caso, debemos dar suficiente importancia a los pasos de visualización de datos y / o limpieza de datos (si es necesario) para asegurarnos de que estamos en el camino correcto."
      ]
    },
    {
      "cell_type": "code",
      "execution_count": 69,
      "metadata": {},
      "outputs": [],
      "source": [
        "dataset_ = dataset.drop(['mineral water', 'eggs', 'spaghetti'], axis=1)"
      ]
    },
    {
      "cell_type": "code",
      "execution_count": 70,
      "metadata": {},
      "outputs": [
        {
          "data": {
            "text/html": [
              "<div>\n",
              "<style scoped>\n",
              "    .dataframe tbody tr th:only-of-type {\n",
              "        vertical-align: middle;\n",
              "    }\n",
              "\n",
              "    .dataframe tbody tr th {\n",
              "        vertical-align: top;\n",
              "    }\n",
              "\n",
              "    .dataframe thead th {\n",
              "        text-align: right;\n",
              "    }\n",
              "</style>\n",
              "<table border=\"1\" class=\"dataframe\">\n",
              "  <thead>\n",
              "    <tr style=\"text-align: right;\">\n",
              "      <th></th>\n",
              "      <th>french fries</th>\n",
              "      <th>chocolate</th>\n",
              "      <th>green tea</th>\n",
              "      <th>milk</th>\n",
              "      <th>ground beef</th>\n",
              "      <th>frozen vegetables</th>\n",
              "      <th>pancakes</th>\n",
              "      <th>burgers</th>\n",
              "      <th>cake</th>\n",
              "      <th>cookies</th>\n",
              "      <th>...</th>\n",
              "      <th>yams</th>\n",
              "      <th>magazines</th>\n",
              "      <th>barbecue sauce</th>\n",
              "      <th>cider</th>\n",
              "      <th>nonfat milk</th>\n",
              "      <th>candy bars</th>\n",
              "      <th>zucchini</th>\n",
              "      <th>whole weat flour</th>\n",
              "      <th>salt</th>\n",
              "      <th>blueberries</th>\n",
              "    </tr>\n",
              "  </thead>\n",
              "  <tbody>\n",
              "    <tr>\n",
              "      <th>0</th>\n",
              "      <td>0</td>\n",
              "      <td>0</td>\n",
              "      <td>1</td>\n",
              "      <td>0</td>\n",
              "      <td>0</td>\n",
              "      <td>0</td>\n",
              "      <td>0</td>\n",
              "      <td>0</td>\n",
              "      <td>0</td>\n",
              "      <td>0</td>\n",
              "      <td>...</td>\n",
              "      <td>1</td>\n",
              "      <td>0</td>\n",
              "      <td>0</td>\n",
              "      <td>0</td>\n",
              "      <td>0</td>\n",
              "      <td>0</td>\n",
              "      <td>0</td>\n",
              "      <td>1</td>\n",
              "      <td>0</td>\n",
              "      <td>0</td>\n",
              "    </tr>\n",
              "    <tr>\n",
              "      <th>1</th>\n",
              "      <td>0</td>\n",
              "      <td>0</td>\n",
              "      <td>0</td>\n",
              "      <td>0</td>\n",
              "      <td>0</td>\n",
              "      <td>0</td>\n",
              "      <td>0</td>\n",
              "      <td>1</td>\n",
              "      <td>0</td>\n",
              "      <td>0</td>\n",
              "      <td>...</td>\n",
              "      <td>0</td>\n",
              "      <td>0</td>\n",
              "      <td>0</td>\n",
              "      <td>0</td>\n",
              "      <td>0</td>\n",
              "      <td>0</td>\n",
              "      <td>0</td>\n",
              "      <td>0</td>\n",
              "      <td>0</td>\n",
              "      <td>0</td>\n",
              "    </tr>\n",
              "    <tr>\n",
              "      <th>2</th>\n",
              "      <td>0</td>\n",
              "      <td>0</td>\n",
              "      <td>0</td>\n",
              "      <td>0</td>\n",
              "      <td>0</td>\n",
              "      <td>0</td>\n",
              "      <td>0</td>\n",
              "      <td>0</td>\n",
              "      <td>0</td>\n",
              "      <td>0</td>\n",
              "      <td>...</td>\n",
              "      <td>0</td>\n",
              "      <td>0</td>\n",
              "      <td>0</td>\n",
              "      <td>0</td>\n",
              "      <td>0</td>\n",
              "      <td>0</td>\n",
              "      <td>0</td>\n",
              "      <td>0</td>\n",
              "      <td>0</td>\n",
              "      <td>0</td>\n",
              "    </tr>\n",
              "    <tr>\n",
              "      <th>3</th>\n",
              "      <td>0</td>\n",
              "      <td>0</td>\n",
              "      <td>0</td>\n",
              "      <td>0</td>\n",
              "      <td>0</td>\n",
              "      <td>0</td>\n",
              "      <td>0</td>\n",
              "      <td>0</td>\n",
              "      <td>0</td>\n",
              "      <td>0</td>\n",
              "      <td>...</td>\n",
              "      <td>0</td>\n",
              "      <td>0</td>\n",
              "      <td>0</td>\n",
              "      <td>0</td>\n",
              "      <td>0</td>\n",
              "      <td>0</td>\n",
              "      <td>0</td>\n",
              "      <td>0</td>\n",
              "      <td>0</td>\n",
              "      <td>0</td>\n",
              "    </tr>\n",
              "    <tr>\n",
              "      <th>4</th>\n",
              "      <td>0</td>\n",
              "      <td>0</td>\n",
              "      <td>1</td>\n",
              "      <td>1</td>\n",
              "      <td>0</td>\n",
              "      <td>0</td>\n",
              "      <td>0</td>\n",
              "      <td>0</td>\n",
              "      <td>0</td>\n",
              "      <td>0</td>\n",
              "      <td>...</td>\n",
              "      <td>0</td>\n",
              "      <td>0</td>\n",
              "      <td>0</td>\n",
              "      <td>0</td>\n",
              "      <td>0</td>\n",
              "      <td>0</td>\n",
              "      <td>0</td>\n",
              "      <td>0</td>\n",
              "      <td>0</td>\n",
              "      <td>0</td>\n",
              "    </tr>\n",
              "    <tr>\n",
              "      <th>...</th>\n",
              "      <td>...</td>\n",
              "      <td>...</td>\n",
              "      <td>...</td>\n",
              "      <td>...</td>\n",
              "      <td>...</td>\n",
              "      <td>...</td>\n",
              "      <td>...</td>\n",
              "      <td>...</td>\n",
              "      <td>...</td>\n",
              "      <td>...</td>\n",
              "      <td>...</td>\n",
              "      <td>...</td>\n",
              "      <td>...</td>\n",
              "      <td>...</td>\n",
              "      <td>...</td>\n",
              "      <td>...</td>\n",
              "      <td>...</td>\n",
              "      <td>...</td>\n",
              "      <td>...</td>\n",
              "      <td>...</td>\n",
              "      <td>...</td>\n",
              "    </tr>\n",
              "    <tr>\n",
              "      <th>7496</th>\n",
              "      <td>0</td>\n",
              "      <td>0</td>\n",
              "      <td>0</td>\n",
              "      <td>0</td>\n",
              "      <td>0</td>\n",
              "      <td>0</td>\n",
              "      <td>0</td>\n",
              "      <td>0</td>\n",
              "      <td>0</td>\n",
              "      <td>0</td>\n",
              "      <td>...</td>\n",
              "      <td>0</td>\n",
              "      <td>0</td>\n",
              "      <td>0</td>\n",
              "      <td>0</td>\n",
              "      <td>0</td>\n",
              "      <td>0</td>\n",
              "      <td>0</td>\n",
              "      <td>0</td>\n",
              "      <td>0</td>\n",
              "      <td>0</td>\n",
              "    </tr>\n",
              "    <tr>\n",
              "      <th>7497</th>\n",
              "      <td>1</td>\n",
              "      <td>0</td>\n",
              "      <td>1</td>\n",
              "      <td>0</td>\n",
              "      <td>0</td>\n",
              "      <td>1</td>\n",
              "      <td>0</td>\n",
              "      <td>1</td>\n",
              "      <td>0</td>\n",
              "      <td>0</td>\n",
              "      <td>...</td>\n",
              "      <td>0</td>\n",
              "      <td>1</td>\n",
              "      <td>0</td>\n",
              "      <td>0</td>\n",
              "      <td>0</td>\n",
              "      <td>0</td>\n",
              "      <td>0</td>\n",
              "      <td>0</td>\n",
              "      <td>0</td>\n",
              "      <td>0</td>\n",
              "    </tr>\n",
              "    <tr>\n",
              "      <th>7498</th>\n",
              "      <td>0</td>\n",
              "      <td>0</td>\n",
              "      <td>0</td>\n",
              "      <td>0</td>\n",
              "      <td>0</td>\n",
              "      <td>0</td>\n",
              "      <td>0</td>\n",
              "      <td>0</td>\n",
              "      <td>0</td>\n",
              "      <td>0</td>\n",
              "      <td>...</td>\n",
              "      <td>0</td>\n",
              "      <td>0</td>\n",
              "      <td>0</td>\n",
              "      <td>0</td>\n",
              "      <td>0</td>\n",
              "      <td>0</td>\n",
              "      <td>0</td>\n",
              "      <td>0</td>\n",
              "      <td>0</td>\n",
              "      <td>0</td>\n",
              "    </tr>\n",
              "    <tr>\n",
              "      <th>7499</th>\n",
              "      <td>0</td>\n",
              "      <td>0</td>\n",
              "      <td>1</td>\n",
              "      <td>0</td>\n",
              "      <td>0</td>\n",
              "      <td>0</td>\n",
              "      <td>0</td>\n",
              "      <td>0</td>\n",
              "      <td>0</td>\n",
              "      <td>0</td>\n",
              "      <td>...</td>\n",
              "      <td>0</td>\n",
              "      <td>0</td>\n",
              "      <td>0</td>\n",
              "      <td>0</td>\n",
              "      <td>0</td>\n",
              "      <td>0</td>\n",
              "      <td>0</td>\n",
              "      <td>0</td>\n",
              "      <td>0</td>\n",
              "      <td>0</td>\n",
              "    </tr>\n",
              "    <tr>\n",
              "      <th>7500</th>\n",
              "      <td>0</td>\n",
              "      <td>0</td>\n",
              "      <td>0</td>\n",
              "      <td>0</td>\n",
              "      <td>0</td>\n",
              "      <td>0</td>\n",
              "      <td>0</td>\n",
              "      <td>0</td>\n",
              "      <td>0</td>\n",
              "      <td>0</td>\n",
              "      <td>...</td>\n",
              "      <td>0</td>\n",
              "      <td>0</td>\n",
              "      <td>0</td>\n",
              "      <td>0</td>\n",
              "      <td>0</td>\n",
              "      <td>0</td>\n",
              "      <td>0</td>\n",
              "      <td>0</td>\n",
              "      <td>0</td>\n",
              "      <td>0</td>\n",
              "    </tr>\n",
              "  </tbody>\n",
              "</table>\n",
              "<p>7501 rows × 77 columns</p>\n",
              "</div>"
            ],
            "text/plain": [
              "      french fries  chocolate  green tea  milk  ground beef  \\\n",
              "0                0          0          1     0            0   \n",
              "1                0          0          0     0            0   \n",
              "2                0          0          0     0            0   \n",
              "3                0          0          0     0            0   \n",
              "4                0          0          1     1            0   \n",
              "...            ...        ...        ...   ...          ...   \n",
              "7496             0          0          0     0            0   \n",
              "7497             1          0          1     0            0   \n",
              "7498             0          0          0     0            0   \n",
              "7499             0          0          1     0            0   \n",
              "7500             0          0          0     0            0   \n",
              "\n",
              "      frozen vegetables  pancakes  burgers  cake  cookies  ...  yams  \\\n",
              "0                     0         0        0     0        0  ...     1   \n",
              "1                     0         0        1     0        0  ...     0   \n",
              "2                     0         0        0     0        0  ...     0   \n",
              "3                     0         0        0     0        0  ...     0   \n",
              "4                     0         0        0     0        0  ...     0   \n",
              "...                 ...       ...      ...   ...      ...  ...   ...   \n",
              "7496                  0         0        0     0        0  ...     0   \n",
              "7497                  1         0        1     0        0  ...     0   \n",
              "7498                  0         0        0     0        0  ...     0   \n",
              "7499                  0         0        0     0        0  ...     0   \n",
              "7500                  0         0        0     0        0  ...     0   \n",
              "\n",
              "      magazines  barbecue sauce  cider  nonfat milk  candy bars  zucchini  \\\n",
              "0             0               0      0            0           0         0   \n",
              "1             0               0      0            0           0         0   \n",
              "2             0               0      0            0           0         0   \n",
              "3             0               0      0            0           0         0   \n",
              "4             0               0      0            0           0         0   \n",
              "...         ...             ...    ...          ...         ...       ...   \n",
              "7496          0               0      0            0           0         0   \n",
              "7497          1               0      0            0           0         0   \n",
              "7498          0               0      0            0           0         0   \n",
              "7499          0               0      0            0           0         0   \n",
              "7500          0               0      0            0           0         0   \n",
              "\n",
              "      whole weat flour  salt  blueberries  \n",
              "0                    1     0            0  \n",
              "1                    0     0            0  \n",
              "2                    0     0            0  \n",
              "3                    0     0            0  \n",
              "4                    0     0            0  \n",
              "...                ...   ...          ...  \n",
              "7496                 0     0            0  \n",
              "7497                 0     0            0  \n",
              "7498                 0     0            0  \n",
              "7499                 0     0            0  \n",
              "7500                 0     0            0  \n",
              "\n",
              "[7501 rows x 77 columns]"
            ]
          },
          "execution_count": 70,
          "metadata": {},
          "output_type": "execute_result"
        }
      ],
      "source": [
        "dataset_"
      ]
    },
    {
      "cell_type": "code",
      "execution_count": 71,
      "metadata": {},
      "outputs": [],
      "source": [
        "# import sys\n",
        "# sys.exit(\"Detener script\")"
      ]
    },
    {
      "cell_type": "code",
      "execution_count": 72,
      "metadata": {
        "id": "v5QyNp_wMfu-"
      },
      "outputs": [],
      "source": [
        "# Visualización de Reglas de Asociación\n",
        "# max_len, es el numero máximo de elementos en un itemset\n",
        "frequent_itemsets = apriori(dataset_, min_support=0.01, max_len=3, use_colnames=True)  "
      ]
    },
    {
      "cell_type": "code",
      "execution_count": 73,
      "metadata": {
        "colab": {
          "base_uri": "https://localhost:8080/"
        },
        "id": "nlQpvrvTMfu-",
        "outputId": "19ffa689-0ee4-4f85-a9c2-fed7c0c6f283"
      },
      "outputs": [
        {
          "data": {
            "text/plain": [
              "(160, 2)"
            ]
          },
          "execution_count": 73,
          "metadata": {},
          "output_type": "execute_result"
        }
      ],
      "source": [
        "frequent_itemsets.shape"
      ]
    },
    {
      "cell_type": "code",
      "execution_count": 74,
      "metadata": {
        "colab": {
          "base_uri": "https://localhost:8080/",
          "height": 424
        },
        "id": "78xlspZRMfu-",
        "outputId": "e5ebd2cc-9317-4503-c6dc-04d8273029f3"
      },
      "outputs": [
        {
          "data": {
            "text/html": [
              "<div>\n",
              "<style scoped>\n",
              "    .dataframe tbody tr th:only-of-type {\n",
              "        vertical-align: middle;\n",
              "    }\n",
              "\n",
              "    .dataframe tbody tr th {\n",
              "        vertical-align: top;\n",
              "    }\n",
              "\n",
              "    .dataframe thead th {\n",
              "        text-align: right;\n",
              "    }\n",
              "</style>\n",
              "<table border=\"1\" class=\"dataframe\">\n",
              "  <thead>\n",
              "    <tr style=\"text-align: right;\">\n",
              "      <th></th>\n",
              "      <th>support</th>\n",
              "      <th>itemsets</th>\n",
              "    </tr>\n",
              "  </thead>\n",
              "  <tbody>\n",
              "    <tr>\n",
              "      <th>0</th>\n",
              "      <td>0.170911</td>\n",
              "      <td>(french fries)</td>\n",
              "    </tr>\n",
              "    <tr>\n",
              "      <th>1</th>\n",
              "      <td>0.163845</td>\n",
              "      <td>(chocolate)</td>\n",
              "    </tr>\n",
              "    <tr>\n",
              "      <th>2</th>\n",
              "      <td>0.132116</td>\n",
              "      <td>(green tea)</td>\n",
              "    </tr>\n",
              "    <tr>\n",
              "      <th>3</th>\n",
              "      <td>0.129583</td>\n",
              "      <td>(milk)</td>\n",
              "    </tr>\n",
              "    <tr>\n",
              "      <th>4</th>\n",
              "      <td>0.098254</td>\n",
              "      <td>(ground beef)</td>\n",
              "    </tr>\n",
              "    <tr>\n",
              "      <th>...</th>\n",
              "      <td>...</td>\n",
              "      <td>...</td>\n",
              "    </tr>\n",
              "    <tr>\n",
              "      <th>155</th>\n",
              "      <td>0.010532</td>\n",
              "      <td>(shrimp, pancakes)</td>\n",
              "    </tr>\n",
              "    <tr>\n",
              "      <th>156</th>\n",
              "      <td>0.010799</td>\n",
              "      <td>(olive oil, pancakes)</td>\n",
              "    </tr>\n",
              "    <tr>\n",
              "      <th>157</th>\n",
              "      <td>0.011465</td>\n",
              "      <td>(burgers, cake)</td>\n",
              "    </tr>\n",
              "    <tr>\n",
              "      <th>158</th>\n",
              "      <td>0.010665</td>\n",
              "      <td>(burgers, turkey)</td>\n",
              "    </tr>\n",
              "    <tr>\n",
              "      <th>159</th>\n",
              "      <td>0.011199</td>\n",
              "      <td>(tomatoes, shrimp)</td>\n",
              "    </tr>\n",
              "  </tbody>\n",
              "</table>\n",
              "<p>160 rows × 2 columns</p>\n",
              "</div>"
            ],
            "text/plain": [
              "      support               itemsets\n",
              "0    0.170911         (french fries)\n",
              "1    0.163845            (chocolate)\n",
              "2    0.132116            (green tea)\n",
              "3    0.129583                 (milk)\n",
              "4    0.098254          (ground beef)\n",
              "..        ...                    ...\n",
              "155  0.010532     (shrimp, pancakes)\n",
              "156  0.010799  (olive oil, pancakes)\n",
              "157  0.011465        (burgers, cake)\n",
              "158  0.010665      (burgers, turkey)\n",
              "159  0.011199     (tomatoes, shrimp)\n",
              "\n",
              "[160 rows x 2 columns]"
            ]
          },
          "execution_count": 74,
          "metadata": {},
          "output_type": "execute_result"
        }
      ],
      "source": [
        "frequent_itemsets"
      ]
    },
    {
      "cell_type": "code",
      "execution_count": 75,
      "metadata": {},
      "outputs": [],
      "source": [
        "# import sys\n",
        "# sys.exit(\"Detener script\")"
      ]
    },
    {
      "cell_type": "code",
      "execution_count": 76,
      "metadata": {
        "id": "2SUQAwpmMfu-"
      },
      "outputs": [],
      "source": [
        "# Creamos reglas con un soporte mayor al 0.5%\n",
        "rules = association_rules(frequent_itemsets, metric=\"support\", min_threshold=0.005)"
      ]
    },
    {
      "cell_type": "code",
      "execution_count": 77,
      "metadata": {
        "colab": {
          "base_uri": "https://localhost:8080/",
          "height": 206
        },
        "id": "x8AWIzUpMfu_",
        "outputId": "1baab1f6-11c0-433b-fa62-5d1e75216cc7"
      },
      "outputs": [
        {
          "data": {
            "text/html": [
              "<div>\n",
              "<style scoped>\n",
              "    .dataframe tbody tr th:only-of-type {\n",
              "        vertical-align: middle;\n",
              "    }\n",
              "\n",
              "    .dataframe tbody tr th {\n",
              "        vertical-align: top;\n",
              "    }\n",
              "\n",
              "    .dataframe thead th {\n",
              "        text-align: right;\n",
              "    }\n",
              "</style>\n",
              "<table border=\"1\" class=\"dataframe\">\n",
              "  <thead>\n",
              "    <tr style=\"text-align: right;\">\n",
              "      <th></th>\n",
              "      <th>antecedents</th>\n",
              "      <th>consequents</th>\n",
              "      <th>antecedent support</th>\n",
              "      <th>consequent support</th>\n",
              "      <th>support</th>\n",
              "      <th>confidence</th>\n",
              "      <th>lift</th>\n",
              "      <th>leverage</th>\n",
              "      <th>conviction</th>\n",
              "      <th>zhangs_metric</th>\n",
              "    </tr>\n",
              "  </thead>\n",
              "  <tbody>\n",
              "    <tr>\n",
              "      <th>0</th>\n",
              "      <td>(chocolate)</td>\n",
              "      <td>(french fries)</td>\n",
              "      <td>0.163845</td>\n",
              "      <td>0.170911</td>\n",
              "      <td>0.034395</td>\n",
              "      <td>0.209927</td>\n",
              "      <td>1.228284</td>\n",
              "      <td>0.006393</td>\n",
              "      <td>1.049383</td>\n",
              "      <td>0.222275</td>\n",
              "    </tr>\n",
              "    <tr>\n",
              "      <th>1</th>\n",
              "      <td>(french fries)</td>\n",
              "      <td>(chocolate)</td>\n",
              "      <td>0.170911</td>\n",
              "      <td>0.163845</td>\n",
              "      <td>0.034395</td>\n",
              "      <td>0.201248</td>\n",
              "      <td>1.228284</td>\n",
              "      <td>0.006393</td>\n",
              "      <td>1.046827</td>\n",
              "      <td>0.224169</td>\n",
              "    </tr>\n",
              "    <tr>\n",
              "      <th>2</th>\n",
              "      <td>(french fries)</td>\n",
              "      <td>(green tea)</td>\n",
              "      <td>0.170911</td>\n",
              "      <td>0.132116</td>\n",
              "      <td>0.028530</td>\n",
              "      <td>0.166927</td>\n",
              "      <td>1.263488</td>\n",
              "      <td>0.005950</td>\n",
              "      <td>1.041786</td>\n",
              "      <td>0.251529</td>\n",
              "    </tr>\n",
              "    <tr>\n",
              "      <th>3</th>\n",
              "      <td>(green tea)</td>\n",
              "      <td>(french fries)</td>\n",
              "      <td>0.132116</td>\n",
              "      <td>0.170911</td>\n",
              "      <td>0.028530</td>\n",
              "      <td>0.215943</td>\n",
              "      <td>1.263488</td>\n",
              "      <td>0.005950</td>\n",
              "      <td>1.057436</td>\n",
              "      <td>0.240286</td>\n",
              "    </tr>\n",
              "    <tr>\n",
              "      <th>4</th>\n",
              "      <td>(milk)</td>\n",
              "      <td>(french fries)</td>\n",
              "      <td>0.129583</td>\n",
              "      <td>0.170911</td>\n",
              "      <td>0.023730</td>\n",
              "      <td>0.183128</td>\n",
              "      <td>1.071482</td>\n",
              "      <td>0.001583</td>\n",
              "      <td>1.014956</td>\n",
              "      <td>0.076645</td>\n",
              "    </tr>\n",
              "  </tbody>\n",
              "</table>\n",
              "</div>"
            ],
            "text/plain": [
              "      antecedents     consequents  antecedent support  consequent support  \\\n",
              "0     (chocolate)  (french fries)            0.163845            0.170911   \n",
              "1  (french fries)     (chocolate)            0.170911            0.163845   \n",
              "2  (french fries)     (green tea)            0.170911            0.132116   \n",
              "3     (green tea)  (french fries)            0.132116            0.170911   \n",
              "4          (milk)  (french fries)            0.129583            0.170911   \n",
              "\n",
              "    support  confidence      lift  leverage  conviction  zhangs_metric  \n",
              "0  0.034395    0.209927  1.228284  0.006393    1.049383       0.222275  \n",
              "1  0.034395    0.201248  1.228284  0.006393    1.046827       0.224169  \n",
              "2  0.028530    0.166927  1.263488  0.005950    1.041786       0.251529  \n",
              "3  0.028530    0.215943  1.263488  0.005950    1.057436       0.240286  \n",
              "4  0.023730    0.183128  1.071482  0.001583    1.014956       0.076645  "
            ]
          },
          "execution_count": 77,
          "metadata": {},
          "output_type": "execute_result"
        }
      ],
      "source": [
        "rules.head()"
      ]
    },
    {
      "cell_type": "code",
      "execution_count": 78,
      "metadata": {
        "colab": {
          "base_uri": "https://localhost:8080/"
        },
        "id": "ljeiuE7yE74_",
        "outputId": "9301e878-7c91-453f-dab6-52c4896fe0e9"
      },
      "outputs": [
        {
          "data": {
            "text/plain": [
              "(176, 10)"
            ]
          },
          "execution_count": 78,
          "metadata": {},
          "output_type": "execute_result"
        }
      ],
      "source": [
        "rules.shape"
      ]
    },
    {
      "cell_type": "code",
      "execution_count": 79,
      "metadata": {
        "colab": {
          "base_uri": "https://localhost:8080/"
        },
        "id": "304IOTaPMfu_",
        "outputId": "0bff28ac-efef-406c-92e2-0cee028af039"
      },
      "outputs": [
        {
          "data": {
            "text/plain": [
              "antecedents            object\n",
              "consequents            object\n",
              "antecedent support    float64\n",
              "consequent support    float64\n",
              "support               float64\n",
              "confidence            float64\n",
              "lift                  float64\n",
              "leverage              float64\n",
              "conviction            float64\n",
              "zhangs_metric         float64\n",
              "dtype: object"
            ]
          },
          "execution_count": 79,
          "metadata": {},
          "output_type": "execute_result"
        }
      ],
      "source": [
        "rules.dtypes"
      ]
    },
    {
      "cell_type": "code",
      "execution_count": 80,
      "metadata": {
        "id": "_0QRaQpQMfu_"
      },
      "outputs": [],
      "source": [
        "rules['antecedent'] = rules['antecedents'].apply(lambda antecedent: list(antecedent)[0])\n",
        "rules['consequent'] = rules['consequents'].apply(lambda consequent: list(consequent)[0])\n",
        "rules['rule']=rules.index"
      ]
    },
    {
      "cell_type": "code",
      "execution_count": 81,
      "metadata": {
        "colab": {
          "base_uri": "https://localhost:8080/",
          "height": 424
        },
        "id": "qhpl91jJMfu_",
        "outputId": "c0410155-7597-4edf-d0ef-af7fbe40fb8d"
      },
      "outputs": [
        {
          "data": {
            "text/html": [
              "<div>\n",
              "<style scoped>\n",
              "    .dataframe tbody tr th:only-of-type {\n",
              "        vertical-align: middle;\n",
              "    }\n",
              "\n",
              "    .dataframe tbody tr th {\n",
              "        vertical-align: top;\n",
              "    }\n",
              "\n",
              "    .dataframe thead th {\n",
              "        text-align: right;\n",
              "    }\n",
              "</style>\n",
              "<table border=\"1\" class=\"dataframe\">\n",
              "  <thead>\n",
              "    <tr style=\"text-align: right;\">\n",
              "      <th></th>\n",
              "      <th>antecedents</th>\n",
              "      <th>consequents</th>\n",
              "      <th>antecedent support</th>\n",
              "      <th>consequent support</th>\n",
              "      <th>support</th>\n",
              "      <th>confidence</th>\n",
              "      <th>lift</th>\n",
              "      <th>leverage</th>\n",
              "      <th>conviction</th>\n",
              "      <th>zhangs_metric</th>\n",
              "      <th>antecedent</th>\n",
              "      <th>consequent</th>\n",
              "      <th>rule</th>\n",
              "    </tr>\n",
              "  </thead>\n",
              "  <tbody>\n",
              "    <tr>\n",
              "      <th>0</th>\n",
              "      <td>(chocolate)</td>\n",
              "      <td>(french fries)</td>\n",
              "      <td>0.163845</td>\n",
              "      <td>0.170911</td>\n",
              "      <td>0.034395</td>\n",
              "      <td>0.209927</td>\n",
              "      <td>1.228284</td>\n",
              "      <td>0.006393</td>\n",
              "      <td>1.049383</td>\n",
              "      <td>0.222275</td>\n",
              "      <td>chocolate</td>\n",
              "      <td>french fries</td>\n",
              "      <td>0</td>\n",
              "    </tr>\n",
              "    <tr>\n",
              "      <th>1</th>\n",
              "      <td>(french fries)</td>\n",
              "      <td>(chocolate)</td>\n",
              "      <td>0.170911</td>\n",
              "      <td>0.163845</td>\n",
              "      <td>0.034395</td>\n",
              "      <td>0.201248</td>\n",
              "      <td>1.228284</td>\n",
              "      <td>0.006393</td>\n",
              "      <td>1.046827</td>\n",
              "      <td>0.224169</td>\n",
              "      <td>french fries</td>\n",
              "      <td>chocolate</td>\n",
              "      <td>1</td>\n",
              "    </tr>\n",
              "    <tr>\n",
              "      <th>2</th>\n",
              "      <td>(french fries)</td>\n",
              "      <td>(green tea)</td>\n",
              "      <td>0.170911</td>\n",
              "      <td>0.132116</td>\n",
              "      <td>0.028530</td>\n",
              "      <td>0.166927</td>\n",
              "      <td>1.263488</td>\n",
              "      <td>0.005950</td>\n",
              "      <td>1.041786</td>\n",
              "      <td>0.251529</td>\n",
              "      <td>french fries</td>\n",
              "      <td>green tea</td>\n",
              "      <td>2</td>\n",
              "    </tr>\n",
              "    <tr>\n",
              "      <th>3</th>\n",
              "      <td>(green tea)</td>\n",
              "      <td>(french fries)</td>\n",
              "      <td>0.132116</td>\n",
              "      <td>0.170911</td>\n",
              "      <td>0.028530</td>\n",
              "      <td>0.215943</td>\n",
              "      <td>1.263488</td>\n",
              "      <td>0.005950</td>\n",
              "      <td>1.057436</td>\n",
              "      <td>0.240286</td>\n",
              "      <td>green tea</td>\n",
              "      <td>french fries</td>\n",
              "      <td>3</td>\n",
              "    </tr>\n",
              "    <tr>\n",
              "      <th>4</th>\n",
              "      <td>(milk)</td>\n",
              "      <td>(french fries)</td>\n",
              "      <td>0.129583</td>\n",
              "      <td>0.170911</td>\n",
              "      <td>0.023730</td>\n",
              "      <td>0.183128</td>\n",
              "      <td>1.071482</td>\n",
              "      <td>0.001583</td>\n",
              "      <td>1.014956</td>\n",
              "      <td>0.076645</td>\n",
              "      <td>milk</td>\n",
              "      <td>french fries</td>\n",
              "      <td>4</td>\n",
              "    </tr>\n",
              "    <tr>\n",
              "      <th>...</th>\n",
              "      <td>...</td>\n",
              "      <td>...</td>\n",
              "      <td>...</td>\n",
              "      <td>...</td>\n",
              "      <td>...</td>\n",
              "      <td>...</td>\n",
              "      <td>...</td>\n",
              "      <td>...</td>\n",
              "      <td>...</td>\n",
              "      <td>...</td>\n",
              "      <td>...</td>\n",
              "      <td>...</td>\n",
              "      <td>...</td>\n",
              "    </tr>\n",
              "    <tr>\n",
              "      <th>171</th>\n",
              "      <td>(cake)</td>\n",
              "      <td>(burgers)</td>\n",
              "      <td>0.081056</td>\n",
              "      <td>0.087188</td>\n",
              "      <td>0.011465</td>\n",
              "      <td>0.141447</td>\n",
              "      <td>1.622319</td>\n",
              "      <td>0.004398</td>\n",
              "      <td>1.063198</td>\n",
              "      <td>0.417434</td>\n",
              "      <td>cake</td>\n",
              "      <td>burgers</td>\n",
              "      <td>171</td>\n",
              "    </tr>\n",
              "    <tr>\n",
              "      <th>172</th>\n",
              "      <td>(burgers)</td>\n",
              "      <td>(turkey)</td>\n",
              "      <td>0.087188</td>\n",
              "      <td>0.062525</td>\n",
              "      <td>0.010665</td>\n",
              "      <td>0.122324</td>\n",
              "      <td>1.956404</td>\n",
              "      <td>0.005214</td>\n",
              "      <td>1.068134</td>\n",
              "      <td>0.535552</td>\n",
              "      <td>burgers</td>\n",
              "      <td>turkey</td>\n",
              "      <td>172</td>\n",
              "    </tr>\n",
              "    <tr>\n",
              "      <th>173</th>\n",
              "      <td>(turkey)</td>\n",
              "      <td>(burgers)</td>\n",
              "      <td>0.062525</td>\n",
              "      <td>0.087188</td>\n",
              "      <td>0.010665</td>\n",
              "      <td>0.170576</td>\n",
              "      <td>1.956404</td>\n",
              "      <td>0.005214</td>\n",
              "      <td>1.100536</td>\n",
              "      <td>0.521463</td>\n",
              "      <td>turkey</td>\n",
              "      <td>burgers</td>\n",
              "      <td>173</td>\n",
              "    </tr>\n",
              "    <tr>\n",
              "      <th>174</th>\n",
              "      <td>(tomatoes)</td>\n",
              "      <td>(shrimp)</td>\n",
              "      <td>0.068391</td>\n",
              "      <td>0.071457</td>\n",
              "      <td>0.011199</td>\n",
              "      <td>0.163743</td>\n",
              "      <td>2.291481</td>\n",
              "      <td>0.006311</td>\n",
              "      <td>1.110355</td>\n",
              "      <td>0.604976</td>\n",
              "      <td>tomatoes</td>\n",
              "      <td>shrimp</td>\n",
              "      <td>174</td>\n",
              "    </tr>\n",
              "    <tr>\n",
              "      <th>175</th>\n",
              "      <td>(shrimp)</td>\n",
              "      <td>(tomatoes)</td>\n",
              "      <td>0.071457</td>\n",
              "      <td>0.068391</td>\n",
              "      <td>0.011199</td>\n",
              "      <td>0.156716</td>\n",
              "      <td>2.291481</td>\n",
              "      <td>0.006311</td>\n",
              "      <td>1.104740</td>\n",
              "      <td>0.606974</td>\n",
              "      <td>shrimp</td>\n",
              "      <td>tomatoes</td>\n",
              "      <td>175</td>\n",
              "    </tr>\n",
              "  </tbody>\n",
              "</table>\n",
              "<p>176 rows × 13 columns</p>\n",
              "</div>"
            ],
            "text/plain": [
              "        antecedents     consequents  antecedent support  consequent support  \\\n",
              "0       (chocolate)  (french fries)            0.163845            0.170911   \n",
              "1    (french fries)     (chocolate)            0.170911            0.163845   \n",
              "2    (french fries)     (green tea)            0.170911            0.132116   \n",
              "3       (green tea)  (french fries)            0.132116            0.170911   \n",
              "4            (milk)  (french fries)            0.129583            0.170911   \n",
              "..              ...             ...                 ...                 ...   \n",
              "171          (cake)       (burgers)            0.081056            0.087188   \n",
              "172       (burgers)        (turkey)            0.087188            0.062525   \n",
              "173        (turkey)       (burgers)            0.062525            0.087188   \n",
              "174      (tomatoes)        (shrimp)            0.068391            0.071457   \n",
              "175        (shrimp)      (tomatoes)            0.071457            0.068391   \n",
              "\n",
              "      support  confidence      lift  leverage  conviction  zhangs_metric  \\\n",
              "0    0.034395    0.209927  1.228284  0.006393    1.049383       0.222275   \n",
              "1    0.034395    0.201248  1.228284  0.006393    1.046827       0.224169   \n",
              "2    0.028530    0.166927  1.263488  0.005950    1.041786       0.251529   \n",
              "3    0.028530    0.215943  1.263488  0.005950    1.057436       0.240286   \n",
              "4    0.023730    0.183128  1.071482  0.001583    1.014956       0.076645   \n",
              "..        ...         ...       ...       ...         ...            ...   \n",
              "171  0.011465    0.141447  1.622319  0.004398    1.063198       0.417434   \n",
              "172  0.010665    0.122324  1.956404  0.005214    1.068134       0.535552   \n",
              "173  0.010665    0.170576  1.956404  0.005214    1.100536       0.521463   \n",
              "174  0.011199    0.163743  2.291481  0.006311    1.110355       0.604976   \n",
              "175  0.011199    0.156716  2.291481  0.006311    1.104740       0.606974   \n",
              "\n",
              "       antecedent    consequent  rule  \n",
              "0       chocolate  french fries     0  \n",
              "1    french fries     chocolate     1  \n",
              "2    french fries     green tea     2  \n",
              "3       green tea  french fries     3  \n",
              "4            milk  french fries     4  \n",
              "..            ...           ...   ...  \n",
              "171          cake       burgers   171  \n",
              "172       burgers        turkey   172  \n",
              "173        turkey       burgers   173  \n",
              "174      tomatoes        shrimp   174  \n",
              "175        shrimp      tomatoes   175  \n",
              "\n",
              "[176 rows x 13 columns]"
            ]
          },
          "execution_count": 81,
          "metadata": {},
          "output_type": "execute_result"
        }
      ],
      "source": [
        "rules"
      ]
    },
    {
      "cell_type": "code",
      "execution_count": 82,
      "metadata": {},
      "outputs": [],
      "source": [
        "# import sys\n",
        "# sys.exit(\"Detener script\")"
      ]
    },
    {
      "cell_type": "code",
      "execution_count": 83,
      "metadata": {
        "colab": {
          "base_uri": "https://localhost:8080/",
          "height": 449
        },
        "id": "9PCS5EolMfu_",
        "outputId": "ebb9e9ef-441e-4717-dfc4-d9baa356eb10"
      },
      "outputs": [
        {
          "data": {
            "image/png": "[encoded data removed]",
            "text/plain": [
              "<Figure size 640x480 with 1 Axes>"
            ]
          },
          "metadata": {},
          "output_type": "display_data"
        }
      ],
      "source": [
        "import seaborn as sns\n",
        "sns.scatterplot(x = \"support\", y = \"confidence\",\n",
        "                size = \"lift\", data = rules)\n",
        "plt.show()"
      ]
    },
    {
      "cell_type": "code",
      "execution_count": 84,
      "metadata": {
        "colab": {
          "base_uri": "https://localhost:8080/",
          "height": 542
        },
        "id": "PpfPwpF1GetV",
        "outputId": "106e9c54-2695-43d0-aaf2-3a7af91d6e22"
      },
      "outputs": [
        {
          "data": {
            "application/vnd.plotly.v1+json": {
              "config": {
                "plotlyServerURL": "https://plot.ly"
              },
              "data": [
                {
                  "customdata": [
                    [
                      "chocolate",
                      "french fries"
                    ],
                    [
                      "french fries",
                      "chocolate"
                    ],
                    [
                      "french fries",
                      "green tea"
                    ],
                    [
                      "green tea",
                      "french fries"
                    ],
                    [
                      "milk",
                      "french fries"
                    ],
                    [
                      "french fries",
                      "milk"
                    ],
                    [
                      "ground beef",
                      "french fries"
                    ],
                    [
                      "french fries",
                      "ground beef"
                    ],
                    [
                      "frozen vegetables",
                      "french fries"
                    ],
                    [
                      "french fries",
                      "frozen vegetables"
                    ],
                    [
                      "french fries",
                      "pancakes"
                    ],
                    [
                      "pancakes",
                      "french fries"
                    ],
                    [
                      "burgers",
                      "french fries"
                    ],
                    [
                      "french fries",
                      "burgers"
                    ],
                    [
                      "cake",
                      "french fries"
                    ],
                    [
                      "french fries",
                      "cake"
                    ],
                    [
                      "cookies",
                      "french fries"
                    ],
                    [
                      "french fries",
                      "cookies"
                    ],
                    [
                      "escalope",
                      "french fries"
                    ],
                    [
                      "french fries",
                      "escalope"
                    ],
                    [
                      "low fat yogurt",
                      "french fries"
                    ],
                    [
                      "french fries",
                      "low fat yogurt"
                    ],
                    [
                      "tomatoes",
                      "french fries"
                    ],
                    [
                      "french fries",
                      "tomatoes"
                    ],
                    [
                      "french fries",
                      "frozen smoothie"
                    ],
                    [
                      "frozen smoothie",
                      "french fries"
                    ],
                    [
                      "french fries",
                      "turkey"
                    ],
                    [
                      "turkey",
                      "french fries"
                    ],
                    [
                      "french fries",
                      "chicken"
                    ],
                    [
                      "chicken",
                      "french fries"
                    ],
                    [
                      "whole wheat rice",
                      "french fries"
                    ],
                    [
                      "french fries",
                      "whole wheat rice"
                    ],
                    [
                      "french fries",
                      "grated cheese"
                    ],
                    [
                      "grated cheese",
                      "french fries"
                    ],
                    [
                      "chocolate",
                      "green tea"
                    ],
                    [
                      "green tea",
                      "chocolate"
                    ],
                    [
                      "chocolate",
                      "milk"
                    ],
                    [
                      "milk",
                      "chocolate"
                    ],
                    [
                      "chocolate",
                      "ground beef"
                    ],
                    [
                      "ground beef",
                      "chocolate"
                    ],
                    [
                      "chocolate",
                      "frozen vegetables"
                    ],
                    [
                      "frozen vegetables",
                      "chocolate"
                    ],
                    [
                      "chocolate",
                      "pancakes"
                    ],
                    [
                      "pancakes",
                      "chocolate"
                    ],
                    [
                      "chocolate",
                      "burgers"
                    ],
                    [
                      "burgers",
                      "chocolate"
                    ],
                    [
                      "chocolate",
                      "cake"
                    ],
                    [
                      "cake",
                      "chocolate"
                    ],
                    [
                      "cookies",
                      "chocolate"
                    ],
                    [
                      "chocolate",
                      "cookies"
                    ],
                    [
                      "chocolate",
                      "escalope"
                    ],
                    [
                      "escalope",
                      "chocolate"
                    ],
                    [
                      "low fat yogurt",
                      "chocolate"
                    ],
                    [
                      "chocolate",
                      "low fat yogurt"
                    ],
                    [
                      "chocolate",
                      "shrimp"
                    ],
                    [
                      "shrimp",
                      "chocolate"
                    ],
                    [
                      "chocolate",
                      "tomatoes"
                    ],
                    [
                      "tomatoes",
                      "chocolate"
                    ],
                    [
                      "chocolate",
                      "olive oil"
                    ],
                    [
                      "olive oil",
                      "chocolate"
                    ],
                    [
                      "chocolate",
                      "frozen smoothie"
                    ],
                    [
                      "frozen smoothie",
                      "chocolate"
                    ],
                    [
                      "chocolate",
                      "turkey"
                    ],
                    [
                      "turkey",
                      "chocolate"
                    ],
                    [
                      "chocolate",
                      "chicken"
                    ],
                    [
                      "chicken",
                      "chocolate"
                    ],
                    [
                      "chocolate",
                      "whole wheat rice"
                    ],
                    [
                      "whole wheat rice",
                      "chocolate"
                    ],
                    [
                      "chocolate",
                      "grated cheese"
                    ],
                    [
                      "grated cheese",
                      "chocolate"
                    ],
                    [
                      "chocolate",
                      "cooking oil"
                    ],
                    [
                      "cooking oil",
                      "chocolate"
                    ],
                    [
                      "chocolate",
                      "soup"
                    ],
                    [
                      "soup",
                      "chocolate"
                    ],
                    [
                      "chocolate",
                      "champagne"
                    ],
                    [
                      "champagne",
                      "chocolate"
                    ],
                    [
                      "chocolate",
                      "salmon"
                    ],
                    [
                      "salmon",
                      "chocolate"
                    ],
                    [
                      "milk",
                      "green tea"
                    ],
                    [
                      "green tea",
                      "milk"
                    ],
                    [
                      "ground beef",
                      "green tea"
                    ],
                    [
                      "green tea",
                      "ground beef"
                    ],
                    [
                      "frozen vegetables",
                      "green tea"
                    ],
                    [
                      "green tea",
                      "frozen vegetables"
                    ],
                    [
                      "pancakes",
                      "green tea"
                    ],
                    [
                      "green tea",
                      "pancakes"
                    ],
                    [
                      "burgers",
                      "green tea"
                    ],
                    [
                      "green tea",
                      "burgers"
                    ],
                    [
                      "cake",
                      "green tea"
                    ],
                    [
                      "green tea",
                      "cake"
                    ],
                    [
                      "cookies",
                      "green tea"
                    ],
                    [
                      "green tea",
                      "cookies"
                    ],
                    [
                      "shrimp",
                      "green tea"
                    ],
                    [
                      "green tea",
                      "shrimp"
                    ],
                    [
                      "tomatoes",
                      "green tea"
                    ],
                    [
                      "green tea",
                      "tomatoes"
                    ],
                    [
                      "frozen smoothie",
                      "green tea"
                    ],
                    [
                      "green tea",
                      "frozen smoothie"
                    ],
                    [
                      "turkey",
                      "green tea"
                    ],
                    [
                      "green tea",
                      "turkey"
                    ],
                    [
                      "chicken",
                      "green tea"
                    ],
                    [
                      "green tea",
                      "chicken"
                    ],
                    [
                      "milk",
                      "ground beef"
                    ],
                    [
                      "ground beef",
                      "milk"
                    ],
                    [
                      "milk",
                      "frozen vegetables"
                    ],
                    [
                      "frozen vegetables",
                      "milk"
                    ],
                    [
                      "milk",
                      "pancakes"
                    ],
                    [
                      "pancakes",
                      "milk"
                    ],
                    [
                      "milk",
                      "burgers"
                    ],
                    [
                      "burgers",
                      "milk"
                    ],
                    [
                      "milk",
                      "cake"
                    ],
                    [
                      "cake",
                      "milk"
                    ],
                    [
                      "low fat yogurt",
                      "milk"
                    ],
                    [
                      "milk",
                      "low fat yogurt"
                    ],
                    [
                      "milk",
                      "shrimp"
                    ],
                    [
                      "shrimp",
                      "milk"
                    ],
                    [
                      "milk",
                      "tomatoes"
                    ],
                    [
                      "tomatoes",
                      "milk"
                    ],
                    [
                      "milk",
                      "olive oil"
                    ],
                    [
                      "olive oil",
                      "milk"
                    ],
                    [
                      "milk",
                      "frozen smoothie"
                    ],
                    [
                      "frozen smoothie",
                      "milk"
                    ],
                    [
                      "milk",
                      "turkey"
                    ],
                    [
                      "turkey",
                      "milk"
                    ],
                    [
                      "milk",
                      "chicken"
                    ],
                    [
                      "chicken",
                      "milk"
                    ],
                    [
                      "whole wheat rice",
                      "milk"
                    ],
                    [
                      "milk",
                      "whole wheat rice"
                    ],
                    [
                      "milk",
                      "cooking oil"
                    ],
                    [
                      "cooking oil",
                      "milk"
                    ],
                    [
                      "milk",
                      "soup"
                    ],
                    [
                      "soup",
                      "milk"
                    ],
                    [
                      "ground beef",
                      "frozen vegetables"
                    ],
                    [
                      "frozen vegetables",
                      "ground beef"
                    ],
                    [
                      "ground beef",
                      "pancakes"
                    ],
                    [
                      "pancakes",
                      "ground beef"
                    ],
                    [
                      "ground beef",
                      "burgers"
                    ],
                    [
                      "burgers",
                      "ground beef"
                    ],
                    [
                      "ground beef",
                      "shrimp"
                    ],
                    [
                      "shrimp",
                      "ground beef"
                    ],
                    [
                      "ground beef",
                      "tomatoes"
                    ],
                    [
                      "tomatoes",
                      "ground beef"
                    ],
                    [
                      "ground beef",
                      "olive oil"
                    ],
                    [
                      "olive oil",
                      "ground beef"
                    ],
                    [
                      "ground beef",
                      "grated cheese"
                    ],
                    [
                      "grated cheese",
                      "ground beef"
                    ],
                    [
                      "herb & pepper",
                      "ground beef"
                    ],
                    [
                      "ground beef",
                      "herb & pepper"
                    ],
                    [
                      "frozen vegetables",
                      "pancakes"
                    ],
                    [
                      "pancakes",
                      "frozen vegetables"
                    ],
                    [
                      "frozen vegetables",
                      "burgers"
                    ],
                    [
                      "burgers",
                      "frozen vegetables"
                    ],
                    [
                      "frozen vegetables",
                      "cake"
                    ],
                    [
                      "cake",
                      "frozen vegetables"
                    ],
                    [
                      "low fat yogurt",
                      "frozen vegetables"
                    ],
                    [
                      "frozen vegetables",
                      "low fat yogurt"
                    ],
                    [
                      "frozen vegetables",
                      "shrimp"
                    ],
                    [
                      "shrimp",
                      "frozen vegetables"
                    ],
                    [
                      "frozen vegetables",
                      "tomatoes"
                    ],
                    [
                      "tomatoes",
                      "frozen vegetables"
                    ],
                    [
                      "frozen vegetables",
                      "olive oil"
                    ],
                    [
                      "olive oil",
                      "frozen vegetables"
                    ],
                    [
                      "burgers",
                      "pancakes"
                    ],
                    [
                      "pancakes",
                      "burgers"
                    ],
                    [
                      "cake",
                      "pancakes"
                    ],
                    [
                      "pancakes",
                      "cake"
                    ],
                    [
                      "shrimp",
                      "pancakes"
                    ],
                    [
                      "pancakes",
                      "shrimp"
                    ],
                    [
                      "olive oil",
                      "pancakes"
                    ],
                    [
                      "pancakes",
                      "olive oil"
                    ],
                    [
                      "burgers",
                      "cake"
                    ],
                    [
                      "cake",
                      "burgers"
                    ],
                    [
                      "burgers",
                      "turkey"
                    ],
                    [
                      "turkey",
                      "burgers"
                    ],
                    [
                      "tomatoes",
                      "shrimp"
                    ],
                    [
                      "shrimp",
                      "tomatoes"
                    ]
                  ],
                  "hovertemplate": "support=%{x}<br>confidence=%{y}<br>lift=%{marker.size}<br>antecedent=%{customdata[0]}<br>consequent=%{customdata[1]}<extra></extra>",
                  "legendgroup": "",
                  "marker": {
                    "color": "#636efa",
                    "size": [
                      1.2282844771886887,
                      1.2282844771886887,
                      1.263488400282732,
                      1.263488400282732,
                      1.0714819950822727,
                      1.0714819950822727,
                      0.8256519134578137,
                      0.8256519134578139,
                      1.1702028081123246,
                      1.1702028081123246,
                      1.2391348108342286,
                      1.2391348108342286,
                      1.4761732671141707,
                      1.4761732671141707,
                      1.289532699729042,
                      1.289532699729042,
                      0.9703174196619606,
                      0.9703174196619608,
                      1.2095373562841674,
                      1.2095373562841674,
                      1.0193404251849518,
                      1.0193404251849518,
                      1.0264936913266005,
                      1.0264936913266005,
                      1.3426537482551935,
                      1.3426537482551935,
                      0.9980407745094453,
                      0.9980407745094454,
                      1.0791870341480327,
                      1.0791870341480327,
                      1.0529159662969663,
                      1.0529159662969663,
                      1.1612699622488718,
                      1.1612699622488718,
                      1.0839426276685449,
                      1.0839426276685449,
                      1.5132757067708698,
                      1.5132757067708698,
                      1.4326691124597442,
                      1.4326691124597442,
                      1.468215104667505,
                      1.4682151046675047,
                      1.2754517121868998,
                      1.2754517121868998,
                      1.1945367183981406,
                      1.1945367183981406,
                      1.0239149286968439,
                      1.0239149286968436,
                      0.7894862546502637,
                      0.7894862546502638,
                      1.3540174084279766,
                      1.3540174084279766,
                      1.1802618485327014,
                      1.1802618485327012,
                      1.5372208323719074,
                      1.5372208323719074,
                      1.2492208280397223,
                      1.2492208280397221,
                      1.5196565457582116,
                      1.5196565457582114,
                      1.43910239390176,
                      1.43910239390176,
                      1.106148323823172,
                      1.1061483238231717,
                      1.4919265889160112,
                      1.4919265889160112,
                      1.2512534034188951,
                      1.2512534034188951,
                      1.2734696074716818,
                      1.2734696074716818,
                      1.6254315317171828,
                      1.6254315317171828,
                      1.2238879669207863,
                      1.2238879669207863,
                      1.5127926950546964,
                      1.5127926950546964,
                      1.5306171901104701,
                      1.5306171901104701,
                      1.0279054702196313,
                      1.027905470219631,
                      1.1399898954908971,
                      1.1399898954908971,
                      1.143307953398771,
                      1.143307953398771,
                      1.3057531811549385,
                      1.3057531811549388,
                      1.5161391360161947,
                      1.5161391360161947,
                      1.3196166817143768,
                      1.3196166817143768,
                      1.1297197162522403,
                      1.1297197162522403,
                      1.2144486949711584,
                      1.2144486949711584,
                      1.3574254056488906,
                      1.3574254056488908,
                      1.338539486961602,
                      1.338539486961602,
                      1.4363579249492773,
                      1.4363579249492773,
                      1.4970041484471357,
                      1.4970041484471355,
                      1.7277040722314354,
                      1.7277040722314356,
                      1.9103815937149273,
                      1.9103815937149273,
                      1.3421005546609412,
                      1.3421005546609412,
                      1.5811750418444268,
                      1.581175041844427,
                      1.2692562811349364,
                      1.2692562811349364,
                      1.3309943218479807,
                      1.3309943218479805,
                      1.9004744794545791,
                      1.900474479454579,
                      1.5795189276345873,
                      1.5795189276345871,
                      1.9995668182802688,
                      1.9995668182802688,
                      1.7383734026424087,
                      1.7383734026424087,
                      1.3986175822825908,
                      1.3986175822825908,
                      1.9035459533607684,
                      1.9035459533607684,
                      1.5645101568285575,
                      1.5645101568285575,
                      1.732816512479988,
                      1.732816512479988,
                      2.321231961953158,
                      2.3212319619531585,
                      1.8077957320833848,
                      1.807795732083385,
                      1.555924952567267,
                      1.555924952567267,
                      1.400607471400296,
                      1.400607471400296,
                      1.6329968205107432,
                      1.6329968205107435,
                      1.7458904308865033,
                      1.745890430886503,
                      2.183889166607156,
                      2.183889166607156,
                      2.201294015695292,
                      2.201294015695292,
                      3.2919938411349285,
                      3.291993841134928,
                      1.4860895065663648,
                      1.4860895065663648,
                      1.2672504865165415,
                      1.2672504865165415,
                      1.3286184210526317,
                      1.3286184210526317,
                      1.3890402280646184,
                      1.3890402280646184,
                      2.4465739484396196,
                      2.44657394843962,
                      2.4744639376218323,
                      2.4744639376218323,
                      1.8051159366948841,
                      1.8051159366948841,
                      1.2708051863384673,
                      1.2708051863384673,
                      1.5399834834280655,
                      1.5399834834280655,
                      1.5505719997488014,
                      1.5505719997488014,
                      1.7249944637189047,
                      1.7249944637189047,
                      1.6223191292451309,
                      1.622319129245131,
                      1.9564040870353345,
                      1.9564040870353345,
                      2.2914811905385353,
                      2.2914811905385353
                    ],
                    "sizemode": "area",
                    "sizeref": 0.008229984602837321,
                    "symbol": "circle"
                  },
                  "mode": "markers",
                  "name": "",
                  "orientation": "v",
                  "showlegend": false,
                  "type": "scatter",
                  "x": [
                    0.03439541394480736,
                    0.03439541394480736,
                    0.028529529396080524,
                    0.028529529396080524,
                    0.023730169310758567,
                    0.023730169310758567,
                    0.01386481802426343,
                    0.01386481802426343,
                    0.019064124783362217,
                    0.019064124783362217,
                    0.020130649246767097,
                    0.020130649246767097,
                    0.021997067057725635,
                    0.021997067057725635,
                    0.01786428476203173,
                    0.01786428476203173,
                    0.013331555792560993,
                    0.013331555792560993,
                    0.01639781362485002,
                    0.01639781362485002,
                    0.013331555792560993,
                    0.013331555792560993,
                    0.011998400213304892,
                    0.011998400213304892,
                    0.014531395813891481,
                    0.014531395813891481,
                    0.010665244634048793,
                    0.010665244634048793,
                    0.011065191307825623,
                    0.011065191307825623,
                    0.010531929076123183,
                    0.010531929076123183,
                    0.010398613518197574,
                    0.010398613518197574,
                    0.023463538194907346,
                    0.023463538194907346,
                    0.03212904946007199,
                    0.03212904946007199,
                    0.023063591521130515,
                    0.023063591521130515,
                    0.022930275963204905,
                    0.022930275963204905,
                    0.01986401813091588,
                    0.01986401813091588,
                    0.017064391414478068,
                    0.017064391414478068,
                    0.013598186908412212,
                    0.013598186908412212,
                    0.010398613518197574,
                    0.010398613518197574,
                    0.01759765364618051,
                    0.01759765364618051,
                    0.014798026929742702,
                    0.014798026929742702,
                    0.017997600319957337,
                    0.017997600319957337,
                    0.013998133582189041,
                    0.013998133582189041,
                    0.01639781362485002,
                    0.01639781362485002,
                    0.01493134248766831,
                    0.01493134248766831,
                    0.011331822423676844,
                    0.011331822423676844,
                    0.014664711371817091,
                    0.014664711371817091,
                    0.011998400213304892,
                    0.011998400213304892,
                    0.010931875749900012,
                    0.010931875749900012,
                    0.013598186908412212,
                    0.013598186908412212,
                    0.010131982402346354,
                    0.010131982402346354,
                    0.011598453539528063,
                    0.011598453539528063,
                    0.010665244634048793,
                    0.010665244634048793,
                    0.01759765364618051,
                    0.01759765364618051,
                    0.014798026929742702,
                    0.014798026929742702,
                    0.01439808025596587,
                    0.01439808025596587,
                    0.01639781362485002,
                    0.01639781362485002,
                    0.0174643380882549,
                    0.0174643380882549,
                    0.014131449140114652,
                    0.014131449140114652,
                    0.011998400213304892,
                    0.011998400213304892,
                    0.011465137981602452,
                    0.011465137981602452,
                    0.012265031329156113,
                    0.012265031329156113,
                    0.011198506865751233,
                    0.011198506865751233,
                    0.011865084655379284,
                    0.011865084655379284,
                    0.011865084655379284,
                    0.011865084655379284,
                    0.021997067057725635,
                    0.021997067057725635,
                    0.023596853752832957,
                    0.023596853752832957,
                    0.01653112918277563,
                    0.01653112918277563,
                    0.01786428476203173,
                    0.01786428476203173,
                    0.013331555792560993,
                    0.013331555792560993,
                    0.013198240234635382,
                    0.013198240234635382,
                    0.01759765364618051,
                    0.01759765364618051,
                    0.013998133582189041,
                    0.013998133582189041,
                    0.017064391414478068,
                    0.017064391414478068,
                    0.014264764698040262,
                    0.014264764698040262,
                    0.011331822423676844,
                    0.011331822423676844,
                    0.014798026929742702,
                    0.014798026929742702,
                    0.011865084655379284,
                    0.011865084655379284,
                    0.011465137981602452,
                    0.011465137981602452,
                    0.015197973603519531,
                    0.015197973603519531,
                    0.01693107585655246,
                    0.01693107585655246,
                    0.014531395813891481,
                    0.014531395813891481,
                    0.011998400213304892,
                    0.011998400213304892,
                    0.011465137981602452,
                    0.011465137981602452,
                    0.011731769097453673,
                    0.011731769097453673,
                    0.014131449140114652,
                    0.014131449140114652,
                    0.011331822423676844,
                    0.011331822423676844,
                    0.015997866951073192,
                    0.015997866951073192,
                    0.013464871350486601,
                    0.013464871350486601,
                    0.010531929076123183,
                    0.010531929076123183,
                    0.010265297960271964,
                    0.010265297960271964,
                    0.010131982402346354,
                    0.010131982402346354,
                    0.01666444474070124,
                    0.01666444474070124,
                    0.0161311825089988,
                    0.0161311825089988,
                    0.011331822423676844,
                    0.011331822423676844,
                    0.010531929076123183,
                    0.010531929076123183,
                    0.011865084655379284,
                    0.011865084655379284,
                    0.010531929076123183,
                    0.010531929076123183,
                    0.010798560191974404,
                    0.010798560191974404,
                    0.011465137981602452,
                    0.011465137981602452,
                    0.010665244634048793,
                    0.010665244634048793,
                    0.011198506865751233,
                    0.011198506865751233
                  ],
                  "xaxis": "x",
                  "y": [
                    0.209926769731489,
                    0.20124804992199688,
                    0.1669266770670827,
                    0.21594349142280528,
                    0.18312757201646093,
                    0.1388455538221529,
                    0.14111261872455902,
                    0.0811232449297972,
                    0.19999999999999998,
                    0.11154446177847115,
                    0.11778471138845555,
                    0.211781206171108,
                    0.25229357798165136,
                    0.12870514820592824,
                    0.22039473684210528,
                    0.1045241809672387,
                    0.16583747927031509,
                    0.07800312012480501,
                    0.20672268907563024,
                    0.09594383775351015,
                    0.17421602787456447,
                    0.07800312012480501,
                    0.17543859649122806,
                    0.0702028081123245,
                    0.08502340093603744,
                    0.22947368421052633,
                    0.062402496099843996,
                    0.1705756929637527,
                    0.06474258970358815,
                    0.18444444444444444,
                    0.17995444191343962,
                    0.06162246489859594,
                    0.0608424336973479,
                    0.19847328244274812,
                    0.14320585842148087,
                    0.17759838546922302,
                    0.19609438567941412,
                    0.2479423868312757,
                    0.1407648494711147,
                    0.23473541383989144,
                    0.13995117982099267,
                    0.24055944055944053,
                    0.12123677786818551,
                    0.20897615708274897,
                    0.10414971521562244,
                    0.19571865443425074,
                    0.08299430431244914,
                    0.16776315789473684,
                    0.12935323383084577,
                    0.06346623270951994,
                    0.10740439381611065,
                    0.22184873949579834,
                    0.19337979094076657,
                    0.09031733116354759,
                    0.1098454027664768,
                    0.251865671641791,
                    0.0854353132628153,
                    0.2046783625730994,
                    0.1000813669650122,
                    0.24898785425101214,
                    0.09113100081366964,
                    0.23578947368421052,
                    0.0691619202603743,
                    0.18123667377398722,
                    0.08950366151342555,
                    0.24444444444444446,
                    0.07323026851098453,
                    0.20501138952164008,
                    0.06672091131000812,
                    0.20865139949109412,
                    0.08299430431244914,
                    0.26631853785900783,
                    0.06183889340927583,
                    0.20052770448548812,
                    0.07078925956061838,
                    0.24786324786324784,
                    0.06509357200976403,
                    0.2507836990595611,
                    0.1358024691358025,
                    0.13319878910191726,
                    0.15061058344640435,
                    0.11200807265388497,
                    0.15104895104895105,
                    0.10898082744702321,
                    0.17251051893408134,
                    0.124117053481332,
                    0.2003058103975535,
                    0.13218970736629668,
                    0.1743421052631579,
                    0.10696266397578205,
                    0.14925373134328357,
                    0.09081735620585267,
                    0.16044776119402984,
                    0.08678102926337034,
                    0.1793372319688109,
                    0.09283551967709386,
                    0.1768421052631579,
                    0.08476286579212917,
                    0.18976545842217488,
                    0.0898082744702321,
                    0.1977777777777778,
                    0.0898082744702321,
                    0.1697530864197531,
                    0.22388059701492538,
                    0.1820987654320988,
                    0.24755244755244757,
                    0.12757201646090535,
                    0.17391304347826086,
                    0.13786008230452676,
                    0.20489296636085627,
                    0.10288065843621401,
                    0.16447368421052633,
                    0.17247386759581884,
                    0.10185185185185186,
                    0.1358024691358025,
                    0.2462686567164179,
                    0.1080246913580247,
                    0.2046783625730994,
                    0.13168724279835392,
                    0.2591093117408907,
                    0.11008230452674898,
                    0.22526315789473686,
                    0.0874485596707819,
                    0.18123667377398722,
                    0.11419753086419754,
                    0.24666666666666667,
                    0.2027334851936219,
                    0.09156378600823047,
                    0.08847736625514403,
                    0.22454308093994776,
                    0.11728395061728396,
                    0.3007915567282322,
                    0.17232021709633652,
                    0.17762237762237765,
                    0.14789687924016282,
                    0.15287517531556802,
                    0.12211668928086838,
                    0.13761467889908255,
                    0.11668928086838534,
                    0.16044776119402984,
                    0.11940298507462688,
                    0.17153996101364521,
                    0.14382632293080055,
                    0.2145748987854251,
                    0.1153324287652646,
                    0.2162849872773537,
                    0.3234501347708895,
                    0.1628222523744912,
                    0.14125874125874124,
                    0.14165497896213183,
                    0.11048951048951049,
                    0.12079510703363913,
                    0.1076923076923077,
                    0.12664473684210528,
                    0.13240418118466898,
                    0.1062937062937063,
                    0.17482517482517482,
                    0.23320895522388058,
                    0.1692307692307692,
                    0.23586744639376217,
                    0.11888111888111888,
                    0.17206477732793524,
                    0.12079510703363913,
                    0.11079943899018233,
                    0.14638157894736845,
                    0.12482468443197757,
                    0.14738805970149252,
                    0.11079943899018233,
                    0.1639676113360324,
                    0.11360448807854139,
                    0.1314984709480122,
                    0.14144736842105263,
                    0.12232415902140673,
                    0.1705756929637527,
                    0.16374269005847952,
                    0.15671641791044774
                  ],
                  "yaxis": "y"
                }
              ],
              "layout": {
                "legend": {
                  "itemsizing": "constant",
                  "tracegroupgap": 0
                },
                "margin": {
                  "t": 60
                },
                "template": {
                  "data": {
                    "bar": [
                      {
                        "error_x": {
                          "color": "#2a3f5f"
                        },
                        "error_y": {
                          "color": "#2a3f5f"
                        },
                        "marker": {
                          "line": {
                            "color": "#E5ECF6",
                            "width": 0.5
                          },
                          "pattern": {
                            "fillmode": "overlay",
                            "size": 10,
                            "solidity": 0.2
                          }
                        },
                        "type": "bar"
                      }
                    ],
                    "barpolar": [
                      {
                        "marker": {
                          "line": {
                            "color": "#E5ECF6",
                            "width": 0.5
                          },
                          "pattern": {
                            "fillmode": "overlay",
                            "size": 10,
                            "solidity": 0.2
                          }
                        },
                        "type": "barpolar"
                      }
                    ],
                    "carpet": [
                      {
                        "aaxis": {
                          "endlinecolor": "#2a3f5f",
                          "gridcolor": "white",
                          "linecolor": "white",
                          "minorgridcolor": "white",
                          "startlinecolor": "#2a3f5f"
                        },
                        "baxis": {
                          "endlinecolor": "#2a3f5f",
                          "gridcolor": "white",
                          "linecolor": "white",
                          "minorgridcolor": "white",
                          "startlinecolor": "#2a3f5f"
                        },
                        "type": "carpet"
                      }
                    ],
                    "choropleth": [
                      {
                        "colorbar": {
                          "outlinewidth": 0,
                          "ticks": ""
                        },
                        "type": "choropleth"
                      }
                    ],
                    "contour": [
                      {
                        "colorbar": {
                          "outlinewidth": 0,
                          "ticks": ""
                        },
                        "colorscale": [
                          [
                            0,
                            "#0d0887"
                          ],
                          [
                            0.1111111111111111,
                            "#46039f"
                          ],
                          [
                            0.2222222222222222,
                            "#7201a8"
                          ],
                          [
                            0.3333333333333333,
                            "#9c179e"
                          ],
                          [
                            0.4444444444444444,
                            "#bd3786"
                          ],
                          [
                            0.5555555555555556,
                            "#d8576b"
                          ],
                          [
                            0.6666666666666666,
                            "#ed7953"
                          ],
                          [
                            0.7777777777777778,
                            "#fb9f3a"
                          ],
                          [
                            0.8888888888888888,
                            "#fdca26"
                          ],
                          [
                            1,
                            "#f0f921"
                          ]
                        ],
                        "type": "contour"
                      }
                    ],
                    "contourcarpet": [
                      {
                        "colorbar": {
                          "outlinewidth": 0,
                          "ticks": ""
                        },
                        "type": "contourcarpet"
                      }
                    ],
                    "heatmap": [
                      {
                        "colorbar": {
                          "outlinewidth": 0,
                          "ticks": ""
                        },
                        "colorscale": [
                          [
                            0,
                            "#0d0887"
                          ],
                          [
                            0.1111111111111111,
                            "#46039f"
                          ],
                          [
                            0.2222222222222222,
                            "#7201a8"
                          ],
                          [
                            0.3333333333333333,
                            "#9c179e"
                          ],
                          [
                            0.4444444444444444,
                            "#bd3786"
                          ],
                          [
                            0.5555555555555556,
                            "#d8576b"
                          ],
                          [
                            0.6666666666666666,
                            "#ed7953"
                          ],
                          [
                            0.7777777777777778,
                            "#fb9f3a"
                          ],
                          [
                            0.8888888888888888,
                            "#fdca26"
                          ],
                          [
                            1,
                            "#f0f921"
                          ]
                        ],
                        "type": "heatmap"
                      }
                    ],
                    "heatmapgl": [
                      {
                        "colorbar": {
                          "outlinewidth": 0,
                          "ticks": ""
                        },
                        "colorscale": [
                          [
                            0,
                            "#0d0887"
                          ],
                          [
                            0.1111111111111111,
                            "#46039f"
                          ],
                          [
                            0.2222222222222222,
                            "#7201a8"
                          ],
                          [
                            0.3333333333333333,
                            "#9c179e"
                          ],
                          [
                            0.4444444444444444,
                            "#bd3786"
                          ],
                          [
                            0.5555555555555556,
                            "#d8576b"
                          ],
                          [
                            0.6666666666666666,
                            "#ed7953"
                          ],
                          [
                            0.7777777777777778,
                            "#fb9f3a"
                          ],
                          [
                            0.8888888888888888,
                            "#fdca26"
                          ],
                          [
                            1,
                            "#f0f921"
                          ]
                        ],
                        "type": "heatmapgl"
                      }
                    ],
                    "histogram": [
                      {
                        "marker": {
                          "pattern": {
                            "fillmode": "overlay",
                            "size": 10,
                            "solidity": 0.2
                          }
                        },
                        "type": "histogram"
                      }
                    ],
                    "histogram2d": [
                      {
                        "colorbar": {
                          "outlinewidth": 0,
                          "ticks": ""
                        },
                        "colorscale": [
                          [
                            0,
                            "#0d0887"
                          ],
                          [
                            0.1111111111111111,
                            "#46039f"
                          ],
                          [
                            0.2222222222222222,
                            "#7201a8"
                          ],
                          [
                            0.3333333333333333,
                            "#9c179e"
                          ],
                          [
                            0.4444444444444444,
                            "#bd3786"
                          ],
                          [
                            0.5555555555555556,
                            "#d8576b"
                          ],
                          [
                            0.6666666666666666,
                            "#ed7953"
                          ],
                          [
                            0.7777777777777778,
                            "#fb9f3a"
                          ],
                          [
                            0.8888888888888888,
                            "#fdca26"
                          ],
                          [
                            1,
                            "#f0f921"
                          ]
                        ],
                        "type": "histogram2d"
                      }
                    ],
                    "histogram2dcontour": [
                      {
                        "colorbar": {
                          "outlinewidth": 0,
                          "ticks": ""
                        },
                        "colorscale": [
                          [
                            0,
                            "#0d0887"
                          ],
                          [
                            0.1111111111111111,
                            "#46039f"
                          ],
                          [
                            0.2222222222222222,
                            "#7201a8"
                          ],
                          [
                            0.3333333333333333,
                            "#9c179e"
                          ],
                          [
                            0.4444444444444444,
                            "#bd3786"
                          ],
                          [
                            0.5555555555555556,
                            "#d8576b"
                          ],
                          [
                            0.6666666666666666,
                            "#ed7953"
                          ],
                          [
                            0.7777777777777778,
                            "#fb9f3a"
                          ],
                          [
                            0.8888888888888888,
                            "#fdca26"
                          ],
                          [
                            1,
                            "#f0f921"
                          ]
                        ],
                        "type": "histogram2dcontour"
                      }
                    ],
                    "mesh3d": [
                      {
                        "colorbar": {
                          "outlinewidth": 0,
                          "ticks": ""
                        },
                        "type": "mesh3d"
                      }
                    ],
                    "parcoords": [
                      {
                        "line": {
                          "colorbar": {
                            "outlinewidth": 0,
                            "ticks": ""
                          }
                        },
                        "type": "parcoords"
                      }
                    ],
                    "pie": [
                      {
                        "automargin": true,
                        "type": "pie"
                      }
                    ],
                    "scatter": [
                      {
                        "fillpattern": {
                          "fillmode": "overlay",
                          "size": 10,
                          "solidity": 0.2
                        },
                        "type": "scatter"
                      }
                    ],
                    "scatter3d": [
                      {
                        "line": {
                          "colorbar": {
                            "outlinewidth": 0,
                            "ticks": ""
                          }
                        },
                        "marker": {
                          "colorbar": {
                            "outlinewidth": 0,
                            "ticks": ""
                          }
                        },
                        "type": "scatter3d"
                      }
                    ],
                    "scattercarpet": [
                      {
                        "marker": {
                          "colorbar": {
                            "outlinewidth": 0,
                            "ticks": ""
                          }
                        },
                        "type": "scattercarpet"
                      }
                    ],
                    "scattergeo": [
                      {
                        "marker": {
                          "colorbar": {
                            "outlinewidth": 0,
                            "ticks": ""
                          }
                        },
                        "type": "scattergeo"
                      }
                    ],
                    "scattergl": [
                      {
                        "marker": {
                          "colorbar": {
                            "outlinewidth": 0,
                            "ticks": ""
                          }
                        },
                        "type": "scattergl"
                      }
                    ],
                    "scattermapbox": [
                      {
                        "marker": {
                          "colorbar": {
                            "outlinewidth": 0,
                            "ticks": ""
                          }
                        },
                        "type": "scattermapbox"
                      }
                    ],
                    "scatterpolar": [
                      {
                        "marker": {
                          "colorbar": {
                            "outlinewidth": 0,
                            "ticks": ""
                          }
                        },
                        "type": "scatterpolar"
                      }
                    ],
                    "scatterpolargl": [
                      {
                        "marker": {
                          "colorbar": {
                            "outlinewidth": 0,
                            "ticks": ""
                          }
                        },
                        "type": "scatterpolargl"
                      }
                    ],
                    "scatterternary": [
                      {
                        "marker": {
                          "colorbar": {
                            "outlinewidth": 0,
                            "ticks": ""
                          }
                        },
                        "type": "scatterternary"
                      }
                    ],
                    "surface": [
                      {
                        "colorbar": {
                          "outlinewidth": 0,
                          "ticks": ""
                        },
                        "colorscale": [
                          [
                            0,
                            "#0d0887"
                          ],
                          [
                            0.1111111111111111,
                            "#46039f"
                          ],
                          [
                            0.2222222222222222,
                            "#7201a8"
                          ],
                          [
                            0.3333333333333333,
                            "#9c179e"
                          ],
                          [
                            0.4444444444444444,
                            "#bd3786"
                          ],
                          [
                            0.5555555555555556,
                            "#d8576b"
                          ],
                          [
                            0.6666666666666666,
                            "#ed7953"
                          ],
                          [
                            0.7777777777777778,
                            "#fb9f3a"
                          ],
                          [
                            0.8888888888888888,
                            "#fdca26"
                          ],
                          [
                            1,
                            "#f0f921"
                          ]
                        ],
                        "type": "surface"
                      }
                    ],
                    "table": [
                      {
                        "cells": {
                          "fill": {
                            "color": "#EBF0F8"
                          },
                          "line": {
                            "color": "white"
                          }
                        },
                        "header": {
                          "fill": {
                            "color": "#C8D4E3"
                          },
                          "line": {
                            "color": "white"
                          }
                        },
                        "type": "table"
                      }
                    ]
                  },
                  "layout": {
                    "annotationdefaults": {
                      "arrowcolor": "#2a3f5f",
                      "arrowhead": 0,
                      "arrowwidth": 1
                    },
                    "autotypenumbers": "strict",
                    "coloraxis": {
                      "colorbar": {
                        "outlinewidth": 0,
                        "ticks": ""
                      }
                    },
                    "colorscale": {
                      "diverging": [
                        [
                          0,
                          "#8e0152"
                        ],
                        [
                          0.1,
                          "#c51b7d"
                        ],
                        [
                          0.2,
                          "#de77ae"
                        ],
                        [
                          0.3,
                          "#f1b6da"
                        ],
                        [
                          0.4,
                          "#fde0ef"
                        ],
                        [
                          0.5,
                          "#f7f7f7"
                        ],
                        [
                          0.6,
                          "#e6f5d0"
                        ],
                        [
                          0.7,
                          "#b8e186"
                        ],
                        [
                          0.8,
                          "#7fbc41"
                        ],
                        [
                          0.9,
                          "#4d9221"
                        ],
                        [
                          1,
                          "#276419"
                        ]
                      ],
                      "sequential": [
                        [
                          0,
                          "#0d0887"
                        ],
                        [
                          0.1111111111111111,
                          "#46039f"
                        ],
                        [
                          0.2222222222222222,
                          "#7201a8"
                        ],
                        [
                          0.3333333333333333,
                          "#9c179e"
                        ],
                        [
                          0.4444444444444444,
                          "#bd3786"
                        ],
                        [
                          0.5555555555555556,
                          "#d8576b"
                        ],
                        [
                          0.6666666666666666,
                          "#ed7953"
                        ],
                        [
                          0.7777777777777778,
                          "#fb9f3a"
                        ],
                        [
                          0.8888888888888888,
                          "#fdca26"
                        ],
                        [
                          1,
                          "#f0f921"
                        ]
                      ],
                      "sequentialminus": [
                        [
                          0,
                          "#0d0887"
                        ],
                        [
                          0.1111111111111111,
                          "#46039f"
                        ],
                        [
                          0.2222222222222222,
                          "#7201a8"
                        ],
                        [
                          0.3333333333333333,
                          "#9c179e"
                        ],
                        [
                          0.4444444444444444,
                          "#bd3786"
                        ],
                        [
                          0.5555555555555556,
                          "#d8576b"
                        ],
                        [
                          0.6666666666666666,
                          "#ed7953"
                        ],
                        [
                          0.7777777777777778,
                          "#fb9f3a"
                        ],
                        [
                          0.8888888888888888,
                          "#fdca26"
                        ],
                        [
                          1,
                          "#f0f921"
                        ]
                      ]
                    },
                    "colorway": [
                      "#636efa",
                      "#EF553B",
                      "#00cc96",
                      "#ab63fa",
                      "#FFA15A",
                      "#19d3f3",
                      "#FF6692",
                      "#B6E880",
                      "#FF97FF",
                      "#FECB52"
                    ],
                    "font": {
                      "color": "#2a3f5f"
                    },
                    "geo": {
                      "bgcolor": "white",
                      "lakecolor": "white",
                      "landcolor": "#E5ECF6",
                      "showlakes": true,
                      "showland": true,
                      "subunitcolor": "white"
                    },
                    "hoverlabel": {
                      "align": "left"
                    },
                    "hovermode": "closest",
                    "mapbox": {
                      "style": "light"
                    },
                    "paper_bgcolor": "white",
                    "plot_bgcolor": "#E5ECF6",
                    "polar": {
                      "angularaxis": {
                        "gridcolor": "white",
                        "linecolor": "white",
                        "ticks": ""
                      },
                      "bgcolor": "#E5ECF6",
                      "radialaxis": {
                        "gridcolor": "white",
                        "linecolor": "white",
                        "ticks": ""
                      }
                    },
                    "scene": {
                      "xaxis": {
                        "backgroundcolor": "#E5ECF6",
                        "gridcolor": "white",
                        "gridwidth": 2,
                        "linecolor": "white",
                        "showbackground": true,
                        "ticks": "",
                        "zerolinecolor": "white"
                      },
                      "yaxis": {
                        "backgroundcolor": "#E5ECF6",
                        "gridcolor": "white",
                        "gridwidth": 2,
                        "linecolor": "white",
                        "showbackground": true,
                        "ticks": "",
                        "zerolinecolor": "white"
                      },
                      "zaxis": {
                        "backgroundcolor": "#E5ECF6",
                        "gridcolor": "white",
                        "gridwidth": 2,
                        "linecolor": "white",
                        "showbackground": true,
                        "ticks": "",
                        "zerolinecolor": "white"
                      }
                    },
                    "shapedefaults": {
                      "line": {
                        "color": "#2a3f5f"
                      }
                    },
                    "ternary": {
                      "aaxis": {
                        "gridcolor": "white",
                        "linecolor": "white",
                        "ticks": ""
                      },
                      "baxis": {
                        "gridcolor": "white",
                        "linecolor": "white",
                        "ticks": ""
                      },
                      "bgcolor": "#E5ECF6",
                      "caxis": {
                        "gridcolor": "white",
                        "linecolor": "white",
                        "ticks": ""
                      }
                    },
                    "title": {
                      "x": 0.05
                    },
                    "xaxis": {
                      "automargin": true,
                      "gridcolor": "white",
                      "linecolor": "white",
                      "ticks": "",
                      "title": {
                        "standoff": 15
                      },
                      "zerolinecolor": "white",
                      "zerolinewidth": 2
                    },
                    "yaxis": {
                      "automargin": true,
                      "gridcolor": "white",
                      "linecolor": "white",
                      "ticks": "",
                      "title": {
                        "standoff": 15
                      },
                      "zerolinecolor": "white",
                      "zerolinewidth": 2
                    }
                  }
                },
                "width": 800,
                "xaxis": {
                  "anchor": "y",
                  "domain": [
                    0,
                    1
                  ],
                  "title": {
                    "text": "support"
                  }
                },
                "yaxis": {
                  "anchor": "x",
                  "domain": [
                    0,
                    1
                  ],
                  "title": {
                    "text": "confidence"
                  }
                }
              }
            }
          },
          "metadata": {},
          "output_type": "display_data"
        }
      ],
      "source": [
        "px.scatter(rules, x='support', y='confidence', size='lift',width=800, hover_data = ['antecedent','consequent'])"
      ]
    },
    {
      "cell_type": "code",
      "execution_count": 85,
      "metadata": {
        "colab": {
          "base_uri": "https://localhost:8080/",
          "height": 206
        },
        "id": "QD0jSaacMfu_",
        "outputId": "7b50e62b-0734-4098-b3d4-f5ddf228a406"
      },
      "outputs": [
        {
          "data": {
            "text/html": [
              "<div>\n",
              "<style scoped>\n",
              "    .dataframe tbody tr th:only-of-type {\n",
              "        vertical-align: middle;\n",
              "    }\n",
              "\n",
              "    .dataframe tbody tr th {\n",
              "        vertical-align: top;\n",
              "    }\n",
              "\n",
              "    .dataframe thead th {\n",
              "        text-align: right;\n",
              "    }\n",
              "</style>\n",
              "<table border=\"1\" class=\"dataframe\">\n",
              "  <thead>\n",
              "    <tr style=\"text-align: right;\">\n",
              "      <th></th>\n",
              "      <th>antecedents</th>\n",
              "      <th>consequents</th>\n",
              "      <th>antecedent support</th>\n",
              "      <th>consequent support</th>\n",
              "      <th>support</th>\n",
              "      <th>confidence</th>\n",
              "      <th>lift</th>\n",
              "      <th>leverage</th>\n",
              "      <th>conviction</th>\n",
              "      <th>zhangs_metric</th>\n",
              "      <th>antecedent</th>\n",
              "      <th>consequent</th>\n",
              "      <th>rule</th>\n",
              "    </tr>\n",
              "  </thead>\n",
              "  <tbody>\n",
              "    <tr>\n",
              "      <th>0</th>\n",
              "      <td>(chocolate)</td>\n",
              "      <td>(french fries)</td>\n",
              "      <td>0.163845</td>\n",
              "      <td>0.170911</td>\n",
              "      <td>0.034395</td>\n",
              "      <td>0.209927</td>\n",
              "      <td>1.228284</td>\n",
              "      <td>0.006393</td>\n",
              "      <td>1.049383</td>\n",
              "      <td>0.222275</td>\n",
              "      <td>chocolate</td>\n",
              "      <td>french fries</td>\n",
              "      <td>0</td>\n",
              "    </tr>\n",
              "    <tr>\n",
              "      <th>1</th>\n",
              "      <td>(french fries)</td>\n",
              "      <td>(chocolate)</td>\n",
              "      <td>0.170911</td>\n",
              "      <td>0.163845</td>\n",
              "      <td>0.034395</td>\n",
              "      <td>0.201248</td>\n",
              "      <td>1.228284</td>\n",
              "      <td>0.006393</td>\n",
              "      <td>1.046827</td>\n",
              "      <td>0.224169</td>\n",
              "      <td>french fries</td>\n",
              "      <td>chocolate</td>\n",
              "      <td>1</td>\n",
              "    </tr>\n",
              "    <tr>\n",
              "      <th>2</th>\n",
              "      <td>(french fries)</td>\n",
              "      <td>(green tea)</td>\n",
              "      <td>0.170911</td>\n",
              "      <td>0.132116</td>\n",
              "      <td>0.028530</td>\n",
              "      <td>0.166927</td>\n",
              "      <td>1.263488</td>\n",
              "      <td>0.005950</td>\n",
              "      <td>1.041786</td>\n",
              "      <td>0.251529</td>\n",
              "      <td>french fries</td>\n",
              "      <td>green tea</td>\n",
              "      <td>2</td>\n",
              "    </tr>\n",
              "    <tr>\n",
              "      <th>3</th>\n",
              "      <td>(green tea)</td>\n",
              "      <td>(french fries)</td>\n",
              "      <td>0.132116</td>\n",
              "      <td>0.170911</td>\n",
              "      <td>0.028530</td>\n",
              "      <td>0.215943</td>\n",
              "      <td>1.263488</td>\n",
              "      <td>0.005950</td>\n",
              "      <td>1.057436</td>\n",
              "      <td>0.240286</td>\n",
              "      <td>green tea</td>\n",
              "      <td>french fries</td>\n",
              "      <td>3</td>\n",
              "    </tr>\n",
              "    <tr>\n",
              "      <th>4</th>\n",
              "      <td>(milk)</td>\n",
              "      <td>(french fries)</td>\n",
              "      <td>0.129583</td>\n",
              "      <td>0.170911</td>\n",
              "      <td>0.023730</td>\n",
              "      <td>0.183128</td>\n",
              "      <td>1.071482</td>\n",
              "      <td>0.001583</td>\n",
              "      <td>1.014956</td>\n",
              "      <td>0.076645</td>\n",
              "      <td>milk</td>\n",
              "      <td>french fries</td>\n",
              "      <td>4</td>\n",
              "    </tr>\n",
              "  </tbody>\n",
              "</table>\n",
              "</div>"
            ],
            "text/plain": [
              "      antecedents     consequents  antecedent support  consequent support  \\\n",
              "0     (chocolate)  (french fries)            0.163845            0.170911   \n",
              "1  (french fries)     (chocolate)            0.170911            0.163845   \n",
              "2  (french fries)     (green tea)            0.170911            0.132116   \n",
              "3     (green tea)  (french fries)            0.132116            0.170911   \n",
              "4          (milk)  (french fries)            0.129583            0.170911   \n",
              "\n",
              "    support  confidence      lift  leverage  conviction  zhangs_metric  \\\n",
              "0  0.034395    0.209927  1.228284  0.006393    1.049383       0.222275   \n",
              "1  0.034395    0.201248  1.228284  0.006393    1.046827       0.224169   \n",
              "2  0.028530    0.166927  1.263488  0.005950    1.041786       0.251529   \n",
              "3  0.028530    0.215943  1.263488  0.005950    1.057436       0.240286   \n",
              "4  0.023730    0.183128  1.071482  0.001583    1.014956       0.076645   \n",
              "\n",
              "     antecedent    consequent  rule  \n",
              "0     chocolate  french fries     0  \n",
              "1  french fries     chocolate     1  \n",
              "2  french fries     green tea     2  \n",
              "3     green tea  french fries     3  \n",
              "4          milk  french fries     4  "
            ]
          },
          "execution_count": 85,
          "metadata": {},
          "output_type": "execute_result"
        }
      ],
      "source": [
        "rules.head()"
      ]
    },
    {
      "cell_type": "code",
      "execution_count": 86,
      "metadata": {
        "colab": {
          "base_uri": "https://localhost:8080/"
        },
        "id": "5-MOFHGSE74_",
        "outputId": "5d66b1ac-cfe9-4af5-ce77-1c10382cdca6"
      },
      "outputs": [
        {
          "name": "stdout",
          "output_type": "stream",
          "text": [
            "<class 'pandas.core.frame.DataFrame'>\n",
            "RangeIndex: 176 entries, 0 to 175\n",
            "Data columns (total 13 columns):\n",
            " #   Column              Non-Null Count  Dtype  \n",
            "---  ------              --------------  -----  \n",
            " 0   antecedents         176 non-null    object \n",
            " 1   consequents         176 non-null    object \n",
            " 2   antecedent support  176 non-null    float64\n",
            " 3   consequent support  176 non-null    float64\n",
            " 4   support             176 non-null    float64\n",
            " 5   confidence          176 non-null    float64\n",
            " 6   lift                176 non-null    float64\n",
            " 7   leverage            176 non-null    float64\n",
            " 8   conviction          176 non-null    float64\n",
            " 9   zhangs_metric       176 non-null    float64\n",
            " 10  antecedent          176 non-null    object \n",
            " 11  consequent          176 non-null    object \n",
            " 12  rule                176 non-null    int64  \n",
            "dtypes: float64(8), int64(1), object(4)\n",
            "memory usage: 18.0+ KB\n"
          ]
        }
      ],
      "source": [
        "rules.info()"
      ]
    },
    {
      "cell_type": "code",
      "execution_count": 87,
      "metadata": {
        "colab": {
          "base_uri": "https://localhost:8080/",
          "height": 542
        },
        "id": "6iHU9k9KMfu_",
        "outputId": "b1643012-9ae7-4b63-b2f3-c50f34f5b259"
      },
      "outputs": [
        {
          "data": {
            "application/vnd.plotly.v1+json": {
              "config": {
                "plotlyServerURL": "https://plot.ly"
              },
              "data": [
                {
                  "customdata": [
                    [
                      "chocolate",
                      "french fries"
                    ],
                    [
                      "french fries",
                      "chocolate"
                    ],
                    [
                      "french fries",
                      "green tea"
                    ],
                    [
                      "green tea",
                      "french fries"
                    ],
                    [
                      "milk",
                      "french fries"
                    ],
                    [
                      "french fries",
                      "milk"
                    ],
                    [
                      "ground beef",
                      "french fries"
                    ],
                    [
                      "french fries",
                      "ground beef"
                    ],
                    [
                      "frozen vegetables",
                      "french fries"
                    ],
                    [
                      "french fries",
                      "frozen vegetables"
                    ],
                    [
                      "french fries",
                      "pancakes"
                    ],
                    [
                      "pancakes",
                      "french fries"
                    ],
                    [
                      "burgers",
                      "french fries"
                    ],
                    [
                      "french fries",
                      "burgers"
                    ],
                    [
                      "cake",
                      "french fries"
                    ],
                    [
                      "french fries",
                      "cake"
                    ],
                    [
                      "cookies",
                      "french fries"
                    ],
                    [
                      "french fries",
                      "cookies"
                    ],
                    [
                      "escalope",
                      "french fries"
                    ],
                    [
                      "french fries",
                      "escalope"
                    ],
                    [
                      "low fat yogurt",
                      "french fries"
                    ],
                    [
                      "french fries",
                      "low fat yogurt"
                    ],
                    [
                      "tomatoes",
                      "french fries"
                    ],
                    [
                      "french fries",
                      "tomatoes"
                    ],
                    [
                      "french fries",
                      "frozen smoothie"
                    ],
                    [
                      "frozen smoothie",
                      "french fries"
                    ],
                    [
                      "french fries",
                      "turkey"
                    ],
                    [
                      "turkey",
                      "french fries"
                    ],
                    [
                      "french fries",
                      "chicken"
                    ],
                    [
                      "chicken",
                      "french fries"
                    ],
                    [
                      "whole wheat rice",
                      "french fries"
                    ],
                    [
                      "french fries",
                      "whole wheat rice"
                    ],
                    [
                      "french fries",
                      "grated cheese"
                    ],
                    [
                      "grated cheese",
                      "french fries"
                    ],
                    [
                      "chocolate",
                      "green tea"
                    ],
                    [
                      "green tea",
                      "chocolate"
                    ],
                    [
                      "chocolate",
                      "milk"
                    ],
                    [
                      "milk",
                      "chocolate"
                    ],
                    [
                      "chocolate",
                      "ground beef"
                    ],
                    [
                      "ground beef",
                      "chocolate"
                    ],
                    [
                      "chocolate",
                      "frozen vegetables"
                    ],
                    [
                      "frozen vegetables",
                      "chocolate"
                    ],
                    [
                      "chocolate",
                      "pancakes"
                    ],
                    [
                      "pancakes",
                      "chocolate"
                    ],
                    [
                      "chocolate",
                      "burgers"
                    ],
                    [
                      "burgers",
                      "chocolate"
                    ],
                    [
                      "chocolate",
                      "cake"
                    ],
                    [
                      "cake",
                      "chocolate"
                    ],
                    [
                      "cookies",
                      "chocolate"
                    ],
                    [
                      "chocolate",
                      "cookies"
                    ],
                    [
                      "chocolate",
                      "escalope"
                    ],
                    [
                      "escalope",
                      "chocolate"
                    ],
                    [
                      "low fat yogurt",
                      "chocolate"
                    ],
                    [
                      "chocolate",
                      "low fat yogurt"
                    ],
                    [
                      "chocolate",
                      "shrimp"
                    ],
                    [
                      "shrimp",
                      "chocolate"
                    ],
                    [
                      "chocolate",
                      "tomatoes"
                    ],
                    [
                      "tomatoes",
                      "chocolate"
                    ],
                    [
                      "chocolate",
                      "olive oil"
                    ],
                    [
                      "olive oil",
                      "chocolate"
                    ],
                    [
                      "chocolate",
                      "frozen smoothie"
                    ],
                    [
                      "frozen smoothie",
                      "chocolate"
                    ],
                    [
                      "chocolate",
                      "turkey"
                    ],
                    [
                      "turkey",
                      "chocolate"
                    ],
                    [
                      "chocolate",
                      "chicken"
                    ],
                    [
                      "chicken",
                      "chocolate"
                    ],
                    [
                      "chocolate",
                      "whole wheat rice"
                    ],
                    [
                      "whole wheat rice",
                      "chocolate"
                    ],
                    [
                      "chocolate",
                      "grated cheese"
                    ],
                    [
                      "grated cheese",
                      "chocolate"
                    ],
                    [
                      "chocolate",
                      "cooking oil"
                    ],
                    [
                      "cooking oil",
                      "chocolate"
                    ],
                    [
                      "chocolate",
                      "soup"
                    ],
                    [
                      "soup",
                      "chocolate"
                    ],
                    [
                      "chocolate",
                      "champagne"
                    ],
                    [
                      "champagne",
                      "chocolate"
                    ],
                    [
                      "chocolate",
                      "salmon"
                    ],
                    [
                      "salmon",
                      "chocolate"
                    ],
                    [
                      "milk",
                      "green tea"
                    ],
                    [
                      "green tea",
                      "milk"
                    ],
                    [
                      "ground beef",
                      "green tea"
                    ],
                    [
                      "green tea",
                      "ground beef"
                    ],
                    [
                      "frozen vegetables",
                      "green tea"
                    ],
                    [
                      "green tea",
                      "frozen vegetables"
                    ],
                    [
                      "pancakes",
                      "green tea"
                    ],
                    [
                      "green tea",
                      "pancakes"
                    ],
                    [
                      "burgers",
                      "green tea"
                    ],
                    [
                      "green tea",
                      "burgers"
                    ],
                    [
                      "cake",
                      "green tea"
                    ],
                    [
                      "green tea",
                      "cake"
                    ],
                    [
                      "cookies",
                      "green tea"
                    ],
                    [
                      "green tea",
                      "cookies"
                    ],
                    [
                      "shrimp",
                      "green tea"
                    ],
                    [
                      "green tea",
                      "shrimp"
                    ],
                    [
                      "tomatoes",
                      "green tea"
                    ],
                    [
                      "green tea",
                      "tomatoes"
                    ],
                    [
                      "frozen smoothie",
                      "green tea"
                    ],
                    [
                      "green tea",
                      "frozen smoothie"
                    ],
                    [
                      "turkey",
                      "green tea"
                    ],
                    [
                      "green tea",
                      "turkey"
                    ],
                    [
                      "chicken",
                      "green tea"
                    ],
                    [
                      "green tea",
                      "chicken"
                    ],
                    [
                      "milk",
                      "ground beef"
                    ],
                    [
                      "ground beef",
                      "milk"
                    ],
                    [
                      "milk",
                      "frozen vegetables"
                    ],
                    [
                      "frozen vegetables",
                      "milk"
                    ],
                    [
                      "milk",
                      "pancakes"
                    ],
                    [
                      "pancakes",
                      "milk"
                    ],
                    [
                      "milk",
                      "burgers"
                    ],
                    [
                      "burgers",
                      "milk"
                    ],
                    [
                      "milk",
                      "cake"
                    ],
                    [
                      "cake",
                      "milk"
                    ],
                    [
                      "low fat yogurt",
                      "milk"
                    ],
                    [
                      "milk",
                      "low fat yogurt"
                    ],
                    [
                      "milk",
                      "shrimp"
                    ],
                    [
                      "shrimp",
                      "milk"
                    ],
                    [
                      "milk",
                      "tomatoes"
                    ],
                    [
                      "tomatoes",
                      "milk"
                    ],
                    [
                      "milk",
                      "olive oil"
                    ],
                    [
                      "olive oil",
                      "milk"
                    ],
                    [
                      "milk",
                      "frozen smoothie"
                    ],
                    [
                      "frozen smoothie",
                      "milk"
                    ],
                    [
                      "milk",
                      "turkey"
                    ],
                    [
                      "turkey",
                      "milk"
                    ],
                    [
                      "milk",
                      "chicken"
                    ],
                    [
                      "chicken",
                      "milk"
                    ],
                    [
                      "whole wheat rice",
                      "milk"
                    ],
                    [
                      "milk",
                      "whole wheat rice"
                    ],
                    [
                      "milk",
                      "cooking oil"
                    ],
                    [
                      "cooking oil",
                      "milk"
                    ],
                    [
                      "milk",
                      "soup"
                    ],
                    [
                      "soup",
                      "milk"
                    ],
                    [
                      "ground beef",
                      "frozen vegetables"
                    ],
                    [
                      "frozen vegetables",
                      "ground beef"
                    ],
                    [
                      "ground beef",
                      "pancakes"
                    ],
                    [
                      "pancakes",
                      "ground beef"
                    ],
                    [
                      "ground beef",
                      "burgers"
                    ],
                    [
                      "burgers",
                      "ground beef"
                    ],
                    [
                      "ground beef",
                      "shrimp"
                    ],
                    [
                      "shrimp",
                      "ground beef"
                    ],
                    [
                      "ground beef",
                      "tomatoes"
                    ],
                    [
                      "tomatoes",
                      "ground beef"
                    ],
                    [
                      "ground beef",
                      "olive oil"
                    ],
                    [
                      "olive oil",
                      "ground beef"
                    ],
                    [
                      "ground beef",
                      "grated cheese"
                    ],
                    [
                      "grated cheese",
                      "ground beef"
                    ],
                    [
                      "herb & pepper",
                      "ground beef"
                    ],
                    [
                      "ground beef",
                      "herb & pepper"
                    ],
                    [
                      "frozen vegetables",
                      "pancakes"
                    ],
                    [
                      "pancakes",
                      "frozen vegetables"
                    ],
                    [
                      "frozen vegetables",
                      "burgers"
                    ],
                    [
                      "burgers",
                      "frozen vegetables"
                    ],
                    [
                      "frozen vegetables",
                      "cake"
                    ],
                    [
                      "cake",
                      "frozen vegetables"
                    ],
                    [
                      "low fat yogurt",
                      "frozen vegetables"
                    ],
                    [
                      "frozen vegetables",
                      "low fat yogurt"
                    ],
                    [
                      "frozen vegetables",
                      "shrimp"
                    ],
                    [
                      "shrimp",
                      "frozen vegetables"
                    ],
                    [
                      "frozen vegetables",
                      "tomatoes"
                    ],
                    [
                      "tomatoes",
                      "frozen vegetables"
                    ],
                    [
                      "frozen vegetables",
                      "olive oil"
                    ],
                    [
                      "olive oil",
                      "frozen vegetables"
                    ],
                    [
                      "burgers",
                      "pancakes"
                    ],
                    [
                      "pancakes",
                      "burgers"
                    ],
                    [
                      "cake",
                      "pancakes"
                    ],
                    [
                      "pancakes",
                      "cake"
                    ],
                    [
                      "shrimp",
                      "pancakes"
                    ],
                    [
                      "pancakes",
                      "shrimp"
                    ],
                    [
                      "olive oil",
                      "pancakes"
                    ],
                    [
                      "pancakes",
                      "olive oil"
                    ],
                    [
                      "burgers",
                      "cake"
                    ],
                    [
                      "cake",
                      "burgers"
                    ],
                    [
                      "burgers",
                      "turkey"
                    ],
                    [
                      "turkey",
                      "burgers"
                    ],
                    [
                      "tomatoes",
                      "shrimp"
                    ],
                    [
                      "shrimp",
                      "tomatoes"
                    ]
                  ],
                  "hovertemplate": "support=%{x}<br>confidence=%{y}<br>lift=%{marker.color}<br>antecedent=%{customdata[0]}<br>consequent=%{customdata[1]}<extra></extra>",
                  "legendgroup": "",
                  "marker": {
                    "color": [
                      1.2282844771886887,
                      1.2282844771886887,
                      1.263488400282732,
                      1.263488400282732,
                      1.0714819950822727,
                      1.0714819950822727,
                      0.8256519134578137,
                      0.8256519134578139,
                      1.1702028081123246,
                      1.1702028081123246,
                      1.2391348108342286,
                      1.2391348108342286,
                      1.4761732671141707,
                      1.4761732671141707,
                      1.289532699729042,
                      1.289532699729042,
                      0.9703174196619606,
                      0.9703174196619608,
                      1.2095373562841674,
                      1.2095373562841674,
                      1.0193404251849518,
                      1.0193404251849518,
                      1.0264936913266005,
                      1.0264936913266005,
                      1.3426537482551935,
                      1.3426537482551935,
                      0.9980407745094453,
                      0.9980407745094454,
                      1.0791870341480327,
                      1.0791870341480327,
                      1.0529159662969663,
                      1.0529159662969663,
                      1.1612699622488718,
                      1.1612699622488718,
                      1.0839426276685449,
                      1.0839426276685449,
                      1.5132757067708698,
                      1.5132757067708698,
                      1.4326691124597442,
                      1.4326691124597442,
                      1.468215104667505,
                      1.4682151046675047,
                      1.2754517121868998,
                      1.2754517121868998,
                      1.1945367183981406,
                      1.1945367183981406,
                      1.0239149286968439,
                      1.0239149286968436,
                      0.7894862546502637,
                      0.7894862546502638,
                      1.3540174084279766,
                      1.3540174084279766,
                      1.1802618485327014,
                      1.1802618485327012,
                      1.5372208323719074,
                      1.5372208323719074,
                      1.2492208280397223,
                      1.2492208280397221,
                      1.5196565457582116,
                      1.5196565457582114,
                      1.43910239390176,
                      1.43910239390176,
                      1.106148323823172,
                      1.1061483238231717,
                      1.4919265889160112,
                      1.4919265889160112,
                      1.2512534034188951,
                      1.2512534034188951,
                      1.2734696074716818,
                      1.2734696074716818,
                      1.6254315317171828,
                      1.6254315317171828,
                      1.2238879669207863,
                      1.2238879669207863,
                      1.5127926950546964,
                      1.5127926950546964,
                      1.5306171901104701,
                      1.5306171901104701,
                      1.0279054702196313,
                      1.027905470219631,
                      1.1399898954908971,
                      1.1399898954908971,
                      1.143307953398771,
                      1.143307953398771,
                      1.3057531811549385,
                      1.3057531811549388,
                      1.5161391360161947,
                      1.5161391360161947,
                      1.3196166817143768,
                      1.3196166817143768,
                      1.1297197162522403,
                      1.1297197162522403,
                      1.2144486949711584,
                      1.2144486949711584,
                      1.3574254056488906,
                      1.3574254056488908,
                      1.338539486961602,
                      1.338539486961602,
                      1.4363579249492773,
                      1.4363579249492773,
                      1.4970041484471357,
                      1.4970041484471355,
                      1.7277040722314354,
                      1.7277040722314356,
                      1.9103815937149273,
                      1.9103815937149273,
                      1.3421005546609412,
                      1.3421005546609412,
                      1.5811750418444268,
                      1.581175041844427,
                      1.2692562811349364,
                      1.2692562811349364,
                      1.3309943218479807,
                      1.3309943218479805,
                      1.9004744794545791,
                      1.900474479454579,
                      1.5795189276345873,
                      1.5795189276345871,
                      1.9995668182802688,
                      1.9995668182802688,
                      1.7383734026424087,
                      1.7383734026424087,
                      1.3986175822825908,
                      1.3986175822825908,
                      1.9035459533607684,
                      1.9035459533607684,
                      1.5645101568285575,
                      1.5645101568285575,
                      1.732816512479988,
                      1.732816512479988,
                      2.321231961953158,
                      2.3212319619531585,
                      1.8077957320833848,
                      1.807795732083385,
                      1.555924952567267,
                      1.555924952567267,
                      1.400607471400296,
                      1.400607471400296,
                      1.6329968205107432,
                      1.6329968205107435,
                      1.7458904308865033,
                      1.745890430886503,
                      2.183889166607156,
                      2.183889166607156,
                      2.201294015695292,
                      2.201294015695292,
                      3.2919938411349285,
                      3.291993841134928,
                      1.4860895065663648,
                      1.4860895065663648,
                      1.2672504865165415,
                      1.2672504865165415,
                      1.3286184210526317,
                      1.3286184210526317,
                      1.3890402280646184,
                      1.3890402280646184,
                      2.4465739484396196,
                      2.44657394843962,
                      2.4744639376218323,
                      2.4744639376218323,
                      1.8051159366948841,
                      1.8051159366948841,
                      1.2708051863384673,
                      1.2708051863384673,
                      1.5399834834280655,
                      1.5399834834280655,
                      1.5505719997488014,
                      1.5505719997488014,
                      1.7249944637189047,
                      1.7249944637189047,
                      1.6223191292451309,
                      1.622319129245131,
                      1.9564040870353345,
                      1.9564040870353345,
                      2.2914811905385353,
                      2.2914811905385353
                    ],
                    "coloraxis": "coloraxis",
                    "size": [
                      1.2282844771886887,
                      1.2282844771886887,
                      1.263488400282732,
                      1.263488400282732,
                      1.0714819950822727,
                      1.0714819950822727,
                      0.8256519134578137,
                      0.8256519134578139,
                      1.1702028081123246,
                      1.1702028081123246,
                      1.2391348108342286,
                      1.2391348108342286,
                      1.4761732671141707,
                      1.4761732671141707,
                      1.289532699729042,
                      1.289532699729042,
                      0.9703174196619606,
                      0.9703174196619608,
                      1.2095373562841674,
                      1.2095373562841674,
                      1.0193404251849518,
                      1.0193404251849518,
                      1.0264936913266005,
                      1.0264936913266005,
                      1.3426537482551935,
                      1.3426537482551935,
                      0.9980407745094453,
                      0.9980407745094454,
                      1.0791870341480327,
                      1.0791870341480327,
                      1.0529159662969663,
                      1.0529159662969663,
                      1.1612699622488718,
                      1.1612699622488718,
                      1.0839426276685449,
                      1.0839426276685449,
                      1.5132757067708698,
                      1.5132757067708698,
                      1.4326691124597442,
                      1.4326691124597442,
                      1.468215104667505,
                      1.4682151046675047,
                      1.2754517121868998,
                      1.2754517121868998,
                      1.1945367183981406,
                      1.1945367183981406,
                      1.0239149286968439,
                      1.0239149286968436,
                      0.7894862546502637,
                      0.7894862546502638,
                      1.3540174084279766,
                      1.3540174084279766,
                      1.1802618485327014,
                      1.1802618485327012,
                      1.5372208323719074,
                      1.5372208323719074,
                      1.2492208280397223,
                      1.2492208280397221,
                      1.5196565457582116,
                      1.5196565457582114,
                      1.43910239390176,
                      1.43910239390176,
                      1.106148323823172,
                      1.1061483238231717,
                      1.4919265889160112,
                      1.4919265889160112,
                      1.2512534034188951,
                      1.2512534034188951,
                      1.2734696074716818,
                      1.2734696074716818,
                      1.6254315317171828,
                      1.6254315317171828,
                      1.2238879669207863,
                      1.2238879669207863,
                      1.5127926950546964,
                      1.5127926950546964,
                      1.5306171901104701,
                      1.5306171901104701,
                      1.0279054702196313,
                      1.027905470219631,
                      1.1399898954908971,
                      1.1399898954908971,
                      1.143307953398771,
                      1.143307953398771,
                      1.3057531811549385,
                      1.3057531811549388,
                      1.5161391360161947,
                      1.5161391360161947,
                      1.3196166817143768,
                      1.3196166817143768,
                      1.1297197162522403,
                      1.1297197162522403,
                      1.2144486949711584,
                      1.2144486949711584,
                      1.3574254056488906,
                      1.3574254056488908,
                      1.338539486961602,
                      1.338539486961602,
                      1.4363579249492773,
                      1.4363579249492773,
                      1.4970041484471357,
                      1.4970041484471355,
                      1.7277040722314354,
                      1.7277040722314356,
                      1.9103815937149273,
                      1.9103815937149273,
                      1.3421005546609412,
                      1.3421005546609412,
                      1.5811750418444268,
                      1.581175041844427,
                      1.2692562811349364,
                      1.2692562811349364,
                      1.3309943218479807,
                      1.3309943218479805,
                      1.9004744794545791,
                      1.900474479454579,
                      1.5795189276345873,
                      1.5795189276345871,
                      1.9995668182802688,
                      1.9995668182802688,
                      1.7383734026424087,
                      1.7383734026424087,
                      1.3986175822825908,
                      1.3986175822825908,
                      1.9035459533607684,
                      1.9035459533607684,
                      1.5645101568285575,
                      1.5645101568285575,
                      1.732816512479988,
                      1.732816512479988,
                      2.321231961953158,
                      2.3212319619531585,
                      1.8077957320833848,
                      1.807795732083385,
                      1.555924952567267,
                      1.555924952567267,
                      1.400607471400296,
                      1.400607471400296,
                      1.6329968205107432,
                      1.6329968205107435,
                      1.7458904308865033,
                      1.745890430886503,
                      2.183889166607156,
                      2.183889166607156,
                      2.201294015695292,
                      2.201294015695292,
                      3.2919938411349285,
                      3.291993841134928,
                      1.4860895065663648,
                      1.4860895065663648,
                      1.2672504865165415,
                      1.2672504865165415,
                      1.3286184210526317,
                      1.3286184210526317,
                      1.3890402280646184,
                      1.3890402280646184,
                      2.4465739484396196,
                      2.44657394843962,
                      2.4744639376218323,
                      2.4744639376218323,
                      1.8051159366948841,
                      1.8051159366948841,
                      1.2708051863384673,
                      1.2708051863384673,
                      1.5399834834280655,
                      1.5399834834280655,
                      1.5505719997488014,
                      1.5505719997488014,
                      1.7249944637189047,
                      1.7249944637189047,
                      1.6223191292451309,
                      1.622319129245131,
                      1.9564040870353345,
                      1.9564040870353345,
                      2.2914811905385353,
                      2.2914811905385353
                    ],
                    "sizemode": "area",
                    "sizeref": 0.032919938411349284,
                    "symbol": "circle"
                  },
                  "mode": "markers",
                  "name": "",
                  "orientation": "v",
                  "showlegend": false,
                  "type": "scatter",
                  "x": [
                    0.03439541394480736,
                    0.03439541394480736,
                    0.028529529396080524,
                    0.028529529396080524,
                    0.023730169310758567,
                    0.023730169310758567,
                    0.01386481802426343,
                    0.01386481802426343,
                    0.019064124783362217,
                    0.019064124783362217,
                    0.020130649246767097,
                    0.020130649246767097,
                    0.021997067057725635,
                    0.021997067057725635,
                    0.01786428476203173,
                    0.01786428476203173,
                    0.013331555792560993,
                    0.013331555792560993,
                    0.01639781362485002,
                    0.01639781362485002,
                    0.013331555792560993,
                    0.013331555792560993,
                    0.011998400213304892,
                    0.011998400213304892,
                    0.014531395813891481,
                    0.014531395813891481,
                    0.010665244634048793,
                    0.010665244634048793,
                    0.011065191307825623,
                    0.011065191307825623,
                    0.010531929076123183,
                    0.010531929076123183,
                    0.010398613518197574,
                    0.010398613518197574,
                    0.023463538194907346,
                    0.023463538194907346,
                    0.03212904946007199,
                    0.03212904946007199,
                    0.023063591521130515,
                    0.023063591521130515,
                    0.022930275963204905,
                    0.022930275963204905,
                    0.01986401813091588,
                    0.01986401813091588,
                    0.017064391414478068,
                    0.017064391414478068,
                    0.013598186908412212,
                    0.013598186908412212,
                    0.010398613518197574,
                    0.010398613518197574,
                    0.01759765364618051,
                    0.01759765364618051,
                    0.014798026929742702,
                    0.014798026929742702,
                    0.017997600319957337,
                    0.017997600319957337,
                    0.013998133582189041,
                    0.013998133582189041,
                    0.01639781362485002,
                    0.01639781362485002,
                    0.01493134248766831,
                    0.01493134248766831,
                    0.011331822423676844,
                    0.011331822423676844,
                    0.014664711371817091,
                    0.014664711371817091,
                    0.011998400213304892,
                    0.011998400213304892,
                    0.010931875749900012,
                    0.010931875749900012,
                    0.013598186908412212,
                    0.013598186908412212,
                    0.010131982402346354,
                    0.010131982402346354,
                    0.011598453539528063,
                    0.011598453539528063,
                    0.010665244634048793,
                    0.010665244634048793,
                    0.01759765364618051,
                    0.01759765364618051,
                    0.014798026929742702,
                    0.014798026929742702,
                    0.01439808025596587,
                    0.01439808025596587,
                    0.01639781362485002,
                    0.01639781362485002,
                    0.0174643380882549,
                    0.0174643380882549,
                    0.014131449140114652,
                    0.014131449140114652,
                    0.011998400213304892,
                    0.011998400213304892,
                    0.011465137981602452,
                    0.011465137981602452,
                    0.012265031329156113,
                    0.012265031329156113,
                    0.011198506865751233,
                    0.011198506865751233,
                    0.011865084655379284,
                    0.011865084655379284,
                    0.011865084655379284,
                    0.011865084655379284,
                    0.021997067057725635,
                    0.021997067057725635,
                    0.023596853752832957,
                    0.023596853752832957,
                    0.01653112918277563,
                    0.01653112918277563,
                    0.01786428476203173,
                    0.01786428476203173,
                    0.013331555792560993,
                    0.013331555792560993,
                    0.013198240234635382,
                    0.013198240234635382,
                    0.01759765364618051,
                    0.01759765364618051,
                    0.013998133582189041,
                    0.013998133582189041,
                    0.017064391414478068,
                    0.017064391414478068,
                    0.014264764698040262,
                    0.014264764698040262,
                    0.011331822423676844,
                    0.011331822423676844,
                    0.014798026929742702,
                    0.014798026929742702,
                    0.011865084655379284,
                    0.011865084655379284,
                    0.011465137981602452,
                    0.011465137981602452,
                    0.015197973603519531,
                    0.015197973603519531,
                    0.01693107585655246,
                    0.01693107585655246,
                    0.014531395813891481,
                    0.014531395813891481,
                    0.011998400213304892,
                    0.011998400213304892,
                    0.011465137981602452,
                    0.011465137981602452,
                    0.011731769097453673,
                    0.011731769097453673,
                    0.014131449140114652,
                    0.014131449140114652,
                    0.011331822423676844,
                    0.011331822423676844,
                    0.015997866951073192,
                    0.015997866951073192,
                    0.013464871350486601,
                    0.013464871350486601,
                    0.010531929076123183,
                    0.010531929076123183,
                    0.010265297960271964,
                    0.010265297960271964,
                    0.010131982402346354,
                    0.010131982402346354,
                    0.01666444474070124,
                    0.01666444474070124,
                    0.0161311825089988,
                    0.0161311825089988,
                    0.011331822423676844,
                    0.011331822423676844,
                    0.010531929076123183,
                    0.010531929076123183,
                    0.011865084655379284,
                    0.011865084655379284,
                    0.010531929076123183,
                    0.010531929076123183,
                    0.010798560191974404,
                    0.010798560191974404,
                    0.011465137981602452,
                    0.011465137981602452,
                    0.010665244634048793,
                    0.010665244634048793,
                    0.011198506865751233,
                    0.011198506865751233
                  ],
                  "xaxis": "x",
                  "y": [
                    0.209926769731489,
                    0.20124804992199688,
                    0.1669266770670827,
                    0.21594349142280528,
                    0.18312757201646093,
                    0.1388455538221529,
                    0.14111261872455902,
                    0.0811232449297972,
                    0.19999999999999998,
                    0.11154446177847115,
                    0.11778471138845555,
                    0.211781206171108,
                    0.25229357798165136,
                    0.12870514820592824,
                    0.22039473684210528,
                    0.1045241809672387,
                    0.16583747927031509,
                    0.07800312012480501,
                    0.20672268907563024,
                    0.09594383775351015,
                    0.17421602787456447,
                    0.07800312012480501,
                    0.17543859649122806,
                    0.0702028081123245,
                    0.08502340093603744,
                    0.22947368421052633,
                    0.062402496099843996,
                    0.1705756929637527,
                    0.06474258970358815,
                    0.18444444444444444,
                    0.17995444191343962,
                    0.06162246489859594,
                    0.0608424336973479,
                    0.19847328244274812,
                    0.14320585842148087,
                    0.17759838546922302,
                    0.19609438567941412,
                    0.2479423868312757,
                    0.1407648494711147,
                    0.23473541383989144,
                    0.13995117982099267,
                    0.24055944055944053,
                    0.12123677786818551,
                    0.20897615708274897,
                    0.10414971521562244,
                    0.19571865443425074,
                    0.08299430431244914,
                    0.16776315789473684,
                    0.12935323383084577,
                    0.06346623270951994,
                    0.10740439381611065,
                    0.22184873949579834,
                    0.19337979094076657,
                    0.09031733116354759,
                    0.1098454027664768,
                    0.251865671641791,
                    0.0854353132628153,
                    0.2046783625730994,
                    0.1000813669650122,
                    0.24898785425101214,
                    0.09113100081366964,
                    0.23578947368421052,
                    0.0691619202603743,
                    0.18123667377398722,
                    0.08950366151342555,
                    0.24444444444444446,
                    0.07323026851098453,
                    0.20501138952164008,
                    0.06672091131000812,
                    0.20865139949109412,
                    0.08299430431244914,
                    0.26631853785900783,
                    0.06183889340927583,
                    0.20052770448548812,
                    0.07078925956061838,
                    0.24786324786324784,
                    0.06509357200976403,
                    0.2507836990595611,
                    0.1358024691358025,
                    0.13319878910191726,
                    0.15061058344640435,
                    0.11200807265388497,
                    0.15104895104895105,
                    0.10898082744702321,
                    0.17251051893408134,
                    0.124117053481332,
                    0.2003058103975535,
                    0.13218970736629668,
                    0.1743421052631579,
                    0.10696266397578205,
                    0.14925373134328357,
                    0.09081735620585267,
                    0.16044776119402984,
                    0.08678102926337034,
                    0.1793372319688109,
                    0.09283551967709386,
                    0.1768421052631579,
                    0.08476286579212917,
                    0.18976545842217488,
                    0.0898082744702321,
                    0.1977777777777778,
                    0.0898082744702321,
                    0.1697530864197531,
                    0.22388059701492538,
                    0.1820987654320988,
                    0.24755244755244757,
                    0.12757201646090535,
                    0.17391304347826086,
                    0.13786008230452676,
                    0.20489296636085627,
                    0.10288065843621401,
                    0.16447368421052633,
                    0.17247386759581884,
                    0.10185185185185186,
                    0.1358024691358025,
                    0.2462686567164179,
                    0.1080246913580247,
                    0.2046783625730994,
                    0.13168724279835392,
                    0.2591093117408907,
                    0.11008230452674898,
                    0.22526315789473686,
                    0.0874485596707819,
                    0.18123667377398722,
                    0.11419753086419754,
                    0.24666666666666667,
                    0.2027334851936219,
                    0.09156378600823047,
                    0.08847736625514403,
                    0.22454308093994776,
                    0.11728395061728396,
                    0.3007915567282322,
                    0.17232021709633652,
                    0.17762237762237765,
                    0.14789687924016282,
                    0.15287517531556802,
                    0.12211668928086838,
                    0.13761467889908255,
                    0.11668928086838534,
                    0.16044776119402984,
                    0.11940298507462688,
                    0.17153996101364521,
                    0.14382632293080055,
                    0.2145748987854251,
                    0.1153324287652646,
                    0.2162849872773537,
                    0.3234501347708895,
                    0.1628222523744912,
                    0.14125874125874124,
                    0.14165497896213183,
                    0.11048951048951049,
                    0.12079510703363913,
                    0.1076923076923077,
                    0.12664473684210528,
                    0.13240418118466898,
                    0.1062937062937063,
                    0.17482517482517482,
                    0.23320895522388058,
                    0.1692307692307692,
                    0.23586744639376217,
                    0.11888111888111888,
                    0.17206477732793524,
                    0.12079510703363913,
                    0.11079943899018233,
                    0.14638157894736845,
                    0.12482468443197757,
                    0.14738805970149252,
                    0.11079943899018233,
                    0.1639676113360324,
                    0.11360448807854139,
                    0.1314984709480122,
                    0.14144736842105263,
                    0.12232415902140673,
                    0.1705756929637527,
                    0.16374269005847952,
                    0.15671641791044774
                  ],
                  "yaxis": "y"
                }
              ],
              "layout": {
                "coloraxis": {
                  "colorbar": {
                    "title": {
                      "text": "lift"
                    }
                  },
                  "colorscale": [
                    [
                      0,
                      "#0d0887"
                    ],
                    [
                      0.1111111111111111,
                      "#46039f"
                    ],
                    [
                      0.2222222222222222,
                      "#7201a8"
                    ],
                    [
                      0.3333333333333333,
                      "#9c179e"
                    ],
                    [
                      0.4444444444444444,
                      "#bd3786"
                    ],
                    [
                      0.5555555555555556,
                      "#d8576b"
                    ],
                    [
                      0.6666666666666666,
                      "#ed7953"
                    ],
                    [
                      0.7777777777777778,
                      "#fb9f3a"
                    ],
                    [
                      0.8888888888888888,
                      "#fdca26"
                    ],
                    [
                      1,
                      "#f0f921"
                    ]
                  ]
                },
                "legend": {
                  "itemsizing": "constant",
                  "tracegroupgap": 0
                },
                "margin": {
                  "t": 60
                },
                "template": {
                  "data": {
                    "bar": [
                      {
                        "error_x": {
                          "color": "#2a3f5f"
                        },
                        "error_y": {
                          "color": "#2a3f5f"
                        },
                        "marker": {
                          "line": {
                            "color": "#E5ECF6",
                            "width": 0.5
                          },
                          "pattern": {
                            "fillmode": "overlay",
                            "size": 10,
                            "solidity": 0.2
                          }
                        },
                        "type": "bar"
                      }
                    ],
                    "barpolar": [
                      {
                        "marker": {
                          "line": {
                            "color": "#E5ECF6",
                            "width": 0.5
                          },
                          "pattern": {
                            "fillmode": "overlay",
                            "size": 10,
                            "solidity": 0.2
                          }
                        },
                        "type": "barpolar"
                      }
                    ],
                    "carpet": [
                      {
                        "aaxis": {
                          "endlinecolor": "#2a3f5f",
                          "gridcolor": "white",
                          "linecolor": "white",
                          "minorgridcolor": "white",
                          "startlinecolor": "#2a3f5f"
                        },
                        "baxis": {
                          "endlinecolor": "#2a3f5f",
                          "gridcolor": "white",
                          "linecolor": "white",
                          "minorgridcolor": "white",
                          "startlinecolor": "#2a3f5f"
                        },
                        "type": "carpet"
                      }
                    ],
                    "choropleth": [
                      {
                        "colorbar": {
                          "outlinewidth": 0,
                          "ticks": ""
                        },
                        "type": "choropleth"
                      }
                    ],
                    "contour": [
                      {
                        "colorbar": {
                          "outlinewidth": 0,
                          "ticks": ""
                        },
                        "colorscale": [
                          [
                            0,
                            "#0d0887"
                          ],
                          [
                            0.1111111111111111,
                            "#46039f"
                          ],
                          [
                            0.2222222222222222,
                            "#7201a8"
                          ],
                          [
                            0.3333333333333333,
                            "#9c179e"
                          ],
                          [
                            0.4444444444444444,
                            "#bd3786"
                          ],
                          [
                            0.5555555555555556,
                            "#d8576b"
                          ],
                          [
                            0.6666666666666666,
                            "#ed7953"
                          ],
                          [
                            0.7777777777777778,
                            "#fb9f3a"
                          ],
                          [
                            0.8888888888888888,
                            "#fdca26"
                          ],
                          [
                            1,
                            "#f0f921"
                          ]
                        ],
                        "type": "contour"
                      }
                    ],
                    "contourcarpet": [
                      {
                        "colorbar": {
                          "outlinewidth": 0,
                          "ticks": ""
                        },
                        "type": "contourcarpet"
                      }
                    ],
                    "heatmap": [
                      {
                        "colorbar": {
                          "outlinewidth": 0,
                          "ticks": ""
                        },
                        "colorscale": [
                          [
                            0,
                            "#0d0887"
                          ],
                          [
                            0.1111111111111111,
                            "#46039f"
                          ],
                          [
                            0.2222222222222222,
                            "#7201a8"
                          ],
                          [
                            0.3333333333333333,
                            "#9c179e"
                          ],
                          [
                            0.4444444444444444,
                            "#bd3786"
                          ],
                          [
                            0.5555555555555556,
                            "#d8576b"
                          ],
                          [
                            0.6666666666666666,
                            "#ed7953"
                          ],
                          [
                            0.7777777777777778,
                            "#fb9f3a"
                          ],
                          [
                            0.8888888888888888,
                            "#fdca26"
                          ],
                          [
                            1,
                            "#f0f921"
                          ]
                        ],
                        "type": "heatmap"
                      }
                    ],
                    "heatmapgl": [
                      {
                        "colorbar": {
                          "outlinewidth": 0,
                          "ticks": ""
                        },
                        "colorscale": [
                          [
                            0,
                            "#0d0887"
                          ],
                          [
                            0.1111111111111111,
                            "#46039f"
                          ],
                          [
                            0.2222222222222222,
                            "#7201a8"
                          ],
                          [
                            0.3333333333333333,
                            "#9c179e"
                          ],
                          [
                            0.4444444444444444,
                            "#bd3786"
                          ],
                          [
                            0.5555555555555556,
                            "#d8576b"
                          ],
                          [
                            0.6666666666666666,
                            "#ed7953"
                          ],
                          [
                            0.7777777777777778,
                            "#fb9f3a"
                          ],
                          [
                            0.8888888888888888,
                            "#fdca26"
                          ],
                          [
                            1,
                            "#f0f921"
                          ]
                        ],
                        "type": "heatmapgl"
                      }
                    ],
                    "histogram": [
                      {
                        "marker": {
                          "pattern": {
                            "fillmode": "overlay",
                            "size": 10,
                            "solidity": 0.2
                          }
                        },
                        "type": "histogram"
                      }
                    ],
                    "histogram2d": [
                      {
                        "colorbar": {
                          "outlinewidth": 0,
                          "ticks": ""
                        },
                        "colorscale": [
                          [
                            0,
                            "#0d0887"
                          ],
                          [
                            0.1111111111111111,
                            "#46039f"
                          ],
                          [
                            0.2222222222222222,
                            "#7201a8"
                          ],
                          [
                            0.3333333333333333,
                            "#9c179e"
                          ],
                          [
                            0.4444444444444444,
                            "#bd3786"
                          ],
                          [
                            0.5555555555555556,
                            "#d8576b"
                          ],
                          [
                            0.6666666666666666,
                            "#ed7953"
                          ],
                          [
                            0.7777777777777778,
                            "#fb9f3a"
                          ],
                          [
                            0.8888888888888888,
                            "#fdca26"
                          ],
                          [
                            1,
                            "#f0f921"
                          ]
                        ],
                        "type": "histogram2d"
                      }
                    ],
                    "histogram2dcontour": [
                      {
                        "colorbar": {
                          "outlinewidth": 0,
                          "ticks": ""
                        },
                        "colorscale": [
                          [
                            0,
                            "#0d0887"
                          ],
                          [
                            0.1111111111111111,
                            "#46039f"
                          ],
                          [
                            0.2222222222222222,
                            "#7201a8"
                          ],
                          [
                            0.3333333333333333,
                            "#9c179e"
                          ],
                          [
                            0.4444444444444444,
                            "#bd3786"
                          ],
                          [
                            0.5555555555555556,
                            "#d8576b"
                          ],
                          [
                            0.6666666666666666,
                            "#ed7953"
                          ],
                          [
                            0.7777777777777778,
                            "#fb9f3a"
                          ],
                          [
                            0.8888888888888888,
                            "#fdca26"
                          ],
                          [
                            1,
                            "#f0f921"
                          ]
                        ],
                        "type": "histogram2dcontour"
                      }
                    ],
                    "mesh3d": [
                      {
                        "colorbar": {
                          "outlinewidth": 0,
                          "ticks": ""
                        },
                        "type": "mesh3d"
                      }
                    ],
                    "parcoords": [
                      {
                        "line": {
                          "colorbar": {
                            "outlinewidth": 0,
                            "ticks": ""
                          }
                        },
                        "type": "parcoords"
                      }
                    ],
                    "pie": [
                      {
                        "automargin": true,
                        "type": "pie"
                      }
                    ],
                    "scatter": [
                      {
                        "fillpattern": {
                          "fillmode": "overlay",
                          "size": 10,
                          "solidity": 0.2
                        },
                        "type": "scatter"
                      }
                    ],
                    "scatter3d": [
                      {
                        "line": {
                          "colorbar": {
                            "outlinewidth": 0,
                            "ticks": ""
                          }
                        },
                        "marker": {
                          "colorbar": {
                            "outlinewidth": 0,
                            "ticks": ""
                          }
                        },
                        "type": "scatter3d"
                      }
                    ],
                    "scattercarpet": [
                      {
                        "marker": {
                          "colorbar": {
                            "outlinewidth": 0,
                            "ticks": ""
                          }
                        },
                        "type": "scattercarpet"
                      }
                    ],
                    "scattergeo": [
                      {
                        "marker": {
                          "colorbar": {
                            "outlinewidth": 0,
                            "ticks": ""
                          }
                        },
                        "type": "scattergeo"
                      }
                    ],
                    "scattergl": [
                      {
                        "marker": {
                          "colorbar": {
                            "outlinewidth": 0,
                            "ticks": ""
                          }
                        },
                        "type": "scattergl"
                      }
                    ],
                    "scattermapbox": [
                      {
                        "marker": {
                          "colorbar": {
                            "outlinewidth": 0,
                            "ticks": ""
                          }
                        },
                        "type": "scattermapbox"
                      }
                    ],
                    "scatterpolar": [
                      {
                        "marker": {
                          "colorbar": {
                            "outlinewidth": 0,
                            "ticks": ""
                          }
                        },
                        "type": "scatterpolar"
                      }
                    ],
                    "scatterpolargl": [
                      {
                        "marker": {
                          "colorbar": {
                            "outlinewidth": 0,
                            "ticks": ""
                          }
                        },
                        "type": "scatterpolargl"
                      }
                    ],
                    "scatterternary": [
                      {
                        "marker": {
                          "colorbar": {
                            "outlinewidth": 0,
                            "ticks": ""
                          }
                        },
                        "type": "scatterternary"
                      }
                    ],
                    "surface": [
                      {
                        "colorbar": {
                          "outlinewidth": 0,
                          "ticks": ""
                        },
                        "colorscale": [
                          [
                            0,
                            "#0d0887"
                          ],
                          [
                            0.1111111111111111,
                            "#46039f"
                          ],
                          [
                            0.2222222222222222,
                            "#7201a8"
                          ],
                          [
                            0.3333333333333333,
                            "#9c179e"
                          ],
                          [
                            0.4444444444444444,
                            "#bd3786"
                          ],
                          [
                            0.5555555555555556,
                            "#d8576b"
                          ],
                          [
                            0.6666666666666666,
                            "#ed7953"
                          ],
                          [
                            0.7777777777777778,
                            "#fb9f3a"
                          ],
                          [
                            0.8888888888888888,
                            "#fdca26"
                          ],
                          [
                            1,
                            "#f0f921"
                          ]
                        ],
                        "type": "surface"
                      }
                    ],
                    "table": [
                      {
                        "cells": {
                          "fill": {
                            "color": "#EBF0F8"
                          },
                          "line": {
                            "color": "white"
                          }
                        },
                        "header": {
                          "fill": {
                            "color": "#C8D4E3"
                          },
                          "line": {
                            "color": "white"
                          }
                        },
                        "type": "table"
                      }
                    ]
                  },
                  "layout": {
                    "annotationdefaults": {
                      "arrowcolor": "#2a3f5f",
                      "arrowhead": 0,
                      "arrowwidth": 1
                    },
                    "autotypenumbers": "strict",
                    "coloraxis": {
                      "colorbar": {
                        "outlinewidth": 0,
                        "ticks": ""
                      }
                    },
                    "colorscale": {
                      "diverging": [
                        [
                          0,
                          "#8e0152"
                        ],
                        [
                          0.1,
                          "#c51b7d"
                        ],
                        [
                          0.2,
                          "#de77ae"
                        ],
                        [
                          0.3,
                          "#f1b6da"
                        ],
                        [
                          0.4,
                          "#fde0ef"
                        ],
                        [
                          0.5,
                          "#f7f7f7"
                        ],
                        [
                          0.6,
                          "#e6f5d0"
                        ],
                        [
                          0.7,
                          "#b8e186"
                        ],
                        [
                          0.8,
                          "#7fbc41"
                        ],
                        [
                          0.9,
                          "#4d9221"
                        ],
                        [
                          1,
                          "#276419"
                        ]
                      ],
                      "sequential": [
                        [
                          0,
                          "#0d0887"
                        ],
                        [
                          0.1111111111111111,
                          "#46039f"
                        ],
                        [
                          0.2222222222222222,
                          "#7201a8"
                        ],
                        [
                          0.3333333333333333,
                          "#9c179e"
                        ],
                        [
                          0.4444444444444444,
                          "#bd3786"
                        ],
                        [
                          0.5555555555555556,
                          "#d8576b"
                        ],
                        [
                          0.6666666666666666,
                          "#ed7953"
                        ],
                        [
                          0.7777777777777778,
                          "#fb9f3a"
                        ],
                        [
                          0.8888888888888888,
                          "#fdca26"
                        ],
                        [
                          1,
                          "#f0f921"
                        ]
                      ],
                      "sequentialminus": [
                        [
                          0,
                          "#0d0887"
                        ],
                        [
                          0.1111111111111111,
                          "#46039f"
                        ],
                        [
                          0.2222222222222222,
                          "#7201a8"
                        ],
                        [
                          0.3333333333333333,
                          "#9c179e"
                        ],
                        [
                          0.4444444444444444,
                          "#bd3786"
                        ],
                        [
                          0.5555555555555556,
                          "#d8576b"
                        ],
                        [
                          0.6666666666666666,
                          "#ed7953"
                        ],
                        [
                          0.7777777777777778,
                          "#fb9f3a"
                        ],
                        [
                          0.8888888888888888,
                          "#fdca26"
                        ],
                        [
                          1,
                          "#f0f921"
                        ]
                      ]
                    },
                    "colorway": [
                      "#636efa",
                      "#EF553B",
                      "#00cc96",
                      "#ab63fa",
                      "#FFA15A",
                      "#19d3f3",
                      "#FF6692",
                      "#B6E880",
                      "#FF97FF",
                      "#FECB52"
                    ],
                    "font": {
                      "color": "#2a3f5f"
                    },
                    "geo": {
                      "bgcolor": "white",
                      "lakecolor": "white",
                      "landcolor": "#E5ECF6",
                      "showlakes": true,
                      "showland": true,
                      "subunitcolor": "white"
                    },
                    "hoverlabel": {
                      "align": "left"
                    },
                    "hovermode": "closest",
                    "mapbox": {
                      "style": "light"
                    },
                    "paper_bgcolor": "white",
                    "plot_bgcolor": "#E5ECF6",
                    "polar": {
                      "angularaxis": {
                        "gridcolor": "white",
                        "linecolor": "white",
                        "ticks": ""
                      },
                      "bgcolor": "#E5ECF6",
                      "radialaxis": {
                        "gridcolor": "white",
                        "linecolor": "white",
                        "ticks": ""
                      }
                    },
                    "scene": {
                      "xaxis": {
                        "backgroundcolor": "#E5ECF6",
                        "gridcolor": "white",
                        "gridwidth": 2,
                        "linecolor": "white",
                        "showbackground": true,
                        "ticks": "",
                        "zerolinecolor": "white"
                      },
                      "yaxis": {
                        "backgroundcolor": "#E5ECF6",
                        "gridcolor": "white",
                        "gridwidth": 2,
                        "linecolor": "white",
                        "showbackground": true,
                        "ticks": "",
                        "zerolinecolor": "white"
                      },
                      "zaxis": {
                        "backgroundcolor": "#E5ECF6",
                        "gridcolor": "white",
                        "gridwidth": 2,
                        "linecolor": "white",
                        "showbackground": true,
                        "ticks": "",
                        "zerolinecolor": "white"
                      }
                    },
                    "shapedefaults": {
                      "line": {
                        "color": "#2a3f5f"
                      }
                    },
                    "ternary": {
                      "aaxis": {
                        "gridcolor": "white",
                        "linecolor": "white",
                        "ticks": ""
                      },
                      "baxis": {
                        "gridcolor": "white",
                        "linecolor": "white",
                        "ticks": ""
                      },
                      "bgcolor": "#E5ECF6",
                      "caxis": {
                        "gridcolor": "white",
                        "linecolor": "white",
                        "ticks": ""
                      }
                    },
                    "title": {
                      "x": 0.05
                    },
                    "xaxis": {
                      "automargin": true,
                      "gridcolor": "white",
                      "linecolor": "white",
                      "ticks": "",
                      "title": {
                        "standoff": 15
                      },
                      "zerolinecolor": "white",
                      "zerolinewidth": 2
                    },
                    "yaxis": {
                      "automargin": true,
                      "gridcolor": "white",
                      "linecolor": "white",
                      "ticks": "",
                      "title": {
                        "standoff": 15
                      },
                      "zerolinecolor": "white",
                      "zerolinewidth": 2
                    }
                  }
                },
                "width": 800,
                "xaxis": {
                  "anchor": "y",
                  "domain": [
                    0,
                    1
                  ],
                  "title": {
                    "text": "support"
                  }
                },
                "yaxis": {
                  "anchor": "x",
                  "domain": [
                    0,
                    1
                  ],
                  "title": {
                    "text": "confidence"
                  }
                }
              }
            }
          },
          "metadata": {},
          "output_type": "display_data"
        }
      ],
      "source": [
        "import plotly.express as px\n",
        "fig = px.scatter(rules, x=\"support\", y=\"confidence\",size='lift',size_max=10,hover_data=['antecedent','consequent'],width=800, color='lift')\n",
        "fig.show()"
      ]
    },
    {
      "cell_type": "code",
      "execution_count": 88,
      "metadata": {
        "id": "GH6dVYYvpOgI"
      },
      "outputs": [],
      "source": [
        "# Reglas sin considerar al agua mineral\n",
        "rules_alt = rules[~rules[\"consequents\"].str.contains(\"mineral water\", regex=False) &\n",
        "      ~rules[\"antecedents\"].str.contains(\"mineral water\", regex=False)]"
      ]
    },
    {
      "cell_type": "code",
      "execution_count": 89,
      "metadata": {
        "colab": {
          "base_uri": "https://localhost:8080/",
          "height": 206
        },
        "id": "Jpfqp4CIpsJ4",
        "outputId": "e91cdb18-4535-4bda-d087-47c162667479"
      },
      "outputs": [
        {
          "data": {
            "text/html": [
              "<div>\n",
              "<style scoped>\n",
              "    .dataframe tbody tr th:only-of-type {\n",
              "        vertical-align: middle;\n",
              "    }\n",
              "\n",
              "    .dataframe tbody tr th {\n",
              "        vertical-align: top;\n",
              "    }\n",
              "\n",
              "    .dataframe thead th {\n",
              "        text-align: right;\n",
              "    }\n",
              "</style>\n",
              "<table border=\"1\" class=\"dataframe\">\n",
              "  <thead>\n",
              "    <tr style=\"text-align: right;\">\n",
              "      <th></th>\n",
              "      <th>antecedents</th>\n",
              "      <th>consequents</th>\n",
              "      <th>antecedent support</th>\n",
              "      <th>consequent support</th>\n",
              "      <th>support</th>\n",
              "      <th>confidence</th>\n",
              "      <th>lift</th>\n",
              "      <th>leverage</th>\n",
              "      <th>conviction</th>\n",
              "      <th>zhangs_metric</th>\n",
              "      <th>antecedent</th>\n",
              "      <th>consequent</th>\n",
              "      <th>rule</th>\n",
              "    </tr>\n",
              "  </thead>\n",
              "  <tbody>\n",
              "    <tr>\n",
              "      <th>0</th>\n",
              "      <td>(chocolate)</td>\n",
              "      <td>(french fries)</td>\n",
              "      <td>0.163845</td>\n",
              "      <td>0.170911</td>\n",
              "      <td>0.034395</td>\n",
              "      <td>0.209927</td>\n",
              "      <td>1.228284</td>\n",
              "      <td>0.006393</td>\n",
              "      <td>1.049383</td>\n",
              "      <td>0.222275</td>\n",
              "      <td>chocolate</td>\n",
              "      <td>french fries</td>\n",
              "      <td>0</td>\n",
              "    </tr>\n",
              "    <tr>\n",
              "      <th>1</th>\n",
              "      <td>(french fries)</td>\n",
              "      <td>(chocolate)</td>\n",
              "      <td>0.170911</td>\n",
              "      <td>0.163845</td>\n",
              "      <td>0.034395</td>\n",
              "      <td>0.201248</td>\n",
              "      <td>1.228284</td>\n",
              "      <td>0.006393</td>\n",
              "      <td>1.046827</td>\n",
              "      <td>0.224169</td>\n",
              "      <td>french fries</td>\n",
              "      <td>chocolate</td>\n",
              "      <td>1</td>\n",
              "    </tr>\n",
              "    <tr>\n",
              "      <th>2</th>\n",
              "      <td>(french fries)</td>\n",
              "      <td>(green tea)</td>\n",
              "      <td>0.170911</td>\n",
              "      <td>0.132116</td>\n",
              "      <td>0.028530</td>\n",
              "      <td>0.166927</td>\n",
              "      <td>1.263488</td>\n",
              "      <td>0.005950</td>\n",
              "      <td>1.041786</td>\n",
              "      <td>0.251529</td>\n",
              "      <td>french fries</td>\n",
              "      <td>green tea</td>\n",
              "      <td>2</td>\n",
              "    </tr>\n",
              "    <tr>\n",
              "      <th>3</th>\n",
              "      <td>(green tea)</td>\n",
              "      <td>(french fries)</td>\n",
              "      <td>0.132116</td>\n",
              "      <td>0.170911</td>\n",
              "      <td>0.028530</td>\n",
              "      <td>0.215943</td>\n",
              "      <td>1.263488</td>\n",
              "      <td>0.005950</td>\n",
              "      <td>1.057436</td>\n",
              "      <td>0.240286</td>\n",
              "      <td>green tea</td>\n",
              "      <td>french fries</td>\n",
              "      <td>3</td>\n",
              "    </tr>\n",
              "    <tr>\n",
              "      <th>4</th>\n",
              "      <td>(milk)</td>\n",
              "      <td>(french fries)</td>\n",
              "      <td>0.129583</td>\n",
              "      <td>0.170911</td>\n",
              "      <td>0.023730</td>\n",
              "      <td>0.183128</td>\n",
              "      <td>1.071482</td>\n",
              "      <td>0.001583</td>\n",
              "      <td>1.014956</td>\n",
              "      <td>0.076645</td>\n",
              "      <td>milk</td>\n",
              "      <td>french fries</td>\n",
              "      <td>4</td>\n",
              "    </tr>\n",
              "  </tbody>\n",
              "</table>\n",
              "</div>"
            ],
            "text/plain": [
              "      antecedents     consequents  antecedent support  consequent support  \\\n",
              "0     (chocolate)  (french fries)            0.163845            0.170911   \n",
              "1  (french fries)     (chocolate)            0.170911            0.163845   \n",
              "2  (french fries)     (green tea)            0.170911            0.132116   \n",
              "3     (green tea)  (french fries)            0.132116            0.170911   \n",
              "4          (milk)  (french fries)            0.129583            0.170911   \n",
              "\n",
              "    support  confidence      lift  leverage  conviction  zhangs_metric  \\\n",
              "0  0.034395    0.209927  1.228284  0.006393    1.049383       0.222275   \n",
              "1  0.034395    0.201248  1.228284  0.006393    1.046827       0.224169   \n",
              "2  0.028530    0.166927  1.263488  0.005950    1.041786       0.251529   \n",
              "3  0.028530    0.215943  1.263488  0.005950    1.057436       0.240286   \n",
              "4  0.023730    0.183128  1.071482  0.001583    1.014956       0.076645   \n",
              "\n",
              "     antecedent    consequent  rule  \n",
              "0     chocolate  french fries     0  \n",
              "1  french fries     chocolate     1  \n",
              "2  french fries     green tea     2  \n",
              "3     green tea  french fries     3  \n",
              "4          milk  french fries     4  "
            ]
          },
          "execution_count": 89,
          "metadata": {},
          "output_type": "execute_result"
        }
      ],
      "source": [
        "rules_alt.head()"
      ]
    },
    {
      "cell_type": "code",
      "execution_count": 90,
      "metadata": {
        "colab": {
          "base_uri": "https://localhost:8080/"
        },
        "id": "oPpWGooapx2u",
        "outputId": "4eca28a1-76dd-4d0d-f1ea-134d9f479a80"
      },
      "outputs": [
        {
          "data": {
            "text/plain": [
              "antecedents           0\n",
              "consequents           0\n",
              "antecedent support    0\n",
              "consequent support    0\n",
              "support               0\n",
              "confidence            0\n",
              "lift                  0\n",
              "leverage              0\n",
              "conviction            0\n",
              "zhangs_metric         0\n",
              "antecedent            0\n",
              "consequent            0\n",
              "rule                  0\n",
              "dtype: int64"
            ]
          },
          "execution_count": 90,
          "metadata": {},
          "output_type": "execute_result"
        }
      ],
      "source": [
        "rules_alt.isna().sum()"
      ]
    },
    {
      "cell_type": "code",
      "execution_count": 91,
      "metadata": {
        "colab": {
          "base_uri": "https://localhost:8080/",
          "height": 542
        },
        "id": "F3_Hd5XDpSO_",
        "outputId": "1553fb94-8f6c-4002-b48c-19026076d3d3"
      },
      "outputs": [
        {
          "data": {
            "application/vnd.plotly.v1+json": {
              "config": {
                "plotlyServerURL": "https://plot.ly"
              },
              "data": [
                {
                  "customdata": [
                    [
                      "chocolate",
                      "french fries"
                    ],
                    [
                      "french fries",
                      "chocolate"
                    ],
                    [
                      "french fries",
                      "green tea"
                    ],
                    [
                      "green tea",
                      "french fries"
                    ],
                    [
                      "milk",
                      "french fries"
                    ],
                    [
                      "french fries",
                      "milk"
                    ],
                    [
                      "ground beef",
                      "french fries"
                    ],
                    [
                      "french fries",
                      "ground beef"
                    ],
                    [
                      "frozen vegetables",
                      "french fries"
                    ],
                    [
                      "french fries",
                      "frozen vegetables"
                    ],
                    [
                      "french fries",
                      "pancakes"
                    ],
                    [
                      "pancakes",
                      "french fries"
                    ],
                    [
                      "burgers",
                      "french fries"
                    ],
                    [
                      "french fries",
                      "burgers"
                    ],
                    [
                      "cake",
                      "french fries"
                    ],
                    [
                      "french fries",
                      "cake"
                    ],
                    [
                      "cookies",
                      "french fries"
                    ],
                    [
                      "french fries",
                      "cookies"
                    ],
                    [
                      "escalope",
                      "french fries"
                    ],
                    [
                      "french fries",
                      "escalope"
                    ],
                    [
                      "low fat yogurt",
                      "french fries"
                    ],
                    [
                      "french fries",
                      "low fat yogurt"
                    ],
                    [
                      "tomatoes",
                      "french fries"
                    ],
                    [
                      "french fries",
                      "tomatoes"
                    ],
                    [
                      "french fries",
                      "frozen smoothie"
                    ],
                    [
                      "frozen smoothie",
                      "french fries"
                    ],
                    [
                      "french fries",
                      "turkey"
                    ],
                    [
                      "turkey",
                      "french fries"
                    ],
                    [
                      "french fries",
                      "chicken"
                    ],
                    [
                      "chicken",
                      "french fries"
                    ],
                    [
                      "whole wheat rice",
                      "french fries"
                    ],
                    [
                      "french fries",
                      "whole wheat rice"
                    ],
                    [
                      "french fries",
                      "grated cheese"
                    ],
                    [
                      "grated cheese",
                      "french fries"
                    ],
                    [
                      "chocolate",
                      "green tea"
                    ],
                    [
                      "green tea",
                      "chocolate"
                    ],
                    [
                      "chocolate",
                      "milk"
                    ],
                    [
                      "milk",
                      "chocolate"
                    ],
                    [
                      "chocolate",
                      "ground beef"
                    ],
                    [
                      "ground beef",
                      "chocolate"
                    ],
                    [
                      "chocolate",
                      "frozen vegetables"
                    ],
                    [
                      "frozen vegetables",
                      "chocolate"
                    ],
                    [
                      "chocolate",
                      "pancakes"
                    ],
                    [
                      "pancakes",
                      "chocolate"
                    ],
                    [
                      "chocolate",
                      "burgers"
                    ],
                    [
                      "burgers",
                      "chocolate"
                    ],
                    [
                      "chocolate",
                      "cake"
                    ],
                    [
                      "cake",
                      "chocolate"
                    ],
                    [
                      "cookies",
                      "chocolate"
                    ],
                    [
                      "chocolate",
                      "cookies"
                    ],
                    [
                      "chocolate",
                      "escalope"
                    ],
                    [
                      "escalope",
                      "chocolate"
                    ],
                    [
                      "low fat yogurt",
                      "chocolate"
                    ],
                    [
                      "chocolate",
                      "low fat yogurt"
                    ],
                    [
                      "chocolate",
                      "shrimp"
                    ],
                    [
                      "shrimp",
                      "chocolate"
                    ],
                    [
                      "chocolate",
                      "tomatoes"
                    ],
                    [
                      "tomatoes",
                      "chocolate"
                    ],
                    [
                      "chocolate",
                      "olive oil"
                    ],
                    [
                      "olive oil",
                      "chocolate"
                    ],
                    [
                      "chocolate",
                      "frozen smoothie"
                    ],
                    [
                      "frozen smoothie",
                      "chocolate"
                    ],
                    [
                      "chocolate",
                      "turkey"
                    ],
                    [
                      "turkey",
                      "chocolate"
                    ],
                    [
                      "chocolate",
                      "chicken"
                    ],
                    [
                      "chicken",
                      "chocolate"
                    ],
                    [
                      "chocolate",
                      "whole wheat rice"
                    ],
                    [
                      "whole wheat rice",
                      "chocolate"
                    ],
                    [
                      "chocolate",
                      "grated cheese"
                    ],
                    [
                      "grated cheese",
                      "chocolate"
                    ],
                    [
                      "chocolate",
                      "cooking oil"
                    ],
                    [
                      "cooking oil",
                      "chocolate"
                    ],
                    [
                      "chocolate",
                      "soup"
                    ],
                    [
                      "soup",
                      "chocolate"
                    ],
                    [
                      "chocolate",
                      "champagne"
                    ],
                    [
                      "champagne",
                      "chocolate"
                    ],
                    [
                      "chocolate",
                      "salmon"
                    ],
                    [
                      "salmon",
                      "chocolate"
                    ],
                    [
                      "milk",
                      "green tea"
                    ],
                    [
                      "green tea",
                      "milk"
                    ],
                    [
                      "ground beef",
                      "green tea"
                    ],
                    [
                      "green tea",
                      "ground beef"
                    ],
                    [
                      "frozen vegetables",
                      "green tea"
                    ],
                    [
                      "green tea",
                      "frozen vegetables"
                    ],
                    [
                      "pancakes",
                      "green tea"
                    ],
                    [
                      "green tea",
                      "pancakes"
                    ],
                    [
                      "burgers",
                      "green tea"
                    ],
                    [
                      "green tea",
                      "burgers"
                    ],
                    [
                      "cake",
                      "green tea"
                    ],
                    [
                      "green tea",
                      "cake"
                    ],
                    [
                      "cookies",
                      "green tea"
                    ],
                    [
                      "green tea",
                      "cookies"
                    ],
                    [
                      "shrimp",
                      "green tea"
                    ],
                    [
                      "green tea",
                      "shrimp"
                    ],
                    [
                      "tomatoes",
                      "green tea"
                    ],
                    [
                      "green tea",
                      "tomatoes"
                    ],
                    [
                      "frozen smoothie",
                      "green tea"
                    ],
                    [
                      "green tea",
                      "frozen smoothie"
                    ],
                    [
                      "turkey",
                      "green tea"
                    ],
                    [
                      "green tea",
                      "turkey"
                    ],
                    [
                      "chicken",
                      "green tea"
                    ],
                    [
                      "green tea",
                      "chicken"
                    ],
                    [
                      "milk",
                      "ground beef"
                    ],
                    [
                      "ground beef",
                      "milk"
                    ],
                    [
                      "milk",
                      "frozen vegetables"
                    ],
                    [
                      "frozen vegetables",
                      "milk"
                    ],
                    [
                      "milk",
                      "pancakes"
                    ],
                    [
                      "pancakes",
                      "milk"
                    ],
                    [
                      "milk",
                      "burgers"
                    ],
                    [
                      "burgers",
                      "milk"
                    ],
                    [
                      "milk",
                      "cake"
                    ],
                    [
                      "cake",
                      "milk"
                    ],
                    [
                      "low fat yogurt",
                      "milk"
                    ],
                    [
                      "milk",
                      "low fat yogurt"
                    ],
                    [
                      "milk",
                      "shrimp"
                    ],
                    [
                      "shrimp",
                      "milk"
                    ],
                    [
                      "milk",
                      "tomatoes"
                    ],
                    [
                      "tomatoes",
                      "milk"
                    ],
                    [
                      "milk",
                      "olive oil"
                    ],
                    [
                      "olive oil",
                      "milk"
                    ],
                    [
                      "milk",
                      "frozen smoothie"
                    ],
                    [
                      "frozen smoothie",
                      "milk"
                    ],
                    [
                      "milk",
                      "turkey"
                    ],
                    [
                      "turkey",
                      "milk"
                    ],
                    [
                      "milk",
                      "chicken"
                    ],
                    [
                      "chicken",
                      "milk"
                    ],
                    [
                      "whole wheat rice",
                      "milk"
                    ],
                    [
                      "milk",
                      "whole wheat rice"
                    ],
                    [
                      "milk",
                      "cooking oil"
                    ],
                    [
                      "cooking oil",
                      "milk"
                    ],
                    [
                      "milk",
                      "soup"
                    ],
                    [
                      "soup",
                      "milk"
                    ],
                    [
                      "ground beef",
                      "frozen vegetables"
                    ],
                    [
                      "frozen vegetables",
                      "ground beef"
                    ],
                    [
                      "ground beef",
                      "pancakes"
                    ],
                    [
                      "pancakes",
                      "ground beef"
                    ],
                    [
                      "ground beef",
                      "burgers"
                    ],
                    [
                      "burgers",
                      "ground beef"
                    ],
                    [
                      "ground beef",
                      "shrimp"
                    ],
                    [
                      "shrimp",
                      "ground beef"
                    ],
                    [
                      "ground beef",
                      "tomatoes"
                    ],
                    [
                      "tomatoes",
                      "ground beef"
                    ],
                    [
                      "ground beef",
                      "olive oil"
                    ],
                    [
                      "olive oil",
                      "ground beef"
                    ],
                    [
                      "ground beef",
                      "grated cheese"
                    ],
                    [
                      "grated cheese",
                      "ground beef"
                    ],
                    [
                      "herb & pepper",
                      "ground beef"
                    ],
                    [
                      "ground beef",
                      "herb & pepper"
                    ],
                    [
                      "frozen vegetables",
                      "pancakes"
                    ],
                    [
                      "pancakes",
                      "frozen vegetables"
                    ],
                    [
                      "frozen vegetables",
                      "burgers"
                    ],
                    [
                      "burgers",
                      "frozen vegetables"
                    ],
                    [
                      "frozen vegetables",
                      "cake"
                    ],
                    [
                      "cake",
                      "frozen vegetables"
                    ],
                    [
                      "low fat yogurt",
                      "frozen vegetables"
                    ],
                    [
                      "frozen vegetables",
                      "low fat yogurt"
                    ],
                    [
                      "frozen vegetables",
                      "shrimp"
                    ],
                    [
                      "shrimp",
                      "frozen vegetables"
                    ],
                    [
                      "frozen vegetables",
                      "tomatoes"
                    ],
                    [
                      "tomatoes",
                      "frozen vegetables"
                    ],
                    [
                      "frozen vegetables",
                      "olive oil"
                    ],
                    [
                      "olive oil",
                      "frozen vegetables"
                    ],
                    [
                      "burgers",
                      "pancakes"
                    ],
                    [
                      "pancakes",
                      "burgers"
                    ],
                    [
                      "cake",
                      "pancakes"
                    ],
                    [
                      "pancakes",
                      "cake"
                    ],
                    [
                      "shrimp",
                      "pancakes"
                    ],
                    [
                      "pancakes",
                      "shrimp"
                    ],
                    [
                      "olive oil",
                      "pancakes"
                    ],
                    [
                      "pancakes",
                      "olive oil"
                    ],
                    [
                      "burgers",
                      "cake"
                    ],
                    [
                      "cake",
                      "burgers"
                    ],
                    [
                      "burgers",
                      "turkey"
                    ],
                    [
                      "turkey",
                      "burgers"
                    ],
                    [
                      "tomatoes",
                      "shrimp"
                    ],
                    [
                      "shrimp",
                      "tomatoes"
                    ]
                  ],
                  "hovertemplate": "support=%{x}<br>confidence=%{y}<br>lift=%{marker.size}<br>antecedent=%{customdata[0]}<br>consequent=%{customdata[1]}<br>zhangs_metric=%{marker.color}<extra></extra>",
                  "legendgroup": "",
                  "marker": {
                    "color": [
                      0.22227495649422555,
                      0.22416924379028505,
                      0.2515294552569531,
                      0.24028597269477592,
                      0.07664508046210446,
                      0.08046562636068179,
                      -0.18974044732349965,
                      -0.20299295384137625,
                      0.16077217801355737,
                      0.17543013346197142,
                      0.23276777318812575,
                      0.2132561551940121,
                      0.3533836982354581,
                      0.3890686897922787,
                      0.24432963573255165,
                      0.27080948369584795,
                      -0.032193796948702454,
                      -0.03558368974918024,
                      0.18816323263145762,
                      0.20894923372774502,
                      0.02054569077522762,
                      0.02288470815243636,
                      0.027704636519748166,
                      0.0311304068178164,
                      0.30781520377770993,
                      0.27245982810896363,
                      -0.0023621510413114376,
                      -0.002089623193753005,
                      0.08850258729079374,
                      0.07805950792248567,
                      0.053380725508964,
                      0.06061660774148638,
                      0.16750157705295207,
                      0.14655209731180488,
                      0.09261671643089055,
                      0.0892307289484709,
                      0.4056446619104072,
                      0.38967733489080625,
                      0.3611795151586646,
                      0.3349080306143028,
                      0.3813896016255338,
                      0.35250155929787036,
                      0.2582822558553623,
                      0.2386485428292328,
                      0.19476692044005078,
                      0.1784107090696653,
                      0.027933048219287625,
                      0.02541652088080255,
                      -0.22477966380089132,
                      -0.24179007323026855,
                      0.3126896355132962,
                      0.28398340485655865,
                      0.16538626109869084,
                      0.18265794493473075,
                      0.4179551681783823,
                      0.37636967908324676,
                      0.23859329446064123,
                      0.214146700466105,
                      0.40896305168408825,
                      0.3660648294794636,
                      0.36491122676749266,
                      0.3257505286486926,
                      0.11476590636254513,
                      0.10236231011175811,
                      0.3943355751391466,
                      0.3507690720851975,
                      0.24014845521541933,
                      0.2132839296390697,
                      0.25682281296665,
                      0.2266168659154233,
                      0.46017625800320117,
                      0.4054826482433377,
                      0.21877727242212655,
                      0.19266653364666916,
                      0.40539232934553127,
                      0.3556112852664577,
                      0.414598612882653,
                      0.36206662489557223,
                      0.03118951809409773,
                      0.03128054740957974,
                      0.13617934907112922,
                      0.1414926447184513,
                      0.13855186604228747,
                      0.14442595437219088,
                      0.2587540901926403,
                      0.2698038040288237,
                      0.3729465292093155,
                      0.39225267058313107,
                      0.26356790728357177,
                      0.27907428339564677,
                      0.12486227892142648,
                      0.13230414746543775,
                      0.19017011970149753,
                      0.20346157968063447,
                      0.2826413603444414,
                      0.30339444333132976,
                      0.270015791685305,
                      0.2914179650354767,
                      0.32405632038450244,
                      0.3500405598992045,
                      0.3531876106504935,
                      0.3825385319042442,
                      0.483902588451524,
                      0.467090479006505,
                      0.5474895576709907,
                      0.526754984089876,
                      0.292847296676367,
                      0.28167354154390106,
                      0.42227901692334785,
                      0.4026668178023277,
                      0.24371879307704103,
                      0.23084868707384315,
                      0.2692888171450321,
                      0.2857043400771385,
                      0.5443545579860483,
                      0.5102786660575606,
                      0.42151718705555435,
                      0.3938302395944068,
                      0.5743126818808394,
                      0.5351345083487942,
                      0.4879838763933165,
                      0.45346523327241145,
                      0.3274386673033437,
                      0.30401693100448396,
                      0.5453299830693,
                      0.504958085301299,
                      0.3832523491769529,
                      0.41453945319155167,
                      0.48586449721635494,
                      0.44566019982095834,
                      0.6539326567298934,
                      0.5994841780103165,
                      0.49552750317801064,
                      0.4939210184933781,
                      0.3962261079975477,
                      0.3948251907035081,
                      0.31718904001576964,
                      0.31334404362007684,
                      0.4298646734421629,
                      0.4174593899731213,
                      0.47377661147250155,
                      0.45858972524327424,
                      0.6011682269060398,
                      0.5803199495921868,
                      0.6051831495460396,
                      0.5758946009467377,
                      0.7324602618045816,
                      0.7720936822393062,
                      0.36155684533970645,
                      0.361450317100066,
                      0.23311023812988016,
                      0.23103345639686967,
                      0.2733990147783252,
                      0.2691550434187893,
                      0.30328690934786084,
                      0.3095886267392619,
                      0.6535632183908046,
                      0.6367666905958362,
                      0.6586555207244862,
                      0.6396159650309622,
                      0.49301329727293214,
                      0.4774637127578304,
                      0.23345159018178507,
                      0.23548070683186245,
                      0.38157094724007595,
                      0.38747326743162097,
                      0.3824020645724098,
                      0.39237336177767157,
                      0.44991868801392615,
                      0.464434332191158,
                      0.42023836614915366,
                      0.4174339319633331,
                      0.5355520665985102,
                      0.5214625995449373,
                      0.6049758770136561,
                      0.6069736437288482
                    ],
                    "coloraxis": "coloraxis",
                    "size": [
                      1.2282844771886887,
                      1.2282844771886887,
                      1.263488400282732,
                      1.263488400282732,
                      1.0714819950822727,
                      1.0714819950822727,
                      0.8256519134578137,
                      0.8256519134578139,
                      1.1702028081123246,
                      1.1702028081123246,
                      1.2391348108342286,
                      1.2391348108342286,
                      1.4761732671141707,
                      1.4761732671141707,
                      1.289532699729042,
                      1.289532699729042,
                      0.9703174196619606,
                      0.9703174196619608,
                      1.2095373562841674,
                      1.2095373562841674,
                      1.0193404251849518,
                      1.0193404251849518,
                      1.0264936913266005,
                      1.0264936913266005,
                      1.3426537482551935,
                      1.3426537482551935,
                      0.9980407745094453,
                      0.9980407745094454,
                      1.0791870341480327,
                      1.0791870341480327,
                      1.0529159662969663,
                      1.0529159662969663,
                      1.1612699622488718,
                      1.1612699622488718,
                      1.0839426276685449,
                      1.0839426276685449,
                      1.5132757067708698,
                      1.5132757067708698,
                      1.4326691124597442,
                      1.4326691124597442,
                      1.468215104667505,
                      1.4682151046675047,
                      1.2754517121868998,
                      1.2754517121868998,
                      1.1945367183981406,
                      1.1945367183981406,
                      1.0239149286968439,
                      1.0239149286968436,
                      0.7894862546502637,
                      0.7894862546502638,
                      1.3540174084279766,
                      1.3540174084279766,
                      1.1802618485327014,
                      1.1802618485327012,
                      1.5372208323719074,
                      1.5372208323719074,
                      1.2492208280397223,
                      1.2492208280397221,
                      1.5196565457582116,
                      1.5196565457582114,
                      1.43910239390176,
                      1.43910239390176,
                      1.106148323823172,
                      1.1061483238231717,
                      1.4919265889160112,
                      1.4919265889160112,
                      1.2512534034188951,
                      1.2512534034188951,
                      1.2734696074716818,
                      1.2734696074716818,
                      1.6254315317171828,
                      1.6254315317171828,
                      1.2238879669207863,
                      1.2238879669207863,
                      1.5127926950546964,
                      1.5127926950546964,
                      1.5306171901104701,
                      1.5306171901104701,
                      1.0279054702196313,
                      1.027905470219631,
                      1.1399898954908971,
                      1.1399898954908971,
                      1.143307953398771,
                      1.143307953398771,
                      1.3057531811549385,
                      1.3057531811549388,
                      1.5161391360161947,
                      1.5161391360161947,
                      1.3196166817143768,
                      1.3196166817143768,
                      1.1297197162522403,
                      1.1297197162522403,
                      1.2144486949711584,
                      1.2144486949711584,
                      1.3574254056488906,
                      1.3574254056488908,
                      1.338539486961602,
                      1.338539486961602,
                      1.4363579249492773,
                      1.4363579249492773,
                      1.4970041484471357,
                      1.4970041484471355,
                      1.7277040722314354,
                      1.7277040722314356,
                      1.9103815937149273,
                      1.9103815937149273,
                      1.3421005546609412,
                      1.3421005546609412,
                      1.5811750418444268,
                      1.581175041844427,
                      1.2692562811349364,
                      1.2692562811349364,
                      1.3309943218479807,
                      1.3309943218479805,
                      1.9004744794545791,
                      1.900474479454579,
                      1.5795189276345873,
                      1.5795189276345871,
                      1.9995668182802688,
                      1.9995668182802688,
                      1.7383734026424087,
                      1.7383734026424087,
                      1.3986175822825908,
                      1.3986175822825908,
                      1.9035459533607684,
                      1.9035459533607684,
                      1.5645101568285575,
                      1.5645101568285575,
                      1.732816512479988,
                      1.732816512479988,
                      2.321231961953158,
                      2.3212319619531585,
                      1.8077957320833848,
                      1.807795732083385,
                      1.555924952567267,
                      1.555924952567267,
                      1.400607471400296,
                      1.400607471400296,
                      1.6329968205107432,
                      1.6329968205107435,
                      1.7458904308865033,
                      1.745890430886503,
                      2.183889166607156,
                      2.183889166607156,
                      2.201294015695292,
                      2.201294015695292,
                      3.2919938411349285,
                      3.291993841134928,
                      1.4860895065663648,
                      1.4860895065663648,
                      1.2672504865165415,
                      1.2672504865165415,
                      1.3286184210526317,
                      1.3286184210526317,
                      1.3890402280646184,
                      1.3890402280646184,
                      2.4465739484396196,
                      2.44657394843962,
                      2.4744639376218323,
                      2.4744639376218323,
                      1.8051159366948841,
                      1.8051159366948841,
                      1.2708051863384673,
                      1.2708051863384673,
                      1.5399834834280655,
                      1.5399834834280655,
                      1.5505719997488014,
                      1.5505719997488014,
                      1.7249944637189047,
                      1.7249944637189047,
                      1.6223191292451309,
                      1.622319129245131,
                      1.9564040870353345,
                      1.9564040870353345,
                      2.2914811905385353,
                      2.2914811905385353
                    ],
                    "sizemode": "area",
                    "sizeref": 0.01463108373837746,
                    "symbol": "circle"
                  },
                  "mode": "markers",
                  "name": "",
                  "orientation": "v",
                  "showlegend": false,
                  "type": "scatter",
                  "x": [
                    0.03439541394480736,
                    0.03439541394480736,
                    0.028529529396080524,
                    0.028529529396080524,
                    0.023730169310758567,
                    0.023730169310758567,
                    0.01386481802426343,
                    0.01386481802426343,
                    0.019064124783362217,
                    0.019064124783362217,
                    0.020130649246767097,
                    0.020130649246767097,
                    0.021997067057725635,
                    0.021997067057725635,
                    0.01786428476203173,
                    0.01786428476203173,
                    0.013331555792560993,
                    0.013331555792560993,
                    0.01639781362485002,
                    0.01639781362485002,
                    0.013331555792560993,
                    0.013331555792560993,
                    0.011998400213304892,
                    0.011998400213304892,
                    0.014531395813891481,
                    0.014531395813891481,
                    0.010665244634048793,
                    0.010665244634048793,
                    0.011065191307825623,
                    0.011065191307825623,
                    0.010531929076123183,
                    0.010531929076123183,
                    0.010398613518197574,
                    0.010398613518197574,
                    0.023463538194907346,
                    0.023463538194907346,
                    0.03212904946007199,
                    0.03212904946007199,
                    0.023063591521130515,
                    0.023063591521130515,
                    0.022930275963204905,
                    0.022930275963204905,
                    0.01986401813091588,
                    0.01986401813091588,
                    0.017064391414478068,
                    0.017064391414478068,
                    0.013598186908412212,
                    0.013598186908412212,
                    0.010398613518197574,
                    0.010398613518197574,
                    0.01759765364618051,
                    0.01759765364618051,
                    0.014798026929742702,
                    0.014798026929742702,
                    0.017997600319957337,
                    0.017997600319957337,
                    0.013998133582189041,
                    0.013998133582189041,
                    0.01639781362485002,
                    0.01639781362485002,
                    0.01493134248766831,
                    0.01493134248766831,
                    0.011331822423676844,
                    0.011331822423676844,
                    0.014664711371817091,
                    0.014664711371817091,
                    0.011998400213304892,
                    0.011998400213304892,
                    0.010931875749900012,
                    0.010931875749900012,
                    0.013598186908412212,
                    0.013598186908412212,
                    0.010131982402346354,
                    0.010131982402346354,
                    0.011598453539528063,
                    0.011598453539528063,
                    0.010665244634048793,
                    0.010665244634048793,
                    0.01759765364618051,
                    0.01759765364618051,
                    0.014798026929742702,
                    0.014798026929742702,
                    0.01439808025596587,
                    0.01439808025596587,
                    0.01639781362485002,
                    0.01639781362485002,
                    0.0174643380882549,
                    0.0174643380882549,
                    0.014131449140114652,
                    0.014131449140114652,
                    0.011998400213304892,
                    0.011998400213304892,
                    0.011465137981602452,
                    0.011465137981602452,
                    0.012265031329156113,
                    0.012265031329156113,
                    0.011198506865751233,
                    0.011198506865751233,
                    0.011865084655379284,
                    0.011865084655379284,
                    0.011865084655379284,
                    0.011865084655379284,
                    0.021997067057725635,
                    0.021997067057725635,
                    0.023596853752832957,
                    0.023596853752832957,
                    0.01653112918277563,
                    0.01653112918277563,
                    0.01786428476203173,
                    0.01786428476203173,
                    0.013331555792560993,
                    0.013331555792560993,
                    0.013198240234635382,
                    0.013198240234635382,
                    0.01759765364618051,
                    0.01759765364618051,
                    0.013998133582189041,
                    0.013998133582189041,
                    0.017064391414478068,
                    0.017064391414478068,
                    0.014264764698040262,
                    0.014264764698040262,
                    0.011331822423676844,
                    0.011331822423676844,
                    0.014798026929742702,
                    0.014798026929742702,
                    0.011865084655379284,
                    0.011865084655379284,
                    0.011465137981602452,
                    0.011465137981602452,
                    0.015197973603519531,
                    0.015197973603519531,
                    0.01693107585655246,
                    0.01693107585655246,
                    0.014531395813891481,
                    0.014531395813891481,
                    0.011998400213304892,
                    0.011998400213304892,
                    0.011465137981602452,
                    0.011465137981602452,
                    0.011731769097453673,
                    0.011731769097453673,
                    0.014131449140114652,
                    0.014131449140114652,
                    0.011331822423676844,
                    0.011331822423676844,
                    0.015997866951073192,
                    0.015997866951073192,
                    0.013464871350486601,
                    0.013464871350486601,
                    0.010531929076123183,
                    0.010531929076123183,
                    0.010265297960271964,
                    0.010265297960271964,
                    0.010131982402346354,
                    0.010131982402346354,
                    0.01666444474070124,
                    0.01666444474070124,
                    0.0161311825089988,
                    0.0161311825089988,
                    0.011331822423676844,
                    0.011331822423676844,
                    0.010531929076123183,
                    0.010531929076123183,
                    0.011865084655379284,
                    0.011865084655379284,
                    0.010531929076123183,
                    0.010531929076123183,
                    0.010798560191974404,
                    0.010798560191974404,
                    0.011465137981602452,
                    0.011465137981602452,
                    0.010665244634048793,
                    0.010665244634048793,
                    0.011198506865751233,
                    0.011198506865751233
                  ],
                  "xaxis": "x",
                  "y": [
                    0.209926769731489,
                    0.20124804992199688,
                    0.1669266770670827,
                    0.21594349142280528,
                    0.18312757201646093,
                    0.1388455538221529,
                    0.14111261872455902,
                    0.0811232449297972,
                    0.19999999999999998,
                    0.11154446177847115,
                    0.11778471138845555,
                    0.211781206171108,
                    0.25229357798165136,
                    0.12870514820592824,
                    0.22039473684210528,
                    0.1045241809672387,
                    0.16583747927031509,
                    0.07800312012480501,
                    0.20672268907563024,
                    0.09594383775351015,
                    0.17421602787456447,
                    0.07800312012480501,
                    0.17543859649122806,
                    0.0702028081123245,
                    0.08502340093603744,
                    0.22947368421052633,
                    0.062402496099843996,
                    0.1705756929637527,
                    0.06474258970358815,
                    0.18444444444444444,
                    0.17995444191343962,
                    0.06162246489859594,
                    0.0608424336973479,
                    0.19847328244274812,
                    0.14320585842148087,
                    0.17759838546922302,
                    0.19609438567941412,
                    0.2479423868312757,
                    0.1407648494711147,
                    0.23473541383989144,
                    0.13995117982099267,
                    0.24055944055944053,
                    0.12123677786818551,
                    0.20897615708274897,
                    0.10414971521562244,
                    0.19571865443425074,
                    0.08299430431244914,
                    0.16776315789473684,
                    0.12935323383084577,
                    0.06346623270951994,
                    0.10740439381611065,
                    0.22184873949579834,
                    0.19337979094076657,
                    0.09031733116354759,
                    0.1098454027664768,
                    0.251865671641791,
                    0.0854353132628153,
                    0.2046783625730994,
                    0.1000813669650122,
                    0.24898785425101214,
                    0.09113100081366964,
                    0.23578947368421052,
                    0.0691619202603743,
                    0.18123667377398722,
                    0.08950366151342555,
                    0.24444444444444446,
                    0.07323026851098453,
                    0.20501138952164008,
                    0.06672091131000812,
                    0.20865139949109412,
                    0.08299430431244914,
                    0.26631853785900783,
                    0.06183889340927583,
                    0.20052770448548812,
                    0.07078925956061838,
                    0.24786324786324784,
                    0.06509357200976403,
                    0.2507836990595611,
                    0.1358024691358025,
                    0.13319878910191726,
                    0.15061058344640435,
                    0.11200807265388497,
                    0.15104895104895105,
                    0.10898082744702321,
                    0.17251051893408134,
                    0.124117053481332,
                    0.2003058103975535,
                    0.13218970736629668,
                    0.1743421052631579,
                    0.10696266397578205,
                    0.14925373134328357,
                    0.09081735620585267,
                    0.16044776119402984,
                    0.08678102926337034,
                    0.1793372319688109,
                    0.09283551967709386,
                    0.1768421052631579,
                    0.08476286579212917,
                    0.18976545842217488,
                    0.0898082744702321,
                    0.1977777777777778,
                    0.0898082744702321,
                    0.1697530864197531,
                    0.22388059701492538,
                    0.1820987654320988,
                    0.24755244755244757,
                    0.12757201646090535,
                    0.17391304347826086,
                    0.13786008230452676,
                    0.20489296636085627,
                    0.10288065843621401,
                    0.16447368421052633,
                    0.17247386759581884,
                    0.10185185185185186,
                    0.1358024691358025,
                    0.2462686567164179,
                    0.1080246913580247,
                    0.2046783625730994,
                    0.13168724279835392,
                    0.2591093117408907,
                    0.11008230452674898,
                    0.22526315789473686,
                    0.0874485596707819,
                    0.18123667377398722,
                    0.11419753086419754,
                    0.24666666666666667,
                    0.2027334851936219,
                    0.09156378600823047,
                    0.08847736625514403,
                    0.22454308093994776,
                    0.11728395061728396,
                    0.3007915567282322,
                    0.17232021709633652,
                    0.17762237762237765,
                    0.14789687924016282,
                    0.15287517531556802,
                    0.12211668928086838,
                    0.13761467889908255,
                    0.11668928086838534,
                    0.16044776119402984,
                    0.11940298507462688,
                    0.17153996101364521,
                    0.14382632293080055,
                    0.2145748987854251,
                    0.1153324287652646,
                    0.2162849872773537,
                    0.3234501347708895,
                    0.1628222523744912,
                    0.14125874125874124,
                    0.14165497896213183,
                    0.11048951048951049,
                    0.12079510703363913,
                    0.1076923076923077,
                    0.12664473684210528,
                    0.13240418118466898,
                    0.1062937062937063,
                    0.17482517482517482,
                    0.23320895522388058,
                    0.1692307692307692,
                    0.23586744639376217,
                    0.11888111888111888,
                    0.17206477732793524,
                    0.12079510703363913,
                    0.11079943899018233,
                    0.14638157894736845,
                    0.12482468443197757,
                    0.14738805970149252,
                    0.11079943899018233,
                    0.1639676113360324,
                    0.11360448807854139,
                    0.1314984709480122,
                    0.14144736842105263,
                    0.12232415902140673,
                    0.1705756929637527,
                    0.16374269005847952,
                    0.15671641791044774
                  ],
                  "yaxis": "y"
                }
              ],
              "layout": {
                "coloraxis": {
                  "colorbar": {
                    "title": {
                      "text": "zhangs_metric"
                    }
                  },
                  "colorscale": [
                    [
                      0,
                      "#0d0887"
                    ],
                    [
                      0.1111111111111111,
                      "#46039f"
                    ],
                    [
                      0.2222222222222222,
                      "#7201a8"
                    ],
                    [
                      0.3333333333333333,
                      "#9c179e"
                    ],
                    [
                      0.4444444444444444,
                      "#bd3786"
                    ],
                    [
                      0.5555555555555556,
                      "#d8576b"
                    ],
                    [
                      0.6666666666666666,
                      "#ed7953"
                    ],
                    [
                      0.7777777777777778,
                      "#fb9f3a"
                    ],
                    [
                      0.8888888888888888,
                      "#fdca26"
                    ],
                    [
                      1,
                      "#f0f921"
                    ]
                  ]
                },
                "legend": {
                  "itemsizing": "constant",
                  "tracegroupgap": 0
                },
                "margin": {
                  "t": 60
                },
                "template": {
                  "data": {
                    "bar": [
                      {
                        "error_x": {
                          "color": "#2a3f5f"
                        },
                        "error_y": {
                          "color": "#2a3f5f"
                        },
                        "marker": {
                          "line": {
                            "color": "#E5ECF6",
                            "width": 0.5
                          },
                          "pattern": {
                            "fillmode": "overlay",
                            "size": 10,
                            "solidity": 0.2
                          }
                        },
                        "type": "bar"
                      }
                    ],
                    "barpolar": [
                      {
                        "marker": {
                          "line": {
                            "color": "#E5ECF6",
                            "width": 0.5
                          },
                          "pattern": {
                            "fillmode": "overlay",
                            "size": 10,
                            "solidity": 0.2
                          }
                        },
                        "type": "barpolar"
                      }
                    ],
                    "carpet": [
                      {
                        "aaxis": {
                          "endlinecolor": "#2a3f5f",
                          "gridcolor": "white",
                          "linecolor": "white",
                          "minorgridcolor": "white",
                          "startlinecolor": "#2a3f5f"
                        },
                        "baxis": {
                          "endlinecolor": "#2a3f5f",
                          "gridcolor": "white",
                          "linecolor": "white",
                          "minorgridcolor": "white",
                          "startlinecolor": "#2a3f5f"
                        },
                        "type": "carpet"
                      }
                    ],
                    "choropleth": [
                      {
                        "colorbar": {
                          "outlinewidth": 0,
                          "ticks": ""
                        },
                        "type": "choropleth"
                      }
                    ],
                    "contour": [
                      {
                        "colorbar": {
                          "outlinewidth": 0,
                          "ticks": ""
                        },
                        "colorscale": [
                          [
                            0,
                            "#0d0887"
                          ],
                          [
                            0.1111111111111111,
                            "#46039f"
                          ],
                          [
                            0.2222222222222222,
                            "#7201a8"
                          ],
                          [
                            0.3333333333333333,
                            "#9c179e"
                          ],
                          [
                            0.4444444444444444,
                            "#bd3786"
                          ],
                          [
                            0.5555555555555556,
                            "#d8576b"
                          ],
                          [
                            0.6666666666666666,
                            "#ed7953"
                          ],
                          [
                            0.7777777777777778,
                            "#fb9f3a"
                          ],
                          [
                            0.8888888888888888,
                            "#fdca26"
                          ],
                          [
                            1,
                            "#f0f921"
                          ]
                        ],
                        "type": "contour"
                      }
                    ],
                    "contourcarpet": [
                      {
                        "colorbar": {
                          "outlinewidth": 0,
                          "ticks": ""
                        },
                        "type": "contourcarpet"
                      }
                    ],
                    "heatmap": [
                      {
                        "colorbar": {
                          "outlinewidth": 0,
                          "ticks": ""
                        },
                        "colorscale": [
                          [
                            0,
                            "#0d0887"
                          ],
                          [
                            0.1111111111111111,
                            "#46039f"
                          ],
                          [
                            0.2222222222222222,
                            "#7201a8"
                          ],
                          [
                            0.3333333333333333,
                            "#9c179e"
                          ],
                          [
                            0.4444444444444444,
                            "#bd3786"
                          ],
                          [
                            0.5555555555555556,
                            "#d8576b"
                          ],
                          [
                            0.6666666666666666,
                            "#ed7953"
                          ],
                          [
                            0.7777777777777778,
                            "#fb9f3a"
                          ],
                          [
                            0.8888888888888888,
                            "#fdca26"
                          ],
                          [
                            1,
                            "#f0f921"
                          ]
                        ],
                        "type": "heatmap"
                      }
                    ],
                    "heatmapgl": [
                      {
                        "colorbar": {
                          "outlinewidth": 0,
                          "ticks": ""
                        },
                        "colorscale": [
                          [
                            0,
                            "#0d0887"
                          ],
                          [
                            0.1111111111111111,
                            "#46039f"
                          ],
                          [
                            0.2222222222222222,
                            "#7201a8"
                          ],
                          [
                            0.3333333333333333,
                            "#9c179e"
                          ],
                          [
                            0.4444444444444444,
                            "#bd3786"
                          ],
                          [
                            0.5555555555555556,
                            "#d8576b"
                          ],
                          [
                            0.6666666666666666,
                            "#ed7953"
                          ],
                          [
                            0.7777777777777778,
                            "#fb9f3a"
                          ],
                          [
                            0.8888888888888888,
                            "#fdca26"
                          ],
                          [
                            1,
                            "#f0f921"
                          ]
                        ],
                        "type": "heatmapgl"
                      }
                    ],
                    "histogram": [
                      {
                        "marker": {
                          "pattern": {
                            "fillmode": "overlay",
                            "size": 10,
                            "solidity": 0.2
                          }
                        },
                        "type": "histogram"
                      }
                    ],
                    "histogram2d": [
                      {
                        "colorbar": {
                          "outlinewidth": 0,
                          "ticks": ""
                        },
                        "colorscale": [
                          [
                            0,
                            "#0d0887"
                          ],
                          [
                            0.1111111111111111,
                            "#46039f"
                          ],
                          [
                            0.2222222222222222,
                            "#7201a8"
                          ],
                          [
                            0.3333333333333333,
                            "#9c179e"
                          ],
                          [
                            0.4444444444444444,
                            "#bd3786"
                          ],
                          [
                            0.5555555555555556,
                            "#d8576b"
                          ],
                          [
                            0.6666666666666666,
                            "#ed7953"
                          ],
                          [
                            0.7777777777777778,
                            "#fb9f3a"
                          ],
                          [
                            0.8888888888888888,
                            "#fdca26"
                          ],
                          [
                            1,
                            "#f0f921"
                          ]
                        ],
                        "type": "histogram2d"
                      }
                    ],
                    "histogram2dcontour": [
                      {
                        "colorbar": {
                          "outlinewidth": 0,
                          "ticks": ""
                        },
                        "colorscale": [
                          [
                            0,
                            "#0d0887"
                          ],
                          [
                            0.1111111111111111,
                            "#46039f"
                          ],
                          [
                            0.2222222222222222,
                            "#7201a8"
                          ],
                          [
                            0.3333333333333333,
                            "#9c179e"
                          ],
                          [
                            0.4444444444444444,
                            "#bd3786"
                          ],
                          [
                            0.5555555555555556,
                            "#d8576b"
                          ],
                          [
                            0.6666666666666666,
                            "#ed7953"
                          ],
                          [
                            0.7777777777777778,
                            "#fb9f3a"
                          ],
                          [
                            0.8888888888888888,
                            "#fdca26"
                          ],
                          [
                            1,
                            "#f0f921"
                          ]
                        ],
                        "type": "histogram2dcontour"
                      }
                    ],
                    "mesh3d": [
                      {
                        "colorbar": {
                          "outlinewidth": 0,
                          "ticks": ""
                        },
                        "type": "mesh3d"
                      }
                    ],
                    "parcoords": [
                      {
                        "line": {
                          "colorbar": {
                            "outlinewidth": 0,
                            "ticks": ""
                          }
                        },
                        "type": "parcoords"
                      }
                    ],
                    "pie": [
                      {
                        "automargin": true,
                        "type": "pie"
                      }
                    ],
                    "scatter": [
                      {
                        "fillpattern": {
                          "fillmode": "overlay",
                          "size": 10,
                          "solidity": 0.2
                        },
                        "type": "scatter"
                      }
                    ],
                    "scatter3d": [
                      {
                        "line": {
                          "colorbar": {
                            "outlinewidth": 0,
                            "ticks": ""
                          }
                        },
                        "marker": {
                          "colorbar": {
                            "outlinewidth": 0,
                            "ticks": ""
                          }
                        },
                        "type": "scatter3d"
                      }
                    ],
                    "scattercarpet": [
                      {
                        "marker": {
                          "colorbar": {
                            "outlinewidth": 0,
                            "ticks": ""
                          }
                        },
                        "type": "scattercarpet"
                      }
                    ],
                    "scattergeo": [
                      {
                        "marker": {
                          "colorbar": {
                            "outlinewidth": 0,
                            "ticks": ""
                          }
                        },
                        "type": "scattergeo"
                      }
                    ],
                    "scattergl": [
                      {
                        "marker": {
                          "colorbar": {
                            "outlinewidth": 0,
                            "ticks": ""
                          }
                        },
                        "type": "scattergl"
                      }
                    ],
                    "scattermapbox": [
                      {
                        "marker": {
                          "colorbar": {
                            "outlinewidth": 0,
                            "ticks": ""
                          }
                        },
                        "type": "scattermapbox"
                      }
                    ],
                    "scatterpolar": [
                      {
                        "marker": {
                          "colorbar": {
                            "outlinewidth": 0,
                            "ticks": ""
                          }
                        },
                        "type": "scatterpolar"
                      }
                    ],
                    "scatterpolargl": [
                      {
                        "marker": {
                          "colorbar": {
                            "outlinewidth": 0,
                            "ticks": ""
                          }
                        },
                        "type": "scatterpolargl"
                      }
                    ],
                    "scatterternary": [
                      {
                        "marker": {
                          "colorbar": {
                            "outlinewidth": 0,
                            "ticks": ""
                          }
                        },
                        "type": "scatterternary"
                      }
                    ],
                    "surface": [
                      {
                        "colorbar": {
                          "outlinewidth": 0,
                          "ticks": ""
                        },
                        "colorscale": [
                          [
                            0,
                            "#0d0887"
                          ],
                          [
                            0.1111111111111111,
                            "#46039f"
                          ],
                          [
                            0.2222222222222222,
                            "#7201a8"
                          ],
                          [
                            0.3333333333333333,
                            "#9c179e"
                          ],
                          [
                            0.4444444444444444,
                            "#bd3786"
                          ],
                          [
                            0.5555555555555556,
                            "#d8576b"
                          ],
                          [
                            0.6666666666666666,
                            "#ed7953"
                          ],
                          [
                            0.7777777777777778,
                            "#fb9f3a"
                          ],
                          [
                            0.8888888888888888,
                            "#fdca26"
                          ],
                          [
                            1,
                            "#f0f921"
                          ]
                        ],
                        "type": "surface"
                      }
                    ],
                    "table": [
                      {
                        "cells": {
                          "fill": {
                            "color": "#EBF0F8"
                          },
                          "line": {
                            "color": "white"
                          }
                        },
                        "header": {
                          "fill": {
                            "color": "#C8D4E3"
                          },
                          "line": {
                            "color": "white"
                          }
                        },
                        "type": "table"
                      }
                    ]
                  },
                  "layout": {
                    "annotationdefaults": {
                      "arrowcolor": "#2a3f5f",
                      "arrowhead": 0,
                      "arrowwidth": 1
                    },
                    "autotypenumbers": "strict",
                    "coloraxis": {
                      "colorbar": {
                        "outlinewidth": 0,
                        "ticks": ""
                      }
                    },
                    "colorscale": {
                      "diverging": [
                        [
                          0,
                          "#8e0152"
                        ],
                        [
                          0.1,
                          "#c51b7d"
                        ],
                        [
                          0.2,
                          "#de77ae"
                        ],
                        [
                          0.3,
                          "#f1b6da"
                        ],
                        [
                          0.4,
                          "#fde0ef"
                        ],
                        [
                          0.5,
                          "#f7f7f7"
                        ],
                        [
                          0.6,
                          "#e6f5d0"
                        ],
                        [
                          0.7,
                          "#b8e186"
                        ],
                        [
                          0.8,
                          "#7fbc41"
                        ],
                        [
                          0.9,
                          "#4d9221"
                        ],
                        [
                          1,
                          "#276419"
                        ]
                      ],
                      "sequential": [
                        [
                          0,
                          "#0d0887"
                        ],
                        [
                          0.1111111111111111,
                          "#46039f"
                        ],
                        [
                          0.2222222222222222,
                          "#7201a8"
                        ],
                        [
                          0.3333333333333333,
                          "#9c179e"
                        ],
                        [
                          0.4444444444444444,
                          "#bd3786"
                        ],
                        [
                          0.5555555555555556,
                          "#d8576b"
                        ],
                        [
                          0.6666666666666666,
                          "#ed7953"
                        ],
                        [
                          0.7777777777777778,
                          "#fb9f3a"
                        ],
                        [
                          0.8888888888888888,
                          "#fdca26"
                        ],
                        [
                          1,
                          "#f0f921"
                        ]
                      ],
                      "sequentialminus": [
                        [
                          0,
                          "#0d0887"
                        ],
                        [
                          0.1111111111111111,
                          "#46039f"
                        ],
                        [
                          0.2222222222222222,
                          "#7201a8"
                        ],
                        [
                          0.3333333333333333,
                          "#9c179e"
                        ],
                        [
                          0.4444444444444444,
                          "#bd3786"
                        ],
                        [
                          0.5555555555555556,
                          "#d8576b"
                        ],
                        [
                          0.6666666666666666,
                          "#ed7953"
                        ],
                        [
                          0.7777777777777778,
                          "#fb9f3a"
                        ],
                        [
                          0.8888888888888888,
                          "#fdca26"
                        ],
                        [
                          1,
                          "#f0f921"
                        ]
                      ]
                    },
                    "colorway": [
                      "#636efa",
                      "#EF553B",
                      "#00cc96",
                      "#ab63fa",
                      "#FFA15A",
                      "#19d3f3",
                      "#FF6692",
                      "#B6E880",
                      "#FF97FF",
                      "#FECB52"
                    ],
                    "font": {
                      "color": "#2a3f5f"
                    },
                    "geo": {
                      "bgcolor": "white",
                      "lakecolor": "white",
                      "landcolor": "#E5ECF6",
                      "showlakes": true,
                      "showland": true,
                      "subunitcolor": "white"
                    },
                    "hoverlabel": {
                      "align": "left"
                    },
                    "hovermode": "closest",
                    "mapbox": {
                      "style": "light"
                    },
                    "paper_bgcolor": "white",
                    "plot_bgcolor": "#E5ECF6",
                    "polar": {
                      "angularaxis": {
                        "gridcolor": "white",
                        "linecolor": "white",
                        "ticks": ""
                      },
                      "bgcolor": "#E5ECF6",
                      "radialaxis": {
                        "gridcolor": "white",
                        "linecolor": "white",
                        "ticks": ""
                      }
                    },
                    "scene": {
                      "xaxis": {
                        "backgroundcolor": "#E5ECF6",
                        "gridcolor": "white",
                        "gridwidth": 2,
                        "linecolor": "white",
                        "showbackground": true,
                        "ticks": "",
                        "zerolinecolor": "white"
                      },
                      "yaxis": {
                        "backgroundcolor": "#E5ECF6",
                        "gridcolor": "white",
                        "gridwidth": 2,
                        "linecolor": "white",
                        "showbackground": true,
                        "ticks": "",
                        "zerolinecolor": "white"
                      },
                      "zaxis": {
                        "backgroundcolor": "#E5ECF6",
                        "gridcolor": "white",
                        "gridwidth": 2,
                        "linecolor": "white",
                        "showbackground": true,
                        "ticks": "",
                        "zerolinecolor": "white"
                      }
                    },
                    "shapedefaults": {
                      "line": {
                        "color": "#2a3f5f"
                      }
                    },
                    "ternary": {
                      "aaxis": {
                        "gridcolor": "white",
                        "linecolor": "white",
                        "ticks": ""
                      },
                      "baxis": {
                        "gridcolor": "white",
                        "linecolor": "white",
                        "ticks": ""
                      },
                      "bgcolor": "#E5ECF6",
                      "caxis": {
                        "gridcolor": "white",
                        "linecolor": "white",
                        "ticks": ""
                      }
                    },
                    "title": {
                      "x": 0.05
                    },
                    "xaxis": {
                      "automargin": true,
                      "gridcolor": "white",
                      "linecolor": "white",
                      "ticks": "",
                      "title": {
                        "standoff": 15
                      },
                      "zerolinecolor": "white",
                      "zerolinewidth": 2
                    },
                    "yaxis": {
                      "automargin": true,
                      "gridcolor": "white",
                      "linecolor": "white",
                      "ticks": "",
                      "title": {
                        "standoff": 15
                      },
                      "zerolinecolor": "white",
                      "zerolinewidth": 2
                    }
                  }
                },
                "width": 900,
                "xaxis": {
                  "anchor": "y",
                  "domain": [
                    0,
                    1
                  ],
                  "title": {
                    "text": "support"
                  }
                },
                "yaxis": {
                  "anchor": "x",
                  "domain": [
                    0,
                    1
                  ],
                  "title": {
                    "text": "confidence"
                  }
                }
              }
            }
          },
          "metadata": {},
          "output_type": "display_data"
        }
      ],
      "source": [
        "fig = px.scatter(rules_alt, x=\"support\", y=\"confidence\",size='lift',size_max=15,hover_data=['antecedent','consequent'],color='zhangs_metric', width=900)\n",
        "fig.show()"
      ]
    },
    {
      "cell_type": "markdown",
      "metadata": {
        "id": "5YzOKM8gMfu_"
      },
      "source": [
        "Otra forma de visualizar las relaciones es mediante Parallel_coordinates\n",
        "https://pandas.pydata.org/pandas-docs/stable/reference/api/pandas.plotting.parallel_coordinates.html\n"
      ]
    },
    {
      "cell_type": "code",
      "execution_count": 92,
      "metadata": {},
      "outputs": [
        {
          "ename": "SystemExit",
          "evalue": "Detener script",
          "output_type": "error",
          "traceback": [
            "An exception has occurred, use %tb to see the full traceback.\n",
            "\u001b[1;31mSystemExit\u001b[0m\u001b[1;31m:\u001b[0m Detener script\n"
          ]
        }
      ],
      "source": [
        "import sys\n",
        "sys.exit(\"Detener script\")"
      ]
    },
    {
      "cell_type": "code",
      "execution_count": null,
      "metadata": {
        "colab": {
          "base_uri": "https://localhost:8080/",
          "height": 206
        },
        "id": "-ZfySGbnqKgL",
        "outputId": "8a950aa2-4cc4-44bf-d8a0-3712be651ac6"
      },
      "outputs": [],
      "source": [
        "coords = rules[['antecedent','consequent','rule','confidence','lift']]\n",
        "coords.head()"
      ]
    },
    {
      "cell_type": "code",
      "execution_count": null,
      "metadata": {
        "colab": {
          "base_uri": "https://localhost:8080/"
        },
        "id": "QKz4ztX3qyTw",
        "outputId": "55b84c85-84c9-446f-d1eb-0c55b661c167"
      },
      "outputs": [],
      "source": [
        "coords.shape"
      ]
    },
    {
      "cell_type": "code",
      "execution_count": null,
      "metadata": {
        "colab": {
          "base_uri": "https://localhost:8080/",
          "height": 430
        },
        "id": "Vzfqva5bMfu_",
        "outputId": "c2d0b8e2-25be-4355-c485-5d6d16508660"
      },
      "outputs": [],
      "source": [
        "from pandas.plotting import parallel_coordinates\n",
        "parallel_coordinates(coords,'rule')\n",
        "plt.legend([])\n",
        "plt.show()"
      ]
    }
  ],
  "metadata": {
    "colab": {
      "provenance": [],
      "toc_visible": true
    },
    "interpreter": {
      "hash": "29f3f3fe926b6c4f8b636f646a656a8a17b35056941b321dc677b02367b87180"
    },
    "kernelspec": {
      "display_name": "Python 3.8.8 64-bit",
      "language": "python",
      "name": "python3"
    },
    "language_info": {
      "codemirror_mode": {
        "name": "ipython",
        "version": 3
      },
      "file_extension": ".py",
      "mimetype": "text/x-python",
      "name": "python",
      "nbconvert_exporter": "python",
      "pygments_lexer": "ipython3",
      "version": "3.11.7"
    },
    "metadata": {
      "interpreter": {
        "hash": "0a0c7b6812ca488c7de9c4086597f704f773cf0d57dcab08b6392dc0a04181e4"
      }
    }
  },
  "nbformat": 4,
  "nbformat_minor": 0
}
