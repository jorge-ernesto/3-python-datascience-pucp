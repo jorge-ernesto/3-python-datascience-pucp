{
  "cells": [
    {
      "cell_type": "markdown",
      "metadata": {
        "id": "WaU64QaemPiV"
      },
      "source": [
        "# **Curso** : Python para Data Science\n",
        "\n",
        "**Sesión 02.2**\n",
        "Programación con Numpy y Pandas\n",
        "\n",
        "**Profesor**:\n",
        "* Ing. Cristhian Castro Chávez\n",
        "* castro.ca@pucp.pe"
      ]
    },
    {
      "cell_type": "code",
      "execution_count": 1,
      "metadata": {
        "id": "oMiXoONyeGXa"
      },
      "outputs": [],
      "source": [
        "# Importamos las librerías\n",
        "import numpy as np\n",
        "import pandas as pd"
      ]
    },
    {
      "cell_type": "markdown",
      "metadata": {
        "id": "RWg1XRJ-u1iM"
      },
      "source": [
        "### 2.4 Pandas -  Series y DataFrames"
      ]
    },
    {
      "cell_type": "markdown",
      "metadata": {
        "id": "WKUBbjGgaaTh"
      },
      "source": [
        "**Series de Pandas**\n",
        "* Una Serie de Pandas es una matriz/lista unidimensional etiquetada capaz de contener datos de cualquier tipo (enteros, cadenas, flotantes, objetos de Python, etc.).\n",
        "* Las etiquetas se llaman colectivamente índice.\n",
        "* Una Serie de Pandas se puede pensar como una sola columna de una hoja de cálculo de Excel y cada entrada en una serie corresponde a una fila individual en la hoja de cálculo."
      ]
    },
    {
      "cell_type": "code",
      "execution_count": 2,
      "metadata": {
        "colab": {
          "base_uri": "https://localhost:8080/"
        },
        "id": "X9J5Mm9EsjOU",
        "outputId": "cbf76411-2115-4fbf-fe4a-bba2bb426d00"
      },
      "outputs": [
        {
          "name": "stdout",
          "output_type": "stream",
          "text": [
            "0    55\n",
            "1    25\n",
            "2    75\n",
            "3    40\n",
            "4    90\n",
            "dtype: int64\n",
            "0    55\n",
            "1    25\n",
            "2    75\n",
            "3    40\n",
            "4    90\n",
            "dtype: int32\n"
          ]
        }
      ],
      "source": [
        "# Creamos una lista de precios de diferentes medicinas\n",
        "med_price_list = [55,25,75,40,90]\n",
        "\n",
        "# Convertimos la lista a un array numpy\n",
        "med_price_arr = np.array(med_price_list)\n",
        "\n",
        "# Convertimos ambos, la lista y el array numpy a una Serie Pandas\n",
        "series_list = pd.Series(med_price_list)\n",
        "series_arr = pd.Series(med_price_arr)\n",
        "\n",
        "# printing the converted series object\n",
        "print(series_list)\n",
        "print(series_arr)"
      ]
    },
    {
      "cell_type": "markdown",
      "metadata": {
        "id": "KhZ6-xThvSmd"
      },
      "source": [
        "* Podemos ver que la lista y el array se han convertido en un objeto Serie de Pandas.\n",
        "* También observamos que la serie ha obtenido automáticamente etiquetas de índice. Veamos cómo se pueden modificar estas etiquetas."
      ]
    },
    {
      "cell_type": "code",
      "execution_count": 3,
      "metadata": {
        "colab": {
          "base_uri": "https://localhost:8080/"
        },
        "id": "5cjQVBUryeif",
        "outputId": "38400c28-2aa2-4d68-faaa-9f721134c6d2"
      },
      "outputs": [
        {
          "name": "stdout",
          "output_type": "stream",
          "text": [
            "Omeprazole      55\n",
            "Azithromycin    25\n",
            "Metformin       75\n",
            "Ibuprofen       40\n",
            "Cetirizine      90\n",
            "dtype: int64\n"
          ]
        }
      ],
      "source": [
        "# Cambiando los índices de las series\n",
        "med_price_list_labeled = pd.Series(med_price_list, index = ['Omeprazole','Azithromycin','Metformin','Ibuprofen','Cetirizine'])\n",
        "print(med_price_list_labeled)"
      ]
    },
    {
      "cell_type": "markdown",
      "metadata": {
        "id": "agSG9KlEaaTj"
      },
      "source": [
        "**Realizando operaciones matemáticas en Series de Pandas**"
      ]
    },
    {
      "cell_type": "markdown",
      "metadata": {
        "id": "lzAjVJtwaaTj"
      },
      "source": [
        "* El precio de cada medicamento se incrementó en $2.5. Vamos a sumarlo al precio existente."
      ]
    },
    {
      "cell_type": "code",
      "execution_count": 4,
      "metadata": {
        "colab": {
          "base_uri": "https://localhost:8080/"
        },
        "id": "lhK_joCfaaTj",
        "outputId": "5e3523d5-2086-4cf2-82d7-7f8b3827fd7c"
      },
      "outputs": [
        {
          "data": {
            "text/plain": [
              "Omeprazole      57.5\n",
              "Azithromycin    27.5\n",
              "Metformin       77.5\n",
              "Ibuprofen       42.5\n",
              "Cetirizine      92.5\n",
              "dtype: float64"
            ]
          },
          "execution_count": 4,
          "metadata": {},
          "output_type": "execute_result"
        }
      ],
      "source": [
        "# Añadimos 2.5\n",
        "med_price_list_labeled_updated = med_price_list_labeled + 2.5\n",
        "med_price_list_labeled_updated"
      ]
    },
    {
      "cell_type": "markdown",
      "metadata": {
        "id": "5sVET8vraaTk"
      },
      "source": [
        "* Los proveedores han publicado una nueva lista de precios para cada medicamento. Vamos a encontrar la diferencia entre el nuevo precio y el precio anterior.\""
      ]
    },
    {
      "cell_type": "code",
      "execution_count": 5,
      "metadata": {
        "colab": {
          "base_uri": "https://localhost:8080/"
        },
        "id": "wGCw6jlfaaTk",
        "outputId": "9f2ad693-22bc-4566-bd8c-bfb092917d66"
      },
      "outputs": [
        {
          "name": "stdout",
          "output_type": "stream",
          "text": [
            "Omeprazole       77.0\n",
            "Azithromycin     45.5\n",
            "Metformin       100.0\n",
            "Ibuprofen        50.0\n",
            "Cetirizine       80.0\n",
            "dtype: float64\n"
          ]
        }
      ],
      "source": [
        "new_price_list = [77, 45.5, 100, 50, 80]\n",
        "new_price_list_labeled = pd.Series(new_price_list, index = ['Omeprazole','Azithromycin','Metformin','Ibuprofen','Cetirizine'])\n",
        "print(new_price_list_labeled)"
      ]
    },
    {
      "cell_type": "code",
      "execution_count": 6,
      "metadata": {
        "colab": {
          "base_uri": "https://localhost:8080/"
        },
        "id": "oynSb82OunnO",
        "outputId": "d9cc4c7a-7fe9-4921-de95-0b6644fe2b1f",
        "scrolled": true
      },
      "outputs": [
        {
          "name": "stdout",
          "output_type": "stream",
          "text": [
            "Diferencia entre el nuevo precio y el anterior\n",
            "Omeprazole      19.5\n",
            "Azithromycin    18.0\n",
            "Metformin       22.5\n",
            "Ibuprofen        7.5\n",
            "Cetirizine     -12.5\n",
            "dtype: float64\n"
          ]
        }
      ],
      "source": [
        "print('Diferencia entre el nuevo precio y el anterior')\n",
        "print(new_price_list_labeled - med_price_list_labeled_updated)"
      ]
    },
    {
      "cell_type": "markdown",
      "metadata": {
        "id": "P0OPO95sztGf"
      },
      "source": [
        "**Pandas DataFrame**\n",
        "\n",
        "El DataFrame de Pandas es una estructura de datos tabular bidimensional con ejes etiquetados (filas y columnas)."
      ]
    },
    {
      "cell_type": "markdown",
      "metadata": {
        "id": "Vb-R08TD0MK6"
      },
      "source": [
        "**Creando un dataframe a partir de una lista**"
      ]
    },
    {
      "cell_type": "code",
      "execution_count": 7,
      "metadata": {
        "colab": {
          "base_uri": "https://localhost:8080/",
          "height": 206
        },
        "id": "YR7Elttt0YWA",
        "outputId": "fbfaf781-4e1d-4998-f636-a5f289977a2b"
      },
      "outputs": [
        {
          "data": {
            "text/html": [
              "<div>\n",
              "<style scoped>\n",
              "    .dataframe tbody tr th:only-of-type {\n",
              "        vertical-align: middle;\n",
              "    }\n",
              "\n",
              "    .dataframe tbody tr th {\n",
              "        vertical-align: top;\n",
              "    }\n",
              "\n",
              "    .dataframe thead th {\n",
              "        text-align: right;\n",
              "    }\n",
              "</style>\n",
              "<table border=\"1\" class=\"dataframe\">\n",
              "  <thead>\n",
              "    <tr style=\"text-align: right;\">\n",
              "      <th></th>\n",
              "      <th>Student</th>\n",
              "    </tr>\n",
              "  </thead>\n",
              "  <tbody>\n",
              "    <tr>\n",
              "      <th>0</th>\n",
              "      <td>María</td>\n",
              "    </tr>\n",
              "    <tr>\n",
              "      <th>1</th>\n",
              "      <td>Pedro</td>\n",
              "    </tr>\n",
              "    <tr>\n",
              "      <th>2</th>\n",
              "      <td>Susana</td>\n",
              "    </tr>\n",
              "    <tr>\n",
              "      <th>3</th>\n",
              "      <td>Juan</td>\n",
              "    </tr>\n",
              "    <tr>\n",
              "      <th>4</th>\n",
              "      <td>Marcos</td>\n",
              "    </tr>\n",
              "  </tbody>\n",
              "</table>\n",
              "</div>"
            ],
            "text/plain": [
              "  Student\n",
              "0   María\n",
              "1   Pedro\n",
              "2  Susana\n",
              "3    Juan\n",
              "4  Marcos"
            ]
          },
          "execution_count": 7,
          "metadata": {},
          "output_type": "execute_result"
        }
      ],
      "source": [
        "student = ['María', 'Pedro', 'Susana', 'Juan', 'Marcos']\n",
        "df1 = pd.DataFrame(student,columns=['Student'])\n",
        "df1"
      ]
    },
    {
      "cell_type": "markdown",
      "metadata": {
        "id": "tbff68pm230z"
      },
      "source": [
        "**Creando un dataframe a partir de un diccionario**"
      ]
    },
    {
      "cell_type": "code",
      "execution_count": 8,
      "metadata": {
        "colab": {
          "base_uri": "https://localhost:8080/",
          "height": 638
        },
        "id": "6ebCP2pi01_L",
        "outputId": "9a27b46c-009e-4671-a0fe-22e2bb6edb9a"
      },
      "outputs": [
        {
          "data": {
            "text/html": [
              "<div>\n",
              "<style scoped>\n",
              "    .dataframe tbody tr th:only-of-type {\n",
              "        vertical-align: middle;\n",
              "    }\n",
              "\n",
              "    .dataframe tbody tr th {\n",
              "        vertical-align: top;\n",
              "    }\n",
              "\n",
              "    .dataframe thead th {\n",
              "        text-align: right;\n",
              "    }\n",
              "</style>\n",
              "<table border=\"1\" class=\"dataframe\">\n",
              "  <thead>\n",
              "    <tr style=\"text-align: right;\">\n",
              "      <th></th>\n",
              "      <th>Student</th>\n",
              "      <th>Grade</th>\n",
              "    </tr>\n",
              "  </thead>\n",
              "  <tbody>\n",
              "    <tr>\n",
              "      <th>0</th>\n",
              "      <td>María</td>\n",
              "      <td>B-</td>\n",
              "    </tr>\n",
              "    <tr>\n",
              "      <th>1</th>\n",
              "      <td>Pedro</td>\n",
              "      <td>A+</td>\n",
              "    </tr>\n",
              "    <tr>\n",
              "      <th>2</th>\n",
              "      <td>Susana</td>\n",
              "      <td>A-</td>\n",
              "    </tr>\n",
              "    <tr>\n",
              "      <th>3</th>\n",
              "      <td>Juan</td>\n",
              "      <td>B+</td>\n",
              "    </tr>\n",
              "    <tr>\n",
              "      <th>4</th>\n",
              "      <td>Marcos</td>\n",
              "      <td>C</td>\n",
              "    </tr>\n",
              "  </tbody>\n",
              "</table>\n",
              "</div>"
            ],
            "text/plain": [
              "  Student Grade\n",
              "0   María    B-\n",
              "1   Pedro    A+\n",
              "2  Susana    A-\n",
              "3    Juan    B+\n",
              "4  Marcos     C"
            ]
          },
          "execution_count": 8,
          "metadata": {},
          "output_type": "execute_result"
        }
      ],
      "source": [
        "#  Definimos otra lista\n",
        "grades = ['B-','A+','A-', 'B+', 'C']\n",
        "\n",
        "# Creamos el dataframe\n",
        "df2 = pd.DataFrame({'Student':student,'Grade':grades})\n",
        "df2"
      ]
    },
    {
      "cell_type": "markdown",
      "metadata": {
        "id": "lj7iRqkS145x"
      },
      "source": [
        "**Creando un dataframe usando Series**"
      ]
    },
    {
      "cell_type": "markdown",
      "metadata": {
        "id": "YbJy3YLMaaTm"
      },
      "source": [
        "Los datos de consumo total de energía para Estados Unidos se recopilaron desde 2012 hasta 2018. Veamos cómo estos datos pueden presentarse en forma de DataFrame."
      ]
    },
    {
      "cell_type": "code",
      "execution_count": 9,
      "metadata": {
        "colab": {
          "base_uri": "https://localhost:8080/",
          "height": 269
        },
        "id": "Lg18pRxJ3YVd",
        "outputId": "1ba04ddd-8e9f-4d27-8b5d-7a6a58a0f3e8"
      },
      "outputs": [
        {
          "data": {
            "text/html": [
              "<div>\n",
              "<style scoped>\n",
              "    .dataframe tbody tr th:only-of-type {\n",
              "        vertical-align: middle;\n",
              "    }\n",
              "\n",
              "    .dataframe tbody tr th {\n",
              "        vertical-align: top;\n",
              "    }\n",
              "\n",
              "    .dataframe thead th {\n",
              "        text-align: right;\n",
              "    }\n",
              "</style>\n",
              "<table border=\"1\" class=\"dataframe\">\n",
              "  <thead>\n",
              "    <tr style=\"text-align: right;\">\n",
              "      <th></th>\n",
              "      <th>Year</th>\n",
              "      <th>Energy_Consumption(Mtoe)</th>\n",
              "    </tr>\n",
              "  </thead>\n",
              "  <tbody>\n",
              "    <tr>\n",
              "      <th>0</th>\n",
              "      <td>2012</td>\n",
              "      <td>2152</td>\n",
              "    </tr>\n",
              "    <tr>\n",
              "      <th>1</th>\n",
              "      <td>2013</td>\n",
              "      <td>2196</td>\n",
              "    </tr>\n",
              "    <tr>\n",
              "      <th>2</th>\n",
              "      <td>2014</td>\n",
              "      <td>2217</td>\n",
              "    </tr>\n",
              "    <tr>\n",
              "      <th>3</th>\n",
              "      <td>2015</td>\n",
              "      <td>2194</td>\n",
              "    </tr>\n",
              "    <tr>\n",
              "      <th>4</th>\n",
              "      <td>2016</td>\n",
              "      <td>2172</td>\n",
              "    </tr>\n",
              "    <tr>\n",
              "      <th>5</th>\n",
              "      <td>2017</td>\n",
              "      <td>2180</td>\n",
              "    </tr>\n",
              "    <tr>\n",
              "      <th>6</th>\n",
              "      <td>2018</td>\n",
              "      <td>2258</td>\n",
              "    </tr>\n",
              "  </tbody>\n",
              "</table>\n",
              "</div>"
            ],
            "text/plain": [
              "   Year  Energy_Consumption(Mtoe)\n",
              "0  2012                      2152\n",
              "1  2013                      2196\n",
              "2  2014                      2217\n",
              "3  2015                      2194\n",
              "4  2016                      2172\n",
              "5  2017                      2180\n",
              "6  2018                      2258"
            ]
          },
          "execution_count": 9,
          "metadata": {},
          "output_type": "execute_result"
        }
      ],
      "source": [
        "year = pd.Series([2012,2013,2014,2015,2016,2017,2018])\n",
        "energy_consumption = pd.Series([2152,2196,2217,2194,2172,2180,2258])\n",
        "\n",
        "df3 = pd.DataFrame({'Year':year,'Energy_Consumption(Mtoe)':energy_consumption})\n",
        "df3"
      ]
    },
    {
      "cell_type": "markdown",
      "metadata": {
        "id": "wD1Z1hsA55A-"
      },
      "source": [
        "**Creando un dataframe usando valores alteatorios**"
      ]
    },
    {
      "cell_type": "markdown",
      "metadata": {
        "id": "W_UWLjAOaaTn"
      },
      "source": [
        "Con fines de encriptación, una compañía de navegadores web desea generar valores aleatorios con una media igual a 0 y una varianza igual a 1. Desean obtener 5 números generados al azar en 2 pruebas diferentes.\""
      ]
    },
    {
      "cell_type": "code",
      "execution_count": 10,
      "metadata": {
        "colab": {
          "base_uri": "https://localhost:8080/",
          "height": 206
        },
        "id": "5cdmJWu83xAD",
        "outputId": "e001013e-236b-404a-86a0-db373cf5afa1"
      },
      "outputs": [
        {
          "data": {
            "text/html": [
              "<div>\n",
              "<style scoped>\n",
              "    .dataframe tbody tr th:only-of-type {\n",
              "        vertical-align: middle;\n",
              "    }\n",
              "\n",
              "    .dataframe tbody tr th {\n",
              "        vertical-align: top;\n",
              "    }\n",
              "\n",
              "    .dataframe thead th {\n",
              "        text-align: right;\n",
              "    }\n",
              "</style>\n",
              "<table border=\"1\" class=\"dataframe\">\n",
              "  <thead>\n",
              "    <tr style=\"text-align: right;\">\n",
              "      <th></th>\n",
              "      <th>Trial 1</th>\n",
              "      <th>Trial 2</th>\n",
              "    </tr>\n",
              "  </thead>\n",
              "  <tbody>\n",
              "    <tr>\n",
              "      <th>0</th>\n",
              "      <td>-0.304968</td>\n",
              "      <td>-1.850189</td>\n",
              "    </tr>\n",
              "    <tr>\n",
              "      <th>1</th>\n",
              "      <td>0.586940</td>\n",
              "      <td>0.129830</td>\n",
              "    </tr>\n",
              "    <tr>\n",
              "      <th>2</th>\n",
              "      <td>0.519317</td>\n",
              "      <td>0.459882</td>\n",
              "    </tr>\n",
              "    <tr>\n",
              "      <th>3</th>\n",
              "      <td>-0.803955</td>\n",
              "      <td>-1.986851</td>\n",
              "    </tr>\n",
              "    <tr>\n",
              "      <th>4</th>\n",
              "      <td>-2.315399</td>\n",
              "      <td>-0.244799</td>\n",
              "    </tr>\n",
              "  </tbody>\n",
              "</table>\n",
              "</div>"
            ],
            "text/plain": [
              "    Trial 1   Trial 2\n",
              "0 -0.304968 -1.850189\n",
              "1  0.586940  0.129830\n",
              "2  0.519317  0.459882\n",
              "3 -0.803955 -1.986851\n",
              "4 -2.315399 -0.244799"
            ]
          },
          "execution_count": 10,
          "metadata": {},
          "output_type": "execute_result"
        }
      ],
      "source": [
        "# Creamos el daframe\n",
        "df4 = pd.DataFrame(np.random.randn(5,2),columns = ['Trial 1', 'Trial 2'])\n",
        "df4"
      ]
    },
    {
      "cell_type": "markdown",
      "metadata": {
        "id": "c7MwEmop6GWe"
      },
      "source": [
        "### 2.5 Pandas - Accediendo y modificando elementos"
      ]
    },
    {
      "cell_type": "markdown",
      "metadata": {
        "id": "jy3tHXkyJLu9"
      },
      "source": [
        "**Accediendo Series**"
      ]
    },
    {
      "cell_type": "markdown",
      "metadata": {
        "id": "UWxqQH5aaaTo"
      },
      "source": [
        "Se recopiló la facturación (en miles de millones de dólares) de diferentes operadores de telecomunicaciones en los Estados Unidos para el año 2020. Las siguientes listas contienen los nombres de los operadores de telecomunicaciones y sus respectivas facturaciones (en miles de millones de dólares).\""
      ]
    },
    {
      "cell_type": "code",
      "execution_count": 11,
      "metadata": {
        "colab": {
          "base_uri": "https://localhost:8080/"
        },
        "id": "8hlsWm_MaaTo",
        "outputId": "7165600c-c74a-42b3-de39-585c88f01342"
      },
      "outputs": [
        {
          "data": {
            "text/plain": [
              "AT&T           171.76\n",
              "Verizon        128.29\n",
              "T-Mobile US     68.40\n",
              "US Cellular      4.04\n",
              "dtype: float64"
            ]
          },
          "execution_count": 11,
          "metadata": {},
          "output_type": "execute_result"
        }
      ],
      "source": [
        "operators = ['AT&T', 'Verizon', 'T-Mobile US', 'US Cellular']\n",
        "revenue = [171.76, 128.29, 68.4, 4.04]\n",
        "\n",
        "#Creamos un Pandas series a partir de listas\n",
        "telecom = pd.Series(revenue, index=operators)\n",
        "telecom"
      ]
    },
    {
      "cell_type": "markdown",
      "metadata": {
        "id": "LSIn5H4_I5cc"
      },
      "source": [
        "**Accessing Pandas Series using its index**"
      ]
    },
    {
      "cell_type": "code",
      "execution_count": 12,
      "metadata": {
        "colab": {
          "base_uri": "https://localhost:8080/"
        },
        "id": "iFy5pkGRKBWQ",
        "outputId": "9ad4bce6-a99f-4600-e6d2-474012e0631e"
      },
      "outputs": [
        {
          "name": "stderr",
          "output_type": "stream",
          "text": [
            "C:\\Users\\Ernesto\\AppData\\Local\\Temp\\ipykernel_19364\\3413269186.py:2: FutureWarning: Series.__getitem__ treating keys as positions is deprecated. In a future version, integer keys will always be treated as labels (consistent with DataFrame behavior). To access a value by position, use `ser.iloc[pos]`\n",
            "  telecom[0]\n"
          ]
        },
        {
          "data": {
            "text/plain": [
              "171.76"
            ]
          },
          "execution_count": 12,
          "metadata": {},
          "output_type": "execute_result"
        }
      ],
      "source": [
        "# Accedemos al primer elemento\n",
        "telecom[0]"
      ]
    },
    {
      "cell_type": "code",
      "execution_count": 13,
      "metadata": {
        "colab": {
          "base_uri": "https://localhost:8080/"
        },
        "id": "UZTdWeaQKicd",
        "outputId": "d78c63d0-b917-4c50-dc06-20e7b9491e2d"
      },
      "outputs": [
        {
          "data": {
            "text/plain": [
              "AT&T           171.76\n",
              "Verizon        128.29\n",
              "T-Mobile US     68.40\n",
              "dtype: float64"
            ]
          },
          "execution_count": 13,
          "metadata": {},
          "output_type": "execute_result"
        }
      ],
      "source": [
        "#  Accedemos a los primeros 3 elementos\n",
        "telecom[:3]"
      ]
    },
    {
      "cell_type": "code",
      "execution_count": 14,
      "metadata": {
        "colab": {
          "base_uri": "https://localhost:8080/"
        },
        "id": "xxyTDCkKKrKP",
        "outputId": "5683e2e5-137b-4fcd-a5d9-4bb0d5907685"
      },
      "outputs": [
        {
          "data": {
            "text/plain": [
              "T-Mobile US    68.40\n",
              "US Cellular     4.04\n",
              "dtype: float64"
            ]
          },
          "execution_count": 14,
          "metadata": {},
          "output_type": "execute_result"
        }
      ],
      "source": [
        "# Accedemos a los 2 últimos elementos\n",
        "telecom[-2:]"
      ]
    },
    {
      "cell_type": "markdown",
      "metadata": {
        "id": "kbrvcVEzLJrO"
      },
      "source": [
        "**Accediendo a Series de Pandas utilizando su índice**"
      ]
    },
    {
      "cell_type": "code",
      "execution_count": 15,
      "metadata": {
        "colab": {
          "base_uri": "https://localhost:8080/"
        },
        "id": "WXRSET1iJT6t",
        "outputId": "8877b925-5ac7-4cc7-869d-7c5e4ac6cbbf"
      },
      "outputs": [
        {
          "data": {
            "text/plain": [
              "171.76"
            ]
          },
          "execution_count": 15,
          "metadata": {},
          "output_type": "execute_result"
        }
      ],
      "source": [
        "telecom['AT&T']"
      ]
    },
    {
      "cell_type": "code",
      "execution_count": 16,
      "metadata": {
        "colab": {
          "base_uri": "https://localhost:8080/"
        },
        "id": "I3RQr51ILfJl",
        "outputId": "d06d9071-4159-429c-e65c-d1c5a88c963f"
      },
      "outputs": [
        {
          "data": {
            "text/plain": [
              "AT&T           171.76\n",
              "Verizon        128.29\n",
              "T-Mobile US     68.40\n",
              "dtype: float64"
            ]
          },
          "execution_count": 16,
          "metadata": {},
          "output_type": "execute_result"
        }
      ],
      "source": [
        "# Accedemos a los 3 primers elementos\n",
        "telecom[:'T-Mobile US']"
      ]
    },
    {
      "cell_type": "code",
      "execution_count": 17,
      "metadata": {
        "colab": {
          "base_uri": "https://localhost:8080/"
        },
        "id": "dap494agJWhA",
        "outputId": "5070d016-afb0-4e9f-958f-3049d9f1b105"
      },
      "outputs": [
        {
          "data": {
            "text/plain": [
              "AT&T           171.76\n",
              "US Cellular      4.04\n",
              "Verizon        128.29\n",
              "dtype: float64"
            ]
          },
          "execution_count": 17,
          "metadata": {},
          "output_type": "execute_result"
        }
      ],
      "source": [
        "# Accedemos a múltiplos valores\n",
        "telecom[['AT&T','US Cellular','Verizon']]"
      ]
    },
    {
      "cell_type": "markdown",
      "metadata": {
        "id": "E-MAFZwTJhfN"
      },
      "source": [
        "**Accessing DataFrames**"
      ]
    },
    {
      "cell_type": "markdown",
      "metadata": {
        "id": "k1lOvovyaaTq"
      },
      "source": [
        "Se recopilaron los datos de los clientes que visitaron las tiendas 24/7 desde diferentes ubicaciones. Los datos incluyen el ID del cliente, la ubicación de la tienda, el género del cliente, el tipo de producto comprado, la cantidad de productos comprados y el monto total de la factura. Creemos el conjunto de datos y veamos cómo acceder a diferentes entradas del mismo."
      ]
    },
    {
      "cell_type": "code",
      "execution_count": 18,
      "metadata": {
        "colab": {
          "base_uri": "https://localhost:8080/",
          "height": 206
        },
        "id": "Bozahsu4aaTq",
        "outputId": "1f7393f9-0f25-477e-d04a-9791e34cde69"
      },
      "outputs": [
        {
          "data": {
            "text/html": [
              "<div>\n",
              "<style scoped>\n",
              "    .dataframe tbody tr th:only-of-type {\n",
              "        vertical-align: middle;\n",
              "    }\n",
              "\n",
              "    .dataframe tbody tr th {\n",
              "        vertical-align: top;\n",
              "    }\n",
              "\n",
              "    .dataframe thead th {\n",
              "        text-align: right;\n",
              "    }\n",
              "</style>\n",
              "<table border=\"1\" class=\"dataframe\">\n",
              "  <thead>\n",
              "    <tr style=\"text-align: right;\">\n",
              "      <th></th>\n",
              "      <th>CustomerID</th>\n",
              "      <th>location</th>\n",
              "      <th>gender</th>\n",
              "      <th>type</th>\n",
              "      <th>quantity</th>\n",
              "      <th>total_bill</th>\n",
              "    </tr>\n",
              "  </thead>\n",
              "  <tbody>\n",
              "    <tr>\n",
              "      <th>0</th>\n",
              "      <td>CustID00</td>\n",
              "      <td>Chicago</td>\n",
              "      <td>M</td>\n",
              "      <td>Electronics</td>\n",
              "      <td>1</td>\n",
              "      <td>100</td>\n",
              "    </tr>\n",
              "    <tr>\n",
              "      <th>1</th>\n",
              "      <td>CustID01</td>\n",
              "      <td>Boston</td>\n",
              "      <td>M</td>\n",
              "      <td>Food&amp;Beverages</td>\n",
              "      <td>3</td>\n",
              "      <td>75</td>\n",
              "    </tr>\n",
              "    <tr>\n",
              "      <th>2</th>\n",
              "      <td>CustID02</td>\n",
              "      <td>Seattle</td>\n",
              "      <td>F</td>\n",
              "      <td>Food&amp;Beverages</td>\n",
              "      <td>4</td>\n",
              "      <td>125</td>\n",
              "    </tr>\n",
              "    <tr>\n",
              "      <th>3</th>\n",
              "      <td>CustID03</td>\n",
              "      <td>San Francisco</td>\n",
              "      <td>M</td>\n",
              "      <td>Medicine</td>\n",
              "      <td>2</td>\n",
              "      <td>50</td>\n",
              "    </tr>\n",
              "    <tr>\n",
              "      <th>4</th>\n",
              "      <td>CustID04</td>\n",
              "      <td>Austin</td>\n",
              "      <td>F</td>\n",
              "      <td>Beauty</td>\n",
              "      <td>1</td>\n",
              "      <td>80</td>\n",
              "    </tr>\n",
              "  </tbody>\n",
              "</table>\n",
              "</div>"
            ],
            "text/plain": [
              "  CustomerID       location gender            type  quantity  total_bill\n",
              "0   CustID00        Chicago      M     Electronics         1         100\n",
              "1   CustID01         Boston      M  Food&Beverages         3          75\n",
              "2   CustID02        Seattle      F  Food&Beverages         4         125\n",
              "3   CustID03  San Francisco      M        Medicine         2          50\n",
              "4   CustID04         Austin      F          Beauty         1          80"
            ]
          },
          "execution_count": 18,
          "metadata": {},
          "output_type": "execute_result"
        }
      ],
      "source": [
        "# Creamos un dataframe usando diccionario\n",
        "store_data = pd.DataFrame({'CustomerID': ['CustID00','CustID01','CustID02','CustID03','CustID04']\n",
        "                           ,'location': ['Chicago', 'Boston', 'Seattle', 'San Francisco', 'Austin']\n",
        "                           ,'gender': ['M','M','F','M','F']\n",
        "                           ,'type': ['Electronics','Food&Beverages','Food&Beverages','Medicine','Beauty']\n",
        "                           ,'quantity':[1,3,4,2,1],'total_bill':[100,75,125,50,80]})\n",
        "store_data"
      ]
    },
    {
      "cell_type": "code",
      "execution_count": 19,
      "metadata": {
        "colab": {
          "base_uri": "https://localhost:8080/",
          "height": 81
        },
        "id": "U_v2ac5mUMtp",
        "outputId": "a1a9eba9-c51e-4a70-e1a7-2abe6f36aa1c"
      },
      "outputs": [
        {
          "data": {
            "text/html": [
              "<div>\n",
              "<style scoped>\n",
              "    .dataframe tbody tr th:only-of-type {\n",
              "        vertical-align: middle;\n",
              "    }\n",
              "\n",
              "    .dataframe tbody tr th {\n",
              "        vertical-align: top;\n",
              "    }\n",
              "\n",
              "    .dataframe thead th {\n",
              "        text-align: right;\n",
              "    }\n",
              "</style>\n",
              "<table border=\"1\" class=\"dataframe\">\n",
              "  <thead>\n",
              "    <tr style=\"text-align: right;\">\n",
              "      <th></th>\n",
              "      <th>CustomerID</th>\n",
              "      <th>location</th>\n",
              "      <th>gender</th>\n",
              "      <th>type</th>\n",
              "      <th>quantity</th>\n",
              "      <th>total_bill</th>\n",
              "    </tr>\n",
              "  </thead>\n",
              "  <tbody>\n",
              "    <tr>\n",
              "      <th>0</th>\n",
              "      <td>CustID00</td>\n",
              "      <td>Chicago</td>\n",
              "      <td>M</td>\n",
              "      <td>Electronics</td>\n",
              "      <td>1</td>\n",
              "      <td>100</td>\n",
              "    </tr>\n",
              "  </tbody>\n",
              "</table>\n",
              "</div>"
            ],
            "text/plain": [
              "  CustomerID location gender         type  quantity  total_bill\n",
              "0   CustID00  Chicago      M  Electronics         1         100"
            ]
          },
          "execution_count": 19,
          "metadata": {},
          "output_type": "execute_result"
        }
      ],
      "source": [
        "# Accedemos a la primera fila\n",
        "store_data[:1]"
      ]
    },
    {
      "cell_type": "code",
      "execution_count": 20,
      "metadata": {
        "colab": {
          "base_uri": "https://localhost:8080/"
        },
        "id": "AOPng29EUVMG",
        "outputId": "d368f2c5-0aad-4852-d3b3-06d0fd8cdae9"
      },
      "outputs": [
        {
          "data": {
            "text/plain": [
              "0          Chicago\n",
              "1           Boston\n",
              "2          Seattle\n",
              "3    San Francisco\n",
              "4           Austin\n",
              "Name: location, dtype: object"
            ]
          },
          "execution_count": 20,
          "metadata": {},
          "output_type": "execute_result"
        }
      ],
      "source": [
        "# Accedemos a la primera columna\n",
        "store_data['location']"
      ]
    },
    {
      "cell_type": "code",
      "execution_count": 21,
      "metadata": {
        "colab": {
          "base_uri": "https://localhost:8080/",
          "height": 143
        },
        "id": "mjDrEFdnNvBl",
        "outputId": "576848d7-5fc2-44a5-9dbe-f2b86974814c"
      },
      "outputs": [
        {
          "data": {
            "text/html": [
              "<div>\n",
              "<style scoped>\n",
              "    .dataframe tbody tr th:only-of-type {\n",
              "        vertical-align: middle;\n",
              "    }\n",
              "\n",
              "    .dataframe tbody tr th {\n",
              "        vertical-align: top;\n",
              "    }\n",
              "\n",
              "    .dataframe thead th {\n",
              "        text-align: right;\n",
              "    }\n",
              "</style>\n",
              "<table border=\"1\" class=\"dataframe\">\n",
              "  <thead>\n",
              "    <tr style=\"text-align: right;\">\n",
              "      <th></th>\n",
              "      <th>CustomerID</th>\n",
              "      <th>location</th>\n",
              "      <th>gender</th>\n",
              "      <th>type</th>\n",
              "      <th>quantity</th>\n",
              "      <th>total_bill</th>\n",
              "    </tr>\n",
              "  </thead>\n",
              "  <tbody>\n",
              "    <tr>\n",
              "      <th>0</th>\n",
              "      <td>CustID00</td>\n",
              "      <td>Chicago</td>\n",
              "      <td>M</td>\n",
              "      <td>Electronics</td>\n",
              "      <td>1</td>\n",
              "      <td>100</td>\n",
              "    </tr>\n",
              "    <tr>\n",
              "      <th>2</th>\n",
              "      <td>CustID02</td>\n",
              "      <td>Seattle</td>\n",
              "      <td>F</td>\n",
              "      <td>Food&amp;Beverages</td>\n",
              "      <td>4</td>\n",
              "      <td>125</td>\n",
              "    </tr>\n",
              "    <tr>\n",
              "      <th>4</th>\n",
              "      <td>CustID04</td>\n",
              "      <td>Austin</td>\n",
              "      <td>F</td>\n",
              "      <td>Beauty</td>\n",
              "      <td>1</td>\n",
              "      <td>80</td>\n",
              "    </tr>\n",
              "  </tbody>\n",
              "</table>\n",
              "</div>"
            ],
            "text/plain": [
              "  CustomerID location gender            type  quantity  total_bill\n",
              "0   CustID00  Chicago      M     Electronics         1         100\n",
              "2   CustID02  Seattle      F  Food&Beverages         4         125\n",
              "4   CustID04   Austin      F          Beauty         1          80"
            ]
          },
          "execution_count": 21,
          "metadata": {},
          "output_type": "execute_result"
        }
      ],
      "source": [
        "# Accedemos solo a las filas pares\n",
        "store_data[::2]"
      ]
    },
    {
      "cell_type": "markdown",
      "metadata": {
        "id": "ed3PjeXmPhHS"
      },
      "source": [
        "**Usando loc - iloc**"
      ]
    },
    {
      "cell_type": "markdown",
      "metadata": {
        "id": "WHWSlf0PPxWv"
      },
      "source": [
        "**Método loc**\n",
        "\n",
        "* loc es un método para acceder a filas y columnas en objetos pandas. Cuando utilizamos el método loc en un dataframe, especificamos qué filas y qué columnas deseamos utilizando el siguiente formato:\n",
        "\n",
        "  * **dataframe.loc[selección de filas, selección de columnas]**\n",
        "\n",
        "* El método DataFrame.loc[] es un método que toma **solo etiquetas de índice** y devuelve una fila o un dataframe si la etiqueta de índice existe en el dataframe de datos."
      ]
    },
    {
      "cell_type": "code",
      "execution_count": 22,
      "metadata": {
        "colab": {
          "base_uri": "https://localhost:8080/"
        },
        "id": "wwnArsdDO23-",
        "outputId": "bef13366-7058-452f-d6ba-27b4866f4ffd"
      },
      "outputs": [
        {
          "data": {
            "text/plain": [
              "CustomerID          CustID01\n",
              "location              Boston\n",
              "gender                     M\n",
              "type          Food&Beverages\n",
              "quantity                   3\n",
              "total_bill                75\n",
              "Name: 1, dtype: object"
            ]
          },
          "execution_count": 22,
          "metadata": {},
          "output_type": "execute_result"
        }
      ],
      "source": [
        "# Accediendo al valor del primer índice utilizando el método 'loc' (la indexación comienza desde 0 en Python)\n",
        "store_data.loc[1]"
      ]
    },
    {
      "cell_type": "markdown",
      "metadata": {
        "id": "Q0yJ-rLlaaTs"
      },
      "source": [
        "**Acceso a filas y columnas seleccionadas utilizando el método 'loc'**"
      ]
    },
    {
      "cell_type": "code",
      "execution_count": 23,
      "metadata": {
        "colab": {
          "base_uri": "https://localhost:8080/",
          "height": 112
        },
        "id": "nb1S6qqCS3j2",
        "outputId": "f96a806a-1f1f-4905-bdf8-c2e4358a3a08"
      },
      "outputs": [
        {
          "data": {
            "text/html": [
              "<div>\n",
              "<style scoped>\n",
              "    .dataframe tbody tr th:only-of-type {\n",
              "        vertical-align: middle;\n",
              "    }\n",
              "\n",
              "    .dataframe tbody tr th {\n",
              "        vertical-align: top;\n",
              "    }\n",
              "\n",
              "    .dataframe thead th {\n",
              "        text-align: right;\n",
              "    }\n",
              "</style>\n",
              "<table border=\"1\" class=\"dataframe\">\n",
              "  <thead>\n",
              "    <tr style=\"text-align: right;\">\n",
              "      <th></th>\n",
              "      <th>location</th>\n",
              "      <th>type</th>\n",
              "    </tr>\n",
              "  </thead>\n",
              "  <tbody>\n",
              "    <tr>\n",
              "      <th>1</th>\n",
              "      <td>Boston</td>\n",
              "      <td>Food&amp;Beverages</td>\n",
              "    </tr>\n",
              "    <tr>\n",
              "      <th>4</th>\n",
              "      <td>Austin</td>\n",
              "      <td>Beauty</td>\n",
              "    </tr>\n",
              "  </tbody>\n",
              "</table>\n",
              "</div>"
            ],
            "text/plain": [
              "  location            type\n",
              "1   Boston  Food&Beverages\n",
              "4   Austin          Beauty"
            ]
          },
          "execution_count": 23,
          "metadata": {},
          "output_type": "execute_result"
        }
      ],
      "source": [
        "# Accediendo a los valores de los índices 1 y 4 junto con las columnas de ubicación y tipo.\n",
        "store_data.loc[[1,4],['location','type']]"
      ]
    },
    {
      "cell_type": "markdown",
      "metadata": {
        "id": "XL5mkENwQ1Yt"
      },
      "source": [
        "**Método iloc**\n",
        "\n",
        "* El indexador iloc para los DataFrames de Pandas se utiliza para la selección/indexación basada en la **ubicación de enteros** por posición. Al usar el método iloc en un DataFrame, especificamos qué filas y qué columnas queremos seleccionar utilizando el siguiente formato:\n",
        "\n",
        "  * **dataframe.iloc[selección de filas, selección de columnas]**\n",
        "\n"
      ]
    },
    {
      "cell_type": "code",
      "execution_count": 24,
      "metadata": {
        "colab": {
          "base_uri": "https://localhost:8080/",
          "height": 112
        },
        "id": "PP6eMjy-RNVd",
        "outputId": "bc439a09-2600-4a7c-f6c7-242f69d112b3"
      },
      "outputs": [
        {
          "data": {
            "text/html": [
              "<div>\n",
              "<style scoped>\n",
              "    .dataframe tbody tr th:only-of-type {\n",
              "        vertical-align: middle;\n",
              "    }\n",
              "\n",
              "    .dataframe tbody tr th {\n",
              "        vertical-align: top;\n",
              "    }\n",
              "\n",
              "    .dataframe thead th {\n",
              "        text-align: right;\n",
              "    }\n",
              "</style>\n",
              "<table border=\"1\" class=\"dataframe\">\n",
              "  <thead>\n",
              "    <tr style=\"text-align: right;\">\n",
              "      <th></th>\n",
              "      <th>CustomerID</th>\n",
              "      <th>gender</th>\n",
              "    </tr>\n",
              "  </thead>\n",
              "  <tbody>\n",
              "    <tr>\n",
              "      <th>1</th>\n",
              "      <td>CustID01</td>\n",
              "      <td>M</td>\n",
              "    </tr>\n",
              "    <tr>\n",
              "      <th>4</th>\n",
              "      <td>CustID04</td>\n",
              "      <td>F</td>\n",
              "    </tr>\n",
              "  </tbody>\n",
              "</table>\n",
              "</div>"
            ],
            "text/plain": [
              "  CustomerID gender\n",
              "1   CustID01      M\n",
              "4   CustID04      F"
            ]
          },
          "execution_count": 24,
          "metadata": {},
          "output_type": "execute_result"
        }
      ],
      "source": [
        "# Accediendo a filas y columnas seleccionadas utilizando el método iloc\n",
        "store_data.iloc[[1,4],[0,2]]"
      ]
    },
    {
      "cell_type": "markdown",
      "metadata": {
        "id": "YUjPItvHXNa_"
      },
      "source": [
        "**Diferencia entre los métodos de indexación loc e iloc**\n",
        "\n",
        "* loc se basa en etiquetas, lo que significa que debes especificar filas y columnas según sus etiquetas de fila y columna.\n",
        "* iloc se basa en la posición de enteros, por lo que debes especificar filas y columnas por sus valores de posición de enteros (posición de enteros basada en 0).\n"
      ]
    },
    {
      "cell_type": "markdown",
      "metadata": {
        "id": "PUL471fKaaTt"
      },
      "source": [
        "Si utilizamos etiquetas en lugar de valores de índice en .iloc, se generará un error."
      ]
    },
    {
      "cell_type": "code",
      "execution_count": 25,
      "metadata": {
        "colab": {
          "base_uri": "https://localhost:8080/",
          "height": 346
        },
        "id": "TMDNQ34raaTt",
        "outputId": "1e32cea3-750a-47c1-b049-212eefbaebce"
      },
      "outputs": [],
      "source": [
        "# Accediendo a filas y columnas seleccionadas utilizando el método iloc\n",
        "# store_data.iloc[[1,4],['location','type']]"
      ]
    },
    {
      "cell_type": "markdown",
      "metadata": {
        "id": "Gitf4BMjkAlE"
      },
      "source": [
        "* As expected, .iloc has given error on using 'labels'."
      ]
    },
    {
      "cell_type": "markdown",
      "metadata": {
        "id": "RBPiD5DiTUGN"
      },
      "source": [
        "Podemos modificar las entradas de un DataFrame utilizando los métodos loc o iloc."
      ]
    },
    {
      "cell_type": "code",
      "execution_count": 26,
      "metadata": {
        "colab": {
          "base_uri": "https://localhost:8080/"
        },
        "id": "0UkHqdZNQfYh",
        "outputId": "5d2450a9-364e-49e4-d7d3-603a43f18047"
      },
      "outputs": [
        {
          "name": "stdout",
          "output_type": "stream",
          "text": [
            "Beauty\n"
          ]
        }
      ],
      "source": [
        "print(store_data.loc[4,'type'])\n",
        "store_data.loc[4,'type'] = 'Electronics'"
      ]
    },
    {
      "cell_type": "code",
      "execution_count": 27,
      "metadata": {
        "colab": {
          "base_uri": "https://localhost:8080/",
          "height": 206
        },
        "id": "RjRVVLptRaPw",
        "outputId": "b212b474-cab4-4134-94ab-2d6ccb2452f8"
      },
      "outputs": [
        {
          "data": {
            "text/html": [
              "<div>\n",
              "<style scoped>\n",
              "    .dataframe tbody tr th:only-of-type {\n",
              "        vertical-align: middle;\n",
              "    }\n",
              "\n",
              "    .dataframe tbody tr th {\n",
              "        vertical-align: top;\n",
              "    }\n",
              "\n",
              "    .dataframe thead th {\n",
              "        text-align: right;\n",
              "    }\n",
              "</style>\n",
              "<table border=\"1\" class=\"dataframe\">\n",
              "  <thead>\n",
              "    <tr style=\"text-align: right;\">\n",
              "      <th></th>\n",
              "      <th>CustomerID</th>\n",
              "      <th>location</th>\n",
              "      <th>gender</th>\n",
              "      <th>type</th>\n",
              "      <th>quantity</th>\n",
              "      <th>total_bill</th>\n",
              "    </tr>\n",
              "  </thead>\n",
              "  <tbody>\n",
              "    <tr>\n",
              "      <th>0</th>\n",
              "      <td>CustID00</td>\n",
              "      <td>Chicago</td>\n",
              "      <td>M</td>\n",
              "      <td>Electronics</td>\n",
              "      <td>1</td>\n",
              "      <td>100</td>\n",
              "    </tr>\n",
              "    <tr>\n",
              "      <th>1</th>\n",
              "      <td>CustID01</td>\n",
              "      <td>Boston</td>\n",
              "      <td>M</td>\n",
              "      <td>Food&amp;Beverages</td>\n",
              "      <td>3</td>\n",
              "      <td>75</td>\n",
              "    </tr>\n",
              "    <tr>\n",
              "      <th>2</th>\n",
              "      <td>CustID02</td>\n",
              "      <td>Seattle</td>\n",
              "      <td>F</td>\n",
              "      <td>Food&amp;Beverages</td>\n",
              "      <td>4</td>\n",
              "      <td>125</td>\n",
              "    </tr>\n",
              "    <tr>\n",
              "      <th>3</th>\n",
              "      <td>CustID03</td>\n",
              "      <td>San Francisco</td>\n",
              "      <td>M</td>\n",
              "      <td>Medicine</td>\n",
              "      <td>2</td>\n",
              "      <td>50</td>\n",
              "    </tr>\n",
              "    <tr>\n",
              "      <th>4</th>\n",
              "      <td>CustID04</td>\n",
              "      <td>Austin</td>\n",
              "      <td>F</td>\n",
              "      <td>Electronics</td>\n",
              "      <td>1</td>\n",
              "      <td>80</td>\n",
              "    </tr>\n",
              "  </tbody>\n",
              "</table>\n",
              "</div>"
            ],
            "text/plain": [
              "  CustomerID       location gender            type  quantity  total_bill\n",
              "0   CustID00        Chicago      M     Electronics         1         100\n",
              "1   CustID01         Boston      M  Food&Beverages         3          75\n",
              "2   CustID02        Seattle      F  Food&Beverages         4         125\n",
              "3   CustID03  San Francisco      M        Medicine         2          50\n",
              "4   CustID04         Austin      F     Electronics         1          80"
            ]
          },
          "execution_count": 27,
          "metadata": {},
          "output_type": "execute_result"
        }
      ],
      "source": [
        "store_data"
      ]
    },
    {
      "cell_type": "code",
      "execution_count": 28,
      "metadata": {
        "colab": {
          "base_uri": "https://localhost:8080/",
          "height": 206
        },
        "id": "2W8vdM6uTuSt",
        "outputId": "0e554925-2c7d-4dc3-ed74-3a8f73d18d37"
      },
      "outputs": [
        {
          "data": {
            "text/html": [
              "<div>\n",
              "<style scoped>\n",
              "    .dataframe tbody tr th:only-of-type {\n",
              "        vertical-align: middle;\n",
              "    }\n",
              "\n",
              "    .dataframe tbody tr th {\n",
              "        vertical-align: top;\n",
              "    }\n",
              "\n",
              "    .dataframe thead th {\n",
              "        text-align: right;\n",
              "    }\n",
              "</style>\n",
              "<table border=\"1\" class=\"dataframe\">\n",
              "  <thead>\n",
              "    <tr style=\"text-align: right;\">\n",
              "      <th></th>\n",
              "      <th>CustomerID</th>\n",
              "      <th>location</th>\n",
              "      <th>gender</th>\n",
              "      <th>type</th>\n",
              "      <th>quantity</th>\n",
              "      <th>total_bill</th>\n",
              "    </tr>\n",
              "  </thead>\n",
              "  <tbody>\n",
              "    <tr>\n",
              "      <th>0</th>\n",
              "      <td>CustID00</td>\n",
              "      <td>Chicago</td>\n",
              "      <td>M</td>\n",
              "      <td>Electronics</td>\n",
              "      <td>1</td>\n",
              "      <td>100</td>\n",
              "    </tr>\n",
              "    <tr>\n",
              "      <th>1</th>\n",
              "      <td>CustID01</td>\n",
              "      <td>Boston</td>\n",
              "      <td>M</td>\n",
              "      <td>Food&amp;Beverages</td>\n",
              "      <td>3</td>\n",
              "      <td>75</td>\n",
              "    </tr>\n",
              "    <tr>\n",
              "      <th>2</th>\n",
              "      <td>CustID02</td>\n",
              "      <td>Seattle</td>\n",
              "      <td>F</td>\n",
              "      <td>Food&amp;Beverages</td>\n",
              "      <td>4</td>\n",
              "      <td>125</td>\n",
              "    </tr>\n",
              "    <tr>\n",
              "      <th>3</th>\n",
              "      <td>CustID03</td>\n",
              "      <td>San Francisco</td>\n",
              "      <td>M</td>\n",
              "      <td>Medicine</td>\n",
              "      <td>2</td>\n",
              "      <td>50</td>\n",
              "    </tr>\n",
              "    <tr>\n",
              "      <th>4</th>\n",
              "      <td>CustID04</td>\n",
              "      <td>Austin</td>\n",
              "      <td>F</td>\n",
              "      <td>Beauty</td>\n",
              "      <td>1</td>\n",
              "      <td>80</td>\n",
              "    </tr>\n",
              "  </tbody>\n",
              "</table>\n",
              "</div>"
            ],
            "text/plain": [
              "  CustomerID       location gender            type  quantity  total_bill\n",
              "0   CustID00        Chicago      M     Electronics         1         100\n",
              "1   CustID01         Boston      M  Food&Beverages         3          75\n",
              "2   CustID02        Seattle      F  Food&Beverages         4         125\n",
              "3   CustID03  San Francisco      M        Medicine         2          50\n",
              "4   CustID04         Austin      F          Beauty         1          80"
            ]
          },
          "execution_count": 28,
          "metadata": {},
          "output_type": "execute_result"
        }
      ],
      "source": [
        "store_data.iloc[4,3] = 'Beauty'\n",
        "store_data"
      ]
    },
    {
      "cell_type": "markdown",
      "metadata": {
        "id": "96RCw04-XlVb"
      },
      "source": [
        "**Indexing basado en condiciones**"
      ]
    },
    {
      "cell_type": "code",
      "execution_count": 29,
      "metadata": {
        "colab": {
          "base_uri": "https://localhost:8080/"
        },
        "id": "2cH76CDLYOVD",
        "outputId": "205cc5fc-81e8-47ec-8995-4503d2c1254e"
      },
      "outputs": [
        {
          "data": {
            "text/plain": [
              "0    False\n",
              "1     True\n",
              "2     True\n",
              "3     True\n",
              "4    False\n",
              "Name: quantity, dtype: bool"
            ]
          },
          "execution_count": 29,
          "metadata": {},
          "output_type": "execute_result"
        }
      ],
      "source": [
        "store_data['quantity']>1"
      ]
    },
    {
      "cell_type": "markdown",
      "metadata": {
        "id": "mI04a8_0YXG6"
      },
      "source": [
        "* Donde se cumple la condición de que la cantidad sea mayor que 1, se devuelve 'True'. Vamos a recuperar los valores originales donde se cumple esta condición.\""
      ]
    },
    {
      "cell_type": "code",
      "execution_count": 30,
      "metadata": {
        "colab": {
          "base_uri": "https://localhost:8080/",
          "height": 143
        },
        "id": "c3Wba0oJYRlx",
        "outputId": "d2f115cf-a654-4fe1-ef31-fd00c710a51b"
      },
      "outputs": [
        {
          "data": {
            "text/html": [
              "<div>\n",
              "<style scoped>\n",
              "    .dataframe tbody tr th:only-of-type {\n",
              "        vertical-align: middle;\n",
              "    }\n",
              "\n",
              "    .dataframe tbody tr th {\n",
              "        vertical-align: top;\n",
              "    }\n",
              "\n",
              "    .dataframe thead th {\n",
              "        text-align: right;\n",
              "    }\n",
              "</style>\n",
              "<table border=\"1\" class=\"dataframe\">\n",
              "  <thead>\n",
              "    <tr style=\"text-align: right;\">\n",
              "      <th></th>\n",
              "      <th>CustomerID</th>\n",
              "      <th>location</th>\n",
              "      <th>gender</th>\n",
              "      <th>type</th>\n",
              "      <th>quantity</th>\n",
              "      <th>total_bill</th>\n",
              "    </tr>\n",
              "  </thead>\n",
              "  <tbody>\n",
              "    <tr>\n",
              "      <th>1</th>\n",
              "      <td>CustID01</td>\n",
              "      <td>Boston</td>\n",
              "      <td>M</td>\n",
              "      <td>Food&amp;Beverages</td>\n",
              "      <td>3</td>\n",
              "      <td>75</td>\n",
              "    </tr>\n",
              "    <tr>\n",
              "      <th>2</th>\n",
              "      <td>CustID02</td>\n",
              "      <td>Seattle</td>\n",
              "      <td>F</td>\n",
              "      <td>Food&amp;Beverages</td>\n",
              "      <td>4</td>\n",
              "      <td>125</td>\n",
              "    </tr>\n",
              "    <tr>\n",
              "      <th>3</th>\n",
              "      <td>CustID03</td>\n",
              "      <td>San Francisco</td>\n",
              "      <td>M</td>\n",
              "      <td>Medicine</td>\n",
              "      <td>2</td>\n",
              "      <td>50</td>\n",
              "    </tr>\n",
              "  </tbody>\n",
              "</table>\n",
              "</div>"
            ],
            "text/plain": [
              "  CustomerID       location gender            type  quantity  total_bill\n",
              "1   CustID01         Boston      M  Food&Beverages         3          75\n",
              "2   CustID02        Seattle      F  Food&Beverages         4         125\n",
              "3   CustID03  San Francisco      M        Medicine         2          50"
            ]
          },
          "execution_count": 30,
          "metadata": {},
          "output_type": "execute_result"
        }
      ],
      "source": [
        "store_data.loc[store_data['quantity']>1]"
      ]
    },
    {
      "cell_type": "markdown",
      "metadata": {
        "id": "78kpdkOuYU5G"
      },
      "source": [
        "* Donde se cumple la condición, obtenemos los valores originales, y donde la condición no se cumple, no obtenemos esos registros en la salida.\""
      ]
    },
    {
      "cell_type": "markdown",
      "metadata": {
        "id": "OGT6WSHFZApo"
      },
      "source": [
        "**Adición y eliminación de columnas en un DataFrame de Pandas**"
      ]
    },
    {
      "cell_type": "markdown",
      "metadata": {
        "id": "X29WMLIgZbPi"
      },
      "source": [
        "**Agregando una nueva columna en un DataFrame**"
      ]
    },
    {
      "cell_type": "code",
      "execution_count": 31,
      "metadata": {
        "colab": {
          "base_uri": "https://localhost:8080/",
          "height": 206
        },
        "id": "JH2SiWOBZl1U",
        "outputId": "a1d4f788-a7ee-48e2-ec07-b25ff93a1829"
      },
      "outputs": [
        {
          "data": {
            "text/html": [
              "<div>\n",
              "<style scoped>\n",
              "    .dataframe tbody tr th:only-of-type {\n",
              "        vertical-align: middle;\n",
              "    }\n",
              "\n",
              "    .dataframe tbody tr th {\n",
              "        vertical-align: top;\n",
              "    }\n",
              "\n",
              "    .dataframe thead th {\n",
              "        text-align: right;\n",
              "    }\n",
              "</style>\n",
              "<table border=\"1\" class=\"dataframe\">\n",
              "  <thead>\n",
              "    <tr style=\"text-align: right;\">\n",
              "      <th></th>\n",
              "      <th>CustomerID</th>\n",
              "      <th>location</th>\n",
              "      <th>gender</th>\n",
              "      <th>type</th>\n",
              "      <th>quantity</th>\n",
              "      <th>total_bill</th>\n",
              "    </tr>\n",
              "  </thead>\n",
              "  <tbody>\n",
              "    <tr>\n",
              "      <th>0</th>\n",
              "      <td>CustID00</td>\n",
              "      <td>Chicago</td>\n",
              "      <td>M</td>\n",
              "      <td>Electronics</td>\n",
              "      <td>1</td>\n",
              "      <td>100</td>\n",
              "    </tr>\n",
              "    <tr>\n",
              "      <th>1</th>\n",
              "      <td>CustID01</td>\n",
              "      <td>Boston</td>\n",
              "      <td>M</td>\n",
              "      <td>Food&amp;Beverages</td>\n",
              "      <td>3</td>\n",
              "      <td>75</td>\n",
              "    </tr>\n",
              "    <tr>\n",
              "      <th>2</th>\n",
              "      <td>CustID02</td>\n",
              "      <td>Seattle</td>\n",
              "      <td>F</td>\n",
              "      <td>Food&amp;Beverages</td>\n",
              "      <td>4</td>\n",
              "      <td>125</td>\n",
              "    </tr>\n",
              "    <tr>\n",
              "      <th>3</th>\n",
              "      <td>CustID03</td>\n",
              "      <td>San Francisco</td>\n",
              "      <td>M</td>\n",
              "      <td>Medicine</td>\n",
              "      <td>2</td>\n",
              "      <td>50</td>\n",
              "    </tr>\n",
              "    <tr>\n",
              "      <th>4</th>\n",
              "      <td>CustID04</td>\n",
              "      <td>Austin</td>\n",
              "      <td>F</td>\n",
              "      <td>Beauty</td>\n",
              "      <td>1</td>\n",
              "      <td>80</td>\n",
              "    </tr>\n",
              "  </tbody>\n",
              "</table>\n",
              "</div>"
            ],
            "text/plain": [
              "  CustomerID       location gender            type  quantity  total_bill\n",
              "0   CustID00        Chicago      M     Electronics         1         100\n",
              "1   CustID01         Boston      M  Food&Beverages         3          75\n",
              "2   CustID02        Seattle      F  Food&Beverages         4         125\n",
              "3   CustID03  San Francisco      M        Medicine         2          50\n",
              "4   CustID04         Austin      F          Beauty         1          80"
            ]
          },
          "execution_count": 31,
          "metadata": {},
          "output_type": "execute_result"
        }
      ],
      "source": [
        "store_data"
      ]
    },
    {
      "cell_type": "code",
      "execution_count": 32,
      "metadata": {
        "colab": {
          "base_uri": "https://localhost:8080/",
          "height": 206
        },
        "id": "zwcPawNlZn8S",
        "outputId": "c1a1a752-d7de-4f54-9f4a-0c377356c2c9"
      },
      "outputs": [
        {
          "data": {
            "text/html": [
              "<div>\n",
              "<style scoped>\n",
              "    .dataframe tbody tr th:only-of-type {\n",
              "        vertical-align: middle;\n",
              "    }\n",
              "\n",
              "    .dataframe tbody tr th {\n",
              "        vertical-align: top;\n",
              "    }\n",
              "\n",
              "    .dataframe thead th {\n",
              "        text-align: right;\n",
              "    }\n",
              "</style>\n",
              "<table border=\"1\" class=\"dataframe\">\n",
              "  <thead>\n",
              "    <tr style=\"text-align: right;\">\n",
              "      <th></th>\n",
              "      <th>CustomerID</th>\n",
              "      <th>location</th>\n",
              "      <th>gender</th>\n",
              "      <th>type</th>\n",
              "      <th>quantity</th>\n",
              "      <th>total_bill</th>\n",
              "      <th>rating</th>\n",
              "    </tr>\n",
              "  </thead>\n",
              "  <tbody>\n",
              "    <tr>\n",
              "      <th>0</th>\n",
              "      <td>CustID00</td>\n",
              "      <td>Chicago</td>\n",
              "      <td>M</td>\n",
              "      <td>Electronics</td>\n",
              "      <td>1</td>\n",
              "      <td>100</td>\n",
              "      <td>2</td>\n",
              "    </tr>\n",
              "    <tr>\n",
              "      <th>1</th>\n",
              "      <td>CustID01</td>\n",
              "      <td>Boston</td>\n",
              "      <td>M</td>\n",
              "      <td>Food&amp;Beverages</td>\n",
              "      <td>3</td>\n",
              "      <td>75</td>\n",
              "      <td>5</td>\n",
              "    </tr>\n",
              "    <tr>\n",
              "      <th>2</th>\n",
              "      <td>CustID02</td>\n",
              "      <td>Seattle</td>\n",
              "      <td>F</td>\n",
              "      <td>Food&amp;Beverages</td>\n",
              "      <td>4</td>\n",
              "      <td>125</td>\n",
              "      <td>3</td>\n",
              "    </tr>\n",
              "    <tr>\n",
              "      <th>3</th>\n",
              "      <td>CustID03</td>\n",
              "      <td>San Francisco</td>\n",
              "      <td>M</td>\n",
              "      <td>Medicine</td>\n",
              "      <td>2</td>\n",
              "      <td>50</td>\n",
              "      <td>4</td>\n",
              "    </tr>\n",
              "    <tr>\n",
              "      <th>4</th>\n",
              "      <td>CustID04</td>\n",
              "      <td>Austin</td>\n",
              "      <td>F</td>\n",
              "      <td>Beauty</td>\n",
              "      <td>1</td>\n",
              "      <td>80</td>\n",
              "      <td>4</td>\n",
              "    </tr>\n",
              "  </tbody>\n",
              "</table>\n",
              "</div>"
            ],
            "text/plain": [
              "  CustomerID       location gender            type  quantity  total_bill  \\\n",
              "0   CustID00        Chicago      M     Electronics         1         100   \n",
              "1   CustID01         Boston      M  Food&Beverages         3          75   \n",
              "2   CustID02        Seattle      F  Food&Beverages         4         125   \n",
              "3   CustID03  San Francisco      M        Medicine         2          50   \n",
              "4   CustID04         Austin      F          Beauty         1          80   \n",
              "\n",
              "   rating  \n",
              "0       2  \n",
              "1       5  \n",
              "2       3  \n",
              "3       4  \n",
              "4       4  "
            ]
          },
          "execution_count": 32,
          "metadata": {},
          "output_type": "execute_result"
        }
      ],
      "source": [
        "# Agregar una nueva columna en el DataFrame store_data que represente una calificación (en una escala del 1 al 5) otorgada por el cliente basada en su experiencia de compra.\n",
        "store_data['rating'] = [2,5,3,4,4]\n",
        "store_data"
      ]
    },
    {
      "cell_type": "markdown",
      "metadata": {
        "id": "8-RPaeeMaAms"
      },
      "source": [
        "**Eliminando una columna de un DataFrame**"
      ]
    },
    {
      "cell_type": "markdown",
      "metadata": {
        "id": "luayOzSOaaTu"
      },
      "source": [
        "* La columna CustomerID es un identificador único de cada cliente. Este identificador único no ayudará a 24/7 Stores a obtener información útil sobre sus clientes. Por lo tanto, han decidido eliminar esta columna del DataFrame."
      ]
    },
    {
      "cell_type": "code",
      "execution_count": 33,
      "metadata": {
        "colab": {
          "base_uri": "https://localhost:8080/",
          "height": 206
        },
        "id": "hCXhoJ7naHCW",
        "outputId": "b653716b-5114-446a-a85c-be0e72ad19a0"
      },
      "outputs": [
        {
          "data": {
            "text/html": [
              "<div>\n",
              "<style scoped>\n",
              "    .dataframe tbody tr th:only-of-type {\n",
              "        vertical-align: middle;\n",
              "    }\n",
              "\n",
              "    .dataframe tbody tr th {\n",
              "        vertical-align: top;\n",
              "    }\n",
              "\n",
              "    .dataframe thead th {\n",
              "        text-align: right;\n",
              "    }\n",
              "</style>\n",
              "<table border=\"1\" class=\"dataframe\">\n",
              "  <thead>\n",
              "    <tr style=\"text-align: right;\">\n",
              "      <th></th>\n",
              "      <th>location</th>\n",
              "      <th>gender</th>\n",
              "      <th>type</th>\n",
              "      <th>quantity</th>\n",
              "      <th>total_bill</th>\n",
              "      <th>rating</th>\n",
              "    </tr>\n",
              "  </thead>\n",
              "  <tbody>\n",
              "    <tr>\n",
              "      <th>0</th>\n",
              "      <td>Chicago</td>\n",
              "      <td>M</td>\n",
              "      <td>Electronics</td>\n",
              "      <td>1</td>\n",
              "      <td>100</td>\n",
              "      <td>2</td>\n",
              "    </tr>\n",
              "    <tr>\n",
              "      <th>1</th>\n",
              "      <td>Boston</td>\n",
              "      <td>M</td>\n",
              "      <td>Food&amp;Beverages</td>\n",
              "      <td>3</td>\n",
              "      <td>75</td>\n",
              "      <td>5</td>\n",
              "    </tr>\n",
              "    <tr>\n",
              "      <th>2</th>\n",
              "      <td>Seattle</td>\n",
              "      <td>F</td>\n",
              "      <td>Food&amp;Beverages</td>\n",
              "      <td>4</td>\n",
              "      <td>125</td>\n",
              "      <td>3</td>\n",
              "    </tr>\n",
              "    <tr>\n",
              "      <th>3</th>\n",
              "      <td>San Francisco</td>\n",
              "      <td>M</td>\n",
              "      <td>Medicine</td>\n",
              "      <td>2</td>\n",
              "      <td>50</td>\n",
              "      <td>4</td>\n",
              "    </tr>\n",
              "    <tr>\n",
              "      <th>4</th>\n",
              "      <td>Austin</td>\n",
              "      <td>F</td>\n",
              "      <td>Beauty</td>\n",
              "      <td>1</td>\n",
              "      <td>80</td>\n",
              "      <td>4</td>\n",
              "    </tr>\n",
              "  </tbody>\n",
              "</table>\n",
              "</div>"
            ],
            "text/plain": [
              "        location gender            type  quantity  total_bill  rating\n",
              "0        Chicago      M     Electronics         1         100       2\n",
              "1         Boston      M  Food&Beverages         3          75       5\n",
              "2        Seattle      F  Food&Beverages         4         125       3\n",
              "3  San Francisco      M        Medicine         2          50       4\n",
              "4         Austin      F          Beauty         1          80       4"
            ]
          },
          "execution_count": 33,
          "metadata": {},
          "output_type": "execute_result"
        }
      ],
      "source": [
        "store_data.drop('CustomerID',axis=1)"
      ]
    },
    {
      "cell_type": "markdown",
      "metadata": {
        "id": "72v8jOTOaMpc"
      },
      "source": [
        "* Hemos eliminado con éxito 'CustomerID' del DataFrame. Sin embargo, este cambio no es permanente en el DataFrame. Echemos un vistazo a store_data de nuevo.\""
      ]
    },
    {
      "cell_type": "code",
      "execution_count": 34,
      "metadata": {
        "colab": {
          "base_uri": "https://localhost:8080/",
          "height": 206
        },
        "id": "oDNc9ryhaczg",
        "outputId": "12ccf9ce-0a43-4a8c-8292-71f3516a4cea"
      },
      "outputs": [
        {
          "data": {
            "text/html": [
              "<div>\n",
              "<style scoped>\n",
              "    .dataframe tbody tr th:only-of-type {\n",
              "        vertical-align: middle;\n",
              "    }\n",
              "\n",
              "    .dataframe tbody tr th {\n",
              "        vertical-align: top;\n",
              "    }\n",
              "\n",
              "    .dataframe thead th {\n",
              "        text-align: right;\n",
              "    }\n",
              "</style>\n",
              "<table border=\"1\" class=\"dataframe\">\n",
              "  <thead>\n",
              "    <tr style=\"text-align: right;\">\n",
              "      <th></th>\n",
              "      <th>CustomerID</th>\n",
              "      <th>location</th>\n",
              "      <th>gender</th>\n",
              "      <th>type</th>\n",
              "      <th>quantity</th>\n",
              "      <th>total_bill</th>\n",
              "      <th>rating</th>\n",
              "    </tr>\n",
              "  </thead>\n",
              "  <tbody>\n",
              "    <tr>\n",
              "      <th>0</th>\n",
              "      <td>CustID00</td>\n",
              "      <td>Chicago</td>\n",
              "      <td>M</td>\n",
              "      <td>Electronics</td>\n",
              "      <td>1</td>\n",
              "      <td>100</td>\n",
              "      <td>2</td>\n",
              "    </tr>\n",
              "    <tr>\n",
              "      <th>1</th>\n",
              "      <td>CustID01</td>\n",
              "      <td>Boston</td>\n",
              "      <td>M</td>\n",
              "      <td>Food&amp;Beverages</td>\n",
              "      <td>3</td>\n",
              "      <td>75</td>\n",
              "      <td>5</td>\n",
              "    </tr>\n",
              "    <tr>\n",
              "      <th>2</th>\n",
              "      <td>CustID02</td>\n",
              "      <td>Seattle</td>\n",
              "      <td>F</td>\n",
              "      <td>Food&amp;Beverages</td>\n",
              "      <td>4</td>\n",
              "      <td>125</td>\n",
              "      <td>3</td>\n",
              "    </tr>\n",
              "    <tr>\n",
              "      <th>3</th>\n",
              "      <td>CustID03</td>\n",
              "      <td>San Francisco</td>\n",
              "      <td>M</td>\n",
              "      <td>Medicine</td>\n",
              "      <td>2</td>\n",
              "      <td>50</td>\n",
              "      <td>4</td>\n",
              "    </tr>\n",
              "    <tr>\n",
              "      <th>4</th>\n",
              "      <td>CustID04</td>\n",
              "      <td>Austin</td>\n",
              "      <td>F</td>\n",
              "      <td>Beauty</td>\n",
              "      <td>1</td>\n",
              "      <td>80</td>\n",
              "      <td>4</td>\n",
              "    </tr>\n",
              "  </tbody>\n",
              "</table>\n",
              "</div>"
            ],
            "text/plain": [
              "  CustomerID       location gender            type  quantity  total_bill  \\\n",
              "0   CustID00        Chicago      M     Electronics         1         100   \n",
              "1   CustID01         Boston      M  Food&Beverages         3          75   \n",
              "2   CustID02        Seattle      F  Food&Beverages         4         125   \n",
              "3   CustID03  San Francisco      M        Medicine         2          50   \n",
              "4   CustID04         Austin      F          Beauty         1          80   \n",
              "\n",
              "   rating  \n",
              "0       2  \n",
              "1       5  \n",
              "2       3  \n",
              "3       4  \n",
              "4       4  "
            ]
          },
          "execution_count": 34,
          "metadata": {},
          "output_type": "execute_result"
        }
      ],
      "source": [
        "store_data"
      ]
    },
    {
      "cell_type": "markdown",
      "metadata": {
        "id": "R-Auuivladg5"
      },
      "source": [
        "* Observamos que store_data todavía tiene la columna 'CustomerID'.\n",
        "* Para realizar cambios permanentes en un DataFrame, tenemos que utilizar un parámetro llamado `inplace` y establecer su valor en `True`.\""
      ]
    },
    {
      "cell_type": "code",
      "execution_count": 35,
      "metadata": {
        "colab": {
          "base_uri": "https://localhost:8080/",
          "height": 206
        },
        "id": "d7pr_yifasub",
        "outputId": "8cc78697-5005-4d44-bb87-199e167367e1"
      },
      "outputs": [
        {
          "data": {
            "text/html": [
              "<div>\n",
              "<style scoped>\n",
              "    .dataframe tbody tr th:only-of-type {\n",
              "        vertical-align: middle;\n",
              "    }\n",
              "\n",
              "    .dataframe tbody tr th {\n",
              "        vertical-align: top;\n",
              "    }\n",
              "\n",
              "    .dataframe thead th {\n",
              "        text-align: right;\n",
              "    }\n",
              "</style>\n",
              "<table border=\"1\" class=\"dataframe\">\n",
              "  <thead>\n",
              "    <tr style=\"text-align: right;\">\n",
              "      <th></th>\n",
              "      <th>location</th>\n",
              "      <th>gender</th>\n",
              "      <th>type</th>\n",
              "      <th>quantity</th>\n",
              "      <th>total_bill</th>\n",
              "      <th>rating</th>\n",
              "    </tr>\n",
              "  </thead>\n",
              "  <tbody>\n",
              "    <tr>\n",
              "      <th>0</th>\n",
              "      <td>Chicago</td>\n",
              "      <td>M</td>\n",
              "      <td>Electronics</td>\n",
              "      <td>1</td>\n",
              "      <td>100</td>\n",
              "      <td>2</td>\n",
              "    </tr>\n",
              "    <tr>\n",
              "      <th>1</th>\n",
              "      <td>Boston</td>\n",
              "      <td>M</td>\n",
              "      <td>Food&amp;Beverages</td>\n",
              "      <td>3</td>\n",
              "      <td>75</td>\n",
              "      <td>5</td>\n",
              "    </tr>\n",
              "    <tr>\n",
              "      <th>2</th>\n",
              "      <td>Seattle</td>\n",
              "      <td>F</td>\n",
              "      <td>Food&amp;Beverages</td>\n",
              "      <td>4</td>\n",
              "      <td>125</td>\n",
              "      <td>3</td>\n",
              "    </tr>\n",
              "    <tr>\n",
              "      <th>3</th>\n",
              "      <td>San Francisco</td>\n",
              "      <td>M</td>\n",
              "      <td>Medicine</td>\n",
              "      <td>2</td>\n",
              "      <td>50</td>\n",
              "      <td>4</td>\n",
              "    </tr>\n",
              "    <tr>\n",
              "      <th>4</th>\n",
              "      <td>Austin</td>\n",
              "      <td>F</td>\n",
              "      <td>Beauty</td>\n",
              "      <td>1</td>\n",
              "      <td>80</td>\n",
              "      <td>4</td>\n",
              "    </tr>\n",
              "  </tbody>\n",
              "</table>\n",
              "</div>"
            ],
            "text/plain": [
              "        location gender            type  quantity  total_bill  rating\n",
              "0        Chicago      M     Electronics         1         100       2\n",
              "1         Boston      M  Food&Beverages         3          75       5\n",
              "2        Seattle      F  Food&Beverages         4         125       3\n",
              "3  San Francisco      M        Medicine         2          50       4\n",
              "4         Austin      F          Beauty         1          80       4"
            ]
          },
          "execution_count": 35,
          "metadata": {},
          "output_type": "execute_result"
        }
      ],
      "source": [
        "store_data.drop('CustomerID',axis=1,inplace=True)\n",
        "store_data"
      ]
    },
    {
      "cell_type": "markdown",
      "metadata": {
        "id": "cC2Cr5ySa0V-"
      },
      "source": [
        "* Ahora, la columna ha sido eliminada permanentemente del DataFrame."
      ]
    },
    {
      "cell_type": "code",
      "execution_count": 36,
      "metadata": {
        "colab": {
          "base_uri": "https://localhost:8080/",
          "height": 206
        },
        "id": "Ro8px764bGkI",
        "outputId": "9a483a6a-1ead-40dc-bbe8-ec6621a59720"
      },
      "outputs": [
        {
          "data": {
            "text/html": [
              "<div>\n",
              "<style scoped>\n",
              "    .dataframe tbody tr th:only-of-type {\n",
              "        vertical-align: middle;\n",
              "    }\n",
              "\n",
              "    .dataframe tbody tr th {\n",
              "        vertical-align: top;\n",
              "    }\n",
              "\n",
              "    .dataframe thead th {\n",
              "        text-align: right;\n",
              "    }\n",
              "</style>\n",
              "<table border=\"1\" class=\"dataframe\">\n",
              "  <thead>\n",
              "    <tr style=\"text-align: right;\">\n",
              "      <th></th>\n",
              "      <th>location</th>\n",
              "      <th>gender</th>\n",
              "      <th>type</th>\n",
              "      <th>quantity</th>\n",
              "      <th>total_bill</th>\n",
              "      <th>rating</th>\n",
              "    </tr>\n",
              "  </thead>\n",
              "  <tbody>\n",
              "    <tr>\n",
              "      <th>0</th>\n",
              "      <td>Chicago</td>\n",
              "      <td>M</td>\n",
              "      <td>Electronics</td>\n",
              "      <td>1</td>\n",
              "      <td>100</td>\n",
              "      <td>2</td>\n",
              "    </tr>\n",
              "    <tr>\n",
              "      <th>1</th>\n",
              "      <td>Boston</td>\n",
              "      <td>M</td>\n",
              "      <td>Food&amp;Beverages</td>\n",
              "      <td>3</td>\n",
              "      <td>75</td>\n",
              "      <td>5</td>\n",
              "    </tr>\n",
              "    <tr>\n",
              "      <th>2</th>\n",
              "      <td>Seattle</td>\n",
              "      <td>F</td>\n",
              "      <td>Food&amp;Beverages</td>\n",
              "      <td>4</td>\n",
              "      <td>125</td>\n",
              "      <td>3</td>\n",
              "    </tr>\n",
              "    <tr>\n",
              "      <th>3</th>\n",
              "      <td>San Francisco</td>\n",
              "      <td>M</td>\n",
              "      <td>Medicine</td>\n",
              "      <td>2</td>\n",
              "      <td>50</td>\n",
              "      <td>4</td>\n",
              "    </tr>\n",
              "    <tr>\n",
              "      <th>4</th>\n",
              "      <td>Austin</td>\n",
              "      <td>F</td>\n",
              "      <td>Beauty</td>\n",
              "      <td>1</td>\n",
              "      <td>80</td>\n",
              "      <td>4</td>\n",
              "    </tr>\n",
              "  </tbody>\n",
              "</table>\n",
              "</div>"
            ],
            "text/plain": [
              "        location gender            type  quantity  total_bill  rating\n",
              "0        Chicago      M     Electronics         1         100       2\n",
              "1         Boston      M  Food&Beverages         3          75       5\n",
              "2        Seattle      F  Food&Beverages         4         125       3\n",
              "3  San Francisco      M        Medicine         2          50       4\n",
              "4         Austin      F          Beauty         1          80       4"
            ]
          },
          "execution_count": 36,
          "metadata": {},
          "output_type": "execute_result"
        }
      ],
      "source": [
        "# También podemos eliminar múltiples columnas al mismo tiempo.\n",
        "# Siempre es una buena idea almacenar los nuevos/actualizados DataFrames en nuevas variables para evitar cambios en el DataFrame existente.\n",
        "\n",
        "# Creando una copia del DataFrame existente\n",
        "new_store_data = store_data.copy()\n",
        "store_data"
      ]
    },
    {
      "cell_type": "code",
      "execution_count": 37,
      "metadata": {
        "colab": {
          "base_uri": "https://localhost:8080/",
          "height": 206
        },
        "id": "8_-04QAFbo7F",
        "outputId": "d5fd03ea-8ebf-479b-e665-bfc5780095be"
      },
      "outputs": [
        {
          "data": {
            "text/html": [
              "<div>\n",
              "<style scoped>\n",
              "    .dataframe tbody tr th:only-of-type {\n",
              "        vertical-align: middle;\n",
              "    }\n",
              "\n",
              "    .dataframe tbody tr th {\n",
              "        vertical-align: top;\n",
              "    }\n",
              "\n",
              "    .dataframe thead th {\n",
              "        text-align: right;\n",
              "    }\n",
              "</style>\n",
              "<table border=\"1\" class=\"dataframe\">\n",
              "  <thead>\n",
              "    <tr style=\"text-align: right;\">\n",
              "      <th></th>\n",
              "      <th>gender</th>\n",
              "      <th>type</th>\n",
              "      <th>quantity</th>\n",
              "      <th>total_bill</th>\n",
              "    </tr>\n",
              "  </thead>\n",
              "  <tbody>\n",
              "    <tr>\n",
              "      <th>0</th>\n",
              "      <td>M</td>\n",
              "      <td>Electronics</td>\n",
              "      <td>1</td>\n",
              "      <td>100</td>\n",
              "    </tr>\n",
              "    <tr>\n",
              "      <th>1</th>\n",
              "      <td>M</td>\n",
              "      <td>Food&amp;Beverages</td>\n",
              "      <td>3</td>\n",
              "      <td>75</td>\n",
              "    </tr>\n",
              "    <tr>\n",
              "      <th>2</th>\n",
              "      <td>F</td>\n",
              "      <td>Food&amp;Beverages</td>\n",
              "      <td>4</td>\n",
              "      <td>125</td>\n",
              "    </tr>\n",
              "    <tr>\n",
              "      <th>3</th>\n",
              "      <td>M</td>\n",
              "      <td>Medicine</td>\n",
              "      <td>2</td>\n",
              "      <td>50</td>\n",
              "    </tr>\n",
              "    <tr>\n",
              "      <th>4</th>\n",
              "      <td>F</td>\n",
              "      <td>Beauty</td>\n",
              "      <td>1</td>\n",
              "      <td>80</td>\n",
              "    </tr>\n",
              "  </tbody>\n",
              "</table>\n",
              "</div>"
            ],
            "text/plain": [
              "  gender            type  quantity  total_bill\n",
              "0      M     Electronics         1         100\n",
              "1      M  Food&Beverages         3          75\n",
              "2      F  Food&Beverages         4         125\n",
              "3      M        Medicine         2          50\n",
              "4      F          Beauty         1          80"
            ]
          },
          "execution_count": 37,
          "metadata": {},
          "output_type": "execute_result"
        }
      ],
      "source": [
        "# Eliminando las columnas de ubicación y calificación simultáneamente\n",
        "new_store_data.drop(['location','rating'],axis=1,inplace=True)\n",
        "new_store_data"
      ]
    },
    {
      "cell_type": "code",
      "execution_count": 38,
      "metadata": {
        "colab": {
          "base_uri": "https://localhost:8080/",
          "height": 206
        },
        "id": "wa_pg8MhbuxC",
        "outputId": "f3e08488-256a-47b7-ce47-1ee40bf9cd0e"
      },
      "outputs": [
        {
          "data": {
            "text/html": [
              "<div>\n",
              "<style scoped>\n",
              "    .dataframe tbody tr th:only-of-type {\n",
              "        vertical-align: middle;\n",
              "    }\n",
              "\n",
              "    .dataframe tbody tr th {\n",
              "        vertical-align: top;\n",
              "    }\n",
              "\n",
              "    .dataframe thead th {\n",
              "        text-align: right;\n",
              "    }\n",
              "</style>\n",
              "<table border=\"1\" class=\"dataframe\">\n",
              "  <thead>\n",
              "    <tr style=\"text-align: right;\">\n",
              "      <th></th>\n",
              "      <th>location</th>\n",
              "      <th>gender</th>\n",
              "      <th>type</th>\n",
              "      <th>quantity</th>\n",
              "      <th>total_bill</th>\n",
              "      <th>rating</th>\n",
              "    </tr>\n",
              "  </thead>\n",
              "  <tbody>\n",
              "    <tr>\n",
              "      <th>0</th>\n",
              "      <td>Chicago</td>\n",
              "      <td>M</td>\n",
              "      <td>Electronics</td>\n",
              "      <td>1</td>\n",
              "      <td>100</td>\n",
              "      <td>2</td>\n",
              "    </tr>\n",
              "    <tr>\n",
              "      <th>1</th>\n",
              "      <td>Boston</td>\n",
              "      <td>M</td>\n",
              "      <td>Food&amp;Beverages</td>\n",
              "      <td>3</td>\n",
              "      <td>75</td>\n",
              "      <td>5</td>\n",
              "    </tr>\n",
              "    <tr>\n",
              "      <th>2</th>\n",
              "      <td>Seattle</td>\n",
              "      <td>F</td>\n",
              "      <td>Food&amp;Beverages</td>\n",
              "      <td>4</td>\n",
              "      <td>125</td>\n",
              "      <td>3</td>\n",
              "    </tr>\n",
              "    <tr>\n",
              "      <th>3</th>\n",
              "      <td>San Francisco</td>\n",
              "      <td>M</td>\n",
              "      <td>Medicine</td>\n",
              "      <td>2</td>\n",
              "      <td>50</td>\n",
              "      <td>4</td>\n",
              "    </tr>\n",
              "    <tr>\n",
              "      <th>4</th>\n",
              "      <td>Austin</td>\n",
              "      <td>F</td>\n",
              "      <td>Beauty</td>\n",
              "      <td>1</td>\n",
              "      <td>80</td>\n",
              "      <td>4</td>\n",
              "    </tr>\n",
              "  </tbody>\n",
              "</table>\n",
              "</div>"
            ],
            "text/plain": [
              "        location gender            type  quantity  total_bill  rating\n",
              "0        Chicago      M     Electronics         1         100       2\n",
              "1         Boston      M  Food&Beverages         3          75       5\n",
              "2        Seattle      F  Food&Beverages         4         125       3\n",
              "3  San Francisco      M        Medicine         2          50       4\n",
              "4         Austin      F          Beauty         1          80       4"
            ]
          },
          "execution_count": 38,
          "metadata": {},
          "output_type": "execute_result"
        }
      ],
      "source": [
        "# Vamos a verificar si store_data se vio afectado\n",
        "store_data"
      ]
    },
    {
      "cell_type": "markdown",
      "metadata": {
        "id": "7HFM6r_qaaTw"
      },
      "source": [
        "* La copia profunda almacena copias de los valores del objeto.\n",
        "* La copia superficial almacena las referencias de los objetos a la dirección de memoria original."
      ]
    },
    {
      "cell_type": "markdown",
      "metadata": {
        "id": "hT8Sq8-Ab3Rj"
      },
      "source": [
        "**Eliminando filas de un Dataframe**"
      ]
    },
    {
      "cell_type": "code",
      "execution_count": 39,
      "metadata": {
        "colab": {
          "base_uri": "https://localhost:8080/",
          "height": 175
        },
        "id": "1KeeacRlcDgw",
        "outputId": "c1637236-72a9-43d1-d818-e250c9e62cdc"
      },
      "outputs": [
        {
          "data": {
            "text/html": [
              "<div>\n",
              "<style scoped>\n",
              "    .dataframe tbody tr th:only-of-type {\n",
              "        vertical-align: middle;\n",
              "    }\n",
              "\n",
              "    .dataframe tbody tr th {\n",
              "        vertical-align: top;\n",
              "    }\n",
              "\n",
              "    .dataframe thead th {\n",
              "        text-align: right;\n",
              "    }\n",
              "</style>\n",
              "<table border=\"1\" class=\"dataframe\">\n",
              "  <thead>\n",
              "    <tr style=\"text-align: right;\">\n",
              "      <th></th>\n",
              "      <th>location</th>\n",
              "      <th>gender</th>\n",
              "      <th>type</th>\n",
              "      <th>quantity</th>\n",
              "      <th>total_bill</th>\n",
              "      <th>rating</th>\n",
              "    </tr>\n",
              "  </thead>\n",
              "  <tbody>\n",
              "    <tr>\n",
              "      <th>0</th>\n",
              "      <td>Chicago</td>\n",
              "      <td>M</td>\n",
              "      <td>Electronics</td>\n",
              "      <td>1</td>\n",
              "      <td>100</td>\n",
              "      <td>2</td>\n",
              "    </tr>\n",
              "    <tr>\n",
              "      <th>2</th>\n",
              "      <td>Seattle</td>\n",
              "      <td>F</td>\n",
              "      <td>Food&amp;Beverages</td>\n",
              "      <td>4</td>\n",
              "      <td>125</td>\n",
              "      <td>3</td>\n",
              "    </tr>\n",
              "    <tr>\n",
              "      <th>3</th>\n",
              "      <td>San Francisco</td>\n",
              "      <td>M</td>\n",
              "      <td>Medicine</td>\n",
              "      <td>2</td>\n",
              "      <td>50</td>\n",
              "      <td>4</td>\n",
              "    </tr>\n",
              "    <tr>\n",
              "      <th>4</th>\n",
              "      <td>Austin</td>\n",
              "      <td>F</td>\n",
              "      <td>Beauty</td>\n",
              "      <td>1</td>\n",
              "      <td>80</td>\n",
              "      <td>4</td>\n",
              "    </tr>\n",
              "  </tbody>\n",
              "</table>\n",
              "</div>"
            ],
            "text/plain": [
              "        location gender            type  quantity  total_bill  rating\n",
              "0        Chicago      M     Electronics         1         100       2\n",
              "2        Seattle      F  Food&Beverages         4         125       3\n",
              "3  San Francisco      M        Medicine         2          50       4\n",
              "4         Austin      F          Beauty         1          80       4"
            ]
          },
          "execution_count": 39,
          "metadata": {},
          "output_type": "execute_result"
        }
      ],
      "source": [
        "store_data.drop(1,axis=0)"
      ]
    },
    {
      "cell_type": "code",
      "execution_count": 40,
      "metadata": {
        "colab": {
          "base_uri": "https://localhost:8080/",
          "height": 206
        },
        "id": "3F4WNiEONe4g",
        "outputId": "6404e2db-d895-48b1-ebe6-673dd0173106"
      },
      "outputs": [
        {
          "data": {
            "text/html": [
              "<div>\n",
              "<style scoped>\n",
              "    .dataframe tbody tr th:only-of-type {\n",
              "        vertical-align: middle;\n",
              "    }\n",
              "\n",
              "    .dataframe tbody tr th {\n",
              "        vertical-align: top;\n",
              "    }\n",
              "\n",
              "    .dataframe thead th {\n",
              "        text-align: right;\n",
              "    }\n",
              "</style>\n",
              "<table border=\"1\" class=\"dataframe\">\n",
              "  <thead>\n",
              "    <tr style=\"text-align: right;\">\n",
              "      <th></th>\n",
              "      <th>location</th>\n",
              "      <th>gender</th>\n",
              "      <th>type</th>\n",
              "      <th>quantity</th>\n",
              "      <th>total_bill</th>\n",
              "      <th>rating</th>\n",
              "    </tr>\n",
              "  </thead>\n",
              "  <tbody>\n",
              "    <tr>\n",
              "      <th>0</th>\n",
              "      <td>Chicago</td>\n",
              "      <td>M</td>\n",
              "      <td>Electronics</td>\n",
              "      <td>1</td>\n",
              "      <td>100</td>\n",
              "      <td>2</td>\n",
              "    </tr>\n",
              "    <tr>\n",
              "      <th>1</th>\n",
              "      <td>Boston</td>\n",
              "      <td>M</td>\n",
              "      <td>Food&amp;Beverages</td>\n",
              "      <td>3</td>\n",
              "      <td>75</td>\n",
              "      <td>5</td>\n",
              "    </tr>\n",
              "    <tr>\n",
              "      <th>2</th>\n",
              "      <td>Seattle</td>\n",
              "      <td>F</td>\n",
              "      <td>Food&amp;Beverages</td>\n",
              "      <td>4</td>\n",
              "      <td>125</td>\n",
              "      <td>3</td>\n",
              "    </tr>\n",
              "    <tr>\n",
              "      <th>3</th>\n",
              "      <td>San Francisco</td>\n",
              "      <td>M</td>\n",
              "      <td>Medicine</td>\n",
              "      <td>2</td>\n",
              "      <td>50</td>\n",
              "      <td>4</td>\n",
              "    </tr>\n",
              "    <tr>\n",
              "      <th>4</th>\n",
              "      <td>Austin</td>\n",
              "      <td>F</td>\n",
              "      <td>Beauty</td>\n",
              "      <td>1</td>\n",
              "      <td>80</td>\n",
              "      <td>4</td>\n",
              "    </tr>\n",
              "  </tbody>\n",
              "</table>\n",
              "</div>"
            ],
            "text/plain": [
              "        location gender            type  quantity  total_bill  rating\n",
              "0        Chicago      M     Electronics         1         100       2\n",
              "1         Boston      M  Food&Beverages         3          75       5\n",
              "2        Seattle      F  Food&Beverages         4         125       3\n",
              "3  San Francisco      M        Medicine         2          50       4\n",
              "4         Austin      F          Beauty         1          80       4"
            ]
          },
          "execution_count": 40,
          "metadata": {},
          "output_type": "execute_result"
        }
      ],
      "source": [
        "store_data"
      ]
    },
    {
      "cell_type": "markdown",
      "metadata": {
        "id": "qsGlmJzucG3t"
      },
      "source": [
        "* Observa que utilizamos **`axis=0`** para eliminar una fila de un DataFrame, mientras que utilizamos **`axis=1`** para eliminar una columna del DataFrame.\n",
        "* Además, para realizar cambios permanentes en el DataFrame, debemos usar el parámetro `inplace=True`.\n",
        "* También observamos que los índices ya no son correctos, ya que se ha eliminado la primera fila. Por lo tanto, debemos restablecer el índice del DataFrame. Veamos cómo se puede hacer esto."
      ]
    },
    {
      "cell_type": "code",
      "execution_count": 41,
      "metadata": {
        "colab": {
          "base_uri": "https://localhost:8080/",
          "height": 175
        },
        "id": "QHj_lQWQd8Li",
        "outputId": "80c353cd-c54e-4a2d-eefd-f315d0e295a4"
      },
      "outputs": [
        {
          "data": {
            "text/html": [
              "<div>\n",
              "<style scoped>\n",
              "    .dataframe tbody tr th:only-of-type {\n",
              "        vertical-align: middle;\n",
              "    }\n",
              "\n",
              "    .dataframe tbody tr th {\n",
              "        vertical-align: top;\n",
              "    }\n",
              "\n",
              "    .dataframe thead th {\n",
              "        text-align: right;\n",
              "    }\n",
              "</style>\n",
              "<table border=\"1\" class=\"dataframe\">\n",
              "  <thead>\n",
              "    <tr style=\"text-align: right;\">\n",
              "      <th></th>\n",
              "      <th>location</th>\n",
              "      <th>gender</th>\n",
              "      <th>type</th>\n",
              "      <th>quantity</th>\n",
              "      <th>total_bill</th>\n",
              "      <th>rating</th>\n",
              "    </tr>\n",
              "  </thead>\n",
              "  <tbody>\n",
              "    <tr>\n",
              "      <th>0</th>\n",
              "      <td>Chicago</td>\n",
              "      <td>M</td>\n",
              "      <td>Electronics</td>\n",
              "      <td>1</td>\n",
              "      <td>100</td>\n",
              "      <td>2</td>\n",
              "    </tr>\n",
              "    <tr>\n",
              "      <th>2</th>\n",
              "      <td>Seattle</td>\n",
              "      <td>F</td>\n",
              "      <td>Food&amp;Beverages</td>\n",
              "      <td>4</td>\n",
              "      <td>125</td>\n",
              "      <td>3</td>\n",
              "    </tr>\n",
              "    <tr>\n",
              "      <th>3</th>\n",
              "      <td>San Francisco</td>\n",
              "      <td>M</td>\n",
              "      <td>Medicine</td>\n",
              "      <td>2</td>\n",
              "      <td>50</td>\n",
              "      <td>4</td>\n",
              "    </tr>\n",
              "    <tr>\n",
              "      <th>4</th>\n",
              "      <td>Austin</td>\n",
              "      <td>F</td>\n",
              "      <td>Beauty</td>\n",
              "      <td>1</td>\n",
              "      <td>80</td>\n",
              "      <td>4</td>\n",
              "    </tr>\n",
              "  </tbody>\n",
              "</table>\n",
              "</div>"
            ],
            "text/plain": [
              "        location gender            type  quantity  total_bill  rating\n",
              "0        Chicago      M     Electronics         1         100       2\n",
              "2        Seattle      F  Food&Beverages         4         125       3\n",
              "3  San Francisco      M        Medicine         2          50       4\n",
              "4         Austin      F          Beauty         1          80       4"
            ]
          },
          "execution_count": 41,
          "metadata": {},
          "output_type": "execute_result"
        }
      ],
      "source": [
        "# Creamos un nuevo dataframe\n",
        "store_data_new  = store_data.drop(1,axis=0)\n",
        "store_data_new"
      ]
    },
    {
      "cell_type": "code",
      "execution_count": 42,
      "metadata": {
        "colab": {
          "base_uri": "https://localhost:8080/",
          "height": 175
        },
        "id": "a3XJVG6UfTrX",
        "outputId": "952b05c4-86a2-49d2-dc0b-550bcf3aad0e"
      },
      "outputs": [
        {
          "data": {
            "text/html": [
              "<div>\n",
              "<style scoped>\n",
              "    .dataframe tbody tr th:only-of-type {\n",
              "        vertical-align: middle;\n",
              "    }\n",
              "\n",
              "    .dataframe tbody tr th {\n",
              "        vertical-align: top;\n",
              "    }\n",
              "\n",
              "    .dataframe thead th {\n",
              "        text-align: right;\n",
              "    }\n",
              "</style>\n",
              "<table border=\"1\" class=\"dataframe\">\n",
              "  <thead>\n",
              "    <tr style=\"text-align: right;\">\n",
              "      <th></th>\n",
              "      <th>index</th>\n",
              "      <th>location</th>\n",
              "      <th>gender</th>\n",
              "      <th>type</th>\n",
              "      <th>quantity</th>\n",
              "      <th>total_bill</th>\n",
              "      <th>rating</th>\n",
              "    </tr>\n",
              "  </thead>\n",
              "  <tbody>\n",
              "    <tr>\n",
              "      <th>0</th>\n",
              "      <td>0</td>\n",
              "      <td>Chicago</td>\n",
              "      <td>M</td>\n",
              "      <td>Electronics</td>\n",
              "      <td>1</td>\n",
              "      <td>100</td>\n",
              "      <td>2</td>\n",
              "    </tr>\n",
              "    <tr>\n",
              "      <th>1</th>\n",
              "      <td>2</td>\n",
              "      <td>Seattle</td>\n",
              "      <td>F</td>\n",
              "      <td>Food&amp;Beverages</td>\n",
              "      <td>4</td>\n",
              "      <td>125</td>\n",
              "      <td>3</td>\n",
              "    </tr>\n",
              "    <tr>\n",
              "      <th>2</th>\n",
              "      <td>3</td>\n",
              "      <td>San Francisco</td>\n",
              "      <td>M</td>\n",
              "      <td>Medicine</td>\n",
              "      <td>2</td>\n",
              "      <td>50</td>\n",
              "      <td>4</td>\n",
              "    </tr>\n",
              "    <tr>\n",
              "      <th>3</th>\n",
              "      <td>4</td>\n",
              "      <td>Austin</td>\n",
              "      <td>F</td>\n",
              "      <td>Beauty</td>\n",
              "      <td>1</td>\n",
              "      <td>80</td>\n",
              "      <td>4</td>\n",
              "    </tr>\n",
              "  </tbody>\n",
              "</table>\n",
              "</div>"
            ],
            "text/plain": [
              "   index       location gender            type  quantity  total_bill  rating\n",
              "0      0        Chicago      M     Electronics         1         100       2\n",
              "1      2        Seattle      F  Food&Beverages         4         125       3\n",
              "2      3  San Francisco      M        Medicine         2          50       4\n",
              "3      4         Austin      F          Beauty         1          80       4"
            ]
          },
          "execution_count": 42,
          "metadata": {},
          "output_type": "execute_result"
        }
      ],
      "source": [
        "# Reseteamos el índice del dataframe\n",
        "store_data_new.reset_index()"
      ]
    },
    {
      "cell_type": "markdown",
      "metadata": {
        "id": "XOh2G_b1fbqk"
      },
      "source": [
        "* Observamos que el índice del DataFrame se ha restablecido, pero el índice se ha convertido en una columna en el DataFrame. No necesitamos que el índice se convierta en una columna, por lo que simplemente podemos establecer el parámetro **`drop=True`** en la función reset_index()."
      ]
    },
    {
      "cell_type": "code",
      "execution_count": 43,
      "metadata": {
        "colab": {
          "base_uri": "https://localhost:8080/",
          "height": 175
        },
        "id": "sZU0tctKf0A2",
        "outputId": "c60a9f6e-ad3f-4e74-a98d-032be297bd6a"
      },
      "outputs": [
        {
          "data": {
            "text/html": [
              "<div>\n",
              "<style scoped>\n",
              "    .dataframe tbody tr th:only-of-type {\n",
              "        vertical-align: middle;\n",
              "    }\n",
              "\n",
              "    .dataframe tbody tr th {\n",
              "        vertical-align: top;\n",
              "    }\n",
              "\n",
              "    .dataframe thead th {\n",
              "        text-align: right;\n",
              "    }\n",
              "</style>\n",
              "<table border=\"1\" class=\"dataframe\">\n",
              "  <thead>\n",
              "    <tr style=\"text-align: right;\">\n",
              "      <th></th>\n",
              "      <th>location</th>\n",
              "      <th>gender</th>\n",
              "      <th>type</th>\n",
              "      <th>quantity</th>\n",
              "      <th>total_bill</th>\n",
              "      <th>rating</th>\n",
              "    </tr>\n",
              "  </thead>\n",
              "  <tbody>\n",
              "    <tr>\n",
              "      <th>0</th>\n",
              "      <td>Chicago</td>\n",
              "      <td>M</td>\n",
              "      <td>Electronics</td>\n",
              "      <td>1</td>\n",
              "      <td>100</td>\n",
              "      <td>2</td>\n",
              "    </tr>\n",
              "    <tr>\n",
              "      <th>1</th>\n",
              "      <td>Seattle</td>\n",
              "      <td>F</td>\n",
              "      <td>Food&amp;Beverages</td>\n",
              "      <td>4</td>\n",
              "      <td>125</td>\n",
              "      <td>3</td>\n",
              "    </tr>\n",
              "    <tr>\n",
              "      <th>2</th>\n",
              "      <td>San Francisco</td>\n",
              "      <td>M</td>\n",
              "      <td>Medicine</td>\n",
              "      <td>2</td>\n",
              "      <td>50</td>\n",
              "      <td>4</td>\n",
              "    </tr>\n",
              "    <tr>\n",
              "      <th>3</th>\n",
              "      <td>Austin</td>\n",
              "      <td>F</td>\n",
              "      <td>Beauty</td>\n",
              "      <td>1</td>\n",
              "      <td>80</td>\n",
              "      <td>4</td>\n",
              "    </tr>\n",
              "  </tbody>\n",
              "</table>\n",
              "</div>"
            ],
            "text/plain": [
              "        location gender            type  quantity  total_bill  rating\n",
              "0        Chicago      M     Electronics         1         100       2\n",
              "1        Seattle      F  Food&Beverages         4         125       3\n",
              "2  San Francisco      M        Medicine         2          50       4\n",
              "3         Austin      F          Beauty         1          80       4"
            ]
          },
          "execution_count": 43,
          "metadata": {},
          "output_type": "execute_result"
        }
      ],
      "source": [
        "# Estableciendo inplace = True para que los cambios sean permanentes\n",
        "store_data_new.reset_index(drop=True,inplace=True)\n",
        "store_data_new"
      ]
    },
    {
      "cell_type": "markdown",
      "metadata": {
        "id": "1PVPsH6Rf9Us"
      },
      "source": [
        "### 2.8 Pandas - Combinando DataFrames"
      ]
    },
    {
      "cell_type": "markdown",
      "metadata": {
        "id": "1V8PJFedawJY"
      },
      "source": [
        "Vamos a examinar tres métodos para combinar DataFrames:\n",
        "\n",
        "1. concat\n",
        "2. join\n",
        "3. merge"
      ]
    },
    {
      "cell_type": "code",
      "execution_count": 44,
      "metadata": {
        "id": "F7dzbCINgNIj"
      },
      "outputs": [],
      "source": [
        "data_cust = pd.DataFrame({\"customerID\":['101','102','103','104'],\n",
        "                        'category': ['Medium','Medium','High','Low'],\n",
        "                        'first_visit': ['yes','no','yes','yes'],\n",
        "                        'sales': [123,52,214,663]},index=[0,1,2,3])\n",
        "\n",
        "data_cust_new = pd.DataFrame({\"customerID\":['101','103','104','105'],\n",
        "                    'distance': [12,9,44,21],\n",
        "                    'sales': [123,214,663,331]},index=[4,5,6,7])"
      ]
    },
    {
      "cell_type": "code",
      "execution_count": 45,
      "metadata": {
        "colab": {
          "base_uri": "https://localhost:8080/",
          "height": 175
        },
        "id": "A65b10V4Twoq",
        "outputId": "8751b2f3-8ba7-48e6-84c4-26f7281c4cd3"
      },
      "outputs": [
        {
          "data": {
            "text/html": [
              "<div>\n",
              "<style scoped>\n",
              "    .dataframe tbody tr th:only-of-type {\n",
              "        vertical-align: middle;\n",
              "    }\n",
              "\n",
              "    .dataframe tbody tr th {\n",
              "        vertical-align: top;\n",
              "    }\n",
              "\n",
              "    .dataframe thead th {\n",
              "        text-align: right;\n",
              "    }\n",
              "</style>\n",
              "<table border=\"1\" class=\"dataframe\">\n",
              "  <thead>\n",
              "    <tr style=\"text-align: right;\">\n",
              "      <th></th>\n",
              "      <th>customerID</th>\n",
              "      <th>category</th>\n",
              "      <th>first_visit</th>\n",
              "      <th>sales</th>\n",
              "    </tr>\n",
              "  </thead>\n",
              "  <tbody>\n",
              "    <tr>\n",
              "      <th>0</th>\n",
              "      <td>101</td>\n",
              "      <td>Medium</td>\n",
              "      <td>yes</td>\n",
              "      <td>123</td>\n",
              "    </tr>\n",
              "    <tr>\n",
              "      <th>1</th>\n",
              "      <td>102</td>\n",
              "      <td>Medium</td>\n",
              "      <td>no</td>\n",
              "      <td>52</td>\n",
              "    </tr>\n",
              "    <tr>\n",
              "      <th>2</th>\n",
              "      <td>103</td>\n",
              "      <td>High</td>\n",
              "      <td>yes</td>\n",
              "      <td>214</td>\n",
              "    </tr>\n",
              "    <tr>\n",
              "      <th>3</th>\n",
              "      <td>104</td>\n",
              "      <td>Low</td>\n",
              "      <td>yes</td>\n",
              "      <td>663</td>\n",
              "    </tr>\n",
              "  </tbody>\n",
              "</table>\n",
              "</div>"
            ],
            "text/plain": [
              "  customerID category first_visit  sales\n",
              "0        101   Medium         yes    123\n",
              "1        102   Medium          no     52\n",
              "2        103     High         yes    214\n",
              "3        104      Low         yes    663"
            ]
          },
          "execution_count": 45,
          "metadata": {},
          "output_type": "execute_result"
        }
      ],
      "source": [
        "data_cust"
      ]
    },
    {
      "cell_type": "code",
      "execution_count": 46,
      "metadata": {
        "colab": {
          "base_uri": "https://localhost:8080/",
          "height": 175
        },
        "id": "0MMWONOvTy8x",
        "outputId": "325e4a5f-786e-485f-f5e3-b5c4d08093a1"
      },
      "outputs": [
        {
          "data": {
            "text/html": [
              "<div>\n",
              "<style scoped>\n",
              "    .dataframe tbody tr th:only-of-type {\n",
              "        vertical-align: middle;\n",
              "    }\n",
              "\n",
              "    .dataframe tbody tr th {\n",
              "        vertical-align: top;\n",
              "    }\n",
              "\n",
              "    .dataframe thead th {\n",
              "        text-align: right;\n",
              "    }\n",
              "</style>\n",
              "<table border=\"1\" class=\"dataframe\">\n",
              "  <thead>\n",
              "    <tr style=\"text-align: right;\">\n",
              "      <th></th>\n",
              "      <th>customerID</th>\n",
              "      <th>distance</th>\n",
              "      <th>sales</th>\n",
              "    </tr>\n",
              "  </thead>\n",
              "  <tbody>\n",
              "    <tr>\n",
              "      <th>4</th>\n",
              "      <td>101</td>\n",
              "      <td>12</td>\n",
              "      <td>123</td>\n",
              "    </tr>\n",
              "    <tr>\n",
              "      <th>5</th>\n",
              "      <td>103</td>\n",
              "      <td>9</td>\n",
              "      <td>214</td>\n",
              "    </tr>\n",
              "    <tr>\n",
              "      <th>6</th>\n",
              "      <td>104</td>\n",
              "      <td>44</td>\n",
              "      <td>663</td>\n",
              "    </tr>\n",
              "    <tr>\n",
              "      <th>7</th>\n",
              "      <td>105</td>\n",
              "      <td>21</td>\n",
              "      <td>331</td>\n",
              "    </tr>\n",
              "  </tbody>\n",
              "</table>\n",
              "</div>"
            ],
            "text/plain": [
              "  customerID  distance  sales\n",
              "4        101        12    123\n",
              "5        103         9    214\n",
              "6        104        44    663\n",
              "7        105        21    331"
            ]
          },
          "execution_count": 46,
          "metadata": {},
          "output_type": "execute_result"
        }
      ],
      "source": [
        "data_cust_new"
      ]
    },
    {
      "cell_type": "markdown",
      "metadata": {
        "id": "M8-W2HEXQfwO"
      },
      "source": [
        "La función **pd.concat** se utiliza para concatenar DataFrames a lo largo de un eje específico. Cuando se especifica **axis=0, la función concatena los DataFrames a lo largo del eje vertical**, es decir, apila los DataFrames uno encima del otro. Esto significa que agrega las filas de un DataFrame al final del otro, creando un DataFrame más grande con más filas."
      ]
    },
    {
      "cell_type": "code",
      "execution_count": 47,
      "metadata": {
        "colab": {
          "base_uri": "https://localhost:8080/",
          "height": 300
        },
        "id": "oJpGr_5LhnR3",
        "outputId": "3d5c87ae-e091-47c4-daf6-09e7e15f42e5"
      },
      "outputs": [
        {
          "data": {
            "text/html": [
              "<div>\n",
              "<style scoped>\n",
              "    .dataframe tbody tr th:only-of-type {\n",
              "        vertical-align: middle;\n",
              "    }\n",
              "\n",
              "    .dataframe tbody tr th {\n",
              "        vertical-align: top;\n",
              "    }\n",
              "\n",
              "    .dataframe thead th {\n",
              "        text-align: right;\n",
              "    }\n",
              "</style>\n",
              "<table border=\"1\" class=\"dataframe\">\n",
              "  <thead>\n",
              "    <tr style=\"text-align: right;\">\n",
              "      <th></th>\n",
              "      <th>customerID</th>\n",
              "      <th>category</th>\n",
              "      <th>first_visit</th>\n",
              "      <th>sales</th>\n",
              "      <th>distance</th>\n",
              "    </tr>\n",
              "  </thead>\n",
              "  <tbody>\n",
              "    <tr>\n",
              "      <th>0</th>\n",
              "      <td>101</td>\n",
              "      <td>Medium</td>\n",
              "      <td>yes</td>\n",
              "      <td>123</td>\n",
              "      <td>NaN</td>\n",
              "    </tr>\n",
              "    <tr>\n",
              "      <th>1</th>\n",
              "      <td>102</td>\n",
              "      <td>Medium</td>\n",
              "      <td>no</td>\n",
              "      <td>52</td>\n",
              "      <td>NaN</td>\n",
              "    </tr>\n",
              "    <tr>\n",
              "      <th>2</th>\n",
              "      <td>103</td>\n",
              "      <td>High</td>\n",
              "      <td>yes</td>\n",
              "      <td>214</td>\n",
              "      <td>NaN</td>\n",
              "    </tr>\n",
              "    <tr>\n",
              "      <th>3</th>\n",
              "      <td>104</td>\n",
              "      <td>Low</td>\n",
              "      <td>yes</td>\n",
              "      <td>663</td>\n",
              "      <td>NaN</td>\n",
              "    </tr>\n",
              "    <tr>\n",
              "      <th>4</th>\n",
              "      <td>101</td>\n",
              "      <td>NaN</td>\n",
              "      <td>NaN</td>\n",
              "      <td>123</td>\n",
              "      <td>12.0</td>\n",
              "    </tr>\n",
              "    <tr>\n",
              "      <th>5</th>\n",
              "      <td>103</td>\n",
              "      <td>NaN</td>\n",
              "      <td>NaN</td>\n",
              "      <td>214</td>\n",
              "      <td>9.0</td>\n",
              "    </tr>\n",
              "    <tr>\n",
              "      <th>6</th>\n",
              "      <td>104</td>\n",
              "      <td>NaN</td>\n",
              "      <td>NaN</td>\n",
              "      <td>663</td>\n",
              "      <td>44.0</td>\n",
              "    </tr>\n",
              "    <tr>\n",
              "      <th>7</th>\n",
              "      <td>105</td>\n",
              "      <td>NaN</td>\n",
              "      <td>NaN</td>\n",
              "      <td>331</td>\n",
              "      <td>21.0</td>\n",
              "    </tr>\n",
              "  </tbody>\n",
              "</table>\n",
              "</div>"
            ],
            "text/plain": [
              "  customerID category first_visit  sales  distance\n",
              "0        101   Medium         yes    123       NaN\n",
              "1        102   Medium          no     52       NaN\n",
              "2        103     High         yes    214       NaN\n",
              "3        104      Low         yes    663       NaN\n",
              "4        101      NaN         NaN    123      12.0\n",
              "5        103      NaN         NaN    214       9.0\n",
              "6        104      NaN         NaN    663      44.0\n",
              "7        105      NaN         NaN    331      21.0"
            ]
          },
          "execution_count": 47,
          "metadata": {},
          "output_type": "execute_result"
        }
      ],
      "source": [
        "pd.concat([data_cust,data_cust_new],axis=0)"
      ]
    },
    {
      "cell_type": "markdown",
      "metadata": {
        "id": "1c48dUW7Qtk2"
      },
      "source": [
        "Cuando se utiliza **pd.concat con axis=1, la función concatena los DataFrames a lo largo del eje horizontal, es decir, los combina lado a lado**. Esto agrega columnas de un DataFrame al final de las columnas del otro, creando un DataFrame más ancho."
      ]
    },
    {
      "cell_type": "code",
      "execution_count": 48,
      "metadata": {
        "colab": {
          "base_uri": "https://localhost:8080/",
          "height": 300
        },
        "id": "x4d_fwk9hyIn",
        "outputId": "ec3f44c7-c44b-487b-eb4e-7c743104a237"
      },
      "outputs": [
        {
          "data": {
            "text/html": [
              "<div>\n",
              "<style scoped>\n",
              "    .dataframe tbody tr th:only-of-type {\n",
              "        vertical-align: middle;\n",
              "    }\n",
              "\n",
              "    .dataframe tbody tr th {\n",
              "        vertical-align: top;\n",
              "    }\n",
              "\n",
              "    .dataframe thead th {\n",
              "        text-align: right;\n",
              "    }\n",
              "</style>\n",
              "<table border=\"1\" class=\"dataframe\">\n",
              "  <thead>\n",
              "    <tr style=\"text-align: right;\">\n",
              "      <th></th>\n",
              "      <th>customerID</th>\n",
              "      <th>category</th>\n",
              "      <th>first_visit</th>\n",
              "      <th>sales</th>\n",
              "      <th>customerID</th>\n",
              "      <th>distance</th>\n",
              "      <th>sales</th>\n",
              "    </tr>\n",
              "  </thead>\n",
              "  <tbody>\n",
              "    <tr>\n",
              "      <th>0</th>\n",
              "      <td>101</td>\n",
              "      <td>Medium</td>\n",
              "      <td>yes</td>\n",
              "      <td>123.0</td>\n",
              "      <td>NaN</td>\n",
              "      <td>NaN</td>\n",
              "      <td>NaN</td>\n",
              "    </tr>\n",
              "    <tr>\n",
              "      <th>1</th>\n",
              "      <td>102</td>\n",
              "      <td>Medium</td>\n",
              "      <td>no</td>\n",
              "      <td>52.0</td>\n",
              "      <td>NaN</td>\n",
              "      <td>NaN</td>\n",
              "      <td>NaN</td>\n",
              "    </tr>\n",
              "    <tr>\n",
              "      <th>2</th>\n",
              "      <td>103</td>\n",
              "      <td>High</td>\n",
              "      <td>yes</td>\n",
              "      <td>214.0</td>\n",
              "      <td>NaN</td>\n",
              "      <td>NaN</td>\n",
              "      <td>NaN</td>\n",
              "    </tr>\n",
              "    <tr>\n",
              "      <th>3</th>\n",
              "      <td>104</td>\n",
              "      <td>Low</td>\n",
              "      <td>yes</td>\n",
              "      <td>663.0</td>\n",
              "      <td>NaN</td>\n",
              "      <td>NaN</td>\n",
              "      <td>NaN</td>\n",
              "    </tr>\n",
              "    <tr>\n",
              "      <th>4</th>\n",
              "      <td>NaN</td>\n",
              "      <td>NaN</td>\n",
              "      <td>NaN</td>\n",
              "      <td>NaN</td>\n",
              "      <td>101</td>\n",
              "      <td>12.0</td>\n",
              "      <td>123.0</td>\n",
              "    </tr>\n",
              "    <tr>\n",
              "      <th>5</th>\n",
              "      <td>NaN</td>\n",
              "      <td>NaN</td>\n",
              "      <td>NaN</td>\n",
              "      <td>NaN</td>\n",
              "      <td>103</td>\n",
              "      <td>9.0</td>\n",
              "      <td>214.0</td>\n",
              "    </tr>\n",
              "    <tr>\n",
              "      <th>6</th>\n",
              "      <td>NaN</td>\n",
              "      <td>NaN</td>\n",
              "      <td>NaN</td>\n",
              "      <td>NaN</td>\n",
              "      <td>104</td>\n",
              "      <td>44.0</td>\n",
              "      <td>663.0</td>\n",
              "    </tr>\n",
              "    <tr>\n",
              "      <th>7</th>\n",
              "      <td>NaN</td>\n",
              "      <td>NaN</td>\n",
              "      <td>NaN</td>\n",
              "      <td>NaN</td>\n",
              "      <td>105</td>\n",
              "      <td>21.0</td>\n",
              "      <td>331.0</td>\n",
              "    </tr>\n",
              "  </tbody>\n",
              "</table>\n",
              "</div>"
            ],
            "text/plain": [
              "  customerID category first_visit  sales customerID  distance  sales\n",
              "0        101   Medium         yes  123.0        NaN       NaN    NaN\n",
              "1        102   Medium          no   52.0        NaN       NaN    NaN\n",
              "2        103     High         yes  214.0        NaN       NaN    NaN\n",
              "3        104      Low         yes  663.0        NaN       NaN    NaN\n",
              "4        NaN      NaN         NaN    NaN        101      12.0  123.0\n",
              "5        NaN      NaN         NaN    NaN        103       9.0  214.0\n",
              "6        NaN      NaN         NaN    NaN        104      44.0  663.0\n",
              "7        NaN      NaN         NaN    NaN        105      21.0  331.0"
            ]
          },
          "execution_count": 48,
          "metadata": {},
          "output_type": "execute_result"
        }
      ],
      "source": [
        "pd.concat([data_cust,data_cust_new],axis=1)"
      ]
    },
    {
      "cell_type": "markdown",
      "metadata": {
        "id": "rYWgB69Uh8eb"
      },
      "source": [
        "**Merge y Join**\n",
        "\n",
        "* Merge combina DataFrames utilizando los valores de una columna para identificar entradas comunes.\n",
        "\n",
        "* Join combina DataFrames utilizando el índice para identificar entradas comunes."
      ]
    },
    {
      "cell_type": "code",
      "execution_count": 49,
      "metadata": {
        "colab": {
          "base_uri": "https://localhost:8080/",
          "height": 206
        },
        "id": "fVjFWr1hiF9c",
        "outputId": "a97e3826-9642-41ea-883c-50782e563fed"
      },
      "outputs": [
        {
          "data": {
            "text/html": [
              "<div>\n",
              "<style scoped>\n",
              "    .dataframe tbody tr th:only-of-type {\n",
              "        vertical-align: middle;\n",
              "    }\n",
              "\n",
              "    .dataframe tbody tr th {\n",
              "        vertical-align: top;\n",
              "    }\n",
              "\n",
              "    .dataframe thead th {\n",
              "        text-align: right;\n",
              "    }\n",
              "</style>\n",
              "<table border=\"1\" class=\"dataframe\">\n",
              "  <thead>\n",
              "    <tr style=\"text-align: right;\">\n",
              "      <th></th>\n",
              "      <th>customerID</th>\n",
              "      <th>category</th>\n",
              "      <th>first_visit</th>\n",
              "      <th>sales_x</th>\n",
              "      <th>distance</th>\n",
              "      <th>sales_y</th>\n",
              "    </tr>\n",
              "  </thead>\n",
              "  <tbody>\n",
              "    <tr>\n",
              "      <th>0</th>\n",
              "      <td>101</td>\n",
              "      <td>Medium</td>\n",
              "      <td>yes</td>\n",
              "      <td>123.0</td>\n",
              "      <td>12.0</td>\n",
              "      <td>123.0</td>\n",
              "    </tr>\n",
              "    <tr>\n",
              "      <th>1</th>\n",
              "      <td>102</td>\n",
              "      <td>Medium</td>\n",
              "      <td>no</td>\n",
              "      <td>52.0</td>\n",
              "      <td>NaN</td>\n",
              "      <td>NaN</td>\n",
              "    </tr>\n",
              "    <tr>\n",
              "      <th>2</th>\n",
              "      <td>103</td>\n",
              "      <td>High</td>\n",
              "      <td>yes</td>\n",
              "      <td>214.0</td>\n",
              "      <td>9.0</td>\n",
              "      <td>214.0</td>\n",
              "    </tr>\n",
              "    <tr>\n",
              "      <th>3</th>\n",
              "      <td>104</td>\n",
              "      <td>Low</td>\n",
              "      <td>yes</td>\n",
              "      <td>663.0</td>\n",
              "      <td>44.0</td>\n",
              "      <td>663.0</td>\n",
              "    </tr>\n",
              "    <tr>\n",
              "      <th>4</th>\n",
              "      <td>105</td>\n",
              "      <td>NaN</td>\n",
              "      <td>NaN</td>\n",
              "      <td>NaN</td>\n",
              "      <td>21.0</td>\n",
              "      <td>331.0</td>\n",
              "    </tr>\n",
              "  </tbody>\n",
              "</table>\n",
              "</div>"
            ],
            "text/plain": [
              "  customerID category first_visit  sales_x  distance  sales_y\n",
              "0        101   Medium         yes    123.0      12.0    123.0\n",
              "1        102   Medium          no     52.0       NaN      NaN\n",
              "2        103     High         yes    214.0       9.0    214.0\n",
              "3        104      Low         yes    663.0      44.0    663.0\n",
              "4        105      NaN         NaN      NaN      21.0    331.0"
            ]
          },
          "execution_count": 49,
          "metadata": {},
          "output_type": "execute_result"
        }
      ],
      "source": [
        "pd.merge(data_cust,data_cust_new,how='outer',on='customerID') # outer merge es la unión de ambos df"
      ]
    },
    {
      "cell_type": "code",
      "execution_count": 50,
      "metadata": {
        "colab": {
          "base_uri": "https://localhost:8080/",
          "height": 143
        },
        "id": "arBjOKCCiKeB",
        "outputId": "7868cef0-fd15-402c-aaf8-c2ad12d3db8f"
      },
      "outputs": [
        {
          "data": {
            "text/html": [
              "<div>\n",
              "<style scoped>\n",
              "    .dataframe tbody tr th:only-of-type {\n",
              "        vertical-align: middle;\n",
              "    }\n",
              "\n",
              "    .dataframe tbody tr th {\n",
              "        vertical-align: top;\n",
              "    }\n",
              "\n",
              "    .dataframe thead th {\n",
              "        text-align: right;\n",
              "    }\n",
              "</style>\n",
              "<table border=\"1\" class=\"dataframe\">\n",
              "  <thead>\n",
              "    <tr style=\"text-align: right;\">\n",
              "      <th></th>\n",
              "      <th>customerID</th>\n",
              "      <th>category</th>\n",
              "      <th>first_visit</th>\n",
              "      <th>sales_x</th>\n",
              "      <th>distance</th>\n",
              "      <th>sales_y</th>\n",
              "    </tr>\n",
              "  </thead>\n",
              "  <tbody>\n",
              "    <tr>\n",
              "      <th>0</th>\n",
              "      <td>101</td>\n",
              "      <td>Medium</td>\n",
              "      <td>yes</td>\n",
              "      <td>123</td>\n",
              "      <td>12</td>\n",
              "      <td>123</td>\n",
              "    </tr>\n",
              "    <tr>\n",
              "      <th>1</th>\n",
              "      <td>103</td>\n",
              "      <td>High</td>\n",
              "      <td>yes</td>\n",
              "      <td>214</td>\n",
              "      <td>9</td>\n",
              "      <td>214</td>\n",
              "    </tr>\n",
              "    <tr>\n",
              "      <th>2</th>\n",
              "      <td>104</td>\n",
              "      <td>Low</td>\n",
              "      <td>yes</td>\n",
              "      <td>663</td>\n",
              "      <td>44</td>\n",
              "      <td>663</td>\n",
              "    </tr>\n",
              "  </tbody>\n",
              "</table>\n",
              "</div>"
            ],
            "text/plain": [
              "  customerID category first_visit  sales_x  distance  sales_y\n",
              "0        101   Medium         yes      123        12      123\n",
              "1        103     High         yes      214         9      214\n",
              "2        104      Low         yes      663        44      663"
            ]
          },
          "execution_count": 50,
          "metadata": {},
          "output_type": "execute_result"
        }
      ],
      "source": [
        "pd.merge(data_cust,data_cust_new,how='inner',on='customerID') # inner merge es la intersección basada en la columna \"on\""
      ]
    },
    {
      "cell_type": "code",
      "execution_count": 51,
      "metadata": {
        "colab": {
          "base_uri": "https://localhost:8080/"
        },
        "id": "BXWe2W7hirk5",
        "outputId": "ef8284f6-5c0c-457b-9551-e074f237d774"
      },
      "outputs": [
        {
          "data": {
            "text/html": [
              "<div>\n",
              "<style scoped>\n",
              "    .dataframe tbody tr th:only-of-type {\n",
              "        vertical-align: middle;\n",
              "    }\n",
              "\n",
              "    .dataframe tbody tr th {\n",
              "        vertical-align: top;\n",
              "    }\n",
              "\n",
              "    .dataframe thead th {\n",
              "        text-align: right;\n",
              "    }\n",
              "</style>\n",
              "<table border=\"1\" class=\"dataframe\">\n",
              "  <thead>\n",
              "    <tr style=\"text-align: right;\">\n",
              "      <th></th>\n",
              "      <th>customerID</th>\n",
              "      <th>category</th>\n",
              "      <th>first_visit</th>\n",
              "      <th>sales_x</th>\n",
              "      <th>distance</th>\n",
              "      <th>sales_y</th>\n",
              "    </tr>\n",
              "  </thead>\n",
              "  <tbody>\n",
              "    <tr>\n",
              "      <th>0</th>\n",
              "      <td>101</td>\n",
              "      <td>Medium</td>\n",
              "      <td>yes</td>\n",
              "      <td>123.0</td>\n",
              "      <td>12</td>\n",
              "      <td>123</td>\n",
              "    </tr>\n",
              "    <tr>\n",
              "      <th>1</th>\n",
              "      <td>103</td>\n",
              "      <td>High</td>\n",
              "      <td>yes</td>\n",
              "      <td>214.0</td>\n",
              "      <td>9</td>\n",
              "      <td>214</td>\n",
              "    </tr>\n",
              "    <tr>\n",
              "      <th>2</th>\n",
              "      <td>104</td>\n",
              "      <td>Low</td>\n",
              "      <td>yes</td>\n",
              "      <td>663.0</td>\n",
              "      <td>44</td>\n",
              "      <td>663</td>\n",
              "    </tr>\n",
              "    <tr>\n",
              "      <th>3</th>\n",
              "      <td>105</td>\n",
              "      <td>NaN</td>\n",
              "      <td>NaN</td>\n",
              "      <td>NaN</td>\n",
              "      <td>21</td>\n",
              "      <td>331</td>\n",
              "    </tr>\n",
              "  </tbody>\n",
              "</table>\n",
              "</div>"
            ],
            "text/plain": [
              "  customerID category first_visit  sales_x  distance  sales_y\n",
              "0        101   Medium         yes    123.0        12      123\n",
              "1        103     High         yes    214.0         9      214\n",
              "2        104      Low         yes    663.0        44      663\n",
              "3        105      NaN         NaN      NaN        21      331"
            ]
          },
          "execution_count": 51,
          "metadata": {},
          "output_type": "execute_result"
        }
      ],
      "source": [
        "pd.merge(data_cust,data_cust_new,how='right',on='customerID')"
      ]
    },
    {
      "cell_type": "code",
      "execution_count": 52,
      "metadata": {
        "id": "KCrVkI7_izBx"
      },
      "outputs": [],
      "source": [
        "data_quarters = pd.DataFrame({'Q1': [101,102,103],\n",
        "                              'Q2': [201,202,203]},\n",
        "                               index=['I0','I1','I2'])\n",
        "\n",
        "data_quarters_new = pd.DataFrame({'Q3': [301,302,303],\n",
        "                                  'Q4': [401,402,403]},\n",
        "                               index=['I0','I2','I3'])"
      ]
    },
    {
      "cell_type": "code",
      "execution_count": 53,
      "metadata": {
        "colab": {
          "base_uri": "https://localhost:8080/",
          "height": 143
        },
        "id": "udScH_N_YJd2",
        "outputId": "ca53a313-de26-4601-8601-7f9eb877d1b4"
      },
      "outputs": [
        {
          "data": {
            "text/html": [
              "<div>\n",
              "<style scoped>\n",
              "    .dataframe tbody tr th:only-of-type {\n",
              "        vertical-align: middle;\n",
              "    }\n",
              "\n",
              "    .dataframe tbody tr th {\n",
              "        vertical-align: top;\n",
              "    }\n",
              "\n",
              "    .dataframe thead th {\n",
              "        text-align: right;\n",
              "    }\n",
              "</style>\n",
              "<table border=\"1\" class=\"dataframe\">\n",
              "  <thead>\n",
              "    <tr style=\"text-align: right;\">\n",
              "      <th></th>\n",
              "      <th>Q1</th>\n",
              "      <th>Q2</th>\n",
              "    </tr>\n",
              "  </thead>\n",
              "  <tbody>\n",
              "    <tr>\n",
              "      <th>I0</th>\n",
              "      <td>101</td>\n",
              "      <td>201</td>\n",
              "    </tr>\n",
              "    <tr>\n",
              "      <th>I1</th>\n",
              "      <td>102</td>\n",
              "      <td>202</td>\n",
              "    </tr>\n",
              "    <tr>\n",
              "      <th>I2</th>\n",
              "      <td>103</td>\n",
              "      <td>203</td>\n",
              "    </tr>\n",
              "  </tbody>\n",
              "</table>\n",
              "</div>"
            ],
            "text/plain": [
              "     Q1   Q2\n",
              "I0  101  201\n",
              "I1  102  202\n",
              "I2  103  203"
            ]
          },
          "execution_count": 53,
          "metadata": {},
          "output_type": "execute_result"
        }
      ],
      "source": [
        "data_quarters"
      ]
    },
    {
      "cell_type": "code",
      "execution_count": 54,
      "metadata": {
        "colab": {
          "base_uri": "https://localhost:8080/",
          "height": 143
        },
        "id": "F46S08gHYJku",
        "outputId": "c4ef4b45-09c6-4acf-f082-609a7a9df528"
      },
      "outputs": [
        {
          "data": {
            "text/html": [
              "<div>\n",
              "<style scoped>\n",
              "    .dataframe tbody tr th:only-of-type {\n",
              "        vertical-align: middle;\n",
              "    }\n",
              "\n",
              "    .dataframe tbody tr th {\n",
              "        vertical-align: top;\n",
              "    }\n",
              "\n",
              "    .dataframe thead th {\n",
              "        text-align: right;\n",
              "    }\n",
              "</style>\n",
              "<table border=\"1\" class=\"dataframe\">\n",
              "  <thead>\n",
              "    <tr style=\"text-align: right;\">\n",
              "      <th></th>\n",
              "      <th>Q3</th>\n",
              "      <th>Q4</th>\n",
              "    </tr>\n",
              "  </thead>\n",
              "  <tbody>\n",
              "    <tr>\n",
              "      <th>I0</th>\n",
              "      <td>301</td>\n",
              "      <td>401</td>\n",
              "    </tr>\n",
              "    <tr>\n",
              "      <th>I2</th>\n",
              "      <td>302</td>\n",
              "      <td>402</td>\n",
              "    </tr>\n",
              "    <tr>\n",
              "      <th>I3</th>\n",
              "      <td>303</td>\n",
              "      <td>403</td>\n",
              "    </tr>\n",
              "  </tbody>\n",
              "</table>\n",
              "</div>"
            ],
            "text/plain": [
              "     Q3   Q4\n",
              "I0  301  401\n",
              "I2  302  402\n",
              "I3  303  403"
            ]
          },
          "execution_count": 54,
          "metadata": {},
          "output_type": "execute_result"
        }
      ],
      "source": [
        "data_quarters_new"
      ]
    },
    {
      "cell_type": "markdown",
      "metadata": {
        "id": "xhilQNPcjDb9"
      },
      "source": [
        "* `join` se comporta de manera similar a `merge`, excepto que en lugar de utilizar los valores de una de las columnas para combinar DataFrames, utiliza las etiquetas del índice."
      ]
    },
    {
      "cell_type": "code",
      "execution_count": 55,
      "metadata": {
        "colab": {
          "base_uri": "https://localhost:8080/",
          "height": 143
        },
        "id": "sEgY9t7pi_pH",
        "outputId": "724a16a2-7f73-474c-865a-4434af32c667"
      },
      "outputs": [
        {
          "data": {
            "text/html": [
              "<div>\n",
              "<style scoped>\n",
              "    .dataframe tbody tr th:only-of-type {\n",
              "        vertical-align: middle;\n",
              "    }\n",
              "\n",
              "    .dataframe tbody tr th {\n",
              "        vertical-align: top;\n",
              "    }\n",
              "\n",
              "    .dataframe thead th {\n",
              "        text-align: right;\n",
              "    }\n",
              "</style>\n",
              "<table border=\"1\" class=\"dataframe\">\n",
              "  <thead>\n",
              "    <tr style=\"text-align: right;\">\n",
              "      <th></th>\n",
              "      <th>Q1</th>\n",
              "      <th>Q2</th>\n",
              "      <th>Q3</th>\n",
              "      <th>Q4</th>\n",
              "    </tr>\n",
              "  </thead>\n",
              "  <tbody>\n",
              "    <tr>\n",
              "      <th>I0</th>\n",
              "      <td>101.0</td>\n",
              "      <td>201.0</td>\n",
              "      <td>301</td>\n",
              "      <td>401</td>\n",
              "    </tr>\n",
              "    <tr>\n",
              "      <th>I2</th>\n",
              "      <td>103.0</td>\n",
              "      <td>203.0</td>\n",
              "      <td>302</td>\n",
              "      <td>402</td>\n",
              "    </tr>\n",
              "    <tr>\n",
              "      <th>I3</th>\n",
              "      <td>NaN</td>\n",
              "      <td>NaN</td>\n",
              "      <td>303</td>\n",
              "      <td>403</td>\n",
              "    </tr>\n",
              "  </tbody>\n",
              "</table>\n",
              "</div>"
            ],
            "text/plain": [
              "       Q1     Q2   Q3   Q4\n",
              "I0  101.0  201.0  301  401\n",
              "I2  103.0  203.0  302  402\n",
              "I3    NaN    NaN  303  403"
            ]
          },
          "execution_count": 55,
          "metadata": {},
          "output_type": "execute_result"
        }
      ],
      "source": [
        "data_quarters.join(data_quarters_new,how='right') # outer, inner, left, y right funcionan igual que merge"
      ]
    },
    {
      "cell_type": "code",
      "execution_count": 56,
      "metadata": {
        "colab": {
          "base_uri": "https://localhost:8080/",
          "height": 143
        },
        "id": "8_HI-AjQRD5s",
        "outputId": "cd94419d-c328-4610-ccf0-9704f26b1ac3"
      },
      "outputs": [
        {
          "data": {
            "text/html": [
              "<div>\n",
              "<style scoped>\n",
              "    .dataframe tbody tr th:only-of-type {\n",
              "        vertical-align: middle;\n",
              "    }\n",
              "\n",
              "    .dataframe tbody tr th {\n",
              "        vertical-align: top;\n",
              "    }\n",
              "\n",
              "    .dataframe thead th {\n",
              "        text-align: right;\n",
              "    }\n",
              "</style>\n",
              "<table border=\"1\" class=\"dataframe\">\n",
              "  <thead>\n",
              "    <tr style=\"text-align: right;\">\n",
              "      <th></th>\n",
              "      <th>Q1</th>\n",
              "      <th>Q2</th>\n",
              "      <th>Q3</th>\n",
              "      <th>Q4</th>\n",
              "    </tr>\n",
              "  </thead>\n",
              "  <tbody>\n",
              "    <tr>\n",
              "      <th>I0</th>\n",
              "      <td>101</td>\n",
              "      <td>201</td>\n",
              "      <td>301.0</td>\n",
              "      <td>401.0</td>\n",
              "    </tr>\n",
              "    <tr>\n",
              "      <th>I1</th>\n",
              "      <td>102</td>\n",
              "      <td>202</td>\n",
              "      <td>NaN</td>\n",
              "      <td>NaN</td>\n",
              "    </tr>\n",
              "    <tr>\n",
              "      <th>I2</th>\n",
              "      <td>103</td>\n",
              "      <td>203</td>\n",
              "      <td>302.0</td>\n",
              "      <td>402.0</td>\n",
              "    </tr>\n",
              "  </tbody>\n",
              "</table>\n",
              "</div>"
            ],
            "text/plain": [
              "     Q1   Q2     Q3     Q4\n",
              "I0  101  201  301.0  401.0\n",
              "I1  102  202    NaN    NaN\n",
              "I2  103  203  302.0  402.0"
            ]
          },
          "execution_count": 56,
          "metadata": {},
          "output_type": "execute_result"
        }
      ],
      "source": [
        "data_quarters.join(data_quarters_new,how='left')"
      ]
    },
    {
      "cell_type": "markdown",
      "metadata": {
        "id": "TQdLaw2WaaT0"
      },
      "source": [
        "### 2.9 Pandas - Accediendo y leyendo DataFrames"
      ]
    },
    {
      "cell_type": "markdown",
      "metadata": {
        "id": "hzUVpfIqcLM-"
      },
      "source": [
        "**Nota**\n",
        "\n",
        "En escenarios de la vida real, lidiamos con conjuntos de datos mucho más grandes que tienen miles de filas y múltiples columnas. No sería factible crear conjuntos de datos utilizando múltiples listas, especialmente si el número de columnas y filas aumenta.\n",
        "\n",
        "Por lo tanto, está claro que necesitamos una forma más eficiente de manejar los datos simultáneamente a nivel de columnas y filas. En Python, podemos importar conjuntos de datos desde nuestro sistema local, desde enlaces o desde bases de datos y trabajar con ellos directamente en lugar de crear nuestros propios conjuntos de datos."
      ]
    },
    {
      "cell_type": "markdown",
      "metadata": {
        "id": "2vu0qeSHaaT0"
      },
      "source": [
        "**Leyendo un CSV file en Python**"
      ]
    },
    {
      "cell_type": "markdown",
      "metadata": {
        "id": "0s1W4Ya3aaT0"
      },
      "source": [
        "**Para Jupyter Notebook**\n",
        "* Cuando el archivo de datos y el cuaderno de Jupyter se encuentran en la misma carpeta."
      ]
    },
    {
      "cell_type": "code",
      "execution_count": 57,
      "metadata": {
        "id": "6hg4rM1NkMpK"
      },
      "outputs": [],
      "source": [
        "# data = pd.read_csv('StockData.csv')"
      ]
    },
    {
      "cell_type": "markdown",
      "metadata": {
        "id": "sfi3h_bGaaT0"
      },
      "source": [
        "**Para Google Colab con Google Drive**\n",
        "\n",
        "Primero, debemos dar acceso a Google Colab a nuestra unidad de Google:"
      ]
    },
    {
      "cell_type": "code",
      "execution_count": 58,
      "metadata": {
        "colab": {
          "base_uri": "https://localhost:8080/"
        },
        "id": "KSpDmB4XcExv",
        "outputId": "b9d659fb-e8fb-4e1b-8356-44efc52619e5"
      },
      "outputs": [],
      "source": [
        "# from google.colab import drive\n",
        "# drive.mount('/content/drive')"
      ]
    },
    {
      "cell_type": "markdown",
      "metadata": {
        "id": "9oKnCEzrcKq9"
      },
      "source": [
        "Una vez que tenemos acceso, podemos cargar archivos desde Google Drive utilizando la función `read_csv()`."
      ]
    },
    {
      "cell_type": "code",
      "execution_count": 59,
      "metadata": {
        "id": "fTw5q0pBcI5h"
      },
      "outputs": [],
      "source": [
        "# path = \"/content/drive/MyDrive/Python para Ciencia de Datos - 2023-2/Mental-Health-Twitter.csv\"\n",
        "# data_twitter = pd.read_csv(path)"
      ]
    },
    {
      "cell_type": "code",
      "execution_count": 60,
      "metadata": {
        "colab": {
          "base_uri": "https://localhost:8080/",
          "height": 276
        },
        "id": "Hb42JF8FSA2u",
        "outputId": "c0db4bd4-0f49-4e0d-9c56-3b38cd2859e4"
      },
      "outputs": [],
      "source": [
        "# data_twitter.head()"
      ]
    },
    {
      "cell_type": "code",
      "execution_count": 61,
      "metadata": {
        "id": "8IWOzbhvmPig"
      },
      "outputs": [],
      "source": [
        "# También Podemos leer un archivo que pasándole el url de github\n",
        "ds_link = 'https://raw.githubusercontent.com/CristhianCastro25/Programacion_Analisis_Exploratorio/main/Accidentes%20de%20tra%CC%81nsito%20en%20carreteras-2020-2021-Sutran.csv'\n",
        "data = pd.read_csv(ds_link, encoding='latin-1', sep=';')"
      ]
    },
    {
      "cell_type": "code",
      "execution_count": 62,
      "metadata": {
        "colab": {
          "base_uri": "https://localhost:8080/",
          "height": 206
        },
        "id": "K2BX7gs2aaT1",
        "outputId": "722fba43-fcb2-4171-d35b-e29a27ebf61d"
      },
      "outputs": [
        {
          "data": {
            "text/html": [
              "<div>\n",
              "<style scoped>\n",
              "    .dataframe tbody tr th:only-of-type {\n",
              "        vertical-align: middle;\n",
              "    }\n",
              "\n",
              "    .dataframe tbody tr th {\n",
              "        vertical-align: top;\n",
              "    }\n",
              "\n",
              "    .dataframe thead th {\n",
              "        text-align: right;\n",
              "    }\n",
              "</style>\n",
              "<table border=\"1\" class=\"dataframe\">\n",
              "  <thead>\n",
              "    <tr style=\"text-align: right;\">\n",
              "      <th></th>\n",
              "      <th>FECHA_CORTE</th>\n",
              "      <th>FECHA</th>\n",
              "      <th>HORA</th>\n",
              "      <th>DEPARTAMENTO</th>\n",
              "      <th>CODIGO_VÍA</th>\n",
              "      <th>KILOMETRO</th>\n",
              "      <th>MODALIDAD</th>\n",
              "      <th>FALLECIDOS</th>\n",
              "      <th>HERIDOS</th>\n",
              "    </tr>\n",
              "  </thead>\n",
              "  <tbody>\n",
              "    <tr>\n",
              "      <th>0</th>\n",
              "      <td>20211222</td>\n",
              "      <td>20200101</td>\n",
              "      <td>05:40</td>\n",
              "      <td>LIMA</td>\n",
              "      <td>PE-1S</td>\n",
              "      <td>24</td>\n",
              "      <td>DESPISTE</td>\n",
              "      <td>0</td>\n",
              "      <td>0</td>\n",
              "    </tr>\n",
              "    <tr>\n",
              "      <th>1</th>\n",
              "      <td>20211222</td>\n",
              "      <td>20200101</td>\n",
              "      <td>16:30</td>\n",
              "      <td>CAJAMARCA</td>\n",
              "      <td>PE-3N</td>\n",
              "      <td>74</td>\n",
              "      <td>DESPISTE</td>\n",
              "      <td>0</td>\n",
              "      <td>0</td>\n",
              "    </tr>\n",
              "    <tr>\n",
              "      <th>2</th>\n",
              "      <td>20211222</td>\n",
              "      <td>20200101</td>\n",
              "      <td>07:45</td>\n",
              "      <td>PASCO</td>\n",
              "      <td>PE-3N</td>\n",
              "      <td>103</td>\n",
              "      <td>DESPISTE</td>\n",
              "      <td>0</td>\n",
              "      <td>1</td>\n",
              "    </tr>\n",
              "    <tr>\n",
              "      <th>3</th>\n",
              "      <td>20211222</td>\n",
              "      <td>20200101</td>\n",
              "      <td>18:30</td>\n",
              "      <td>CAJAMARCA</td>\n",
              "      <td>PE-08</td>\n",
              "      <td>111</td>\n",
              "      <td>DESPISTE</td>\n",
              "      <td>0</td>\n",
              "      <td>2</td>\n",
              "    </tr>\n",
              "    <tr>\n",
              "      <th>4</th>\n",
              "      <td>20211222</td>\n",
              "      <td>20200101</td>\n",
              "      <td>18:40</td>\n",
              "      <td>LIMA</td>\n",
              "      <td>PE-1N</td>\n",
              "      <td>174</td>\n",
              "      <td>DESPISTE</td>\n",
              "      <td>0</td>\n",
              "      <td>5</td>\n",
              "    </tr>\n",
              "  </tbody>\n",
              "</table>\n",
              "</div>"
            ],
            "text/plain": [
              "   FECHA_CORTE     FECHA   HORA DEPARTAMENTO CODIGO_VÍA KILOMETRO MODALIDAD  \\\n",
              "0     20211222  20200101  05:40         LIMA      PE-1S        24  DESPISTE   \n",
              "1     20211222  20200101  16:30    CAJAMARCA      PE-3N        74  DESPISTE   \n",
              "2     20211222  20200101  07:45        PASCO      PE-3N       103  DESPISTE   \n",
              "3     20211222  20200101  18:30    CAJAMARCA      PE-08       111  DESPISTE   \n",
              "4     20211222  20200101  18:40         LIMA      PE-1N       174  DESPISTE   \n",
              "\n",
              "  FALLECIDOS HERIDOS  \n",
              "0          0       0  \n",
              "1          0       0  \n",
              "2          0       1  \n",
              "3          0       2  \n",
              "4          0       5  "
            ]
          },
          "execution_count": 62,
          "metadata": {},
          "output_type": "execute_result"
        }
      ],
      "source": [
        "# head()\n",
        "# Para visualizar los primeros elementos o cabecera del dataset\n",
        "data.head()"
      ]
    },
    {
      "cell_type": "markdown",
      "metadata": {
        "id": "0NNWK5FpaaT1"
      },
      "source": [
        "**Guardando un dataset - Python**"
      ]
    },
    {
      "cell_type": "markdown",
      "metadata": {
        "id": "WTVMrSqJaaT2"
      },
      "source": [
        "**Guardar el conjunto de datos como un archivo CSV**\n",
        "\n",
        "Para guardar un conjunto de datos como un archivo .csv, la sintaxis utilizada es:\n",
        "\n",
        "**data.to_csv('nombre del archivo.csv', index=False)**"
      ]
    },
    {
      "cell_type": "code",
      "execution_count": 63,
      "metadata": {
        "id": "2MosW0HdaaT2"
      },
      "outputs": [],
      "source": [
        "# data.to_csv('/content/drive/MyDrive/Python para Ciencia de Datos - 2023-2/file_accidentes.csv', index=False)"
      ]
    },
    {
      "cell_type": "markdown",
      "metadata": {
        "id": "Bbk-Y4SaaaT2"
      },
      "source": [
        "* En Jupyter Notebook, el conjunto de datos se guardará en la carpeta donde se encuentra el cuaderno de Jupyter.\n",
        "* También podemos guardar el conjunto de datos en una carpeta deseada proporcionando la ruta o ubicación de la carpeta."
      ]
    },
    {
      "cell_type": "markdown",
      "metadata": {
        "id": "JI-WmKp4aaT2"
      },
      "source": [
        "### 2.10 Pandas - Functions"
      ]
    },
    {
      "cell_type": "markdown",
      "metadata": {
        "id": "bEZ3-RglaaT3"
      },
      "source": [
        "**head() - Verificamos los primeros elementos del dataset**"
      ]
    },
    {
      "cell_type": "code",
      "execution_count": 64,
      "metadata": {
        "colab": {
          "base_uri": "https://localhost:8080/",
          "height": 206
        },
        "id": "70J7-E8NaaT3",
        "outputId": "656424cc-a7a6-49b7-94f4-1faac217538e"
      },
      "outputs": [
        {
          "data": {
            "text/html": [
              "<div>\n",
              "<style scoped>\n",
              "    .dataframe tbody tr th:only-of-type {\n",
              "        vertical-align: middle;\n",
              "    }\n",
              "\n",
              "    .dataframe tbody tr th {\n",
              "        vertical-align: top;\n",
              "    }\n",
              "\n",
              "    .dataframe thead th {\n",
              "        text-align: right;\n",
              "    }\n",
              "</style>\n",
              "<table border=\"1\" class=\"dataframe\">\n",
              "  <thead>\n",
              "    <tr style=\"text-align: right;\">\n",
              "      <th></th>\n",
              "      <th>FECHA_CORTE</th>\n",
              "      <th>FECHA</th>\n",
              "      <th>HORA</th>\n",
              "      <th>DEPARTAMENTO</th>\n",
              "      <th>CODIGO_VÍA</th>\n",
              "      <th>KILOMETRO</th>\n",
              "      <th>MODALIDAD</th>\n",
              "      <th>FALLECIDOS</th>\n",
              "      <th>HERIDOS</th>\n",
              "    </tr>\n",
              "  </thead>\n",
              "  <tbody>\n",
              "    <tr>\n",
              "      <th>0</th>\n",
              "      <td>20211222</td>\n",
              "      <td>20200101</td>\n",
              "      <td>05:40</td>\n",
              "      <td>LIMA</td>\n",
              "      <td>PE-1S</td>\n",
              "      <td>24</td>\n",
              "      <td>DESPISTE</td>\n",
              "      <td>0</td>\n",
              "      <td>0</td>\n",
              "    </tr>\n",
              "    <tr>\n",
              "      <th>1</th>\n",
              "      <td>20211222</td>\n",
              "      <td>20200101</td>\n",
              "      <td>16:30</td>\n",
              "      <td>CAJAMARCA</td>\n",
              "      <td>PE-3N</td>\n",
              "      <td>74</td>\n",
              "      <td>DESPISTE</td>\n",
              "      <td>0</td>\n",
              "      <td>0</td>\n",
              "    </tr>\n",
              "    <tr>\n",
              "      <th>2</th>\n",
              "      <td>20211222</td>\n",
              "      <td>20200101</td>\n",
              "      <td>07:45</td>\n",
              "      <td>PASCO</td>\n",
              "      <td>PE-3N</td>\n",
              "      <td>103</td>\n",
              "      <td>DESPISTE</td>\n",
              "      <td>0</td>\n",
              "      <td>1</td>\n",
              "    </tr>\n",
              "    <tr>\n",
              "      <th>3</th>\n",
              "      <td>20211222</td>\n",
              "      <td>20200101</td>\n",
              "      <td>18:30</td>\n",
              "      <td>CAJAMARCA</td>\n",
              "      <td>PE-08</td>\n",
              "      <td>111</td>\n",
              "      <td>DESPISTE</td>\n",
              "      <td>0</td>\n",
              "      <td>2</td>\n",
              "    </tr>\n",
              "    <tr>\n",
              "      <th>4</th>\n",
              "      <td>20211222</td>\n",
              "      <td>20200101</td>\n",
              "      <td>18:40</td>\n",
              "      <td>LIMA</td>\n",
              "      <td>PE-1N</td>\n",
              "      <td>174</td>\n",
              "      <td>DESPISTE</td>\n",
              "      <td>0</td>\n",
              "      <td>5</td>\n",
              "    </tr>\n",
              "  </tbody>\n",
              "</table>\n",
              "</div>"
            ],
            "text/plain": [
              "   FECHA_CORTE     FECHA   HORA DEPARTAMENTO CODIGO_VÍA KILOMETRO MODALIDAD  \\\n",
              "0     20211222  20200101  05:40         LIMA      PE-1S        24  DESPISTE   \n",
              "1     20211222  20200101  16:30    CAJAMARCA      PE-3N        74  DESPISTE   \n",
              "2     20211222  20200101  07:45        PASCO      PE-3N       103  DESPISTE   \n",
              "3     20211222  20200101  18:30    CAJAMARCA      PE-08       111  DESPISTE   \n",
              "4     20211222  20200101  18:40         LIMA      PE-1N       174  DESPISTE   \n",
              "\n",
              "  FALLECIDOS HERIDOS  \n",
              "0          0       0  \n",
              "1          0       0  \n",
              "2          0       1  \n",
              "3          0       2  \n",
              "4          0       5  "
            ]
          },
          "execution_count": 64,
          "metadata": {},
          "output_type": "execute_result"
        }
      ],
      "source": [
        "data.head()"
      ]
    },
    {
      "cell_type": "markdown",
      "metadata": {
        "id": "g2zJbqfpaaT3"
      },
      "source": [
        "**tail() - Los últimos 5 elementos**"
      ]
    },
    {
      "cell_type": "code",
      "execution_count": 65,
      "metadata": {
        "colab": {
          "base_uri": "https://localhost:8080/",
          "height": 206
        },
        "id": "8zSpQq0PaaT3",
        "outputId": "d9d13273-d9f1-44f5-b2c0-0ea2b845f1cc"
      },
      "outputs": [
        {
          "data": {
            "text/html": [
              "<div>\n",
              "<style scoped>\n",
              "    .dataframe tbody tr th:only-of-type {\n",
              "        vertical-align: middle;\n",
              "    }\n",
              "\n",
              "    .dataframe tbody tr th {\n",
              "        vertical-align: top;\n",
              "    }\n",
              "\n",
              "    .dataframe thead th {\n",
              "        text-align: right;\n",
              "    }\n",
              "</style>\n",
              "<table border=\"1\" class=\"dataframe\">\n",
              "  <thead>\n",
              "    <tr style=\"text-align: right;\">\n",
              "      <th></th>\n",
              "      <th>FECHA_CORTE</th>\n",
              "      <th>FECHA</th>\n",
              "      <th>HORA</th>\n",
              "      <th>DEPARTAMENTO</th>\n",
              "      <th>CODIGO_VÍA</th>\n",
              "      <th>KILOMETRO</th>\n",
              "      <th>MODALIDAD</th>\n",
              "      <th>FALLECIDOS</th>\n",
              "      <th>HERIDOS</th>\n",
              "    </tr>\n",
              "  </thead>\n",
              "  <tbody>\n",
              "    <tr>\n",
              "      <th>8150</th>\n",
              "      <td>20211222</td>\n",
              "      <td>20210930</td>\n",
              "      <td>01:30</td>\n",
              "      <td>ANCASH</td>\n",
              "      <td>PE-1N</td>\n",
              "      <td>348</td>\n",
              "      <td>CHOQUE</td>\n",
              "      <td>0</td>\n",
              "      <td>0</td>\n",
              "    </tr>\n",
              "    <tr>\n",
              "      <th>8151</th>\n",
              "      <td>20211222</td>\n",
              "      <td>20210930</td>\n",
              "      <td>04:00</td>\n",
              "      <td>MADRE DE DIOS</td>\n",
              "      <td>PE-30C</td>\n",
              "      <td>417</td>\n",
              "      <td>CHOQUE</td>\n",
              "      <td>0</td>\n",
              "      <td>0</td>\n",
              "    </tr>\n",
              "    <tr>\n",
              "      <th>8152</th>\n",
              "      <td>20211222</td>\n",
              "      <td>20210930</td>\n",
              "      <td>15:10</td>\n",
              "      <td>LA LIBERTAD</td>\n",
              "      <td>PE-1N</td>\n",
              "      <td>627</td>\n",
              "      <td>CHOQUE</td>\n",
              "      <td>0</td>\n",
              "      <td>2</td>\n",
              "    </tr>\n",
              "    <tr>\n",
              "      <th>8153</th>\n",
              "      <td>20211222</td>\n",
              "      <td>20210930</td>\n",
              "      <td>02:50</td>\n",
              "      <td>LAMBAYEQUE</td>\n",
              "      <td>PE-1N</td>\n",
              "      <td>758</td>\n",
              "      <td>DESPISTE</td>\n",
              "      <td>0</td>\n",
              "      <td>0</td>\n",
              "    </tr>\n",
              "    <tr>\n",
              "      <th>8154</th>\n",
              "      <td>20211222</td>\n",
              "      <td>20210930</td>\n",
              "      <td>18:47</td>\n",
              "      <td>PUNO</td>\n",
              "      <td>PE-3S</td>\n",
              "      <td>1296</td>\n",
              "      <td>CHOQUE</td>\n",
              "      <td>1</td>\n",
              "      <td>0</td>\n",
              "    </tr>\n",
              "  </tbody>\n",
              "</table>\n",
              "</div>"
            ],
            "text/plain": [
              "      FECHA_CORTE     FECHA   HORA   DEPARTAMENTO CODIGO_VÍA KILOMETRO  \\\n",
              "8150     20211222  20210930  01:30         ANCASH      PE-1N       348   \n",
              "8151     20211222  20210930  04:00  MADRE DE DIOS     PE-30C       417   \n",
              "8152     20211222  20210930  15:10    LA LIBERTAD      PE-1N       627   \n",
              "8153     20211222  20210930  02:50     LAMBAYEQUE      PE-1N       758   \n",
              "8154     20211222  20210930  18:47           PUNO      PE-3S      1296   \n",
              "\n",
              "     MODALIDAD FALLECIDOS HERIDOS  \n",
              "8150    CHOQUE          0       0  \n",
              "8151    CHOQUE          0       0  \n",
              "8152    CHOQUE          0       2  \n",
              "8153  DESPISTE          0       0  \n",
              "8154    CHOQUE          1       0  "
            ]
          },
          "execution_count": 65,
          "metadata": {},
          "output_type": "execute_result"
        }
      ],
      "source": [
        "data.tail()"
      ]
    },
    {
      "cell_type": "markdown",
      "metadata": {
        "id": "qwiUkUxBaaT3"
      },
      "source": [
        "**shape - Verifica el número de columnas y filas**"
      ]
    },
    {
      "cell_type": "code",
      "execution_count": 66,
      "metadata": {
        "colab": {
          "base_uri": "https://localhost:8080/"
        },
        "id": "z5n0z2yraaT3",
        "outputId": "a88f4f5a-9555-4d4b-9408-6c43cd8ff6c9"
      },
      "outputs": [
        {
          "data": {
            "text/plain": [
              "(8155, 9)"
            ]
          },
          "execution_count": 66,
          "metadata": {},
          "output_type": "execute_result"
        }
      ],
      "source": [
        "data.shape"
      ]
    },
    {
      "cell_type": "markdown",
      "metadata": {
        "id": "res1b5v6aaT4"
      },
      "source": [
        "* El dataset contiene 8155 registros"
      ]
    },
    {
      "cell_type": "markdown",
      "metadata": {
        "id": "tHCwDyZbaaT4"
      },
      "source": [
        "**info() - Verifica el tipo de datos detectado para cada columna**"
      ]
    },
    {
      "cell_type": "code",
      "execution_count": 67,
      "metadata": {
        "colab": {
          "base_uri": "https://localhost:8080/"
        },
        "id": "WWEGpWAOaaT4",
        "outputId": "bf55a502-b457-4da4-ba96-434bcae52f5b"
      },
      "outputs": [
        {
          "name": "stdout",
          "output_type": "stream",
          "text": [
            "<class 'pandas.core.frame.DataFrame'>\n",
            "RangeIndex: 8155 entries, 0 to 8154\n",
            "Data columns (total 9 columns):\n",
            " #   Column        Non-Null Count  Dtype \n",
            "---  ------        --------------  ----- \n",
            " 0   FECHA_CORTE   8155 non-null   int64 \n",
            " 1   FECHA         8155 non-null   int64 \n",
            " 2   HORA          8155 non-null   object\n",
            " 3   DEPARTAMENTO  8155 non-null   object\n",
            " 4   CODIGO_VÍA    8155 non-null   object\n",
            " 5   KILOMETRO     8155 non-null   object\n",
            " 6   MODALIDAD     8155 non-null   object\n",
            " 7   FALLECIDOS    8155 non-null   object\n",
            " 8   HERIDOS       8155 non-null   object\n",
            "dtypes: int64(2), object(7)\n",
            "memory usage: 573.5+ KB\n"
          ]
        }
      ],
      "source": [
        "data.info()"
      ]
    },
    {
      "cell_type": "markdown",
      "metadata": {
        "id": "q3WS5pgjaaT4"
      },
      "source": [
        "* Vemos que hay variables que deben ser números, sin embargo Pandas los leyó como obtjet. Qué pudo haber pasado?"
      ]
    },
    {
      "cell_type": "markdown",
      "metadata": {
        "id": "yzt0Db5zaaT4"
      },
      "source": [
        "**min() - Verifica el valor mínimo de una columna**"
      ]
    },
    {
      "cell_type": "code",
      "execution_count": 68,
      "metadata": {
        "colab": {
          "base_uri": "https://localhost:8080/",
          "height": 206
        },
        "id": "oyBICkKgm2x4",
        "outputId": "f689b52f-cee0-4e0a-95d1-3b4b0b7c5fac"
      },
      "outputs": [
        {
          "data": {
            "text/html": [
              "<div>\n",
              "<style scoped>\n",
              "    .dataframe tbody tr th:only-of-type {\n",
              "        vertical-align: middle;\n",
              "    }\n",
              "\n",
              "    .dataframe tbody tr th {\n",
              "        vertical-align: top;\n",
              "    }\n",
              "\n",
              "    .dataframe thead th {\n",
              "        text-align: right;\n",
              "    }\n",
              "</style>\n",
              "<table border=\"1\" class=\"dataframe\">\n",
              "  <thead>\n",
              "    <tr style=\"text-align: right;\">\n",
              "      <th></th>\n",
              "      <th>FECHA_CORTE</th>\n",
              "      <th>FECHA</th>\n",
              "      <th>HORA</th>\n",
              "      <th>DEPARTAMENTO</th>\n",
              "      <th>CODIGO_VÍA</th>\n",
              "      <th>KILOMETRO</th>\n",
              "      <th>MODALIDAD</th>\n",
              "      <th>FALLECIDOS</th>\n",
              "      <th>HERIDOS</th>\n",
              "    </tr>\n",
              "  </thead>\n",
              "  <tbody>\n",
              "    <tr>\n",
              "      <th>0</th>\n",
              "      <td>20211222</td>\n",
              "      <td>20200101</td>\n",
              "      <td>05:40</td>\n",
              "      <td>LIMA</td>\n",
              "      <td>PE-1S</td>\n",
              "      <td>24</td>\n",
              "      <td>DESPISTE</td>\n",
              "      <td>0</td>\n",
              "      <td>0</td>\n",
              "    </tr>\n",
              "    <tr>\n",
              "      <th>1</th>\n",
              "      <td>20211222</td>\n",
              "      <td>20200101</td>\n",
              "      <td>16:30</td>\n",
              "      <td>CAJAMARCA</td>\n",
              "      <td>PE-3N</td>\n",
              "      <td>74</td>\n",
              "      <td>DESPISTE</td>\n",
              "      <td>0</td>\n",
              "      <td>0</td>\n",
              "    </tr>\n",
              "    <tr>\n",
              "      <th>2</th>\n",
              "      <td>20211222</td>\n",
              "      <td>20200101</td>\n",
              "      <td>07:45</td>\n",
              "      <td>PASCO</td>\n",
              "      <td>PE-3N</td>\n",
              "      <td>103</td>\n",
              "      <td>DESPISTE</td>\n",
              "      <td>0</td>\n",
              "      <td>1</td>\n",
              "    </tr>\n",
              "    <tr>\n",
              "      <th>3</th>\n",
              "      <td>20211222</td>\n",
              "      <td>20200101</td>\n",
              "      <td>18:30</td>\n",
              "      <td>CAJAMARCA</td>\n",
              "      <td>PE-08</td>\n",
              "      <td>111</td>\n",
              "      <td>DESPISTE</td>\n",
              "      <td>0</td>\n",
              "      <td>2</td>\n",
              "    </tr>\n",
              "    <tr>\n",
              "      <th>4</th>\n",
              "      <td>20211222</td>\n",
              "      <td>20200101</td>\n",
              "      <td>18:40</td>\n",
              "      <td>LIMA</td>\n",
              "      <td>PE-1N</td>\n",
              "      <td>174</td>\n",
              "      <td>DESPISTE</td>\n",
              "      <td>0</td>\n",
              "      <td>5</td>\n",
              "    </tr>\n",
              "  </tbody>\n",
              "</table>\n",
              "</div>"
            ],
            "text/plain": [
              "   FECHA_CORTE     FECHA   HORA DEPARTAMENTO CODIGO_VÍA KILOMETRO MODALIDAD  \\\n",
              "0     20211222  20200101  05:40         LIMA      PE-1S        24  DESPISTE   \n",
              "1     20211222  20200101  16:30    CAJAMARCA      PE-3N        74  DESPISTE   \n",
              "2     20211222  20200101  07:45        PASCO      PE-3N       103  DESPISTE   \n",
              "3     20211222  20200101  18:30    CAJAMARCA      PE-08       111  DESPISTE   \n",
              "4     20211222  20200101  18:40         LIMA      PE-1N       174  DESPISTE   \n",
              "\n",
              "  FALLECIDOS HERIDOS  \n",
              "0          0       0  \n",
              "1          0       0  \n",
              "2          0       1  \n",
              "3          0       2  \n",
              "4          0       5  "
            ]
          },
          "execution_count": 68,
          "metadata": {},
          "output_type": "execute_result"
        }
      ],
      "source": [
        "data.head()"
      ]
    },
    {
      "cell_type": "code",
      "execution_count": 69,
      "metadata": {
        "colab": {
          "base_uri": "https://localhost:8080/",
          "height": 35
        },
        "id": "b6_fiiy7aaT4",
        "outputId": "9791dd61-8f19-4639-8d5e-74ec6ab3c52d"
      },
      "outputs": [
        {
          "data": {
            "text/plain": [
              "'0'"
            ]
          },
          "execution_count": 69,
          "metadata": {},
          "output_type": "execute_result"
        }
      ],
      "source": [
        "data['FALLECIDOS'].min()"
      ]
    },
    {
      "cell_type": "markdown",
      "metadata": {
        "id": "5Ilfa_9yaaT4"
      },
      "source": [
        "**max() -Valor máximo**"
      ]
    },
    {
      "cell_type": "code",
      "execution_count": 70,
      "metadata": {
        "colab": {
          "base_uri": "https://localhost:8080/",
          "height": 35
        },
        "id": "2t8A8QyaaaT4",
        "outputId": "56ccc643-88cb-4aa8-fec9-0e197eec3845"
      },
      "outputs": [
        {
          "data": {
            "text/plain": [
              "'N.I.'"
            ]
          },
          "execution_count": 70,
          "metadata": {},
          "output_type": "execute_result"
        }
      ],
      "source": [
        "data['FALLECIDOS'].max()"
      ]
    },
    {
      "cell_type": "markdown",
      "metadata": {
        "id": "axF7Yfn2TC8E"
      },
      "source": [
        "Encontamos algo raro. Hay valor que son 'N.I' (string). Veamos una cuenta rápida de los valores que hay en la columna fallecidos"
      ]
    },
    {
      "cell_type": "code",
      "execution_count": 71,
      "metadata": {
        "colab": {
          "base_uri": "https://localhost:8080/"
        },
        "id": "kiZetZ7RnClj",
        "outputId": "4991d783-24bc-4a64-c7af-6c048d6ba0f0"
      },
      "outputs": [
        {
          "data": {
            "text/plain": [
              "FALLECIDOS\n",
              "0       7199\n",
              "1        777\n",
              "2        111\n",
              "3         30\n",
              "4         12\n",
              "5          7\n",
              "6          4\n",
              "N.I.       3\n",
              "11         3\n",
              "16         2\n",
              "7          2\n",
              "9          1\n",
              "20         1\n",
              "18         1\n",
              "22         1\n",
              "33         1\n",
              "Name: count, dtype: int64"
            ]
          },
          "execution_count": 71,
          "metadata": {},
          "output_type": "execute_result"
        }
      ],
      "source": [
        "data['FALLECIDOS'].value_counts()"
      ]
    },
    {
      "cell_type": "code",
      "execution_count": 72,
      "metadata": {
        "id": "xCX0SX3um9jt"
      },
      "outputs": [],
      "source": [
        "# Modificamos los N.I a vació o None\n",
        "data.loc[data['FALLECIDOS']=='N.I.'] = None"
      ]
    },
    {
      "cell_type": "code",
      "execution_count": 73,
      "metadata": {
        "colab": {
          "base_uri": "https://localhost:8080/"
        },
        "id": "6vTXT-3InJbk",
        "outputId": "9109b9c5-fa50-4753-ba76-7a9788daaa06"
      },
      "outputs": [
        {
          "data": {
            "text/plain": [
              "FALLECIDOS\n",
              "0     7199\n",
              "1      777\n",
              "2      111\n",
              "3       30\n",
              "4       12\n",
              "5        7\n",
              "6        4\n",
              "11       3\n",
              "16       2\n",
              "7        2\n",
              "9        1\n",
              "20       1\n",
              "18       1\n",
              "22       1\n",
              "33       1\n",
              "Name: count, dtype: int64"
            ]
          },
          "execution_count": 73,
          "metadata": {},
          "output_type": "execute_result"
        }
      ],
      "source": [
        "data['FALLECIDOS'].value_counts()"
      ]
    },
    {
      "cell_type": "code",
      "execution_count": 74,
      "metadata": {
        "id": "TPzd0a9VnQ92"
      },
      "outputs": [],
      "source": [
        "# Ahora si podemos modificar a tipo de dato numérico\n",
        "data['FALLECIDOS'] = data['FALLECIDOS'].astype('float')"
      ]
    },
    {
      "cell_type": "code",
      "execution_count": 75,
      "metadata": {
        "colab": {
          "base_uri": "https://localhost:8080/"
        },
        "id": "UzTAExShnU9V",
        "outputId": "8ee023dc-d888-49f6-ddf9-9e15dd85657c"
      },
      "outputs": [
        {
          "name": "stdout",
          "output_type": "stream",
          "text": [
            "<class 'pandas.core.frame.DataFrame'>\n",
            "RangeIndex: 8155 entries, 0 to 8154\n",
            "Data columns (total 9 columns):\n",
            " #   Column        Non-Null Count  Dtype  \n",
            "---  ------        --------------  -----  \n",
            " 0   FECHA_CORTE   8152 non-null   float64\n",
            " 1   FECHA         8152 non-null   float64\n",
            " 2   HORA          8152 non-null   object \n",
            " 3   DEPARTAMENTO  8152 non-null   object \n",
            " 4   CODIGO_VÍA    8152 non-null   object \n",
            " 5   KILOMETRO     8152 non-null   object \n",
            " 6   MODALIDAD     8152 non-null   object \n",
            " 7   FALLECIDOS    8152 non-null   float64\n",
            " 8   HERIDOS       8152 non-null   object \n",
            "dtypes: float64(3), object(6)\n",
            "memory usage: 573.5+ KB\n"
          ]
        }
      ],
      "source": [
        "data.info()"
      ]
    },
    {
      "cell_type": "code",
      "execution_count": 76,
      "metadata": {
        "colab": {
          "base_uri": "https://localhost:8080/"
        },
        "id": "jdAf18K0nXDM",
        "outputId": "564e6f07-5440-4e0f-ab3f-edaf352b5c79"
      },
      "outputs": [
        {
          "data": {
            "text/plain": [
              "33.0"
            ]
          },
          "execution_count": 76,
          "metadata": {},
          "output_type": "execute_result"
        }
      ],
      "source": [
        "# Y ahora si la función max() funcionará sin problemas\n",
        "data['FALLECIDOS'].max()"
      ]
    },
    {
      "cell_type": "markdown",
      "metadata": {
        "id": "1EwaP056aaT5"
      },
      "source": [
        "**unique() - Verifica los valor únicos - normalmente usado para datos categóricos - en una columna**"
      ]
    },
    {
      "cell_type": "code",
      "execution_count": 77,
      "metadata": {
        "colab": {
          "base_uri": "https://localhost:8080/"
        },
        "id": "ZTkwMMXAaaT5",
        "outputId": "28ddf4b0-ce9b-4bb0-d889-fa248c95bc0b"
      },
      "outputs": [
        {
          "data": {
            "text/plain": [
              "array(['LIMA', 'CAJAMARCA', 'PASCO', 'ICA', 'HUANUCO', 'PIURA',\n",
              "       'AMAZONAS', 'AREQUIPA', 'LA LIBERTAD', 'MOQUEGUA', 'TACNA', 'PUNO',\n",
              "       'JUNIN', 'ANCASH', 'APURIMAC', 'SAN MARTIN', 'MADRE DE DIOS',\n",
              "       'LAMBAYEQUE', 'AYACUCHO', 'UCAYALI', 'HUANCAVELICA', 'CUSCO',\n",
              "       'Puno', 'LORETO', 'Cusco', 'Arequipa', 'TUMBES', None, 'N.I.',\n",
              "       'CALLAO'], dtype=object)"
            ]
          },
          "execution_count": 77,
          "metadata": {},
          "output_type": "execute_result"
        }
      ],
      "source": [
        "data['DEPARTAMENTO'].unique()"
      ]
    },
    {
      "cell_type": "markdown",
      "metadata": {
        "id": "UPGoY2kxaaT5"
      },
      "source": [
        "**value_counts(normalize=True)**\n",
        "  * Usar el parámetro `normalize` y establecerlo en Verdadero devolverá las frecuencias relativas de los valores únicos."
      ]
    },
    {
      "cell_type": "code",
      "execution_count": 78,
      "metadata": {
        "colab": {
          "base_uri": "https://localhost:8080/"
        },
        "id": "NNeKczQfaaT5",
        "outputId": "f44a5595-5dc9-4fb4-8bb7-2a5791a5a0de"
      },
      "outputs": [
        {
          "data": {
            "text/plain": [
              "DEPARTAMENTO\n",
              "LIMA             0.191119\n",
              "AREQUIPA         0.097277\n",
              "JUNIN            0.087709\n",
              "ANCASH           0.073847\n",
              "PUNO             0.064892\n",
              "ICA              0.046246\n",
              "CAJAMARCA        0.042934\n",
              "CUSCO            0.042444\n",
              "LAMBAYEQUE       0.042076\n",
              "LA LIBERTAD      0.040358\n",
              "PIURA            0.040113\n",
              "SAN MARTIN       0.033611\n",
              "APURIMAC         0.024657\n",
              "MADRE DE DIOS    0.023430\n",
              "HUANUCO          0.021344\n",
              "AYACUCHO         0.020608\n",
              "MOQUEGUA         0.019014\n",
              "UCAYALI          0.018891\n",
              "AMAZONAS         0.018646\n",
              "TACNA            0.018523\n",
              "LORETO           0.010059\n",
              "PASCO            0.009446\n",
              "HUANCAVELICA     0.007605\n",
              "TUMBES           0.003067\n",
              "N.I.             0.000859\n",
              "CALLAO           0.000736\n",
              "Arequipa         0.000245\n",
              "Puno             0.000123\n",
              "Cusco            0.000123\n",
              "Name: proportion, dtype: float64"
            ]
          },
          "execution_count": 78,
          "metadata": {},
          "output_type": "execute_result"
        }
      ],
      "source": [
        "data['DEPARTAMENTO'].value_counts(normalize=True)"
      ]
    },
    {
      "cell_type": "markdown",
      "metadata": {
        "id": "2ZJXTZ_faaT5"
      },
      "source": [
        "**Funciones Estadísticas**"
      ]
    },
    {
      "cell_type": "markdown",
      "metadata": {
        "id": "LWHaFXvMaaT6"
      },
      "source": [
        "**mean()**"
      ]
    },
    {
      "cell_type": "code",
      "execution_count": 79,
      "metadata": {
        "colab": {
          "base_uri": "https://localhost:8080/"
        },
        "id": "fQgxZuw1aaT6",
        "outputId": "4dc85759-4c99-42a2-c120-8030fff6671e"
      },
      "outputs": [
        {
          "data": {
            "text/plain": [
              "0.16891560353287538"
            ]
          },
          "execution_count": 79,
          "metadata": {},
          "output_type": "execute_result"
        }
      ],
      "source": [
        "data['FALLECIDOS'].mean()"
      ]
    },
    {
      "cell_type": "markdown",
      "metadata": {
        "id": "K-KFoQB2aaT6"
      },
      "source": [
        "**median()**"
      ]
    },
    {
      "cell_type": "code",
      "execution_count": 80,
      "metadata": {
        "colab": {
          "base_uri": "https://localhost:8080/"
        },
        "id": "fuajaPzpaaT6",
        "outputId": "e9ec91bf-6b3e-49bb-cdbb-a2e50e9039d4"
      },
      "outputs": [
        {
          "data": {
            "text/plain": [
              "0.0"
            ]
          },
          "execution_count": 80,
          "metadata": {},
          "output_type": "execute_result"
        }
      ],
      "source": [
        "data['FALLECIDOS'].median()"
      ]
    },
    {
      "cell_type": "markdown",
      "metadata": {
        "id": "2mNcZjzFaaT6"
      },
      "source": [
        "**mode()**"
      ]
    },
    {
      "cell_type": "code",
      "execution_count": 81,
      "metadata": {
        "colab": {
          "base_uri": "https://localhost:8080/"
        },
        "id": "T8iMcq6maaT6",
        "outputId": "2db101c3-d81d-4132-e1c2-f223deb75400"
      },
      "outputs": [
        {
          "data": {
            "text/plain": [
              "0    DESPISTE\n",
              "Name: MODALIDAD, dtype: object"
            ]
          },
          "execution_count": 81,
          "metadata": {},
          "output_type": "execute_result"
        }
      ],
      "source": [
        "data['MODALIDAD'].mode()"
      ]
    },
    {
      "cell_type": "markdown",
      "metadata": {
        "id": "Nw9F_I3DaaT6"
      },
      "source": [
        "**To access a particular mode when the dataset has more than 1 mode**"
      ]
    },
    {
      "cell_type": "code",
      "execution_count": 82,
      "metadata": {
        "colab": {
          "base_uri": "https://localhost:8080/",
          "height": 35
        },
        "id": "xyjKRXJLaaT6",
        "outputId": "f1ba3608-f21d-454d-ede5-188426a3f844"
      },
      "outputs": [
        {
          "data": {
            "text/plain": [
              "'LIMA'"
            ]
          },
          "execution_count": 82,
          "metadata": {},
          "output_type": "execute_result"
        }
      ],
      "source": [
        "#to access the first mode\n",
        "data['DEPARTAMENTO'].mode()[0]"
      ]
    },
    {
      "cell_type": "markdown",
      "metadata": {
        "id": "hDReuxYbaaT7"
      },
      "source": [
        "**Función de Agrupación (Group By)**\n",
        "* La función `groupby` de Pandas se utiliza para dividir los datos en grupos basados en ciertos criterios."
      ]
    },
    {
      "cell_type": "code",
      "execution_count": 83,
      "metadata": {
        "colab": {
          "base_uri": "https://localhost:8080/",
          "height": 206
        },
        "id": "ZCI-kt9vnt9W",
        "outputId": "08134c5d-040e-4719-abe2-df22768f9c7f"
      },
      "outputs": [
        {
          "data": {
            "text/html": [
              "<div>\n",
              "<style scoped>\n",
              "    .dataframe tbody tr th:only-of-type {\n",
              "        vertical-align: middle;\n",
              "    }\n",
              "\n",
              "    .dataframe tbody tr th {\n",
              "        vertical-align: top;\n",
              "    }\n",
              "\n",
              "    .dataframe thead th {\n",
              "        text-align: right;\n",
              "    }\n",
              "</style>\n",
              "<table border=\"1\" class=\"dataframe\">\n",
              "  <thead>\n",
              "    <tr style=\"text-align: right;\">\n",
              "      <th></th>\n",
              "      <th>FECHA_CORTE</th>\n",
              "      <th>FECHA</th>\n",
              "      <th>HORA</th>\n",
              "      <th>DEPARTAMENTO</th>\n",
              "      <th>CODIGO_VÍA</th>\n",
              "      <th>KILOMETRO</th>\n",
              "      <th>MODALIDAD</th>\n",
              "      <th>FALLECIDOS</th>\n",
              "      <th>HERIDOS</th>\n",
              "    </tr>\n",
              "  </thead>\n",
              "  <tbody>\n",
              "    <tr>\n",
              "      <th>0</th>\n",
              "      <td>20211222.0</td>\n",
              "      <td>20200101.0</td>\n",
              "      <td>05:40</td>\n",
              "      <td>LIMA</td>\n",
              "      <td>PE-1S</td>\n",
              "      <td>24</td>\n",
              "      <td>DESPISTE</td>\n",
              "      <td>0.0</td>\n",
              "      <td>0</td>\n",
              "    </tr>\n",
              "    <tr>\n",
              "      <th>1</th>\n",
              "      <td>20211222.0</td>\n",
              "      <td>20200101.0</td>\n",
              "      <td>16:30</td>\n",
              "      <td>CAJAMARCA</td>\n",
              "      <td>PE-3N</td>\n",
              "      <td>74</td>\n",
              "      <td>DESPISTE</td>\n",
              "      <td>0.0</td>\n",
              "      <td>0</td>\n",
              "    </tr>\n",
              "    <tr>\n",
              "      <th>2</th>\n",
              "      <td>20211222.0</td>\n",
              "      <td>20200101.0</td>\n",
              "      <td>07:45</td>\n",
              "      <td>PASCO</td>\n",
              "      <td>PE-3N</td>\n",
              "      <td>103</td>\n",
              "      <td>DESPISTE</td>\n",
              "      <td>0.0</td>\n",
              "      <td>1</td>\n",
              "    </tr>\n",
              "    <tr>\n",
              "      <th>3</th>\n",
              "      <td>20211222.0</td>\n",
              "      <td>20200101.0</td>\n",
              "      <td>18:30</td>\n",
              "      <td>CAJAMARCA</td>\n",
              "      <td>PE-08</td>\n",
              "      <td>111</td>\n",
              "      <td>DESPISTE</td>\n",
              "      <td>0.0</td>\n",
              "      <td>2</td>\n",
              "    </tr>\n",
              "    <tr>\n",
              "      <th>4</th>\n",
              "      <td>20211222.0</td>\n",
              "      <td>20200101.0</td>\n",
              "      <td>18:40</td>\n",
              "      <td>LIMA</td>\n",
              "      <td>PE-1N</td>\n",
              "      <td>174</td>\n",
              "      <td>DESPISTE</td>\n",
              "      <td>0.0</td>\n",
              "      <td>5</td>\n",
              "    </tr>\n",
              "  </tbody>\n",
              "</table>\n",
              "</div>"
            ],
            "text/plain": [
              "   FECHA_CORTE       FECHA   HORA DEPARTAMENTO CODIGO_VÍA KILOMETRO MODALIDAD  \\\n",
              "0   20211222.0  20200101.0  05:40         LIMA      PE-1S        24  DESPISTE   \n",
              "1   20211222.0  20200101.0  16:30    CAJAMARCA      PE-3N        74  DESPISTE   \n",
              "2   20211222.0  20200101.0  07:45        PASCO      PE-3N       103  DESPISTE   \n",
              "3   20211222.0  20200101.0  18:30    CAJAMARCA      PE-08       111  DESPISTE   \n",
              "4   20211222.0  20200101.0  18:40         LIMA      PE-1N       174  DESPISTE   \n",
              "\n",
              "   FALLECIDOS HERIDOS  \n",
              "0         0.0       0  \n",
              "1         0.0       0  \n",
              "2         0.0       1  \n",
              "3         0.0       2  \n",
              "4         0.0       5  "
            ]
          },
          "execution_count": 83,
          "metadata": {},
          "output_type": "execute_result"
        }
      ],
      "source": [
        "data.head()"
      ]
    },
    {
      "cell_type": "code",
      "execution_count": 84,
      "metadata": {
        "colab": {
          "base_uri": "https://localhost:8080/",
          "height": 705
        },
        "id": "WDYZKZSCaaT7",
        "outputId": "3a097770-3262-4831-ac26-4f17c1f4f1bf"
      },
      "outputs": [
        {
          "data": {
            "text/plain": [
              "DEPARTAMENTO\n",
              "AMAZONAS         2160031001000410281194420121002311201401142001...\n",
              "ANCASH           0610431202510105020001034121300012003002004101...\n",
              "APURIMAC         2632041020110112100201200011202002000001042010...\n",
              "AREQUIPA         0160303020004615104214041000210030904050201802...\n",
              "AYACUCHO         0004051121800120112011024000000002140102010302...\n",
              "Arequipa                                                        00\n",
              "CAJAMARCA        0202103222172100310123140120221001524723940042...\n",
              "CALLAO                                                      011312\n",
              "CUSCO            0102002320214103410403000600150320010130614032...\n",
              "Cusco                                                            1\n",
              "HUANCAVELICA     0201212027005331120352044003011110100530217010...\n",
              "HUANUCO          1102000000111101203520210031020100020010160002...\n",
              "ICA              1126000150112062312100115010410046200112041213...\n",
              "JUNIN            3040011000030010811000043011181010140001500200...\n",
              "LA LIBERTAD      5270504036111410001622914012000211522310000110...\n",
              "LAMBAYEQUE       3211211011911026101136413321530220411063000001...\n",
              "LIMA             0501010224012201222253200105001220512500270210...\n",
              "LORETO           2212112322113211012122302102000101400122020100...\n",
              "MADRE DE DIOS    41301013010100N.I.2003000110022011210021011041...\n",
              "MOQUEGUA         0011310802100622020222000000110000110100500500...\n",
              "N.I.                                                       2111021\n",
              "PASCO            1200120322101063201262178110000100120121112130...\n",
              "PIURA            6001061116022021111220114200162104110112201110...\n",
              "PUNO             04114502001020030110217122011N.I.N.I.011002102...\n",
              "Puno                                                             1\n",
              "SAN MARTIN       2101011112001132002610110023233010020301012020...\n",
              "TACNA            0160013020051032216001010000124001000001104100...\n",
              "TUMBES                                   0002211323013121410111142\n",
              "UCAYALI          2050110012103245011110002011111510251153311002...\n",
              "Name: HERIDOS, dtype: object"
            ]
          },
          "execution_count": 84,
          "metadata": {},
          "output_type": "execute_result"
        }
      ],
      "source": [
        "# Si quisiera saber el total de heridos por departamento\n",
        "data.groupby(['DEPARTAMENTO'])['HERIDOS'].sum()"
      ]
    },
    {
      "cell_type": "code",
      "execution_count": 85,
      "metadata": {
        "colab": {
          "base_uri": "https://localhost:8080/"
        },
        "id": "HLHbmQikn1TG",
        "outputId": "05d4b275-3f83-4e4d-e378-5c8addb5943e"
      },
      "outputs": [
        {
          "name": "stdout",
          "output_type": "stream",
          "text": [
            "<class 'pandas.core.frame.DataFrame'>\n",
            "RangeIndex: 8155 entries, 0 to 8154\n",
            "Data columns (total 9 columns):\n",
            " #   Column        Non-Null Count  Dtype  \n",
            "---  ------        --------------  -----  \n",
            " 0   FECHA_CORTE   8152 non-null   float64\n",
            " 1   FECHA         8152 non-null   float64\n",
            " 2   HORA          8152 non-null   object \n",
            " 3   DEPARTAMENTO  8152 non-null   object \n",
            " 4   CODIGO_VÍA    8152 non-null   object \n",
            " 5   KILOMETRO     8152 non-null   object \n",
            " 6   MODALIDAD     8152 non-null   object \n",
            " 7   FALLECIDOS    8152 non-null   float64\n",
            " 8   HERIDOS       8152 non-null   object \n",
            "dtypes: float64(3), object(6)\n",
            "memory usage: 573.5+ KB\n"
          ]
        }
      ],
      "source": [
        "data.info()"
      ]
    },
    {
      "cell_type": "code",
      "execution_count": 86,
      "metadata": {
        "colab": {
          "base_uri": "https://localhost:8080/"
        },
        "id": "pLWugPjpn3U0",
        "outputId": "f5f749b3-c5c6-4ed0-d74e-b203755e6136"
      },
      "outputs": [
        {
          "data": {
            "text/plain": [
              "HERIDOS\n",
              "0       3451\n",
              "1       2389\n",
              "2       1152\n",
              "3        499\n",
              "4        270\n",
              "5        132\n",
              "6         74\n",
              "7         36\n",
              "8         27\n",
              "9         22\n",
              "12        14\n",
              "11        11\n",
              "10        11\n",
              "15        10\n",
              "N.I.       8\n",
              "16         6\n",
              "13         5\n",
              "14         4\n",
              "18         3\n",
              "19         3\n",
              "20         3\n",
              "17         3\n",
              "23         3\n",
              "24         2\n",
              "71         2\n",
              "37         1\n",
              "28         1\n",
              "21         1\n",
              "32         1\n",
              "26         1\n",
              "30         1\n",
              "41         1\n",
              "42         1\n",
              "46         1\n",
              "25         1\n",
              "27         1\n",
              "29         1\n",
              "Name: count, dtype: int64"
            ]
          },
          "execution_count": 86,
          "metadata": {},
          "output_type": "execute_result"
        }
      ],
      "source": [
        "data['HERIDOS'].value_counts()"
      ]
    },
    {
      "cell_type": "code",
      "execution_count": 87,
      "metadata": {
        "id": "BhavcrnMn7Xb"
      },
      "outputs": [],
      "source": [
        "data.loc[data['HERIDOS']=='N.I.'] = None\n",
        "data['HERIDOS'] = data['HERIDOS'].astype('float')"
      ]
    },
    {
      "cell_type": "code",
      "execution_count": 88,
      "metadata": {
        "colab": {
          "base_uri": "https://localhost:8080/"
        },
        "id": "jGLcAN_zoEIH",
        "outputId": "eead42c6-d62c-48ef-b324-364c95d5068e"
      },
      "outputs": [
        {
          "name": "stdout",
          "output_type": "stream",
          "text": [
            "<class 'pandas.core.frame.DataFrame'>\n",
            "RangeIndex: 8155 entries, 0 to 8154\n",
            "Data columns (total 9 columns):\n",
            " #   Column        Non-Null Count  Dtype  \n",
            "---  ------        --------------  -----  \n",
            " 0   FECHA_CORTE   8144 non-null   float64\n",
            " 1   FECHA         8144 non-null   float64\n",
            " 2   HORA          8144 non-null   object \n",
            " 3   DEPARTAMENTO  8144 non-null   object \n",
            " 4   CODIGO_VÍA    8144 non-null   object \n",
            " 5   KILOMETRO     8144 non-null   object \n",
            " 6   MODALIDAD     8144 non-null   object \n",
            " 7   FALLECIDOS    8144 non-null   float64\n",
            " 8   HERIDOS       8144 non-null   float64\n",
            "dtypes: float64(4), object(5)\n",
            "memory usage: 573.5+ KB\n"
          ]
        }
      ],
      "source": [
        "data.info()"
      ]
    },
    {
      "cell_type": "code",
      "execution_count": 89,
      "metadata": {
        "colab": {
          "base_uri": "https://localhost:8080/"
        },
        "id": "hdXWTB4moHF4",
        "outputId": "0762906a-f002-4a77-e32d-3b5e77693338"
      },
      "outputs": [
        {
          "data": {
            "text/plain": [
              "FECHA_CORTE     11\n",
              "FECHA           11\n",
              "HORA            11\n",
              "DEPARTAMENTO    11\n",
              "CODIGO_VÍA      11\n",
              "KILOMETRO       11\n",
              "MODALIDAD       11\n",
              "FALLECIDOS      11\n",
              "HERIDOS         11\n",
              "dtype: int64"
            ]
          },
          "execution_count": 89,
          "metadata": {},
          "output_type": "execute_result"
        }
      ],
      "source": [
        "data.isna().sum()"
      ]
    },
    {
      "cell_type": "code",
      "execution_count": 90,
      "metadata": {
        "colab": {
          "base_uri": "https://localhost:8080/",
          "height": 394
        },
        "id": "GF42pt2KoLFt",
        "outputId": "6d3388d0-6bc2-43cd-af4c-cba3f06f0ced"
      },
      "outputs": [
        {
          "data": {
            "text/html": [
              "<div>\n",
              "<style scoped>\n",
              "    .dataframe tbody tr th:only-of-type {\n",
              "        vertical-align: middle;\n",
              "    }\n",
              "\n",
              "    .dataframe tbody tr th {\n",
              "        vertical-align: top;\n",
              "    }\n",
              "\n",
              "    .dataframe thead th {\n",
              "        text-align: right;\n",
              "    }\n",
              "</style>\n",
              "<table border=\"1\" class=\"dataframe\">\n",
              "  <thead>\n",
              "    <tr style=\"text-align: right;\">\n",
              "      <th></th>\n",
              "      <th>FECHA_CORTE</th>\n",
              "      <th>FECHA</th>\n",
              "      <th>HORA</th>\n",
              "      <th>DEPARTAMENTO</th>\n",
              "      <th>CODIGO_VÍA</th>\n",
              "      <th>KILOMETRO</th>\n",
              "      <th>MODALIDAD</th>\n",
              "      <th>FALLECIDOS</th>\n",
              "      <th>HERIDOS</th>\n",
              "    </tr>\n",
              "  </thead>\n",
              "  <tbody>\n",
              "    <tr>\n",
              "      <th>491</th>\n",
              "      <td>NaN</td>\n",
              "      <td>NaN</td>\n",
              "      <td>None</td>\n",
              "      <td>None</td>\n",
              "      <td>None</td>\n",
              "      <td>None</td>\n",
              "      <td>None</td>\n",
              "      <td>NaN</td>\n",
              "      <td>NaN</td>\n",
              "    </tr>\n",
              "    <tr>\n",
              "      <th>492</th>\n",
              "      <td>NaN</td>\n",
              "      <td>NaN</td>\n",
              "      <td>None</td>\n",
              "      <td>None</td>\n",
              "      <td>None</td>\n",
              "      <td>None</td>\n",
              "      <td>None</td>\n",
              "      <td>NaN</td>\n",
              "      <td>NaN</td>\n",
              "    </tr>\n",
              "    <tr>\n",
              "      <th>642</th>\n",
              "      <td>NaN</td>\n",
              "      <td>NaN</td>\n",
              "      <td>None</td>\n",
              "      <td>None</td>\n",
              "      <td>None</td>\n",
              "      <td>None</td>\n",
              "      <td>None</td>\n",
              "      <td>NaN</td>\n",
              "      <td>NaN</td>\n",
              "    </tr>\n",
              "    <tr>\n",
              "      <th>692</th>\n",
              "      <td>NaN</td>\n",
              "      <td>NaN</td>\n",
              "      <td>None</td>\n",
              "      <td>None</td>\n",
              "      <td>None</td>\n",
              "      <td>None</td>\n",
              "      <td>None</td>\n",
              "      <td>NaN</td>\n",
              "      <td>NaN</td>\n",
              "    </tr>\n",
              "    <tr>\n",
              "      <th>718</th>\n",
              "      <td>NaN</td>\n",
              "      <td>NaN</td>\n",
              "      <td>None</td>\n",
              "      <td>None</td>\n",
              "      <td>None</td>\n",
              "      <td>None</td>\n",
              "      <td>None</td>\n",
              "      <td>NaN</td>\n",
              "      <td>NaN</td>\n",
              "    </tr>\n",
              "    <tr>\n",
              "      <th>746</th>\n",
              "      <td>NaN</td>\n",
              "      <td>NaN</td>\n",
              "      <td>None</td>\n",
              "      <td>None</td>\n",
              "      <td>None</td>\n",
              "      <td>None</td>\n",
              "      <td>None</td>\n",
              "      <td>NaN</td>\n",
              "      <td>NaN</td>\n",
              "    </tr>\n",
              "    <tr>\n",
              "      <th>1021</th>\n",
              "      <td>NaN</td>\n",
              "      <td>NaN</td>\n",
              "      <td>None</td>\n",
              "      <td>None</td>\n",
              "      <td>None</td>\n",
              "      <td>None</td>\n",
              "      <td>None</td>\n",
              "      <td>NaN</td>\n",
              "      <td>NaN</td>\n",
              "    </tr>\n",
              "    <tr>\n",
              "      <th>1027</th>\n",
              "      <td>NaN</td>\n",
              "      <td>NaN</td>\n",
              "      <td>None</td>\n",
              "      <td>None</td>\n",
              "      <td>None</td>\n",
              "      <td>None</td>\n",
              "      <td>None</td>\n",
              "      <td>NaN</td>\n",
              "      <td>NaN</td>\n",
              "    </tr>\n",
              "    <tr>\n",
              "      <th>1032</th>\n",
              "      <td>NaN</td>\n",
              "      <td>NaN</td>\n",
              "      <td>None</td>\n",
              "      <td>None</td>\n",
              "      <td>None</td>\n",
              "      <td>None</td>\n",
              "      <td>None</td>\n",
              "      <td>NaN</td>\n",
              "      <td>NaN</td>\n",
              "    </tr>\n",
              "    <tr>\n",
              "      <th>1070</th>\n",
              "      <td>NaN</td>\n",
              "      <td>NaN</td>\n",
              "      <td>None</td>\n",
              "      <td>None</td>\n",
              "      <td>None</td>\n",
              "      <td>None</td>\n",
              "      <td>None</td>\n",
              "      <td>NaN</td>\n",
              "      <td>NaN</td>\n",
              "    </tr>\n",
              "    <tr>\n",
              "      <th>1467</th>\n",
              "      <td>NaN</td>\n",
              "      <td>NaN</td>\n",
              "      <td>None</td>\n",
              "      <td>None</td>\n",
              "      <td>None</td>\n",
              "      <td>None</td>\n",
              "      <td>None</td>\n",
              "      <td>NaN</td>\n",
              "      <td>NaN</td>\n",
              "    </tr>\n",
              "  </tbody>\n",
              "</table>\n",
              "</div>"
            ],
            "text/plain": [
              "      FECHA_CORTE  FECHA  HORA DEPARTAMENTO CODIGO_VÍA KILOMETRO MODALIDAD  \\\n",
              "491           NaN    NaN  None         None       None      None      None   \n",
              "492           NaN    NaN  None         None       None      None      None   \n",
              "642           NaN    NaN  None         None       None      None      None   \n",
              "692           NaN    NaN  None         None       None      None      None   \n",
              "718           NaN    NaN  None         None       None      None      None   \n",
              "746           NaN    NaN  None         None       None      None      None   \n",
              "1021          NaN    NaN  None         None       None      None      None   \n",
              "1027          NaN    NaN  None         None       None      None      None   \n",
              "1032          NaN    NaN  None         None       None      None      None   \n",
              "1070          NaN    NaN  None         None       None      None      None   \n",
              "1467          NaN    NaN  None         None       None      None      None   \n",
              "\n",
              "      FALLECIDOS  HERIDOS  \n",
              "491          NaN      NaN  \n",
              "492          NaN      NaN  \n",
              "642          NaN      NaN  \n",
              "692          NaN      NaN  \n",
              "718          NaN      NaN  \n",
              "746          NaN      NaN  \n",
              "1021         NaN      NaN  \n",
              "1027         NaN      NaN  \n",
              "1032         NaN      NaN  \n",
              "1070         NaN      NaN  \n",
              "1467         NaN      NaN  "
            ]
          },
          "execution_count": 90,
          "metadata": {},
          "output_type": "execute_result"
        }
      ],
      "source": [
        "data[data['FECHA'].isna()]"
      ]
    },
    {
      "cell_type": "code",
      "execution_count": 91,
      "metadata": {
        "colab": {
          "base_uri": "https://localhost:8080/",
          "height": 990
        },
        "id": "vRa5naunaaT7",
        "outputId": "2bd1870c-02f2-45ff-fc0b-f2c1ac29a9d2"
      },
      "outputs": [
        {
          "data": {
            "text/html": [
              "<div>\n",
              "<style scoped>\n",
              "    .dataframe tbody tr th:only-of-type {\n",
              "        vertical-align: middle;\n",
              "    }\n",
              "\n",
              "    .dataframe tbody tr th {\n",
              "        vertical-align: top;\n",
              "    }\n",
              "\n",
              "    .dataframe thead th {\n",
              "        text-align: right;\n",
              "    }\n",
              "</style>\n",
              "<table border=\"1\" class=\"dataframe\">\n",
              "  <thead>\n",
              "    <tr style=\"text-align: right;\">\n",
              "      <th></th>\n",
              "      <th>HERIDOS</th>\n",
              "    </tr>\n",
              "    <tr>\n",
              "      <th>DEPARTAMENTO</th>\n",
              "      <th></th>\n",
              "    </tr>\n",
              "  </thead>\n",
              "  <tbody>\n",
              "    <tr>\n",
              "      <th>AMAZONAS</th>\n",
              "      <td>205.0</td>\n",
              "    </tr>\n",
              "    <tr>\n",
              "      <th>ANCASH</th>\n",
              "      <td>755.0</td>\n",
              "    </tr>\n",
              "    <tr>\n",
              "      <th>APURIMAC</th>\n",
              "      <td>324.0</td>\n",
              "    </tr>\n",
              "    <tr>\n",
              "      <th>AREQUIPA</th>\n",
              "      <td>1008.0</td>\n",
              "    </tr>\n",
              "    <tr>\n",
              "      <th>AYACUCHO</th>\n",
              "      <td>284.0</td>\n",
              "    </tr>\n",
              "    <tr>\n",
              "      <th>Arequipa</th>\n",
              "      <td>0.0</td>\n",
              "    </tr>\n",
              "    <tr>\n",
              "      <th>CAJAMARCA</th>\n",
              "      <td>448.0</td>\n",
              "    </tr>\n",
              "    <tr>\n",
              "      <th>CALLAO</th>\n",
              "      <td>8.0</td>\n",
              "    </tr>\n",
              "    <tr>\n",
              "      <th>CUSCO</th>\n",
              "      <td>545.0</td>\n",
              "    </tr>\n",
              "    <tr>\n",
              "      <th>Cusco</th>\n",
              "      <td>1.0</td>\n",
              "    </tr>\n",
              "    <tr>\n",
              "      <th>HUANCAVELICA</th>\n",
              "      <td>95.0</td>\n",
              "    </tr>\n",
              "    <tr>\n",
              "      <th>HUANUCO</th>\n",
              "      <td>168.0</td>\n",
              "    </tr>\n",
              "    <tr>\n",
              "      <th>ICA</th>\n",
              "      <td>532.0</td>\n",
              "    </tr>\n",
              "    <tr>\n",
              "      <th>JUNIN</th>\n",
              "      <td>883.0</td>\n",
              "    </tr>\n",
              "    <tr>\n",
              "      <th>LA LIBERTAD</th>\n",
              "      <td>475.0</td>\n",
              "    </tr>\n",
              "    <tr>\n",
              "      <th>LAMBAYEQUE</th>\n",
              "      <td>586.0</td>\n",
              "    </tr>\n",
              "    <tr>\n",
              "      <th>LIMA</th>\n",
              "      <td>1744.0</td>\n",
              "    </tr>\n",
              "    <tr>\n",
              "      <th>LORETO</th>\n",
              "      <td>108.0</td>\n",
              "    </tr>\n",
              "    <tr>\n",
              "      <th>MADRE DE DIOS</th>\n",
              "      <td>209.0</td>\n",
              "    </tr>\n",
              "    <tr>\n",
              "      <th>MOQUEGUA</th>\n",
              "      <td>164.0</td>\n",
              "    </tr>\n",
              "    <tr>\n",
              "      <th>N.I.</th>\n",
              "      <td>8.0</td>\n",
              "    </tr>\n",
              "    <tr>\n",
              "      <th>PASCO</th>\n",
              "      <td>153.0</td>\n",
              "    </tr>\n",
              "    <tr>\n",
              "      <th>PIURA</th>\n",
              "      <td>442.0</td>\n",
              "    </tr>\n",
              "    <tr>\n",
              "      <th>PUNO</th>\n",
              "      <td>701.0</td>\n",
              "    </tr>\n",
              "    <tr>\n",
              "      <th>Puno</th>\n",
              "      <td>1.0</td>\n",
              "    </tr>\n",
              "    <tr>\n",
              "      <th>SAN MARTIN</th>\n",
              "      <td>376.0</td>\n",
              "    </tr>\n",
              "    <tr>\n",
              "      <th>TACNA</th>\n",
              "      <td>200.0</td>\n",
              "    </tr>\n",
              "    <tr>\n",
              "      <th>TUMBES</th>\n",
              "      <td>37.0</td>\n",
              "    </tr>\n",
              "    <tr>\n",
              "      <th>UCAYALI</th>\n",
              "      <td>211.0</td>\n",
              "    </tr>\n",
              "  </tbody>\n",
              "</table>\n",
              "</div>"
            ],
            "text/plain": [
              "               HERIDOS\n",
              "DEPARTAMENTO          \n",
              "AMAZONAS         205.0\n",
              "ANCASH           755.0\n",
              "APURIMAC         324.0\n",
              "AREQUIPA        1008.0\n",
              "AYACUCHO         284.0\n",
              "Arequipa           0.0\n",
              "CAJAMARCA        448.0\n",
              "CALLAO             8.0\n",
              "CUSCO            545.0\n",
              "Cusco              1.0\n",
              "HUANCAVELICA      95.0\n",
              "HUANUCO          168.0\n",
              "ICA              532.0\n",
              "JUNIN            883.0\n",
              "LA LIBERTAD      475.0\n",
              "LAMBAYEQUE       586.0\n",
              "LIMA            1744.0\n",
              "LORETO           108.0\n",
              "MADRE DE DIOS    209.0\n",
              "MOQUEGUA         164.0\n",
              "N.I.               8.0\n",
              "PASCO            153.0\n",
              "PIURA            442.0\n",
              "PUNO             701.0\n",
              "Puno               1.0\n",
              "SAN MARTIN       376.0\n",
              "TACNA            200.0\n",
              "TUMBES            37.0\n",
              "UCAYALI          211.0"
            ]
          },
          "execution_count": 91,
          "metadata": {},
          "output_type": "execute_result"
        }
      ],
      "source": [
        "# Ahora si, la suma de heridos por departamento\n",
        "data.groupby(['DEPARTAMENTO'])[['HERIDOS']].sum()"
      ]
    },
    {
      "cell_type": "markdown",
      "metadata": {
        "id": "QjP0dYEFUphN"
      },
      "source": [
        "Podemos cuadrar este resultado en un nuevo dataset llamado **agg_dep**"
      ]
    },
    {
      "cell_type": "code",
      "execution_count": 92,
      "metadata": {
        "colab": {
          "base_uri": "https://localhost:8080/",
          "height": 959
        },
        "id": "nO4zG0MKUzqd",
        "outputId": "728d183f-fb63-4bf1-abbd-0fd6313f1afc"
      },
      "outputs": [
        {
          "data": {
            "text/html": [
              "<div>\n",
              "<style scoped>\n",
              "    .dataframe tbody tr th:only-of-type {\n",
              "        vertical-align: middle;\n",
              "    }\n",
              "\n",
              "    .dataframe tbody tr th {\n",
              "        vertical-align: top;\n",
              "    }\n",
              "\n",
              "    .dataframe thead th {\n",
              "        text-align: right;\n",
              "    }\n",
              "</style>\n",
              "<table border=\"1\" class=\"dataframe\">\n",
              "  <thead>\n",
              "    <tr style=\"text-align: right;\">\n",
              "      <th></th>\n",
              "      <th>DEPARTAMENTO</th>\n",
              "      <th>HERIDOS</th>\n",
              "    </tr>\n",
              "  </thead>\n",
              "  <tbody>\n",
              "    <tr>\n",
              "      <th>0</th>\n",
              "      <td>AMAZONAS</td>\n",
              "      <td>205.0</td>\n",
              "    </tr>\n",
              "    <tr>\n",
              "      <th>1</th>\n",
              "      <td>ANCASH</td>\n",
              "      <td>755.0</td>\n",
              "    </tr>\n",
              "    <tr>\n",
              "      <th>2</th>\n",
              "      <td>APURIMAC</td>\n",
              "      <td>324.0</td>\n",
              "    </tr>\n",
              "    <tr>\n",
              "      <th>3</th>\n",
              "      <td>AREQUIPA</td>\n",
              "      <td>1008.0</td>\n",
              "    </tr>\n",
              "    <tr>\n",
              "      <th>4</th>\n",
              "      <td>AYACUCHO</td>\n",
              "      <td>284.0</td>\n",
              "    </tr>\n",
              "    <tr>\n",
              "      <th>5</th>\n",
              "      <td>Arequipa</td>\n",
              "      <td>0.0</td>\n",
              "    </tr>\n",
              "    <tr>\n",
              "      <th>6</th>\n",
              "      <td>CAJAMARCA</td>\n",
              "      <td>448.0</td>\n",
              "    </tr>\n",
              "    <tr>\n",
              "      <th>7</th>\n",
              "      <td>CALLAO</td>\n",
              "      <td>8.0</td>\n",
              "    </tr>\n",
              "    <tr>\n",
              "      <th>8</th>\n",
              "      <td>CUSCO</td>\n",
              "      <td>545.0</td>\n",
              "    </tr>\n",
              "    <tr>\n",
              "      <th>9</th>\n",
              "      <td>Cusco</td>\n",
              "      <td>1.0</td>\n",
              "    </tr>\n",
              "    <tr>\n",
              "      <th>10</th>\n",
              "      <td>HUANCAVELICA</td>\n",
              "      <td>95.0</td>\n",
              "    </tr>\n",
              "    <tr>\n",
              "      <th>11</th>\n",
              "      <td>HUANUCO</td>\n",
              "      <td>168.0</td>\n",
              "    </tr>\n",
              "    <tr>\n",
              "      <th>12</th>\n",
              "      <td>ICA</td>\n",
              "      <td>532.0</td>\n",
              "    </tr>\n",
              "    <tr>\n",
              "      <th>13</th>\n",
              "      <td>JUNIN</td>\n",
              "      <td>883.0</td>\n",
              "    </tr>\n",
              "    <tr>\n",
              "      <th>14</th>\n",
              "      <td>LA LIBERTAD</td>\n",
              "      <td>475.0</td>\n",
              "    </tr>\n",
              "    <tr>\n",
              "      <th>15</th>\n",
              "      <td>LAMBAYEQUE</td>\n",
              "      <td>586.0</td>\n",
              "    </tr>\n",
              "    <tr>\n",
              "      <th>16</th>\n",
              "      <td>LIMA</td>\n",
              "      <td>1744.0</td>\n",
              "    </tr>\n",
              "    <tr>\n",
              "      <th>17</th>\n",
              "      <td>LORETO</td>\n",
              "      <td>108.0</td>\n",
              "    </tr>\n",
              "    <tr>\n",
              "      <th>18</th>\n",
              "      <td>MADRE DE DIOS</td>\n",
              "      <td>209.0</td>\n",
              "    </tr>\n",
              "    <tr>\n",
              "      <th>19</th>\n",
              "      <td>MOQUEGUA</td>\n",
              "      <td>164.0</td>\n",
              "    </tr>\n",
              "    <tr>\n",
              "      <th>20</th>\n",
              "      <td>N.I.</td>\n",
              "      <td>8.0</td>\n",
              "    </tr>\n",
              "    <tr>\n",
              "      <th>21</th>\n",
              "      <td>PASCO</td>\n",
              "      <td>153.0</td>\n",
              "    </tr>\n",
              "    <tr>\n",
              "      <th>22</th>\n",
              "      <td>PIURA</td>\n",
              "      <td>442.0</td>\n",
              "    </tr>\n",
              "    <tr>\n",
              "      <th>23</th>\n",
              "      <td>PUNO</td>\n",
              "      <td>701.0</td>\n",
              "    </tr>\n",
              "    <tr>\n",
              "      <th>24</th>\n",
              "      <td>Puno</td>\n",
              "      <td>1.0</td>\n",
              "    </tr>\n",
              "    <tr>\n",
              "      <th>25</th>\n",
              "      <td>SAN MARTIN</td>\n",
              "      <td>376.0</td>\n",
              "    </tr>\n",
              "    <tr>\n",
              "      <th>26</th>\n",
              "      <td>TACNA</td>\n",
              "      <td>200.0</td>\n",
              "    </tr>\n",
              "    <tr>\n",
              "      <th>27</th>\n",
              "      <td>TUMBES</td>\n",
              "      <td>37.0</td>\n",
              "    </tr>\n",
              "    <tr>\n",
              "      <th>28</th>\n",
              "      <td>UCAYALI</td>\n",
              "      <td>211.0</td>\n",
              "    </tr>\n",
              "  </tbody>\n",
              "</table>\n",
              "</div>"
            ],
            "text/plain": [
              "     DEPARTAMENTO  HERIDOS\n",
              "0        AMAZONAS    205.0\n",
              "1          ANCASH    755.0\n",
              "2        APURIMAC    324.0\n",
              "3        AREQUIPA   1008.0\n",
              "4        AYACUCHO    284.0\n",
              "5        Arequipa      0.0\n",
              "6       CAJAMARCA    448.0\n",
              "7          CALLAO      8.0\n",
              "8           CUSCO    545.0\n",
              "9           Cusco      1.0\n",
              "10   HUANCAVELICA     95.0\n",
              "11        HUANUCO    168.0\n",
              "12            ICA    532.0\n",
              "13          JUNIN    883.0\n",
              "14    LA LIBERTAD    475.0\n",
              "15     LAMBAYEQUE    586.0\n",
              "16           LIMA   1744.0\n",
              "17         LORETO    108.0\n",
              "18  MADRE DE DIOS    209.0\n",
              "19       MOQUEGUA    164.0\n",
              "20           N.I.      8.0\n",
              "21          PASCO    153.0\n",
              "22          PIURA    442.0\n",
              "23           PUNO    701.0\n",
              "24           Puno      1.0\n",
              "25     SAN MARTIN    376.0\n",
              "26          TACNA    200.0\n",
              "27         TUMBES     37.0\n",
              "28        UCAYALI    211.0"
            ]
          },
          "execution_count": 92,
          "metadata": {},
          "output_type": "execute_result"
        }
      ],
      "source": [
        "agg_dep = data.groupby(['DEPARTAMENTO'])[['HERIDOS']].sum().reset_index()\n",
        "agg_dep"
      ]
    },
    {
      "cell_type": "markdown",
      "metadata": {
        "id": "WrVwUrG8aaT8"
      },
      "source": [
        "**Función sort_values() de Pandas**\n",
        "* La función `sort_values` de Pandas ordena un marco de datos en orden ascendente o descendente según la columna especificada."
      ]
    },
    {
      "cell_type": "code",
      "execution_count": 93,
      "metadata": {
        "colab": {
          "base_uri": "https://localhost:8080/",
          "height": 959
        },
        "id": "KkFBZN08ooF4",
        "outputId": "b3fe4724-af18-496b-d795-f07eaf2f6a9a"
      },
      "outputs": [
        {
          "data": {
            "text/html": [
              "<div>\n",
              "<style scoped>\n",
              "    .dataframe tbody tr th:only-of-type {\n",
              "        vertical-align: middle;\n",
              "    }\n",
              "\n",
              "    .dataframe tbody tr th {\n",
              "        vertical-align: top;\n",
              "    }\n",
              "\n",
              "    .dataframe thead th {\n",
              "        text-align: right;\n",
              "    }\n",
              "</style>\n",
              "<table border=\"1\" class=\"dataframe\">\n",
              "  <thead>\n",
              "    <tr style=\"text-align: right;\">\n",
              "      <th></th>\n",
              "      <th>DEPARTAMENTO</th>\n",
              "      <th>HERIDOS</th>\n",
              "    </tr>\n",
              "  </thead>\n",
              "  <tbody>\n",
              "    <tr>\n",
              "      <th>16</th>\n",
              "      <td>LIMA</td>\n",
              "      <td>1744.0</td>\n",
              "    </tr>\n",
              "    <tr>\n",
              "      <th>3</th>\n",
              "      <td>AREQUIPA</td>\n",
              "      <td>1008.0</td>\n",
              "    </tr>\n",
              "    <tr>\n",
              "      <th>13</th>\n",
              "      <td>JUNIN</td>\n",
              "      <td>883.0</td>\n",
              "    </tr>\n",
              "    <tr>\n",
              "      <th>1</th>\n",
              "      <td>ANCASH</td>\n",
              "      <td>755.0</td>\n",
              "    </tr>\n",
              "    <tr>\n",
              "      <th>23</th>\n",
              "      <td>PUNO</td>\n",
              "      <td>701.0</td>\n",
              "    </tr>\n",
              "    <tr>\n",
              "      <th>15</th>\n",
              "      <td>LAMBAYEQUE</td>\n",
              "      <td>586.0</td>\n",
              "    </tr>\n",
              "    <tr>\n",
              "      <th>8</th>\n",
              "      <td>CUSCO</td>\n",
              "      <td>545.0</td>\n",
              "    </tr>\n",
              "    <tr>\n",
              "      <th>12</th>\n",
              "      <td>ICA</td>\n",
              "      <td>532.0</td>\n",
              "    </tr>\n",
              "    <tr>\n",
              "      <th>14</th>\n",
              "      <td>LA LIBERTAD</td>\n",
              "      <td>475.0</td>\n",
              "    </tr>\n",
              "    <tr>\n",
              "      <th>6</th>\n",
              "      <td>CAJAMARCA</td>\n",
              "      <td>448.0</td>\n",
              "    </tr>\n",
              "    <tr>\n",
              "      <th>22</th>\n",
              "      <td>PIURA</td>\n",
              "      <td>442.0</td>\n",
              "    </tr>\n",
              "    <tr>\n",
              "      <th>25</th>\n",
              "      <td>SAN MARTIN</td>\n",
              "      <td>376.0</td>\n",
              "    </tr>\n",
              "    <tr>\n",
              "      <th>2</th>\n",
              "      <td>APURIMAC</td>\n",
              "      <td>324.0</td>\n",
              "    </tr>\n",
              "    <tr>\n",
              "      <th>4</th>\n",
              "      <td>AYACUCHO</td>\n",
              "      <td>284.0</td>\n",
              "    </tr>\n",
              "    <tr>\n",
              "      <th>28</th>\n",
              "      <td>UCAYALI</td>\n",
              "      <td>211.0</td>\n",
              "    </tr>\n",
              "    <tr>\n",
              "      <th>18</th>\n",
              "      <td>MADRE DE DIOS</td>\n",
              "      <td>209.0</td>\n",
              "    </tr>\n",
              "    <tr>\n",
              "      <th>0</th>\n",
              "      <td>AMAZONAS</td>\n",
              "      <td>205.0</td>\n",
              "    </tr>\n",
              "    <tr>\n",
              "      <th>26</th>\n",
              "      <td>TACNA</td>\n",
              "      <td>200.0</td>\n",
              "    </tr>\n",
              "    <tr>\n",
              "      <th>11</th>\n",
              "      <td>HUANUCO</td>\n",
              "      <td>168.0</td>\n",
              "    </tr>\n",
              "    <tr>\n",
              "      <th>19</th>\n",
              "      <td>MOQUEGUA</td>\n",
              "      <td>164.0</td>\n",
              "    </tr>\n",
              "    <tr>\n",
              "      <th>21</th>\n",
              "      <td>PASCO</td>\n",
              "      <td>153.0</td>\n",
              "    </tr>\n",
              "    <tr>\n",
              "      <th>17</th>\n",
              "      <td>LORETO</td>\n",
              "      <td>108.0</td>\n",
              "    </tr>\n",
              "    <tr>\n",
              "      <th>10</th>\n",
              "      <td>HUANCAVELICA</td>\n",
              "      <td>95.0</td>\n",
              "    </tr>\n",
              "    <tr>\n",
              "      <th>27</th>\n",
              "      <td>TUMBES</td>\n",
              "      <td>37.0</td>\n",
              "    </tr>\n",
              "    <tr>\n",
              "      <th>20</th>\n",
              "      <td>N.I.</td>\n",
              "      <td>8.0</td>\n",
              "    </tr>\n",
              "    <tr>\n",
              "      <th>7</th>\n",
              "      <td>CALLAO</td>\n",
              "      <td>8.0</td>\n",
              "    </tr>\n",
              "    <tr>\n",
              "      <th>9</th>\n",
              "      <td>Cusco</td>\n",
              "      <td>1.0</td>\n",
              "    </tr>\n",
              "    <tr>\n",
              "      <th>24</th>\n",
              "      <td>Puno</td>\n",
              "      <td>1.0</td>\n",
              "    </tr>\n",
              "    <tr>\n",
              "      <th>5</th>\n",
              "      <td>Arequipa</td>\n",
              "      <td>0.0</td>\n",
              "    </tr>\n",
              "  </tbody>\n",
              "</table>\n",
              "</div>"
            ],
            "text/plain": [
              "     DEPARTAMENTO  HERIDOS\n",
              "16           LIMA   1744.0\n",
              "3        AREQUIPA   1008.0\n",
              "13          JUNIN    883.0\n",
              "1          ANCASH    755.0\n",
              "23           PUNO    701.0\n",
              "15     LAMBAYEQUE    586.0\n",
              "8           CUSCO    545.0\n",
              "12            ICA    532.0\n",
              "14    LA LIBERTAD    475.0\n",
              "6       CAJAMARCA    448.0\n",
              "22          PIURA    442.0\n",
              "25     SAN MARTIN    376.0\n",
              "2        APURIMAC    324.0\n",
              "4        AYACUCHO    284.0\n",
              "28        UCAYALI    211.0\n",
              "18  MADRE DE DIOS    209.0\n",
              "0        AMAZONAS    205.0\n",
              "26          TACNA    200.0\n",
              "11        HUANUCO    168.0\n",
              "19       MOQUEGUA    164.0\n",
              "21          PASCO    153.0\n",
              "17         LORETO    108.0\n",
              "10   HUANCAVELICA     95.0\n",
              "27         TUMBES     37.0\n",
              "20           N.I.      8.0\n",
              "7          CALLAO      8.0\n",
              "9           Cusco      1.0\n",
              "24           Puno      1.0\n",
              "5        Arequipa      0.0"
            ]
          },
          "execution_count": 93,
          "metadata": {},
          "output_type": "execute_result"
        }
      ],
      "source": [
        "agg_dep.sort_values('HERIDOS', ascending=False)"
      ]
    },
    {
      "cell_type": "code",
      "execution_count": 94,
      "metadata": {
        "colab": {
          "base_uri": "https://localhost:8080/",
          "height": 206
        },
        "id": "MlwtjulpVI3o",
        "outputId": "ee10f324-01d7-44b1-bd11-b41852402c8e"
      },
      "outputs": [
        {
          "data": {
            "text/html": [
              "<div>\n",
              "<style scoped>\n",
              "    .dataframe tbody tr th:only-of-type {\n",
              "        vertical-align: middle;\n",
              "    }\n",
              "\n",
              "    .dataframe tbody tr th {\n",
              "        vertical-align: top;\n",
              "    }\n",
              "\n",
              "    .dataframe thead th {\n",
              "        text-align: right;\n",
              "    }\n",
              "</style>\n",
              "<table border=\"1\" class=\"dataframe\">\n",
              "  <thead>\n",
              "    <tr style=\"text-align: right;\">\n",
              "      <th></th>\n",
              "      <th>FECHA_CORTE</th>\n",
              "      <th>FECHA</th>\n",
              "      <th>HORA</th>\n",
              "      <th>DEPARTAMENTO</th>\n",
              "      <th>CODIGO_VÍA</th>\n",
              "      <th>KILOMETRO</th>\n",
              "      <th>MODALIDAD</th>\n",
              "      <th>FALLECIDOS</th>\n",
              "      <th>HERIDOS</th>\n",
              "    </tr>\n",
              "  </thead>\n",
              "  <tbody>\n",
              "    <tr>\n",
              "      <th>0</th>\n",
              "      <td>20211222.0</td>\n",
              "      <td>20200101.0</td>\n",
              "      <td>05:40</td>\n",
              "      <td>LIMA</td>\n",
              "      <td>PE-1S</td>\n",
              "      <td>24</td>\n",
              "      <td>DESPISTE</td>\n",
              "      <td>0.0</td>\n",
              "      <td>0.0</td>\n",
              "    </tr>\n",
              "    <tr>\n",
              "      <th>1</th>\n",
              "      <td>20211222.0</td>\n",
              "      <td>20200101.0</td>\n",
              "      <td>16:30</td>\n",
              "      <td>CAJAMARCA</td>\n",
              "      <td>PE-3N</td>\n",
              "      <td>74</td>\n",
              "      <td>DESPISTE</td>\n",
              "      <td>0.0</td>\n",
              "      <td>0.0</td>\n",
              "    </tr>\n",
              "    <tr>\n",
              "      <th>2</th>\n",
              "      <td>20211222.0</td>\n",
              "      <td>20200101.0</td>\n",
              "      <td>07:45</td>\n",
              "      <td>PASCO</td>\n",
              "      <td>PE-3N</td>\n",
              "      <td>103</td>\n",
              "      <td>DESPISTE</td>\n",
              "      <td>0.0</td>\n",
              "      <td>1.0</td>\n",
              "    </tr>\n",
              "    <tr>\n",
              "      <th>3</th>\n",
              "      <td>20211222.0</td>\n",
              "      <td>20200101.0</td>\n",
              "      <td>18:30</td>\n",
              "      <td>CAJAMARCA</td>\n",
              "      <td>PE-08</td>\n",
              "      <td>111</td>\n",
              "      <td>DESPISTE</td>\n",
              "      <td>0.0</td>\n",
              "      <td>2.0</td>\n",
              "    </tr>\n",
              "    <tr>\n",
              "      <th>4</th>\n",
              "      <td>20211222.0</td>\n",
              "      <td>20200101.0</td>\n",
              "      <td>18:40</td>\n",
              "      <td>LIMA</td>\n",
              "      <td>PE-1N</td>\n",
              "      <td>174</td>\n",
              "      <td>DESPISTE</td>\n",
              "      <td>0.0</td>\n",
              "      <td>5.0</td>\n",
              "    </tr>\n",
              "  </tbody>\n",
              "</table>\n",
              "</div>"
            ],
            "text/plain": [
              "   FECHA_CORTE       FECHA   HORA DEPARTAMENTO CODIGO_VÍA KILOMETRO MODALIDAD  \\\n",
              "0   20211222.0  20200101.0  05:40         LIMA      PE-1S        24  DESPISTE   \n",
              "1   20211222.0  20200101.0  16:30    CAJAMARCA      PE-3N        74  DESPISTE   \n",
              "2   20211222.0  20200101.0  07:45        PASCO      PE-3N       103  DESPISTE   \n",
              "3   20211222.0  20200101.0  18:30    CAJAMARCA      PE-08       111  DESPISTE   \n",
              "4   20211222.0  20200101.0  18:40         LIMA      PE-1N       174  DESPISTE   \n",
              "\n",
              "   FALLECIDOS  HERIDOS  \n",
              "0         0.0      0.0  \n",
              "1         0.0      0.0  \n",
              "2         0.0      1.0  \n",
              "3         0.0      2.0  \n",
              "4         0.0      5.0  "
            ]
          },
          "execution_count": 94,
          "metadata": {},
          "output_type": "execute_result"
        }
      ],
      "source": [
        "data.head()"
      ]
    },
    {
      "cell_type": "code",
      "execution_count": 95,
      "metadata": {
        "colab": {
          "base_uri": "https://localhost:8080/",
          "height": 990
        },
        "id": "rS_c4PpuVJ3d",
        "outputId": "b3c05f77-edee-4864-d78c-42689f0fade5"
      },
      "outputs": [
        {
          "data": {
            "text/html": [
              "<div>\n",
              "<style scoped>\n",
              "    .dataframe tbody tr th:only-of-type {\n",
              "        vertical-align: middle;\n",
              "    }\n",
              "\n",
              "    .dataframe tbody tr th {\n",
              "        vertical-align: top;\n",
              "    }\n",
              "\n",
              "    .dataframe thead th {\n",
              "        text-align: right;\n",
              "    }\n",
              "</style>\n",
              "<table border=\"1\" class=\"dataframe\">\n",
              "  <thead>\n",
              "    <tr style=\"text-align: right;\">\n",
              "      <th></th>\n",
              "      <th>HERIDOS</th>\n",
              "      <th>HORA</th>\n",
              "      <th>CODIGO_VÍA</th>\n",
              "    </tr>\n",
              "    <tr>\n",
              "      <th>DEPARTAMENTO</th>\n",
              "      <th></th>\n",
              "      <th></th>\n",
              "      <th></th>\n",
              "    </tr>\n",
              "  </thead>\n",
              "  <tbody>\n",
              "    <tr>\n",
              "      <th>AMAZONAS</th>\n",
              "      <td>205.0</td>\n",
              "      <td>152</td>\n",
              "      <td>PE-5N</td>\n",
              "    </tr>\n",
              "    <tr>\n",
              "      <th>ANCASH</th>\n",
              "      <td>755.0</td>\n",
              "      <td>602</td>\n",
              "      <td>PE-1N</td>\n",
              "    </tr>\n",
              "    <tr>\n",
              "      <th>APURIMAC</th>\n",
              "      <td>324.0</td>\n",
              "      <td>201</td>\n",
              "      <td>PE-30A</td>\n",
              "    </tr>\n",
              "    <tr>\n",
              "      <th>AREQUIPA</th>\n",
              "      <td>1008.0</td>\n",
              "      <td>792</td>\n",
              "      <td>PE-1S</td>\n",
              "    </tr>\n",
              "    <tr>\n",
              "      <th>AYACUCHO</th>\n",
              "      <td>284.0</td>\n",
              "      <td>168</td>\n",
              "      <td>PE-30A</td>\n",
              "    </tr>\n",
              "    <tr>\n",
              "      <th>Arequipa</th>\n",
              "      <td>0.0</td>\n",
              "      <td>2</td>\n",
              "      <td>[PE-34A, PE-34F]</td>\n",
              "    </tr>\n",
              "    <tr>\n",
              "      <th>CAJAMARCA</th>\n",
              "      <td>448.0</td>\n",
              "      <td>350</td>\n",
              "      <td>PE-3N</td>\n",
              "    </tr>\n",
              "    <tr>\n",
              "      <th>CALLAO</th>\n",
              "      <td>8.0</td>\n",
              "      <td>6</td>\n",
              "      <td>PE-20</td>\n",
              "    </tr>\n",
              "    <tr>\n",
              "      <th>CUSCO</th>\n",
              "      <td>545.0</td>\n",
              "      <td>346</td>\n",
              "      <td>PE-3S</td>\n",
              "    </tr>\n",
              "    <tr>\n",
              "      <th>Cusco</th>\n",
              "      <td>1.0</td>\n",
              "      <td>1</td>\n",
              "      <td>PE-28B</td>\n",
              "    </tr>\n",
              "    <tr>\n",
              "      <th>HUANCAVELICA</th>\n",
              "      <td>95.0</td>\n",
              "      <td>62</td>\n",
              "      <td>PE-28A</td>\n",
              "    </tr>\n",
              "    <tr>\n",
              "      <th>HUANUCO</th>\n",
              "      <td>168.0</td>\n",
              "      <td>174</td>\n",
              "      <td>PE-18A</td>\n",
              "    </tr>\n",
              "    <tr>\n",
              "      <th>ICA</th>\n",
              "      <td>532.0</td>\n",
              "      <td>376</td>\n",
              "      <td>PE-1S</td>\n",
              "    </tr>\n",
              "    <tr>\n",
              "      <th>JUNIN</th>\n",
              "      <td>883.0</td>\n",
              "      <td>715</td>\n",
              "      <td>PE-3S</td>\n",
              "    </tr>\n",
              "    <tr>\n",
              "      <th>LA LIBERTAD</th>\n",
              "      <td>475.0</td>\n",
              "      <td>329</td>\n",
              "      <td>PE-1N</td>\n",
              "    </tr>\n",
              "    <tr>\n",
              "      <th>LAMBAYEQUE</th>\n",
              "      <td>586.0</td>\n",
              "      <td>343</td>\n",
              "      <td>PE-1N</td>\n",
              "    </tr>\n",
              "    <tr>\n",
              "      <th>LIMA</th>\n",
              "      <td>1744.0</td>\n",
              "      <td>1556</td>\n",
              "      <td>PE-1N</td>\n",
              "    </tr>\n",
              "    <tr>\n",
              "      <th>LORETO</th>\n",
              "      <td>108.0</td>\n",
              "      <td>82</td>\n",
              "      <td>LO-103</td>\n",
              "    </tr>\n",
              "    <tr>\n",
              "      <th>MADRE DE DIOS</th>\n",
              "      <td>209.0</td>\n",
              "      <td>190</td>\n",
              "      <td>PE-30C</td>\n",
              "    </tr>\n",
              "    <tr>\n",
              "      <th>MOQUEGUA</th>\n",
              "      <td>164.0</td>\n",
              "      <td>155</td>\n",
              "      <td>PE-1S</td>\n",
              "    </tr>\n",
              "    <tr>\n",
              "      <th>N.I.</th>\n",
              "      <td>8.0</td>\n",
              "      <td>7</td>\n",
              "      <td>N.I.</td>\n",
              "    </tr>\n",
              "    <tr>\n",
              "      <th>PASCO</th>\n",
              "      <td>153.0</td>\n",
              "      <td>77</td>\n",
              "      <td>PE-3N</td>\n",
              "    </tr>\n",
              "    <tr>\n",
              "      <th>PIURA</th>\n",
              "      <td>442.0</td>\n",
              "      <td>327</td>\n",
              "      <td>PE-1N</td>\n",
              "    </tr>\n",
              "    <tr>\n",
              "      <th>PUNO</th>\n",
              "      <td>701.0</td>\n",
              "      <td>526</td>\n",
              "      <td>PE-3S</td>\n",
              "    </tr>\n",
              "    <tr>\n",
              "      <th>Puno</th>\n",
              "      <td>1.0</td>\n",
              "      <td>1</td>\n",
              "      <td>PE-3S</td>\n",
              "    </tr>\n",
              "    <tr>\n",
              "      <th>SAN MARTIN</th>\n",
              "      <td>376.0</td>\n",
              "      <td>274</td>\n",
              "      <td>PE-5N</td>\n",
              "    </tr>\n",
              "    <tr>\n",
              "      <th>TACNA</th>\n",
              "      <td>200.0</td>\n",
              "      <td>151</td>\n",
              "      <td>PE-1S</td>\n",
              "    </tr>\n",
              "    <tr>\n",
              "      <th>TUMBES</th>\n",
              "      <td>37.0</td>\n",
              "      <td>25</td>\n",
              "      <td>PE-1N</td>\n",
              "    </tr>\n",
              "    <tr>\n",
              "      <th>UCAYALI</th>\n",
              "      <td>211.0</td>\n",
              "      <td>154</td>\n",
              "      <td>PE-18C</td>\n",
              "    </tr>\n",
              "  </tbody>\n",
              "</table>\n",
              "</div>"
            ],
            "text/plain": [
              "               HERIDOS  HORA        CODIGO_VÍA\n",
              "DEPARTAMENTO                                  \n",
              "AMAZONAS         205.0   152             PE-5N\n",
              "ANCASH           755.0   602             PE-1N\n",
              "APURIMAC         324.0   201            PE-30A\n",
              "AREQUIPA        1008.0   792             PE-1S\n",
              "AYACUCHO         284.0   168            PE-30A\n",
              "Arequipa           0.0     2  [PE-34A, PE-34F]\n",
              "CAJAMARCA        448.0   350             PE-3N\n",
              "CALLAO             8.0     6             PE-20\n",
              "CUSCO            545.0   346             PE-3S\n",
              "Cusco              1.0     1            PE-28B\n",
              "HUANCAVELICA      95.0    62            PE-28A\n",
              "HUANUCO          168.0   174            PE-18A\n",
              "ICA              532.0   376             PE-1S\n",
              "JUNIN            883.0   715             PE-3S\n",
              "LA LIBERTAD      475.0   329             PE-1N\n",
              "LAMBAYEQUE       586.0   343             PE-1N\n",
              "LIMA            1744.0  1556             PE-1N\n",
              "LORETO           108.0    82            LO-103\n",
              "MADRE DE DIOS    209.0   190            PE-30C\n",
              "MOQUEGUA         164.0   155             PE-1S\n",
              "N.I.               8.0     7              N.I.\n",
              "PASCO            153.0    77             PE-3N\n",
              "PIURA            442.0   327             PE-1N\n",
              "PUNO             701.0   526             PE-3S\n",
              "Puno               1.0     1             PE-3S\n",
              "SAN MARTIN       376.0   274             PE-5N\n",
              "TACNA            200.0   151             PE-1S\n",
              "TUMBES            37.0    25             PE-1N\n",
              "UCAYALI          211.0   154            PE-18C"
            ]
          },
          "execution_count": 95,
          "metadata": {},
          "output_type": "execute_result"
        }
      ],
      "source": [
        "agg_2 = data.groupby('DEPARTAMENTO').agg({'HERIDOS':'sum', 'HORA':'count', 'CODIGO_VÍA':pd.Series.mode})\n",
        "agg_2"
      ]
    },
    {
      "cell_type": "code",
      "execution_count": 96,
      "metadata": {
        "colab": {
          "base_uri": "https://localhost:8080/",
          "height": 959
        },
        "id": "9uP2h1V3Vrp8",
        "outputId": "e42fad22-f40c-4b8f-c3d1-55daaf56196e"
      },
      "outputs": [
        {
          "data": {
            "text/html": [
              "<div>\n",
              "<style scoped>\n",
              "    .dataframe tbody tr th:only-of-type {\n",
              "        vertical-align: middle;\n",
              "    }\n",
              "\n",
              "    .dataframe tbody tr th {\n",
              "        vertical-align: top;\n",
              "    }\n",
              "\n",
              "    .dataframe thead th {\n",
              "        text-align: right;\n",
              "    }\n",
              "</style>\n",
              "<table border=\"1\" class=\"dataframe\">\n",
              "  <thead>\n",
              "    <tr style=\"text-align: right;\">\n",
              "      <th></th>\n",
              "      <th>HERIDOS</th>\n",
              "      <th>HORA</th>\n",
              "      <th>CODIGO_VÍA</th>\n",
              "    </tr>\n",
              "    <tr>\n",
              "      <th>DEPARTAMENTO</th>\n",
              "      <th></th>\n",
              "      <th></th>\n",
              "      <th></th>\n",
              "    </tr>\n",
              "  </thead>\n",
              "  <tbody>\n",
              "    <tr>\n",
              "      <th>AMAZONAS</th>\n",
              "      <td>205.0</td>\n",
              "      <td>152</td>\n",
              "      <td>PE-5N</td>\n",
              "    </tr>\n",
              "    <tr>\n",
              "      <th>ANCASH</th>\n",
              "      <td>755.0</td>\n",
              "      <td>602</td>\n",
              "      <td>PE-1N</td>\n",
              "    </tr>\n",
              "    <tr>\n",
              "      <th>APURIMAC</th>\n",
              "      <td>324.0</td>\n",
              "      <td>201</td>\n",
              "      <td>PE-30A</td>\n",
              "    </tr>\n",
              "    <tr>\n",
              "      <th>AREQUIPA</th>\n",
              "      <td>1008.0</td>\n",
              "      <td>794</td>\n",
              "      <td>PE-1S</td>\n",
              "    </tr>\n",
              "    <tr>\n",
              "      <th>AYACUCHO</th>\n",
              "      <td>284.0</td>\n",
              "      <td>168</td>\n",
              "      <td>PE-30A</td>\n",
              "    </tr>\n",
              "    <tr>\n",
              "      <th>CAJAMARCA</th>\n",
              "      <td>448.0</td>\n",
              "      <td>350</td>\n",
              "      <td>PE-3N</td>\n",
              "    </tr>\n",
              "    <tr>\n",
              "      <th>CALLAO</th>\n",
              "      <td>8.0</td>\n",
              "      <td>6</td>\n",
              "      <td>PE-20</td>\n",
              "    </tr>\n",
              "    <tr>\n",
              "      <th>CUSCO</th>\n",
              "      <td>545.0</td>\n",
              "      <td>346</td>\n",
              "      <td>PE-3S</td>\n",
              "    </tr>\n",
              "    <tr>\n",
              "      <th>Cusco</th>\n",
              "      <td>1.0</td>\n",
              "      <td>1</td>\n",
              "      <td>PE-28B</td>\n",
              "    </tr>\n",
              "    <tr>\n",
              "      <th>HUANCAVELICA</th>\n",
              "      <td>95.0</td>\n",
              "      <td>62</td>\n",
              "      <td>PE-28A</td>\n",
              "    </tr>\n",
              "    <tr>\n",
              "      <th>HUANUCO</th>\n",
              "      <td>168.0</td>\n",
              "      <td>174</td>\n",
              "      <td>PE-18A</td>\n",
              "    </tr>\n",
              "    <tr>\n",
              "      <th>ICA</th>\n",
              "      <td>532.0</td>\n",
              "      <td>376</td>\n",
              "      <td>PE-1S</td>\n",
              "    </tr>\n",
              "    <tr>\n",
              "      <th>JUNIN</th>\n",
              "      <td>883.0</td>\n",
              "      <td>715</td>\n",
              "      <td>PE-3S</td>\n",
              "    </tr>\n",
              "    <tr>\n",
              "      <th>LA LIBERTAD</th>\n",
              "      <td>475.0</td>\n",
              "      <td>329</td>\n",
              "      <td>PE-1N</td>\n",
              "    </tr>\n",
              "    <tr>\n",
              "      <th>LAMBAYEQUE</th>\n",
              "      <td>586.0</td>\n",
              "      <td>343</td>\n",
              "      <td>PE-1N</td>\n",
              "    </tr>\n",
              "    <tr>\n",
              "      <th>LIMA</th>\n",
              "      <td>1744.0</td>\n",
              "      <td>1556</td>\n",
              "      <td>PE-1N</td>\n",
              "    </tr>\n",
              "    <tr>\n",
              "      <th>LORETO</th>\n",
              "      <td>108.0</td>\n",
              "      <td>82</td>\n",
              "      <td>LO-103</td>\n",
              "    </tr>\n",
              "    <tr>\n",
              "      <th>MADRE DE DIOS</th>\n",
              "      <td>209.0</td>\n",
              "      <td>190</td>\n",
              "      <td>PE-30C</td>\n",
              "    </tr>\n",
              "    <tr>\n",
              "      <th>MOQUEGUA</th>\n",
              "      <td>164.0</td>\n",
              "      <td>155</td>\n",
              "      <td>PE-1S</td>\n",
              "    </tr>\n",
              "    <tr>\n",
              "      <th>N.I.</th>\n",
              "      <td>8.0</td>\n",
              "      <td>7</td>\n",
              "      <td>N.I.</td>\n",
              "    </tr>\n",
              "    <tr>\n",
              "      <th>PASCO</th>\n",
              "      <td>153.0</td>\n",
              "      <td>77</td>\n",
              "      <td>PE-3N</td>\n",
              "    </tr>\n",
              "    <tr>\n",
              "      <th>PIURA</th>\n",
              "      <td>442.0</td>\n",
              "      <td>327</td>\n",
              "      <td>PE-1N</td>\n",
              "    </tr>\n",
              "    <tr>\n",
              "      <th>PUNO</th>\n",
              "      <td>701.0</td>\n",
              "      <td>526</td>\n",
              "      <td>PE-3S</td>\n",
              "    </tr>\n",
              "    <tr>\n",
              "      <th>Puno</th>\n",
              "      <td>1.0</td>\n",
              "      <td>1</td>\n",
              "      <td>PE-3S</td>\n",
              "    </tr>\n",
              "    <tr>\n",
              "      <th>SAN MARTIN</th>\n",
              "      <td>376.0</td>\n",
              "      <td>274</td>\n",
              "      <td>PE-5N</td>\n",
              "    </tr>\n",
              "    <tr>\n",
              "      <th>TACNA</th>\n",
              "      <td>200.0</td>\n",
              "      <td>151</td>\n",
              "      <td>PE-1S</td>\n",
              "    </tr>\n",
              "    <tr>\n",
              "      <th>TUMBES</th>\n",
              "      <td>37.0</td>\n",
              "      <td>25</td>\n",
              "      <td>PE-1N</td>\n",
              "    </tr>\n",
              "    <tr>\n",
              "      <th>UCAYALI</th>\n",
              "      <td>211.0</td>\n",
              "      <td>154</td>\n",
              "      <td>PE-18C</td>\n",
              "    </tr>\n",
              "  </tbody>\n",
              "</table>\n",
              "</div>"
            ],
            "text/plain": [
              "               HERIDOS  HORA CODIGO_VÍA\n",
              "DEPARTAMENTO                           \n",
              "AMAZONAS         205.0   152      PE-5N\n",
              "ANCASH           755.0   602      PE-1N\n",
              "APURIMAC         324.0   201     PE-30A\n",
              "AREQUIPA        1008.0   794      PE-1S\n",
              "AYACUCHO         284.0   168     PE-30A\n",
              "CAJAMARCA        448.0   350      PE-3N\n",
              "CALLAO             8.0     6      PE-20\n",
              "CUSCO            545.0   346      PE-3S\n",
              "Cusco              1.0     1     PE-28B\n",
              "HUANCAVELICA      95.0    62     PE-28A\n",
              "HUANUCO          168.0   174     PE-18A\n",
              "ICA              532.0   376      PE-1S\n",
              "JUNIN            883.0   715      PE-3S\n",
              "LA LIBERTAD      475.0   329      PE-1N\n",
              "LAMBAYEQUE       586.0   343      PE-1N\n",
              "LIMA            1744.0  1556      PE-1N\n",
              "LORETO           108.0    82     LO-103\n",
              "MADRE DE DIOS    209.0   190     PE-30C\n",
              "MOQUEGUA         164.0   155      PE-1S\n",
              "N.I.               8.0     7       N.I.\n",
              "PASCO            153.0    77      PE-3N\n",
              "PIURA            442.0   327      PE-1N\n",
              "PUNO             701.0   526      PE-3S\n",
              "Puno               1.0     1      PE-3S\n",
              "SAN MARTIN       376.0   274      PE-5N\n",
              "TACNA            200.0   151      PE-1S\n",
              "TUMBES            37.0    25      PE-1N\n",
              "UCAYALI          211.0   154     PE-18C"
            ]
          },
          "execution_count": 96,
          "metadata": {},
          "output_type": "execute_result"
        }
      ],
      "source": [
        "# Solo modificaremos para Arequipa\n",
        "data_mod = data.copy()\n",
        "data_mod.loc[data_mod['DEPARTAMENTO']=='Arequipa','DEPARTAMENTO'] = 'AREQUIPA'\n",
        "agg_3 = data_mod.groupby('DEPARTAMENTO').agg({'HERIDOS':'sum', 'HORA':'count', 'CODIGO_VÍA': pd.Series.mode})\n",
        "agg_3"
      ]
    },
    {
      "cell_type": "markdown",
      "metadata": {
        "id": "jq__TYL7aaT9"
      },
      "source": [
        "### 2.11 Pandas - Date-time Functions"
      ]
    },
    {
      "cell_type": "code",
      "execution_count": 97,
      "metadata": {
        "colab": {
          "base_uri": "https://localhost:8080/",
          "height": 206
        },
        "id": "uEyd_KQDWblG",
        "outputId": "ef9f0723-b189-4b8f-c35a-61187ee833ca"
      },
      "outputs": [
        {
          "data": {
            "text/html": [
              "<div>\n",
              "<style scoped>\n",
              "    .dataframe tbody tr th:only-of-type {\n",
              "        vertical-align: middle;\n",
              "    }\n",
              "\n",
              "    .dataframe tbody tr th {\n",
              "        vertical-align: top;\n",
              "    }\n",
              "\n",
              "    .dataframe thead th {\n",
              "        text-align: right;\n",
              "    }\n",
              "</style>\n",
              "<table border=\"1\" class=\"dataframe\">\n",
              "  <thead>\n",
              "    <tr style=\"text-align: right;\">\n",
              "      <th></th>\n",
              "      <th>FECHA_CORTE</th>\n",
              "      <th>FECHA</th>\n",
              "      <th>HORA</th>\n",
              "      <th>DEPARTAMENTO</th>\n",
              "      <th>CODIGO_VÍA</th>\n",
              "      <th>KILOMETRO</th>\n",
              "      <th>MODALIDAD</th>\n",
              "      <th>FALLECIDOS</th>\n",
              "      <th>HERIDOS</th>\n",
              "    </tr>\n",
              "  </thead>\n",
              "  <tbody>\n",
              "    <tr>\n",
              "      <th>0</th>\n",
              "      <td>20211222.0</td>\n",
              "      <td>20200101.0</td>\n",
              "      <td>05:40</td>\n",
              "      <td>LIMA</td>\n",
              "      <td>PE-1S</td>\n",
              "      <td>24</td>\n",
              "      <td>DESPISTE</td>\n",
              "      <td>0.0</td>\n",
              "      <td>0.0</td>\n",
              "    </tr>\n",
              "    <tr>\n",
              "      <th>1</th>\n",
              "      <td>20211222.0</td>\n",
              "      <td>20200101.0</td>\n",
              "      <td>16:30</td>\n",
              "      <td>CAJAMARCA</td>\n",
              "      <td>PE-3N</td>\n",
              "      <td>74</td>\n",
              "      <td>DESPISTE</td>\n",
              "      <td>0.0</td>\n",
              "      <td>0.0</td>\n",
              "    </tr>\n",
              "    <tr>\n",
              "      <th>2</th>\n",
              "      <td>20211222.0</td>\n",
              "      <td>20200101.0</td>\n",
              "      <td>07:45</td>\n",
              "      <td>PASCO</td>\n",
              "      <td>PE-3N</td>\n",
              "      <td>103</td>\n",
              "      <td>DESPISTE</td>\n",
              "      <td>0.0</td>\n",
              "      <td>1.0</td>\n",
              "    </tr>\n",
              "    <tr>\n",
              "      <th>3</th>\n",
              "      <td>20211222.0</td>\n",
              "      <td>20200101.0</td>\n",
              "      <td>18:30</td>\n",
              "      <td>CAJAMARCA</td>\n",
              "      <td>PE-08</td>\n",
              "      <td>111</td>\n",
              "      <td>DESPISTE</td>\n",
              "      <td>0.0</td>\n",
              "      <td>2.0</td>\n",
              "    </tr>\n",
              "    <tr>\n",
              "      <th>4</th>\n",
              "      <td>20211222.0</td>\n",
              "      <td>20200101.0</td>\n",
              "      <td>18:40</td>\n",
              "      <td>LIMA</td>\n",
              "      <td>PE-1N</td>\n",
              "      <td>174</td>\n",
              "      <td>DESPISTE</td>\n",
              "      <td>0.0</td>\n",
              "      <td>5.0</td>\n",
              "    </tr>\n",
              "  </tbody>\n",
              "</table>\n",
              "</div>"
            ],
            "text/plain": [
              "   FECHA_CORTE       FECHA   HORA DEPARTAMENTO CODIGO_VÍA KILOMETRO MODALIDAD  \\\n",
              "0   20211222.0  20200101.0  05:40         LIMA      PE-1S        24  DESPISTE   \n",
              "1   20211222.0  20200101.0  16:30    CAJAMARCA      PE-3N        74  DESPISTE   \n",
              "2   20211222.0  20200101.0  07:45        PASCO      PE-3N       103  DESPISTE   \n",
              "3   20211222.0  20200101.0  18:30    CAJAMARCA      PE-08       111  DESPISTE   \n",
              "4   20211222.0  20200101.0  18:40         LIMA      PE-1N       174  DESPISTE   \n",
              "\n",
              "   FALLECIDOS  HERIDOS  \n",
              "0         0.0      0.0  \n",
              "1         0.0      0.0  \n",
              "2         0.0      1.0  \n",
              "3         0.0      2.0  \n",
              "4         0.0      5.0  "
            ]
          },
          "execution_count": 97,
          "metadata": {},
          "output_type": "execute_result"
        }
      ],
      "source": [
        "data.head()"
      ]
    },
    {
      "cell_type": "code",
      "execution_count": 98,
      "metadata": {
        "colab": {
          "base_uri": "https://localhost:8080/"
        },
        "id": "Iciykq8jXFnM",
        "outputId": "8aed1c12-5dca-4acb-ab0e-c0c3db6a533d"
      },
      "outputs": [
        {
          "data": {
            "text/plain": [
              "FECHA\n",
              "20210801.0    36\n",
              "20210528.0    30\n",
              "20200209.0    29\n",
              "20210225.0    28\n",
              "20210830.0    28\n",
              "              ..\n",
              "20200411.0     1\n",
              "20200426.0     1\n",
              "20200503.0     1\n",
              "20200405.0     1\n",
              "20200420.0     1\n",
              "Name: count, Length: 638, dtype: int64"
            ]
          },
          "execution_count": 98,
          "metadata": {},
          "output_type": "execute_result"
        }
      ],
      "source": [
        "data['FECHA'].value_counts()"
      ]
    },
    {
      "cell_type": "code",
      "execution_count": 99,
      "metadata": {
        "id": "DUTj4xHuaaT9"
      },
      "outputs": [],
      "source": [
        "# Verificamos el tipo de dato\n",
        "data_t = data.copy()"
      ]
    },
    {
      "cell_type": "code",
      "execution_count": 100,
      "metadata": {
        "colab": {
          "base_uri": "https://localhost:8080/"
        },
        "id": "L5SscoY9Yy5n",
        "outputId": "81715648-841a-4f07-c161-2c5799a12458"
      },
      "outputs": [
        {
          "name": "stdout",
          "output_type": "stream",
          "text": [
            "<class 'pandas.core.frame.DataFrame'>\n",
            "RangeIndex: 8155 entries, 0 to 8154\n",
            "Data columns (total 9 columns):\n",
            " #   Column        Non-Null Count  Dtype  \n",
            "---  ------        --------------  -----  \n",
            " 0   FECHA_CORTE   8144 non-null   float64\n",
            " 1   FECHA         8144 non-null   float64\n",
            " 2   HORA          8144 non-null   object \n",
            " 3   DEPARTAMENTO  8144 non-null   object \n",
            " 4   CODIGO_VÍA    8144 non-null   object \n",
            " 5   KILOMETRO     8144 non-null   object \n",
            " 6   MODALIDAD     8144 non-null   object \n",
            " 7   FALLECIDOS    8144 non-null   float64\n",
            " 8   HERIDOS       8144 non-null   float64\n",
            "dtypes: float64(4), object(5)\n",
            "memory usage: 573.5+ KB\n"
          ]
        }
      ],
      "source": [
        "data_t.info()"
      ]
    },
    {
      "cell_type": "markdown",
      "metadata": {
        "id": "zJwyGtcUaaT9"
      },
      "source": [
        "* Verificamos que las 2 primeras columnas no fueron reconocidas como tipo Fecha (datetime) en Pandas"
      ]
    },
    {
      "cell_type": "code",
      "execution_count": 101,
      "metadata": {
        "id": "wf_sF48baaT9"
      },
      "outputs": [],
      "source": [
        "# Convertimos a datetime. Debemos especificar el formato inicial de la fecha\n",
        "\n",
        "data_t['FECHA'] = pd.to_datetime(data_t['FECHA'], format='%Y%m%d')"
      ]
    },
    {
      "cell_type": "code",
      "execution_count": 102,
      "metadata": {
        "colab": {
          "base_uri": "https://localhost:8080/"
        },
        "id": "x0JpES2paaT9",
        "outputId": "1d25c640-e646-4b39-85ba-beda46d34891"
      },
      "outputs": [
        {
          "name": "stdout",
          "output_type": "stream",
          "text": [
            "<class 'pandas.core.frame.DataFrame'>\n",
            "RangeIndex: 8155 entries, 0 to 8154\n",
            "Data columns (total 9 columns):\n",
            " #   Column        Non-Null Count  Dtype         \n",
            "---  ------        --------------  -----         \n",
            " 0   FECHA_CORTE   8144 non-null   float64       \n",
            " 1   FECHA         8144 non-null   datetime64[ns]\n",
            " 2   HORA          8144 non-null   object        \n",
            " 3   DEPARTAMENTO  8144 non-null   object        \n",
            " 4   CODIGO_VÍA    8144 non-null   object        \n",
            " 5   KILOMETRO     8144 non-null   object        \n",
            " 6   MODALIDAD     8144 non-null   object        \n",
            " 7   FALLECIDOS    8144 non-null   float64       \n",
            " 8   HERIDOS       8144 non-null   float64       \n",
            "dtypes: datetime64[ns](1), float64(3), object(5)\n",
            "memory usage: 573.5+ KB\n"
          ]
        }
      ],
      "source": [
        "data_t.info()"
      ]
    },
    {
      "cell_type": "markdown",
      "metadata": {
        "id": "c3LKyXDsaaT-"
      },
      "source": [
        "* Observamos que cambió a tipo datetime. Y ahora si presenta el formato correcto"
      ]
    },
    {
      "cell_type": "code",
      "execution_count": 103,
      "metadata": {
        "colab": {
          "base_uri": "https://localhost:8080/",
          "height": 206
        },
        "id": "PwvtmGCZaaT-",
        "outputId": "4cc880cd-d1cb-4e17-dd7e-0851b64ecfcc"
      },
      "outputs": [
        {
          "data": {
            "text/html": [
              "<div>\n",
              "<style scoped>\n",
              "    .dataframe tbody tr th:only-of-type {\n",
              "        vertical-align: middle;\n",
              "    }\n",
              "\n",
              "    .dataframe tbody tr th {\n",
              "        vertical-align: top;\n",
              "    }\n",
              "\n",
              "    .dataframe thead th {\n",
              "        text-align: right;\n",
              "    }\n",
              "</style>\n",
              "<table border=\"1\" class=\"dataframe\">\n",
              "  <thead>\n",
              "    <tr style=\"text-align: right;\">\n",
              "      <th></th>\n",
              "      <th>FECHA_CORTE</th>\n",
              "      <th>FECHA</th>\n",
              "      <th>HORA</th>\n",
              "      <th>DEPARTAMENTO</th>\n",
              "      <th>CODIGO_VÍA</th>\n",
              "      <th>KILOMETRO</th>\n",
              "      <th>MODALIDAD</th>\n",
              "      <th>FALLECIDOS</th>\n",
              "      <th>HERIDOS</th>\n",
              "    </tr>\n",
              "  </thead>\n",
              "  <tbody>\n",
              "    <tr>\n",
              "      <th>0</th>\n",
              "      <td>20211222.0</td>\n",
              "      <td>2020-01-01</td>\n",
              "      <td>05:40</td>\n",
              "      <td>LIMA</td>\n",
              "      <td>PE-1S</td>\n",
              "      <td>24</td>\n",
              "      <td>DESPISTE</td>\n",
              "      <td>0.0</td>\n",
              "      <td>0.0</td>\n",
              "    </tr>\n",
              "    <tr>\n",
              "      <th>1</th>\n",
              "      <td>20211222.0</td>\n",
              "      <td>2020-01-01</td>\n",
              "      <td>16:30</td>\n",
              "      <td>CAJAMARCA</td>\n",
              "      <td>PE-3N</td>\n",
              "      <td>74</td>\n",
              "      <td>DESPISTE</td>\n",
              "      <td>0.0</td>\n",
              "      <td>0.0</td>\n",
              "    </tr>\n",
              "    <tr>\n",
              "      <th>2</th>\n",
              "      <td>20211222.0</td>\n",
              "      <td>2020-01-01</td>\n",
              "      <td>07:45</td>\n",
              "      <td>PASCO</td>\n",
              "      <td>PE-3N</td>\n",
              "      <td>103</td>\n",
              "      <td>DESPISTE</td>\n",
              "      <td>0.0</td>\n",
              "      <td>1.0</td>\n",
              "    </tr>\n",
              "    <tr>\n",
              "      <th>3</th>\n",
              "      <td>20211222.0</td>\n",
              "      <td>2020-01-01</td>\n",
              "      <td>18:30</td>\n",
              "      <td>CAJAMARCA</td>\n",
              "      <td>PE-08</td>\n",
              "      <td>111</td>\n",
              "      <td>DESPISTE</td>\n",
              "      <td>0.0</td>\n",
              "      <td>2.0</td>\n",
              "    </tr>\n",
              "    <tr>\n",
              "      <th>4</th>\n",
              "      <td>20211222.0</td>\n",
              "      <td>2020-01-01</td>\n",
              "      <td>18:40</td>\n",
              "      <td>LIMA</td>\n",
              "      <td>PE-1N</td>\n",
              "      <td>174</td>\n",
              "      <td>DESPISTE</td>\n",
              "      <td>0.0</td>\n",
              "      <td>5.0</td>\n",
              "    </tr>\n",
              "  </tbody>\n",
              "</table>\n",
              "</div>"
            ],
            "text/plain": [
              "   FECHA_CORTE      FECHA   HORA DEPARTAMENTO CODIGO_VÍA KILOMETRO MODALIDAD  \\\n",
              "0   20211222.0 2020-01-01  05:40         LIMA      PE-1S        24  DESPISTE   \n",
              "1   20211222.0 2020-01-01  16:30    CAJAMARCA      PE-3N        74  DESPISTE   \n",
              "2   20211222.0 2020-01-01  07:45        PASCO      PE-3N       103  DESPISTE   \n",
              "3   20211222.0 2020-01-01  18:30    CAJAMARCA      PE-08       111  DESPISTE   \n",
              "4   20211222.0 2020-01-01  18:40         LIMA      PE-1N       174  DESPISTE   \n",
              "\n",
              "   FALLECIDOS  HERIDOS  \n",
              "0         0.0      0.0  \n",
              "1         0.0      0.0  \n",
              "2         0.0      1.0  \n",
              "3         0.0      2.0  \n",
              "4         0.0      5.0  "
            ]
          },
          "execution_count": 103,
          "metadata": {},
          "output_type": "execute_result"
        }
      ],
      "source": [
        "data_t.head()"
      ]
    },
    {
      "cell_type": "code",
      "execution_count": 104,
      "metadata": {
        "colab": {
          "base_uri": "https://localhost:8080/"
        },
        "id": "_m_ifS9aXwfe",
        "outputId": "6b49eeb8-f59b-46e7-b7eb-da8b89d5e9ef"
      },
      "outputs": [
        {
          "data": {
            "text/plain": [
              "FECHA\n",
              "2021-08-01    36\n",
              "2021-05-28    30\n",
              "2020-02-09    29\n",
              "2021-02-25    28\n",
              "2021-08-30    28\n",
              "              ..\n",
              "2020-04-11     1\n",
              "2020-04-26     1\n",
              "2020-05-03     1\n",
              "2020-04-05     1\n",
              "2020-04-20     1\n",
              "Name: count, Length: 638, dtype: int64"
            ]
          },
          "execution_count": 104,
          "metadata": {},
          "output_type": "execute_result"
        }
      ],
      "source": [
        "data_t['FECHA'].value_counts()"
      ]
    },
    {
      "cell_type": "markdown",
      "metadata": {
        "id": "MOltU1f_aaT-"
      },
      "source": [
        "**Ahora que ya está en formato fecha podemos cambiar incluso a otros formatos**"
      ]
    },
    {
      "cell_type": "code",
      "execution_count": 105,
      "metadata": {
        "colab": {
          "base_uri": "https://localhost:8080/"
        },
        "id": "lRzPtIN1aaT-",
        "outputId": "53ccd155-1c6f-4355-ae0a-1205730b4935"
      },
      "outputs": [
        {
          "data": {
            "text/plain": [
              "0       01/01/2020\n",
              "1       01/01/2020\n",
              "2       01/01/2020\n",
              "3       01/01/2020\n",
              "4       01/01/2020\n",
              "           ...    \n",
              "8150    09/30/2021\n",
              "8151    09/30/2021\n",
              "8152    09/30/2021\n",
              "8153    09/30/2021\n",
              "8154    09/30/2021\n",
              "Name: FECHA, Length: 8155, dtype: object"
            ]
          },
          "execution_count": 105,
          "metadata": {},
          "output_type": "execute_result"
        }
      ],
      "source": [
        "data_t['FECHA'].dt.strftime('%m/%d/%Y')"
      ]
    },
    {
      "cell_type": "code",
      "execution_count": 106,
      "metadata": {
        "colab": {
          "base_uri": "https://localhost:8080/"
        },
        "id": "jmZPqQ_raaT-",
        "outputId": "3e0ef863-1e11-4066-d20c-e69dacc18b72"
      },
      "outputs": [
        {
          "data": {
            "text/plain": [
              "0       01-01-20\n",
              "1       01-01-20\n",
              "2       01-01-20\n",
              "3       01-01-20\n",
              "4       01-01-20\n",
              "          ...   \n",
              "8150    30-09-21\n",
              "8151    30-09-21\n",
              "8152    30-09-21\n",
              "8153    30-09-21\n",
              "8154    30-09-21\n",
              "Name: FECHA, Length: 8155, dtype: object"
            ]
          },
          "execution_count": 106,
          "metadata": {},
          "output_type": "execute_result"
        }
      ],
      "source": [
        "data_t['FECHA'].dt.strftime('%d-%m-%y')"
      ]
    },
    {
      "cell_type": "markdown",
      "metadata": {
        "id": "hLr6kwcRaaT-"
      },
      "source": [
        "**Extrayendo año, mes y fecha de una variable Datetime**"
      ]
    },
    {
      "cell_type": "code",
      "execution_count": 107,
      "metadata": {
        "colab": {
          "base_uri": "https://localhost:8080/"
        },
        "id": "TawW5CJEaaT-",
        "outputId": "82950583-d74b-4fca-fb21-ff56bc1bee66"
      },
      "outputs": [
        {
          "data": {
            "text/plain": [
              "0       2020.0\n",
              "1       2020.0\n",
              "2       2020.0\n",
              "3       2020.0\n",
              "4       2020.0\n",
              "         ...  \n",
              "8150    2021.0\n",
              "8151    2021.0\n",
              "8152    2021.0\n",
              "8153    2021.0\n",
              "8154    2021.0\n",
              "Name: FECHA, Length: 8155, dtype: float64"
            ]
          },
          "execution_count": 107,
          "metadata": {},
          "output_type": "execute_result"
        }
      ],
      "source": [
        "data_t['FECHA'].dt.year"
      ]
    },
    {
      "cell_type": "markdown",
      "metadata": {
        "id": "yE47GlNpaaT-"
      },
      "source": [
        "Creamos una columna adicional y la agregamos al dataset"
      ]
    },
    {
      "cell_type": "code",
      "execution_count": 108,
      "metadata": {
        "id": "YB5h8YxHaaT_"
      },
      "outputs": [],
      "source": [
        "data_t['year'] = data_t['FECHA'].dt.year"
      ]
    },
    {
      "cell_type": "code",
      "execution_count": 109,
      "metadata": {
        "colab": {
          "base_uri": "https://localhost:8080/"
        },
        "id": "mXhgMAKCYF8l",
        "outputId": "eb840c55-83c8-449c-d45f-b43ad136de7b"
      },
      "outputs": [
        {
          "data": {
            "text/plain": [
              "year\n",
              "2021.0    4145\n",
              "2020.0    3999\n",
              "Name: count, dtype: int64"
            ]
          },
          "execution_count": 109,
          "metadata": {},
          "output_type": "execute_result"
        }
      ],
      "source": [
        "data_t['year'].value_counts()"
      ]
    },
    {
      "cell_type": "code",
      "execution_count": 110,
      "metadata": {
        "colab": {
          "base_uri": "https://localhost:8080/",
          "height": 206
        },
        "id": "-xnazLlqZZ_a",
        "outputId": "6dceec3b-068e-4ce7-bb5b-778a9adb9cbd"
      },
      "outputs": [
        {
          "data": {
            "text/html": [
              "<div>\n",
              "<style scoped>\n",
              "    .dataframe tbody tr th:only-of-type {\n",
              "        vertical-align: middle;\n",
              "    }\n",
              "\n",
              "    .dataframe tbody tr th {\n",
              "        vertical-align: top;\n",
              "    }\n",
              "\n",
              "    .dataframe thead th {\n",
              "        text-align: right;\n",
              "    }\n",
              "</style>\n",
              "<table border=\"1\" class=\"dataframe\">\n",
              "  <thead>\n",
              "    <tr style=\"text-align: right;\">\n",
              "      <th></th>\n",
              "      <th>FECHA_CORTE</th>\n",
              "      <th>FECHA</th>\n",
              "      <th>HORA</th>\n",
              "      <th>DEPARTAMENTO</th>\n",
              "      <th>CODIGO_VÍA</th>\n",
              "      <th>KILOMETRO</th>\n",
              "      <th>MODALIDAD</th>\n",
              "      <th>FALLECIDOS</th>\n",
              "      <th>HERIDOS</th>\n",
              "      <th>year</th>\n",
              "    </tr>\n",
              "  </thead>\n",
              "  <tbody>\n",
              "    <tr>\n",
              "      <th>0</th>\n",
              "      <td>20211222.0</td>\n",
              "      <td>2020-01-01</td>\n",
              "      <td>05:40</td>\n",
              "      <td>LIMA</td>\n",
              "      <td>PE-1S</td>\n",
              "      <td>24</td>\n",
              "      <td>DESPISTE</td>\n",
              "      <td>0.0</td>\n",
              "      <td>0.0</td>\n",
              "      <td>2020.0</td>\n",
              "    </tr>\n",
              "    <tr>\n",
              "      <th>1</th>\n",
              "      <td>20211222.0</td>\n",
              "      <td>2020-01-01</td>\n",
              "      <td>16:30</td>\n",
              "      <td>CAJAMARCA</td>\n",
              "      <td>PE-3N</td>\n",
              "      <td>74</td>\n",
              "      <td>DESPISTE</td>\n",
              "      <td>0.0</td>\n",
              "      <td>0.0</td>\n",
              "      <td>2020.0</td>\n",
              "    </tr>\n",
              "    <tr>\n",
              "      <th>2</th>\n",
              "      <td>20211222.0</td>\n",
              "      <td>2020-01-01</td>\n",
              "      <td>07:45</td>\n",
              "      <td>PASCO</td>\n",
              "      <td>PE-3N</td>\n",
              "      <td>103</td>\n",
              "      <td>DESPISTE</td>\n",
              "      <td>0.0</td>\n",
              "      <td>1.0</td>\n",
              "      <td>2020.0</td>\n",
              "    </tr>\n",
              "    <tr>\n",
              "      <th>3</th>\n",
              "      <td>20211222.0</td>\n",
              "      <td>2020-01-01</td>\n",
              "      <td>18:30</td>\n",
              "      <td>CAJAMARCA</td>\n",
              "      <td>PE-08</td>\n",
              "      <td>111</td>\n",
              "      <td>DESPISTE</td>\n",
              "      <td>0.0</td>\n",
              "      <td>2.0</td>\n",
              "      <td>2020.0</td>\n",
              "    </tr>\n",
              "    <tr>\n",
              "      <th>4</th>\n",
              "      <td>20211222.0</td>\n",
              "      <td>2020-01-01</td>\n",
              "      <td>18:40</td>\n",
              "      <td>LIMA</td>\n",
              "      <td>PE-1N</td>\n",
              "      <td>174</td>\n",
              "      <td>DESPISTE</td>\n",
              "      <td>0.0</td>\n",
              "      <td>5.0</td>\n",
              "      <td>2020.0</td>\n",
              "    </tr>\n",
              "  </tbody>\n",
              "</table>\n",
              "</div>"
            ],
            "text/plain": [
              "   FECHA_CORTE      FECHA   HORA DEPARTAMENTO CODIGO_VÍA KILOMETRO MODALIDAD  \\\n",
              "0   20211222.0 2020-01-01  05:40         LIMA      PE-1S        24  DESPISTE   \n",
              "1   20211222.0 2020-01-01  16:30    CAJAMARCA      PE-3N        74  DESPISTE   \n",
              "2   20211222.0 2020-01-01  07:45        PASCO      PE-3N       103  DESPISTE   \n",
              "3   20211222.0 2020-01-01  18:30    CAJAMARCA      PE-08       111  DESPISTE   \n",
              "4   20211222.0 2020-01-01  18:40         LIMA      PE-1N       174  DESPISTE   \n",
              "\n",
              "   FALLECIDOS  HERIDOS    year  \n",
              "0         0.0      0.0  2020.0  \n",
              "1         0.0      0.0  2020.0  \n",
              "2         0.0      1.0  2020.0  \n",
              "3         0.0      2.0  2020.0  \n",
              "4         0.0      5.0  2020.0  "
            ]
          },
          "execution_count": 110,
          "metadata": {},
          "output_type": "execute_result"
        }
      ],
      "source": [
        "data_t.head()"
      ]
    },
    {
      "cell_type": "markdown",
      "metadata": {
        "id": "hY_74cFsaaT_"
      },
      "source": [
        "**Extraemos mes**"
      ]
    },
    {
      "cell_type": "code",
      "execution_count": 111,
      "metadata": {
        "colab": {
          "base_uri": "https://localhost:8080/"
        },
        "id": "NiswAWBkaaT_",
        "outputId": "0d7a10c2-c47e-4fe8-c194-86d7077a5077",
        "scrolled": true
      },
      "outputs": [
        {
          "data": {
            "text/plain": [
              "0       1.0\n",
              "1       1.0\n",
              "2       1.0\n",
              "3       1.0\n",
              "4       1.0\n",
              "       ... \n",
              "8150    9.0\n",
              "8151    9.0\n",
              "8152    9.0\n",
              "8153    9.0\n",
              "8154    9.0\n",
              "Name: FECHA, Length: 8155, dtype: float64"
            ]
          },
          "execution_count": 111,
          "metadata": {},
          "output_type": "execute_result"
        }
      ],
      "source": [
        "data_t['FECHA'].dt.month"
      ]
    },
    {
      "cell_type": "code",
      "execution_count": 112,
      "metadata": {
        "id": "othBpB1KaaT_"
      },
      "outputs": [],
      "source": [
        "data_t['month'] = data_t['FECHA'].dt.month"
      ]
    },
    {
      "cell_type": "markdown",
      "metadata": {
        "id": "uB5H7zjgaaT_"
      },
      "source": [
        "**Extraemos la variable día**"
      ]
    },
    {
      "cell_type": "code",
      "execution_count": 113,
      "metadata": {
        "id": "BjbZlnl8aaUA"
      },
      "outputs": [],
      "source": [
        "data_t['day'] = data_t['FECHA'].dt.day"
      ]
    },
    {
      "cell_type": "code",
      "execution_count": 114,
      "metadata": {
        "colab": {
          "base_uri": "https://localhost:8080/",
          "height": 424
        },
        "id": "eHuo2CYdaaUA",
        "outputId": "cca44d21-7c71-4c9c-db31-9f31118841f8"
      },
      "outputs": [
        {
          "data": {
            "text/html": [
              "<div>\n",
              "<style scoped>\n",
              "    .dataframe tbody tr th:only-of-type {\n",
              "        vertical-align: middle;\n",
              "    }\n",
              "\n",
              "    .dataframe tbody tr th {\n",
              "        vertical-align: top;\n",
              "    }\n",
              "\n",
              "    .dataframe thead th {\n",
              "        text-align: right;\n",
              "    }\n",
              "</style>\n",
              "<table border=\"1\" class=\"dataframe\">\n",
              "  <thead>\n",
              "    <tr style=\"text-align: right;\">\n",
              "      <th></th>\n",
              "      <th>FECHA_CORTE</th>\n",
              "      <th>FECHA</th>\n",
              "      <th>HORA</th>\n",
              "      <th>DEPARTAMENTO</th>\n",
              "      <th>CODIGO_VÍA</th>\n",
              "      <th>KILOMETRO</th>\n",
              "      <th>MODALIDAD</th>\n",
              "      <th>FALLECIDOS</th>\n",
              "      <th>HERIDOS</th>\n",
              "      <th>year</th>\n",
              "      <th>month</th>\n",
              "      <th>day</th>\n",
              "    </tr>\n",
              "  </thead>\n",
              "  <tbody>\n",
              "    <tr>\n",
              "      <th>0</th>\n",
              "      <td>20211222.0</td>\n",
              "      <td>2020-01-01</td>\n",
              "      <td>05:40</td>\n",
              "      <td>LIMA</td>\n",
              "      <td>PE-1S</td>\n",
              "      <td>24</td>\n",
              "      <td>DESPISTE</td>\n",
              "      <td>0.0</td>\n",
              "      <td>0.0</td>\n",
              "      <td>2020.0</td>\n",
              "      <td>1.0</td>\n",
              "      <td>1.0</td>\n",
              "    </tr>\n",
              "    <tr>\n",
              "      <th>1</th>\n",
              "      <td>20211222.0</td>\n",
              "      <td>2020-01-01</td>\n",
              "      <td>16:30</td>\n",
              "      <td>CAJAMARCA</td>\n",
              "      <td>PE-3N</td>\n",
              "      <td>74</td>\n",
              "      <td>DESPISTE</td>\n",
              "      <td>0.0</td>\n",
              "      <td>0.0</td>\n",
              "      <td>2020.0</td>\n",
              "      <td>1.0</td>\n",
              "      <td>1.0</td>\n",
              "    </tr>\n",
              "    <tr>\n",
              "      <th>2</th>\n",
              "      <td>20211222.0</td>\n",
              "      <td>2020-01-01</td>\n",
              "      <td>07:45</td>\n",
              "      <td>PASCO</td>\n",
              "      <td>PE-3N</td>\n",
              "      <td>103</td>\n",
              "      <td>DESPISTE</td>\n",
              "      <td>0.0</td>\n",
              "      <td>1.0</td>\n",
              "      <td>2020.0</td>\n",
              "      <td>1.0</td>\n",
              "      <td>1.0</td>\n",
              "    </tr>\n",
              "    <tr>\n",
              "      <th>3</th>\n",
              "      <td>20211222.0</td>\n",
              "      <td>2020-01-01</td>\n",
              "      <td>18:30</td>\n",
              "      <td>CAJAMARCA</td>\n",
              "      <td>PE-08</td>\n",
              "      <td>111</td>\n",
              "      <td>DESPISTE</td>\n",
              "      <td>0.0</td>\n",
              "      <td>2.0</td>\n",
              "      <td>2020.0</td>\n",
              "      <td>1.0</td>\n",
              "      <td>1.0</td>\n",
              "    </tr>\n",
              "    <tr>\n",
              "      <th>4</th>\n",
              "      <td>20211222.0</td>\n",
              "      <td>2020-01-01</td>\n",
              "      <td>18:40</td>\n",
              "      <td>LIMA</td>\n",
              "      <td>PE-1N</td>\n",
              "      <td>174</td>\n",
              "      <td>DESPISTE</td>\n",
              "      <td>0.0</td>\n",
              "      <td>5.0</td>\n",
              "      <td>2020.0</td>\n",
              "      <td>1.0</td>\n",
              "      <td>1.0</td>\n",
              "    </tr>\n",
              "    <tr>\n",
              "      <th>...</th>\n",
              "      <td>...</td>\n",
              "      <td>...</td>\n",
              "      <td>...</td>\n",
              "      <td>...</td>\n",
              "      <td>...</td>\n",
              "      <td>...</td>\n",
              "      <td>...</td>\n",
              "      <td>...</td>\n",
              "      <td>...</td>\n",
              "      <td>...</td>\n",
              "      <td>...</td>\n",
              "      <td>...</td>\n",
              "    </tr>\n",
              "    <tr>\n",
              "      <th>8150</th>\n",
              "      <td>20211222.0</td>\n",
              "      <td>2021-09-30</td>\n",
              "      <td>01:30</td>\n",
              "      <td>ANCASH</td>\n",
              "      <td>PE-1N</td>\n",
              "      <td>348</td>\n",
              "      <td>CHOQUE</td>\n",
              "      <td>0.0</td>\n",
              "      <td>0.0</td>\n",
              "      <td>2021.0</td>\n",
              "      <td>9.0</td>\n",
              "      <td>30.0</td>\n",
              "    </tr>\n",
              "    <tr>\n",
              "      <th>8151</th>\n",
              "      <td>20211222.0</td>\n",
              "      <td>2021-09-30</td>\n",
              "      <td>04:00</td>\n",
              "      <td>MADRE DE DIOS</td>\n",
              "      <td>PE-30C</td>\n",
              "      <td>417</td>\n",
              "      <td>CHOQUE</td>\n",
              "      <td>0.0</td>\n",
              "      <td>0.0</td>\n",
              "      <td>2021.0</td>\n",
              "      <td>9.0</td>\n",
              "      <td>30.0</td>\n",
              "    </tr>\n",
              "    <tr>\n",
              "      <th>8152</th>\n",
              "      <td>20211222.0</td>\n",
              "      <td>2021-09-30</td>\n",
              "      <td>15:10</td>\n",
              "      <td>LA LIBERTAD</td>\n",
              "      <td>PE-1N</td>\n",
              "      <td>627</td>\n",
              "      <td>CHOQUE</td>\n",
              "      <td>0.0</td>\n",
              "      <td>2.0</td>\n",
              "      <td>2021.0</td>\n",
              "      <td>9.0</td>\n",
              "      <td>30.0</td>\n",
              "    </tr>\n",
              "    <tr>\n",
              "      <th>8153</th>\n",
              "      <td>20211222.0</td>\n",
              "      <td>2021-09-30</td>\n",
              "      <td>02:50</td>\n",
              "      <td>LAMBAYEQUE</td>\n",
              "      <td>PE-1N</td>\n",
              "      <td>758</td>\n",
              "      <td>DESPISTE</td>\n",
              "      <td>0.0</td>\n",
              "      <td>0.0</td>\n",
              "      <td>2021.0</td>\n",
              "      <td>9.0</td>\n",
              "      <td>30.0</td>\n",
              "    </tr>\n",
              "    <tr>\n",
              "      <th>8154</th>\n",
              "      <td>20211222.0</td>\n",
              "      <td>2021-09-30</td>\n",
              "      <td>18:47</td>\n",
              "      <td>PUNO</td>\n",
              "      <td>PE-3S</td>\n",
              "      <td>1296</td>\n",
              "      <td>CHOQUE</td>\n",
              "      <td>1.0</td>\n",
              "      <td>0.0</td>\n",
              "      <td>2021.0</td>\n",
              "      <td>9.0</td>\n",
              "      <td>30.0</td>\n",
              "    </tr>\n",
              "  </tbody>\n",
              "</table>\n",
              "<p>8155 rows × 12 columns</p>\n",
              "</div>"
            ],
            "text/plain": [
              "      FECHA_CORTE      FECHA   HORA   DEPARTAMENTO CODIGO_VÍA KILOMETRO  \\\n",
              "0      20211222.0 2020-01-01  05:40           LIMA      PE-1S        24   \n",
              "1      20211222.0 2020-01-01  16:30      CAJAMARCA      PE-3N        74   \n",
              "2      20211222.0 2020-01-01  07:45          PASCO      PE-3N       103   \n",
              "3      20211222.0 2020-01-01  18:30      CAJAMARCA      PE-08       111   \n",
              "4      20211222.0 2020-01-01  18:40           LIMA      PE-1N       174   \n",
              "...           ...        ...    ...            ...        ...       ...   \n",
              "8150   20211222.0 2021-09-30  01:30         ANCASH      PE-1N       348   \n",
              "8151   20211222.0 2021-09-30  04:00  MADRE DE DIOS     PE-30C       417   \n",
              "8152   20211222.0 2021-09-30  15:10    LA LIBERTAD      PE-1N       627   \n",
              "8153   20211222.0 2021-09-30  02:50     LAMBAYEQUE      PE-1N       758   \n",
              "8154   20211222.0 2021-09-30  18:47           PUNO      PE-3S      1296   \n",
              "\n",
              "     MODALIDAD  FALLECIDOS  HERIDOS    year  month   day  \n",
              "0     DESPISTE         0.0      0.0  2020.0    1.0   1.0  \n",
              "1     DESPISTE         0.0      0.0  2020.0    1.0   1.0  \n",
              "2     DESPISTE         0.0      1.0  2020.0    1.0   1.0  \n",
              "3     DESPISTE         0.0      2.0  2020.0    1.0   1.0  \n",
              "4     DESPISTE         0.0      5.0  2020.0    1.0   1.0  \n",
              "...        ...         ...      ...     ...    ...   ...  \n",
              "8150    CHOQUE         0.0      0.0  2021.0    9.0  30.0  \n",
              "8151    CHOQUE         0.0      0.0  2021.0    9.0  30.0  \n",
              "8152    CHOQUE         0.0      2.0  2021.0    9.0  30.0  \n",
              "8153  DESPISTE         0.0      0.0  2021.0    9.0  30.0  \n",
              "8154    CHOQUE         1.0      0.0  2021.0    9.0  30.0  \n",
              "\n",
              "[8155 rows x 12 columns]"
            ]
          },
          "execution_count": 114,
          "metadata": {},
          "output_type": "execute_result"
        }
      ],
      "source": [
        "data_t"
      ]
    },
    {
      "cell_type": "code",
      "execution_count": 115,
      "metadata": {
        "colab": {
          "base_uri": "https://localhost:8080/",
          "height": 455
        },
        "id": "EjpDLIdYYV9z",
        "outputId": "e5584398-2e06-4144-9a43-56ab1d903e83"
      },
      "outputs": [
        {
          "data": {
            "text/html": [
              "<div>\n",
              "<style scoped>\n",
              "    .dataframe tbody tr th:only-of-type {\n",
              "        vertical-align: middle;\n",
              "    }\n",
              "\n",
              "    .dataframe tbody tr th {\n",
              "        vertical-align: top;\n",
              "    }\n",
              "\n",
              "    .dataframe thead th {\n",
              "        text-align: right;\n",
              "    }\n",
              "</style>\n",
              "<table border=\"1\" class=\"dataframe\">\n",
              "  <thead>\n",
              "    <tr style=\"text-align: right;\">\n",
              "      <th></th>\n",
              "      <th>MODALIDAD</th>\n",
              "    </tr>\n",
              "    <tr>\n",
              "      <th>FECHA</th>\n",
              "      <th></th>\n",
              "    </tr>\n",
              "  </thead>\n",
              "  <tbody>\n",
              "    <tr>\n",
              "      <th>2020-01-01</th>\n",
              "      <td>16</td>\n",
              "    </tr>\n",
              "    <tr>\n",
              "      <th>2020-01-02</th>\n",
              "      <td>22</td>\n",
              "    </tr>\n",
              "    <tr>\n",
              "      <th>2020-01-03</th>\n",
              "      <td>15</td>\n",
              "    </tr>\n",
              "    <tr>\n",
              "      <th>2020-01-04</th>\n",
              "      <td>14</td>\n",
              "    </tr>\n",
              "    <tr>\n",
              "      <th>2020-01-05</th>\n",
              "      <td>16</td>\n",
              "    </tr>\n",
              "    <tr>\n",
              "      <th>...</th>\n",
              "      <td>...</td>\n",
              "    </tr>\n",
              "    <tr>\n",
              "      <th>2021-09-26</th>\n",
              "      <td>15</td>\n",
              "    </tr>\n",
              "    <tr>\n",
              "      <th>2021-09-27</th>\n",
              "      <td>23</td>\n",
              "    </tr>\n",
              "    <tr>\n",
              "      <th>2021-09-28</th>\n",
              "      <td>9</td>\n",
              "    </tr>\n",
              "    <tr>\n",
              "      <th>2021-09-29</th>\n",
              "      <td>14</td>\n",
              "    </tr>\n",
              "    <tr>\n",
              "      <th>2021-09-30</th>\n",
              "      <td>17</td>\n",
              "    </tr>\n",
              "  </tbody>\n",
              "</table>\n",
              "<p>638 rows × 1 columns</p>\n",
              "</div>"
            ],
            "text/plain": [
              "            MODALIDAD\n",
              "FECHA                \n",
              "2020-01-01         16\n",
              "2020-01-02         22\n",
              "2020-01-03         15\n",
              "2020-01-04         14\n",
              "2020-01-05         16\n",
              "...               ...\n",
              "2021-09-26         15\n",
              "2021-09-27         23\n",
              "2021-09-28          9\n",
              "2021-09-29         14\n",
              "2021-09-30         17\n",
              "\n",
              "[638 rows x 1 columns]"
            ]
          },
          "execution_count": 115,
          "metadata": {},
          "output_type": "execute_result"
        }
      ],
      "source": [
        "data_t.groupby('FECHA').agg({'MODALIDAD':'count'})"
      ]
    },
    {
      "cell_type": "code",
      "execution_count": 116,
      "metadata": {
        "colab": {
          "base_uri": "https://localhost:8080/",
          "height": 451
        },
        "id": "QcG9S8b_YasX",
        "outputId": "20a984fb-448b-42fd-b42b-a7e29b0e45b4"
      },
      "outputs": [
        {
          "data": {
            "text/plain": [
              "<Axes: xlabel='FECHA'>"
            ]
          },
          "execution_count": 116,
          "metadata": {},
          "output_type": "execute_result"
        },
        {
          "data": {
            "image/png": "[encoded data removed]",
            "text/plain": [
              "<Figure size 640x480 with 1 Axes>"
            ]
          },
          "metadata": {},
          "output_type": "display_data"
        }
      ],
      "source": [
        "data_t.groupby('FECHA').agg({'DEPARTAMENTO':'count'}).plot()"
      ]
    },
    {
      "cell_type": "markdown",
      "metadata": {
        "id": "CC7xcRd0ZukG"
      },
      "source": [
        "* Referencias\n",
        "    * Practical Machine Learning Class  \n",
        "    * https://nbviewer.org/github/albahnsen/PracticalMachineLearningClass/blob/master/notebooks/02-IntroPython_Numpy_Scypy_Pandas.ipynb\n",
        "\n",
        "    * Data Science and Machine Learning: Making Data-Driven Decisions| MIT IDSS\n",
        "\n",
        "    * Pandas: Official Documentation\n",
        "    * https://pandas.pydata.org/"
      ]
    },
    {
      "cell_type": "code",
      "execution_count": null,
      "metadata": {},
      "outputs": [],
      "source": []
    }
  ],
  "metadata": {
    "colab": {
      "provenance": []
    },
    "kernelspec": {
      "display_name": "Python 3 (ipykernel)",
      "language": "python",
      "name": "python3"
    },
    "language_info": {
      "codemirror_mode": {
        "name": "ipython",
        "version": 3
      },
      "file_extension": ".py",
      "mimetype": "text/x-python",
      "name": "python",
      "nbconvert_exporter": "python",
      "pygments_lexer": "ipython3",
      "version": "3.11.7"
    }
  },
  "nbformat": 4,
  "nbformat_minor": 0
}
