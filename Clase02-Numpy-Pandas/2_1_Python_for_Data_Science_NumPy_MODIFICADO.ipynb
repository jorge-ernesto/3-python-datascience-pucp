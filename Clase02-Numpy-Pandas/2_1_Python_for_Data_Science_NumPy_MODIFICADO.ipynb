{
 "cells": [
  {
   "attachments": {},
   "cell_type": "markdown",
   "metadata": {},
   "source": [
    "# **Curso** : Python para Data Science\n",
    "\n",
    "**Sesión 02.1**\n",
    "Programación con Numpy y Pandas\n",
    "\n",
    "**Profesor**:\n",
    "* Ing. Cristhian Castro Chávez\n",
    "* castro.ca@pucp.pe"
   ]
  },
  {
   "cell_type": "code",
   "execution_count": 1,
   "metadata": {
    "id": "ynE9R19cPIMT"
   },
   "outputs": [],
   "source": [
    "# El primer paso es importar numpy y colocar un alias. Usaremos np\n",
    "import numpy as np"
   ]
  },
  {
   "attachments": {},
   "cell_type": "markdown",
   "metadata": {},
   "source": [
    "### Ventajas de Usar Numpy"
   ]
  },
  {
   "attachments": {},
   "cell_type": "markdown",
   "metadata": {},
   "source": [
    "Primero comprobaremos que al usar Numpy estamos acortando los tiempos de ejecución y haciendo más eficiente el uso de los recursos"
   ]
  },
  {
   "cell_type": "code",
   "execution_count": 2,
   "metadata": {},
   "outputs": [
    {
     "name": "stdout",
     "output_type": "stream",
     "text": [
      "Tiempo de ejecución para lista de Python: 0.3796532154083252\n",
      "Tiempo de ejecución para arreglo de NumPy: 0.0019941329956054688\n",
      "Tiempo de ejecución de la lista es 190.39 veces más usando listas\n"
     ]
    }
   ],
   "source": [
    "import time\n",
    "# Crear una lista de Python con un millón de elementos\n",
    "lista_python = list(range(10000000))\n",
    "\n",
    "# Crear un arreglo de NumPy con los mismos elementos\n",
    "arreglo_numpy = np.array(lista_python)\n",
    "\n",
    "# Medir el tiempo de ejecución para sumar todos los elementos en la lista de Python\n",
    "inicio = time.time()\n",
    "suma_lista = sum(lista_python)\n",
    "tiempo_lista = time.time() - inicio\n",
    "\n",
    "# Medir el tiempo de ejecución para sumar todos los elementos en el arreglo de NumPy\n",
    "inicio = time.time()\n",
    "suma_numpy = np.sum(arreglo_numpy)\n",
    "tiempo_numpy = time.time() - inicio\n",
    "\n",
    "print(\"Tiempo de ejecución para lista de Python:\", tiempo_lista)\n",
    "print(\"Tiempo de ejecución para arreglo de NumPy:\", tiempo_numpy)\n",
    "print(\"Tiempo de ejecución de la lista es {:.2f} veces más usando listas\".format(tiempo_lista/tiempo_numpy))"
   ]
  },
  {
   "attachments": {},
   "cell_type": "markdown",
   "metadata": {},
   "source": [
    "* **Vectorización**\n",
    "  * Vamos a crear 2 listas, cada una de 10,000 elementos y luego sumar elemento a elemento. Veremos que Numpy es mucho más eficiente."
   ]
  },
  {
   "cell_type": "code",
   "execution_count": 3,
   "metadata": {},
   "outputs": [
    {
     "name": "stdout",
     "output_type": "stream",
     "text": [
      "Tiempo de ejecución con NumPy: 0.000000 segundos\n"
     ]
    }
   ],
   "source": [
    "# Crear dos arreglos NumPy\n",
    "a = np.array(range(10000))\n",
    "b = np.array(range(10000, 20000))\n",
    "\n",
    "# Medir el tiempo de inicio\n",
    "inicio = time.time()\n",
    "\n",
    "# Realizar la suma de vectores usando vectorización\n",
    "resultado = a + b\n",
    "\n",
    "# Medir el tiempo de finalización\n",
    "fin = time.time()\n",
    "\n",
    "print(\"Tiempo de ejecución con NumPy: {:.6f} segundos\".format(fin - inicio))"
   ]
  },
  {
   "cell_type": "code",
   "execution_count": 4,
   "metadata": {},
   "outputs": [
    {
     "name": "stdout",
     "output_type": "stream",
     "text": [
      "Tiempo de ejecución sin NumPy: 0.009010 segundos\n"
     ]
    }
   ],
   "source": [
    "# Crear dos listas de Python\n",
    "a = list(range(10000))\n",
    "b = list(range(10000, 20000))\n",
    "\n",
    "# Medir el tiempo de inicio\n",
    "inicio = time.time()\n",
    "\n",
    "# Inicializar una lista vacía para el resultado\n",
    "resultado = []\n",
    "\n",
    "# Realizar la suma de listas sin NumPy utilizando bucles for\n",
    "for i in range(len(a)):\n",
    "    suma = a[i] + b[i]\n",
    "    resultado.append(suma)\n",
    "\n",
    "# Medir el tiempo de finalización\n",
    "fin = time.time()\n",
    "\n",
    "print(\"Tiempo de ejecución sin NumPy: {:.6f} segundos\".format(fin - inicio))"
   ]
  },
  {
   "cell_type": "code",
   "execution_count": 5,
   "metadata": {},
   "outputs": [
    {
     "data": {
      "text/plain": [
       "15.347826086956522"
      ]
     },
     "execution_count": 5,
     "metadata": {},
     "output_type": "execute_result"
    }
   ],
   "source": [
    "0.001412/0.000092"
   ]
  },
  {
   "cell_type": "code",
   "execution_count": 6,
   "metadata": {},
   "outputs": [
    {
     "name": "stdout",
     "output_type": "stream",
     "text": [
      "Resultado de la operación con broadcasting en NumPy:\n",
      "[[11 22 33]\n",
      " [41 52 63]\n",
      " [71 82 93]]\n"
     ]
    }
   ],
   "source": [
    "# Ejemplo de Broadcasting\n",
    "import numpy as np\n",
    "import time\n",
    "\n",
    "# Crear un vector NumPy\n",
    "vector = np.array([1, 2, 3])\n",
    "\n",
    "# Crear una matriz NumPy\n",
    "matriz = np.array([[10, 20, 30],\n",
    "                  [40, 50, 60],\n",
    "                  [70, 80, 90]])\n",
    "\n",
    "# Medir el tiempo de inicio\n",
    "inicio = time.time()\n",
    "\n",
    "# Realizar la operación de suma con broadcasting\n",
    "resultado = vector + matriz\n",
    "\n",
    "# Medir el tiempo de finalización\n",
    "fin = time.time()\n",
    "\n",
    "print(\"Resultado de la operación con broadcasting en NumPy:\")\n",
    "print(resultado)\n",
    "\n"
   ]
  },
  {
   "cell_type": "code",
   "execution_count": 7,
   "metadata": {},
   "outputs": [
    {
     "name": "stdout",
     "output_type": "stream",
     "text": [
      "Resultado de la operación sin broadcasting (sin NumPy):\n",
      "[11, 22, 33]\n",
      "[41, 52, 63]\n",
      "[71, 82, 93]\n"
     ]
    }
   ],
   "source": [
    "# Crear un vector como una lista de Python\n",
    "vector = [1, 2, 3]\n",
    "\n",
    "# Crear una matriz como una lista de listas en Python\n",
    "matriz = [[10, 20, 30],\n",
    "          [40, 50, 60],\n",
    "          [70, 80, 90]]\n",
    "\n",
    "# Inicializar una lista vacía para el resultado\n",
    "resultado = []\n",
    "\n",
    "# Realizar la operación de suma sin broadcasting\n",
    "for i in range(len(matriz)):\n",
    "    fila_resultado = []\n",
    "    for j in range(len(matriz[i])):\n",
    "        suma = vector[j] + matriz[i][j]\n",
    "        fila_resultado.append(suma)\n",
    "    resultado.append(fila_resultado)\n",
    "\n",
    "print(\"Resultado de la operación sin broadcasting (sin NumPy):\")\n",
    "for fila in resultado:\n",
    "    print(fila)\n",
    "\n"
   ]
  },
  {
   "attachments": {},
   "cell_type": "markdown",
   "metadata": {
    "id": "V7NoTi0kTGVz"
   },
   "source": [
    "### 2.1 NumPy Arrays y matrices"
   ]
  },
  {
   "attachments": {},
   "cell_type": "markdown",
   "metadata": {
    "id": "cYsQgeSWalcG"
   },
   "source": [
    "**NumPy Array**\n",
    "* Un arreglo es una estructura de datos que almacena valores del mismo tipo de datos.\n",
    "* Mientras que las listas en Python pueden contener valores correspondientes a diferentes tipos de datos, los arreglos en Python solo pueden contener valores del mismo tipo de datos.\n",
    "* Sin embargo, las listas de Python no logran ofrecer el rendimiento necesario al realizar cálculos con conjuntos de datos numéricos grandes. Para resolver este problema, utilizamos arreglos de NumPy.\n",
    "* Podemos crear arreglos de NumPy convirtiendo una lista en un arreglo.\n"
   ]
  },
  {
   "cell_type": "code",
   "execution_count": 8,
   "metadata": {
    "id": "-iMbhbKUS01I"
   },
   "outputs": [],
   "source": [
    "# Definimos una lista de strings y una lista de números\n",
    "arr_str = ['Mercedes', 'BMW', 'Audi', 'Ferrari', 'Tesla']\n",
    "\n",
    "arr_num = [5, 4, 6, 7, 3]"
   ]
  },
  {
   "cell_type": "code",
   "execution_count": 9,
   "metadata": {
    "colab": {
     "base_uri": "https://localhost:8080/"
    },
    "id": "z8kfV796S0xz",
    "outputId": "50939065-2bd9-4a17-b964-5eeaa316692e"
   },
   "outputs": [
    {
     "name": "stdout",
     "output_type": "stream",
     "text": [
      "Numpy Array (arr_str):  ['Mercedes' 'BMW' 'Audi' 'Ferrari' 'Tesla']\n",
      "Numpy Array (arr_num):  [5 4 6 7 3]\n"
     ]
    }
   ],
   "source": [
    "# Ahora convertimos cada una de las listas a un arregle de Numpy\n",
    "np_arr_str = np.array(arr_str)\n",
    "np_arr_num = np.array(arr_num)\n",
    "\n",
    "# Verificamos las salidas\n",
    "print('Numpy Array (arr_str): ',np_arr_str)\n",
    "print('Numpy Array (arr_num): ',np_arr_num)"
   ]
  },
  {
   "attachments": {},
   "cell_type": "markdown",
   "metadata": {
    "id": "fNUnCIRbS0vz"
   },
   "source": [
    "Los resultados se ven similares a una lista, pero arr_str y arr_num se han convertido en arreglos de NumPy. Verifiquemos el tipo de datos para confirmarlo."
   ]
  },
  {
   "cell_type": "code",
   "execution_count": 10,
   "metadata": {
    "colab": {
     "base_uri": "https://localhost:8080/"
    },
    "id": "Cc_-eibuS0sr",
    "outputId": "ebc63d17-983d-477e-910c-ee2ae37874d5"
   },
   "outputs": [
    {
     "name": "stdout",
     "output_type": "stream",
     "text": [
      "Data type of arr_str:  <class 'list'>\n",
      "Data type of arr_num:  <class 'list'>\n",
      "Data type of np_arr_str:  <class 'numpy.ndarray'>\n",
      "Data type of np_arr_num:  <class 'numpy.ndarray'>\n"
     ]
    }
   ],
   "source": [
    "# Imprimiendo el tipo de datos de las listas\n",
    "print('Data type of arr_str: ',type(arr_str))\n",
    "print('Data type of arr_num: ',type(arr_num))\n",
    "\n",
    "# Imprimiendo el tipo de datos de los arreglos numpy\n",
    "print('Data type of np_arr_str: ',type(np_arr_str))\n",
    "print('Data type of np_arr_num: ',type(np_arr_num))"
   ]
  },
  {
   "cell_type": "code",
   "execution_count": 11,
   "metadata": {},
   "outputs": [
    {
     "data": {
      "text/plain": [
       "array(['Mercedes', 'BMW', 'Audi', 'Ferrari', 'Tesla'], dtype='<U8')"
      ]
     },
     "execution_count": 11,
     "metadata": {},
     "output_type": "execute_result"
    }
   ],
   "source": [
    "# Algunas funciones básicas de arreglos\n",
    "np_arr_str"
   ]
  },
  {
   "cell_type": "code",
   "execution_count": 12,
   "metadata": {},
   "outputs": [
    {
     "data": {
      "text/plain": [
       "5"
      ]
     },
     "execution_count": 12,
     "metadata": {},
     "output_type": "execute_result"
    }
   ],
   "source": [
    "len(np_arr_str)"
   ]
  },
  {
   "cell_type": "code",
   "execution_count": 13,
   "metadata": {},
   "outputs": [
    {
     "data": {
      "text/plain": [
       "(5,)"
      ]
     },
     "execution_count": 13,
     "metadata": {},
     "output_type": "execute_result"
    }
   ],
   "source": [
    "np_arr_str.shape"
   ]
  },
  {
   "attachments": {},
   "cell_type": "markdown",
   "metadata": {
    "id": "vO-p9figS0qt"
   },
   "source": [
    "**NumPy Matrix**"
   ]
  },
  {
   "attachments": {},
   "cell_type": "markdown",
   "metadata": {
    "id": "63nVxGI-dEFn"
   },
   "source": [
    "* Una matriz es una estructura de datos bidimensional en la que los elementos se organizan en filas y columnas.\n",
    "* Una matriz se puede crear utilizando una lista de listas."
   ]
  },
  {
   "cell_type": "code",
   "execution_count": 14,
   "metadata": {
    "colab": {
     "base_uri": "https://localhost:8080/"
    },
    "id": "eHL0aPSOS0fT",
    "outputId": "132702a2-23e9-4d5a-f075-5f88c45cf9e8"
   },
   "outputs": [
    {
     "name": "stdout",
     "output_type": "stream",
     "text": [
      "[[1 2 1]\n",
      " [4 5 9]\n",
      " [1 8 9]]\n"
     ]
    }
   ],
   "source": [
    "# Digamos que tenemos información sobre diferentes números de cilindros en varios coches y queremos mostrarlos en un formato de matriz. \n",
    "matrix = np.array([[1,2,1],[4,5,9],[1,8,9]])\n",
    "print(matrix)"
   ]
  },
  {
   "cell_type": "code",
   "execution_count": 15,
   "metadata": {
    "colab": {
     "base_uri": "https://localhost:8080/"
    },
    "id": "1l5-7_3T2svj",
    "outputId": "4c2f6aea-50bd-472c-b25a-64474f2b4f19"
   },
   "outputs": [
    {
     "name": "stdout",
     "output_type": "stream",
     "text": [
      "Tipo de Dato de la matriz:  <class 'numpy.ndarray'>\n"
     ]
    }
   ],
   "source": [
    "print('Tipo de Dato de la matriz: ',type(matrix))"
   ]
  },
  {
   "attachments": {},
   "cell_type": "markdown",
   "metadata": {
    "id": "ic8DdniJAYi4"
   },
   "source": [
    "* Observamos que todos los objetos de NumPy tienen el tipo de dato \"ndarray\"."
   ]
  },
  {
   "attachments": {},
   "cell_type": "markdown",
   "metadata": {
    "id": "s_QCIWxNPywk"
   },
   "source": [
    "### 2.2 NumPy Functions"
   ]
  },
  {
   "attachments": {},
   "cell_type": "markdown",
   "metadata": {
    "id": "9ByN9uM8dIp9"
   },
   "source": [
    "**Hay diferentes formas de crear arreglos de NumPy utilizando las funciones disponibles en la biblioteca NumPy.**"
   ]
  },
  {
   "attachments": {},
   "cell_type": "markdown",
   "metadata": {
    "id": "mJD-BCvcdjQY"
   },
   "source": [
    "**Usando np.arange() function**\n",
    "* La función np.arange() devuelve un arreglo con elementos espaciados de manera uniforme según el intervalo. El intervalo mencionado es semiacotado, es decir, el inicio está incluido, pero el final está excluido.\n",
    "* Tiene los siguientes parámetros:\n",
    "    * start: inicio del intervalo. Por defecto, start = 0.\n",
    "    * stop: final del intervalo.\n",
    "    * step: tamaño del paso del intervalo. Por defecto, el tamaño del paso es 1."
   ]
  },
  {
   "cell_type": "code",
   "execution_count": 16,
   "metadata": {
    "colab": {
     "base_uri": "https://localhost:8080/"
    },
    "id": "h6yhwhCfdhrO",
    "outputId": "fda5860e-df9b-4d27-993e-e4c565e1566c"
   },
   "outputs": [
    {
     "name": "stdout",
     "output_type": "stream",
     "text": [
      "[0 1 2 3 4 5 6 7 8 9]\n",
      "[0 1 2 3 4 5 6 7 8 9]\n"
     ]
    }
   ],
   "source": [
    "arr2  = np.arange(start = 0, stop = 10) # 10 no se considera\n",
    "print(arr2)\n",
    "\n",
    "# o\n",
    "\n",
    "arr2  = np.arange(0,10) \n",
    "print(arr2)"
   ]
  },
  {
   "cell_type": "code",
   "execution_count": 17,
   "metadata": {
    "colab": {
     "base_uri": "https://localhost:8080/"
    },
    "id": "EBQxWv87gij1",
    "outputId": "6cf9a56a-44f9-4115-fa7c-ac04a972c8ae"
   },
   "outputs": [
    {
     "data": {
      "text/plain": [
       "array([ 0,  5, 10, 15])"
      ]
     },
     "execution_count": 17,
     "metadata": {},
     "output_type": "execute_result"
    }
   ],
   "source": [
    "# Agregando un tamaño de paso de 5 para crear un arreglo usando np.arrange\n",
    "arr3  = np.arange(start = 0, stop = 20, step = 5)\n",
    "arr3"
   ]
  },
  {
   "attachments": {},
   "cell_type": "markdown",
   "metadata": {
    "id": "fadu1DMxge1S"
   },
   "source": [
    "**Usando np.linspace()**\n",
    "* La función np.linspace() devuelve números que están distribuidos de manera uniforme con respecto al intervalo. En este caso, tanto el inicio como el final están incluidos.\n",
    "* Tiene los siguientes parámetros:\n",
    "    * start: inicio del intervalo. Por defecto, start = 0.\n",
    "    * stop: final del intervalo.\n",
    "    * num: número de muestras a generar. Por defecto, num = 50."
   ]
  },
  {
   "cell_type": "code",
   "execution_count": 18,
   "metadata": {
    "colab": {
     "base_uri": "https://localhost:8080/"
    },
    "id": "AvnueiSGdhb7",
    "outputId": "36fba42d-c65d-4bad-ef71-d61d63a8c1fe"
   },
   "outputs": [
    {
     "data": {
      "text/plain": [
       "array([0.        , 0.10204082, 0.20408163, 0.30612245, 0.40816327,\n",
       "       0.51020408, 0.6122449 , 0.71428571, 0.81632653, 0.91836735,\n",
       "       1.02040816, 1.12244898, 1.2244898 , 1.32653061, 1.42857143,\n",
       "       1.53061224, 1.63265306, 1.73469388, 1.83673469, 1.93877551,\n",
       "       2.04081633, 2.14285714, 2.24489796, 2.34693878, 2.44897959,\n",
       "       2.55102041, 2.65306122, 2.75510204, 2.85714286, 2.95918367,\n",
       "       3.06122449, 3.16326531, 3.26530612, 3.36734694, 3.46938776,\n",
       "       3.57142857, 3.67346939, 3.7755102 , 3.87755102, 3.97959184,\n",
       "       4.08163265, 4.18367347, 4.28571429, 4.3877551 , 4.48979592,\n",
       "       4.59183673, 4.69387755, 4.79591837, 4.89795918, 5.        ])"
      ]
     },
     "execution_count": 18,
     "metadata": {},
     "output_type": "execute_result"
    }
   ],
   "source": [
    "matrix2 = np.linspace(0,5) # Por defecto divide los datos en 50\n",
    "matrix2"
   ]
  },
  {
   "cell_type": "code",
   "execution_count": 19,
   "metadata": {
    "colab": {
     "base_uri": "https://localhost:8080/"
    },
    "id": "0VDGGmj2dhPp",
    "outputId": "cac9cc70-600a-4adf-e22e-434124aaf799"
   },
   "outputs": [
    {
     "data": {
      "text/plain": [
       "array([10.        , 11.11111111, 12.22222222, 13.33333333, 14.44444444,\n",
       "       15.55555556, 16.66666667, 17.77777778, 18.88888889, 20.        ])"
      ]
     },
     "execution_count": 19,
     "metadata": {},
     "output_type": "execute_result"
    }
   ],
   "source": [
    "#  Generando 10 valores equidistantes entre 10 y 20.\n",
    "matrix3 = np.linspace(10,20,10)\n",
    "matrix3"
   ]
  },
  {
   "attachments": {},
   "cell_type": "markdown",
   "metadata": {
    "id": "8Nxn51w2dhEE"
   },
   "source": [
    "**De manera similar, podemos crear matrices utilizando las funciones disponibles en la biblioteca NumPy.**"
   ]
  },
  {
   "attachments": {},
   "cell_type": "markdown",
   "metadata": {
    "id": "x9brl-h9dg2b"
   },
   "source": [
    "**Usando np.zeros()**\n",
    "\n",
    "* La función np.zeros() se utiliza para crear una matriz y realizar operaciones de matriz en NumPy.\n",
    "* Devuelve una matriz rellena con ceros del tamaño especificado.\n",
    "* Tiene los siguientes parámetros:\n",
    "  * shape: Número de filas y columnas en la matriz de salida.\n",
    "  * dtype: tipo de datos de los elementos en la matriz, de forma predeterminada el valor se establece en float (flotante)."
   ]
  },
  {
   "cell_type": "code",
   "execution_count": 20,
   "metadata": {
    "colab": {
     "base_uri": "https://localhost:8080/"
    },
    "id": "zcfKm8ENjNQv",
    "outputId": "4a8d5249-f458-4d18-cb09-54c306d313c6"
   },
   "outputs": [
    {
     "data": {
      "text/plain": [
       "array([[0., 0., 0., 0., 0.],\n",
       "       [0., 0., 0., 0., 0.],\n",
       "       [0., 0., 0., 0., 0.]])"
      ]
     },
     "execution_count": 20,
     "metadata": {},
     "output_type": "execute_result"
    }
   ],
   "source": [
    "matrix4 = np.zeros([3,5])\n",
    "matrix4"
   ]
  },
  {
   "attachments": {},
   "cell_type": "markdown",
   "metadata": {
    "id": "8jy4YykQjICK"
   },
   "source": [
    "**Usando np.ones()**\n",
    "\n",
    "* La función np.ones() es otra función para crear una matriz y realizar operaciones de matriz en NumPy.\n",
    "* Devuelve una matriz del tamaño y tipo especificados, rellena con unos.\n",
    "* Tiene los siguientes parámetros:\n",
    "  * shape: Número de filas y columnas en la matriz de salida.\n",
    "  * dtype: tipo de datos de los elementos en la matriz, de forma predeterminada el valor se establece en `float` (flotante)."
   ]
  },
  {
   "cell_type": "code",
   "execution_count": 21,
   "metadata": {
    "colab": {
     "base_uri": "https://localhost:8080/"
    },
    "id": "JJ-hv5dcjRN1",
    "outputId": "36153c38-6165-452a-a1ac-d38a31f07661"
   },
   "outputs": [
    {
     "data": {
      "text/plain": [
       "array([[1., 1., 1., 1., 1.],\n",
       "       [1., 1., 1., 1., 1.],\n",
       "       [1., 1., 1., 1., 1.]])"
      ]
     },
     "execution_count": 21,
     "metadata": {},
     "output_type": "execute_result"
    }
   ],
   "source": [
    "matrix5 = np.ones([3,5])\n",
    "matrix5"
   ]
  },
  {
   "attachments": {},
   "cell_type": "markdown",
   "metadata": {
    "id": "ge-0i4W2jH4S"
   },
   "source": [
    "**Usando np.eye()**\n",
    "* La función np.eye() se utiliza para crear una matriz y realizar operaciones de matriz en NumPy.\n",
    "* Devuelve una matriz con unos en la diagonal y ceros en las demás posiciones.\n",
    "* Tiene los siguientes parámetros:\n",
    "  * n: Número de filas y columnas en la matriz de salida.\n",
    "  * dtype: tipo de datos de los elementos en la matriz, de forma predeterminada el valor se establece en `float` (flotante)."
   ]
  },
  {
   "cell_type": "code",
   "execution_count": 22,
   "metadata": {
    "colab": {
     "base_uri": "https://localhost:8080/"
    },
    "id": "2a0_OXeWjHou",
    "outputId": "9830d274-756f-4a26-aa37-5dca29341c8b"
   },
   "outputs": [
    {
     "data": {
      "text/plain": [
       "array([[1., 0., 0., 0., 0.],\n",
       "       [0., 1., 0., 0., 0.],\n",
       "       [0., 0., 1., 0., 0.],\n",
       "       [0., 0., 0., 1., 0.],\n",
       "       [0., 0., 0., 0., 1.]])"
      ]
     },
     "execution_count": 22,
     "metadata": {},
     "output_type": "execute_result"
    }
   ],
   "source": [
    "matrix6 = np.eye(5)\n",
    "matrix6"
   ]
  },
  {
   "attachments": {},
   "cell_type": "markdown",
   "metadata": {
    "id": "DkJp6gB1dgHl"
   },
   "source": [
    "**También podemos convertir un arreglo unidimensional en una matriz. Esto se puede hacer utilizando la función np.reshape()**"
   ]
  },
  {
   "attachments": {},
   "cell_type": "markdown",
   "metadata": {
    "id": "ifxHtcyyuVsX"
   },
   "source": [
    "* La forma de un arreglo básicamente indica el número de elementos y las dimensiones del arreglo. Cambiar la forma de un arreglo de NumPy significa simplemente cambiar la forma del arreglo dado.\n",
    "* Al cambiar la forma de un arreglo, podemos agregar o eliminar dimensiones o cambiar el número de elementos en cada dimensión.\n",
    "* Para cambiar la forma de un arreglo de NumPy, utilizamos el método `reshape` con el arreglo dado.\n",
    "* **Sintaxis:** array.reshape(shape)\n",
    "  * shape: una tupla proporcionada como entrada, los valores en la tupla serán la nueva forma del arreglo."
   ]
  },
  {
   "cell_type": "code",
   "execution_count": 23,
   "metadata": {
    "colab": {
     "base_uri": "https://localhost:8080/"
    },
    "id": "iYbHCKdPk5hb",
    "outputId": "69eb5afb-0861-4b01-e98f-4419f3939f18"
   },
   "outputs": [
    {
     "data": {
      "text/plain": [
       "array([0, 1, 2, 3, 4, 5, 6, 7, 8, 9])"
      ]
     },
     "execution_count": 23,
     "metadata": {},
     "output_type": "execute_result"
    }
   ],
   "source": [
    "# Definimos un arreglo del 0 al 9\n",
    "arr4 = np.arange(0,10) \n",
    "arr4"
   ]
  },
  {
   "cell_type": "code",
   "execution_count": 24,
   "metadata": {
    "colab": {
     "base_uri": "https://localhost:8080/"
    },
    "id": "SE6wnu1MlbXv",
    "outputId": "6a5ed1f8-4bb9-459e-fb12-f38cd34eca1d"
   },
   "outputs": [
    {
     "data": {
      "text/plain": [
       "array([[0, 1, 2, 3, 4],\n",
       "       [5, 6, 7, 8, 9]])"
      ]
     },
     "execution_count": 24,
     "metadata": {},
     "output_type": "execute_result"
    }
   ],
   "source": [
    "# Cambiando la forma del arreglo arr4 a una matriz de 2 x 5.\n",
    "arr4_reshaped = arr4.reshape((2,5))\n",
    "arr4_reshaped"
   ]
  },
  {
   "cell_type": "code",
   "execution_count": 25,
   "metadata": {
    "colab": {
     "base_uri": "https://localhost:8080/"
    },
    "id": "KbuGcnPLFT2m",
    "outputId": "32b75568-94ac-423b-abf6-7476e614e7f4"
   },
   "outputs": [
    {
     "data": {
      "text/plain": [
       "array([0, 1, 2, 3, 4, 5, 6, 7, 8, 9])"
      ]
     },
     "execution_count": 25,
     "metadata": {},
     "output_type": "execute_result"
    }
   ],
   "source": [
    "arr4"
   ]
  },
  {
   "cell_type": "code",
   "execution_count": 26,
   "metadata": {
    "colab": {
     "base_uri": "https://localhost:8080/",
     "height": 183
    },
    "id": "HRqcE-TT_-dQ",
    "outputId": "5a1d0d35-93b0-4afd-899e-d30c7cf71074"
   },
   "outputs": [],
   "source": [
    "# y a una matriz de 2x6?\n",
    "# arr4.reshape((2,6))"
   ]
  },
  {
   "attachments": {},
   "cell_type": "markdown",
   "metadata": {
    "id": "7DGMoYswCocf"
   },
   "source": [
    "* Esto no funcionó porque tenemos 10 elementos que estamos intentando ajustar en una forma de 2 x 6, lo cual requeriría 12 elementos."
   ]
  },
  {
   "attachments": {},
   "cell_type": "markdown",
   "metadata": {
    "id": "lNd_TddVQtWI"
   },
   "source": [
    "**NumPy también puede realizar una gran cantidad de operaciones matemáticas diferentes y proporciona diferentes funciones para hacerlo.**\n",
    "\n",
    "NumPy proporciona:\n",
    "\n",
    "1. Funciones trigonométricas.\n",
    "2. Funciones exponenciales y logarítmicas.\n",
    "3. Funciones para operaciones aritméticas entre arreglos y matrices."
   ]
  },
  {
   "attachments": {},
   "cell_type": "markdown",
   "metadata": {
    "id": "CE9wPRdYn5IB"
   },
   "source": [
    "**Trigonometric functions**"
   ]
  },
  {
   "cell_type": "code",
   "execution_count": 27,
   "metadata": {
    "colab": {
     "base_uri": "https://localhost:8080/"
    },
    "id": "6iKAU71XQBXn",
    "outputId": "09199fcb-7f25-4042-8ce2-67d7850f40f4"
   },
   "outputs": [
    {
     "name": "stdout",
     "output_type": "stream",
     "text": [
      "Sine Function: -0.7568024953079282\n",
      "Cosine Function: -0.6536436208636119\n",
      "Tan Function 1.1578212823495777\n"
     ]
    }
   ],
   "source": [
    "print('Sine Function:',np.sin(4))\n",
    "print('Cosine Function:',np.cos(4))\n",
    "print('Tan Function',np.tan(4))"
   ]
  },
  {
   "attachments": {},
   "cell_type": "markdown",
   "metadata": {
    "id": "9QWy471mQEXT"
   },
   "source": [
    "**Exponentes y Logaritmos**"
   ]
  },
  {
   "cell_type": "code",
   "execution_count": 28,
   "metadata": {
    "colab": {
     "base_uri": "https://localhost:8080/"
    },
    "id": "aanbLXltoDgt",
    "outputId": "7ac751b7-9076-470b-eff1-80eeca56be42"
   },
   "outputs": [
    {
     "data": {
      "text/plain": [
       "7.38905609893065"
      ]
     },
     "execution_count": 28,
     "metadata": {},
     "output_type": "execute_result"
    }
   ],
   "source": [
    "np.exp(2)"
   ]
  },
  {
   "cell_type": "code",
   "execution_count": 29,
   "metadata": {
    "colab": {
     "base_uri": "https://localhost:8080/"
    },
    "id": "9VUfgN_oomI7",
    "outputId": "4af679a2-d011-4ad2-9f84-14a7ef086678"
   },
   "outputs": [
    {
     "data": {
      "text/plain": [
       "array([  7.3890561 ,  54.59815003, 403.42879349])"
      ]
     },
     "execution_count": 29,
     "metadata": {},
     "output_type": "execute_result"
    }
   ],
   "source": [
    "arr5 = np.array([2,4,6])\n",
    "np.exp(arr5)"
   ]
  },
  {
   "cell_type": "code",
   "execution_count": 30,
   "metadata": {
    "colab": {
     "base_uri": "https://localhost:8080/"
    },
    "id": "7V8RWfDipHOQ",
    "outputId": "40468f42-1de4-4d1d-c2cf-60c491d190f0"
   },
   "outputs": [
    {
     "data": {
      "text/plain": [
       "0.6931471805599453"
      ]
     },
     "execution_count": 30,
     "metadata": {},
     "output_type": "execute_result"
    }
   ],
   "source": [
    "# Por default toma el logaritmo base e\n",
    "np.log(2)"
   ]
  },
  {
   "cell_type": "code",
   "execution_count": 31,
   "metadata": {
    "colab": {
     "base_uri": "https://localhost:8080/"
    },
    "id": "CH5eCec2pJLo",
    "outputId": "ce25cb54-452f-4724-b61a-198bc2027cc2"
   },
   "outputs": [
    {
     "data": {
      "text/plain": [
       "array([0.69314718, 1.38629436, 1.79175947])"
      ]
     },
     "execution_count": 31,
     "metadata": {},
     "output_type": "execute_result"
    }
   ],
   "source": [
    "np.log(arr5)"
   ]
  },
  {
   "cell_type": "code",
   "execution_count": 32,
   "metadata": {
    "colab": {
     "base_uri": "https://localhost:8080/"
    },
    "id": "bgam8aXTpOVc",
    "outputId": "520df4df-adcf-4365-9725-1347e7656ebc"
   },
   "outputs": [
    {
     "data": {
      "text/plain": [
       "0.9030899869919435"
      ]
     },
     "execution_count": 32,
     "metadata": {},
     "output_type": "execute_result"
    }
   ],
   "source": [
    "## Para logaritmo con base 10 usar log10\n",
    "np.log10(8) "
   ]
  },
  {
   "attachments": {},
   "cell_type": "markdown",
   "metadata": {
    "id": "jDCujvq0pWZr"
   },
   "source": [
    "**Operaciones Aritméticas con Arreglos**"
   ]
  },
  {
   "cell_type": "code",
   "execution_count": 33,
   "metadata": {
    "colab": {
     "base_uri": "https://localhost:8080/"
    },
    "id": "SXFDL0TeKJZT",
    "outputId": "88bbcc2e-4963-4607-fab6-2a5edb899e08"
   },
   "outputs": [
    {
     "name": "stdout",
     "output_type": "stream",
     "text": [
      "[1, 2, 3, 4, 5, 6]\n"
     ]
    }
   ],
   "source": [
    "# Usando listas\n",
    "\n",
    "l1 = [1,2,3]\n",
    "l2 = [4,5,6]\n",
    "print(l1+l2)\n",
    "# Está correcto?\n"
   ]
  },
  {
   "cell_type": "code",
   "execution_count": 34,
   "metadata": {
    "colab": {
     "base_uri": "https://localhost:8080/"
    },
    "id": "MHZKZFP8ppQx",
    "outputId": "c2aacb8a-7ae1-40f3-9c76-25f8222247c4"
   },
   "outputs": [
    {
     "name": "stdout",
     "output_type": "stream",
     "text": [
      "arr7: [1 2 3 4 5]\n",
      "arr8: [3 4 5 6 7]\n"
     ]
    }
   ],
   "source": [
    "# Definimos 2 arreglos numpy\n",
    "\n",
    "arr7 = np.arange(1,6)\n",
    "print('arr7:', arr7)\n",
    "\n",
    "arr8 = np.arange(3,8)\n",
    "print('arr8:', arr8)"
   ]
  },
  {
   "cell_type": "code",
   "execution_count": 35,
   "metadata": {
    "colab": {
     "base_uri": "https://localhost:8080/"
    },
    "id": "xkMkQOL8rHOw",
    "outputId": "28d1dfd5-9dcc-43e3-e6ca-74af5cd26486"
   },
   "outputs": [
    {
     "name": "stdout",
     "output_type": "stream",
     "text": [
      "Addition:  [ 4  6  8 10 12]\n",
      "Subtraction:  [2 2 2 2 2]\n",
      "Multiplication: [ 3  8 15 24 35]\n",
      "Division: [0.33333333 0.5        0.6        0.66666667 0.71428571]\n",
      "Inverse: [1.         0.5        0.33333333 0.25       0.2       ]\n",
      "Powers: [    1    16   243  4096 78125]\n"
     ]
    }
   ],
   "source": [
    "print('Addition: ',arr7+arr8)\n",
    "print('Subtraction: ',arr8-arr7)\n",
    "print('Multiplication:' , arr7*arr8)\n",
    "print('Division:', arr7/arr8)\n",
    "print('Inverse:', 1/arr7)\n",
    "print('Powers:', arr7**arr8) # in python, powers are achieved using **, NOT ^!!! ^ does something completely different!"
   ]
  },
  {
   "attachments": {},
   "cell_type": "markdown",
   "metadata": {
    "id": "SrE8fcrFtt7c"
   },
   "source": [
    "**Operaciones con Matrices**"
   ]
  },
  {
   "cell_type": "code",
   "execution_count": 36,
   "metadata": {
    "colab": {
     "base_uri": "https://localhost:8080/"
    },
    "id": "p-lZfDhUrb2b",
    "outputId": "4d0618b6-0d12-4f61-cf5a-b967db9bbe4c"
   },
   "outputs": [
    {
     "name": "stdout",
     "output_type": "stream",
     "text": [
      "[[1 2 3]\n",
      " [4 5 6]\n",
      " [7 8 9]]\n",
      "[[1. 0. 0.]\n",
      " [0. 1. 0.]\n",
      " [0. 0. 1.]]\n"
     ]
    }
   ],
   "source": [
    "matrix7 = np.arange(1,10).reshape(3,3)\n",
    "print(matrix7)\n",
    "\n",
    "matrix8 = np.eye(3)\n",
    "print(matrix8)"
   ]
  },
  {
   "cell_type": "code",
   "execution_count": 37,
   "metadata": {
    "colab": {
     "base_uri": "https://localhost:8080/"
    },
    "id": "VGBAxsUUtyts",
    "outputId": "cd1b0dd5-1b4f-4815-8192-7ff4c22970f3"
   },
   "outputs": [
    {
     "name": "stdout",
     "output_type": "stream",
     "text": [
      "Addition: \n",
      " [[ 2.  2.  3.]\n",
      " [ 4.  6.  6.]\n",
      " [ 7.  8. 10.]]\n",
      "Subtraction: \n",
      "  [[0. 2. 3.]\n",
      " [4. 4. 6.]\n",
      " [7. 8. 8.]]\n",
      "Multiplication: \n",
      " [[1. 0. 0.]\n",
      " [0. 5. 0.]\n",
      " [0. 0. 9.]]\n",
      "Division: \n",
      " [[ 1. inf inf]\n",
      " [inf  5. inf]\n",
      " [inf inf  9.]]\n"
     ]
    },
    {
     "name": "stderr",
     "output_type": "stream",
     "text": [
      "C:\\Users\\Ernesto\\AppData\\Local\\Temp\\ipykernel_12960\\2604038799.py:4: RuntimeWarning: divide by zero encountered in divide\n",
      "  print('Division: \\n', matrix7/matrix8)\n"
     ]
    }
   ],
   "source": [
    "print('Addition: \\n', matrix7+matrix8)\n",
    "print('Subtraction: \\n ', matrix7-matrix8)\n",
    "print('Multiplication: \\n', matrix7*matrix8)\n",
    "print('Division: \\n', matrix7/matrix8)"
   ]
  },
  {
   "attachments": {},
   "cell_type": "markdown",
   "metadata": {
    "id": "c7jHF8Od6mHH"
   },
   "source": [
    "* RuntimeWarning: Los errores que ocurren durante la ejecución del programa (tiempo de ejecución) después de una compilación exitosa se llaman errores de tiempo de ejecución.\n",
    "* Uno de los errores de tiempo de ejecución más comunes es la división por cero, también conocida como error de división.\n",
    "* Debido al error de división por cero, obtenemos valores \"inf\" (infinito) porque 1/0 no es una operación definida."
   ]
  },
  {
   "attachments": {},
   "cell_type": "markdown",
   "metadata": {
    "id": "3WYcA-OxyL9Y"
   },
   "source": [
    "**Algebra Lineal: Multiplicación de matrices**"
   ]
  },
  {
   "cell_type": "code",
   "execution_count": 38,
   "metadata": {
    "colab": {
     "base_uri": "https://localhost:8080/"
    },
    "id": "nc0PAuG3sM6A",
    "outputId": "114bbac2-1d8a-4c8d-fd87-d5d077b9058c"
   },
   "outputs": [
    {
     "name": "stdout",
     "output_type": "stream",
     "text": [
      "First Matrix: \n",
      " [[1 2 3]\n",
      " [4 5 6]\n",
      " [7 8 9]]\n",
      "Second Matrix: \n",
      " [[11 12 13]\n",
      " [14 15 16]\n",
      " [17 18 19]]\n",
      "\n",
      "Multiplication: \n",
      " [[ 90  96 102]\n",
      " [216 231 246]\n",
      " [342 366 390]]\n"
     ]
    }
   ],
   "source": [
    "matrix9 = np.arange(1,10).reshape(3,3)\n",
    "print('First Matrix: \\n',matrix9)\n",
    "\n",
    "matrix10 = np.arange(11,20).reshape(3,3)\n",
    "print('Second Matrix: \\n',matrix10)\n",
    "print('')\n",
    "# Realizando la multiplicación de matrices en álgebra lineal (algunos pueden haberlo escuchado como el producto punto).\n",
    "print('Multiplication: \\n', matrix9 @ matrix10)"
   ]
  },
  {
   "attachments": {},
   "cell_type": "markdown",
   "metadata": {
    "id": "LQVkMw7Iynfu"
   },
   "source": [
    "**Transpuesta de una matriz**"
   ]
  },
  {
   "cell_type": "code",
   "execution_count": 39,
   "metadata": {
    "colab": {
     "base_uri": "https://localhost:8080/"
    },
    "id": "DJp3NtsrsSM4",
    "outputId": "f4a31d84-dba8-4d9a-c2f1-22500d08f49a"
   },
   "outputs": [
    {
     "name": "stdout",
     "output_type": "stream",
     "text": [
      "[[1 2 3]\n",
      " [4 5 6]\n",
      " [7 8 9]]\n"
     ]
    }
   ],
   "source": [
    "print(matrix9)"
   ]
  },
  {
   "cell_type": "code",
   "execution_count": 40,
   "metadata": {
    "colab": {
     "base_uri": "https://localhost:8080/"
    },
    "id": "MDKJgUlptKet",
    "outputId": "02f933fe-5d15-4d9d-cbaf-f8128df10709"
   },
   "outputs": [
    {
     "data": {
      "text/plain": [
       "array([[1, 4, 7],\n",
       "       [2, 5, 8],\n",
       "       [3, 6, 9]])"
      ]
     },
     "execution_count": 40,
     "metadata": {},
     "output_type": "execute_result"
    }
   ],
   "source": [
    "# Transpuesta de una matriz\n",
    "np.transpose(matrix9)"
   ]
  },
  {
   "cell_type": "code",
   "execution_count": 41,
   "metadata": {
    "colab": {
     "base_uri": "https://localhost:8080/"
    },
    "id": "PwwpvruatMRj",
    "outputId": "c7e89f4b-1226-4664-c0a0-27793f54d1cc"
   },
   "outputs": [
    {
     "data": {
      "text/plain": [
       "array([[1, 4, 7],\n",
       "       [2, 5, 8],\n",
       "       [3, 6, 9]])"
      ]
     },
     "execution_count": 41,
     "metadata": {},
     "output_type": "execute_result"
    }
   ],
   "source": [
    "# Otra forma de calcular la transpuesta\n",
    "matrix9.T"
   ]
  },
  {
   "attachments": {},
   "cell_type": "markdown",
   "metadata": {
    "id": "YSl_vQk70bCS"
   },
   "source": [
    "**Función para encontrar los valores mínimo y máximo.**"
   ]
  },
  {
   "cell_type": "code",
   "execution_count": 42,
   "metadata": {
    "colab": {
     "base_uri": "https://localhost:8080/"
    },
    "id": "TmPZB7tu0a2c",
    "outputId": "d1829f3f-bcdc-4e7d-f162-7048d1bc7a8f"
   },
   "outputs": [
    {
     "name": "stdout",
     "output_type": "stream",
     "text": [
      "[[1 2 3]\n",
      " [4 5 6]\n",
      " [7 8 9]]\n"
     ]
    }
   ],
   "source": [
    "print(matrix9)"
   ]
  },
  {
   "cell_type": "code",
   "execution_count": 43,
   "metadata": {
    "colab": {
     "base_uri": "https://localhost:8080/"
    },
    "id": "394LL_BZ0alr",
    "outputId": "d941df07-08d5-41a8-e37b-deab1b4647e6"
   },
   "outputs": [
    {
     "name": "stdout",
     "output_type": "stream",
     "text": [
      "Minimum value:  1\n"
     ]
    }
   ],
   "source": [
    "print('Minimum value: ',np.min(matrix9))"
   ]
  },
  {
   "cell_type": "code",
   "execution_count": 44,
   "metadata": {
    "colab": {
     "base_uri": "https://localhost:8080/"
    },
    "id": "SVs2Zx0J0ac3",
    "outputId": "06454e1d-c4e5-4ecf-e9cf-755f93b56990"
   },
   "outputs": [
    {
     "name": "stdout",
     "output_type": "stream",
     "text": [
      "Maximum value:  9\n"
     ]
    }
   ],
   "source": [
    "print('Maximum value: ',np.max(matrix9))"
   ]
  },
  {
   "attachments": {},
   "cell_type": "markdown",
   "metadata": {
    "id": "7NNtvTmh0aRf"
   },
   "source": [
    "**Función para generar números aleatorios**"
   ]
  },
  {
   "attachments": {},
   "cell_type": "markdown",
   "metadata": {
    "id": "XO47Cq8L3Gb3"
   },
   "source": [
    "**Uso de la función np.random.rand**\n",
    "\n",
    "* La función `np.random.rand` devuelve un array NumPy aleatorio cuyos elementos se eligen al azar de la distribución uniforme en el intervalo [0, 1) (incluyendo 0 pero excluyendo 1).\n",
    "* **Sintaxis** - `np.random.rand(d0, d1)`\n",
    "  * `d0, d1` - Representan las dimensiones del array requerido, proporcionadas como enteros, donde `d1` es opcional."
   ]
  },
  {
   "cell_type": "code",
   "execution_count": 45,
   "metadata": {
    "colab": {
     "base_uri": "https://localhost:8080/"
    },
    "id": "Neq3fBGH4N7F",
    "outputId": "2f6b4a8b-dcc1-4c90-defe-1a84854ea3f9"
   },
   "outputs": [
    {
     "name": "stdout",
     "output_type": "stream",
     "text": [
      "[0.15314403 0.31791698 0.51227576 0.23277469 0.55670911]\n"
     ]
    }
   ],
   "source": [
    "# Generando números aleatorios en un array\n",
    "rand_mat = np.random.rand(5)\n",
    "print(rand_mat)"
   ]
  },
  {
   "cell_type": "code",
   "execution_count": 46,
   "metadata": {
    "colab": {
     "base_uri": "https://localhost:8080/"
    },
    "id": "QQHFrAce1570",
    "outputId": "e03aad3b-e7be-4b72-e9b3-e578f183f6d3"
   },
   "outputs": [
    {
     "name": "stdout",
     "output_type": "stream",
     "text": [
      "[[0.86186909 0.22858681 0.86835797 0.72683499 0.86571493]\n",
      " [0.1552034  0.38092764 0.32533019 0.5004106  0.8605954 ]\n",
      " [0.4102231  0.30730164 0.28625757 0.8869423  0.87580547]\n",
      " [0.45983699 0.71331195 0.00217086 0.53688766 0.98524001]\n",
      " [0.63333601 0.26481904 0.99506198 0.66135192 0.53074913]]\n"
     ]
    }
   ],
   "source": [
    "# * Generando números aleatorios en una matriz\n",
    "rand_mat = np.random.rand(5,5) # uniform random variable\n",
    "print(rand_mat)"
   ]
  },
  {
   "attachments": {},
   "cell_type": "markdown",
   "metadata": {
    "id": "VvvK-7Sh3PfD"
   },
   "source": [
    "**Uso de la función np.random.randn**\n",
    "\n",
    "* La función `np.random.randn` devuelve un array NumPy aleatorio cuyas muestras se seleccionan al azar de la distribución normal estándar (con media 0 y desviación estándar 1).\n",
    "\n",
    "* **Sintaxis** - `np.random.randn(d0, d1)`\n",
    "  * `d0, d1` - Representan las dimensiones de la salida, donde `d1` es opcional."
   ]
  },
  {
   "cell_type": "code",
   "execution_count": 47,
   "metadata": {
    "colab": {
     "base_uri": "https://localhost:8080/"
    },
    "id": "Ll_boKdQ4Y-b",
    "outputId": "d0c6a31c-b66a-47e8-ab1a-af3b829066ae"
   },
   "outputs": [
    {
     "name": "stdout",
     "output_type": "stream",
     "text": [
      "[-0.76377038 -0.44239951 -1.08951882 -0.51527037 -0.66530594]\n"
     ]
    }
   ],
   "source": [
    "# Generando números aleatorios en un array\n",
    "rand_mat2 = np.random.randn(5) \n",
    "print(rand_mat2)"
   ]
  },
  {
   "cell_type": "code",
   "execution_count": 48,
   "metadata": {
    "colab": {
     "base_uri": "https://localhost:8080/"
    },
    "id": "1jaiT-oZ2CyD",
    "outputId": "ead08d0e-f194-4631-aeaa-e90dcc245c8e"
   },
   "outputs": [
    {
     "name": "stdout",
     "output_type": "stream",
     "text": [
      "[[-1.17582012  1.79510676 -1.24660656  0.76825143 -0.98106155]\n",
      " [ 0.69247655  1.63191984 -0.45217404 -0.12564154 -0.48420054]\n",
      " [-1.04980817 -0.46809229  0.10901215 -0.44768411  0.13272616]\n",
      " [-0.3202806  -1.67797264  0.32843783  1.46899947  1.67672065]\n",
      " [ 0.30818983 -1.08571292 -1.67211761  0.8165275   1.01120811]]\n"
     ]
    }
   ],
   "source": [
    "# Generando números aleatorios en una matriz\n",
    "rand_mat2 = np.random.randn(5,5) \n",
    "print(rand_mat2)"
   ]
  },
  {
   "cell_type": "code",
   "execution_count": 49,
   "metadata": {
    "colab": {
     "base_uri": "https://localhost:8080/"
    },
    "id": "TldcCrOS5ulV",
    "outputId": "754c72ad-7f9b-459d-9640-72eba1e5a46f"
   },
   "outputs": [
    {
     "name": "stdout",
     "output_type": "stream",
     "text": [
      "Mean: -0.017903857101101702\n",
      "Standard Deviation: 1.0316310207993895\n"
     ]
    }
   ],
   "source": [
    "# Revisemos el promedio y std\n",
    "print('Mean:',np.mean(rand_mat2))\n",
    "print('Standard Deviation:',np.std(rand_mat2))"
   ]
  },
  {
   "attachments": {},
   "cell_type": "markdown",
   "metadata": {
    "id": "66BnHAPW6Ere"
   },
   "source": [
    "*  Observamos que la media es muy cercana a 0 y la desviación estándar es muy cercana a 1."
   ]
  },
  {
   "attachments": {},
   "cell_type": "markdown",
   "metadata": {
    "id": "T_0yFxGh3U2D"
   },
   "source": [
    "**Uso de la función np.random.randint**\n",
    "\n",
    "* La función `np.random.randint` devuelve un array NumPy aleatorio cuyos elementos se eligen al azar desde el límite inferior (inclusive) hasta el límite superior (exclusivo).\n",
    "\n",
    "* **Sintaxis** - `np.random.randint(low, high, size)`\n",
    "  * `low` - Representa el límite inferior inclusivo de la distribución desde donde se pueden extraer las muestras.\n",
    "  * `high` - Representa el límite superior exclusivo de la distribución desde donde se pueden extraer las muestras.\n",
    "  * `size` - Representa la forma de la salida."
   ]
  },
  {
   "cell_type": "code",
   "execution_count": 50,
   "metadata": {
    "colab": {
     "base_uri": "https://localhost:8080/"
    },
    "id": "vLPM7a0N2EHA",
    "outputId": "212b2ad7-46cb-4e30-f1cd-4d559db99fcb"
   },
   "outputs": [
    {
     "name": "stdout",
     "output_type": "stream",
     "text": [
      "[3 3 1 2 3 1 3 3 2 4]\n"
     ]
    }
   ],
   "source": [
    "\n",
    "rand_mat3 = np.random.randint(1,5,10)\n",
    "print(rand_mat3)"
   ]
  },
  {
   "cell_type": "code",
   "execution_count": 51,
   "metadata": {
    "colab": {
     "base_uri": "https://localhost:8080/"
    },
    "id": "u9YqKltk486n",
    "outputId": "772fdcf1-1dcb-4fd7-f738-3324285b6ff3"
   },
   "outputs": [
    {
     "name": "stdout",
     "output_type": "stream",
     "text": [
      "[[4 1 5 1 6]\n",
      " [3 4 7 6 3]\n",
      " [1 6 5 5 3]\n",
      " [7 3 2 8 2]\n",
      " [1 6 1 4 2]]\n"
     ]
    }
   ],
   "source": [
    "\n",
    "rand_mat3 = np.random.randint(1,10,[5,5])\n",
    "print(rand_mat3)"
   ]
  },
  {
   "attachments": {},
   "cell_type": "markdown",
   "metadata": {
    "id": "J-K_ecWJ6M6n"
   },
   "source": [
    "### 2.3 Accediento a elementos de una matriz"
   ]
  },
  {
   "cell_type": "code",
   "execution_count": 52,
   "metadata": {
    "colab": {
     "base_uri": "https://localhost:8080/"
    },
    "id": "4Tiy6KJw3a5A",
    "outputId": "40debad6-e1cc-4c14-dce4-c69453246dea"
   },
   "outputs": [
    {
     "name": "stdout",
     "output_type": "stream",
     "text": [
      "[-1.87990908 -0.3258443  -0.97962143 -1.05761564  0.39730543  1.59953742\n",
      " -1.12288894 -1.71288525  1.74055154 -0.96202936]\n"
     ]
    }
   ],
   "source": [
    "# Generemos una matriz con 10 valores aleatorios\n",
    "rand_arr = np.random.randn(10)\n",
    "print(rand_arr)"
   ]
  },
  {
   "attachments": {},
   "cell_type": "markdown",
   "metadata": {
    "id": "gJlNtFKwaZUv"
   },
   "source": [
    "* Accedemos a 1 elemento"
   ]
  },
  {
   "cell_type": "code",
   "execution_count": 53,
   "metadata": {
    "colab": {
     "base_uri": "https://localhost:8080/"
    },
    "id": "PtSqbI-Y3awc",
    "outputId": "af3f7205-de8c-49b9-b3dd-a976a5ef4e4c"
   },
   "outputs": [
    {
     "name": "stdout",
     "output_type": "stream",
     "text": [
      "-1.1228889430667006\n"
     ]
    }
   ],
   "source": [
    "\n",
    "print(rand_arr[6])"
   ]
  },
  {
   "attachments": {},
   "cell_type": "markdown",
   "metadata": {
    "id": "Ywt2eQx-aZUv"
   },
   "source": [
    "* Accedemos a múltiples elementos"
   ]
  },
  {
   "cell_type": "code",
   "execution_count": 54,
   "metadata": {
    "colab": {
     "base_uri": "https://localhost:8080/"
    },
    "id": "HZ8Yb_3h3amG",
    "outputId": "750954eb-c35c-45ab-8d97-758702a865e6"
   },
   "outputs": [
    {
     "name": "stdout",
     "output_type": "stream",
     "text": [
      "[ 0.39730543  1.59953742 -1.12288894 -1.71288525  1.74055154]\n"
     ]
    }
   ],
   "source": [
    "\n",
    "print(rand_arr[4:9])"
   ]
  },
  {
   "cell_type": "code",
   "execution_count": 55,
   "metadata": {
    "colab": {
     "base_uri": "https://localhost:8080/"
    },
    "id": "pNcRsFbK3aZP",
    "outputId": "c253f8c1-bba7-40cc-d54c-86863c6e8798"
   },
   "outputs": [
    {
     "name": "stdout",
     "output_type": "stream",
     "text": [
      "Index de los valores a acceder:  [3 6 9]\n",
      "[-1.05761564 -1.12288894 -0.96202936]\n"
     ]
    }
   ],
   "source": [
    "# Accedemos a posiciones no consecutivas\n",
    "print('Index de los valores a acceder: ',np.arange(3,10,3))\n",
    "print(rand_arr[np.arange(3,10,3)])"
   ]
  },
  {
   "attachments": {},
   "cell_type": "markdown",
   "metadata": {
    "id": "m0_dOkPKc7bL"
   },
   "source": [
    "**Accedemos usando operaciones lógicas**"
   ]
  },
  {
   "cell_type": "code",
   "execution_count": 56,
   "metadata": {
    "colab": {
     "base_uri": "https://localhost:8080/"
    },
    "id": "_8v77EwOcwPM",
    "outputId": "c89f7bdb-ccd0-4a69-d914-2c754c93c6ec"
   },
   "outputs": [
    {
     "name": "stdout",
     "output_type": "stream",
     "text": [
      "[-1.87990908 -0.3258443  -0.97962143 -1.05761564  0.39730543  1.59953742\n",
      " -1.12288894 -1.71288525  1.74055154 -0.96202936]\n"
     ]
    }
   ],
   "source": [
    "print(rand_arr)"
   ]
  },
  {
   "cell_type": "code",
   "execution_count": 57,
   "metadata": {
    "colab": {
     "base_uri": "https://localhost:8080/"
    },
    "id": "u7QvbkGfc_Mf",
    "outputId": "e8d20b7e-19a9-4128-982c-787e19412c1a"
   },
   "outputs": [
    {
     "data": {
      "text/plain": [
       "array([False, False, False, False,  True,  True, False, False,  True,\n",
       "       False])"
      ]
     },
     "execution_count": 57,
     "metadata": {},
     "output_type": "execute_result"
    }
   ],
   "source": [
    "rand_arr>0"
   ]
  },
  {
   "cell_type": "code",
   "execution_count": 58,
   "metadata": {
    "colab": {
     "base_uri": "https://localhost:8080/"
    },
    "id": "PwjFRjDiczAS",
    "outputId": "a41c1aa0-7fef-4053-f243-7b8df7eed3d1"
   },
   "outputs": [
    {
     "name": "stdout",
     "output_type": "stream",
     "text": [
      "Valores mayores a 0:  [0.39730543 1.59953742 1.74055154]\n",
      "Valores menores a 0:  [-1.87990908 -0.3258443  -0.97962143 -1.05761564 -1.12288894 -1.71288525\n",
      " -0.96202936]\n"
     ]
    }
   ],
   "source": [
    "# Accedemos a todos los valores > 0\n",
    "print('Valores mayores a 0: ',rand_arr[rand_arr>0])\n",
    "\n",
    "# y a los < 0\n",
    "print('Valores menores a 0: ',rand_arr[rand_arr<0])"
   ]
  },
  {
   "attachments": {},
   "cell_type": "markdown",
   "metadata": {
    "id": "9j2nb_lX3aKJ"
   },
   "source": [
    "**Accessing the entries of a Matrix**"
   ]
  },
  {
   "cell_type": "code",
   "execution_count": 59,
   "metadata": {
    "colab": {
     "base_uri": "https://localhost:8080/"
    },
    "id": "rUT3MtuX3Z-o",
    "outputId": "2d5844c9-f29e-487d-f599-510db9ccce66"
   },
   "outputs": [
    {
     "name": "stdout",
     "output_type": "stream",
     "text": [
      "[[ 1.98659635  1.78813554  0.04087429 -0.58319949 -1.01644516]\n",
      " [-0.84504293  1.0070403   0.67482207  1.1700702  -1.06113947]\n",
      " [ 0.12728503  0.53842096 -1.10577325 -0.30721029 -0.8053553 ]\n",
      " [ 0.71429124  0.60640819 -0.65751922 -0.54432523  1.19462595]\n",
      " [-0.4895056   0.56412377  0.41419721  0.12376167 -0.46527208]]\n"
     ]
    }
   ],
   "source": [
    "# Generemos una matriz con números aleatorios\n",
    "rand_mat = np.random.randn(5,5)\n",
    "print(rand_mat)"
   ]
  },
  {
   "cell_type": "code",
   "execution_count": 60,
   "metadata": {
    "colab": {
     "base_uri": "https://localhost:8080/"
    },
    "id": "aH5KNWYJ8AAi",
    "outputId": "95dddd73-7b44-441f-f1ca-9ef4bdbe517f"
   },
   "outputs": [
    {
     "data": {
      "text/plain": [
       "array([-0.84504293,  1.0070403 ,  0.67482207,  1.1700702 , -1.06113947])"
      ]
     },
     "execution_count": 60,
     "metadata": {},
     "output_type": "execute_result"
    }
   ],
   "source": [
    "# Accedemos a la segunda fila de la matriz\n",
    "rand_mat[1]"
   ]
  },
  {
   "cell_type": "code",
   "execution_count": 61,
   "metadata": {
    "colab": {
     "base_uri": "https://localhost:8080/"
    },
    "id": "cKPauEeS3Zya",
    "outputId": "87ba94bb-f7ea-41f9-ee96-94bb03582dbd"
   },
   "outputs": [
    {
     "name": "stdout",
     "output_type": "stream",
     "text": [
      "0.6748220721345156\n",
      "0.6748220721345156\n"
     ]
    }
   ],
   "source": [
    "# Accedemos al tercer elemento del vector\n",
    "print(rand_mat[1][2])\n",
    "\n",
    "#o también\n",
    "\n",
    "print(rand_mat[1,2])"
   ]
  },
  {
   "cell_type": "code",
   "execution_count": 62,
   "metadata": {
    "colab": {
     "base_uri": "https://localhost:8080/"
    },
    "id": "md90xMiX3ZhX",
    "outputId": "d9b022f4-9775-4033-ce20-de29677fffc1"
   },
   "outputs": [
    {
     "name": "stdout",
     "output_type": "stream",
     "text": [
      "[[1.78813554 0.04087429]\n",
      " [1.0070403  0.67482207]]\n"
     ]
    }
   ],
   "source": [
    "# Accedemos a las primeras 2 filas y las columnas 1 y 2\n",
    "print(rand_mat[0:2,1:3])"
   ]
  },
  {
   "attachments": {},
   "cell_type": "markdown",
   "metadata": {
    "id": "ZQIPaCTxdTkx"
   },
   "source": [
    "**Accediento matrices usando operaciones lógicas**"
   ]
  },
  {
   "cell_type": "code",
   "execution_count": 63,
   "metadata": {
    "colab": {
     "base_uri": "https://localhost:8080/"
    },
    "id": "FPWAgqcMdTkx",
    "outputId": "22130ab2-c84a-48b3-dd19-2ce235cb1bb8"
   },
   "outputs": [
    {
     "name": "stdout",
     "output_type": "stream",
     "text": [
      "[[ 1.98659635  1.78813554  0.04087429 -0.58319949 -1.01644516]\n",
      " [-0.84504293  1.0070403   0.67482207  1.1700702  -1.06113947]\n",
      " [ 0.12728503  0.53842096 -1.10577325 -0.30721029 -0.8053553 ]\n",
      " [ 0.71429124  0.60640819 -0.65751922 -0.54432523  1.19462595]\n",
      " [-0.4895056   0.56412377  0.41419721  0.12376167 -0.46527208]]\n"
     ]
    }
   ],
   "source": [
    "print(rand_mat)"
   ]
  },
  {
   "cell_type": "code",
   "execution_count": 64,
   "metadata": {
    "colab": {
     "base_uri": "https://localhost:8080/"
    },
    "id": "5pBwxeo_dTky",
    "outputId": "ba0e5fe5-db2b-4f98-d6b6-125f8516c493"
   },
   "outputs": [
    {
     "name": "stdout",
     "output_type": "stream",
     "text": [
      "Valores mayores a 0: \n",
      "  [1.98659635 1.78813554 0.04087429 1.0070403  0.67482207 1.1700702\n",
      " 0.12728503 0.53842096 0.71429124 0.60640819 1.19462595 0.56412377\n",
      " 0.41419721 0.12376167]\n",
      "--------------------\n",
      "Valores menores a 0: \n",
      " [-0.58319949 -1.01644516 -0.84504293 -1.06113947 -1.10577325 -0.30721029\n",
      " -0.8053553  -0.65751922 -0.54432523 -0.4895056  -0.46527208]\n"
     ]
    }
   ],
   "source": [
    "# Todos los valores >0\n",
    "print('Valores mayores a 0: \\n ',rand_mat[rand_mat>0])\n",
    "\n",
    "print('--------------------')\n",
    "# Todos los valores < 0\n",
    "print('Valores menores a 0: \\n',rand_mat[rand_mat<0])"
   ]
  },
  {
   "cell_type": "code",
   "execution_count": 65,
   "metadata": {},
   "outputs": [
    {
     "data": {
      "text/plain": [
       "array([1.98659635, 1.78813554, 0.04087429, 1.0070403 , 0.67482207,\n",
       "       1.1700702 , 0.12728503, 0.53842096, 0.71429124, 0.60640819,\n",
       "       1.19462595, 0.56412377, 0.41419721, 0.12376167])"
      ]
     },
     "execution_count": 65,
     "metadata": {},
     "output_type": "execute_result"
    }
   ],
   "source": [
    "rand_mat[rand_mat>0]"
   ]
  },
  {
   "attachments": {},
   "cell_type": "markdown",
   "metadata": {
    "id": "Rbc_yo5T8mmS"
   },
   "source": [
    "**Modificando elementos de un array**"
   ]
  },
  {
   "cell_type": "code",
   "execution_count": 66,
   "metadata": {
    "colab": {
     "base_uri": "https://localhost:8080/"
    },
    "id": "2P57NUFJ8mMA",
    "outputId": "4c6f5d19-95d7-4ccc-ff28-fe76e18228d7"
   },
   "outputs": [
    {
     "name": "stdout",
     "output_type": "stream",
     "text": [
      "[-1.87990908 -0.3258443  -0.97962143 -1.05761564  0.39730543  1.59953742\n",
      " -1.12288894 -1.71288525  1.74055154 -0.96202936]\n"
     ]
    }
   ],
   "source": [
    "print(rand_arr)"
   ]
  },
  {
   "cell_type": "code",
   "execution_count": 67,
   "metadata": {
    "colab": {
     "base_uri": "https://localhost:8080/"
    },
    "id": "5dTfDf2d-DF7",
    "outputId": "c9f149ef-4463-401e-cb3d-fd6df3f1c404"
   },
   "outputs": [
    {
     "name": "stdout",
     "output_type": "stream",
     "text": [
      "[-1.87990908 -0.3258443  -0.97962143  5.          5.          1.59953742\n",
      " -1.12288894 -1.71288525  1.74055154 -0.96202936]\n"
     ]
    }
   ],
   "source": [
    "# Cambiemos algunos valores!\n",
    "rand_arr[3:5] = 5\n",
    "print(rand_arr)"
   ]
  },
  {
   "cell_type": "code",
   "execution_count": 68,
   "metadata": {
    "colab": {
     "base_uri": "https://localhost:8080/"
    },
    "id": "dC1yVJLT-H9H",
    "outputId": "cac466b1-e851-46d3-d939-e8071ad058e7"
   },
   "outputs": [
    {
     "name": "stdout",
     "output_type": "stream",
     "text": [
      "[ 2.          3.         -0.97962143  5.          5.          1.59953742\n",
      " -1.12288894 -1.71288525  1.74055154 -0.96202936]\n"
     ]
    }
   ],
   "source": [
    "# Cambiamos los elementos de índice 0 a 2 y 3 respectivamente\n",
    "rand_arr[0:2] = [2,3]\n",
    "print(rand_arr)"
   ]
  },
  {
   "cell_type": "code",
   "execution_count": 69,
   "metadata": {
    "colab": {
     "base_uri": "https://localhost:8080/"
    },
    "id": "wT3ishttMugE",
    "outputId": "0201c43a-03b1-489b-ff70-dae97a8c0557"
   },
   "outputs": [
    {
     "data": {
      "text/plain": [
       "array([65.        , 65.        , -0.97962143, 65.        , 65.        ,\n",
       "       65.        , -1.12288894, -1.71288525, 65.        , -0.96202936])"
      ]
     },
     "execution_count": 69,
     "metadata": {},
     "output_type": "execute_result"
    }
   ],
   "source": [
    "# Modificamos valores usando operaciones lógicas\n",
    "rand_arr[rand_arr>0] = 65\n",
    "rand_arr"
   ]
  },
  {
   "attachments": {},
   "cell_type": "markdown",
   "metadata": {
    "id": "lhoMit_Da8F4"
   },
   "source": [
    "**Modificamos elementos de una matriz**"
   ]
  },
  {
   "cell_type": "code",
   "execution_count": 70,
   "metadata": {
    "colab": {
     "base_uri": "https://localhost:8080/"
    },
    "id": "fJ02uz8obsqC",
    "outputId": "235baae0-f38e-4a43-9f8e-5e422b8973b7"
   },
   "outputs": [
    {
     "name": "stdout",
     "output_type": "stream",
     "text": [
      "[[4 1 5 1 6]\n",
      " [3 4 7 6 3]\n",
      " [1 6 5 5 3]\n",
      " [7 3 2 8 2]\n",
      " [1 6 1 4 2]]\n"
     ]
    }
   ],
   "source": [
    "print(rand_mat3)"
   ]
  },
  {
   "cell_type": "code",
   "execution_count": 71,
   "metadata": {
    "colab": {
     "base_uri": "https://localhost:8080/"
    },
    "id": "dVNbm4oKNtkr",
    "outputId": "40ac65ce-41bd-4bc3-bc61-0ce7abad83c1"
   },
   "outputs": [
    {
     "name": "stdout",
     "output_type": "stream",
     "text": [
      "Matriz antes de la modificación: \n",
      " [[4 1 5 1 6]\n",
      " [3 4 7 6 3]\n",
      " [1 6 5 5 3]\n",
      " [7 3 2 8 2]\n",
      " [1 6 1 4 2]]\n",
      "Matriz luego de la modificación: \n",
      " [[4 1 5 1 6]\n",
      " [3 4 7 0 0]\n",
      " [1 6 5 0 0]\n",
      " [7 3 2 8 2]\n",
      " [1 6 1 4 2]]\n"
     ]
    }
   ],
   "source": [
    "print('Matriz antes de la modificación: \\n',rand_mat3)\n",
    "rand_mat3[1:3,3:5] = 0\n",
    "print('Matriz luego de la modificación: \\n',rand_mat3)"
   ]
  },
  {
   "cell_type": "code",
   "execution_count": 72,
   "metadata": {
    "colab": {
     "base_uri": "https://localhost:8080/"
    },
    "id": "uP3butowNtvp",
    "outputId": "3d35ab10-b02c-4d68-b62d-5cb6f870fc6a"
   },
   "outputs": [
    {
     "name": "stdout",
     "output_type": "stream",
     "text": [
      "[[4 1 5]\n",
      " [3 4 7]]\n"
     ]
    }
   ],
   "source": [
    "# Extrayendo las 2 primeras filas y 3 primeros columnas de la matriz\n",
    "sub_mat = rand_mat3[0:2,0:3]\n",
    "print(sub_mat)"
   ]
  },
  {
   "cell_type": "code",
   "execution_count": 73,
   "metadata": {
    "colab": {
     "base_uri": "https://localhost:8080/"
    },
    "id": "3DgctOvENt14",
    "outputId": "a467bb0d-8290-4f93-d50c-3a23c634d70c"
   },
   "outputs": [
    {
     "name": "stdout",
     "output_type": "stream",
     "text": [
      "[[3 3 3]\n",
      " [3 3 3]]\n"
     ]
    }
   ],
   "source": [
    "# Cambiamos todos los valores de sub_mat a 3\n",
    "sub_mat[:] = 3\n",
    "print(sub_mat)"
   ]
  },
  {
   "cell_type": "code",
   "execution_count": 74,
   "metadata": {
    "colab": {
     "base_uri": "https://localhost:8080/"
    },
    "id": "hskgV9vG9lxx",
    "outputId": "ec90a56c-2f27-485e-e7b4-ef3a82b942a2"
   },
   "outputs": [
    {
     "data": {
      "text/plain": [
       "array([[3, 3, 3, 1, 6],\n",
       "       [3, 3, 3, 0, 0],\n",
       "       [1, 6, 5, 0, 0],\n",
       "       [7, 3, 2, 8, 2],\n",
       "       [1, 6, 1, 4, 2]])"
      ]
     },
     "execution_count": 74,
     "metadata": {},
     "output_type": "execute_result"
    }
   ],
   "source": [
    "# ¿Qué pasó con la matriz original luego que modificamos sub_mat?\n",
    "rand_mat3"
   ]
  },
  {
   "cell_type": "code",
   "execution_count": 75,
   "metadata": {
    "colab": {
     "base_uri": "https://localhost:8080/"
    },
    "id": "PryCb2h29sHx",
    "outputId": "e1fdf33d-7740-4cf8-e99b-9d985643ef81"
   },
   "outputs": [
    {
     "name": "stdout",
     "output_type": "stream",
     "text": [
      "[[-0.02029742  2.37061309 -1.35766056  0.38907797  1.03177374]\n",
      " [ 0.39223399 -0.4356676   0.54101601 -2.79656868  0.42015158]\n",
      " [-0.664329    0.49315142 -0.69875025 -1.33504682  1.83933608]\n",
      " [-1.11102434  0.51004024  0.31801407 -0.12350775 -0.79307851]\n",
      " [ 0.45658298  1.52372861  1.54802715 -0.61333745 -1.1338948 ]]\n",
      "----------------------\n",
      "[[3. 3. 3.]\n",
      " [3. 3. 3.]]\n",
      "----------------------\n",
      "[[-0.02029742  2.37061309 -1.35766056  0.38907797  1.03177374]\n",
      " [ 0.39223399 -0.4356676   0.54101601 -2.79656868  0.42015158]\n",
      " [-0.664329    0.49315142 -0.69875025 -1.33504682  1.83933608]\n",
      " [-1.11102434  0.51004024  0.31801407 -0.12350775 -0.79307851]\n",
      " [ 0.45658298  1.52372861  1.54802715 -0.61333745 -1.1338948 ]]\n"
     ]
    }
   ],
   "source": [
    "#Para prevenir este comportamiento, debemos usar el método `.copy()` al asignar `sub_mat`.\n",
    "rand_mat = np.random.randn(5,5)\n",
    "print(rand_mat)\n",
    "print('----------------------')\n",
    "sub_mat = rand_mat[0:2,0:3].copy()\n",
    "sub_mat[:] = 3\n",
    "print(sub_mat)\n",
    "print('----------------------')\n",
    "print(rand_mat)"
   ]
  },
  {
   "attachments": {},
   "cell_type": "markdown",
   "metadata": {},
   "source": [
    "* Referencias\n",
    "    * Practical Machine Learning Class  \n",
    "    * https://nbviewer.org/github/albahnsen/PracticalMachineLearningClass/blob/master/notebooks/02-IntroPython_Numpy_Scypy_Pandas.ipynb\n",
    "\n",
    "    * Data Science and Machine Learning: Making Data-Driven Decisions| MIT IDSS\n",
    "\n",
    "    * Numpy: Official Documentation\n",
    "    * https://numpy.org/"
   ]
  },
  {
   "cell_type": "code",
   "execution_count": null,
   "metadata": {},
   "outputs": [],
   "source": []
  }
 ],
 "metadata": {
  "colab": {
   "collapsed_sections": [],
   "name": "Hands-on Notebook-NumPy.ipynb",
   "provenance": []
  },
  "kernelspec": {
   "display_name": "Python 3 (ipykernel)",
   "language": "python",
   "name": "python3"
  },
  "language_info": {
   "codemirror_mode": {
    "name": "ipython",
    "version": 3
   },
   "file_extension": ".py",
   "mimetype": "text/x-python",
   "name": "python",
   "nbconvert_exporter": "python",
   "pygments_lexer": "ipython3",
   "version": "3.11.7"
  }
 },
 "nbformat": 4,
 "nbformat_minor": 1
}
