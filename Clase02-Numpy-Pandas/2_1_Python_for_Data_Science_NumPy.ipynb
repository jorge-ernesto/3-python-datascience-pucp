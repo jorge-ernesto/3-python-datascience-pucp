{
 "cells": [
  {
   "attachments": {},
   "cell_type": "markdown",
   "metadata": {},
   "source": [
    "# **Curso** : Python para Data Science\n",
    "\n",
    "**Sesión 02.1**\n",
    "Programación con Numpy y Pandas\n",
    "\n",
    "**Profesor**:\n",
    "* Ing. Cristhian Castro Chávez\n",
    "* castro.ca@pucp.pe"
   ]
  },
  {
   "cell_type": "code",
   "execution_count": null,
   "metadata": {
    "id": "ynE9R19cPIMT"
   },
   "outputs": [],
   "source": [
    "# El primer paso es importar numpy y colocar un alias. Usaremos np\n",
    "import numpy as np"
   ]
  },
  {
   "attachments": {},
   "cell_type": "markdown",
   "metadata": {},
   "source": [
    "### Ventajas de Usar Numpy"
   ]
  },
  {
   "attachments": {},
   "cell_type": "markdown",
   "metadata": {},
   "source": [
    "Primero comprobaremos que al usar Numpy estamos acortando los tiempos de ejecución y haciendo más eficiente el uso de los recursos"
   ]
  },
  {
   "cell_type": "code",
   "execution_count": null,
   "metadata": {},
   "outputs": [],
   "source": [
    "import time\n",
    "# Crear una lista de Python con un millón de elementos\n",
    "lista_python = list(range(10000000))\n",
    "\n",
    "# Crear un arreglo de NumPy con los mismos elementos\n",
    "arreglo_numpy = np.array(lista_python)\n",
    "\n",
    "# Medir el tiempo de ejecución para sumar todos los elementos en la lista de Python\n",
    "inicio = time.time()\n",
    "suma_lista = sum(lista_python)\n",
    "tiempo_lista = time.time() - inicio\n",
    "\n",
    "# Medir el tiempo de ejecución para sumar todos los elementos en el arreglo de NumPy\n",
    "inicio = time.time()\n",
    "suma_numpy = np.sum(arreglo_numpy)\n",
    "tiempo_numpy = time.time() - inicio\n",
    "\n",
    "print(\"Tiempo de ejecución para lista de Python:\", tiempo_lista)\n",
    "print(\"Tiempo de ejecución para arreglo de NumPy:\", tiempo_numpy)\n",
    "print(\"Tiempo de ejecución de la lista es {:.2f} veces más usando listas\".format(tiempo_lista/tiempo_numpy))"
   ]
  },
  {
   "attachments": {},
   "cell_type": "markdown",
   "metadata": {},
   "source": [
    "* **Vectorización**\n",
    "  * Vamos a crear 2 listas, cada una de 10,000 elementos y luego sumar elemento a elemento. Veremos que Numpy es mucho más eficiente."
   ]
  },
  {
   "cell_type": "code",
   "execution_count": null,
   "metadata": {},
   "outputs": [],
   "source": [
    "# Crear dos arreglos NumPy\n",
    "a = np.array(range(10000))\n",
    "b = np.array(range(10000, 20000))\n",
    "\n",
    "# Medir el tiempo de inicio\n",
    "inicio = time.time()\n",
    "\n",
    "# Realizar la suma de vectores usando vectorización\n",
    "resultado = a + b\n",
    "\n",
    "# Medir el tiempo de finalización\n",
    "fin = time.time()\n",
    "\n",
    "print(\"Tiempo de ejecución con NumPy: {:.6f} segundos\".format(fin - inicio))"
   ]
  },
  {
   "cell_type": "code",
   "execution_count": null,
   "metadata": {},
   "outputs": [],
   "source": [
    "# Crear dos listas de Python\n",
    "a = list(range(10000))\n",
    "b = list(range(10000, 20000))\n",
    "\n",
    "# Medir el tiempo de inicio\n",
    "inicio = time.time()\n",
    "\n",
    "# Inicializar una lista vacía para el resultado\n",
    "resultado = []\n",
    "\n",
    "# Realizar la suma de listas sin NumPy utilizando bucles for\n",
    "for i in range(len(a)):\n",
    "    suma = a[i] + b[i]\n",
    "    resultado.append(suma)\n",
    "\n",
    "# Medir el tiempo de finalización\n",
    "fin = time.time()\n",
    "\n",
    "print(\"Tiempo de ejecución sin NumPy: {:.6f} segundos\".format(fin - inicio))"
   ]
  },
  {
   "cell_type": "code",
   "execution_count": null,
   "metadata": {},
   "outputs": [],
   "source": [
    "0.001412/0.000092"
   ]
  },
  {
   "cell_type": "code",
   "execution_count": null,
   "metadata": {},
   "outputs": [],
   "source": [
    "# Ejemplo de Broadcasting\n",
    "import numpy as np\n",
    "import time\n",
    "\n",
    "# Crear un vector NumPy\n",
    "vector = np.array([1, 2, 3])\n",
    "\n",
    "# Crear una matriz NumPy\n",
    "matriz = np.array([[10, 20, 30],\n",
    "                  [40, 50, 60],\n",
    "                  [70, 80, 90]])\n",
    "\n",
    "# Medir el tiempo de inicio\n",
    "inicio = time.time()\n",
    "\n",
    "# Realizar la operación de suma con broadcasting\n",
    "resultado = vector + matriz\n",
    "\n",
    "# Medir el tiempo de finalización\n",
    "fin = time.time()\n",
    "\n",
    "print(\"Resultado de la operación con broadcasting en NumPy:\")\n",
    "print(resultado)\n",
    "\n"
   ]
  },
  {
   "cell_type": "code",
   "execution_count": null,
   "metadata": {},
   "outputs": [],
   "source": [
    "# Crear un vector como una lista de Python\n",
    "vector = [1, 2, 3]\n",
    "\n",
    "# Crear una matriz como una lista de listas en Python\n",
    "matriz = [[10, 20, 30],\n",
    "          [40, 50, 60],\n",
    "          [70, 80, 90]]\n",
    "\n",
    "# Inicializar una lista vacía para el resultado\n",
    "resultado = []\n",
    "\n",
    "# Realizar la operación de suma sin broadcasting\n",
    "for i in range(len(matriz)):\n",
    "    fila_resultado = []\n",
    "    for j in range(len(matriz[i])):\n",
    "        suma = vector[j] + matriz[i][j]\n",
    "        fila_resultado.append(suma)\n",
    "    resultado.append(fila_resultado)\n",
    "\n",
    "print(\"Resultado de la operación sin broadcasting (sin NumPy):\")\n",
    "for fila in resultado:\n",
    "    print(fila)\n",
    "\n"
   ]
  },
  {
   "attachments": {},
   "cell_type": "markdown",
   "metadata": {
    "id": "V7NoTi0kTGVz"
   },
   "source": [
    "### 2.1 NumPy Arrays y matrices"
   ]
  },
  {
   "attachments": {},
   "cell_type": "markdown",
   "metadata": {
    "id": "cYsQgeSWalcG"
   },
   "source": [
    "**NumPy Array**\n",
    "* Un arreglo es una estructura de datos que almacena valores del mismo tipo de datos.\n",
    "* Mientras que las listas en Python pueden contener valores correspondientes a diferentes tipos de datos, los arreglos en Python solo pueden contener valores del mismo tipo de datos.\n",
    "* Sin embargo, las listas de Python no logran ofrecer el rendimiento necesario al realizar cálculos con conjuntos de datos numéricos grandes. Para resolver este problema, utilizamos arreglos de NumPy.\n",
    "* Podemos crear arreglos de NumPy convirtiendo una lista en un arreglo.\n"
   ]
  },
  {
   "cell_type": "code",
   "execution_count": null,
   "metadata": {
    "id": "-iMbhbKUS01I"
   },
   "outputs": [],
   "source": [
    "# Definimos una lista de strings y una lista de números\n",
    "arr_str = ['Mercedes', 'BMW', 'Audi', 'Ferrari', 'Tesla']\n",
    "\n",
    "arr_num = [5, 4, 6, 7, 3]"
   ]
  },
  {
   "cell_type": "code",
   "execution_count": null,
   "metadata": {
    "colab": {
     "base_uri": "https://localhost:8080/"
    },
    "id": "z8kfV796S0xz",
    "outputId": "50939065-2bd9-4a17-b964-5eeaa316692e"
   },
   "outputs": [],
   "source": [
    "# Ahora convertimos cada una de las listas a un arregle de Numpy\n",
    "np_arr_str = np.array(arr_str)\n",
    "np_arr_num = np.array(arr_num)\n",
    "\n",
    "# Verificamos las salidas\n",
    "print('Numpy Array (arr_str): ',np_arr_str)\n",
    "print('Numpy Array (arr_num): ',np_arr_num)"
   ]
  },
  {
   "attachments": {},
   "cell_type": "markdown",
   "metadata": {
    "id": "fNUnCIRbS0vz"
   },
   "source": [
    "Los resultados se ven similares a una lista, pero arr_str y arr_num se han convertido en arreglos de NumPy. Verifiquemos el tipo de datos para confirmarlo."
   ]
  },
  {
   "cell_type": "code",
   "execution_count": null,
   "metadata": {
    "colab": {
     "base_uri": "https://localhost:8080/"
    },
    "id": "Cc_-eibuS0sr",
    "outputId": "ebc63d17-983d-477e-910c-ee2ae37874d5"
   },
   "outputs": [],
   "source": [
    "# Imprimiendo el tipo de datos de las listas\n",
    "print('Data type of arr_str: ',type(arr_str))\n",
    "print('Data type of arr_num: ',type(arr_num))\n",
    "\n",
    "# Imprimiendo el tipo de datos de los arreglos numpy\n",
    "print('Data type of np_arr_str: ',type(np_arr_str))\n",
    "print('Data type of np_arr_num: ',type(np_arr_num))"
   ]
  },
  {
   "cell_type": "code",
   "execution_count": null,
   "metadata": {},
   "outputs": [],
   "source": [
    "# Algunas funciones básicas de arreglos\n",
    "np_arr_str"
   ]
  },
  {
   "cell_type": "code",
   "execution_count": null,
   "metadata": {},
   "outputs": [],
   "source": [
    "len(np_arr_str)"
   ]
  },
  {
   "cell_type": "code",
   "execution_count": null,
   "metadata": {},
   "outputs": [],
   "source": [
    "np_arr_str.shape"
   ]
  },
  {
   "attachments": {},
   "cell_type": "markdown",
   "metadata": {
    "id": "vO-p9figS0qt"
   },
   "source": [
    "**NumPy Matrix**"
   ]
  },
  {
   "attachments": {},
   "cell_type": "markdown",
   "metadata": {
    "id": "63nVxGI-dEFn"
   },
   "source": [
    "* Una matriz es una estructura de datos bidimensional en la que los elementos se organizan en filas y columnas.\n",
    "* Una matriz se puede crear utilizando una lista de listas."
   ]
  },
  {
   "cell_type": "code",
   "execution_count": null,
   "metadata": {
    "colab": {
     "base_uri": "https://localhost:8080/"
    },
    "id": "eHL0aPSOS0fT",
    "outputId": "132702a2-23e9-4d5a-f075-5f88c45cf9e8"
   },
   "outputs": [],
   "source": [
    "# Digamos que tenemos información sobre diferentes números de cilindros en varios coches y queremos mostrarlos en un formato de matriz. \n",
    "matrix = np.array([[1,2,1],[4,5,9],[1,8,9]])\n",
    "print(matrix)"
   ]
  },
  {
   "cell_type": "code",
   "execution_count": null,
   "metadata": {
    "colab": {
     "base_uri": "https://localhost:8080/"
    },
    "id": "1l5-7_3T2svj",
    "outputId": "4c2f6aea-50bd-472c-b25a-64474f2b4f19"
   },
   "outputs": [],
   "source": [
    "print('Tipo de Dato de la matriz: ',type(matrix))"
   ]
  },
  {
   "attachments": {},
   "cell_type": "markdown",
   "metadata": {
    "id": "ic8DdniJAYi4"
   },
   "source": [
    "* Observamos que todos los objetos de NumPy tienen el tipo de dato \"ndarray\"."
   ]
  },
  {
   "attachments": {},
   "cell_type": "markdown",
   "metadata": {
    "id": "s_QCIWxNPywk"
   },
   "source": [
    "### 2.2 NumPy Functions"
   ]
  },
  {
   "attachments": {},
   "cell_type": "markdown",
   "metadata": {
    "id": "9ByN9uM8dIp9"
   },
   "source": [
    "**Hay diferentes formas de crear arreglos de NumPy utilizando las funciones disponibles en la biblioteca NumPy.**"
   ]
  },
  {
   "attachments": {},
   "cell_type": "markdown",
   "metadata": {
    "id": "mJD-BCvcdjQY"
   },
   "source": [
    "**Usando np.arange() function**\n",
    "* La función np.arange() devuelve un arreglo con elementos espaciados de manera uniforme según el intervalo. El intervalo mencionado es semiacotado, es decir, el inicio está incluido, pero el final está excluido.\n",
    "* Tiene los siguientes parámetros:\n",
    "    * start: inicio del intervalo. Por defecto, start = 0.\n",
    "    * stop: final del intervalo.\n",
    "    * step: tamaño del paso del intervalo. Por defecto, el tamaño del paso es 1."
   ]
  },
  {
   "cell_type": "code",
   "execution_count": null,
   "metadata": {
    "colab": {
     "base_uri": "https://localhost:8080/"
    },
    "id": "h6yhwhCfdhrO",
    "outputId": "fda5860e-df9b-4d27-993e-e4c565e1566c"
   },
   "outputs": [],
   "source": [
    "arr2  = np.arange(start = 0, stop = 10) # 10 no se considera\n",
    "print(arr2)\n",
    "\n",
    "# o\n",
    "\n",
    "arr2  = np.arange(0,10) \n",
    "print(arr2)"
   ]
  },
  {
   "cell_type": "code",
   "execution_count": null,
   "metadata": {
    "colab": {
     "base_uri": "https://localhost:8080/"
    },
    "id": "EBQxWv87gij1",
    "outputId": "6cf9a56a-44f9-4115-fa7c-ac04a972c8ae"
   },
   "outputs": [],
   "source": [
    "# Agregando un tamaño de paso de 5 para crear un arreglo usando np.arrange\n",
    "arr3  = np.arange(start = 0, stop = 20, step = 5)\n",
    "arr3"
   ]
  },
  {
   "attachments": {},
   "cell_type": "markdown",
   "metadata": {
    "id": "fadu1DMxge1S"
   },
   "source": [
    "**Usando np.linspace()**\n",
    "* La función np.linspace() devuelve números que están distribuidos de manera uniforme con respecto al intervalo. En este caso, tanto el inicio como el final están incluidos.\n",
    "* Tiene los siguientes parámetros:\n",
    "    * start: inicio del intervalo. Por defecto, start = 0.\n",
    "    * stop: final del intervalo.\n",
    "    * num: número de muestras a generar. Por defecto, num = 50."
   ]
  },
  {
   "cell_type": "code",
   "execution_count": null,
   "metadata": {
    "colab": {
     "base_uri": "https://localhost:8080/"
    },
    "id": "AvnueiSGdhb7",
    "outputId": "36fba42d-c65d-4bad-ef71-d61d63a8c1fe"
   },
   "outputs": [],
   "source": [
    "matrix2 = np.linspace(0,5) # Por defecto divide los datos en 50\n",
    "matrix2"
   ]
  },
  {
   "cell_type": "code",
   "execution_count": null,
   "metadata": {
    "colab": {
     "base_uri": "https://localhost:8080/"
    },
    "id": "0VDGGmj2dhPp",
    "outputId": "cac9cc70-600a-4adf-e22e-434124aaf799"
   },
   "outputs": [],
   "source": [
    "#  Generando 10 valores equidistantes entre 10 y 20.\n",
    "matrix3 = np.linspace(10,20,10)\n",
    "matrix3"
   ]
  },
  {
   "attachments": {},
   "cell_type": "markdown",
   "metadata": {
    "id": "8Nxn51w2dhEE"
   },
   "source": [
    "**De manera similar, podemos crear matrices utilizando las funciones disponibles en la biblioteca NumPy.**"
   ]
  },
  {
   "attachments": {},
   "cell_type": "markdown",
   "metadata": {
    "id": "x9brl-h9dg2b"
   },
   "source": [
    "**Usando np.zeros()**\n",
    "\n",
    "* La función np.zeros() se utiliza para crear una matriz y realizar operaciones de matriz en NumPy.\n",
    "* Devuelve una matriz rellena con ceros del tamaño especificado.\n",
    "* Tiene los siguientes parámetros:\n",
    "  * shape: Número de filas y columnas en la matriz de salida.\n",
    "  * dtype: tipo de datos de los elementos en la matriz, de forma predeterminada el valor se establece en float (flotante)."
   ]
  },
  {
   "cell_type": "code",
   "execution_count": null,
   "metadata": {
    "colab": {
     "base_uri": "https://localhost:8080/"
    },
    "id": "zcfKm8ENjNQv",
    "outputId": "4a8d5249-f458-4d18-cb09-54c306d313c6"
   },
   "outputs": [],
   "source": [
    "matrix4 = np.zeros([3,5])\n",
    "matrix4"
   ]
  },
  {
   "attachments": {},
   "cell_type": "markdown",
   "metadata": {
    "id": "8jy4YykQjICK"
   },
   "source": [
    "**Usando np.ones()**\n",
    "\n",
    "* La función np.ones() es otra función para crear una matriz y realizar operaciones de matriz en NumPy.\n",
    "* Devuelve una matriz del tamaño y tipo especificados, rellena con unos.\n",
    "* Tiene los siguientes parámetros:\n",
    "  * shape: Número de filas y columnas en la matriz de salida.\n",
    "  * dtype: tipo de datos de los elementos en la matriz, de forma predeterminada el valor se establece en `float` (flotante)."
   ]
  },
  {
   "cell_type": "code",
   "execution_count": null,
   "metadata": {
    "colab": {
     "base_uri": "https://localhost:8080/"
    },
    "id": "JJ-hv5dcjRN1",
    "outputId": "36153c38-6165-452a-a1ac-d38a31f07661"
   },
   "outputs": [],
   "source": [
    "matrix5 = np.ones([3,5])\n",
    "matrix5"
   ]
  },
  {
   "attachments": {},
   "cell_type": "markdown",
   "metadata": {
    "id": "ge-0i4W2jH4S"
   },
   "source": [
    "**Usando np.eye()**\n",
    "* La función np.eye() se utiliza para crear una matriz y realizar operaciones de matriz en NumPy.\n",
    "* Devuelve una matriz con unos en la diagonal y ceros en las demás posiciones.\n",
    "* Tiene los siguientes parámetros:\n",
    "  * n: Número de filas y columnas en la matriz de salida.\n",
    "  * dtype: tipo de datos de los elementos en la matriz, de forma predeterminada el valor se establece en `float` (flotante)."
   ]
  },
  {
   "cell_type": "code",
   "execution_count": null,
   "metadata": {
    "colab": {
     "base_uri": "https://localhost:8080/"
    },
    "id": "2a0_OXeWjHou",
    "outputId": "9830d274-756f-4a26-aa37-5dca29341c8b"
   },
   "outputs": [],
   "source": [
    "matrix6 = np.eye(5)\n",
    "matrix6"
   ]
  },
  {
   "attachments": {},
   "cell_type": "markdown",
   "metadata": {
    "id": "DkJp6gB1dgHl"
   },
   "source": [
    "**También podemos convertir un arreglo unidimensional en una matriz. Esto se puede hacer utilizando la función np.reshape()**"
   ]
  },
  {
   "attachments": {},
   "cell_type": "markdown",
   "metadata": {
    "id": "ifxHtcyyuVsX"
   },
   "source": [
    "* La forma de un arreglo básicamente indica el número de elementos y las dimensiones del arreglo. Cambiar la forma de un arreglo de NumPy significa simplemente cambiar la forma del arreglo dado.\n",
    "* Al cambiar la forma de un arreglo, podemos agregar o eliminar dimensiones o cambiar el número de elementos en cada dimensión.\n",
    "* Para cambiar la forma de un arreglo de NumPy, utilizamos el método `reshape` con el arreglo dado.\n",
    "* **Sintaxis:** array.reshape(shape)\n",
    "  * shape: una tupla proporcionada como entrada, los valores en la tupla serán la nueva forma del arreglo."
   ]
  },
  {
   "cell_type": "code",
   "execution_count": null,
   "metadata": {
    "colab": {
     "base_uri": "https://localhost:8080/"
    },
    "id": "iYbHCKdPk5hb",
    "outputId": "69eb5afb-0861-4b01-e98f-4419f3939f18"
   },
   "outputs": [],
   "source": [
    "# Definimos un arreglo del 0 al 9\n",
    "arr4 = np.arange(0,10) \n",
    "arr4"
   ]
  },
  {
   "cell_type": "code",
   "execution_count": null,
   "metadata": {
    "colab": {
     "base_uri": "https://localhost:8080/"
    },
    "id": "SE6wnu1MlbXv",
    "outputId": "6a5ed1f8-4bb9-459e-fb12-f38cd34eca1d"
   },
   "outputs": [],
   "source": [
    "# Cambiando la forma del arreglo arr4 a una matriz de 2 x 5.\n",
    "arr4_reshaped = arr4.reshape((2,5))\n",
    "arr4_reshaped"
   ]
  },
  {
   "cell_type": "code",
   "execution_count": null,
   "metadata": {
    "colab": {
     "base_uri": "https://localhost:8080/"
    },
    "id": "KbuGcnPLFT2m",
    "outputId": "32b75568-94ac-423b-abf6-7476e614e7f4"
   },
   "outputs": [],
   "source": [
    "arr4"
   ]
  },
  {
   "cell_type": "code",
   "execution_count": null,
   "metadata": {
    "colab": {
     "base_uri": "https://localhost:8080/",
     "height": 183
    },
    "id": "HRqcE-TT_-dQ",
    "outputId": "5a1d0d35-93b0-4afd-899e-d30c7cf71074"
   },
   "outputs": [],
   "source": [
    "# y a una matriz de 2x6?\n",
    "arr4.reshape((2,6))"
   ]
  },
  {
   "attachments": {},
   "cell_type": "markdown",
   "metadata": {
    "id": "7DGMoYswCocf"
   },
   "source": [
    "* Esto no funcionó porque tenemos 10 elementos que estamos intentando ajustar en una forma de 2 x 6, lo cual requeriría 12 elementos."
   ]
  },
  {
   "attachments": {},
   "cell_type": "markdown",
   "metadata": {
    "id": "lNd_TddVQtWI"
   },
   "source": [
    "**NumPy también puede realizar una gran cantidad de operaciones matemáticas diferentes y proporciona diferentes funciones para hacerlo.**\n",
    "\n",
    "NumPy proporciona:\n",
    "\n",
    "1. Funciones trigonométricas.\n",
    "2. Funciones exponenciales y logarítmicas.\n",
    "3. Funciones para operaciones aritméticas entre arreglos y matrices."
   ]
  },
  {
   "attachments": {},
   "cell_type": "markdown",
   "metadata": {
    "id": "CE9wPRdYn5IB"
   },
   "source": [
    "**Trigonometric functions**"
   ]
  },
  {
   "cell_type": "code",
   "execution_count": null,
   "metadata": {
    "colab": {
     "base_uri": "https://localhost:8080/"
    },
    "id": "6iKAU71XQBXn",
    "outputId": "09199fcb-7f25-4042-8ce2-67d7850f40f4"
   },
   "outputs": [],
   "source": [
    "print('Sine Function:',np.sin(4))\n",
    "print('Cosine Function:',np.cos(4))\n",
    "print('Tan Function',np.tan(4))"
   ]
  },
  {
   "attachments": {},
   "cell_type": "markdown",
   "metadata": {
    "id": "9QWy471mQEXT"
   },
   "source": [
    "**Exponentes y Logaritmos**"
   ]
  },
  {
   "cell_type": "code",
   "execution_count": null,
   "metadata": {
    "colab": {
     "base_uri": "https://localhost:8080/"
    },
    "id": "aanbLXltoDgt",
    "outputId": "7ac751b7-9076-470b-eff1-80eeca56be42"
   },
   "outputs": [],
   "source": [
    "np.exp(2)"
   ]
  },
  {
   "cell_type": "code",
   "execution_count": null,
   "metadata": {
    "colab": {
     "base_uri": "https://localhost:8080/"
    },
    "id": "9VUfgN_oomI7",
    "outputId": "4af679a2-d011-4ad2-9f84-14a7ef086678"
   },
   "outputs": [],
   "source": [
    "arr5 = np.array([2,4,6])\n",
    "np.exp(arr5)"
   ]
  },
  {
   "cell_type": "code",
   "execution_count": null,
   "metadata": {
    "colab": {
     "base_uri": "https://localhost:8080/"
    },
    "id": "7V8RWfDipHOQ",
    "outputId": "40468f42-1de4-4d1d-c2cf-60c491d190f0"
   },
   "outputs": [],
   "source": [
    "# Por default toma el logaritmo base e\n",
    "np.log(2)"
   ]
  },
  {
   "cell_type": "code",
   "execution_count": null,
   "metadata": {
    "colab": {
     "base_uri": "https://localhost:8080/"
    },
    "id": "CH5eCec2pJLo",
    "outputId": "ce25cb54-452f-4724-b61a-198bc2027cc2"
   },
   "outputs": [],
   "source": [
    "np.log(arr5)"
   ]
  },
  {
   "cell_type": "code",
   "execution_count": null,
   "metadata": {
    "colab": {
     "base_uri": "https://localhost:8080/"
    },
    "id": "bgam8aXTpOVc",
    "outputId": "520df4df-adcf-4365-9725-1347e7656ebc"
   },
   "outputs": [],
   "source": [
    "## Para logaritmo con base 10 usar log10\n",
    "np.log10(8) "
   ]
  },
  {
   "attachments": {},
   "cell_type": "markdown",
   "metadata": {
    "id": "jDCujvq0pWZr"
   },
   "source": [
    "**Operaciones Aritméticas con Arreglos**"
   ]
  },
  {
   "cell_type": "code",
   "execution_count": null,
   "metadata": {
    "colab": {
     "base_uri": "https://localhost:8080/"
    },
    "id": "SXFDL0TeKJZT",
    "outputId": "88bbcc2e-4963-4607-fab6-2a5edb899e08"
   },
   "outputs": [],
   "source": [
    "# Usando listas\n",
    "\n",
    "l1 = [1,2,3]\n",
    "l2 = [4,5,6]\n",
    "print(l1+l2)\n",
    "# Está correcto?\n"
   ]
  },
  {
   "cell_type": "code",
   "execution_count": null,
   "metadata": {
    "colab": {
     "base_uri": "https://localhost:8080/"
    },
    "id": "MHZKZFP8ppQx",
    "outputId": "c2aacb8a-7ae1-40f3-9c76-25f8222247c4"
   },
   "outputs": [],
   "source": [
    "# Definimos 2 arreglos numpy\n",
    "\n",
    "arr7 = np.arange(1,6)\n",
    "print('arr7:', arr7)\n",
    "\n",
    "arr8 = np.arange(3,8)\n",
    "print('arr8:', arr8)"
   ]
  },
  {
   "cell_type": "code",
   "execution_count": null,
   "metadata": {
    "colab": {
     "base_uri": "https://localhost:8080/"
    },
    "id": "xkMkQOL8rHOw",
    "outputId": "28d1dfd5-9dcc-43e3-e6ca-74af5cd26486"
   },
   "outputs": [],
   "source": [
    "print('Addition: ',arr7+arr8)\n",
    "print('Subtraction: ',arr8-arr7)\n",
    "print('Multiplication:' , arr7*arr8)\n",
    "print('Division:', arr7/arr8)\n",
    "print('Inverse:', 1/arr7)\n",
    "print('Powers:', arr7**arr8) # in python, powers are achieved using **, NOT ^!!! ^ does something completely different!"
   ]
  },
  {
   "attachments": {},
   "cell_type": "markdown",
   "metadata": {
    "id": "SrE8fcrFtt7c"
   },
   "source": [
    "**Operaciones con Matrices**"
   ]
  },
  {
   "cell_type": "code",
   "execution_count": null,
   "metadata": {
    "colab": {
     "base_uri": "https://localhost:8080/"
    },
    "id": "p-lZfDhUrb2b",
    "outputId": "4d0618b6-0d12-4f61-cf5a-b967db9bbe4c"
   },
   "outputs": [],
   "source": [
    "matrix7 = np.arange(1,10).reshape(3,3)\n",
    "print(matrix7)\n",
    "\n",
    "matrix8 = np.eye(3)\n",
    "print(matrix8)"
   ]
  },
  {
   "cell_type": "code",
   "execution_count": null,
   "metadata": {
    "colab": {
     "base_uri": "https://localhost:8080/"
    },
    "id": "VGBAxsUUtyts",
    "outputId": "cd1b0dd5-1b4f-4815-8192-7ff4c22970f3"
   },
   "outputs": [],
   "source": [
    "print('Addition: \\n', matrix7+matrix8)\n",
    "print('Subtraction: \\n ', matrix7-matrix8)\n",
    "print('Multiplication: \\n', matrix7*matrix8)\n",
    "print('Division: \\n', matrix7/matrix8)"
   ]
  },
  {
   "attachments": {},
   "cell_type": "markdown",
   "metadata": {
    "id": "c7jHF8Od6mHH"
   },
   "source": [
    "* RuntimeWarning: Los errores que ocurren durante la ejecución del programa (tiempo de ejecución) después de una compilación exitosa se llaman errores de tiempo de ejecución.\n",
    "* Uno de los errores de tiempo de ejecución más comunes es la división por cero, también conocida como error de división.\n",
    "* Debido al error de división por cero, obtenemos valores \"inf\" (infinito) porque 1/0 no es una operación definida."
   ]
  },
  {
   "attachments": {},
   "cell_type": "markdown",
   "metadata": {
    "id": "3WYcA-OxyL9Y"
   },
   "source": [
    "**Algebra Lineal: Multiplicación de matrices**"
   ]
  },
  {
   "cell_type": "code",
   "execution_count": null,
   "metadata": {
    "colab": {
     "base_uri": "https://localhost:8080/"
    },
    "id": "nc0PAuG3sM6A",
    "outputId": "114bbac2-1d8a-4c8d-fd87-d5d077b9058c"
   },
   "outputs": [],
   "source": [
    "matrix9 = np.arange(1,10).reshape(3,3)\n",
    "print('First Matrix: \\n',matrix9)\n",
    "\n",
    "matrix10 = np.arange(11,20).reshape(3,3)\n",
    "print('Second Matrix: \\n',matrix10)\n",
    "print('')\n",
    "# Realizando la multiplicación de matrices en álgebra lineal (algunos pueden haberlo escuchado como el producto punto).\n",
    "print('Multiplication: \\n', matrix9 @ matrix10)"
   ]
  },
  {
   "attachments": {},
   "cell_type": "markdown",
   "metadata": {
    "id": "LQVkMw7Iynfu"
   },
   "source": [
    "**Transpuesta de una matriz**"
   ]
  },
  {
   "cell_type": "code",
   "execution_count": null,
   "metadata": {
    "colab": {
     "base_uri": "https://localhost:8080/"
    },
    "id": "DJp3NtsrsSM4",
    "outputId": "f4a31d84-dba8-4d9a-c2f1-22500d08f49a"
   },
   "outputs": [],
   "source": [
    "print(matrix9)"
   ]
  },
  {
   "cell_type": "code",
   "execution_count": null,
   "metadata": {
    "colab": {
     "base_uri": "https://localhost:8080/"
    },
    "id": "MDKJgUlptKet",
    "outputId": "02f933fe-5d15-4d9d-cbaf-f8128df10709"
   },
   "outputs": [],
   "source": [
    "# Transpuesta de una matriz\n",
    "np.transpose(matrix9)"
   ]
  },
  {
   "cell_type": "code",
   "execution_count": null,
   "metadata": {
    "colab": {
     "base_uri": "https://localhost:8080/"
    },
    "id": "PwwpvruatMRj",
    "outputId": "c7e89f4b-1226-4664-c0a0-27793f54d1cc"
   },
   "outputs": [],
   "source": [
    "# Otra forma de calcular la transpuesta\n",
    "matrix9.T"
   ]
  },
  {
   "attachments": {},
   "cell_type": "markdown",
   "metadata": {
    "id": "YSl_vQk70bCS"
   },
   "source": [
    "**Función para encontrar los valores mínimo y máximo.**"
   ]
  },
  {
   "cell_type": "code",
   "execution_count": null,
   "metadata": {
    "colab": {
     "base_uri": "https://localhost:8080/"
    },
    "id": "TmPZB7tu0a2c",
    "outputId": "d1829f3f-bcdc-4e7d-f162-7048d1bc7a8f"
   },
   "outputs": [],
   "source": [
    "print(matrix9)"
   ]
  },
  {
   "cell_type": "code",
   "execution_count": null,
   "metadata": {
    "colab": {
     "base_uri": "https://localhost:8080/"
    },
    "id": "394LL_BZ0alr",
    "outputId": "d941df07-08d5-41a8-e37b-deab1b4647e6"
   },
   "outputs": [],
   "source": [
    "print('Minimum value: ',np.min(matrix9))"
   ]
  },
  {
   "cell_type": "code",
   "execution_count": null,
   "metadata": {
    "colab": {
     "base_uri": "https://localhost:8080/"
    },
    "id": "SVs2Zx0J0ac3",
    "outputId": "06454e1d-c4e5-4ecf-e9cf-755f93b56990"
   },
   "outputs": [],
   "source": [
    "print('Maximum value: ',np.max(matrix9))"
   ]
  },
  {
   "attachments": {},
   "cell_type": "markdown",
   "metadata": {
    "id": "7NNtvTmh0aRf"
   },
   "source": [
    "**Función para generar números aleatorios**"
   ]
  },
  {
   "attachments": {},
   "cell_type": "markdown",
   "metadata": {
    "id": "XO47Cq8L3Gb3"
   },
   "source": [
    "**Uso de la función np.random.rand**\n",
    "\n",
    "* La función `np.random.rand` devuelve un array NumPy aleatorio cuyos elementos se eligen al azar de la distribución uniforme en el intervalo [0, 1) (incluyendo 0 pero excluyendo 1).\n",
    "* **Sintaxis** - `np.random.rand(d0, d1)`\n",
    "  * `d0, d1` - Representan las dimensiones del array requerido, proporcionadas como enteros, donde `d1` es opcional."
   ]
  },
  {
   "cell_type": "code",
   "execution_count": null,
   "metadata": {
    "colab": {
     "base_uri": "https://localhost:8080/"
    },
    "id": "Neq3fBGH4N7F",
    "outputId": "2f6b4a8b-dcc1-4c90-defe-1a84854ea3f9"
   },
   "outputs": [],
   "source": [
    "# Generando números aleatorios en un array\n",
    "rand_mat = np.random.rand(5)\n",
    "print(rand_mat)"
   ]
  },
  {
   "cell_type": "code",
   "execution_count": null,
   "metadata": {
    "colab": {
     "base_uri": "https://localhost:8080/"
    },
    "id": "QQHFrAce1570",
    "outputId": "e03aad3b-e7be-4b72-e9b3-e578f183f6d3"
   },
   "outputs": [],
   "source": [
    "# * Generando números aleatorios en una matriz\n",
    "rand_mat = np.random.rand(5,5) # uniform random variable\n",
    "print(rand_mat)"
   ]
  },
  {
   "attachments": {},
   "cell_type": "markdown",
   "metadata": {
    "id": "VvvK-7Sh3PfD"
   },
   "source": [
    "**Uso de la función np.random.randn**\n",
    "\n",
    "* La función `np.random.randn` devuelve un array NumPy aleatorio cuyas muestras se seleccionan al azar de la distribución normal estándar (con media 0 y desviación estándar 1).\n",
    "\n",
    "* **Sintaxis** - `np.random.randn(d0, d1)`\n",
    "  * `d0, d1` - Representan las dimensiones de la salida, donde `d1` es opcional."
   ]
  },
  {
   "cell_type": "code",
   "execution_count": null,
   "metadata": {
    "colab": {
     "base_uri": "https://localhost:8080/"
    },
    "id": "Ll_boKdQ4Y-b",
    "outputId": "d0c6a31c-b66a-47e8-ab1a-af3b829066ae"
   },
   "outputs": [],
   "source": [
    "# Generando números aleatorios en un array\n",
    "rand_mat2 = np.random.randn(5) \n",
    "print(rand_mat2)"
   ]
  },
  {
   "cell_type": "code",
   "execution_count": null,
   "metadata": {
    "colab": {
     "base_uri": "https://localhost:8080/"
    },
    "id": "1jaiT-oZ2CyD",
    "outputId": "ead08d0e-f194-4631-aeaa-e90dcc245c8e"
   },
   "outputs": [],
   "source": [
    "# Generando números aleatorios en una matriz\n",
    "rand_mat2 = np.random.randn(5,5) \n",
    "print(rand_mat2)"
   ]
  },
  {
   "cell_type": "code",
   "execution_count": null,
   "metadata": {
    "colab": {
     "base_uri": "https://localhost:8080/"
    },
    "id": "TldcCrOS5ulV",
    "outputId": "754c72ad-7f9b-459d-9640-72eba1e5a46f"
   },
   "outputs": [],
   "source": [
    "# Revisemos el promedio y std\n",
    "print('Mean:',np.mean(rand_mat2))\n",
    "print('Standard Deviation:',np.std(rand_mat2))"
   ]
  },
  {
   "attachments": {},
   "cell_type": "markdown",
   "metadata": {
    "id": "66BnHAPW6Ere"
   },
   "source": [
    "*  Observamos que la media es muy cercana a 0 y la desviación estándar es muy cercana a 1."
   ]
  },
  {
   "attachments": {},
   "cell_type": "markdown",
   "metadata": {
    "id": "T_0yFxGh3U2D"
   },
   "source": [
    "**Uso de la función np.random.randint**\n",
    "\n",
    "* La función `np.random.randint` devuelve un array NumPy aleatorio cuyos elementos se eligen al azar desde el límite inferior (inclusive) hasta el límite superior (exclusivo).\n",
    "\n",
    "* **Sintaxis** - `np.random.randint(low, high, size)`\n",
    "  * `low` - Representa el límite inferior inclusivo de la distribución desde donde se pueden extraer las muestras.\n",
    "  * `high` - Representa el límite superior exclusivo de la distribución desde donde se pueden extraer las muestras.\n",
    "  * `size` - Representa la forma de la salida."
   ]
  },
  {
   "cell_type": "code",
   "execution_count": null,
   "metadata": {
    "colab": {
     "base_uri": "https://localhost:8080/"
    },
    "id": "vLPM7a0N2EHA",
    "outputId": "212b2ad7-46cb-4e30-f1cd-4d559db99fcb"
   },
   "outputs": [],
   "source": [
    "\n",
    "rand_mat3 = np.random.randint(1,5,10)\n",
    "print(rand_mat3)"
   ]
  },
  {
   "cell_type": "code",
   "execution_count": null,
   "metadata": {
    "colab": {
     "base_uri": "https://localhost:8080/"
    },
    "id": "u9YqKltk486n",
    "outputId": "772fdcf1-1dcb-4fd7-f738-3324285b6ff3"
   },
   "outputs": [],
   "source": [
    "\n",
    "rand_mat3 = np.random.randint(1,10,[5,5])\n",
    "print(rand_mat3)"
   ]
  },
  {
   "attachments": {},
   "cell_type": "markdown",
   "metadata": {
    "id": "J-K_ecWJ6M6n"
   },
   "source": [
    "### 2.3 Accediento a elementos de una matriz"
   ]
  },
  {
   "cell_type": "code",
   "execution_count": null,
   "metadata": {
    "colab": {
     "base_uri": "https://localhost:8080/"
    },
    "id": "4Tiy6KJw3a5A",
    "outputId": "40debad6-e1cc-4c14-dce4-c69453246dea"
   },
   "outputs": [],
   "source": [
    "# Generemos una matriz con 10 valores aleatorios\n",
    "rand_arr = np.random.randn(10)\n",
    "print(rand_arr)"
   ]
  },
  {
   "attachments": {},
   "cell_type": "markdown",
   "metadata": {
    "id": "gJlNtFKwaZUv"
   },
   "source": [
    "* Accedemos a 1 elemento"
   ]
  },
  {
   "cell_type": "code",
   "execution_count": null,
   "metadata": {
    "colab": {
     "base_uri": "https://localhost:8080/"
    },
    "id": "PtSqbI-Y3awc",
    "outputId": "af3f7205-de8c-49b9-b3dd-a976a5ef4e4c"
   },
   "outputs": [],
   "source": [
    "\n",
    "print(rand_arr[6])"
   ]
  },
  {
   "attachments": {},
   "cell_type": "markdown",
   "metadata": {
    "id": "Ywt2eQx-aZUv"
   },
   "source": [
    "* Accedemos a múltiples elementos"
   ]
  },
  {
   "cell_type": "code",
   "execution_count": null,
   "metadata": {
    "colab": {
     "base_uri": "https://localhost:8080/"
    },
    "id": "HZ8Yb_3h3amG",
    "outputId": "750954eb-c35c-45ab-8d97-758702a865e6"
   },
   "outputs": [],
   "source": [
    "\n",
    "print(rand_arr[4:9])"
   ]
  },
  {
   "cell_type": "code",
   "execution_count": null,
   "metadata": {
    "colab": {
     "base_uri": "https://localhost:8080/"
    },
    "id": "pNcRsFbK3aZP",
    "outputId": "c253f8c1-bba7-40cc-d54c-86863c6e8798"
   },
   "outputs": [],
   "source": [
    "# Accedemos a posiciones no consecutivas\n",
    "print('Index de los valores a acceder: ',np.arange(3,10,3))\n",
    "print(rand_arr[np.arange(3,10,3)])"
   ]
  },
  {
   "attachments": {},
   "cell_type": "markdown",
   "metadata": {
    "id": "m0_dOkPKc7bL"
   },
   "source": [
    "**Accedemos usando operaciones lógicas**"
   ]
  },
  {
   "cell_type": "code",
   "execution_count": null,
   "metadata": {
    "colab": {
     "base_uri": "https://localhost:8080/"
    },
    "id": "_8v77EwOcwPM",
    "outputId": "c89f7bdb-ccd0-4a69-d914-2c754c93c6ec"
   },
   "outputs": [],
   "source": [
    "print(rand_arr)"
   ]
  },
  {
   "cell_type": "code",
   "execution_count": null,
   "metadata": {
    "colab": {
     "base_uri": "https://localhost:8080/"
    },
    "id": "u7QvbkGfc_Mf",
    "outputId": "e8d20b7e-19a9-4128-982c-787e19412c1a"
   },
   "outputs": [],
   "source": [
    "rand_arr>0"
   ]
  },
  {
   "cell_type": "code",
   "execution_count": null,
   "metadata": {
    "colab": {
     "base_uri": "https://localhost:8080/"
    },
    "id": "PwjFRjDiczAS",
    "outputId": "a41c1aa0-7fef-4053-f243-7b8df7eed3d1"
   },
   "outputs": [],
   "source": [
    "# Accedemos a todos los valores > 0\n",
    "print('Valores mayores a 0: ',rand_arr[rand_arr>0])\n",
    "\n",
    "# y a los < 0\n",
    "print('Valores menores a 0: ',rand_arr[rand_arr<0])"
   ]
  },
  {
   "attachments": {},
   "cell_type": "markdown",
   "metadata": {
    "id": "9j2nb_lX3aKJ"
   },
   "source": [
    "**Accessing the entries of a Matrix**"
   ]
  },
  {
   "cell_type": "code",
   "execution_count": null,
   "metadata": {
    "colab": {
     "base_uri": "https://localhost:8080/"
    },
    "id": "rUT3MtuX3Z-o",
    "outputId": "2d5844c9-f29e-487d-f599-510db9ccce66"
   },
   "outputs": [],
   "source": [
    "# Generemos una matriz con números aleatorios\n",
    "rand_mat = np.random.randn(5,5)\n",
    "print(rand_mat)"
   ]
  },
  {
   "cell_type": "code",
   "execution_count": null,
   "metadata": {
    "colab": {
     "base_uri": "https://localhost:8080/"
    },
    "id": "aH5KNWYJ8AAi",
    "outputId": "95dddd73-7b44-441f-f1ca-9ef4bdbe517f"
   },
   "outputs": [],
   "source": [
    "# Accedemos a la segunda fila de la matriz\n",
    "rand_mat[1]"
   ]
  },
  {
   "cell_type": "code",
   "execution_count": null,
   "metadata": {
    "colab": {
     "base_uri": "https://localhost:8080/"
    },
    "id": "cKPauEeS3Zya",
    "outputId": "87ba94bb-f7ea-41f9-ee96-94bb03582dbd"
   },
   "outputs": [],
   "source": [
    "# Accedemos al tercer elemento del vector\n",
    "print(rand_mat[1][2])\n",
    "\n",
    "#o también\n",
    "\n",
    "print(rand_mat[1,2])"
   ]
  },
  {
   "cell_type": "code",
   "execution_count": null,
   "metadata": {
    "colab": {
     "base_uri": "https://localhost:8080/"
    },
    "id": "md90xMiX3ZhX",
    "outputId": "d9b022f4-9775-4033-ce20-de29677fffc1"
   },
   "outputs": [],
   "source": [
    "# Accedemos a las primeras 2 filas y las columnas 1 y 2\n",
    "print(rand_mat[0:2,1:3])"
   ]
  },
  {
   "attachments": {},
   "cell_type": "markdown",
   "metadata": {
    "id": "ZQIPaCTxdTkx"
   },
   "source": [
    "**Accediento matrices usando operaciones lógicas**"
   ]
  },
  {
   "cell_type": "code",
   "execution_count": null,
   "metadata": {
    "colab": {
     "base_uri": "https://localhost:8080/"
    },
    "id": "FPWAgqcMdTkx",
    "outputId": "22130ab2-c84a-48b3-dd19-2ce235cb1bb8"
   },
   "outputs": [],
   "source": [
    "print(rand_mat)"
   ]
  },
  {
   "cell_type": "code",
   "execution_count": null,
   "metadata": {
    "colab": {
     "base_uri": "https://localhost:8080/"
    },
    "id": "5pBwxeo_dTky",
    "outputId": "ba0e5fe5-db2b-4f98-d6b6-125f8516c493"
   },
   "outputs": [],
   "source": [
    "# Todos los valores >0\n",
    "print('Valores mayores a 0: \\n ',rand_mat[rand_mat>0])\n",
    "\n",
    "print('--------------------')\n",
    "# Todos los valores < 0\n",
    "print('Valores menores a 0: \\n',rand_mat[rand_mat<0])"
   ]
  },
  {
   "cell_type": "code",
   "execution_count": null,
   "metadata": {},
   "outputs": [],
   "source": [
    "rand_mat[rand_mat>0]"
   ]
  },
  {
   "attachments": {},
   "cell_type": "markdown",
   "metadata": {
    "id": "Rbc_yo5T8mmS"
   },
   "source": [
    "**Modificando elementos de un array**"
   ]
  },
  {
   "cell_type": "code",
   "execution_count": null,
   "metadata": {
    "colab": {
     "base_uri": "https://localhost:8080/"
    },
    "id": "2P57NUFJ8mMA",
    "outputId": "4c6f5d19-95d7-4ccc-ff28-fe76e18228d7"
   },
   "outputs": [],
   "source": [
    "print(rand_arr)"
   ]
  },
  {
   "cell_type": "code",
   "execution_count": null,
   "metadata": {
    "colab": {
     "base_uri": "https://localhost:8080/"
    },
    "id": "5dTfDf2d-DF7",
    "outputId": "c9f149ef-4463-401e-cb3d-fd6df3f1c404"
   },
   "outputs": [],
   "source": [
    "# Cambiemos algunos valores!\n",
    "rand_arr[3:5] = 5\n",
    "print(rand_arr)"
   ]
  },
  {
   "cell_type": "code",
   "execution_count": null,
   "metadata": {
    "colab": {
     "base_uri": "https://localhost:8080/"
    },
    "id": "dC1yVJLT-H9H",
    "outputId": "cac466b1-e851-46d3-d939-e8071ad058e7"
   },
   "outputs": [],
   "source": [
    "# Cambiamos los elementos de índice 0 a 2 y 3 respectivamente\n",
    "rand_arr[0:2] = [2,3]\n",
    "print(rand_arr)"
   ]
  },
  {
   "cell_type": "code",
   "execution_count": null,
   "metadata": {
    "colab": {
     "base_uri": "https://localhost:8080/"
    },
    "id": "wT3ishttMugE",
    "outputId": "0201c43a-03b1-489b-ff70-dae97a8c0557"
   },
   "outputs": [],
   "source": [
    "# Modificamos valores usando operaciones lógicas\n",
    "rand_arr[rand_arr>0] = 65\n",
    "rand_arr"
   ]
  },
  {
   "attachments": {},
   "cell_type": "markdown",
   "metadata": {
    "id": "lhoMit_Da8F4"
   },
   "source": [
    "**Modificamos elementos de una matriz**"
   ]
  },
  {
   "cell_type": "code",
   "execution_count": null,
   "metadata": {
    "colab": {
     "base_uri": "https://localhost:8080/"
    },
    "id": "fJ02uz8obsqC",
    "outputId": "235baae0-f38e-4a43-9f8e-5e422b8973b7"
   },
   "outputs": [],
   "source": [
    "print(rand_mat3)"
   ]
  },
  {
   "cell_type": "code",
   "execution_count": null,
   "metadata": {
    "colab": {
     "base_uri": "https://localhost:8080/"
    },
    "id": "dVNbm4oKNtkr",
    "outputId": "40ac65ce-41bd-4bc3-bc61-0ce7abad83c1"
   },
   "outputs": [],
   "source": [
    "print('Matriz antes de la modificación: \\n',rand_mat3)\n",
    "rand_mat3[1:3,3:5] = 0\n",
    "print('Matriz luego de la modificación: \\n',rand_mat3)"
   ]
  },
  {
   "cell_type": "code",
   "execution_count": null,
   "metadata": {
    "colab": {
     "base_uri": "https://localhost:8080/"
    },
    "id": "uP3butowNtvp",
    "outputId": "3d35ab10-b02c-4d68-b62d-5cb6f870fc6a"
   },
   "outputs": [],
   "source": [
    "# Extrayendo las 2 primeras filas y 3 primeros columnas de la matriz\n",
    "sub_mat = rand_mat3[0:2,0:3]\n",
    "print(sub_mat)"
   ]
  },
  {
   "cell_type": "code",
   "execution_count": null,
   "metadata": {
    "colab": {
     "base_uri": "https://localhost:8080/"
    },
    "id": "3DgctOvENt14",
    "outputId": "a467bb0d-8290-4f93-d50c-3a23c634d70c"
   },
   "outputs": [],
   "source": [
    "# Cambiamos todos los valores de sub_mat a 3\n",
    "sub_mat[:] = 3\n",
    "print(sub_mat)"
   ]
  },
  {
   "cell_type": "code",
   "execution_count": null,
   "metadata": {
    "colab": {
     "base_uri": "https://localhost:8080/"
    },
    "id": "hskgV9vG9lxx",
    "outputId": "ec90a56c-2f27-485e-e7b4-ef3a82b942a2"
   },
   "outputs": [],
   "source": [
    "# ¿Qué pasó con la matriz original luego que modificamos sub_mat?\n",
    "rand_mat3"
   ]
  },
  {
   "cell_type": "code",
   "execution_count": null,
   "metadata": {
    "colab": {
     "base_uri": "https://localhost:8080/"
    },
    "id": "PryCb2h29sHx",
    "outputId": "e1fdf33d-7740-4cf8-e99b-9d985643ef81"
   },
   "outputs": [],
   "source": [
    "#Para prevenir este comportamiento, debemos usar el método `.copy()` al asignar `sub_mat`.\n",
    "rand_mat = np.random.randn(5,5)\n",
    "print(rand_mat)\n",
    "print('----------------------')\n",
    "sub_mat = rand_mat[0:2,0:3].copy()\n",
    "sub_mat[:] = 3\n",
    "print(sub_mat)\n",
    "print('----------------------')\n",
    "print(rand_mat)"
   ]
  },
  {
   "attachments": {},
   "cell_type": "markdown",
   "metadata": {},
   "source": [
    "* Referencias\n",
    "    * Practical Machine Learning Class  \n",
    "    * https://nbviewer.org/github/albahnsen/PracticalMachineLearningClass/blob/master/notebooks/02-IntroPython_Numpy_Scypy_Pandas.ipynb\n",
    "\n",
    "    * Data Science and Machine Learning: Making Data-Driven Decisions| MIT IDSS\n",
    "\n",
    "    * Numpy: Official Documentation\n",
    "    * https://numpy.org/"
   ]
  },
  {
   "attachments": {},
   "cell_type": "markdown",
   "metadata": {},
   "source": []
  }
 ],
 "metadata": {
  "colab": {
   "collapsed_sections": [],
   "name": "Hands-on Notebook-NumPy.ipynb",
   "provenance": []
  },
  "kernelspec": {
   "display_name": "Python 3 (ipykernel)",
   "language": "python",
   "name": "python3"
  },
  "language_info": {
   "codemirror_mode": {
    "name": "ipython",
    "version": 3
   },
   "file_extension": ".py",
   "mimetype": "text/x-python",
   "name": "python",
   "nbconvert_exporter": "python",
   "pygments_lexer": "ipython3",
   "version": "3.9.7"
  }
 },
 "nbformat": 4,
 "nbformat_minor": 1
}
